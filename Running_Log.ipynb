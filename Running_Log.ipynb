{
  "nbformat": 4,
  "nbformat_minor": 0,
  "metadata": {
    "colab": {
      "name": "Running_Log.ipynb",
      "provenance": [],
      "collapsed_sections": [],
      "authorship_tag": "ABX9TyP3H/oPqbp6hPzZMYmPn6gV",
      "include_colab_link": true
    },
    "kernelspec": {
      "name": "python3",
      "display_name": "Python 3"
    }
  },
  "cells": [
    {
      "cell_type": "markdown",
      "metadata": {
        "id": "view-in-github",
        "colab_type": "text"
      },
      "source": [
        "<a href=\"https://colab.research.google.com/github/lilfetz22/Running_data/blob/Joining-Notes-columns/Running_Log.ipynb\" target=\"_parent\"><img src=\"https://colab.research.google.com/assets/colab-badge.svg\" alt=\"Open In Colab\"/></a>"
      ]
    },
    {
      "cell_type": "markdown",
      "metadata": {
        "id": "cEh45RbeBuDF"
      },
      "source": [
        "# **Running Log Analysis**"
      ]
    },
    {
      "cell_type": "markdown",
      "metadata": {
        "id": "Vm1JZlpH-xXc"
      },
      "source": [
        "###Goals\n"
      ]
    },
    {
      "cell_type": "markdown",
      "metadata": {
        "id": "ptM-ACrX-_ws"
      },
      "source": [
        "By 9/17 - complete pre-Garmin Data Wrangling\n",
        "1. check for any remaining information in Notes columns - done (9/17)\n",
        "2. Fix Date column and fill it in and make it agree with weekday (10/1)\n",
        "3. remove excess columns\n",
        "\n",
        "By 10/1 - Complete post-Garmin analysis\n",
        "1. Data Wrangling\n",
        "\n",
        "    a. filtering out activities from one another \n",
        "\n",
        "    b. comparing overlap from pre-garmin to post-Garmin records and fill in missing data"
      ]
    },
    {
      "cell_type": "markdown",
      "metadata": {
        "id": "zJP6tYJWru7z"
      },
      "source": [
        "# Pre-Garmin Data Wrangling"
      ]
    },
    {
      "cell_type": "code",
      "metadata": {
        "id": "aKHhB8aK6kep"
      },
      "source": [
        "import pandas as pd\n",
        "import re\n",
        "import numpy as np\n",
        "import math\n",
        "import calendar\n",
        "from datetime import timedelta"
      ],
      "execution_count": 1,
      "outputs": []
    },
    {
      "cell_type": "code",
      "metadata": {
        "id": "KqA75kWYsBr2",
        "outputId": "3d9d4e40-a2fa-46c6-c81a-c120e7adce60",
        "colab": {
          "base_uri": "https://localhost:8080/",
          "height": 34
        }
      },
      "source": [
        "from google.colab import drive\n",
        "drive.mount(\"/content/drive\")"
      ],
      "execution_count": 2,
      "outputs": [
        {
          "output_type": "stream",
          "text": [
            "Mounted at /content/drive\n"
          ],
          "name": "stdout"
        }
      ]
    },
    {
      "cell_type": "code",
      "metadata": {
        "id": "Hweps9IfYhkg"
      },
      "source": [
        "def findall_n_join_fx(df, note_col, new_col, search_string):\n",
        "    df.loc[:,new_col] = df.loc[:,note_col].str.findall(search_string)\n",
        "    df.loc[:,new_col] = df.loc[:,new_col].str.join('')\n",
        "    df.loc[:,note_col] = df.loc[:,note_col].str.replace(search_string, '')\n",
        "    return df"
      ],
      "execution_count": 3,
      "outputs": []
    },
    {
      "cell_type": "code",
      "metadata": {
        "id": "mOworDgxttRE",
        "outputId": "246f6ef5-c19e-45b2-c78e-6d3c0ff98d00",
        "colab": {
          "base_uri": "https://localhost:8080/",
          "height": 616
        }
      },
      "source": [
        "log_csv = pd.read_csv(\"/content/drive/My Drive/pre-garmin.csv\",encoding='windows-1254')\n",
        "log_csv.head(15)"
      ],
      "execution_count": 4,
      "outputs": [
        {
          "output_type": "execute_result",
          "data": {
            "text/html": [
              "<div>\n",
              "<style scoped>\n",
              "    .dataframe tbody tr th:only-of-type {\n",
              "        vertical-align: middle;\n",
              "    }\n",
              "\n",
              "    .dataframe tbody tr th {\n",
              "        vertical-align: top;\n",
              "    }\n",
              "\n",
              "    .dataframe thead th {\n",
              "        text-align: right;\n",
              "    }\n",
              "</style>\n",
              "<table border=\"1\" class=\"dataframe\">\n",
              "  <thead>\n",
              "    <tr style=\"text-align: right;\">\n",
              "      <th></th>\n",
              "      <th>Running log 6/21/10</th>\n",
              "      <th>3/17/14</th>\n",
              "      <th>Unnamed: 2</th>\n",
              "      <th>Unnamed: 3</th>\n",
              "      <th>Unnamed: 4</th>\n",
              "      <th>Unnamed: 5</th>\n",
              "      <th>Unnamed: 6</th>\n",
              "      <th>Unnamed: 7</th>\n",
              "      <th>Unnamed: 8</th>\n",
              "      <th>Unnamed: 9</th>\n",
              "      <th>Unnamed: 10</th>\n",
              "      <th>Unnamed: 11</th>\n",
              "      <th>Unnamed: 12</th>\n",
              "      <th>Unnamed: 13</th>\n",
              "      <th>Unnamed: 14</th>\n",
              "      <th>Unnamed: 15</th>\n",
              "      <th>Unnamed: 16</th>\n",
              "      <th>Unnamed: 17</th>\n",
              "    </tr>\n",
              "  </thead>\n",
              "  <tbody>\n",
              "    <tr>\n",
              "      <th>0</th>\n",
              "      <td>Saturday 5/29/10</td>\n",
              "      <td>NaN</td>\n",
              "      <td>4 miles 27:19 it was a little short. 3.8 miles</td>\n",
              "      <td>NaN</td>\n",
              "      <td>NaN</td>\n",
              "      <td>NaN</td>\n",
              "      <td>NaN</td>\n",
              "      <td>NaN</td>\n",
              "      <td>NaN</td>\n",
              "      <td>NaN</td>\n",
              "      <td>NaN</td>\n",
              "      <td>NaN</td>\n",
              "      <td>NaN</td>\n",
              "      <td>NaN</td>\n",
              "      <td>NaN</td>\n",
              "      <td>NaN</td>\n",
              "      <td>NaN</td>\n",
              "      <td>NaN</td>\n",
              "    </tr>\n",
              "    <tr>\n",
              "      <th>1</th>\n",
              "      <td>Monday 6/21/10</td>\n",
              "      <td>4 miles</td>\n",
              "      <td>NaN</td>\n",
              "      <td>NaN</td>\n",
              "      <td>NaN</td>\n",
              "      <td>NaN</td>\n",
              "      <td>NaN</td>\n",
              "      <td>NaN</td>\n",
              "      <td>NaN</td>\n",
              "      <td>NaN</td>\n",
              "      <td>NaN</td>\n",
              "      <td>NaN</td>\n",
              "      <td>NaN</td>\n",
              "      <td>NaN</td>\n",
              "      <td>NaN</td>\n",
              "      <td>NaN</td>\n",
              "      <td>NaN</td>\n",
              "      <td>NaN</td>\n",
              "    </tr>\n",
              "    <tr>\n",
              "      <th>2</th>\n",
              "      <td>Tuesday 6/22/10</td>\n",
              "      <td>4 miles</td>\n",
              "      <td>Swimming</td>\n",
              "      <td>10 laps of freestyle</td>\n",
              "      <td>5 laps of backstroke</td>\n",
              "      <td>5</td>\n",
              "      <td>laps of breaststroke</td>\n",
              "      <td>NaN</td>\n",
              "      <td>1 lap all out of freestyle</td>\n",
              "      <td>NaN</td>\n",
              "      <td>NaN</td>\n",
              "      <td>NaN</td>\n",
              "      <td>NaN</td>\n",
              "      <td>NaN</td>\n",
              "      <td>NaN</td>\n",
              "      <td>NaN</td>\n",
              "      <td>NaN</td>\n",
              "      <td>NaN</td>\n",
              "    </tr>\n",
              "    <tr>\n",
              "      <th>3</th>\n",
              "      <td>Wednesday 6/23/10</td>\n",
              "      <td>4.5 miles</td>\n",
              "      <td>35 minutes</td>\n",
              "      <td>NaN</td>\n",
              "      <td>NaN</td>\n",
              "      <td>NaN</td>\n",
              "      <td>NaN</td>\n",
              "      <td>NaN</td>\n",
              "      <td>NaN</td>\n",
              "      <td>NaN</td>\n",
              "      <td>NaN</td>\n",
              "      <td>NaN</td>\n",
              "      <td>NaN</td>\n",
              "      <td>NaN</td>\n",
              "      <td>NaN</td>\n",
              "      <td>NaN</td>\n",
              "      <td>NaN</td>\n",
              "      <td>NaN</td>\n",
              "    </tr>\n",
              "    <tr>\n",
              "      <th>4</th>\n",
              "      <td>Thursday 6/25/10</td>\n",
              "      <td>5</td>\n",
              "      <td>NaN</td>\n",
              "      <td>NaN</td>\n",
              "      <td>NaN</td>\n",
              "      <td>NaN</td>\n",
              "      <td>NaN</td>\n",
              "      <td>NaN</td>\n",
              "      <td>NaN</td>\n",
              "      <td>NaN</td>\n",
              "      <td>NaN</td>\n",
              "      <td>NaN</td>\n",
              "      <td>NaN</td>\n",
              "      <td>NaN</td>\n",
              "      <td>NaN</td>\n",
              "      <td>NaN</td>\n",
              "      <td>NaN</td>\n",
              "      <td>NaN</td>\n",
              "    </tr>\n",
              "    <tr>\n",
              "      <th>5</th>\n",
              "      <td>Friday 6/26/10</td>\n",
              "      <td>5</td>\n",
              "      <td>Swimming</td>\n",
              "      <td>same as Tuesday</td>\n",
              "      <td>NaN</td>\n",
              "      <td>NaN</td>\n",
              "      <td>NaN</td>\n",
              "      <td>NaN</td>\n",
              "      <td>NaN</td>\n",
              "      <td>NaN</td>\n",
              "      <td>NaN</td>\n",
              "      <td>NaN</td>\n",
              "      <td>NaN</td>\n",
              "      <td>NaN</td>\n",
              "      <td>NaN</td>\n",
              "      <td>NaN</td>\n",
              "      <td>NaN</td>\n",
              "      <td>NaN</td>\n",
              "    </tr>\n",
              "    <tr>\n",
              "      <th>6</th>\n",
              "      <td>Saturday 6/27/10</td>\n",
              "      <td>6</td>\n",
              "      <td>41:04</td>\n",
              "      <td>NaN</td>\n",
              "      <td>NaN</td>\n",
              "      <td>NaN</td>\n",
              "      <td>NaN</td>\n",
              "      <td>NaN</td>\n",
              "      <td>NaN</td>\n",
              "      <td>NaN</td>\n",
              "      <td>NaN</td>\n",
              "      <td>NaN</td>\n",
              "      <td>NaN</td>\n",
              "      <td>NaN</td>\n",
              "      <td>NaN</td>\n",
              "      <td>NaN</td>\n",
              "      <td>NaN</td>\n",
              "      <td>NaN</td>\n",
              "    </tr>\n",
              "    <tr>\n",
              "      <th>7</th>\n",
              "      <td>NaN</td>\n",
              "      <td>NaN</td>\n",
              "      <td>NaN</td>\n",
              "      <td>NaN</td>\n",
              "      <td>NaN</td>\n",
              "      <td>NaN</td>\n",
              "      <td>NaN</td>\n",
              "      <td>NaN</td>\n",
              "      <td>NaN</td>\n",
              "      <td>NaN</td>\n",
              "      <td>NaN</td>\n",
              "      <td>NaN</td>\n",
              "      <td>NaN</td>\n",
              "      <td>NaN</td>\n",
              "      <td>NaN</td>\n",
              "      <td>NaN</td>\n",
              "      <td>NaN</td>\n",
              "      <td>NaN</td>\n",
              "    </tr>\n",
              "    <tr>\n",
              "      <th>8</th>\n",
              "      <td>Monday 6/28/10</td>\n",
              "      <td>4</td>\n",
              "      <td>28:04:00</td>\n",
              "      <td>5 total</td>\n",
              "      <td>NaN</td>\n",
              "      <td>NaN</td>\n",
              "      <td>NaN</td>\n",
              "      <td>NaN</td>\n",
              "      <td>NaN</td>\n",
              "      <td>NaN</td>\n",
              "      <td>NaN</td>\n",
              "      <td>NaN</td>\n",
              "      <td>NaN</td>\n",
              "      <td>NaN</td>\n",
              "      <td>NaN</td>\n",
              "      <td>NaN</td>\n",
              "      <td>NaN</td>\n",
              "      <td>NaN</td>\n",
              "    </tr>\n",
              "    <tr>\n",
              "      <th>9</th>\n",
              "      <td>Tuesday 6/29/10</td>\n",
              "      <td>5</td>\n",
              "      <td>NaN</td>\n",
              "      <td>NaN</td>\n",
              "      <td>NaN</td>\n",
              "      <td>NaN</td>\n",
              "      <td>NaN</td>\n",
              "      <td>NaN</td>\n",
              "      <td>NaN</td>\n",
              "      <td>NaN</td>\n",
              "      <td>NaN</td>\n",
              "      <td>NaN</td>\n",
              "      <td>NaN</td>\n",
              "      <td>NaN</td>\n",
              "      <td>NaN</td>\n",
              "      <td>NaN</td>\n",
              "      <td>NaN</td>\n",
              "      <td>NaN</td>\n",
              "    </tr>\n",
              "    <tr>\n",
              "      <th>10</th>\n",
              "      <td>Wednesday 6/30/10</td>\n",
              "      <td>5.5</td>\n",
              "      <td>Swimming</td>\n",
              "      <td>normal</td>\n",
              "      <td>NaN</td>\n",
              "      <td>NaN</td>\n",
              "      <td>NaN</td>\n",
              "      <td>NaN</td>\n",
              "      <td>NaN</td>\n",
              "      <td>NaN</td>\n",
              "      <td>NaN</td>\n",
              "      <td>NaN</td>\n",
              "      <td>NaN</td>\n",
              "      <td>NaN</td>\n",
              "      <td>NaN</td>\n",
              "      <td>NaN</td>\n",
              "      <td>NaN</td>\n",
              "      <td>NaN</td>\n",
              "    </tr>\n",
              "    <tr>\n",
              "      <th>11</th>\n",
              "      <td>Thursday 7/1/10</td>\n",
              "      <td>5</td>\n",
              "      <td>32:04:00</td>\n",
              "      <td>6:20 pace</td>\n",
              "      <td>6 miles total</td>\n",
              "      <td>NaN</td>\n",
              "      <td>NaN</td>\n",
              "      <td>NaN</td>\n",
              "      <td>NaN</td>\n",
              "      <td>NaN</td>\n",
              "      <td>NaN</td>\n",
              "      <td>NaN</td>\n",
              "      <td>NaN</td>\n",
              "      <td>NaN</td>\n",
              "      <td>NaN</td>\n",
              "      <td>NaN</td>\n",
              "      <td>NaN</td>\n",
              "      <td>NaN</td>\n",
              "    </tr>\n",
              "    <tr>\n",
              "      <th>12</th>\n",
              "      <td>Friday 7/2/10</td>\n",
              "      <td>4</td>\n",
              "      <td>NaN</td>\n",
              "      <td>NaN</td>\n",
              "      <td>NaN</td>\n",
              "      <td>NaN</td>\n",
              "      <td>NaN</td>\n",
              "      <td>NaN</td>\n",
              "      <td>NaN</td>\n",
              "      <td>NaN</td>\n",
              "      <td>NaN</td>\n",
              "      <td>NaN</td>\n",
              "      <td>NaN</td>\n",
              "      <td>NaN</td>\n",
              "      <td>NaN</td>\n",
              "      <td>NaN</td>\n",
              "      <td>NaN</td>\n",
              "      <td>NaN</td>\n",
              "    </tr>\n",
              "    <tr>\n",
              "      <th>13</th>\n",
              "      <td>Saturday 7/3/10</td>\n",
              "      <td>7.7</td>\n",
              "      <td>52:46:00</td>\n",
              "      <td>NaN</td>\n",
              "      <td>NaN</td>\n",
              "      <td>NaN</td>\n",
              "      <td>NaN</td>\n",
              "      <td>NaN</td>\n",
              "      <td>NaN</td>\n",
              "      <td>NaN</td>\n",
              "      <td>NaN</td>\n",
              "      <td>NaN</td>\n",
              "      <td>NaN</td>\n",
              "      <td>NaN</td>\n",
              "      <td>NaN</td>\n",
              "      <td>NaN</td>\n",
              "      <td>NaN</td>\n",
              "      <td>NaN</td>\n",
              "    </tr>\n",
              "    <tr>\n",
              "      <th>14</th>\n",
              "      <td>NaN</td>\n",
              "      <td>NaN</td>\n",
              "      <td>NaN</td>\n",
              "      <td>NaN</td>\n",
              "      <td>NaN</td>\n",
              "      <td>NaN</td>\n",
              "      <td>NaN</td>\n",
              "      <td>NaN</td>\n",
              "      <td>NaN</td>\n",
              "      <td>NaN</td>\n",
              "      <td>NaN</td>\n",
              "      <td>NaN</td>\n",
              "      <td>NaN</td>\n",
              "      <td>NaN</td>\n",
              "      <td>NaN</td>\n",
              "      <td>NaN</td>\n",
              "      <td>NaN</td>\n",
              "      <td>NaN</td>\n",
              "    </tr>\n",
              "  </tbody>\n",
              "</table>\n",
              "</div>"
            ],
            "text/plain": [
              "   Running log 6/21/10      3/17/14  ... Unnamed: 16 Unnamed: 17\n",
              "0      Saturday 5/29/10         NaN  ...         NaN         NaN\n",
              "1        Monday 6/21/10     4 miles  ...         NaN         NaN\n",
              "2       Tuesday 6/22/10     4 miles  ...         NaN         NaN\n",
              "3     Wednesday 6/23/10   4.5 miles  ...         NaN         NaN\n",
              "4      Thursday 6/25/10          5   ...         NaN         NaN\n",
              "5        Friday 6/26/10           5  ...         NaN         NaN\n",
              "6      Saturday 6/27/10           6  ...         NaN         NaN\n",
              "7                   NaN         NaN  ...         NaN         NaN\n",
              "8        Monday 6/28/10           4  ...         NaN         NaN\n",
              "9       Tuesday 6/29/10           5  ...         NaN         NaN\n",
              "10    Wednesday 6/30/10         5.5  ...         NaN         NaN\n",
              "11      Thursday 7/1/10           5  ...         NaN         NaN\n",
              "12        Friday 7/2/10           4  ...         NaN         NaN\n",
              "13      Saturday 7/3/10         7.7  ...         NaN         NaN\n",
              "14                  NaN         NaN  ...         NaN         NaN\n",
              "\n",
              "[15 rows x 18 columns]"
            ]
          },
          "metadata": {
            "tags": []
          },
          "execution_count": 4
        }
      ]
    },
    {
      "cell_type": "code",
      "metadata": {
        "id": "ZaKY9oZA0cm0",
        "outputId": "c4fcfbc5-587a-4562-db37-e088397c1368",
        "colab": {
          "base_uri": "https://localhost:8080/",
          "height": 255
        }
      },
      "source": [
        "log_csv.tail()"
      ],
      "execution_count": 5,
      "outputs": [
        {
          "output_type": "execute_result",
          "data": {
            "text/html": [
              "<div>\n",
              "<style scoped>\n",
              "    .dataframe tbody tr th:only-of-type {\n",
              "        vertical-align: middle;\n",
              "    }\n",
              "\n",
              "    .dataframe tbody tr th {\n",
              "        vertical-align: top;\n",
              "    }\n",
              "\n",
              "    .dataframe thead th {\n",
              "        text-align: right;\n",
              "    }\n",
              "</style>\n",
              "<table border=\"1\" class=\"dataframe\">\n",
              "  <thead>\n",
              "    <tr style=\"text-align: right;\">\n",
              "      <th></th>\n",
              "      <th>Running log 6/21/10</th>\n",
              "      <th>3/17/14</th>\n",
              "      <th>Unnamed: 2</th>\n",
              "      <th>Unnamed: 3</th>\n",
              "      <th>Unnamed: 4</th>\n",
              "      <th>Unnamed: 5</th>\n",
              "      <th>Unnamed: 6</th>\n",
              "      <th>Unnamed: 7</th>\n",
              "      <th>Unnamed: 8</th>\n",
              "      <th>Unnamed: 9</th>\n",
              "      <th>Unnamed: 10</th>\n",
              "      <th>Unnamed: 11</th>\n",
              "      <th>Unnamed: 12</th>\n",
              "      <th>Unnamed: 13</th>\n",
              "      <th>Unnamed: 14</th>\n",
              "      <th>Unnamed: 15</th>\n",
              "      <th>Unnamed: 16</th>\n",
              "      <th>Unnamed: 17</th>\n",
              "    </tr>\n",
              "  </thead>\n",
              "  <tbody>\n",
              "    <tr>\n",
              "      <th>1979</th>\n",
              "      <td>TOTAL - 48.5</td>\n",
              "      <td>NaN</td>\n",
              "      <td>NaN</td>\n",
              "      <td>NaN</td>\n",
              "      <td>NaN</td>\n",
              "      <td>NaN</td>\n",
              "      <td>NaN</td>\n",
              "      <td>NaN</td>\n",
              "      <td>NaN</td>\n",
              "      <td>NaN</td>\n",
              "      <td>NaN</td>\n",
              "      <td>NaN</td>\n",
              "      <td>NaN</td>\n",
              "      <td>NaN</td>\n",
              "      <td>NaN</td>\n",
              "      <td>NaN</td>\n",
              "      <td>NaN</td>\n",
              "      <td>NaN</td>\n",
              "    </tr>\n",
              "    <tr>\n",
              "      <th>1980</th>\n",
              "      <td>Monday - 12/21/15 - off</td>\n",
              "      <td>NaN</td>\n",
              "      <td>NaN</td>\n",
              "      <td>NaN</td>\n",
              "      <td>NaN</td>\n",
              "      <td>NaN</td>\n",
              "      <td>NaN</td>\n",
              "      <td>NaN</td>\n",
              "      <td>NaN</td>\n",
              "      <td>NaN</td>\n",
              "      <td>NaN</td>\n",
              "      <td>NaN</td>\n",
              "      <td>NaN</td>\n",
              "      <td>NaN</td>\n",
              "      <td>NaN</td>\n",
              "      <td>NaN</td>\n",
              "      <td>NaN</td>\n",
              "      <td>NaN</td>\n",
              "    </tr>\n",
              "    <tr>\n",
              "      <th>1981</th>\n",
              "      <td>Tuesday - I've failed. Not going to be able to...</td>\n",
              "      <td>NaN</td>\n",
              "      <td>NaN</td>\n",
              "      <td>NaN</td>\n",
              "      <td>NaN</td>\n",
              "      <td>NaN</td>\n",
              "      <td>NaN</td>\n",
              "      <td>NaN</td>\n",
              "      <td>NaN</td>\n",
              "      <td>NaN</td>\n",
              "      <td>NaN</td>\n",
              "      <td>NaN</td>\n",
              "      <td>NaN</td>\n",
              "      <td>NaN</td>\n",
              "      <td>NaN</td>\n",
              "      <td>NaN</td>\n",
              "      <td>NaN</td>\n",
              "      <td>NaN</td>\n",
              "    </tr>\n",
              "    <tr>\n",
              "      <th>1982</th>\n",
              "      <td>Thursday - 12/25/15 - 3 miles</td>\n",
              "      <td>NaN</td>\n",
              "      <td>NaN</td>\n",
              "      <td>NaN</td>\n",
              "      <td>NaN</td>\n",
              "      <td>NaN</td>\n",
              "      <td>NaN</td>\n",
              "      <td>NaN</td>\n",
              "      <td>NaN</td>\n",
              "      <td>NaN</td>\n",
              "      <td>NaN</td>\n",
              "      <td>NaN</td>\n",
              "      <td>NaN</td>\n",
              "      <td>NaN</td>\n",
              "      <td>NaN</td>\n",
              "      <td>NaN</td>\n",
              "      <td>NaN</td>\n",
              "      <td>NaN</td>\n",
              "    </tr>\n",
              "    <tr>\n",
              "      <th>1983</th>\n",
              "      <td>Thursday - 12/31/15 - 30 minutes biking - 9.5 ...</td>\n",
              "      <td>NaN</td>\n",
              "      <td>NaN</td>\n",
              "      <td>NaN</td>\n",
              "      <td>NaN</td>\n",
              "      <td>NaN</td>\n",
              "      <td>NaN</td>\n",
              "      <td>NaN</td>\n",
              "      <td>NaN</td>\n",
              "      <td>NaN</td>\n",
              "      <td>NaN</td>\n",
              "      <td>NaN</td>\n",
              "      <td>NaN</td>\n",
              "      <td>NaN</td>\n",
              "      <td>NaN</td>\n",
              "      <td>NaN</td>\n",
              "      <td>NaN</td>\n",
              "      <td>NaN</td>\n",
              "    </tr>\n",
              "  </tbody>\n",
              "</table>\n",
              "</div>"
            ],
            "text/plain": [
              "                                   Running log 6/21/10   ... Unnamed: 17\n",
              "1979                                       TOTAL - 48.5  ...         NaN\n",
              "1980                            Monday - 12/21/15 - off  ...         NaN\n",
              "1981  Tuesday - I've failed. Not going to be able to...  ...         NaN\n",
              "1982                      Thursday - 12/25/15 - 3 miles  ...         NaN\n",
              "1983  Thursday - 12/31/15 - 30 minutes biking - 9.5 ...  ...         NaN\n",
              "\n",
              "[5 rows x 18 columns]"
            ]
          },
          "metadata": {
            "tags": []
          },
          "execution_count": 5
        }
      ]
    },
    {
      "cell_type": "markdown",
      "metadata": {
        "id": "4W7zxYwx0OJT"
      },
      "source": [
        "Creation of Raw string before manipulation of columns"
      ]
    },
    {
      "cell_type": "code",
      "metadata": {
        "id": "Vw4lP-CI00ux",
        "outputId": "bef59c44-6093-44ed-eb51-1f36e912b103",
        "colab": {
          "base_uri": "https://localhost:8080/",
          "height": 119
        }
      },
      "source": [
        "log_csv.columns"
      ],
      "execution_count": 6,
      "outputs": [
        {
          "output_type": "execute_result",
          "data": {
            "text/plain": [
              "Index(['Running log 6/21/10 ', ' 3/17/14', 'Unnamed: 2', 'Unnamed: 3',\n",
              "       'Unnamed: 4', 'Unnamed: 5', 'Unnamed: 6', 'Unnamed: 7', 'Unnamed: 8',\n",
              "       'Unnamed: 9', 'Unnamed: 10', 'Unnamed: 11', 'Unnamed: 12',\n",
              "       'Unnamed: 13', 'Unnamed: 14', 'Unnamed: 15', 'Unnamed: 16',\n",
              "       'Unnamed: 17'],\n",
              "      dtype='object')"
            ]
          },
          "metadata": {
            "tags": []
          },
          "execution_count": 6
        }
      ]
    },
    {
      "cell_type": "code",
      "metadata": {
        "id": "56zEbcqn0NQS",
        "outputId": "b7eb0364-f186-42ff-9cbb-6b6d16c119a0",
        "colab": {
          "base_uri": "https://localhost:8080/",
          "height": 306
        }
      },
      "source": [
        "raw_string = log_csv.copy()\n",
        "raw_string['raw_note'] = raw_string['Running log 6/21/10 '].str.cat(raw_string[[' 3/17/14','Unnamed: 2', 'Unnamed: 3', 'Unnamed: 4','Unnamed: 5','Unnamed: 6','Unnamed: 7',\n",
        "                                                     'Unnamed: 8', 'Unnamed: 9', 'Unnamed: 10', 'Unnamed: 11','Unnamed: 12',\n",
        "                                                     'Unnamed: 13','Unnamed: 14','Unnamed: 15','Unnamed: 16','Unnamed: 17']].astype(str), sep=\"_\")\n",
        "raw_string2 = raw_string[['raw_note']]\n",
        "raw_string2.loc[:, 'raw_note'] = raw_string2.loc[:, 'raw_note'].str.replace('_?nan_?', '')\n",
        "raw_string2.head()"
      ],
      "execution_count": 7,
      "outputs": [
        {
          "output_type": "stream",
          "text": [
            "/usr/local/lib/python3.6/dist-packages/pandas/core/indexing.py:1783: SettingWithCopyWarning: \n",
            "A value is trying to be set on a copy of a slice from a DataFrame.\n",
            "Try using .loc[row_indexer,col_indexer] = value instead\n",
            "\n",
            "See the caveats in the documentation: https://pandas.pydata.org/pandas-docs/stable/user_guide/indexing.html#returning-a-view-versus-a-copy\n",
            "  self.obj[item_labels[indexer[info_axis]]] = value\n"
          ],
          "name": "stderr"
        },
        {
          "output_type": "execute_result",
          "data": {
            "text/html": [
              "<div>\n",
              "<style scoped>\n",
              "    .dataframe tbody tr th:only-of-type {\n",
              "        vertical-align: middle;\n",
              "    }\n",
              "\n",
              "    .dataframe tbody tr th {\n",
              "        vertical-align: top;\n",
              "    }\n",
              "\n",
              "    .dataframe thead th {\n",
              "        text-align: right;\n",
              "    }\n",
              "</style>\n",
              "<table border=\"1\" class=\"dataframe\">\n",
              "  <thead>\n",
              "    <tr style=\"text-align: right;\">\n",
              "      <th></th>\n",
              "      <th>raw_note</th>\n",
              "    </tr>\n",
              "  </thead>\n",
              "  <tbody>\n",
              "    <tr>\n",
              "      <th>0</th>\n",
              "      <td>Saturday 5/29/10 4 miles 27:19 it was a little...</td>\n",
              "    </tr>\n",
              "    <tr>\n",
              "      <th>1</th>\n",
              "      <td>Monday 6/21/10_ 4 miles</td>\n",
              "    </tr>\n",
              "    <tr>\n",
              "      <th>2</th>\n",
              "      <td>Tuesday 6/22/10_ 4 miles_Swimming_ 10 laps of ...</td>\n",
              "    </tr>\n",
              "    <tr>\n",
              "      <th>3</th>\n",
              "      <td>Wednesday 6/23/10_ 4.5 miles_35 minutes</td>\n",
              "    </tr>\n",
              "    <tr>\n",
              "      <th>4</th>\n",
              "      <td>Thursday 6/25/10_ 5</td>\n",
              "    </tr>\n",
              "  </tbody>\n",
              "</table>\n",
              "</div>"
            ],
            "text/plain": [
              "                                            raw_note\n",
              "0  Saturday 5/29/10 4 miles 27:19 it was a little...\n",
              "1                            Monday 6/21/10_ 4 miles\n",
              "2  Tuesday 6/22/10_ 4 miles_Swimming_ 10 laps of ...\n",
              "3            Wednesday 6/23/10_ 4.5 miles_35 minutes\n",
              "4                               Thursday 6/25/10_ 5 "
            ]
          },
          "metadata": {
            "tags": []
          },
          "execution_count": 7
        }
      ]
    },
    {
      "cell_type": "code",
      "metadata": {
        "id": "-Sd6tAZIBl5S",
        "outputId": "86b03c35-4b68-4130-b94f-ee0eebb34ccb",
        "colab": {
          "base_uri": "https://localhost:8080/",
          "height": 359
        }
      },
      "source": [
        "log_csv['Notes'] = log_csv['Unnamed: 2'].str.cat(log_csv[['Unnamed: 3', 'Unnamed: 4','Unnamed: 5','Unnamed: 6','Unnamed: 7',\n",
        "                                                     'Unnamed: 8', 'Unnamed: 9', 'Unnamed: 10', 'Unnamed: 11','Unnamed: 12',\n",
        "                                                     'Unnamed: 13','Unnamed: 14','Unnamed: 15','Unnamed: 16','Unnamed: 17']].astype(str), sep=\"_\")\n",
        "log_csv2 = log_csv[['Running log 6/21/10 ',' 3/17/14','Notes']]\n",
        "log_csv2.head(10)"
      ],
      "execution_count": 8,
      "outputs": [
        {
          "output_type": "execute_result",
          "data": {
            "text/html": [
              "<div>\n",
              "<style scoped>\n",
              "    .dataframe tbody tr th:only-of-type {\n",
              "        vertical-align: middle;\n",
              "    }\n",
              "\n",
              "    .dataframe tbody tr th {\n",
              "        vertical-align: top;\n",
              "    }\n",
              "\n",
              "    .dataframe thead th {\n",
              "        text-align: right;\n",
              "    }\n",
              "</style>\n",
              "<table border=\"1\" class=\"dataframe\">\n",
              "  <thead>\n",
              "    <tr style=\"text-align: right;\">\n",
              "      <th></th>\n",
              "      <th>Running log 6/21/10</th>\n",
              "      <th>3/17/14</th>\n",
              "      <th>Notes</th>\n",
              "    </tr>\n",
              "  </thead>\n",
              "  <tbody>\n",
              "    <tr>\n",
              "      <th>0</th>\n",
              "      <td>Saturday 5/29/10</td>\n",
              "      <td>NaN</td>\n",
              "      <td>4 miles 27:19 it was a little short. 3.8 mile...</td>\n",
              "    </tr>\n",
              "    <tr>\n",
              "      <th>1</th>\n",
              "      <td>Monday 6/21/10</td>\n",
              "      <td>4 miles</td>\n",
              "      <td>NaN</td>\n",
              "    </tr>\n",
              "    <tr>\n",
              "      <th>2</th>\n",
              "      <td>Tuesday 6/22/10</td>\n",
              "      <td>4 miles</td>\n",
              "      <td>Swimming_ 10 laps of freestyle_5 laps of backs...</td>\n",
              "    </tr>\n",
              "    <tr>\n",
              "      <th>3</th>\n",
              "      <td>Wednesday 6/23/10</td>\n",
              "      <td>4.5 miles</td>\n",
              "      <td>35 minutes_nan_nan_nan_nan_nan_nan_nan_nan_nan...</td>\n",
              "    </tr>\n",
              "    <tr>\n",
              "      <th>4</th>\n",
              "      <td>Thursday 6/25/10</td>\n",
              "      <td>5</td>\n",
              "      <td>NaN</td>\n",
              "    </tr>\n",
              "    <tr>\n",
              "      <th>5</th>\n",
              "      <td>Friday 6/26/10</td>\n",
              "      <td>5</td>\n",
              "      <td>Swimming_ same as Tuesday_nan_nan_nan_nan_nan_...</td>\n",
              "    </tr>\n",
              "    <tr>\n",
              "      <th>6</th>\n",
              "      <td>Saturday 6/27/10</td>\n",
              "      <td>6</td>\n",
              "      <td>41:04_nan_nan_nan_nan_nan_nan_nan_nan_nan_nan...</td>\n",
              "    </tr>\n",
              "    <tr>\n",
              "      <th>7</th>\n",
              "      <td>NaN</td>\n",
              "      <td>NaN</td>\n",
              "      <td>NaN</td>\n",
              "    </tr>\n",
              "    <tr>\n",
              "      <th>8</th>\n",
              "      <td>Monday 6/28/10</td>\n",
              "      <td>4</td>\n",
              "      <td>28:04:00_5 total_nan_nan_nan_nan_nan_nan_nan_n...</td>\n",
              "    </tr>\n",
              "    <tr>\n",
              "      <th>9</th>\n",
              "      <td>Tuesday 6/29/10</td>\n",
              "      <td>5</td>\n",
              "      <td>NaN</td>\n",
              "    </tr>\n",
              "  </tbody>\n",
              "</table>\n",
              "</div>"
            ],
            "text/plain": [
              "  Running log 6/21/10   ...                                              Notes\n",
              "0     Saturday 5/29/10  ...   4 miles 27:19 it was a little short. 3.8 mile...\n",
              "1       Monday 6/21/10  ...                                                NaN\n",
              "2      Tuesday 6/22/10  ...  Swimming_ 10 laps of freestyle_5 laps of backs...\n",
              "3    Wednesday 6/23/10  ...  35 minutes_nan_nan_nan_nan_nan_nan_nan_nan_nan...\n",
              "4     Thursday 6/25/10  ...                                                NaN\n",
              "5       Friday 6/26/10  ...  Swimming_ same as Tuesday_nan_nan_nan_nan_nan_...\n",
              "6     Saturday 6/27/10  ...   41:04_nan_nan_nan_nan_nan_nan_nan_nan_nan_nan...\n",
              "7                  NaN  ...                                                NaN\n",
              "8       Monday 6/28/10  ...  28:04:00_5 total_nan_nan_nan_nan_nan_nan_nan_n...\n",
              "9      Tuesday 6/29/10  ...                                                NaN\n",
              "\n",
              "[10 rows x 3 columns]"
            ]
          },
          "metadata": {
            "tags": []
          },
          "execution_count": 8
        }
      ]
    },
    {
      "cell_type": "code",
      "metadata": {
        "id": "1rAsSZ71-ngE"
      },
      "source": [
        "# columns = ['Weekday', 'Date', 'Mileage', 'Minutes', 'Notes']\n",
        "log_csv2.columns = ['Beginning', 'Mileage', 'Notes']"
      ],
      "execution_count": 9,
      "outputs": []
    },
    {
      "cell_type": "code",
      "metadata": {
        "id": "7HRLDnCHAKxD",
        "outputId": "dec9e833-71e3-4284-bbe0-e09d15d43309",
        "colab": {
          "base_uri": "https://localhost:8080/",
          "height": 35
        }
      },
      "source": [
        "m = '- 7 miles - warmup with maggie - 82.190 - 6:19:16 - 13.0 avg'\n",
        "t = '- 8 miles - thanksgiving 18.229 mile'\n",
        "e = '35 minutes_nan_nan_nan_nan_nan_nan_nan_nan_nan'\n",
        "re.sub('_nan', '', e)"
      ],
      "execution_count": 311,
      "outputs": [
        {
          "output_type": "execute_result",
          "data": {
            "application/vnd.google.colaboratory.intrinsic+json": {
              "type": "string"
            },
            "text/plain": [
              "'35 minutes'"
            ]
          },
          "metadata": {
            "tags": []
          },
          "execution_count": 311
        }
      ]
    },
    {
      "cell_type": "code",
      "metadata": {
        "id": "hEUynGV-DEr4",
        "outputId": "b4b61b3b-917e-495b-e8f6-b1688f6f03f7",
        "colab": {
          "base_uri": "https://localhost:8080/",
          "height": 527
        }
      },
      "source": [
        "findall_n_join_fx(log_csv2, 'Beginning', 'Weekday', '\\w+day')\n",
        "log_csv2 = findall_n_join_fx(log_csv2, 'Beginning', 'Date', '\\d+/\\d+/\\d\\d')\n",
        "log_csv2.info()"
      ],
      "execution_count": 312,
      "outputs": [
        {
          "output_type": "stream",
          "text": [
            "<class 'pandas.core.frame.DataFrame'>\n",
            "RangeIndex: 1984 entries, 0 to 1983\n",
            "Data columns (total 5 columns):\n",
            " #   Column     Non-Null Count  Dtype \n",
            "---  ------     --------------  ----- \n",
            " 0   Beginning  1966 non-null   object\n",
            " 1   Mileage    1217 non-null   object\n",
            " 2   Notes      751 non-null    object\n",
            " 3   Weekday    1966 non-null   object\n",
            " 4   Date       1966 non-null   object\n",
            "dtypes: object(5)\n",
            "memory usage: 77.6+ KB\n"
          ],
          "name": "stdout"
        },
        {
          "output_type": "stream",
          "text": [
            "/usr/local/lib/python3.6/dist-packages/pandas/core/indexing.py:1596: SettingWithCopyWarning: \n",
            "A value is trying to be set on a copy of a slice from a DataFrame.\n",
            "Try using .loc[row_indexer,col_indexer] = value instead\n",
            "\n",
            "See the caveats in the documentation: https://pandas.pydata.org/pandas-docs/stable/user_guide/indexing.html#returning-a-view-versus-a-copy\n",
            "  self.obj[key] = _infer_fill_value(value)\n",
            "/usr/local/lib/python3.6/dist-packages/pandas/core/indexing.py:1745: SettingWithCopyWarning: \n",
            "A value is trying to be set on a copy of a slice from a DataFrame.\n",
            "Try using .loc[row_indexer,col_indexer] = value instead\n",
            "\n",
            "See the caveats in the documentation: https://pandas.pydata.org/pandas-docs/stable/user_guide/indexing.html#returning-a-view-versus-a-copy\n",
            "  isetter(ilocs[0], value)\n",
            "/usr/local/lib/python3.6/dist-packages/pandas/core/indexing.py:1783: SettingWithCopyWarning: \n",
            "A value is trying to be set on a copy of a slice from a DataFrame.\n",
            "Try using .loc[row_indexer,col_indexer] = value instead\n",
            "\n",
            "See the caveats in the documentation: https://pandas.pydata.org/pandas-docs/stable/user_guide/indexing.html#returning-a-view-versus-a-copy\n",
            "  self.obj[item_labels[indexer[info_axis]]] = value\n"
          ],
          "name": "stderr"
        }
      ]
    },
    {
      "cell_type": "code",
      "metadata": {
        "id": "ZaX2VS9jAOQ7"
      },
      "source": [
        "log_csv3 = log_csv2[log_csv2['Beginning'].str.startswith('TOTAL') == False]"
      ],
      "execution_count": 313,
      "outputs": []
    },
    {
      "cell_type": "code",
      "metadata": {
        "id": "8rDnaYpSh6Gb",
        "outputId": "6e62b0c4-ff14-402d-bf69-39d7978c674c",
        "colab": {
          "base_uri": "https://localhost:8080/",
          "height": 646
        }
      },
      "source": [
        "log_csv3.loc[:,'Mileage_init'] = log_csv3.loc[:,'Beginning'].str.findall('\\d+\\.*\\d*')\n",
        "log_csv3.loc[:, 'length'] = log_csv3['Mileage_init'].str.len()\n",
        "log_csv3['counter'] = range(len(log_csv3))\n",
        "log_csv3['Workout_mins'] = np.nan\n",
        "log_csv3['Swimming_meters'] = np.nan\n",
        "log_csv3['Bike_Mileage'] = np.nan\n",
        "log_csv3 = log_csv3.rename(columns = {'Beginning': 'Notes2'})\n",
        "check_data = log_csv3[log_csv3.length >1]\n",
        "check_data2 = check_data[['Notes2','Mileage','Mileage_init','counter']]\n",
        "len(check_data2)"
      ],
      "execution_count": 314,
      "outputs": [
        {
          "output_type": "stream",
          "text": [
            "/usr/local/lib/python3.6/dist-packages/pandas/core/indexing.py:1596: SettingWithCopyWarning: \n",
            "A value is trying to be set on a copy of a slice from a DataFrame.\n",
            "Try using .loc[row_indexer,col_indexer] = value instead\n",
            "\n",
            "See the caveats in the documentation: https://pandas.pydata.org/pandas-docs/stable/user_guide/indexing.html#returning-a-view-versus-a-copy\n",
            "  self.obj[key] = _infer_fill_value(value)\n",
            "/usr/local/lib/python3.6/dist-packages/pandas/core/indexing.py:1745: SettingWithCopyWarning: \n",
            "A value is trying to be set on a copy of a slice from a DataFrame.\n",
            "Try using .loc[row_indexer,col_indexer] = value instead\n",
            "\n",
            "See the caveats in the documentation: https://pandas.pydata.org/pandas-docs/stable/user_guide/indexing.html#returning-a-view-versus-a-copy\n",
            "  isetter(ilocs[0], value)\n",
            "/usr/local/lib/python3.6/dist-packages/ipykernel_launcher.py:3: SettingWithCopyWarning: \n",
            "A value is trying to be set on a copy of a slice from a DataFrame.\n",
            "Try using .loc[row_indexer,col_indexer] = value instead\n",
            "\n",
            "See the caveats in the documentation: https://pandas.pydata.org/pandas-docs/stable/user_guide/indexing.html#returning-a-view-versus-a-copy\n",
            "  This is separate from the ipykernel package so we can avoid doing imports until\n",
            "/usr/local/lib/python3.6/dist-packages/ipykernel_launcher.py:4: SettingWithCopyWarning: \n",
            "A value is trying to be set on a copy of a slice from a DataFrame.\n",
            "Try using .loc[row_indexer,col_indexer] = value instead\n",
            "\n",
            "See the caveats in the documentation: https://pandas.pydata.org/pandas-docs/stable/user_guide/indexing.html#returning-a-view-versus-a-copy\n",
            "  after removing the cwd from sys.path.\n",
            "/usr/local/lib/python3.6/dist-packages/ipykernel_launcher.py:5: SettingWithCopyWarning: \n",
            "A value is trying to be set on a copy of a slice from a DataFrame.\n",
            "Try using .loc[row_indexer,col_indexer] = value instead\n",
            "\n",
            "See the caveats in the documentation: https://pandas.pydata.org/pandas-docs/stable/user_guide/indexing.html#returning-a-view-versus-a-copy\n",
            "  \"\"\"\n",
            "/usr/local/lib/python3.6/dist-packages/ipykernel_launcher.py:6: SettingWithCopyWarning: \n",
            "A value is trying to be set on a copy of a slice from a DataFrame.\n",
            "Try using .loc[row_indexer,col_indexer] = value instead\n",
            "\n",
            "See the caveats in the documentation: https://pandas.pydata.org/pandas-docs/stable/user_guide/indexing.html#returning-a-view-versus-a-copy\n",
            "  \n"
          ],
          "name": "stderr"
        },
        {
          "output_type": "execute_result",
          "data": {
            "text/plain": [
              "157"
            ]
          },
          "metadata": {
            "tags": []
          },
          "execution_count": 314
        }
      ]
    },
    {
      "cell_type": "markdown",
      "metadata": {
        "id": "6foCNcVOXfqJ"
      },
      "source": [
        "#### Manipulations"
      ]
    },
    {
      "cell_type": "code",
      "metadata": {
        "id": "dO3eP4gkWF3n"
      },
      "source": [
        "log_csv3.iloc[105,1] = 7.5\n",
        "log_csv3.iloc[1099,1] = 5\n",
        "log_csv3.iloc[1101,1] = 5.5\n",
        "log_csv3.iloc[1105,1] = 6\n",
        "log_csv3.iloc[1110,1] = 6.5\n",
        "log_csv3.iloc[1111,1] = 8\n",
        "log_csv3.iloc[1136, 1] = 7\n",
        "log_csv3.iloc[1139, 1] = 7\n",
        "log_csv3.iloc[1140, 1] = 8\n",
        "log_csv3.iloc[1142, 1] = 8\n",
        "log_csv3.iloc[1146, 1] = 8\n",
        "log_csv3.iloc[1147, 1] = 12\n",
        "log_csv3.iloc[1149, 1] = 6\n",
        "log_csv3.iloc[1149, -1] = 19.8\n",
        "log_csv3.iloc[1155, -1] = 101.83\n",
        "log_csv3.iloc[1156, 1] = 6\n",
        "log_csv3.iloc[1156, -1] = 21.334\n",
        "log_csv3.iloc[1157, 1] = 6\n",
        "log_csv3.iloc[1157, -1] = 32.497\n",
        "log_csv3.iloc[1159, 1] = 6\n",
        "log_csv3.iloc[1159, -1] = 19.783\n",
        "log_csv3.iloc[1160, 1] = 8\n",
        "log_csv3.iloc[1161, 1] = 12\n",
        "log_csv3.iloc[1163, -1] = 20.391\n",
        "log_csv3.iloc[1164, 1] = 7\n",
        "log_csv3.iloc[1164, -1] = 40.865\n",
        "log_csv3.iloc[1165, 1] = 6.62\n",
        "log_csv3.iloc[1165, -1] = 61.266 - 40.865\n",
        "log_csv3.iloc[1166, 1] = 6\n",
        "log_csv3.iloc[1166, -1] =81.794 - 61.266\n",
        "log_csv3.iloc[1167, 1] = 6\n",
        "log_csv3.iloc[1167, -1] = 102.21 - 81.794\n",
        "log_csv3.iloc[1171, 1] = 7\n",
        "log_csv3.iloc[1171, -1] = 20.547\n",
        "log_csv3.iloc[1172, 1] = 7\n",
        "log_csv3.iloc[1172, -1] = 40.963 - 20.547\n",
        "log_csv3.iloc[1174, -1] =61.538 - 40.963\n",
        "log_csv3.iloc[1175, 1] = 7\n",
        "log_csv3.iloc[1175, -1] = 82.190 - 61.538\n",
        "log_csv3.iloc[1179, 1] = 7\n",
        "log_csv3.iloc[1179, -1] = 20.771\n",
        "log_csv3.iloc[1180, 1] = 7\n",
        "log_csv3.iloc[1180, -1] = 41.447 - 20.771\n",
        "log_csv3.iloc[1181, 1] = 7\n",
        "log_csv3.iloc[1181, -1] = 62.151 - 41.447\n",
        "log_csv3.iloc[1186, 1] = 7\n",
        "log_csv3.iloc[1186, -1] =20.771\n",
        "log_csv3.iloc[1187, 1] = 7\n",
        "log_csv3.iloc[1187, -1] = 20.828\n",
        "log_csv3.iloc[1188, 1] = 7\n",
        "log_csv3.iloc[1188, -1] = 41.446 - 20.828\n",
        "log_csv3.iloc[1190, 1] = 10\n",
        "log_csv3.iloc[1191, 1] =14\n",
        "log_csv3.iloc[1193, 1] = 7\n",
        "log_csv3.iloc[1193, -1] = 20.510\n",
        "log_csv3.iloc[1194, 1] = 7\n",
        "log_csv3.iloc[1194, -1] =41.222 - 20.510\n",
        "log_csv3.iloc[1195, 1] = 6\n",
        "log_csv3.iloc[1195, -1] = 61.913 - 41.222\n",
        "log_csv3.iloc[1196, 1] = 7\n",
        "log_csv3.iloc[1196, -1] = 82.629 - 61.913\n",
        "log_csv3.iloc[1200, 1] = 8\n",
        "log_csv3.iloc[1205, 1] = 14\n",
        "log_csv3.iloc[1208, 1] = 7\n",
        "log_csv3.iloc[1208, -1] = 20.510\n",
        "log_csv3.iloc[1209, 1] = 8\n",
        "log_csv3.iloc[1209, -1] = 20.014\n",
        "log_csv3.iloc[1210, 1] = 8\n",
        "log_csv3.iloc[1210, -1] = 39.375-20.014\n",
        "log_csv3.iloc[1211, 1] = 7\n",
        "log_csv3.iloc[1211, -1] = 20\n",
        "log_csv3.iloc[1213, 1] = 16\n",
        "log_csv3.iloc[1215, 1] = 7\n",
        "log_csv3.iloc[1215, -1] =20\n",
        "log_csv3.iloc[1216, 1] = 7\n",
        "log_csv3.iloc[1216, -1] = 20\n",
        "log_csv3.iloc[1217, 1] = 6.5\n",
        "log_csv3.iloc[1217, -1] = 21.067\n",
        "log_csv3.iloc[1218, 1] = 6.5\n",
        "log_csv3.iloc[1218, -1] = 43.657 - 21.067\n",
        "log_csv3.iloc[1220, 1] = 16\n",
        "log_csv3.iloc[1223, 1] = 10\n",
        "log_csv3.iloc[1223, -1] = 10\n",
        "log_csv3.iloc[1227, 1] = 17\n",
        "log_csv3.iloc[1229, 1] = 8\n",
        "log_csv3.iloc[1229, -1] = 6\n",
        "log_csv3.iloc[1230, 1] = 8\n",
        "log_csv3.iloc[1230, -1] = 35\n",
        "log_csv3.iloc[1231, 1] = 8\n",
        "log_csv3.iloc[1231, -3] = 120\n",
        "log_csv3.iloc[1257, 1] = 18\n",
        "log_csv3.iloc[1260, 1] = 9\n",
        "log_csv3.iloc[1262, 1] = 13\n",
        "log_csv3.iloc[1262, -3] = 60\n",
        "log_csv3.iloc[1269, 1] = 17\n",
        "log_csv3.iloc[1269, -3] = 60\n",
        "log_csv3.iloc[1275, 1] = 12\n",
        "log_csv3.iloc[1275, -3] = 60\n",
        "log_csv3.iloc[1278, 1] = 13\n",
        "log_csv3.iloc[1290, 1] = 12\n",
        "log_csv3.iloc[1292, 1] = 13\n",
        "log_csv3.iloc[1292, -3] = 60\n",
        "log_csv3.iloc[1293, 1] = 11\n",
        "log_csv3.iloc[1297, 1] =10\n",
        "log_csv3.iloc[1299, 1] = 10\n",
        "log_csv3.iloc[1301, 1] =10\n",
        "log_csv3.iloc[1309, 1] = 27.5\n",
        "log_csv3.iloc[1314, -2] = 1600\n",
        "log_csv3.iloc[1318, -2] = 2100\n",
        "log_csv3.iloc[1319, -1] = 8.5\n",
        "log_csv3.iloc[1319, -3] = 60\n",
        "log_csv3.iloc[1320, -1] = 82.917\n",
        "log_csv3.iloc[1321, 1] =3\n",
        "log_csv3.iloc[1321, -2] = 2300\n",
        "log_csv3.iloc[1323, 1] =3\n",
        "log_csv3.iloc[1323, -2] = 2300\n",
        "log_csv3.iloc[1327, 1] = 3\n",
        "log_csv3.iloc[1327, -2] = 2300\n",
        "log_csv3.iloc[1328, 1] = 4\n",
        "log_csv3.iloc[1328, -3] = 60\n",
        "log_csv3.iloc[1328, -1] = 20\n",
        "log_csv3.iloc[1335, -1] = 27.714\n",
        "log_csv3.iloc[1336, 1] =4\n",
        "log_csv3.iloc[1336, -1] = 14\n",
        "log_csv3.iloc[1337, 1] =5\n",
        "log_csv3.iloc[1337, -2] = 2300\n",
        "log_csv3.iloc[1338, 1] =4\n",
        "log_csv3.iloc[1338, -3] = 60\n",
        "log_csv3.iloc[1338, -1] = 10\n",
        "log_csv3.iloc[1342, 1] = 6.6\n",
        "log_csv3.iloc[1342, -2] = 2300\n",
        "log_csv3.iloc[1370, -1] = 32.382\n",
        "log_csv3.iloc[1377, 1] = 13\n",
        "log_csv3.iloc[1377, -3] = 60\n",
        "log_csv3.iloc[1377, -1] =12\n",
        "log_csv3.iloc[1385, 1] = 14.5\n",
        "log_csv3.iloc[1387, -1] = 62.999\n",
        "log_csv3.iloc[1402, 1] = 16\n",
        "log_csv3.iloc[1418, 1] = 18\n",
        "log_csv3.iloc[1430, 1] = 16\n",
        "log_csv3.iloc[1431, 1] = 0\n",
        "log_csv3.iloc[1431, -1] =12\n",
        "log_csv3.iloc[1432, 1] =0\n",
        "log_csv3.iloc[1432, -1] = 12\n",
        "log_csv3.iloc[1433, 1] = 3\n",
        "log_csv3.iloc[1433, -1] = 12\n",
        "log_csv3.iloc[1438, 1] = 14\n",
        "log_csv3.iloc[1438, -1] = 12\n",
        "log_csv3.iloc[1452, 1] = 5\n",
        "log_csv3.iloc[1455, 1] = 27.2\n",
        "log_csv3.iloc[1482, 1] = 6\n",
        "log_csv3.iloc[1482, -1] = 17\n",
        "log_csv3.iloc[1482, -3] = 20\n",
        "log_csv3.iloc[1485, 1] = 6\n",
        "log_csv3.iloc[1485, -1] =16\n",
        "log_csv3.iloc[1487, 1] = 8\n",
        "log_csv3.iloc[1487, -1] =14.09\n",
        "log_csv3.iloc[1498, 1] = 7\n",
        "log_csv3.iloc[1498, -1] =16\n",
        "log_csv3.iloc[1503, 1] = 8\n",
        "log_csv3.iloc[1503, -1] = 15.79\n",
        "log_csv3.iloc[1507, 1] =8\n",
        "log_csv3.iloc[1507, -1] =15\n",
        "log_csv3.iloc[1533, 1] = 6\n",
        "log_csv3.iloc[1557, 1] = 6\n",
        "log_csv3.iloc[1557, -1] = 20\n",
        "log_csv3.iloc[1559, 1] = 6\n",
        "log_csv3.iloc[1559, -1] = 20\n",
        "log_csv3.iloc[1567, 1] = 8\n",
        "log_csv3.iloc[1567, -1] = 20.609\n",
        "log_csv3.iloc[1568, 1] =8\n",
        "log_csv3.iloc[1568, -1] = 41.860 - 20.609\n",
        "log_csv3.iloc[1570, 1] = 8\n",
        "log_csv3.iloc[1570, -1] = 2.166\n",
        "log_csv3.iloc[1572, -1] = 30.188\n",
        "log_csv3.iloc[1574, 1] = 8\n",
        "log_csv3.iloc[1574, -1] = 4.787\n",
        "log_csv3.iloc[1575, 1] = 7\n",
        "log_csv3.iloc[1575, -1] = 22.259\n",
        "log_csv3.iloc[1576, 1] = 8\n",
        "log_csv3.iloc[1576, -1] = 8.435\n",
        "log_csv3.iloc[1577, 1] = 7\n",
        "log_csv3.iloc[1577, -1] = 24.222\n",
        "log_csv3.iloc[1578, 1] = 8\n",
        "log_csv3.iloc[1578, -1] = 2.215\n",
        "log_csv3.iloc[1579, 1] = 10.5\n",
        "log_csv3.iloc[1579, -1] = 6.832\n",
        "log_csv3.iloc[1580, -1] = 41.162\n",
        "log_csv3.iloc[1582, 1] =8\n",
        "log_csv3.iloc[1582, -1] = 6.471\n",
        "log_csv3.iloc[1583, 1] = 7\n",
        "log_csv3.iloc[1583, -1] = 26.625\n",
        "log_csv3.iloc[1584, 1] =8\n",
        "log_csv3.iloc[1584, -1] = 6.505\n",
        "log_csv3.iloc[1585, 1] = 8\n",
        "log_csv3.iloc[1585, -1] = 22.478\n",
        "log_csv3.iloc[1586, 1] = 8\n",
        "log_csv3.iloc[1586, -1] = 4.438\n",
        "log_csv3.iloc[1587, 1] = 12\n",
        "log_csv3.iloc[1587, -1] = 2.065\n",
        "log_csv3.iloc[1588, -1] = 30.291\n",
        "log_csv3.iloc[1590, 1] = 8\n",
        "log_csv3.iloc[1590, -1] = 2.314 + 15.281\n",
        "log_csv3.iloc[1591, 1] = 7\n",
        "log_csv3.iloc[1591, -1] = 10 + .5 + 2.924\n",
        "log_csv3.iloc[1592, 1] = 8.66\n",
        "log_csv3.iloc[1592, -1] = 4.989\n",
        "log_csv3.iloc[1593, 1] = 7\n",
        "log_csv3.iloc[1593, -1] = 2.321 + 10.360\n",
        "log_csv3.iloc[1594, 1] = 8 \n",
        "log_csv3.iloc[1594, -1] = 4.231\n",
        "log_csv3.iloc[1595, 1] = 12\n",
        "log_csv3.iloc[1595, -1] = 11.938\n",
        "log_csv3.iloc[1598, 1] = 8.5\n",
        "log_csv3.iloc[1598, -1] = 10\n",
        "log_csv3.iloc[1599, 1] = 7\n",
        "log_csv3.iloc[1599, -1] =11.859\n",
        "log_csv3.iloc[1602, 1] = 8\n",
        "log_csv3.iloc[1602, -1] = 4.363\n",
        "log_csv3.iloc[1603, 1] =13\n",
        "log_csv3.iloc[1603, -1] = 2.063\n",
        "log_csv3.iloc[1606, 1] = 8.66\n",
        "log_csv3.iloc[1606, -1] = 2.063\n",
        "log_csv3.iloc[1607, 1] = 8\n",
        "log_csv3.iloc[1607, -1] = 4.338\n",
        "log_csv3.iloc[1608, 1] =10.45\n",
        "log_csv3.iloc[1608, -1] = 5.306 + 10.18\n",
        "log_csv3.iloc[1609, 1] = 8.66\n",
        "log_csv3.iloc[1609, -1] = 4.569\n",
        "log_csv3.iloc[1610, -1] = 2.081 + 20.231\n",
        "log_csv3.iloc[1615, 1] = 6\n",
        "log_csv3.iloc[1615, -1] = 5.596\n",
        "log_csv3.iloc[1616, 1] = 8\n",
        "log_csv3.iloc[1616, -1] = 4.591\n",
        "log_csv3.iloc[1617, 1] =9\n",
        "log_csv3.iloc[1617, -1] = 5.671\n",
        "log_csv3.iloc[1622, 1] = 9\n",
        "log_csv3.iloc[1622, -1] = 4.842\n",
        "log_csv3.iloc[1623, 1] = 8.5\n",
        "log_csv3.iloc[1623, -1] = 4.21\n",
        "log_csv3.iloc[1628, 1] = 8\n",
        "log_csv3.iloc[1628, -1] = 14.124\n",
        "log_csv3.iloc[1630, 1] = 8\n",
        "log_csv3.iloc[1630, -1] = 3.454\n",
        "log_csv3.iloc[1631, 1] = 10\n",
        "log_csv3.iloc[1631, -1] = 2.719\n",
        "log_csv3.iloc[1633, 1] =8\n",
        "log_csv3.iloc[1633, -1] =4.312\n",
        "log_csv3.iloc[1634, 1] = 8\n",
        "log_csv3.iloc[1634, -1] = 2.091\n",
        "log_csv3.iloc[1639, 1] =10\n",
        "log_csv3.iloc[1639, -1] = 2.394\n",
        "log_csv3.iloc[1640, 1] =4\n",
        "log_csv3.iloc[1640, -1] = 3.679\n",
        "log_csv3.iloc[1647, 1] = 8\n",
        "log_csv3.iloc[1647, -1] = 3.540\n",
        "log_csv3.iloc[1649, 1] =9\n",
        "log_csv3.iloc[1649, -1] = 2.070\n",
        "log_csv3.iloc[1665, 1] = 8\n",
        "log_csv3.iloc[1704, 1] = 8\n",
        "log_csv3.iloc[1722, -1] = 9.5\n",
        "# Biking edits\n",
        "log_csv3.iloc[1138,1] = 0\n",
        "log_csv3.iloc[1138,-1] = 55.1\n",
        "log_csv3.iloc[1138,5] = np.nan\n",
        "log_csv3.iloc[1206,1] = 0\n",
        "log_csv3.iloc[1206,-1] = 53\n",
        "log_csv3.iloc[1206,5] = np.nan\n",
        "log_csv3.iloc[1431,5] = np.nan\n",
        "log_csv3.iloc[1432,5] = np.nan\n",
        "log_csv3.iloc[1527,1] = 0\n",
        "log_csv3.iloc[1527,-1] = 15\n",
        "log_csv3.iloc[1527,5] = np.nan\n",
        "log_csv3.iloc[1561,1] =0\n",
        "log_csv3.iloc[1561,-1] =40\n",
        "log_csv3.iloc[1561,5] = np.nan\n",
        "log_csv3.iloc[1596,1] =0\n",
        "log_csv3.iloc[1596,-1] = 1.25\n",
        "log_csv3.iloc[1596,5] = np.nan\n",
        "log_csv3.iloc[1614,1] =0\n",
        "log_csv3.iloc[1614,-1] =6.362\n",
        "log_csv3.iloc[1614,5] =np.nan\n",
        "log_csv3.iloc[1632,1] =0\n",
        "log_csv3.iloc[1632,-1] =4.474\n",
        "log_csv3.iloc[1632,5] = np.nan\n",
        "log_csv3.iloc[1648,1] =0\n",
        "log_csv3.iloc[1648,-1] =2.93\n",
        "log_csv3.iloc[1648,5] = np.nan\n",
        "# Swimming workout edits\n",
        "log_csv3.iloc[1316,-2] = 1600\n",
        "log_csv3.iloc[1316,1] = 0\n",
        "log_csv3.iloc[1316,5] = np.nan\n",
        "log_csv3.iloc[1339,-2] = 1600\n",
        "log_csv3.iloc[1346,-2] = 1600\n",
        "log_csv3.iloc[1381,-2] = 1600\n",
        "log_csv3.iloc[1389,-2] = 1600\n",
        "log_csv3.iloc[1391,-2] = 1600\n",
        "log_csv3.iloc[1397,-2] = 1600\n",
        "log_csv3.iloc[1399,-2] = 1600\n",
        "log_csv3.iloc[1496,-2] = 1600\n",
        "log_csv3.iloc[1505,-2] = 1600\n",
        "log_csv3.iloc[1515,-2] = 1600"
      ],
      "execution_count": null,
      "outputs": []
    },
    {
      "cell_type": "markdown",
      "metadata": {
        "id": "va2_2CHvX5fP"
      },
      "source": [
        "#### New Log"
      ]
    },
    {
      "cell_type": "code",
      "metadata": {
        "id": "fBOEAmUmfLaK",
        "outputId": "7c158144-1394-4139-b646-b25ba7dea55c",
        "colab": {
          "base_uri": "https://localhost:8080/",
          "height": 359
        }
      },
      "source": [
        "new_log = log_csv3.copy()\n",
        "new_log.head(10)"
      ],
      "execution_count": 226,
      "outputs": [
        {
          "output_type": "execute_result",
          "data": {
            "text/html": [
              "<div>\n",
              "<style scoped>\n",
              "    .dataframe tbody tr th:only-of-type {\n",
              "        vertical-align: middle;\n",
              "    }\n",
              "\n",
              "    .dataframe tbody tr th {\n",
              "        vertical-align: top;\n",
              "    }\n",
              "\n",
              "    .dataframe thead th {\n",
              "        text-align: right;\n",
              "    }\n",
              "</style>\n",
              "<table border=\"1\" class=\"dataframe\">\n",
              "  <thead>\n",
              "    <tr style=\"text-align: right;\">\n",
              "      <th></th>\n",
              "      <th>Notes2</th>\n",
              "      <th>Mileage</th>\n",
              "      <th>Notes</th>\n",
              "      <th>Weekday</th>\n",
              "      <th>Date</th>\n",
              "      <th>Mileage_init</th>\n",
              "      <th>length</th>\n",
              "      <th>counter</th>\n",
              "      <th>Workout_mins</th>\n",
              "      <th>Swimming_meters</th>\n",
              "      <th>Bike_Mileage</th>\n",
              "    </tr>\n",
              "  </thead>\n",
              "  <tbody>\n",
              "    <tr>\n",
              "      <th>0</th>\n",
              "      <td></td>\n",
              "      <td>NaN</td>\n",
              "      <td>4 miles 27:19 it was a little short. 3.8 mile...</td>\n",
              "      <td>Saturday</td>\n",
              "      <td>5/29/10</td>\n",
              "      <td>[]</td>\n",
              "      <td>0</td>\n",
              "      <td>0</td>\n",
              "      <td>NaN</td>\n",
              "      <td>NaN</td>\n",
              "      <td>NaN</td>\n",
              "    </tr>\n",
              "    <tr>\n",
              "      <th>1</th>\n",
              "      <td></td>\n",
              "      <td>4 miles</td>\n",
              "      <td>NaN</td>\n",
              "      <td>Monday</td>\n",
              "      <td>6/21/10</td>\n",
              "      <td>[]</td>\n",
              "      <td>0</td>\n",
              "      <td>1</td>\n",
              "      <td>NaN</td>\n",
              "      <td>NaN</td>\n",
              "      <td>NaN</td>\n",
              "    </tr>\n",
              "    <tr>\n",
              "      <th>2</th>\n",
              "      <td></td>\n",
              "      <td>4 miles</td>\n",
              "      <td>Swimming_ 10 laps of freestyle_5 laps of backs...</td>\n",
              "      <td>Tuesday</td>\n",
              "      <td>6/22/10</td>\n",
              "      <td>[]</td>\n",
              "      <td>0</td>\n",
              "      <td>2</td>\n",
              "      <td>NaN</td>\n",
              "      <td>NaN</td>\n",
              "      <td>NaN</td>\n",
              "    </tr>\n",
              "    <tr>\n",
              "      <th>3</th>\n",
              "      <td></td>\n",
              "      <td>4.5 miles</td>\n",
              "      <td>35 minutes_nan_nan_nan_nan_nan_nan_nan_nan_nan...</td>\n",
              "      <td>Wednesday</td>\n",
              "      <td>6/23/10</td>\n",
              "      <td>[]</td>\n",
              "      <td>0</td>\n",
              "      <td>3</td>\n",
              "      <td>NaN</td>\n",
              "      <td>NaN</td>\n",
              "      <td>NaN</td>\n",
              "    </tr>\n",
              "    <tr>\n",
              "      <th>4</th>\n",
              "      <td></td>\n",
              "      <td>5</td>\n",
              "      <td>NaN</td>\n",
              "      <td>Thursday</td>\n",
              "      <td>6/25/10</td>\n",
              "      <td>[]</td>\n",
              "      <td>0</td>\n",
              "      <td>4</td>\n",
              "      <td>NaN</td>\n",
              "      <td>NaN</td>\n",
              "      <td>NaN</td>\n",
              "    </tr>\n",
              "    <tr>\n",
              "      <th>5</th>\n",
              "      <td></td>\n",
              "      <td>5</td>\n",
              "      <td>Swimming_ same as Tuesday_nan_nan_nan_nan_nan_...</td>\n",
              "      <td>Friday</td>\n",
              "      <td>6/26/10</td>\n",
              "      <td>[]</td>\n",
              "      <td>0</td>\n",
              "      <td>5</td>\n",
              "      <td>NaN</td>\n",
              "      <td>NaN</td>\n",
              "      <td>NaN</td>\n",
              "    </tr>\n",
              "    <tr>\n",
              "      <th>6</th>\n",
              "      <td></td>\n",
              "      <td>6</td>\n",
              "      <td>41:04_nan_nan_nan_nan_nan_nan_nan_nan_nan_nan...</td>\n",
              "      <td>Saturday</td>\n",
              "      <td>6/27/10</td>\n",
              "      <td>[]</td>\n",
              "      <td>0</td>\n",
              "      <td>6</td>\n",
              "      <td>NaN</td>\n",
              "      <td>NaN</td>\n",
              "      <td>NaN</td>\n",
              "    </tr>\n",
              "    <tr>\n",
              "      <th>8</th>\n",
              "      <td></td>\n",
              "      <td>4</td>\n",
              "      <td>28:04:00_5 total_nan_nan_nan_nan_nan_nan_nan_n...</td>\n",
              "      <td>Monday</td>\n",
              "      <td>6/28/10</td>\n",
              "      <td>[]</td>\n",
              "      <td>0</td>\n",
              "      <td>7</td>\n",
              "      <td>NaN</td>\n",
              "      <td>NaN</td>\n",
              "      <td>NaN</td>\n",
              "    </tr>\n",
              "    <tr>\n",
              "      <th>9</th>\n",
              "      <td></td>\n",
              "      <td>5</td>\n",
              "      <td>NaN</td>\n",
              "      <td>Tuesday</td>\n",
              "      <td>6/29/10</td>\n",
              "      <td>[]</td>\n",
              "      <td>0</td>\n",
              "      <td>8</td>\n",
              "      <td>NaN</td>\n",
              "      <td>NaN</td>\n",
              "      <td>NaN</td>\n",
              "    </tr>\n",
              "    <tr>\n",
              "      <th>10</th>\n",
              "      <td></td>\n",
              "      <td>5.5</td>\n",
              "      <td>Swimming_normal_nan_nan_nan_nan_nan_nan_nan_na...</td>\n",
              "      <td>Wednesday</td>\n",
              "      <td>6/30/10</td>\n",
              "      <td>[]</td>\n",
              "      <td>0</td>\n",
              "      <td>9</td>\n",
              "      <td>NaN</td>\n",
              "      <td>NaN</td>\n",
              "      <td>NaN</td>\n",
              "    </tr>\n",
              "  </tbody>\n",
              "</table>\n",
              "</div>"
            ],
            "text/plain": [
              "   Notes2     Mileage  ... Swimming_meters Bike_Mileage\n",
              "0                 NaN  ...             NaN          NaN\n",
              "1             4 miles  ...             NaN          NaN\n",
              "2             4 miles  ...             NaN          NaN\n",
              "3           4.5 miles  ...             NaN          NaN\n",
              "4                  5   ...             NaN          NaN\n",
              "5                   5  ...             NaN          NaN\n",
              "6                   6  ...             NaN          NaN\n",
              "8                   4  ...             NaN          NaN\n",
              "9                   5  ...             NaN          NaN\n",
              "10                5.5  ...             NaN          NaN\n",
              "\n",
              "[10 rows x 11 columns]"
            ]
          },
          "metadata": {
            "tags": []
          },
          "execution_count": 226
        }
      ]
    },
    {
      "cell_type": "code",
      "metadata": {
        "id": "RNMJIwQaI57D",
        "outputId": "cf021bbd-3439-4b81-c32e-dfbb20cdb5a5",
        "colab": {
          "base_uri": "https://localhost:8080/",
          "height": 323
        }
      },
      "source": [
        "new_log.info()"
      ],
      "execution_count": 227,
      "outputs": [
        {
          "output_type": "stream",
          "text": [
            "<class 'pandas.core.frame.DataFrame'>\n",
            "Int64Index: 1723 entries, 0 to 1983\n",
            "Data columns (total 11 columns):\n",
            " #   Column           Non-Null Count  Dtype  \n",
            "---  ------           --------------  -----  \n",
            " 0   Notes2           1665 non-null   object \n",
            " 1   Mileage          1216 non-null   object \n",
            " 2   Notes            741 non-null    object \n",
            " 3   Weekday          1618 non-null   object \n",
            " 4   Date             139 non-null    object \n",
            " 5   Mileage_init     1712 non-null   object \n",
            " 6   length           1723 non-null   int64  \n",
            " 7   counter          1723 non-null   int64  \n",
            " 8   Workout_mins     10 non-null     float64\n",
            " 9   Swimming_meters  18 non-null     float64\n",
            " 10  Bike_Mileage     112 non-null    float64\n",
            "dtypes: float64(3), int64(2), object(6)\n",
            "memory usage: 161.5+ KB\n"
          ],
          "name": "stdout"
        }
      ]
    },
    {
      "cell_type": "code",
      "metadata": {
        "id": "y2MK9wYi_hmk"
      },
      "source": [
        "to_be_nan = list(new_log.counter[new_log.length > 1])\n",
        "for row_numb in to_be_nan:\n",
        "    new_log.iloc[row_numb,5] = np.nan"
      ],
      "execution_count": 228,
      "outputs": []
    },
    {
      "cell_type": "code",
      "metadata": {
        "id": "LFve4LTr0oUM"
      },
      "source": [
        "new_log.loc[:,'Mileage_init'] = new_log.loc[:,'Mileage_init'].str.replace('\\[\\'', '')\n",
        "new_log.loc[:,'Mileage_init'] = new_log.loc[:,'Mileage_init'].str.replace('\\'\\]', '')\n",
        "new_log.loc[:,'Mileage_init'] = new_log.loc[:,'Mileage_init'].str.replace('\\[\\]', '')"
      ],
      "execution_count": 229,
      "outputs": []
    },
    {
      "cell_type": "code",
      "metadata": {
        "id": "-XnF81yv7Byy",
        "outputId": "ca02dc92-b829-433b-91de-dbe2037224b3",
        "colab": {
          "base_uri": "https://localhost:8080/",
          "height": 204
        }
      },
      "source": [
        "new_log.Mileage_init = pd.to_numeric(new_log.Mileage_init, errors='coerce')\n",
        "new_log.head()"
      ],
      "execution_count": 230,
      "outputs": [
        {
          "output_type": "execute_result",
          "data": {
            "text/html": [
              "<div>\n",
              "<style scoped>\n",
              "    .dataframe tbody tr th:only-of-type {\n",
              "        vertical-align: middle;\n",
              "    }\n",
              "\n",
              "    .dataframe tbody tr th {\n",
              "        vertical-align: top;\n",
              "    }\n",
              "\n",
              "    .dataframe thead th {\n",
              "        text-align: right;\n",
              "    }\n",
              "</style>\n",
              "<table border=\"1\" class=\"dataframe\">\n",
              "  <thead>\n",
              "    <tr style=\"text-align: right;\">\n",
              "      <th></th>\n",
              "      <th>Notes2</th>\n",
              "      <th>Mileage</th>\n",
              "      <th>Notes</th>\n",
              "      <th>Weekday</th>\n",
              "      <th>Date</th>\n",
              "      <th>Mileage_init</th>\n",
              "      <th>length</th>\n",
              "      <th>counter</th>\n",
              "      <th>Workout_mins</th>\n",
              "      <th>Swimming_meters</th>\n",
              "      <th>Bike_Mileage</th>\n",
              "    </tr>\n",
              "  </thead>\n",
              "  <tbody>\n",
              "    <tr>\n",
              "      <th>0</th>\n",
              "      <td></td>\n",
              "      <td>NaN</td>\n",
              "      <td>4 miles 27:19 it was a little short. 3.8 mile...</td>\n",
              "      <td>Saturday</td>\n",
              "      <td>5/29/10</td>\n",
              "      <td>NaN</td>\n",
              "      <td>0</td>\n",
              "      <td>0</td>\n",
              "      <td>NaN</td>\n",
              "      <td>NaN</td>\n",
              "      <td>NaN</td>\n",
              "    </tr>\n",
              "    <tr>\n",
              "      <th>1</th>\n",
              "      <td></td>\n",
              "      <td>4 miles</td>\n",
              "      <td>NaN</td>\n",
              "      <td>Monday</td>\n",
              "      <td>6/21/10</td>\n",
              "      <td>NaN</td>\n",
              "      <td>0</td>\n",
              "      <td>1</td>\n",
              "      <td>NaN</td>\n",
              "      <td>NaN</td>\n",
              "      <td>NaN</td>\n",
              "    </tr>\n",
              "    <tr>\n",
              "      <th>2</th>\n",
              "      <td></td>\n",
              "      <td>4 miles</td>\n",
              "      <td>Swimming_ 10 laps of freestyle_5 laps of backs...</td>\n",
              "      <td>Tuesday</td>\n",
              "      <td>6/22/10</td>\n",
              "      <td>NaN</td>\n",
              "      <td>0</td>\n",
              "      <td>2</td>\n",
              "      <td>NaN</td>\n",
              "      <td>NaN</td>\n",
              "      <td>NaN</td>\n",
              "    </tr>\n",
              "    <tr>\n",
              "      <th>3</th>\n",
              "      <td></td>\n",
              "      <td>4.5 miles</td>\n",
              "      <td>35 minutes_nan_nan_nan_nan_nan_nan_nan_nan_nan...</td>\n",
              "      <td>Wednesday</td>\n",
              "      <td>6/23/10</td>\n",
              "      <td>NaN</td>\n",
              "      <td>0</td>\n",
              "      <td>3</td>\n",
              "      <td>NaN</td>\n",
              "      <td>NaN</td>\n",
              "      <td>NaN</td>\n",
              "    </tr>\n",
              "    <tr>\n",
              "      <th>4</th>\n",
              "      <td></td>\n",
              "      <td>5</td>\n",
              "      <td>NaN</td>\n",
              "      <td>Thursday</td>\n",
              "      <td>6/25/10</td>\n",
              "      <td>NaN</td>\n",
              "      <td>0</td>\n",
              "      <td>4</td>\n",
              "      <td>NaN</td>\n",
              "      <td>NaN</td>\n",
              "      <td>NaN</td>\n",
              "    </tr>\n",
              "  </tbody>\n",
              "</table>\n",
              "</div>"
            ],
            "text/plain": [
              "  Notes2     Mileage  ... Swimming_meters Bike_Mileage\n",
              "0                NaN  ...             NaN          NaN\n",
              "1            4 miles  ...             NaN          NaN\n",
              "2            4 miles  ...             NaN          NaN\n",
              "3          4.5 miles  ...             NaN          NaN\n",
              "4                 5   ...             NaN          NaN\n",
              "\n",
              "[5 rows x 11 columns]"
            ]
          },
          "metadata": {
            "tags": []
          },
          "execution_count": 230
        }
      ]
    },
    {
      "cell_type": "code",
      "metadata": {
        "id": "2UpWZ8lZfZhz"
      },
      "source": [
        "new_log.insert(8, 'Workout_type',None)"
      ],
      "execution_count": 231,
      "outputs": []
    },
    {
      "cell_type": "code",
      "metadata": {
        "id": "fHykuzSRjRvb",
        "outputId": "29a9d004-f868-48df-852a-c9a011c4ea9b",
        "colab": {
          "base_uri": "https://localhost:8080/",
          "height": 204
        }
      },
      "source": [
        "new_log.head()"
      ],
      "execution_count": 232,
      "outputs": [
        {
          "output_type": "execute_result",
          "data": {
            "text/html": [
              "<div>\n",
              "<style scoped>\n",
              "    .dataframe tbody tr th:only-of-type {\n",
              "        vertical-align: middle;\n",
              "    }\n",
              "\n",
              "    .dataframe tbody tr th {\n",
              "        vertical-align: top;\n",
              "    }\n",
              "\n",
              "    .dataframe thead th {\n",
              "        text-align: right;\n",
              "    }\n",
              "</style>\n",
              "<table border=\"1\" class=\"dataframe\">\n",
              "  <thead>\n",
              "    <tr style=\"text-align: right;\">\n",
              "      <th></th>\n",
              "      <th>Notes2</th>\n",
              "      <th>Mileage</th>\n",
              "      <th>Notes</th>\n",
              "      <th>Weekday</th>\n",
              "      <th>Date</th>\n",
              "      <th>Mileage_init</th>\n",
              "      <th>length</th>\n",
              "      <th>counter</th>\n",
              "      <th>Workout_type</th>\n",
              "      <th>Workout_mins</th>\n",
              "      <th>Swimming_meters</th>\n",
              "      <th>Bike_Mileage</th>\n",
              "    </tr>\n",
              "  </thead>\n",
              "  <tbody>\n",
              "    <tr>\n",
              "      <th>0</th>\n",
              "      <td></td>\n",
              "      <td>NaN</td>\n",
              "      <td>4 miles 27:19 it was a little short. 3.8 mile...</td>\n",
              "      <td>Saturday</td>\n",
              "      <td>5/29/10</td>\n",
              "      <td>NaN</td>\n",
              "      <td>0</td>\n",
              "      <td>0</td>\n",
              "      <td>None</td>\n",
              "      <td>NaN</td>\n",
              "      <td>NaN</td>\n",
              "      <td>NaN</td>\n",
              "    </tr>\n",
              "    <tr>\n",
              "      <th>1</th>\n",
              "      <td></td>\n",
              "      <td>4 miles</td>\n",
              "      <td>NaN</td>\n",
              "      <td>Monday</td>\n",
              "      <td>6/21/10</td>\n",
              "      <td>NaN</td>\n",
              "      <td>0</td>\n",
              "      <td>1</td>\n",
              "      <td>None</td>\n",
              "      <td>NaN</td>\n",
              "      <td>NaN</td>\n",
              "      <td>NaN</td>\n",
              "    </tr>\n",
              "    <tr>\n",
              "      <th>2</th>\n",
              "      <td></td>\n",
              "      <td>4 miles</td>\n",
              "      <td>Swimming_ 10 laps of freestyle_5 laps of backs...</td>\n",
              "      <td>Tuesday</td>\n",
              "      <td>6/22/10</td>\n",
              "      <td>NaN</td>\n",
              "      <td>0</td>\n",
              "      <td>2</td>\n",
              "      <td>None</td>\n",
              "      <td>NaN</td>\n",
              "      <td>NaN</td>\n",
              "      <td>NaN</td>\n",
              "    </tr>\n",
              "    <tr>\n",
              "      <th>3</th>\n",
              "      <td></td>\n",
              "      <td>4.5 miles</td>\n",
              "      <td>35 minutes_nan_nan_nan_nan_nan_nan_nan_nan_nan...</td>\n",
              "      <td>Wednesday</td>\n",
              "      <td>6/23/10</td>\n",
              "      <td>NaN</td>\n",
              "      <td>0</td>\n",
              "      <td>3</td>\n",
              "      <td>None</td>\n",
              "      <td>NaN</td>\n",
              "      <td>NaN</td>\n",
              "      <td>NaN</td>\n",
              "    </tr>\n",
              "    <tr>\n",
              "      <th>4</th>\n",
              "      <td></td>\n",
              "      <td>5</td>\n",
              "      <td>NaN</td>\n",
              "      <td>Thursday</td>\n",
              "      <td>6/25/10</td>\n",
              "      <td>NaN</td>\n",
              "      <td>0</td>\n",
              "      <td>4</td>\n",
              "      <td>None</td>\n",
              "      <td>NaN</td>\n",
              "      <td>NaN</td>\n",
              "      <td>NaN</td>\n",
              "    </tr>\n",
              "  </tbody>\n",
              "</table>\n",
              "</div>"
            ],
            "text/plain": [
              "  Notes2     Mileage  ... Swimming_meters Bike_Mileage\n",
              "0                NaN  ...             NaN          NaN\n",
              "1            4 miles  ...             NaN          NaN\n",
              "2            4 miles  ...             NaN          NaN\n",
              "3          4.5 miles  ...             NaN          NaN\n",
              "4                 5   ...             NaN          NaN\n",
              "\n",
              "[5 rows x 12 columns]"
            ]
          },
          "metadata": {
            "tags": []
          },
          "execution_count": 232
        }
      ]
    },
    {
      "cell_type": "code",
      "metadata": {
        "id": "DvKWFNrlnG82"
      },
      "source": [
        "# dropping two lines that just had \"WORKOUTS TOTAL\"\n",
        "new_log = new_log.drop([30,143,187,334,360,442,610,789,969,1113,1121,1131,1258,1259,1260,\n",
        "                        1261,1262,1453,1523,1598,1643,1652,1686,1727,1737,1747,1756,1757,\n",
        "                        1767,1776,1777,1786,1787,1796,1797,1807,1816,1825,1834,1843,1852,\n",
        "                        1861,1870,1879,1895,1904,1913,1922,1931])\n",
        "new_log['counter'] = range(len(new_log))"
      ],
      "execution_count": 233,
      "outputs": []
    },
    {
      "cell_type": "code",
      "metadata": {
        "id": "THQtld4jiY15"
      },
      "source": [
        "def workout_finder_fx(df, col, str_search, minutes, workout_type, *exclude):\n",
        "    w_o = list(df.loc[:, col].str.contains(str_search))\n",
        "    for idx, n in enumerate(w_o):\n",
        "        if n == None:\n",
        "            continue\n",
        "        elif n == True:\n",
        "            enough_to_exclude = 0\n",
        "            for e in exclude:\n",
        "                o2 = re.search(e, df[col].iloc[idx])\n",
        "                if o2:\n",
        "                    enough_to_exclude += 1\n",
        "            if enough_to_exclude < 1:\n",
        "                df['Workout_type'].iloc[idx] = workout_type\n",
        "                df['Workout_mins'].iloc[idx] = minutes\n",
        "    return df\n",
        "\n"
      ],
      "execution_count": 234,
      "outputs": []
    },
    {
      "cell_type": "code",
      "metadata": {
        "id": "gvI_UJ7HtFpq",
        "outputId": "d672a111-2a2a-445f-be38-3e49dab2f251",
        "colab": {
          "base_uri": "https://localhost:8080/",
          "height": 544
        }
      },
      "source": [
        "ab_workout_incl_log = workout_finder_fx(new_log, 'Notes2', '[Aa]b [Ww]orkout', 20, 'abs')\n",
        "gym_workout_incl_log = workout_finder_fx(ab_workout_incl_log, 'Notes2', '[Ww]orkout',45, 'gym', '[Ss]wim', '[Aa]b')\n",
        "print(gym_workout_incl_log.iloc[1084])\n",
        "gym_workout_incl_log.iloc[1267]"
      ],
      "execution_count": 235,
      "outputs": [
        {
          "output_type": "stream",
          "text": [
            "Notes2              - mile warmup - 4.5 miles - dads loop - 3 mil...\n",
            "Mileage                                                          5.5\n",
            "Notes                                                            NaN\n",
            "Weekday                                                     Saturday\n",
            "Date                                                             NaN\n",
            "Mileage_init                                                     NaN\n",
            "length                                                             9\n",
            "counter                                                         1084\n",
            "Workout_type                                                    None\n",
            "Workout_mins                                                     NaN\n",
            "Swimming_meters                                                  NaN\n",
            "Bike_Mileage                                                     NaN\n",
            "Name: 1283, dtype: object\n"
          ],
          "name": "stdout"
        },
        {
          "output_type": "stream",
          "text": [
            "/usr/local/lib/python3.6/dist-packages/pandas/core/indexing.py:670: SettingWithCopyWarning: \n",
            "A value is trying to be set on a copy of a slice from a DataFrame\n",
            "\n",
            "See the caveats in the documentation: https://pandas.pydata.org/pandas-docs/stable/user_guide/indexing.html#returning-a-view-versus-a-copy\n",
            "  iloc._setitem_with_indexer(indexer, value)\n"
          ],
          "name": "stderr"
        },
        {
          "output_type": "execute_result",
          "data": {
            "text/plain": [
              "Notes2              - workout between classes\n",
              "Mileage                                   NaN\n",
              "Notes                                     NaN\n",
              "Weekday                              Thursday\n",
              "Date                                      NaN\n",
              "Mileage_init                              NaN\n",
              "length                                      0\n",
              "counter                                  1267\n",
              "Workout_type                              gym\n",
              "Workout_mins                               45\n",
              "Swimming_meters                           NaN\n",
              "Bike_Mileage                              NaN\n",
              "Name: 1492, dtype: object"
            ]
          },
          "metadata": {
            "tags": []
          },
          "execution_count": 235
        }
      ]
    },
    {
      "cell_type": "markdown",
      "metadata": {
        "id": "qA0LbwATM3cJ"
      },
      "source": [
        "Mileage Column"
      ]
    },
    {
      "cell_type": "code",
      "metadata": {
        "id": "lzfTK6j3X6zB",
        "outputId": "a1e5be1c-4a35-4625-d404-7a5715ceb8b7",
        "colab": {
          "base_uri": "https://localhost:8080/",
          "height": 238
        }
      },
      "source": [
        "gym_workout_incl_log.iloc[314]"
      ],
      "execution_count": 236,
      "outputs": [
        {
          "output_type": "execute_result",
          "data": {
            "text/plain": [
              "Notes2                                              \n",
              "Mileage             6 miles greystone then dads loop\n",
              "Notes                                            NaN\n",
              "Weekday                                     Saturday\n",
              "Date                                             NaN\n",
              "Mileage_init                                     NaN\n",
              "length                                             0\n",
              "counter                                          314\n",
              "Workout_type                                    None\n",
              "Workout_mins                                     NaN\n",
              "Swimming_meters                                  NaN\n",
              "Bike_Mileage                                     NaN\n",
              "Name: 376, dtype: object"
            ]
          },
          "metadata": {
            "tags": []
          },
          "execution_count": 236
        }
      ]
    },
    {
      "cell_type": "code",
      "metadata": {
        "id": "oe9bn5XuNS84",
        "outputId": "95f9ff44-842a-4bca-af2f-120ebd2eb8af",
        "colab": {
          "base_uri": "https://localhost:8080/",
          "height": 444
        }
      },
      "source": [
        "# might need to try out the \"try\" in a function to see if it can be converted to \n",
        "# an integer if not, then put the note into a separate column and delete it from\n",
        "# the mileage column\n",
        "def remove_mileage_notes_fx(df, col):\n",
        "    notes3_col = [''] * len(df[col])\n",
        "    list_col = list(df.loc[:, col])\n",
        "    for idx, a in enumerate(list_col):\n",
        "        try:\n",
        "            float_a = float(a)\n",
        "            df[col].iloc[idx] = float_a\n",
        "        except:\n",
        "            notes3_col[idx] = a\n",
        "            df[col].iloc[idx] = np.nan\n",
        "    df['Notes3'] = notes3_col\n",
        "    return df\n",
        "sep_notes_from_mileage_col = remove_mileage_notes_fx(gym_workout_incl_log, 'Mileage')\n",
        "sep_notes_from_mileage_col.head(10)"
      ],
      "execution_count": 237,
      "outputs": [
        {
          "output_type": "stream",
          "text": [
            "/usr/local/lib/python3.6/dist-packages/pandas/core/indexing.py:670: SettingWithCopyWarning: \n",
            "A value is trying to be set on a copy of a slice from a DataFrame\n",
            "\n",
            "See the caveats in the documentation: https://pandas.pydata.org/pandas-docs/stable/user_guide/indexing.html#returning-a-view-versus-a-copy\n",
            "  iloc._setitem_with_indexer(indexer, value)\n"
          ],
          "name": "stderr"
        },
        {
          "output_type": "execute_result",
          "data": {
            "text/html": [
              "<div>\n",
              "<style scoped>\n",
              "    .dataframe tbody tr th:only-of-type {\n",
              "        vertical-align: middle;\n",
              "    }\n",
              "\n",
              "    .dataframe tbody tr th {\n",
              "        vertical-align: top;\n",
              "    }\n",
              "\n",
              "    .dataframe thead th {\n",
              "        text-align: right;\n",
              "    }\n",
              "</style>\n",
              "<table border=\"1\" class=\"dataframe\">\n",
              "  <thead>\n",
              "    <tr style=\"text-align: right;\">\n",
              "      <th></th>\n",
              "      <th>Notes2</th>\n",
              "      <th>Mileage</th>\n",
              "      <th>Notes</th>\n",
              "      <th>Weekday</th>\n",
              "      <th>Date</th>\n",
              "      <th>Mileage_init</th>\n",
              "      <th>length</th>\n",
              "      <th>counter</th>\n",
              "      <th>Workout_type</th>\n",
              "      <th>Workout_mins</th>\n",
              "      <th>Swimming_meters</th>\n",
              "      <th>Bike_Mileage</th>\n",
              "      <th>Notes3</th>\n",
              "    </tr>\n",
              "  </thead>\n",
              "  <tbody>\n",
              "    <tr>\n",
              "      <th>0</th>\n",
              "      <td></td>\n",
              "      <td>NaN</td>\n",
              "      <td>4 miles 27:19 it was a little short. 3.8 mile...</td>\n",
              "      <td>Saturday</td>\n",
              "      <td>5/29/10</td>\n",
              "      <td>NaN</td>\n",
              "      <td>0</td>\n",
              "      <td>0</td>\n",
              "      <td>None</td>\n",
              "      <td>NaN</td>\n",
              "      <td>NaN</td>\n",
              "      <td>NaN</td>\n",
              "      <td></td>\n",
              "    </tr>\n",
              "    <tr>\n",
              "      <th>1</th>\n",
              "      <td></td>\n",
              "      <td>NaN</td>\n",
              "      <td>NaN</td>\n",
              "      <td>Monday</td>\n",
              "      <td>6/21/10</td>\n",
              "      <td>NaN</td>\n",
              "      <td>0</td>\n",
              "      <td>1</td>\n",
              "      <td>None</td>\n",
              "      <td>NaN</td>\n",
              "      <td>NaN</td>\n",
              "      <td>NaN</td>\n",
              "      <td>4 miles</td>\n",
              "    </tr>\n",
              "    <tr>\n",
              "      <th>2</th>\n",
              "      <td></td>\n",
              "      <td>NaN</td>\n",
              "      <td>Swimming_ 10 laps of freestyle_5 laps of backs...</td>\n",
              "      <td>Tuesday</td>\n",
              "      <td>6/22/10</td>\n",
              "      <td>NaN</td>\n",
              "      <td>0</td>\n",
              "      <td>2</td>\n",
              "      <td>None</td>\n",
              "      <td>NaN</td>\n",
              "      <td>NaN</td>\n",
              "      <td>NaN</td>\n",
              "      <td>4 miles</td>\n",
              "    </tr>\n",
              "    <tr>\n",
              "      <th>3</th>\n",
              "      <td></td>\n",
              "      <td>NaN</td>\n",
              "      <td>35 minutes_nan_nan_nan_nan_nan_nan_nan_nan_nan...</td>\n",
              "      <td>Wednesday</td>\n",
              "      <td>6/23/10</td>\n",
              "      <td>NaN</td>\n",
              "      <td>0</td>\n",
              "      <td>3</td>\n",
              "      <td>None</td>\n",
              "      <td>NaN</td>\n",
              "      <td>NaN</td>\n",
              "      <td>NaN</td>\n",
              "      <td>4.5 miles</td>\n",
              "    </tr>\n",
              "    <tr>\n",
              "      <th>4</th>\n",
              "      <td></td>\n",
              "      <td>5</td>\n",
              "      <td>NaN</td>\n",
              "      <td>Thursday</td>\n",
              "      <td>6/25/10</td>\n",
              "      <td>NaN</td>\n",
              "      <td>0</td>\n",
              "      <td>4</td>\n",
              "      <td>None</td>\n",
              "      <td>NaN</td>\n",
              "      <td>NaN</td>\n",
              "      <td>NaN</td>\n",
              "      <td></td>\n",
              "    </tr>\n",
              "    <tr>\n",
              "      <th>5</th>\n",
              "      <td></td>\n",
              "      <td>5</td>\n",
              "      <td>Swimming_ same as Tuesday_nan_nan_nan_nan_nan_...</td>\n",
              "      <td>Friday</td>\n",
              "      <td>6/26/10</td>\n",
              "      <td>NaN</td>\n",
              "      <td>0</td>\n",
              "      <td>5</td>\n",
              "      <td>None</td>\n",
              "      <td>NaN</td>\n",
              "      <td>NaN</td>\n",
              "      <td>NaN</td>\n",
              "      <td></td>\n",
              "    </tr>\n",
              "    <tr>\n",
              "      <th>6</th>\n",
              "      <td></td>\n",
              "      <td>6</td>\n",
              "      <td>41:04_nan_nan_nan_nan_nan_nan_nan_nan_nan_nan...</td>\n",
              "      <td>Saturday</td>\n",
              "      <td>6/27/10</td>\n",
              "      <td>NaN</td>\n",
              "      <td>0</td>\n",
              "      <td>6</td>\n",
              "      <td>None</td>\n",
              "      <td>NaN</td>\n",
              "      <td>NaN</td>\n",
              "      <td>NaN</td>\n",
              "      <td></td>\n",
              "    </tr>\n",
              "    <tr>\n",
              "      <th>8</th>\n",
              "      <td></td>\n",
              "      <td>4</td>\n",
              "      <td>28:04:00_5 total_nan_nan_nan_nan_nan_nan_nan_n...</td>\n",
              "      <td>Monday</td>\n",
              "      <td>6/28/10</td>\n",
              "      <td>NaN</td>\n",
              "      <td>0</td>\n",
              "      <td>7</td>\n",
              "      <td>None</td>\n",
              "      <td>NaN</td>\n",
              "      <td>NaN</td>\n",
              "      <td>NaN</td>\n",
              "      <td></td>\n",
              "    </tr>\n",
              "    <tr>\n",
              "      <th>9</th>\n",
              "      <td></td>\n",
              "      <td>5</td>\n",
              "      <td>NaN</td>\n",
              "      <td>Tuesday</td>\n",
              "      <td>6/29/10</td>\n",
              "      <td>NaN</td>\n",
              "      <td>0</td>\n",
              "      <td>8</td>\n",
              "      <td>None</td>\n",
              "      <td>NaN</td>\n",
              "      <td>NaN</td>\n",
              "      <td>NaN</td>\n",
              "      <td></td>\n",
              "    </tr>\n",
              "    <tr>\n",
              "      <th>10</th>\n",
              "      <td></td>\n",
              "      <td>5.5</td>\n",
              "      <td>Swimming_normal_nan_nan_nan_nan_nan_nan_nan_na...</td>\n",
              "      <td>Wednesday</td>\n",
              "      <td>6/30/10</td>\n",
              "      <td>NaN</td>\n",
              "      <td>0</td>\n",
              "      <td>9</td>\n",
              "      <td>None</td>\n",
              "      <td>NaN</td>\n",
              "      <td>NaN</td>\n",
              "      <td>NaN</td>\n",
              "      <td></td>\n",
              "    </tr>\n",
              "  </tbody>\n",
              "</table>\n",
              "</div>"
            ],
            "text/plain": [
              "   Notes2 Mileage  ... Bike_Mileage      Notes3\n",
              "0             NaN  ...          NaN            \n",
              "1             NaN  ...          NaN     4 miles\n",
              "2             NaN  ...          NaN     4 miles\n",
              "3             NaN  ...          NaN   4.5 miles\n",
              "4               5  ...          NaN            \n",
              "5               5  ...          NaN            \n",
              "6               6  ...          NaN            \n",
              "8               4  ...          NaN            \n",
              "9               5  ...          NaN            \n",
              "10            5.5  ...          NaN            \n",
              "\n",
              "[10 rows x 13 columns]"
            ]
          },
          "metadata": {
            "tags": []
          },
          "execution_count": 237
        }
      ]
    },
    {
      "cell_type": "markdown",
      "metadata": {
        "id": "CO_T5VnWYkFH"
      },
      "source": [
        "took all of the text that was in the mileage column and moved it to a separate column, and left any number that was purely a number and converted the column to be integers. "
      ]
    },
    {
      "cell_type": "code",
      "metadata": {
        "id": "xKeDD2T6YV2M"
      },
      "source": [
        "# now I need to go through the notes3 column and pull out any that have just mileage, \n",
        "#then I will need to go through and search those that have dates and other mess \n",
        "#in there, then I will need to apply the same functions to the Notes column"
      ],
      "execution_count": 238,
      "outputs": []
    },
    {
      "cell_type": "code",
      "metadata": {
        "id": "Zx_WCf5130Qa",
        "outputId": "eace8e30-87cf-413e-c755-4e64c1e62db7",
        "colab": {
          "base_uri": "https://localhost:8080/",
          "height": 419
        }
      },
      "source": [
        "findall_n_join_fx(sep_notes_from_mileage_col, 'Notes3', 'Date2', '\\d+/\\d+/\\d\\d')"
      ],
      "execution_count": 239,
      "outputs": [
        {
          "output_type": "execute_result",
          "data": {
            "text/html": [
              "<div>\n",
              "<style scoped>\n",
              "    .dataframe tbody tr th:only-of-type {\n",
              "        vertical-align: middle;\n",
              "    }\n",
              "\n",
              "    .dataframe tbody tr th {\n",
              "        vertical-align: top;\n",
              "    }\n",
              "\n",
              "    .dataframe thead th {\n",
              "        text-align: right;\n",
              "    }\n",
              "</style>\n",
              "<table border=\"1\" class=\"dataframe\">\n",
              "  <thead>\n",
              "    <tr style=\"text-align: right;\">\n",
              "      <th></th>\n",
              "      <th>Notes2</th>\n",
              "      <th>Mileage</th>\n",
              "      <th>Notes</th>\n",
              "      <th>Weekday</th>\n",
              "      <th>Date</th>\n",
              "      <th>Mileage_init</th>\n",
              "      <th>length</th>\n",
              "      <th>counter</th>\n",
              "      <th>Workout_type</th>\n",
              "      <th>Workout_mins</th>\n",
              "      <th>Swimming_meters</th>\n",
              "      <th>Bike_Mileage</th>\n",
              "      <th>Notes3</th>\n",
              "      <th>Date2</th>\n",
              "    </tr>\n",
              "  </thead>\n",
              "  <tbody>\n",
              "    <tr>\n",
              "      <th>0</th>\n",
              "      <td></td>\n",
              "      <td>NaN</td>\n",
              "      <td>4 miles 27:19 it was a little short. 3.8 mile...</td>\n",
              "      <td>Saturday</td>\n",
              "      <td>5/29/10</td>\n",
              "      <td>NaN</td>\n",
              "      <td>0</td>\n",
              "      <td>0</td>\n",
              "      <td>None</td>\n",
              "      <td>NaN</td>\n",
              "      <td>NaN</td>\n",
              "      <td>NaN</td>\n",
              "      <td></td>\n",
              "      <td></td>\n",
              "    </tr>\n",
              "    <tr>\n",
              "      <th>1</th>\n",
              "      <td></td>\n",
              "      <td>NaN</td>\n",
              "      <td>NaN</td>\n",
              "      <td>Monday</td>\n",
              "      <td>6/21/10</td>\n",
              "      <td>NaN</td>\n",
              "      <td>0</td>\n",
              "      <td>1</td>\n",
              "      <td>None</td>\n",
              "      <td>NaN</td>\n",
              "      <td>NaN</td>\n",
              "      <td>NaN</td>\n",
              "      <td>4 miles</td>\n",
              "      <td></td>\n",
              "    </tr>\n",
              "    <tr>\n",
              "      <th>2</th>\n",
              "      <td></td>\n",
              "      <td>NaN</td>\n",
              "      <td>Swimming_ 10 laps of freestyle_5 laps of backs...</td>\n",
              "      <td>Tuesday</td>\n",
              "      <td>6/22/10</td>\n",
              "      <td>NaN</td>\n",
              "      <td>0</td>\n",
              "      <td>2</td>\n",
              "      <td>None</td>\n",
              "      <td>NaN</td>\n",
              "      <td>NaN</td>\n",
              "      <td>NaN</td>\n",
              "      <td>4 miles</td>\n",
              "      <td></td>\n",
              "    </tr>\n",
              "    <tr>\n",
              "      <th>3</th>\n",
              "      <td></td>\n",
              "      <td>NaN</td>\n",
              "      <td>35 minutes_nan_nan_nan_nan_nan_nan_nan_nan_nan...</td>\n",
              "      <td>Wednesday</td>\n",
              "      <td>6/23/10</td>\n",
              "      <td>NaN</td>\n",
              "      <td>0</td>\n",
              "      <td>3</td>\n",
              "      <td>None</td>\n",
              "      <td>NaN</td>\n",
              "      <td>NaN</td>\n",
              "      <td>NaN</td>\n",
              "      <td>4.5 miles</td>\n",
              "      <td></td>\n",
              "    </tr>\n",
              "    <tr>\n",
              "      <th>4</th>\n",
              "      <td></td>\n",
              "      <td>5</td>\n",
              "      <td>NaN</td>\n",
              "      <td>Thursday</td>\n",
              "      <td>6/25/10</td>\n",
              "      <td>NaN</td>\n",
              "      <td>0</td>\n",
              "      <td>4</td>\n",
              "      <td>None</td>\n",
              "      <td>NaN</td>\n",
              "      <td>NaN</td>\n",
              "      <td>NaN</td>\n",
              "      <td></td>\n",
              "      <td></td>\n",
              "    </tr>\n",
              "    <tr>\n",
              "      <th>...</th>\n",
              "      <td>...</td>\n",
              "      <td>...</td>\n",
              "      <td>...</td>\n",
              "      <td>...</td>\n",
              "      <td>...</td>\n",
              "      <td>...</td>\n",
              "      <td>...</td>\n",
              "      <td>...</td>\n",
              "      <td>...</td>\n",
              "      <td>...</td>\n",
              "      <td>...</td>\n",
              "      <td>...</td>\n",
              "      <td>...</td>\n",
              "      <td>...</td>\n",
              "    </tr>\n",
              "    <tr>\n",
              "      <th>1978</th>\n",
              "      <td>- 10 miles</td>\n",
              "      <td>NaN</td>\n",
              "      <td>NaN</td>\n",
              "      <td>Sunday</td>\n",
              "      <td>NaN</td>\n",
              "      <td>10.0</td>\n",
              "      <td>1</td>\n",
              "      <td>1669</td>\n",
              "      <td>None</td>\n",
              "      <td>NaN</td>\n",
              "      <td>NaN</td>\n",
              "      <td>NaN</td>\n",
              "      <td></td>\n",
              "      <td></td>\n",
              "    </tr>\n",
              "    <tr>\n",
              "      <th>1980</th>\n",
              "      <td>-  - off</td>\n",
              "      <td>NaN</td>\n",
              "      <td>NaN</td>\n",
              "      <td>Monday</td>\n",
              "      <td>12/21/15</td>\n",
              "      <td>NaN</td>\n",
              "      <td>0</td>\n",
              "      <td>1670</td>\n",
              "      <td>None</td>\n",
              "      <td>NaN</td>\n",
              "      <td>NaN</td>\n",
              "      <td>NaN</td>\n",
              "      <td></td>\n",
              "      <td></td>\n",
              "    </tr>\n",
              "    <tr>\n",
              "      <th>1981</th>\n",
              "      <td>- I've failed. Not going to be able to run fo...</td>\n",
              "      <td>NaN</td>\n",
              "      <td>NaN</td>\n",
              "      <td>Tuesday</td>\n",
              "      <td>NaN</td>\n",
              "      <td>NaN</td>\n",
              "      <td>0</td>\n",
              "      <td>1671</td>\n",
              "      <td>None</td>\n",
              "      <td>NaN</td>\n",
              "      <td>NaN</td>\n",
              "      <td>NaN</td>\n",
              "      <td></td>\n",
              "      <td></td>\n",
              "    </tr>\n",
              "    <tr>\n",
              "      <th>1982</th>\n",
              "      <td>-  - 3 miles</td>\n",
              "      <td>NaN</td>\n",
              "      <td>NaN</td>\n",
              "      <td>Thursday</td>\n",
              "      <td>12/25/15</td>\n",
              "      <td>3.0</td>\n",
              "      <td>1</td>\n",
              "      <td>1672</td>\n",
              "      <td>None</td>\n",
              "      <td>NaN</td>\n",
              "      <td>NaN</td>\n",
              "      <td>NaN</td>\n",
              "      <td></td>\n",
              "      <td></td>\n",
              "    </tr>\n",
              "    <tr>\n",
              "      <th>1983</th>\n",
              "      <td>-  - 30 minutes biking - 9.5 miles</td>\n",
              "      <td>NaN</td>\n",
              "      <td>NaN</td>\n",
              "      <td>Thursday</td>\n",
              "      <td>12/31/15</td>\n",
              "      <td>NaN</td>\n",
              "      <td>2</td>\n",
              "      <td>1673</td>\n",
              "      <td>None</td>\n",
              "      <td>NaN</td>\n",
              "      <td>NaN</td>\n",
              "      <td>9.5</td>\n",
              "      <td></td>\n",
              "      <td></td>\n",
              "    </tr>\n",
              "  </tbody>\n",
              "</table>\n",
              "<p>1674 rows × 14 columns</p>\n",
              "</div>"
            ],
            "text/plain": [
              "                                                 Notes2  ... Date2\n",
              "0                                                        ...      \n",
              "1                                                        ...      \n",
              "2                                                        ...      \n",
              "3                                                        ...      \n",
              "4                                                        ...      \n",
              "...                                                 ...  ...   ...\n",
              "1978                                         - 10 miles  ...      \n",
              "1980                                           -  - off  ...      \n",
              "1981   - I've failed. Not going to be able to run fo...  ...      \n",
              "1982                                       -  - 3 miles  ...      \n",
              "1983                 -  - 30 minutes biking - 9.5 miles  ...      \n",
              "\n",
              "[1674 rows x 14 columns]"
            ]
          },
          "metadata": {
            "tags": []
          },
          "execution_count": 239
        }
      ]
    },
    {
      "cell_type": "code",
      "metadata": {
        "id": "AuYxdRm0LIWp",
        "outputId": "fe608859-b75e-4c63-adac-f150cb0a5cdb",
        "colab": {
          "base_uri": "https://localhost:8080/",
          "height": 272
        }
      },
      "source": [
        "sep_notes_from_mileage_col.loc[34]"
      ],
      "execution_count": 240,
      "outputs": [
        {
          "output_type": "execute_result",
          "data": {
            "text/plain": [
              "Notes2                                   \n",
              "Mileage                               NaN\n",
              "Notes                                 NaN\n",
              "Weekday                         Wednesday\n",
              "Date                              7/28/10\n",
              "Mileage_init                          NaN\n",
              "length                                  0\n",
              "counter                                28\n",
              "Workout_type                         None\n",
              "Workout_mins                          NaN\n",
              "Swimming_meters                       NaN\n",
              "Bike_Mileage                          NaN\n",
              "Notes3             2 miles / 5 miles hike\n",
              "Date2                                    \n",
              "Name: 34, dtype: object"
            ]
          },
          "metadata": {
            "tags": []
          },
          "execution_count": 240
        }
      ]
    },
    {
      "cell_type": "code",
      "metadata": {
        "id": "TyNktNm-Cvx9"
      },
      "source": [
        "def date_finder_fx(df, new_date):\n",
        "    date_col = list(df[new_date])\n",
        "    for idx, date in enumerate(date_col):\n",
        "        try:\n",
        "            if math.isnan(date):\n",
        "                continue\n",
        "        except:\n",
        "            if date == '':\n",
        "                continue\n",
        "            try:\n",
        "                if math.isnan(df['Date'].iloc[idx]):\n",
        "                    df['Date'].iloc[idx] = date\n",
        "            except:\n",
        "                continue\n",
        "                "
      ],
      "execution_count": 241,
      "outputs": []
    },
    {
      "cell_type": "code",
      "metadata": {
        "id": "5o-ICFgOFudn",
        "outputId": "feab1218-2678-4aa6-aa98-60a3446adcd6",
        "colab": {
          "base_uri": "https://localhost:8080/",
          "height": 102
        }
      },
      "source": [
        "date_finder_fx(sep_notes_from_mileage_col, 'Date2')"
      ],
      "execution_count": 242,
      "outputs": [
        {
          "output_type": "stream",
          "text": [
            "/usr/local/lib/python3.6/dist-packages/pandas/core/indexing.py:670: SettingWithCopyWarning: \n",
            "A value is trying to be set on a copy of a slice from a DataFrame\n",
            "\n",
            "See the caveats in the documentation: https://pandas.pydata.org/pandas-docs/stable/user_guide/indexing.html#returning-a-view-versus-a-copy\n",
            "  iloc._setitem_with_indexer(indexer, value)\n"
          ],
          "name": "stderr"
        }
      ]
    },
    {
      "cell_type": "code",
      "metadata": {
        "id": "-ioxXcXHYssZ",
        "outputId": "0eced669-3536-49aa-d664-04cda66aec79",
        "colab": {
          "base_uri": "https://localhost:8080/",
          "height": 374
        }
      },
      "source": [
        "sep_notes_from_mileage_col.info()"
      ],
      "execution_count": 243,
      "outputs": [
        {
          "output_type": "stream",
          "text": [
            "<class 'pandas.core.frame.DataFrame'>\n",
            "Int64Index: 1674 entries, 0 to 1983\n",
            "Data columns (total 14 columns):\n",
            " #   Column           Non-Null Count  Dtype  \n",
            "---  ------           --------------  -----  \n",
            " 0   Notes2           1616 non-null   object \n",
            " 1   Mileage          192 non-null    object \n",
            " 2   Notes            740 non-null    object \n",
            " 3   Weekday          1616 non-null   object \n",
            " 4   Date             292 non-null    object \n",
            " 5   Mileage_init     381 non-null    float64\n",
            " 6   length           1674 non-null   int64  \n",
            " 7   counter          1674 non-null   int64  \n",
            " 8   Workout_type     68 non-null     object \n",
            " 9   Workout_mins     70 non-null     float64\n",
            " 10  Swimming_meters  18 non-null     float64\n",
            " 11  Bike_Mileage     112 non-null    float64\n",
            " 12  Notes3           1674 non-null   object \n",
            " 13  Date2            1674 non-null   object \n",
            "dtypes: float64(4), int64(2), object(8)\n",
            "memory usage: 276.2+ KB\n"
          ],
          "name": "stdout"
        }
      ]
    },
    {
      "cell_type": "code",
      "metadata": {
        "id": "Vj3O8iha_Uye"
      },
      "source": [
        "sep_notes_from_mileage_col.loc[:, 'Notes'] = sep_notes_from_mileage_col.loc[:, 'Notes'].str.replace('_nan', '')"
      ],
      "execution_count": 244,
      "outputs": []
    },
    {
      "cell_type": "code",
      "metadata": {
        "id": "y3ojPpCDYNU0"
      },
      "source": [
        "sep_notes_from_mileage_col.loc[:, 'Notes'] = sep_notes_from_mileage_col.loc[:, 'Notes'].str.lower()\n",
        "sep_notes_from_mileage_col.loc[:, 'Notes2'] = sep_notes_from_mileage_col.loc[:, 'Notes2'].str.lower()\n",
        "sep_notes_from_mileage_col.loc[:, 'Notes3'] = sep_notes_from_mileage_col.loc[:, 'Notes3'].str.lower()"
      ],
      "execution_count": 245,
      "outputs": []
    },
    {
      "cell_type": "code",
      "metadata": {
        "id": "Y9kYHZ2aexO4"
      },
      "source": [
        "sep_notes_from_mileage_col['Mileage_init2'] = sep_notes_from_mileage_col.Notes3.str.findall('\\d+\\.?\\d* miles?')\n",
        "sep_notes_from_mileage_col.loc[:, 'Notes3'] = sep_notes_from_mileage_col.loc[:, 'Notes3'].str.replace('\\d+\\.?\\d* miles?', '')\n",
        "sep_notes_from_mileage_col['Mileage_init3'] = sep_notes_from_mileage_col.Notes.str.findall('\\d+\\.?\\d* miles?')\n",
        "sep_notes_from_mileage_col.loc[:, 'Notes'] = sep_notes_from_mileage_col.loc[:, 'Notes'].str.replace('\\d+\\.?\\d* miles?', '')\n",
        "sep_notes_from_mileage_col['Mileage_init4'] = sep_notes_from_mileage_col.Notes3.str.findall('\\d+\\.?\\d* total')\n",
        "sep_notes_from_mileage_col.loc[:, 'Notes3'] = sep_notes_from_mileage_col.loc[:, 'Notes3'].str.replace('\\d+\\.?\\d* total', '')\n",
        "sep_notes_from_mileage_col['Mileage_init5'] = sep_notes_from_mileage_col.Notes.str.findall('\\d+\\.?\\d* total')\n",
        "sep_notes_from_mileage_col.loc[:, 'Notes'] = sep_notes_from_mileage_col.loc[:, 'Notes'].str.replace('\\d+\\.?\\d* total', '')"
      ],
      "execution_count": 246,
      "outputs": []
    },
    {
      "cell_type": "code",
      "metadata": {
        "id": "isUaqCJ8etL7",
        "outputId": "47e71426-ceca-4e6d-e787-c1d4e341d318",
        "colab": {
          "base_uri": "https://localhost:8080/",
          "height": 527
        }
      },
      "source": [
        "gym_workout_incl_log2 = workout_finder_fx(sep_notes_from_mileage_col, 'Notes', 'workout', 45, 'gym', 'swim', 'ab','pool')\n",
        "gym_workout_incl_log2.info()"
      ],
      "execution_count": 247,
      "outputs": [
        {
          "output_type": "stream",
          "text": [
            "<class 'pandas.core.frame.DataFrame'>\n",
            "Int64Index: 1674 entries, 0 to 1983\n",
            "Data columns (total 18 columns):\n",
            " #   Column           Non-Null Count  Dtype  \n",
            "---  ------           --------------  -----  \n",
            " 0   Notes2           1616 non-null   object \n",
            " 1   Mileage          192 non-null    object \n",
            " 2   Notes            740 non-null    object \n",
            " 3   Weekday          1616 non-null   object \n",
            " 4   Date             292 non-null    object \n",
            " 5   Mileage_init     381 non-null    float64\n",
            " 6   length           1674 non-null   int64  \n",
            " 7   counter          1674 non-null   int64  \n",
            " 8   Workout_type     73 non-null     object \n",
            " 9   Workout_mins     75 non-null     float64\n",
            " 10  Swimming_meters  18 non-null     float64\n",
            " 11  Bike_Mileage     112 non-null    float64\n",
            " 12  Notes3           1674 non-null   object \n",
            " 13  Date2            1674 non-null   object \n",
            " 14  Mileage_init2    1674 non-null   object \n",
            " 15  Mileage_init3    740 non-null    object \n",
            " 16  Mileage_init4    1674 non-null   object \n",
            " 17  Mileage_init5    740 non-null    object \n",
            "dtypes: float64(4), int64(2), object(12)\n",
            "memory usage: 328.5+ KB\n"
          ],
          "name": "stdout"
        },
        {
          "output_type": "stream",
          "text": [
            "/usr/local/lib/python3.6/dist-packages/pandas/core/indexing.py:670: SettingWithCopyWarning: \n",
            "A value is trying to be set on a copy of a slice from a DataFrame\n",
            "\n",
            "See the caveats in the documentation: https://pandas.pydata.org/pandas-docs/stable/user_guide/indexing.html#returning-a-view-versus-a-copy\n",
            "  iloc._setitem_with_indexer(indexer, value)\n"
          ],
          "name": "stderr"
        }
      ]
    },
    {
      "cell_type": "code",
      "metadata": {
        "id": "cuEdXNJtf46b"
      },
      "source": [
        "def swim_workout_fx(df, col, str_search): \n",
        "    for s in str_search:\n",
        "        w_o2 = list(df.loc[:, col].str.contains(s))\n",
        "        for idx, w in enumerate(w_o2):\n",
        "            if w == None:\n",
        "                continue\n",
        "            elif w == True:\n",
        "                df['Swimming_meters'].iloc[idx] = 1600"
      ],
      "execution_count": 248,
      "outputs": []
    },
    {
      "cell_type": "code",
      "metadata": {
        "id": "c0n2AxLBlWZ9",
        "outputId": "94e50b0f-a5b7-48c6-c45f-7423987ee2e2",
        "colab": {
          "base_uri": "https://localhost:8080/",
          "height": 527
        }
      },
      "source": [
        "swim_workout_fx(gym_workout_incl_log2, 'Notes', ['swim','pool'])\n",
        "swim_workout_fx(gym_workout_incl_log2, 'Notes2', ['swim','pool'])\n",
        "swim_workout_fx(gym_workout_incl_log2, 'Notes3', ['swim','pool'])\n",
        "gym_workout_incl_log2.info()"
      ],
      "execution_count": 249,
      "outputs": [
        {
          "output_type": "stream",
          "text": [
            "/usr/local/lib/python3.6/dist-packages/pandas/core/indexing.py:670: SettingWithCopyWarning: \n",
            "A value is trying to be set on a copy of a slice from a DataFrame\n",
            "\n",
            "See the caveats in the documentation: https://pandas.pydata.org/pandas-docs/stable/user_guide/indexing.html#returning-a-view-versus-a-copy\n",
            "  iloc._setitem_with_indexer(indexer, value)\n"
          ],
          "name": "stderr"
        },
        {
          "output_type": "stream",
          "text": [
            "<class 'pandas.core.frame.DataFrame'>\n",
            "Int64Index: 1674 entries, 0 to 1983\n",
            "Data columns (total 18 columns):\n",
            " #   Column           Non-Null Count  Dtype  \n",
            "---  ------           --------------  -----  \n",
            " 0   Notes2           1616 non-null   object \n",
            " 1   Mileage          192 non-null    object \n",
            " 2   Notes            740 non-null    object \n",
            " 3   Weekday          1616 non-null   object \n",
            " 4   Date             292 non-null    object \n",
            " 5   Mileage_init     381 non-null    float64\n",
            " 6   length           1674 non-null   int64  \n",
            " 7   counter          1674 non-null   int64  \n",
            " 8   Workout_type     73 non-null     object \n",
            " 9   Workout_mins     75 non-null     float64\n",
            " 10  Swimming_meters  39 non-null     float64\n",
            " 11  Bike_Mileage     112 non-null    float64\n",
            " 12  Notes3           1674 non-null   object \n",
            " 13  Date2            1674 non-null   object \n",
            " 14  Mileage_init2    1674 non-null   object \n",
            " 15  Mileage_init3    740 non-null    object \n",
            " 16  Mileage_init4    1674 non-null   object \n",
            " 17  Mileage_init5    740 non-null    object \n",
            "dtypes: float64(4), int64(2), object(12)\n",
            "memory usage: 328.5+ KB\n"
          ],
          "name": "stdout"
        }
      ]
    },
    {
      "cell_type": "code",
      "metadata": {
        "id": "A1KISFVDn6Zs"
      },
      "source": [
        "def mileage_finder_fx(df, init, total_or_miles):\n",
        "    multiple_miles = []\n",
        "    too_big = []\n",
        "    already_in_col = []\n",
        "    for idx, row in enumerate(df.loc[:, init]):\n",
        "        try:\n",
        "            if math.isnan(row):\n",
        "                continue\n",
        "        except:\n",
        "            if len(row) > 1:\n",
        "                multiple_miles.append(idx)\n",
        "            elif len(row) == 1:\n",
        "                mile_str = row[0].replace(total_or_miles, '')\n",
        "                try:\n",
        "                    mile_float = float(mile_str)\n",
        "                    if math.isnan(df['Mileage'].iloc[idx]):\n",
        "                        if mile_float > 27.2:\n",
        "                            too_big.append(idx)\n",
        "                        else:\n",
        "                            df['Mileage'].iloc[idx] = mile_float\n",
        "                    else:\n",
        "                        already_in_col.append(idx)\n",
        "                except:\n",
        "                    continue\n",
        "    return multiple_miles, too_big, already_in_col\n",
        "\n"
      ],
      "execution_count": 250,
      "outputs": []
    },
    {
      "cell_type": "code",
      "metadata": {
        "id": "kPH2xU9AKGdF",
        "outputId": "4135b7ff-a6ea-4fb2-bf0c-ced662006030",
        "colab": {
          "base_uri": "https://localhost:8080/",
          "height": 170
        }
      },
      "source": [
        "mm3, tb3, aic3 = mileage_finder_fx(gym_workout_incl_log2,'Mileage_init4','total')\n",
        "print(len(mm3),len(tb3),len(aic3))\n",
        "mm4, tb4, aic4 = mileage_finder_fx(gym_workout_incl_log2, 'Mileage_init5', 'total')\n",
        "print(len(mm4),len(tb4),len(aic4))\n",
        "mm, tb, aic = mileage_finder_fx(gym_workout_incl_log2,'Mileage_init2','miles')\n",
        "print(len(mm),len(tb),len(aic))\n",
        "mm2, tb2, aic2 = mileage_finder_fx(gym_workout_incl_log2, 'Mileage_init3', 'miles')\n",
        "print(len(mm2),len(tb2),len(aic2))"
      ],
      "execution_count": 251,
      "outputs": [
        {
          "output_type": "stream",
          "text": [
            "0 0 0\n"
          ],
          "name": "stdout"
        },
        {
          "output_type": "stream",
          "text": [
            "/usr/local/lib/python3.6/dist-packages/pandas/core/indexing.py:670: SettingWithCopyWarning: \n",
            "A value is trying to be set on a copy of a slice from a DataFrame\n",
            "\n",
            "See the caveats in the documentation: https://pandas.pydata.org/pandas-docs/stable/user_guide/indexing.html#returning-a-view-versus-a-copy\n",
            "  iloc._setitem_with_indexer(indexer, value)\n"
          ],
          "name": "stderr"
        },
        {
          "output_type": "stream",
          "text": [
            "1 0 3\n",
            "5 3 36\n",
            "67 0 89\n"
          ],
          "name": "stdout"
        }
      ]
    },
    {
      "cell_type": "markdown",
      "metadata": {
        "id": "a1LWxdZR34m0"
      },
      "source": [
        "For each of the following I will be manually putting in the data to fix the issue since they are outliers in being able to conform nicely to a computer function. "
      ]
    },
    {
      "cell_type": "code",
      "metadata": {
        "id": "TgbUADL6Iv6b"
      },
      "source": [
        "comb = mm4 + aic4 + mm + tb + aic + mm2 + aic2\n",
        "comb_array = np.array(comb)\n",
        "comb_uni = np.unique(comb_array)"
      ],
      "execution_count": 252,
      "outputs": []
    },
    {
      "cell_type": "code",
      "metadata": {
        "id": "YmYf9_MJoUxV"
      },
      "source": [
        "time_added = gym_workout_incl_log2.copy()\n",
        "time_added.insert(2, 'Time', None)"
      ],
      "execution_count": 253,
      "outputs": []
    },
    {
      "cell_type": "code",
      "metadata": {
        "id": "iNiPYof06QRC"
      },
      "source": [
        "raw_string_added = pd.merge(time_added, raw_string2, how='left',left_index=True, right_index=True)"
      ],
      "execution_count": 254,
      "outputs": []
    },
    {
      "cell_type": "code",
      "metadata": {
        "id": "Toc9MdXBX0mX"
      },
      "source": [
        "def manual_input_desc(df, list_name):\n",
        "    for ind in list_name:\n",
        "        print(df[['Mileage','Bike_Mileage', 'Time','Weekday', 'Date','Workout_type', 'Workout_mins', 'Swimming_meters']].iloc[ind])\n",
        "        print('RAW: ', df['raw_note'].iloc[ind])"
      ],
      "execution_count": 255,
      "outputs": []
    },
    {
      "cell_type": "code",
      "metadata": {
        "id": "_nOocfx4X4x6"
      },
      "source": [
        "#manual_input_desc(raw_string_added, mm4)"
      ],
      "execution_count": 256,
      "outputs": []
    },
    {
      "cell_type": "code",
      "metadata": {
        "id": "FV6yD8MOX_vp"
      },
      "source": [
        "#manual_input_desc(raw_string_added, aic4)"
      ],
      "execution_count": 257,
      "outputs": []
    },
    {
      "cell_type": "code",
      "metadata": {
        "id": "iD_WZprv21zR"
      },
      "source": [
        "#manual_input_desc(raw_string_added, mm)"
      ],
      "execution_count": 258,
      "outputs": []
    },
    {
      "cell_type": "code",
      "metadata": {
        "id": "tnrGio1j42ps"
      },
      "source": [
        "#manual_input_desc(raw_string_added, tb)"
      ],
      "execution_count": 259,
      "outputs": []
    },
    {
      "cell_type": "code",
      "metadata": {
        "id": "erThyBqSYIcP"
      },
      "source": [
        "#manual_input_desc(raw_string_added, aic)"
      ],
      "execution_count": 260,
      "outputs": []
    },
    {
      "cell_type": "code",
      "metadata": {
        "id": "NCOhP1KvYTVp"
      },
      "source": [
        "#manual_input_desc(raw_string_added, mm2)"
      ],
      "execution_count": 261,
      "outputs": []
    },
    {
      "cell_type": "code",
      "metadata": {
        "id": "u6V8pLkIYWbS"
      },
      "source": [
        "#manual_input_desc(raw_string_added, aic2)"
      ],
      "execution_count": 262,
      "outputs": []
    },
    {
      "cell_type": "code",
      "metadata": {
        "id": "wxb9bnoXMCn_",
        "outputId": "1ec27d59-e8d6-469d-e081-307eb1878a22",
        "colab": {
          "base_uri": "https://localhost:8080/",
          "height": 119
        }
      },
      "source": [
        "mil = list(raw_string_added.Mileage_init)\n",
        "multi = []\n",
        "for idx, m in enumerate(mil):\n",
        "    if math.isnan(m):\n",
        "        continue\n",
        "    elif math.isnan(raw_string_added['Mileage'].iloc[idx]):\n",
        "        raw_string_added['Mileage'].iloc[idx] = m\n",
        "    else:\n",
        "        multi.append(idx)\n",
        "len(multi)\n"
      ],
      "execution_count": 263,
      "outputs": [
        {
          "output_type": "stream",
          "text": [
            "/usr/local/lib/python3.6/dist-packages/pandas/core/indexing.py:670: SettingWithCopyWarning: \n",
            "A value is trying to be set on a copy of a slice from a DataFrame\n",
            "\n",
            "See the caveats in the documentation: https://pandas.pydata.org/pandas-docs/stable/user_guide/indexing.html#returning-a-view-versus-a-copy\n",
            "  iloc._setitem_with_indexer(indexer, value)\n"
          ],
          "name": "stderr"
        },
        {
          "output_type": "execute_result",
          "data": {
            "text/plain": [
              "0"
            ]
          },
          "metadata": {
            "tags": []
          },
          "execution_count": 263
        }
      ]
    },
    {
      "cell_type": "markdown",
      "metadata": {
        "id": "PxXz3U8VMNJA"
      },
      "source": [
        "Search for more data inside of the Notes columns"
      ]
    },
    {
      "cell_type": "code",
      "metadata": {
        "id": "HuHiPWMzeGd3"
      },
      "source": [
        "raw_string_added['Notes'] = raw_string_added['Notes'].replace(np.nan, '')\n",
        "raw_string_added['Notes2'] = raw_string_added['Notes2'].replace(np.nan, '')"
      ],
      "execution_count": 264,
      "outputs": []
    },
    {
      "cell_type": "code",
      "metadata": {
        "id": "NHTZeLmecRge",
        "outputId": "eb21370d-62cd-47fd-9db5-8cbb72581f28",
        "colab": {
          "base_uri": "https://localhost:8080/",
          "height": 394
        }
      },
      "source": [
        "raw_string_added['Notes_comb'] = raw_string_added['Notes'].str.cat(raw_string_added[['Notes2','Notes3']].astype(str), sep=\"_\")\n",
        "raw_string_added.head()"
      ],
      "execution_count": 265,
      "outputs": [
        {
          "output_type": "execute_result",
          "data": {
            "text/html": [
              "<div>\n",
              "<style scoped>\n",
              "    .dataframe tbody tr th:only-of-type {\n",
              "        vertical-align: middle;\n",
              "    }\n",
              "\n",
              "    .dataframe tbody tr th {\n",
              "        vertical-align: top;\n",
              "    }\n",
              "\n",
              "    .dataframe thead th {\n",
              "        text-align: right;\n",
              "    }\n",
              "</style>\n",
              "<table border=\"1\" class=\"dataframe\">\n",
              "  <thead>\n",
              "    <tr style=\"text-align: right;\">\n",
              "      <th></th>\n",
              "      <th>Notes2</th>\n",
              "      <th>Mileage</th>\n",
              "      <th>Time</th>\n",
              "      <th>Notes</th>\n",
              "      <th>Weekday</th>\n",
              "      <th>Date</th>\n",
              "      <th>Mileage_init</th>\n",
              "      <th>length</th>\n",
              "      <th>counter</th>\n",
              "      <th>Workout_type</th>\n",
              "      <th>Workout_mins</th>\n",
              "      <th>Swimming_meters</th>\n",
              "      <th>Bike_Mileage</th>\n",
              "      <th>Notes3</th>\n",
              "      <th>Date2</th>\n",
              "      <th>Mileage_init2</th>\n",
              "      <th>Mileage_init3</th>\n",
              "      <th>Mileage_init4</th>\n",
              "      <th>Mileage_init5</th>\n",
              "      <th>raw_note</th>\n",
              "      <th>Notes_comb</th>\n",
              "    </tr>\n",
              "  </thead>\n",
              "  <tbody>\n",
              "    <tr>\n",
              "      <th>0</th>\n",
              "      <td></td>\n",
              "      <td>NaN</td>\n",
              "      <td>None</td>\n",
              "      <td>27:19 it was a little short.</td>\n",
              "      <td>Saturday</td>\n",
              "      <td>5/29/10</td>\n",
              "      <td>NaN</td>\n",
              "      <td>0</td>\n",
              "      <td>0</td>\n",
              "      <td>None</td>\n",
              "      <td>NaN</td>\n",
              "      <td>NaN</td>\n",
              "      <td>NaN</td>\n",
              "      <td></td>\n",
              "      <td></td>\n",
              "      <td>[]</td>\n",
              "      <td>[4 miles, 3.8 miles]</td>\n",
              "      <td>[]</td>\n",
              "      <td>[]</td>\n",
              "      <td>Saturday 5/29/10 4 miles 27:19 it was a little...</td>\n",
              "      <td>27:19 it was a little short. _ _</td>\n",
              "    </tr>\n",
              "    <tr>\n",
              "      <th>1</th>\n",
              "      <td></td>\n",
              "      <td>4</td>\n",
              "      <td>None</td>\n",
              "      <td></td>\n",
              "      <td>Monday</td>\n",
              "      <td>6/21/10</td>\n",
              "      <td>NaN</td>\n",
              "      <td>0</td>\n",
              "      <td>1</td>\n",
              "      <td>None</td>\n",
              "      <td>NaN</td>\n",
              "      <td>NaN</td>\n",
              "      <td>NaN</td>\n",
              "      <td></td>\n",
              "      <td></td>\n",
              "      <td>[4 miles]</td>\n",
              "      <td>NaN</td>\n",
              "      <td>[]</td>\n",
              "      <td>NaN</td>\n",
              "      <td>Monday 6/21/10_ 4 miles</td>\n",
              "      <td>_ _</td>\n",
              "    </tr>\n",
              "    <tr>\n",
              "      <th>2</th>\n",
              "      <td></td>\n",
              "      <td>4</td>\n",
              "      <td>None</td>\n",
              "      <td>swimming_ 10 laps of freestyle_5 laps of backs...</td>\n",
              "      <td>Tuesday</td>\n",
              "      <td>6/22/10</td>\n",
              "      <td>NaN</td>\n",
              "      <td>0</td>\n",
              "      <td>2</td>\n",
              "      <td>None</td>\n",
              "      <td>NaN</td>\n",
              "      <td>1600.0</td>\n",
              "      <td>NaN</td>\n",
              "      <td></td>\n",
              "      <td></td>\n",
              "      <td>[4 miles]</td>\n",
              "      <td>[]</td>\n",
              "      <td>[]</td>\n",
              "      <td>[]</td>\n",
              "      <td>Tuesday 6/22/10_ 4 miles_Swimming_ 10 laps of ...</td>\n",
              "      <td>swimming_ 10 laps of freestyle_5 laps of backs...</td>\n",
              "    </tr>\n",
              "    <tr>\n",
              "      <th>3</th>\n",
              "      <td></td>\n",
              "      <td>4.5</td>\n",
              "      <td>None</td>\n",
              "      <td>35 minutes</td>\n",
              "      <td>Wednesday</td>\n",
              "      <td>6/23/10</td>\n",
              "      <td>NaN</td>\n",
              "      <td>0</td>\n",
              "      <td>3</td>\n",
              "      <td>None</td>\n",
              "      <td>NaN</td>\n",
              "      <td>NaN</td>\n",
              "      <td>NaN</td>\n",
              "      <td></td>\n",
              "      <td></td>\n",
              "      <td>[4.5 miles]</td>\n",
              "      <td>[]</td>\n",
              "      <td>[]</td>\n",
              "      <td>[]</td>\n",
              "      <td>Wednesday 6/23/10_ 4.5 miles_35 minutes</td>\n",
              "      <td>35 minutes_ _</td>\n",
              "    </tr>\n",
              "    <tr>\n",
              "      <th>4</th>\n",
              "      <td></td>\n",
              "      <td>5</td>\n",
              "      <td>None</td>\n",
              "      <td></td>\n",
              "      <td>Thursday</td>\n",
              "      <td>6/25/10</td>\n",
              "      <td>NaN</td>\n",
              "      <td>0</td>\n",
              "      <td>4</td>\n",
              "      <td>None</td>\n",
              "      <td>NaN</td>\n",
              "      <td>NaN</td>\n",
              "      <td>NaN</td>\n",
              "      <td></td>\n",
              "      <td></td>\n",
              "      <td>[]</td>\n",
              "      <td>NaN</td>\n",
              "      <td>[]</td>\n",
              "      <td>NaN</td>\n",
              "      <td>Thursday 6/25/10_ 5</td>\n",
              "      <td>_ _</td>\n",
              "    </tr>\n",
              "  </tbody>\n",
              "</table>\n",
              "</div>"
            ],
            "text/plain": [
              "  Notes2  ...                                         Notes_comb\n",
              "0         ...                   27:19 it was a little short. _ _\n",
              "1         ...                                               _ _ \n",
              "2         ...  swimming_ 10 laps of freestyle_5 laps of backs...\n",
              "3         ...                                     35 minutes_ _ \n",
              "4         ...                                                _ _\n",
              "\n",
              "[5 rows x 21 columns]"
            ]
          },
          "metadata": {
            "tags": []
          },
          "execution_count": 265
        }
      ]
    },
    {
      "cell_type": "code",
      "metadata": {
        "id": "5FzlFJWnc0Ax"
      },
      "source": [
        "raw_string_added['numbers'] = raw_string_added.Notes_comb.str.findall('\\d+\\.*\\d*')"
      ],
      "execution_count": 266,
      "outputs": []
    },
    {
      "cell_type": "code",
      "metadata": {
        "id": "aAir4dYCgY-p",
        "outputId": "b2d2e856-830a-4350-8147-c38591e9eabf",
        "colab": {
          "base_uri": "https://localhost:8080/",
          "height": 34
        }
      },
      "source": [
        "greater_2 = []\n",
        "two = []\n",
        "one = []\n",
        "for idx, num in enumerate(raw_string_added.numbers):\n",
        "    if (len(num) > 2) and (idx not in comb_uni) and (math.isnan(raw_string_added['Mileage'].iloc[idx])):\n",
        "        greater_2.append(idx)\n",
        "    elif (len(num) == 2) and (idx not in comb_uni) and (math.isnan(raw_string_added['Mileage'].iloc[idx])):\n",
        "        two.append(idx)\n",
        "    elif (len(num) == 1) and (idx not in comb_uni) and (math.isnan(raw_string_added['Mileage'].iloc[idx])):\n",
        "        one.append(idx)\n",
        "print(len(greater_2), len(two), len(one))\n",
        "\n"
      ],
      "execution_count": 267,
      "outputs": [
        {
          "output_type": "stream",
          "text": [
            "48 22 48\n"
          ],
          "name": "stdout"
        }
      ]
    },
    {
      "cell_type": "code",
      "metadata": {
        "id": "QB79NkKJTwhd"
      },
      "source": [
        "#manual_input_desc(raw_string_added, greater_2)"
      ],
      "execution_count": 268,
      "outputs": []
    },
    {
      "cell_type": "code",
      "metadata": {
        "id": "0emmuEsihQ67"
      },
      "source": [
        "#manual_input_desc(raw_string_added, two)"
      ],
      "execution_count": 269,
      "outputs": []
    },
    {
      "cell_type": "code",
      "metadata": {
        "id": "NpHE1ShmhVpM"
      },
      "source": [
        "#manual_input_desc(raw_string_added, one)"
      ],
      "execution_count": 270,
      "outputs": []
    },
    {
      "cell_type": "markdown",
      "metadata": {
        "id": "1xZ9W1VJocoN"
      },
      "source": [
        "need to look at every row that is null for mileage and see whether it should be null or not"
      ]
    },
    {
      "cell_type": "code",
      "metadata": {
        "id": "CeUk8xwVqBex"
      },
      "source": [
        "l_comb_uni = list(comb_uni)"
      ],
      "execution_count": 271,
      "outputs": []
    },
    {
      "cell_type": "code",
      "metadata": {
        "id": "xYbd3Q0lpwp2"
      },
      "source": [
        "comb_2 = l_comb_uni + greater_2 + two + one"
      ],
      "execution_count": 272,
      "outputs": []
    },
    {
      "cell_type": "code",
      "metadata": {
        "id": "9sTTug9ao77S"
      },
      "source": [
        "missing_mileage = []\n",
        "for idx, w in enumerate(raw_string_added['Mileage']):\n",
        "    if (math.isnan(w)) and (idx not in comb_2):\n",
        "        missing_mileage.append(idx)"
      ],
      "execution_count": 273,
      "outputs": []
    },
    {
      "cell_type": "code",
      "metadata": {
        "id": "RnVX57H87ryf"
      },
      "source": [
        "manual_changes = {'Mileage': [[339,6.5],[8,5],[729,13],[23,6.5],[34,2],[53,8],[1247,21],[0,3.8],[43,6.5],[223,9],[373,5],[383,9],[514,9],[534,7],[542,13],[547,9],[551,7],[591,9],[756,9],[832,6],[901,10],\n",
        "                          [903,8],[908,10.5],[910,8.19],[924,11.5],[1074,8],[1099,9],[1102,13.1],[1107,8],[1108,11.3],[1114,11],[1122,7],[1247,21],[1255,26.2],[11,6],[16,5],[22,7],[32,9.25],[39,4],\n",
        "                          [55,6],[64,4],[88,5],[164,8],[20, 8],[50,4],[100,4.2],[102,8],[125,4.2],[181,8.5],[186, 12],[218,4],[222,8],[241,4],[252,5.5],[264,7],[304,10],[316,10.5],[337,8],[358,11],\n",
        "                          [359,8],[371,8],[394,4.2],[412,7.5],[419,5.5],[426,4],[428,6],[447,3],[493,9.5],[541,10.5],[543,5.5],[544,5],[560,9.5],[572,4.5],[582,9],[601,9.5],[670,6],[699,5.5],[714,11],\n",
        "                          [28,5.5],[181,8.5],[206,6],[303,2.5],[382,4],[483,10.5],[484,10.5],[486,13],[491,16],[498,16],[511,11.5],[537,7.5],[584,11],[587,9],[632,9.5],[642,4],[665,7.5],[25,4],[31,3.5],\n",
        "                          [137,6.5],[139,3],[202,2],[219,7.5],[285,6],[287,2.5],[289,5],[302,2.5],[326,3],[327,4.5],[332,1.5],[374,4.5],[379,4],[439,1],[443,3],[444,3],[445,3],[446,3],[450,3],[465,13],\n",
        "                          [472,15],[488,3],[490,10.5],[500,8.5],[540,7],[548,4.2],[605,2],[624,7.5],[636,4.5],[637,3],[643,5],[688,4.5],[738,8.5],[747,13],[750,19],[857,3],[862,2],[933,7],[978,4],[1093,4],\n",
        "                          [1100,8],[1127,1],[1130,2],[1243,13],[134,1],[233,3],[281,3],[469,10],[601,10],[966,1],[1670,0],[1685,1.5],[1061,0],[1277,0],[1522,1.2]], \n",
        "                  'Time': [[8, '28:04'],[23, '35:32'],[558,'40:00'],[357,'66:01'],[351,'70:00'],[166,'34:00'],[107,'75:00'],[90,'39:00'],[63,'53:40'],[61,'50:50'],[48,'42:59'],[40,'40:47'],[36,'19:42'],\n",
        "                           [17,'28:38'],[0,'27:19'],[11,'32:04'],[37,'47:13'], [20, '55:53'], [181,'64:00'],[186, '68:00'],[222,'56:37'],[316,'71:23'],[412,'16:31'],[582,'60:00'],[714,'61:10'],\n",
        "                           [181,'64:00'],[537,'51:00'],[584,'80:00'],[632,'66:00'],[642,'30:00'],[665,'60:00'],[31,'25:00'],[219,'54:00']],\n",
        "                  'Date': [[95, '9/20/10'], [110, '10/4/10'],[183,'1/3/11'],[4,'6/24/10'],[5,'6/25/10'],[6,'6/26/10'],[67,'8/30/10'],[913,'3/25/13'],[1005,'7/15/13'],[1480,'9/29/14'],[1677,'3/16/15'],\n",
        "                           [39,'8/2/10'],[46,'8/9/10'],[88,'9/13/10'],[130,'10/25/10'],[124,'10/18/10'],[180,'12/28/10'],[181,'1/1/11'],[102,'9/27/10'],[272,'5/8/11'],[343,'8/2/11'],[369,'8/28/11'],\n",
        "                           [624,'5/21/12'],[649,'6/18/12'],[1078,'9/17/13'],[1092,'10/1/13'],[1107,'10/15/13'],[1134,'11/19/13'],[1148,'12/3/13'],[1192,'1/14/14'],[1244,'3/5/14'],[1287,'4/22/14'],\n",
        "                           [1375,'7/4/14'],[1383,'7/11/14'],[1389,'7/16/14'],[1501,'10/17/14'],[1705,'5/21/15'],[1853,'9/7/15']],\n",
        "                  'Bike_Mileage': [[505,24],[1013,30],[1021,30],[1029,30],[54,14.9],[37,14.9],[328,20.7],[1362,102.21],[303,14.8],[405,30],[311,23],[452,37],[615,41],[353,20.5],[973,16],[1061,20.158],\n",
        "                                   [1371,82.190],[1395,82.629],[1462,42.131],[1277,54.8]],\n",
        "                  'Swimming_meters': [[31,1600],[677,1600]],\n",
        "                  'Weekday': [[1982,'Friday'],[93,'Saturday'],[1859,'Sunday'],[1877,'Sunday']],\n",
        "                  'Workout_type': [[214,'gym'],[1431,'gym'],[1440,'gym'],[1457,'gym'],[1466,'gym'],[1601,'gym']],\n",
        "                  'Workout_mins': [[214,30],[1440,60],[1457,60],[1601,60]]}"
      ],
      "execution_count": 274,
      "outputs": []
    },
    {
      "cell_type": "code",
      "metadata": {
        "id": "Bqu7g8eir-0a"
      },
      "source": [
        "raw_string_added.loc[102,'raw_note'] = raw_string_added.loc[102,'raw_note'] + raw_string_added.loc[103,'raw_note']\n",
        "raw_string_added = raw_string_added.drop(103)"
      ],
      "execution_count": 275,
      "outputs": []
    },
    {
      "cell_type": "code",
      "metadata": {
        "id": "_IL9tA69Ve1D"
      },
      "source": [
        "manual_inputs_df = raw_string_added.copy()"
      ],
      "execution_count": 276,
      "outputs": []
    },
    {
      "cell_type": "code",
      "metadata": {
        "id": "mGOpX0gGQPpO"
      },
      "source": [
        "def input_manual_fx(df, loc_dict):\n",
        "    for key, value in loc_dict.items():\n",
        "        for v in value:\n",
        "            df.loc[v[0], key] = v[1] "
      ],
      "execution_count": 277,
      "outputs": []
    },
    {
      "cell_type": "code",
      "metadata": {
        "id": "Zzbt4k0RWM1x"
      },
      "source": [
        "input_manual_fx(manual_inputs_df, manual_changes)"
      ],
      "execution_count": 278,
      "outputs": []
    },
    {
      "cell_type": "code",
      "metadata": {
        "id": "e-NcQDWpZnbD"
      },
      "source": [
        "manual_inputs_df['Mileage'] = manual_inputs_df['Mileage'].replace(np.nan, 0)"
      ],
      "execution_count": 279,
      "outputs": []
    },
    {
      "cell_type": "code",
      "metadata": {
        "id": "yMTbIoBDGuUP",
        "outputId": "e18ef081-34ba-4798-fb5c-aa9ff8781492",
        "colab": {
          "base_uri": "https://localhost:8080/",
          "height": 102
        }
      },
      "source": [
        "bike_notes = list(manual_inputs_df.Notes2.str.contains('bike total'))\n",
        "bike_totals = []\n",
        "for idx, b in enumerate(bike_notes):\n",
        "    if b is True:\n",
        "        try:\n",
        "            if math.isnan(manual_inputs_df.Bike_Mileage.iloc[idx]):\n",
        "                bike_totals.append(idx)\n",
        "        except:\n",
        "            continue\n",
        "for i_bike in bike_totals:\n",
        "    manual_inputs_df.Bike_Mileage.iloc[i_bike] = manual_inputs_df.Mileage.iloc[i_bike]\n",
        "    manual_inputs_df.Mileage.iloc[i_bike] = 0"
      ],
      "execution_count": 280,
      "outputs": [
        {
          "output_type": "stream",
          "text": [
            "/usr/local/lib/python3.6/dist-packages/pandas/core/indexing.py:670: SettingWithCopyWarning: \n",
            "A value is trying to be set on a copy of a slice from a DataFrame\n",
            "\n",
            "See the caveats in the documentation: https://pandas.pydata.org/pandas-docs/stable/user_guide/indexing.html#returning-a-view-versus-a-copy\n",
            "  iloc._setitem_with_indexer(indexer, value)\n"
          ],
          "name": "stderr"
        }
      ]
    },
    {
      "cell_type": "markdown",
      "metadata": {
        "id": "UPsND7RRWy19"
      },
      "source": [
        "#### Time to mess with the Date. "
      ]
    },
    {
      "cell_type": "code",
      "metadata": {
        "id": "hpktzHhxRrnW",
        "outputId": "6f4a7223-4932-438c-e944-54aac8e661d7",
        "colab": {
          "base_uri": "https://localhost:8080/",
          "height": 54
        }
      },
      "source": [
        "date_list = list(manual_inputs_df.Date)\n",
        "differences = []\n",
        "indices =[]\n",
        "for idx, d in enumerate(date_list):\n",
        "    try:\n",
        "        if math.isnan(d):\n",
        "            continue\n",
        "    except:\n",
        "        if idx > 0:\n",
        "            indices.append(idx)\n",
        "            \n",
        "            #diff = d-date_list[idx-1]\n",
        "            # print(diff)\n",
        "            # if diff is not 7:\n",
        "            #     differences.append(diff)\n",
        "            #     indices.append(idx)\n",
        "print(indices)\n",
        "\n"
      ],
      "execution_count": 281,
      "outputs": [
        {
          "output_type": "stream",
          "text": [
            "[1, 2, 3, 4, 5, 6, 7, 8, 9, 10, 11, 12, 13, 14, 15, 16, 17, 18, 19, 20, 21, 22, 23, 24, 25, 26, 27, 28, 29, 30, 31, 32, 38, 44, 50, 56, 62, 68, 74, 80, 86, 98, 103, 109, 114, 119, 125, 130, 135, 140, 145, 146, 147, 152, 154, 159, 164, 169, 175, 180, 185, 191, 196, 201, 206, 211, 214, 219, 224, 225, 231, 237, 243, 249, 254, 260, 266, 270, 276, 278, 284, 285, 289, 296, 302, 307, 308, 314, 320, 326, 332, 339, 346, 352, 357, 363, 369, 375, 381, 387, 393, 398, 403, 409, 415, 421, 427, 433, 439, 445, 452, 458, 463, 469, 476, 481, 487, 494, 500, 506, 512, 517, 523, 530, 536, 538, 544, 550, 556, 562, 568, 572, 578, 584, 590, 596, 603, 609, 615, 621, 627, 633, 639, 646, 652, 658, 665, 671, 676, 682, 688, 694, 700, 706, 712, 718, 722, 726, 727, 733, 739, 745, 751, 758, 764, 770, 776, 781, 787, 793, 799, 805, 811, 818, 819, 825, 831, 837, 842, 848, 856, 863, 870, 877, 884, 891, 898, 905, 911, 912, 917, 923, 924, 930, 936, 937, 942, 948, 955, 956, 958, 963, 969, 970, 975, 981, 987, 994, 996, 1001, 1007, 1008, 1013, 1019, 1025, 1032, 1039, 1045, 1051, 1053, 1057, 1064, 1065, 1071, 1078, 1085, 1086, 1092, 1100, 1108, 1116, 1124, 1131, 1138, 1145, 1153, 1161, 1162, 1164, 1168, 1171, 1175, 1176, 1182, 1190, 1197, 1204, 1211, 1218, 1226, 1232, 1240, 1247, 1255, 1263, 1271, 1274, 1278, 1285, 1292, 1293, 1294, 1301, 1307, 1314, 1322, 1329, 1337, 1344, 1347, 1352, 1359, 1367, 1375, 1383, 1391, 1398, 1405, 1412, 1426, 1433, 1434, 1441, 1448, 1450, 1454, 1461, 1469, 1477, 1485, 1492, 1500, 1507, 1514, 1521, 1529, 1536, 1543, 1550, 1557, 1564, 1571, 1578, 1585, 1592, 1599, 1606, 1613, 1620, 1627, 1634, 1641, 1648, 1655, 1662, 1669, 1671, 1672]\n"
          ],
          "name": "stdout"
        }
      ]
    },
    {
      "cell_type": "code",
      "metadata": {
        "id": "oOjPR4jsLjUJ"
      },
      "source": [
        "manual_inputs_df.Date = pd.to_datetime(manual_inputs_df.Date, errors='coerce')"
      ],
      "execution_count": 282,
      "outputs": []
    },
    {
      "cell_type": "code",
      "metadata": {
        "id": "l1PBXRpRYFfF",
        "outputId": "83119a48-e817-4392-b108-dc17eccd263d",
        "colab": {
          "base_uri": "https://localhost:8080/",
          "height": 1000
        }
      },
      "source": [
        "differences = []\n",
        "for idx, da in enumerate(indices):\n",
        "    diff = manual_inputs_df['Date'].iloc[da] - manual_inputs_df['Date'].iloc[indices[idx - 1]]\n",
        "    day = diff.days\n",
        "    if day is not 7:\n",
        "        diff_list = [day, da, idx]\n",
        "        differences.append(diff_list)\n",
        "differences\n"
      ],
      "execution_count": 283,
      "outputs": [
        {
          "output_type": "execute_result",
          "data": {
            "text/plain": [
              "[[-2019, 1, 0],\n",
              " [1, 2, 1],\n",
              " [1, 3, 2],\n",
              " [1, 4, 3],\n",
              " [1, 5, 4],\n",
              " [1, 6, 5],\n",
              " [2, 7, 6],\n",
              " [1, 8, 7],\n",
              " [1, 9, 8],\n",
              " [1, 10, 9],\n",
              " [1, 11, 10],\n",
              " [1, 12, 11],\n",
              " [2, 13, 12],\n",
              " [1, 14, 13],\n",
              " [1, 15, 14],\n",
              " [1, 16, 15],\n",
              " [1, 17, 16],\n",
              " [1, 18, 17],\n",
              " [2, 19, 18],\n",
              " [1, 20, 19],\n",
              " [1, 21, 20],\n",
              " [1, 22, 21],\n",
              " [1, 23, 22],\n",
              " [6, 24, 23],\n",
              " [3, 25, 24],\n",
              " [1, 26, 25],\n",
              " [1, 27, 26],\n",
              " [1, 28, 27],\n",
              " [1, 29, 28],\n",
              " [1, 30, 29],\n",
              " [1, 31, 30],\n",
              " [2, 32, 31],\n",
              " [14, 98, 41],\n",
              " [14, 114, 44],\n",
              " [8, 145, 50],\n",
              " [4, 146, 51],\n",
              " [2, 147, 52],\n",
              " [14, 201, 63],\n",
              " [15, 211, 65],\n",
              " [6, 214, 66],\n",
              " [6, 224, 68],\n",
              " [1, 225, 69],\n",
              " [13, 278, 79],\n",
              " [2, 285, 81],\n",
              " [5, 289, 82],\n",
              " [8, 296, 83],\n",
              " [6, 307, 85],\n",
              " [1, 308, 86],\n",
              " [14, 369, 96],\n",
              " [15, 512, 120],\n",
              " [6, 517, 121],\n",
              " [9, 568, 130],\n",
              " [5, 572, 131],\n",
              " [14, 665, 146],\n",
              " [8, 722, 156],\n",
              " [6, 727, 158],\n",
              " [27, 818, 173],\n",
              " [1, 819, 174],\n",
              " [6, 911, 188],\n",
              " [2, 912, 189],\n",
              " [6, 917, 190],\n",
              " [6, 923, 191],\n",
              " [2, 924, 192],\n",
              " [6, 930, 193],\n",
              " [6, 936, 194],\n",
              " [2, 937, 195],\n",
              " [6, 942, 196],\n",
              " [12, 956, 199],\n",
              " [3, 958, 200],\n",
              " [6, 963, 201],\n",
              " [6, 969, 202],\n",
              " [2, 970, 203],\n",
              " [6, 975, 204],\n",
              " [6, 987, 206],\n",
              " [8, 994, 207],\n",
              " [2, 996, 208],\n",
              " [5, 1001, 209],\n",
              " [6, 1007, 210],\n",
              " [2, 1008, 211],\n",
              " [6, 1013, 212],\n",
              " [6, 1025, 214],\n",
              " [8, 1032, 215],\n",
              " [6, 1051, 218],\n",
              " [3, 1053, 219],\n",
              " [5, 1057, 220],\n",
              " [14, 1065, 222],\n",
              " [6, 1085, 225],\n",
              " [2, 1086, 226],\n",
              " [6, 1092, 227],\n",
              " [1, 1162, 237],\n",
              " [3, 1164, 238],\n",
              " [3, 1168, 239],\n",
              " [4, 1171, 240],\n",
              " [3, 1175, 241],\n",
              " [2, 1176, 242],\n",
              " [5, 1182, 243],\n",
              " [4, 1274, 256],\n",
              " [4, 1278, 257],\n",
              " [6, 1292, 259],\n",
              " [3, 1293, 260],\n",
              " [4, 1294, 261],\n",
              " [6, 1314, 264],\n",
              " [8, 1322, 265],\n",
              " [3, 1347, 269],\n",
              " [4, 1352, 270],\n",
              " [8, 1405, 277],\n",
              " [6, 1412, 278],\n",
              " [14, 1426, 279],\n",
              " [41, 1434, 281],\n",
              " [8, 1448, 283],\n",
              " [3, 1450, 284],\n",
              " [4, 1454, 285],\n",
              " [6, 1461, 286],\n",
              " [8, 1477, 288],\n",
              " [4, 1671, 316],\n",
              " [6, 1672, 317]]"
            ]
          },
          "metadata": {
            "tags": []
          },
          "execution_count": 283
        }
      ]
    },
    {
      "cell_type": "code",
      "metadata": {
        "id": "h7G9OhAVXIMd"
      },
      "source": [
        "# my_date = manual_inputs_df.Date.iloc[674]\n",
        "# calendar.day_name[my_date.weekday()] \n",
        "new_list = []\n",
        "for dates in manual_inputs_df['Date']:\n",
        "    dayofweek = dates.weekday()\n",
        "\n",
        "    if math.isnan(dayofweek):\n",
        "        new_list.append(np.nan)\n",
        "    else:\n",
        "        new_list.append(calendar.day_name[dayofweek])\n",
        "manual_inputs_df['dayofweekcheck'] = new_list"
      ],
      "execution_count": 284,
      "outputs": []
    },
    {
      "cell_type": "code",
      "metadata": {
        "id": "dLVFRDqeV-jw",
        "outputId": "87847cd9-c592-4567-a22e-72b63baf49ed",
        "colab": {
          "base_uri": "https://localhost:8080/",
          "height": 34
        }
      },
      "source": [
        "wrong_day_of_week = []\n",
        "for idx, dayof in enumerate(manual_inputs_df.dayofweekcheck):\n",
        "    try:\n",
        "        if math.isnan(dayof):\n",
        "            continue\n",
        "    except:\n",
        "        if manual_inputs_df.Weekday.iloc[idx] != manual_inputs_df.dayofweekcheck.iloc[idx]:\n",
        "            pos_correct = manual_inputs_df.Weekday.iloc[idx]\n",
        "            day_list = [idx, dayof, pos_correct]\n",
        "            wrong_day_of_week.append(day_list)\n",
        "wrong_day_of_week\n"
      ],
      "execution_count": 285,
      "outputs": [
        {
          "output_type": "execute_result",
          "data": {
            "text/plain": [
              "[]"
            ]
          },
          "metadata": {
            "tags": []
          },
          "execution_count": 285
        }
      ]
    },
    {
      "cell_type": "code",
      "metadata": {
        "id": "UcfY_f01l6yW"
      },
      "source": [
        "# now I need to use fillna to fill in all of the NaT's, but I will need to go and check all of the differences above, that are listed below, \n",
        "# and look at the surrounding 20 to make sure that the dates are correct. "
      ],
      "execution_count": 286,
      "outputs": []
    },
    {
      "cell_type": "code",
      "metadata": {
        "id": "QlD7wIFUhauH",
        "outputId": "69803945-e88f-4944-e3e6-a4db1c222e24",
        "colab": {
          "base_uri": "https://localhost:8080/",
          "height": 306
        }
      },
      "source": [
        "for idx, row in enumerate(manual_inputs_df.Date):\n",
        "    if (pd.isnull(row)) and (bike_notes[idx] != True):\n",
        "        prev = manual_inputs_df.Date.iloc[idx - 1]\n",
        "        manual_inputs_df.Date.iloc[idx] = prev + timedelta(days = 1)\n",
        "manual_inputs_df.Date"
      ],
      "execution_count": 287,
      "outputs": [
        {
          "output_type": "stream",
          "text": [
            "/usr/local/lib/python3.6/dist-packages/pandas/core/indexing.py:670: SettingWithCopyWarning: \n",
            "A value is trying to be set on a copy of a slice from a DataFrame\n",
            "\n",
            "See the caveats in the documentation: https://pandas.pydata.org/pandas-docs/stable/user_guide/indexing.html#returning-a-view-versus-a-copy\n",
            "  iloc._setitem_with_indexer(indexer, value)\n"
          ],
          "name": "stderr"
        },
        {
          "output_type": "execute_result",
          "data": {
            "text/plain": [
              "0      2010-05-29\n",
              "1      2010-06-21\n",
              "2      2010-06-22\n",
              "3      2010-06-23\n",
              "4      2010-06-24\n",
              "          ...    \n",
              "1978   2015-12-20\n",
              "1980   2015-12-21\n",
              "1981   2015-12-22\n",
              "1982   2015-12-25\n",
              "1983   2015-12-31\n",
              "Name: Date, Length: 1673, dtype: datetime64[ns]"
            ]
          },
          "metadata": {
            "tags": []
          },
          "execution_count": 287
        }
      ]
    },
    {
      "cell_type": "code",
      "metadata": {
        "id": "BaqzbsohVt_c"
      },
      "source": [
        "diff_idx = 0"
      ],
      "execution_count": 288,
      "outputs": []
    },
    {
      "cell_type": "code",
      "metadata": {
        "id": "y7nRH1LWYEip"
      },
      "source": [
        "diff_idx = diff_idx + 1\n",
        "diff_value = differences[diff_idx][1]\n",
        "idx_lower = diff_value - 15\n",
        "\n",
        "idx_upper = diff_value + 15\n",
        "if (diff_value >= 15) and (diff_value <= 1702):\n",
        "    a = manual_inputs_df.iloc[idx_lower:idx_upper]\n",
        "    \n",
        "elif diff_value <15:\n",
        "    a = manual_inputs_df.iloc[:idx_upper]\n",
        "    \n",
        "else:\n",
        "    a = manual_inputs_df.iloc[idx_lower:]\n"
      ],
      "execution_count": 289,
      "outputs": []
    },
    {
      "cell_type": "code",
      "metadata": {
        "id": "kNRyMiuaWF-H"
      },
      "source": [
        "#fix the data issue above as well with having to import a new csv file. "
      ],
      "execution_count": 290,
      "outputs": []
    },
    {
      "cell_type": "code",
      "metadata": {
        "id": "qYBbUsHWGf8a",
        "outputId": "9e21ad2c-2ffb-4402-ce56-cb35cd6056b3",
        "colab": {
          "base_uri": "https://localhost:8080/",
          "height": 289
        }
      },
      "source": [
        "pre_garmin_edited = manual_inputs_df.drop(['Notes2', 'Notes','Mileage_init', 'length','counter', 'Notes3','Date2','Mileage_init2',\n",
        "                                           'Mileage_init3', 'Mileage_init4','Mileage_init5','numbers','dayofweekcheck','Notes_comb'], axis=1)\n",
        "pre_garmin_edited.info()"
      ],
      "execution_count": 291,
      "outputs": [
        {
          "output_type": "stream",
          "text": [
            "<class 'pandas.core.frame.DataFrame'>\n",
            "Int64Index: 1673 entries, 0 to 1983\n",
            "Data columns (total 9 columns):\n",
            " #   Column           Non-Null Count  Dtype         \n",
            "---  ------           --------------  -----         \n",
            " 0   Mileage          1673 non-null   float64       \n",
            " 1   Time             32 non-null     object        \n",
            " 2   Weekday          1617 non-null   object        \n",
            " 3   Date             1618 non-null   datetime64[ns]\n",
            " 4   Workout_type     77 non-null     object        \n",
            " 5   Workout_mins     79 non-null     float64       \n",
            " 6   Swimming_meters  40 non-null     float64       \n",
            " 7   Bike_Mileage     176 non-null    float64       \n",
            " 8   raw_note         1673 non-null   object        \n",
            "dtypes: datetime64[ns](1), float64(4), object(4)\n",
            "memory usage: 210.7+ KB\n"
          ],
          "name": "stdout"
        }
      ]
    },
    {
      "cell_type": "markdown",
      "metadata": {
        "id": "l1xvBlVVr2Ha"
      },
      "source": [
        "# Garmin Data Wrangling"
      ]
    },
    {
      "cell_type": "markdown",
      "metadata": {
        "id": "QJm5VWDkrjrH"
      },
      "source": [
        "# Future Garmin Data Web Scraping"
      ]
    },
    {
      "cell_type": "code",
      "metadata": {
        "id": "88vIYTX3LnEM",
        "outputId": "e6af5adf-aefb-4d42-a644-3fbaed9ff373",
        "colab": {
          "base_uri": "https://localhost:8080/",
          "height": 108
        }
      },
      "source": [
        "!pip install requests"
      ],
      "execution_count": null,
      "outputs": [
        {
          "output_type": "stream",
          "text": [
            "Requirement already satisfied: requests in /usr/local/lib/python3.6/dist-packages (2.23.0)\n",
            "Requirement already satisfied: chardet<4,>=3.0.2 in /usr/local/lib/python3.6/dist-packages (from requests) (3.0.4)\n",
            "Requirement already satisfied: idna<3,>=2.5 in /usr/local/lib/python3.6/dist-packages (from requests) (2.9)\n",
            "Requirement already satisfied: urllib3!=1.25.0,!=1.25.1,<1.26,>=1.21.1 in /usr/local/lib/python3.6/dist-packages (from requests) (1.24.3)\n",
            "Requirement already satisfied: certifi>=2017.4.17 in /usr/local/lib/python3.6/dist-packages (from requests) (2020.4.5.1)\n"
          ],
          "name": "stdout"
        }
      ]
    },
    {
      "cell_type": "code",
      "metadata": {
        "id": "uVLheGv2LnER",
        "outputId": "29e56a9e-2341-4105-89c6-da4d3273b94a",
        "colab": {
          "base_uri": "https://localhost:8080/",
          "height": 35
        }
      },
      "source": [
        "!pip install beautifulsoup4"
      ],
      "execution_count": null,
      "outputs": [
        {
          "output_type": "stream",
          "text": [
            "Requirement already satisfied: beautifulsoup4 in /usr/local/lib/python3.6/dist-packages (4.6.3)\n"
          ],
          "name": "stdout"
        }
      ]
    },
    {
      "cell_type": "code",
      "metadata": {
        "id": "MNd4cMCqLnEU"
      },
      "source": [
        "import numpy as np\n",
        "import pandas as pd\n",
        "import requests\n",
        "import bs4\n",
        "import lxml.etree as xml"
      ],
      "execution_count": null,
      "outputs": []
    },
    {
      "cell_type": "code",
      "metadata": {
        "id": "UB9DyMyjEzje",
        "outputId": "9df59836-b2b5-4016-e794-99a4ce2d6f6f",
        "colab": {
          "base_uri": "https://localhost:8080/",
          "height": 35
        }
      },
      "source": [
        "URL = \"https://connect.garmin.com/modern/activities\"\n",
        "\n",
        "requests.get(URL)"
      ],
      "execution_count": null,
      "outputs": [
        {
          "output_type": "execute_result",
          "data": {
            "text/plain": [
              "<Response [200]>"
            ]
          },
          "metadata": {
            "tags": []
          },
          "execution_count": 2
        }
      ]
    },
    {
      "cell_type": "code",
      "metadata": {
        "id": "0zkLfMkhW0J4",
        "outputId": "8a9bfde9-c105-45cd-c263-8af3b8da464f",
        "colab": {
          "base_uri": "https://localhost:8080/",
          "height": 127
        }
      },
      "source": [
        "requests.get(URL, {}).text"
      ],
      "execution_count": null,
      "outputs": [
        {
          "output_type": "execute_result",
          "data": {
            "application/vnd.google.colaboratory.intrinsic": {
              "type": "string"
            },
            "text/plain": [
              "'<!DOCTYPE html><html><head><meta charSet=\"utf-8\"/><meta http-equiv=\"x-ua-compatible\" content=\"ie=edge\"/><meta name=\"viewport\" content=\"width=device-width, initial-scale=1, shrink-to-fit=no\"/><style data-href=\"/styles.3bfbd3dd9436b814ee1a.css\">body,html{height:auto;font:400 14px/22px Open Sans,Helvetica Neue,Helvetica,Arial,sans-serif;color:#222;background-color:#efefef;margin:0}a,a:active,a:hover,a:visited{text-decoration:none;color:inherit}#truste-consent-track{display:block}#truste-consent-content{display:flex;align-items:center;justify-content:center;flex-wrap:wrap;width:100%;box-sizing:border-box}#truste-consent-text{margin:0 1rem 0 0}#truste-consent-buttons{display:flex;flex-direction:row;margin-top:1px!important;margin-left:10px!important}#truste-consent-button,#truste-show-consent{font-family:Open Sans,HelveticaNeue,HelveticaNeueu,Arial,sans-serif;font-size:14px;color:#fff;background-color:#4a4a4a;cursor:pointer;padding:5px 20px;margin:12px 0;border-radius:4px;border:none}#truste-show-consent{margin-left:1rem}#truste-consent-button:hover,#truste-show-consent:hover{background-color:#4a4a4a}#truste-cookie-button{color:#fff;margin:1rem;line-height:2}@media (max-width:1024px){#truste-consent-content{flex-direction:column;flex-wrap:nowrap}#truste-consent-text{margin:20px 20px 10px;text-align:center;width:unset!important}#truste-consent-buttons{display:block;text-align:center}#truste-consent-button,#truste-show-consent{padding-top:10px;padding-bottom:10px;width:100%;margin:5px 0}#truste-cookie-button{display:inline-block;margin:auto;padding:15px}#truste-show-consent{margin-left:0}}.truste_overlay{background:#fff!important;opacity:.8!important}.truste_box_overlay{background:none!important}.truste_box_overlay_inner{border:3px solid #e8e8e8}</style><meta name=\"generator\" content=\"Gatsby 2.4.2\"/><title data-react-helmet=\"true\">Garmin Connect | </title><link data-react-helmet=\"true\" rel=\"shortcut icon\" href=\"https://static.garmincdn.com/favicon.ico\"/><meta data-react-helmet=\"true\" name=\"robots\" content=\"index,follow\"/><meta data-react-helmet=\"true\" name=\"revisit-after\" content=\"15 days\"/><meta data-react-helmet=\"true\" name=\"author\" content=\"Garmin International\"/><meta data-react-helmet=\"true\" property=\"fb:app_id\" content=\"169380733077633\"/><meta data-react-helmet=\"true\" property=\"og:type\" content=\"website\"/><meta data-react-helmet=\"true\" property=\"og:site_name\" content=\"Garmin Connect\"/><meta data-react-helmet=\"true\" name=\"twitter:card\" content=\"summary\"/><meta data-react-helmet=\"true\" name=\"twitter:site\" content=\"@GarminFitness\"/><meta data-react-helmet=\"true\" name=\"description\" content=\"Sign in to Garmin Connect to track, analyze and share the activities from your Garmin device.\"/><meta data-react-helmet=\"true\" property=\"og:title\" content=\"Garmin Connect | Sign In\"/><meta data-react-helmet=\"true\" property=\"og:url\" content=\"https://connect.garmin.com/signin\"/><meta data-react-helmet=\"true\" property=\"og:description\" content=\"Sign in to Garmin Connect to track, analyze and share the activities from your Garmin device.\"/><meta data-react-helmet=\"true\" property=\"og:image\" content=\"http://static.garmincdn.com/com.garmin.connect/content/images/garmin-connect-fb3.gif\"/><meta data-react-helmet=\"true\" name=\"twitter:title\" content=\"Garmin Connect | Sign In\"/><script data-react-helmet=\"true\" src=\"https://tags.tiqcdn.com/utag/garmin/main/prod/utag.js\"></script><style type=\"text/css\" id=\"server-side-jss\">.c017 {\\n  height: 60px;\\n  display: flex;\\n  padding: 0 15% 0 15%;\\n  background: #1a1a1a;\\n  justify-content: space-between;\\n}\\n.c018 {\\n  top: 3px;\\n  width: 150px;\\n  height: 28px;\\n  display: block;\\n  position: relative;\\n  background: transparent url(/static/logo-sprite-@2x-87aa58de41a3347bb5fc1e8ad25c31b6.png) no-repeat 0 -23.47619px;\\n  background-size: 236px 271px;\\n}\\n.c019 {\\n  float: right;\\n  margin: 0;\\n  list-style: none;\\n}\\n.c0110 {\\n  display: inline-block;\\n  margin-right: 25px;\\n}\\n.c0110 a {\\n  color: #fff;\\n  font-size: 1em;\\n  font-weight: 300;\\n}\\n.c0112 {\\n  width: 0;\\n  height: 0;\\n  display: inline-block;\\n  border-top: 4px solid #fff;\\n  border-left: 4px solid transparent;\\n  margin-left: 5px;\\n  border-right: 4px solid transparent;\\n}\\n.c0113 {\\n  width: 0;\\n  height: 0;\\n  display: inline-block;\\n  border-left: 4px solid transparent;\\n  margin-left: 5px;\\n  border-right: 4px solid transparent;\\n  border-bottom: 4px solid #fff;\\n}\\n.c0114 {\\n  display: none;\\n}\\n.c0115 {\\n  margin: 0;\\n  padding: 0;\\n}\\n.c0116 {\\n  font-size: inherit;\\n  font-weight: inherit;\\n  margin-block-end: 0em;\\n  margin-block-start: 0em;\\n}\\n.c0117 {\\n  margin-top: 12px;\\n}\\n.c0118 {\\n  margin-top: 12px;\\n}\\n@media only screen and (max-width: 767px) {\\n  .c018 {\\n    top: -3px;\\n  }\\n  .c0120 {\\n    height: 100%;\\n  }\\n  .c0121 {\\n    height: 100vh;\\n  }\\n  .c017 {\\n    margin: 0;\\n    display: flex;\\n    padding: 0;\\n    flex-flow: wrap;\\n    justify-content: space-between;\\n  }\\n  .c0117 {\\n    display: none;\\n  }\\n  .c0114 {\\n    width: 20px;\\n    margin: 23px 25px;\\n    height: 14px;\\n    display: inline-flex;\\n    background: transparent url(data:image/svg+xml;base64,PD94bWwgdmVyc2lvbj0iMS4wIiBlbmNvZGluZz0iVVRGLTgiPz4KPHN2ZyB3aWR0aD0iMjBweCIgaGVpZ2h0PSIxNHB4IiB2aWV3Qm94PSIwIDAgMjAgMTQiIHZlcnNpb249IjEuMSIgeG1sbnM9Imh0dHA6Ly93d3cudzMub3JnLzIwMDAvc3ZnIiB4bWxuczp4bGluaz0iaHR0cDovL3d3dy53My5vcmcvMTk5OS94bGluayI+CiAgICA8IS0tIEdlbmVyYXRvcjogU2tldGNoIDUzLjIgKDcyNjQzKSAtIGh0dHBzOi8vc2tldGNoYXBwLmNvbSAtLT4KICAgIDx0aXRsZT5pY29uLW1lbnU8L3RpdGxlPgogICAgPGRlc2M+Q3JlYXRlZCB3aXRoIFNrZXRjaC48L2Rlc2M+CiAgICA8ZyBpZD0iaWNvbi1tZW51IiBzdHJva2U9Im5vbmUiIHN0cm9rZS13aWR0aD0iMSIgZmlsbD0ibm9uZSIgZmlsbC1ydWxlPSJldmVub2RkIj4KICAgICAgICA8cGF0aCBkPSJNMCwwIEwyMCwwIEwyMCwyIEwwLDIgTDAsMCBaIE0wLDYgTDIwLDYgTDIwLDggTDAsOCBMMCw2IFogTTAsMTIgTDIwLDEyIEwyMCwxNCBMMCwxNCBMMCwxMiBaIiBpZD0iQ29tYmluZWQtU2hhcGUiIGZpbGw9IiNGRkZGRkYiPjwvcGF0aD4KICAgIDwvZz4KPC9zdmc+) no-repeat;\\n  }\\n  .c0122 {\\n    margin: 0;\\n    display: block;\\n    padding: 0;\\n    flex-flow: wrap;\\n    background: #121212;\\n    justify-content: space-between;\\n  }\\n  .c0122 .c018 {\\n    background: transparent url(/static/logo-sprite-@2x-87aa58de41a3347bb5fc1e8ad25c31b6.png) no-repeat 0 -23.47619px;\\n    background-size: 236px 271px;\\n  }\\n  .c0122 .c0117 {\\n    margin: 5px 0 10px 0;\\n    display: flex;\\n    flex-basis: 100%;\\n  }\\n  .c0122 .c0115 {\\n    width: 100%;\\n    margin: 0;\\n    padding: 0;\\n    display: grid;\\n  }\\n  .c0122 .c0110 {\\n    color: #fff;\\n    margin: 0;\\n    padding: 10px 25px;\\n    border-top: 1px solid #4d4d4d;\\n  }\\n  .c0122 .c0112 {\\n    float: right;\\n    margin-top: 10px;\\n    border-top: 4px solid #fff;\\n  }\\n  .c0122 .c0113 {\\n    float: right;\\n    margin-top: 10px;\\n    border-bottom: 4px solid #fff;\\n  }\\n  .c0122 .c0119 {\\n    width: 80%;\\n    margin-top: 20px;\\n    border-top: 0px;\\n    text-align: center;\\n    justify-self: center;\\n    margin-right: 0;\\n  }\\n  .c0122 .c0114 {\\n    width: 20px;\\n    right: 0;\\n    height: 18px;\\n    display: inline-block;\\n    position: absolute;\\n    background: transparent url(data:image/svg+xml;base64,PD94bWwgdmVyc2lvbj0iMS4wIiBlbmNvZGluZz0iVVRGLTgiPz4KPHN2ZyB3aWR0aD0iMTZweCIgaGVpZ2h0PSIxNnB4IiB2aWV3Qm94PSIwIDAgMTYgMTYiIHZlcnNpb249IjEuMSIgeG1sbnM9Imh0dHA6Ly93d3cudzMub3JnLzIwMDAvc3ZnIiB4bWxuczp4bGluaz0iaHR0cDovL3d3dy53My5vcmcvMTk5OS94bGluayI+CiAgICA8IS0tIEdlbmVyYXRvcjogU2tldGNoIDUzLjIgKDcyNjQzKSAtIGh0dHBzOi8vc2tldGNoYXBwLmNvbSAtLT4KICAgIDx0aXRsZT5pY29uLWNsb3NlPC90aXRsZT4KICAgIDxkZXNjPkNyZWF0ZWQgd2l0aCBTa2V0Y2guPC9kZXNjPgogICAgPGcgaWQ9Imljb24tY2xvc2UiIHN0cm9rZT0ibm9uZSIgc3Ryb2tlLXdpZHRoPSIxIiBmaWxsPSJub25lIiBmaWxsLXJ1bGU9ImV2ZW5vZGQiPgogICAgICAgIDxwYXRoIGQ9Ik02LjU0NTQ1NDU1LDggTC0xLjU5NzM4ODg5ZS0xMiwxLjQ1NDU0NTQ1IEwxLjQ1NDU0NTQ1LC0xLjY0NDI0MDNlLTEyIEw4LDYuNTQ1NDU0NTUgTDE0LjU0NTQ1NDUsMS42NTIwMTE4NmUtMTIgTDE2LDEuNDU0NTQ1NDUgTDkuNDU0NTQ1NDUsOCBMMTYsMTQuNTQ1NDU0NSBMMTQuNTQ1NDU0NSwxNiBMOCw5LjQ1NDU0NTQ1IEwxLjQ1NDU0NTQ1LDE2IEwtMS42MDI0OTU5MWUtMTIsMTQuNTQ1NDU0NSBMNi41NDU0NTQ1NSw4IFoiIGlkPSJDb21iaW5lZC1TaGFwZSIgZmlsbD0iI0ZGRkZGRiI+PC9wYXRoPgogICAgPC9nPgo8L3N2Zz4=) no-repeat ;\\n  }\\n  .c0122 .c0111 {\\n    margin: 0;\\n    padding: 0;\\n  }\\n  .c0122 .c0111 div {\\n    padding: 10px 25px;\\n  }\\n  .c0122 .c0111 ul {\\n    max-height: initial;\\n  }\\n  .c0122 .c0111 li {\\n    color: #000;\\n    padding: 10px 25px;\\n  }\\n  .c0122 .c0110:nth-last-child(2) {\\n    border-bottom: 1px solid #4d4d4d;\\n  }\\n  .c0122 .c0110 a {\\n    color: #fff;\\n  }\\n  .c0118 {\\n    display: inline-flex;\\n    padding: 10px 25px;\\n    flex-basis: 50%;\\n  }\\n}\\n.c0136 {\\n  display: inline;\\n}\\n.c0136 a {\\n  white-space: nowrap;\\n}\\n.c0137 {\\n  left: 0;\\n  width: 100%;\\n  color: #fff;\\n  bottom: 0;\\n  margin: 0 auto;\\n  z-index: 110;\\n  position: fixed;\\n  font-size: 14px;\\n  font-family: \\'Open Sans\\',\\'HelveticaNeue\\',\\'HelveticaNeueu\\',Arial,sans-serif;\\n  background-color: #333;\\n}\\n.c0123 {\\n  left: 0;\\n  width: 100%;\\n  bottom: 0;\\n  display: flex;\\n  padding: 60px 0;\\n  text-align: center;\\n  flex-direction: column;\\n  justify-content: center;\\n  background-color: #EFEFEF;\\n}\\n.c0124 {\\n  font-size: 1.3rem;\\n  font-weight: 200;\\n  padding-bottom: 30px;\\n}\\n.c0124 a {\\n  padding: 10px;\\n  border-color: #555555;\\n  border-style: solid;\\n  border-width: 1px;\\n  border-radius: 3px;\\n}\\n.c0124 a:visited, .c0124 a:hover, .c0124 a:active {\\n  color: #555555;\\n}\\n.c0125 {\\n  flex: 1;\\n  color: #6c6c6c;\\n  box-sizing: border-box;\\n  text-align: left;\\n  font-weight: 300;\\n  padding-left: 20px;\\n}\\n.c0126 {\\n  flex: 1;\\n  padding: 0;\\n  box-sizing: border-box;\\n  text-align: right;\\n}\\n.c0127 {\\n  color: #6c6c6c;\\n  display: inline-block;\\n  font-weight: 400;\\n}\\n.c0127 a:visited, .c0127 a:hover, .c0127 a:active {\\n  color: #6c6c6c;\\n  text-decoration: none;\\n}\\n.c0127:not(:first-of-type):before {\\n  width: 5px;\\n  height: 5px;\\n  margin: 0 10px 3px 10px;\\n  content: \"\";\\n  display: inline-block;\\n  border-radius: 50%;\\n  background-color: #6c6c6c;\\n}\\n.c0128 {\\n  display: flex;\\n  align-items: center;\\n  justify-content: center;\\n}\\n.c0129 {\\n  width: 24px;\\n  height: 24px;\\n  margin: 15px;\\n  display: inline-block;\\n}\\n.c0130 {\\n  width: 24px;\\n  height: 24px;\\n  margin: 15px;\\n  display: inline-block;\\n}\\n.c0131 {\\n  width: 24px;\\n  height: 24px;\\n  margin: 15px;\\n  display: inline-block;\\n}\\n.c0132 a {\\n  width: 24px;\\n  height: 24px;\\n  display: inline-block;\\n}\\n@media screen and (max-width:767px) {\\n  .c0128 {\\n    padding: 0 5px 0 5px;\\n    flex-wrap: wrap;\\n  }\\n  .c0126 {\\n    flex-basis: 100%;\\n    text-align: center;\\n  }\\n  .c0125 {\\n    text-align: center;\\n    padding-left: 0;\\n  }\\n}\\n.c0133 {\\n  background-image: url(data:image/svg+xml;base64,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);\\n}\\n.c0134 {\\n  background-image: url(data:image/svg+xml;base64,PD94bWwgdmVyc2lvbj0iMS4wIiBlbmNvZGluZz0iVVRGLTgiPz4KPHN2ZyB3aWR0aD0iMjRweCIgaGVpZ2h0PSIyNHB4IiB2aWV3Qm94PSIwIDAgMjQgMjQiIHZlcnNpb249IjEuMSIgeG1sbnM9Imh0dHA6Ly93d3cudzMub3JnLzIwMDAvc3ZnIiB4bWxuczp4bGluaz0iaHR0cDovL3d3dy53My5vcmcvMTk5OS94bGluayI+CiAgICA8IS0tIEdlbmVyYXRvcjogU2tldGNoIDUzLjEgKDcyNjMxKSAtIGh0dHBzOi8vc2tldGNoYXBwLmNvbSAtLT4KICAgIDx0aXRsZT5zb2NpYWwtZmFjZWJvb2staWNvbjwvdGl0bGU+CiAgICA8ZGVzYz5DcmVhdGVkIHdpdGggU2tldGNoLjwvZGVzYz4KICAgIDxnIGlkPSJzb2NpYWwtZmFjZWJvb2staWNvbiIgc3Ryb2tlPSJub25lIiBzdHJva2Utd2lkdGg9IjEiIGZpbGw9Im5vbmUiIGZpbGwtcnVsZT0iZXZlbm9kZCI+CiAgICAgICAgPGcgaWQ9ImZhY2Vib29rIj4KICAgICAgICAgICAgPHBvbHlnb24gaWQ9IlBhdGgiIHBvaW50cz0iMCAwIDIzLjQyMTE3NjUgMCAyMy40MjExNzY1IDIzLjQyMTE3NjUgMCAyMy40MjExNzY1Ij48L3BvbHlnb24+CiAgICAgICAgICAgIDxwYXRoIGQ9Ik0yMi42NzU1ODc3LDAgQzIzLjQwNjg3MTYsMCAyNCwwLjU5MzEyODM5MSAyNCwxLjMyNDQxMjMgTDI0LDIyLjY3NTU4NzcgQzI0LDIzLjQwNjg3MTYgMjMuNDA2ODcxNiwyNCAyMi42NzU1ODc3LDI0IEwxNi41NTk4NTUzLDI0IEwxNi41NTk4NTUzLDE0LjcwNTk2NzUgTDE5LjY3ODg0MjcsMTQuNzA1OTY3NSBMMjAuMTQ2MTEyMSwxMS4wODM1NDQzIEwxNi41NTk4NTUzLDExLjA4MzU0NDMgTDE2LjU1OTg1NTMsOC43NzEwNjY5MSBDMTYuNTU5ODU1Myw3LjcyMjk2NTY0IDE2Ljg1MDYzMjksNy4wMDgzMTgyNiAxOC4zNTQ0MzA0LDcuMDA4MzE4MjYgTDIwLjI3MjY5NDQsNy4wMDY4NzE2MSBMMjAuMjcyNjk0NCwzLjc2NzgxMTkzIEMxOS45NDA2ODcyLDMuNzIzNjg4OTcgMTguODAyMTcsMy42MjQ1OTMxMyAxNy40Nzc3NTc3LDMuNjI0NTkzMTMgQzE0LjcxMjQ3NzQsMy42MjQ1OTMxMyAxMi44MTg4MDY1LDUuMzEyODM5MDYgMTIuODE4ODA2NSw4LjQxMjI5NjU2IEwxMi44MTg4MDY1LDExLjA4MzU0NDMgTDkuNjkxMTM5MjQsMTEuMDgzNTQ0MyBMOS42OTExMzkyNCwxNC43MDU5Njc1IEwxMi44MTg4MDY1LDE0LjcwNTk2NzUgTDEyLjgxODgwNjUsMjQgTDEuMzI0NDEyMywyNCBDMC41OTI5NTk1ODMsMjQgMi42ODgyMTkxOGUtMTUsMjMuNDA3MDQwNCAwLDIyLjY3NTU4NzcgTDAsMS4zMjQ0MTIzIEMwLDAuNTkzMTI4MzkxIDAuNTkzMTI4MzkxLDAgMS4zMjQ0MTIzLDAgTDIyLjY3NTU4NzcsMCBaIiBpZD0iUGF0aCIgZmlsbD0iI0NGQ0ZDRiIgZmlsbC1ydWxlPSJub256ZXJvIj48L3BhdGg+CiAgICAgICAgPC9nPgogICAgPC9nPgo8L3N2Zz4=);\\n}\\n.c0135 {\\n  background-image: url(data:image/svg+xml;base64,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);\\n}\\n.c014 {\\n  min-height: 800px;\\n  overflow-x: auto;\\n  background-size: cover;\\n  background-position: center;\\n}\\n.c015 {\\n  background: #333333;\\n}\\n.c015 + div {\\n  display: none;\\n}\\n@media only screen and (max-width: 767px) {\\n  .c014 {\\n    background-position: 50% 100%;\\n  }\\n}\\n.c016 {\\n  background-image: url(/static/signin-hero-56bbcb135634620e65801089291bffb9.jpg);\\n  background-color: ;\\n  height: calc(100vh - 50px);\\n}\\n@media only screen and (max-width: 767px) {\\n  .c016 {\\n    background-image: url(/static/signin-hero-mobile-39de397b47237a03ec6c205ac218822b.jpg);\\n  }\\n}\\n.c011 {\\n  display: flex;\\n  justify-content: center;\\n}\\n.c012 {\\n  width: 350px;\\n  display: flex;\\n  border-radius: 0px;\\n  justify-content: center;\\n  background-color: #fafafa;\\n}\\n.c013 {\\n  width: 100%;\\n  height: 80%;\\n  display: flex;\\n  align-items: center;\\n  justify-content: center;\\n}</style><link as=\"script\" rel=\"preload\" href=\"/component---src-pages-signin-js-2cbe8560a833724ca935.js\"/><link as=\"script\" rel=\"preload\" href=\"/1-ce2bc733156e4b92652d.js\"/><link as=\"script\" rel=\"preload\" href=\"/0-1b57d2d469aaeb0d9220.js\"/><link as=\"script\" rel=\"preload\" href=\"/app-f70ac04d1f56b78f3931.js\"/><link as=\"script\" rel=\"preload\" href=\"/styles-7f4ad17eaa2f84285347.js\"/><link as=\"script\" rel=\"preload\" href=\"/webpack-runtime-726429aeeebf792fa865.js\"/><link as=\"fetch\" rel=\"preload\" href=\"/static/d/731/path---signin-59-f-ae5-0SUcWyAf8ecbYDsMhQkEfPzV8.json\" crossorigin=\"use-credentials\"/></head><body><noscript id=\"gatsby-noscript\">This app works best with JavaScript enabled.</noscript><div id=\"___gatsby\"><div style=\"outline:none\" tabindex=\"-1\" role=\"group\"><div><header class=\"c017\"><h1 class=\"c0116 c0118\"><a class=\"c018\" title=\"Connect\" href=\"/\"></a></h1><div class=\"c0114\"></div></header><main class=\"c014 c016\"><div class=\"c013\"><div class=\"c011\"><div class=\"c012\" id=\"gauth-widget\"><noscript>To sign in to your Garmin account, please enable JavaScript in your web browser.</noscript></div></div><div id=\"loginGauth\"></div></div></main><footer class=\"c0123\"><div></div><div class=\"c0132\"><span class=\"c0129 c0133\"><a title=\"Instagram\" href=\"https://www.instagram.com/garminfitness/\"></a></span><span class=\"c0130 c0134\"><a title=\"Facebook\" href=\"https://www.facebook.com/garminfit\"></a></span><span class=\"c0131 c0135\"><a title=\"Twitter\" href=\"https://twitter.com/garminfitness\"></a></span></div><div id=\"consent\"></div></footer></div></div></div><script id=\"gatsby-script-loader\">/*<![CDATA[*/window.page={\"componentChunkName\":\"component---src-pages-signin-js\",\"jsonName\":\"signin-59f\",\"path\":\"/signin/\"};window.dataPath=\"731/path---signin-59-f-ae5-0SUcWyAf8ecbYDsMhQkEfPzV8\";/*]]>*/</script><script id=\"gatsby-chunk-mapping\">/*<![CDATA[*/window.___chunkMapping={\"app\":[\"/app-f70ac04d1f56b78f3931.js\"],\"component---src-pages-404-js\":[\"/component---src-pages-404-js-841e84ff797503ac048a.js\"],\"component---src-pages-features-coach-js\":[\"/component---src-pages-features-coach-js-29876275865a0a2c7c1a.js\"],\"component---src-pages-features-index-js\":[\"/component---src-pages-features-index-js-4d4a82516cad02ced3d8.js\"],\"component---src-pages-features-menstrual-cycle-tracking-js\":[\"/component---src-pages-features-menstrual-cycle-tracking-js-f82b6a996c090a06f4e6.js\"],\"component---src-pages-index-js\":[\"/component---src-pages-index-js-63d08c00a3a5730e5622.js\"],\"component---src-pages-signin-js\":[\"/component---src-pages-signin-js-2cbe8560a833724ca935.js\"],\"component---src-pages-start-index-scale-express-js\":[\"/component---src-pages-start-index-scale-express-js-4191a33b757912674795.js\"],\"component---src-pages-start-index-scale-help-js\":[\"/component---src-pages-start-index-scale-help-js-fa0de611ea120d0cf195.js\"],\"component---src-pages-start-index-scale-index-js\":[\"/component---src-pages-start-index-scale-index-js-7ac8a52212a94db2fab4.js\"],\"component---src-pages-start-index-scale-mobile-js\":[\"/component---src-pages-start-index-scale-mobile-js-825c52b5de34c7e3fc6b.js\"],\"component---src-pages-start-index-scale-wps-js\":[\"/component---src-pages-start-index-scale-wps-js-bd933d60ca0bc42292a4.js\"],\"component---src-pages-start-index-js\":[\"/component---src-pages-start-index-js-d3a69576ea9d5117784e.js\"],\"component---src-pages-start-quickdraw-legal-js\":[\"/component---src-pages-start-quickdraw-legal-js-cf2da0e15e8af7e20d6c.js\"],\"component---src-pages-start-quickdraw-js\":[\"/component---src-pages-start-quickdraw-js-b1a8e022d6e90bebe5c0.js\"],\"component---src-pages-start-vivoki-js\":[\"/component---src-pages-start-vivoki-js-2fee9b53b1a7130bc857.js\"],\"component---src-pages-status-js\":[\"/component---src-pages-status-js-77f076abb7dc3adf65b2.js\"],\"component---src-pages-support-js\":[\"/component---src-pages-support-js-28338b5a6bf95bb7f96d.js\"],\"pages-manifest\":[\"/pages-manifest-30001a9f1ccc5a08342f.js\"]};/*]]>*/</script><script src=\"/webpack-runtime-726429aeeebf792fa865.js\" async=\"\"></script><script src=\"/styles-7f4ad17eaa2f84285347.js\" async=\"\"></script><script src=\"/app-f70ac04d1f56b78f3931.js\" async=\"\"></script><script src=\"/0-1b57d2d469aaeb0d9220.js\" async=\"\"></script><script src=\"/1-ce2bc733156e4b92652d.js\" async=\"\"></script><script src=\"/component---src-pages-signin-js-2cbe8560a833724ca935.js\" async=\"\"></script><script defer src=\"https://static.cloudflareinsights.com/beacon.min.js\" data-cf-beacon=\\'{\"rayId\":\"5ad36b6838d3ba3a\",\"version\":\"2020.6.0\",\"si\":10}\\'></script>\\n</body></html>'"
            ]
          },
          "metadata": {
            "tags": []
          },
          "execution_count": 3
        }
      ]
    },
    {
      "cell_type": "code",
      "metadata": {
        "id": "gBlzUqJyXJa8"
      },
      "source": [
        "web_page = bs4.BeautifulSoup(requests.get(URL, {}).text, \"lxml\")"
      ],
      "execution_count": null,
      "outputs": []
    },
    {
      "cell_type": "code",
      "metadata": {
        "id": "Ada8DmbgXPeP",
        "outputId": "e076fe60-68da-49a1-c909-c3583d0572f9",
        "colab": {
          "base_uri": "https://localhost:8080/",
          "height": 1000
        }
      },
      "source": [
        "web_page"
      ],
      "execution_count": null,
      "outputs": [
        {
          "output_type": "execute_result",
          "data": {
            "text/plain": [
              "<!DOCTYPE html>\n",
              "<html><head><meta charset=\"utf-8\"/><meta content=\"ie=edge\" http-equiv=\"x-ua-compatible\"/><meta content=\"width=device-width, initial-scale=1, shrink-to-fit=no\" name=\"viewport\"/><style data-href=\"/styles.3bfbd3dd9436b814ee1a.css\">body,html{height:auto;font:400 14px/22px Open Sans,Helvetica Neue,Helvetica,Arial,sans-serif;color:#222;background-color:#efefef;margin:0}a,a:active,a:hover,a:visited{text-decoration:none;color:inherit}#truste-consent-track{display:block}#truste-consent-content{display:flex;align-items:center;justify-content:center;flex-wrap:wrap;width:100%;box-sizing:border-box}#truste-consent-text{margin:0 1rem 0 0}#truste-consent-buttons{display:flex;flex-direction:row;margin-top:1px!important;margin-left:10px!important}#truste-consent-button,#truste-show-consent{font-family:Open Sans,HelveticaNeue,HelveticaNeueu,Arial,sans-serif;font-size:14px;color:#fff;background-color:#4a4a4a;cursor:pointer;padding:5px 20px;margin:12px 0;border-radius:4px;border:none}#truste-show-consent{margin-left:1rem}#truste-consent-button:hover,#truste-show-consent:hover{background-color:#4a4a4a}#truste-cookie-button{color:#fff;margin:1rem;line-height:2}@media (max-width:1024px){#truste-consent-content{flex-direction:column;flex-wrap:nowrap}#truste-consent-text{margin:20px 20px 10px;text-align:center;width:unset!important}#truste-consent-buttons{display:block;text-align:center}#truste-consent-button,#truste-show-consent{padding-top:10px;padding-bottom:10px;width:100%;margin:5px 0}#truste-cookie-button{display:inline-block;margin:auto;padding:15px}#truste-show-consent{margin-left:0}}.truste_overlay{background:#fff!important;opacity:.8!important}.truste_box_overlay{background:none!important}.truste_box_overlay_inner{border:3px solid #e8e8e8}</style><meta content=\"Gatsby 2.4.2\" name=\"generator\"/><title data-react-helmet=\"true\">Garmin Connect | </title><link data-react-helmet=\"true\" href=\"https://static.garmincdn.com/favicon.ico\" rel=\"shortcut icon\"/><meta content=\"index,follow\" data-react-helmet=\"true\" name=\"robots\"/><meta content=\"15 days\" data-react-helmet=\"true\" name=\"revisit-after\"/><meta content=\"Garmin International\" data-react-helmet=\"true\" name=\"author\"/><meta content=\"169380733077633\" data-react-helmet=\"true\" property=\"fb:app_id\"/><meta content=\"website\" data-react-helmet=\"true\" property=\"og:type\"/><meta content=\"Garmin Connect\" data-react-helmet=\"true\" property=\"og:site_name\"/><meta content=\"summary\" data-react-helmet=\"true\" name=\"twitter:card\"/><meta content=\"@GarminFitness\" data-react-helmet=\"true\" name=\"twitter:site\"/><meta content=\"Sign in to Garmin Connect to track, analyze and share the activities from your Garmin device.\" data-react-helmet=\"true\" name=\"description\"/><meta content=\"Garmin Connect | Sign In\" data-react-helmet=\"true\" property=\"og:title\"/><meta content=\"https://connect.garmin.com/signin\" data-react-helmet=\"true\" property=\"og:url\"/><meta content=\"Sign in to Garmin Connect to track, analyze and share the activities from your Garmin device.\" data-react-helmet=\"true\" property=\"og:description\"/><meta content=\"http://static.garmincdn.com/com.garmin.connect/content/images/garmin-connect-fb3.gif\" data-react-helmet=\"true\" property=\"og:image\"/><meta content=\"Garmin Connect | Sign In\" data-react-helmet=\"true\" name=\"twitter:title\"/><script data-react-helmet=\"true\" src=\"https://tags.tiqcdn.com/utag/garmin/main/prod/utag.js\"></script><style id=\"server-side-jss\" type=\"text/css\">.c017 {\n",
              "  height: 60px;\n",
              "  display: flex;\n",
              "  padding: 0 15% 0 15%;\n",
              "  background: #1a1a1a;\n",
              "  justify-content: space-between;\n",
              "}\n",
              ".c018 {\n",
              "  top: 3px;\n",
              "  width: 150px;\n",
              "  height: 28px;\n",
              "  display: block;\n",
              "  position: relative;\n",
              "  background: transparent url(/static/logo-sprite-@2x-87aa58de41a3347bb5fc1e8ad25c31b6.png) no-repeat 0 -23.47619px;\n",
              "  background-size: 236px 271px;\n",
              "}\n",
              ".c019 {\n",
              "  float: right;\n",
              "  margin: 0;\n",
              "  list-style: none;\n",
              "}\n",
              ".c0110 {\n",
              "  display: inline-block;\n",
              "  margin-right: 25px;\n",
              "}\n",
              ".c0110 a {\n",
              "  color: #fff;\n",
              "  font-size: 1em;\n",
              "  font-weight: 300;\n",
              "}\n",
              ".c0112 {\n",
              "  width: 0;\n",
              "  height: 0;\n",
              "  display: inline-block;\n",
              "  border-top: 4px solid #fff;\n",
              "  border-left: 4px solid transparent;\n",
              "  margin-left: 5px;\n",
              "  border-right: 4px solid transparent;\n",
              "}\n",
              ".c0113 {\n",
              "  width: 0;\n",
              "  height: 0;\n",
              "  display: inline-block;\n",
              "  border-left: 4px solid transparent;\n",
              "  margin-left: 5px;\n",
              "  border-right: 4px solid transparent;\n",
              "  border-bottom: 4px solid #fff;\n",
              "}\n",
              ".c0114 {\n",
              "  display: none;\n",
              "}\n",
              ".c0115 {\n",
              "  margin: 0;\n",
              "  padding: 0;\n",
              "}\n",
              ".c0116 {\n",
              "  font-size: inherit;\n",
              "  font-weight: inherit;\n",
              "  margin-block-end: 0em;\n",
              "  margin-block-start: 0em;\n",
              "}\n",
              ".c0117 {\n",
              "  margin-top: 12px;\n",
              "}\n",
              ".c0118 {\n",
              "  margin-top: 12px;\n",
              "}\n",
              "@media only screen and (max-width: 767px) {\n",
              "  .c018 {\n",
              "    top: -3px;\n",
              "  }\n",
              "  .c0120 {\n",
              "    height: 100%;\n",
              "  }\n",
              "  .c0121 {\n",
              "    height: 100vh;\n",
              "  }\n",
              "  .c017 {\n",
              "    margin: 0;\n",
              "    display: flex;\n",
              "    padding: 0;\n",
              "    flex-flow: wrap;\n",
              "    justify-content: space-between;\n",
              "  }\n",
              "  .c0117 {\n",
              "    display: none;\n",
              "  }\n",
              "  .c0114 {\n",
              "    width: 20px;\n",
              "    margin: 23px 25px;\n",
              "    height: 14px;\n",
              "    display: inline-flex;\n",
              "    background: transparent url(data:image/svg+xml;base64,PD94bWwgdmVyc2lvbj0iMS4wIiBlbmNvZGluZz0iVVRGLTgiPz4KPHN2ZyB3aWR0aD0iMjBweCIgaGVpZ2h0PSIxNHB4IiB2aWV3Qm94PSIwIDAgMjAgMTQiIHZlcnNpb249IjEuMSIgeG1sbnM9Imh0dHA6Ly93d3cudzMub3JnLzIwMDAvc3ZnIiB4bWxuczp4bGluaz0iaHR0cDovL3d3dy53My5vcmcvMTk5OS94bGluayI+CiAgICA8IS0tIEdlbmVyYXRvcjogU2tldGNoIDUzLjIgKDcyNjQzKSAtIGh0dHBzOi8vc2tldGNoYXBwLmNvbSAtLT4KICAgIDx0aXRsZT5pY29uLW1lbnU8L3RpdGxlPgogICAgPGRlc2M+Q3JlYXRlZCB3aXRoIFNrZXRjaC48L2Rlc2M+CiAgICA8ZyBpZD0iaWNvbi1tZW51IiBzdHJva2U9Im5vbmUiIHN0cm9rZS13aWR0aD0iMSIgZmlsbD0ibm9uZSIgZmlsbC1ydWxlPSJldmVub2RkIj4KICAgICAgICA8cGF0aCBkPSJNMCwwIEwyMCwwIEwyMCwyIEwwLDIgTDAsMCBaIE0wLDYgTDIwLDYgTDIwLDggTDAsOCBMMCw2IFogTTAsMTIgTDIwLDEyIEwyMCwxNCBMMCwxNCBMMCwxMiBaIiBpZD0iQ29tYmluZWQtU2hhcGUiIGZpbGw9IiNGRkZGRkYiPjwvcGF0aD4KICAgIDwvZz4KPC9zdmc+) no-repeat;\n",
              "  }\n",
              "  .c0122 {\n",
              "    margin: 0;\n",
              "    display: block;\n",
              "    padding: 0;\n",
              "    flex-flow: wrap;\n",
              "    background: #121212;\n",
              "    justify-content: space-between;\n",
              "  }\n",
              "  .c0122 .c018 {\n",
              "    background: transparent url(/static/logo-sprite-@2x-87aa58de41a3347bb5fc1e8ad25c31b6.png) no-repeat 0 -23.47619px;\n",
              "    background-size: 236px 271px;\n",
              "  }\n",
              "  .c0122 .c0117 {\n",
              "    margin: 5px 0 10px 0;\n",
              "    display: flex;\n",
              "    flex-basis: 100%;\n",
              "  }\n",
              "  .c0122 .c0115 {\n",
              "    width: 100%;\n",
              "    margin: 0;\n",
              "    padding: 0;\n",
              "    display: grid;\n",
              "  }\n",
              "  .c0122 .c0110 {\n",
              "    color: #fff;\n",
              "    margin: 0;\n",
              "    padding: 10px 25px;\n",
              "    border-top: 1px solid #4d4d4d;\n",
              "  }\n",
              "  .c0122 .c0112 {\n",
              "    float: right;\n",
              "    margin-top: 10px;\n",
              "    border-top: 4px solid #fff;\n",
              "  }\n",
              "  .c0122 .c0113 {\n",
              "    float: right;\n",
              "    margin-top: 10px;\n",
              "    border-bottom: 4px solid #fff;\n",
              "  }\n",
              "  .c0122 .c0119 {\n",
              "    width: 80%;\n",
              "    margin-top: 20px;\n",
              "    border-top: 0px;\n",
              "    text-align: center;\n",
              "    justify-self: center;\n",
              "    margin-right: 0;\n",
              "  }\n",
              "  .c0122 .c0114 {\n",
              "    width: 20px;\n",
              "    right: 0;\n",
              "    height: 18px;\n",
              "    display: inline-block;\n",
              "    position: absolute;\n",
              "    background: transparent url(data:image/svg+xml;base64,PD94bWwgdmVyc2lvbj0iMS4wIiBlbmNvZGluZz0iVVRGLTgiPz4KPHN2ZyB3aWR0aD0iMTZweCIgaGVpZ2h0PSIxNnB4IiB2aWV3Qm94PSIwIDAgMTYgMTYiIHZlcnNpb249IjEuMSIgeG1sbnM9Imh0dHA6Ly93d3cudzMub3JnLzIwMDAvc3ZnIiB4bWxuczp4bGluaz0iaHR0cDovL3d3dy53My5vcmcvMTk5OS94bGluayI+CiAgICA8IS0tIEdlbmVyYXRvcjogU2tldGNoIDUzLjIgKDcyNjQzKSAtIGh0dHBzOi8vc2tldGNoYXBwLmNvbSAtLT4KICAgIDx0aXRsZT5pY29uLWNsb3NlPC90aXRsZT4KICAgIDxkZXNjPkNyZWF0ZWQgd2l0aCBTa2V0Y2guPC9kZXNjPgogICAgPGcgaWQ9Imljb24tY2xvc2UiIHN0cm9rZT0ibm9uZSIgc3Ryb2tlLXdpZHRoPSIxIiBmaWxsPSJub25lIiBmaWxsLXJ1bGU9ImV2ZW5vZGQiPgogICAgICAgIDxwYXRoIGQ9Ik02LjU0NTQ1NDU1LDggTC0xLjU5NzM4ODg5ZS0xMiwxLjQ1NDU0NTQ1IEwxLjQ1NDU0NTQ1LC0xLjY0NDI0MDNlLTEyIEw4LDYuNTQ1NDU0NTUgTDE0LjU0NTQ1NDUsMS42NTIwMTE4NmUtMTIgTDE2LDEuNDU0NTQ1NDUgTDkuNDU0NTQ1NDUsOCBMMTYsMTQuNTQ1NDU0NSBMMTQuNTQ1NDU0NSwxNiBMOCw5LjQ1NDU0NTQ1IEwxLjQ1NDU0NTQ1LDE2IEwtMS42MDI0OTU5MWUtMTIsMTQuNTQ1NDU0NSBMNi41NDU0NTQ1NSw4IFoiIGlkPSJDb21iaW5lZC1TaGFwZSIgZmlsbD0iI0ZGRkZGRiI+PC9wYXRoPgogICAgPC9nPgo8L3N2Zz4=) no-repeat ;\n",
              "  }\n",
              "  .c0122 .c0111 {\n",
              "    margin: 0;\n",
              "    padding: 0;\n",
              "  }\n",
              "  .c0122 .c0111 div {\n",
              "    padding: 10px 25px;\n",
              "  }\n",
              "  .c0122 .c0111 ul {\n",
              "    max-height: initial;\n",
              "  }\n",
              "  .c0122 .c0111 li {\n",
              "    color: #000;\n",
              "    padding: 10px 25px;\n",
              "  }\n",
              "  .c0122 .c0110:nth-last-child(2) {\n",
              "    border-bottom: 1px solid #4d4d4d;\n",
              "  }\n",
              "  .c0122 .c0110 a {\n",
              "    color: #fff;\n",
              "  }\n",
              "  .c0118 {\n",
              "    display: inline-flex;\n",
              "    padding: 10px 25px;\n",
              "    flex-basis: 50%;\n",
              "  }\n",
              "}\n",
              ".c0136 {\n",
              "  display: inline;\n",
              "}\n",
              ".c0136 a {\n",
              "  white-space: nowrap;\n",
              "}\n",
              ".c0137 {\n",
              "  left: 0;\n",
              "  width: 100%;\n",
              "  color: #fff;\n",
              "  bottom: 0;\n",
              "  margin: 0 auto;\n",
              "  z-index: 110;\n",
              "  position: fixed;\n",
              "  font-size: 14px;\n",
              "  font-family: 'Open Sans','HelveticaNeue','HelveticaNeueu',Arial,sans-serif;\n",
              "  background-color: #333;\n",
              "}\n",
              ".c0123 {\n",
              "  left: 0;\n",
              "  width: 100%;\n",
              "  bottom: 0;\n",
              "  display: flex;\n",
              "  padding: 60px 0;\n",
              "  text-align: center;\n",
              "  flex-direction: column;\n",
              "  justify-content: center;\n",
              "  background-color: #EFEFEF;\n",
              "}\n",
              ".c0124 {\n",
              "  font-size: 1.3rem;\n",
              "  font-weight: 200;\n",
              "  padding-bottom: 30px;\n",
              "}\n",
              ".c0124 a {\n",
              "  padding: 10px;\n",
              "  border-color: #555555;\n",
              "  border-style: solid;\n",
              "  border-width: 1px;\n",
              "  border-radius: 3px;\n",
              "}\n",
              ".c0124 a:visited, .c0124 a:hover, .c0124 a:active {\n",
              "  color: #555555;\n",
              "}\n",
              ".c0125 {\n",
              "  flex: 1;\n",
              "  color: #6c6c6c;\n",
              "  box-sizing: border-box;\n",
              "  text-align: left;\n",
              "  font-weight: 300;\n",
              "  padding-left: 20px;\n",
              "}\n",
              ".c0126 {\n",
              "  flex: 1;\n",
              "  padding: 0;\n",
              "  box-sizing: border-box;\n",
              "  text-align: right;\n",
              "}\n",
              ".c0127 {\n",
              "  color: #6c6c6c;\n",
              "  display: inline-block;\n",
              "  font-weight: 400;\n",
              "}\n",
              ".c0127 a:visited, .c0127 a:hover, .c0127 a:active {\n",
              "  color: #6c6c6c;\n",
              "  text-decoration: none;\n",
              "}\n",
              ".c0127:not(:first-of-type):before {\n",
              "  width: 5px;\n",
              "  height: 5px;\n",
              "  margin: 0 10px 3px 10px;\n",
              "  content: \"\";\n",
              "  display: inline-block;\n",
              "  border-radius: 50%;\n",
              "  background-color: #6c6c6c;\n",
              "}\n",
              ".c0128 {\n",
              "  display: flex;\n",
              "  align-items: center;\n",
              "  justify-content: center;\n",
              "}\n",
              ".c0129 {\n",
              "  width: 24px;\n",
              "  height: 24px;\n",
              "  margin: 15px;\n",
              "  display: inline-block;\n",
              "}\n",
              ".c0130 {\n",
              "  width: 24px;\n",
              "  height: 24px;\n",
              "  margin: 15px;\n",
              "  display: inline-block;\n",
              "}\n",
              ".c0131 {\n",
              "  width: 24px;\n",
              "  height: 24px;\n",
              "  margin: 15px;\n",
              "  display: inline-block;\n",
              "}\n",
              ".c0132 a {\n",
              "  width: 24px;\n",
              "  height: 24px;\n",
              "  display: inline-block;\n",
              "}\n",
              "@media screen and (max-width:767px) {\n",
              "  .c0128 {\n",
              "    padding: 0 5px 0 5px;\n",
              "    flex-wrap: wrap;\n",
              "  }\n",
              "  .c0126 {\n",
              "    flex-basis: 100%;\n",
              "    text-align: center;\n",
              "  }\n",
              "  .c0125 {\n",
              "    text-align: center;\n",
              "    padding-left: 0;\n",
              "  }\n",
              "}\n",
              ".c0133 {\n",
              "  background-image: url(data:image/svg+xml;base64,PD94bWwgdmVyc2lvbj0iMS4wIiBlbmNvZGluZz0iVVRGLTgiPz4KPHN2ZyB3aWR0aD0iMjRweCIgaGVpZ2h0PSIyNHB4IiB2aWV3Qm94PSIwIDAgMjQgMjQiIHZlcnNpb249IjEuMSIgeG1sbnM9Imh0dHA6Ly93d3cudzMub3JnLzIwMDAvc3ZnIiB4bWxuczp4bGluaz0iaHR0cDovL3d3dy53My5vcmcvMTk5OS94bGluayI+CiAgICA8IS0tIEdlbmVyYXRvcjogU2tldGNoIDUzLjEgKDcyNjMxKSAtIGh0dHBzOi8vc2tldGNoYXBwLmNvbSAtLT4KICAgIDx0aXRsZT5zb2NpYWwtaW5zdGFncmFtLWljb248L3RpdGxlPgogICAgPGRlc2M+Q3JlYXRlZCB3aXRoIFNrZXRjaC48L2Rlc2M+CiAgICA8ZyBpZD0ic29jaWFsLWluc3RhZ3JhbS1pY29uIiBzdHJva2U9Im5vbmUiIHN0cm9rZS13aWR0aD0iMSIgZmlsbD0ibm9uZSIgZmlsbC1ydWxlPSJldmVub2RkIj4KICAgICAgICA8ZyBpZD0iaW5zdGFncmFtIj4KICAgICAgICAgICAgPHBvbHlnb24gaWQ9IlBhdGgiIHBvaW50cz0iMCAwIDIzLjQyMTE3NjUgMCAyMy40MjExNzY1IDIzLjQyMTE3NjUgMCAyMy40MjExNzY1Ij48L3BvbHlnb24+CiAgICAgICAgICAgIDxwYXRoIGQ9Ik0xNS45MDk2MzU0LDAgQzE4Ljc3ODM2MTEsMC4wMDUwNjQ2NjQ5MiAxOC44ODk3NTM5LDAuMDI4OTQwOTQyNCAxOS40NTAzMzQ0LDAuMTA5OTc1NTgxIEMyMC42MDY5Mzg3LDAuMjc3MTA5NTIzIDIxLjU3ODM3MDUsMC43Mzg3MTc1NTQgMjIuMzcxODYzMiwxLjQ5Njk3MDI1IEMyMi43OTgwNTU5LDEuODk4OTcyOTUgMjMuMTQ2MjgyOCwyLjM3NjMxODgxIDIzLjM5ODk5MTQsMi45MDQ5NDcwOSBDMjMuNzM1MzM5OCwzLjU4OTQwMDM4IDIzLjkwMDk4MjMsNC4yMzc2Nzc0OSAyMy45NzYyMDg2LDUuMjAxNDEwODcgQzIzLjk5Mjg0NTEsNS40MDgzMzg2MSAyNC4wMDAwNzg0LDguNjk4OTIzNzYgMjQuMDAwMDc4NCwxMS45OTI0MDMgQzI0LjAwMDA3ODQsMTUuMjg0NDM1MiAyMy45OTM1Njg1LDE4LjU4MTUzMjEgMjMuOTc2OTMxOSwxOC43ODg0NTk4IEMyMy45MDI0Mjg5LDE5LjczNjk5OTIgMjMuNzM2Nzg2NCwyMC4zOTAzNDEgMjMuNDExMjg4LDIxLjA2MjQ5NDMgQzIyLjc2NzQ2NTEsMjIuMzk1OTA0MSAyMS41Njg1OTA1LDIzLjM3NzQ5NzUgMjAuMTM0NjA0NCwyMy43NDUzMTk3IEMxOS42MTM4MDcsMjMuODc5ODk1MSAxOS4xNDIxOTYsMjMuOTQzNTY1MiAxOC4zMjk4OTY3LDIzLjk4MTE4ODQgQzE4LjAzOTg0MTUsMjMuOTk2MzgyNCAxNS4wMDkwODk5LDI0IDExLjk3ODMzODQsMjQgQzguOTQ3NTg2NzksMjQgNS45MTgyODE4OSwyMy45OTA1OTQyIDUuNjIwOTkzMzgsMjMuOTc3NTcwOCBDNC45MjAwODY4NywyMy45NDQyODg3IDQuMzczMjQ5NiwyMy44NzQxMDY5IDMuODc5MjE1MzksMjMuNzQ2NzY2OCBDMi40NDgxNzAzNiwyMy4zNzY2NDgyIDEuMjUwODM3MjcsMjIuMzk4NDMyIDAuNjAyNTMxNzI1LDIxLjA2OTcyOTYgQzAuMjcwNTIzMzgsMjAuMzgwOTM1MiAwLjExMzU2MDgyOSwxOS43NTE0Njk3IDAuMDMwMzc3OTEsMTguNzUwODM2NiBDMC4wMDY1MDgwMjg5NSwxOC40NjY0OTE4IDAuMDAwNzIxMzkxMTMxLDE3LjAwMjgwMzcgMC4wMDA3MjEzOTExMzEsMTEuOTk1Mjk3MSBDMC4wMDA3MjEzOTExMzEsMTAuMzA4MDQwMiAtMC4wMDA3MjUyNjgzMjUsOS4wNTA1NTYyMSAwLjAwMDcyMTM5MTEzMSw4LjA5NDc4MTU5IEMwLjAwNTc4NDY5OTIzLDUuMjI4MTgxMjQgMC4wMjg5MzEyNTA1LDUuMTEzODY0NTIgMC4xMTA2Njc1MSw0LjU1MjQxMDI0IEMwLjI3Nzc1NjY3NywzLjM5NjIxOTU5IDAuNzM5MjQxMDQzLDIuNDIzODAzOTMgMS41MDAxODM5MiwxLjYzMjk5MjY3IEMxLjg5NTY4MjgxLDEuMjE2NTg0MjcgMi4zNjI2MjgwNSwwLjg3NDQ5MDc1MiAyLjg3ODg1MDM4LDAuNjIyOTUzNzg1IEMzLjU3NjE0MDI0LDAuMjc2Mzg2IDQuMjE1NTYzNzIsMC4xMTQzMTY3MjIgNS4yNDQxMzg1OSwwLjAyODk0MDk0MjQgQzUuNTI5MTMwNSwwLjAwNTA2NDY2NDkyIDYuOTkzODczMiwwIDEyLjAwMzY1NDksMCBMMTUuOTA5NjM1NCwwIFogTTExLjk5NzE0NDksMy4xMzg2NDUyIEwxMS45OTg1OTE2LDMuMTM4NjQ1MiBMMTEuOTk1Njk4MywzLjEzODY0NTIgTDExLjk5NzE0NDksMy4xMzg2NDUyIEM5LjU5MjA3MzU4LDMuMTM4NjQ1MiA5LjI4OTcyMTc2LDMuMTQ5NDk4MDYgOC4zNDUwNTMxMywzLjE5MjE4NTk1IEM3LjQwMTgzMTE3LDMuMjM1NTk3MzYgNi43NTgwNjc3MSwzLjM4NDY0MzIxIDYuMTk0NTkzODUsMy42MDM4NzA4NSBDNS42MDMzMzQwMSwzLjgyNjUxNjUxIDUuMDY3Njk0MDIsNC4xNzUzOTMwNiA0LjYyNDk2ODM0LDQuNjI2MjA5NjQgQzQuMTc0MzYwMTksNS4wNjg4NDQzOCAzLjgyNTU4MjQ2LDUuNjA0MzcyNzcgMy42MDI5MDM0NCw2LjE5NTUzMjI0IEMzLjM4MzAxMTIsNi43NTkxNTcxIDMuMjMzMjgxOTQsNy40MDM4MTY1OSAzLjE5MTMyODgyLDguMzQ2NTY3NzkgQzMuMTQ4NjUyMzcsOS4yOTIyMTMwOCAzLjEzNzgwMjQyLDkuNTkzOTIyNCAzLjEzNzgwMjQyLDEyLjAwMTA4NTMgQzMuMTM3ODAyNDIsMTQuNDA3NTI0NiAzLjE0ODY1MjM3LDE0LjcwOTIzNCAzLjE5MTMyODgyLDE1LjY1NDE1NTcgQzMuMjM0NzI4NiwxNi41OTc2MzA1IDMuMzgzNzM0NTMsMTcuMjQxNTY2NCAzLjYwMjkwMzQ0LDE3LjgwNTE5MTMgQzMuODI1MzAxODMsMTguMzk2NzA0NSA0LjE3NDEwOTgsMTguOTMyNTI2MyA0LjYyNDk2ODM0LDE5LjM3NTIzNzQgQzUuMDY3MjY1MTcsMTkuODI2NDA4MyA1LjYwMjY5NzksMjAuMTc1NTU3NSA2LjE5Mzg3MDUyLDIwLjM5ODI5OTcgQzYuNzU3MzQ0MzgsMjAuNjE2ODAzOCA3LjQwMTEwNzg0LDIwLjc2NjU3MzIgOC4zNDQzMjk4LDIwLjgwOTk4NDYgQzkuMjg5NzIxNzYsMjAuODUyNjcyNSA5LjU5MTM1MDI1LDIwLjg2MzUyNTQgMTEuOTk3MTQ0OSwyMC44NjM1MjU0IEMxNC40MDM2NjI5LDIwLjg2MzUyNTQgMTQuNzA0NTY4MSwyMC44NTI2NzI1IDE1LjY0OTk2MDEsMjAuODA5OTg0NiBDMTYuNTkzMTgyLDIwLjc2NjU3MzIgMTcuMjM3NjY4OCwyMC42MTY4MDM4IDE3LjgwMTE0MjcsMjAuMzk4Mjk5NyBDMTguMzkyMTczMSwyMC4xNzU2OTQzIDE4LjkyNzM5NzYsMTkuODI2NTE5OSAxOS4zNjkzMjE1LDE5LjM3NTIzNzQgQzE5LjgyMDM4NjksMTguOTMyNTUzMiAyMC4xNjk0MzY5LDE4LjM5NjczODkgMjAuMzkyMTA5NywxNy44MDUxOTEzIEMyMC42MDk4MzIsMTcuMjQxNTY2NCAyMC43NTk1NjEzLDE2LjU5NzYzMDUgMjAuODAzNjg0NCwxNS42NTQxNTU3IEMyMC44NDYzNjA4LDE0LjcwOTIzNCAyMC44NTcyMTA4LDE0LjQwNzUyNDYgMjAuODU3MjEwOCwxMi4wMDEwODUzIEMyMC44NTcyMTA4LDkuNTkzOTIyNCAyMC44NDYzNjA4LDkuMjkyMjEzMDggMjAuODAzNjg0NCw4LjM0NjU2Nzc5IEMyMC43NTk1NjEzLDcuNDAzMDkzMDYgMjAuNjA5ODMyLDYuNzU5MTU3MSAyMC4zOTIxMDk3LDYuMTk1NTMyMjQgQzIwLjE2OTQyNzIsNS42MDQyMDEyIDE5LjgyMDM3MTUsNS4wNjg2MjQ5OSAxOS4zNjkzMjE1LDQuNjI2MjA5NjQgQzE4LjkyNzMxMDYsNC4xNzQ4NjM3NCAxOC4zOTE3ODA1LDMuODI1ODk3OTcgMTcuODAwNDE5MywzLjYwMzg3MDg1IEMxNy4yMzYyMjIxLDMuMzg0NjQzMjEgMTYuNTkxNzM1NCwzLjIzNTU5NzM2IDE1LjY0ODUxMzQsMy4xOTIxODU5NSBDMTQuNzAzODQ0OCwzLjE0OTQ5ODA2IDE0LjQwMjkzOTYsMy4xMzg2NDUyIDExLjk5NzE0NDksMy4xMzg2NDUyIFogTTExLjIwMzY1MjIsNC43MzU0NjE3IEwxMS45OTg1OTE2LDQuNzM1NDYxNyBDMTQuMzYzODc5OCw0LjczNTQ2MTcgMTQuNjQ0NTMxNyw0Ljc0NDE0Mzk4IDE1LjU3ODM1MDQsNC43ODY4MzE4NyBDMTYuNDQyNzI5NCw0LjgyNTkwMjE0IDE2LjkxMTQ0NzEsNC45NzA2MDY4NiAxNy4yMjMyMDIyLDUuMDkyMTU4ODEgQzE3LjYzNjk0NjgsNS4yNTI3ODEwNCAxNy45MzIwNjUzLDUuNDQ0NTE0NzkgMTguMjQxNjUwNSw1Ljc1NDkwNjM5IEMxOC41NTE5NTg5LDYuMDY0NTc0NDggMTguNzQzNjQxMyw2LjM2MDQ5NTYxIDE4LjkwNDk0MzgsNi43NzM2Mjc1NyBDMTkuMDI1NzM5OSw3LjA4NjE4OTc0IDE5LjE3MDQwNTgsNy41NTUwMzMwMSAxOS4yMDk0NjU2LDguNDE4OTIwMTQgQzE5LjI1MjE0MjEsOS4zNTI5ODkwNiAxOS4yNjE1NDU0LDkuNjMzNzE2MiAxOS4yNjE1NDU0LDExLjk5ODkxNDcgQzE5LjI2MTU0NTQsMTQuMzY0MTEzMiAxOS4yNTIxNDIxLDE0LjY0NDg0MDQgMTkuMjA5NDY1NiwxNS41Nzg5MDkzIEMxOS4xNzA0MDU4LDE2LjQ0Mjc5NjQgMTkuMDI1NzM5OSwxNi45MTE2Mzk3IDE4LjkwNDk0MzgsMTcuMjI0MjAxOSBDMTguNzYyNjcxMSwxNy42MDg4NDc5IDE4LjUzNjAxOCwxNy45NTY3MDY1IDE4LjI0MTY1MDUsMTguMjQyMTk5NSBDMTcuOTU2MDQ2NSwxOC41MzY1ODkxIDE3LjYwODAwMzEsMTguNzYzMDc1NyAxNy4yMjMyMDIyLDE4LjkwNDk0NzEgQzE2LjkxMTQ0NzEsMTkuMDI2NDk5MSAxNi40NDI3Mjk0LDE5LjE3MDQ4MDIgMTUuNTc4MzUwNCwxOS4yMTAyNzQgQzE0LjY0NDUzMTcsMTkuMjUyOTYxOSAxNC4zNjM4Nzk4LDE5LjI2MTY0NDIgMTEuOTk4NTkxNiwxOS4yNjE2NDQyIEM5LjYzMjU4MDA1LDE5LjI2MTY0NDIgOS4zNTE5MjgxMSwxOS4yNTI5NjE5IDguNDE4MTA5NDMsMTkuMjEwMjc0IEM3LjU1NDQ1Mzc0LDE5LjE3MDQ4MDIgNy4wODU3MzYwOCwxOS4wMjU3NzU1IDYuNzczMjU3NjMsMTguOTA0OTQ3MSBDNi4zODgzNzQ4LDE4Ljc2MjgxODQgNi4wNDAxNDkzMywxOC41MzYzNzQxIDUuNzU0MDg2MDUsMTguMjQyMTk5NSBDNS40NTk3NzUzLDE3Ljk1NjUxOSA1LjIzMzM0OTM4LDE3LjYwODM4MjQgNS4wOTE1MTYwMiwxNy4yMjM0NzgzIEM0Ljk2OTk5NjYyLDE2LjkxMDkxNjIgNC44MjUzMzA2OCwxNi40NDIwNzI5IDQuNzg2MjcwODcsMTUuNTc4MTg1OCBDNC43NDM1OTQ0MiwxNC42NDQxMTY4IDQuNzM0OTE0NDYsMTQuMzYzMzg5NyA0LjczNDkxNDQ2LDExLjk5Njc0NDEgQzQuNzM0OTE0NDYsOS42MzAwOTg1OCA0Ljc0MzU5NDQyLDkuMzUwODE4NDkgNC43ODYyNzA4Nyw4LjQxNjc0OTU3IEM0LjgyNTMzMDY4LDcuNTUyODYyNDQgNC45Njk5OTY2Miw3LjA4NDAxOTE3IDUuMDkxNTE2MDIsNi43NzE0NTcgQzUuMjMzMzE5ODIsNi4zODYzMjcxNCA1LjQ1OTc0MjM5LDYuMDM3OTQ4NDQgNS43NTQwODYwNSw1Ljc1MjAxMjMgQzYuMDQwMTQ5MzMsNS40NTc4Mzc3IDYuMzg4Mzc0OCw1LjIzMTM5MzQxIDYuNzczMjU3NjMsNS4wODkyNjQ3MiBDNy4wODU3MzYwOCw0Ljk2Njk4OTI0IDcuNTU0NDUzNzQsNC44MjMwMDgwNSA4LjQxODEwOTQzLDQuNzgzMjE0MjUgQzkuMjM1NDcyMDMsNC43NDYzMTQ1NSA5LjU1MjI5MDQ1LDQuNzM1NDYxNyAxMS4yMDM2NTIyLDQuNzMzMjkxMTMgTDExLjIwMzY1MjIsNC43MzU0NjE3IEwxMS4yMDM2NTIyLDQuNzM1NDYxNyBaIE0xMS45OTg1OTE2LDcuNDUwMTIyMDkgTDExLjk5Nzg2ODMsNy40NTAxMjIwOSBMMTEuOTk4NTkxNiw3LjQ1MDEyMjA5IEM5LjQ4NTgzNzM3LDcuNDUwMTIyMDkgNy40NDg4NDc2LDkuNDg3NjU3NzIgNy40NDg4NDc2LDEyLjAwMTA4NTMgQzcuNDQ4ODQ3NiwxNC41MTQ1MTI5IDkuNDg1ODM3MzcsMTYuNTUyMDQ4NSAxMS45OTg1OTE2LDE2LjU1MjA0ODUgQzE0LjUxMTM0NTgsMTYuNTUyMDQ4NSAxNi41NDgzMzU2LDE0LjUxNDUxMjkgMTYuNTQ4MzM1NiwxMi4wMDEwODUzIEMxNi41NDgzMzU2LDkuNDg3NjU3NzIgMTQuNTExMzQ1OCw3LjQ1MDEyMjA5IDExLjk5ODU5MTYsNy40NTAxMjIwOSBMMTEuOTk4NTkxNiw3LjQ1MDEyMjA5IFogTTExLjk5ODU5MTYsOS4wNDY5Mzg1OSBDMTMuMDUzNzIzOCw5LjA0NjkzODU3IDE0LjAyODcwNjIsOS42MDk5OTU3NCAxNC41NTYyNzIzLDEwLjUyNDAxMTkgQzE1LjA4MzgzODUsMTEuNDM4MDI4MSAxNS4wODM4Mzg1LDEyLjU2NDE0MjUgMTQuNTU2MjcyMywxMy40NzgxNTg3IEMxNC4wMjg3MDYyLDE0LjM5MjE3NDggMTMuMDUzNzIzOCwxNC45NTUyMzIgMTEuOTk4NTkxNiwxNC45NTUyMzIgQzEwLjM2NzQ5ODUsMTQuOTU1MjMxOSA5LjA0NTIzNjM3LDEzLjYzMjYxNTQgOS4wNDUyMzYzNywxMi4wMDEwODUzIEM5LjA0NTIzNjM3LDEwLjM2OTU1NTEgMTAuMzY3NDk4NSw5LjA0NjkzODYzIDExLjk5ODU5MTYsOS4wNDY5Mzg1OSBaIE0xNi43Mjc3MjEzLDYuMjA3MTA4NjIgQzE2LjM0Nzg0MjcsNi4yMDcxMDg2MSAxNS45OTY4MjA0LDYuNDA5ODI1NzQgMTUuODA2ODgxMSw2LjczODg5ODQzIEMxNS42MTY5NDE4LDcuMDY3OTcxMTEgMTUuNjE2OTQxOCw3LjQ3MzQwNTM5IDE1LjgwNjg4MTEsNy44MDI0NzgwOCBDMTUuOTk2ODIwNCw4LjEzMTU1MDc3IDE2LjM0Nzg0MjcsOC4zMzQyNjc5IDE2LjcyNzcyMTMsOC4zMzQyNjc4OCBDMTcuMzE0OTYyOCw4LjMzNDI2Nzg3IDE3Ljc5MTAxNiw3Ljg1ODA4NzA1IDE3Ljc5MTAxNiw3LjI3MDY4ODI1IEMxNy43OTEwMTYsNi42ODMyODk0NSAxNy4zMTQ5NjI4LDYuMjA3MTA4NjQgMTYuNzI3NzIxMyw2LjIwNzEwODYyIFoiIGlkPSJTaGFwZSIgZmlsbD0iI0NGQ0ZDRiIgZmlsbC1ydWxlPSJub256ZXJvIj48L3BhdGg+CiAgICAgICAgPC9nPgogICAgPC9nPgo8L3N2Zz4=);\n",
              "}\n",
              ".c0134 {\n",
              "  background-image: url(data:image/svg+xml;base64,PD94bWwgdmVyc2lvbj0iMS4wIiBlbmNvZGluZz0iVVRGLTgiPz4KPHN2ZyB3aWR0aD0iMjRweCIgaGVpZ2h0PSIyNHB4IiB2aWV3Qm94PSIwIDAgMjQgMjQiIHZlcnNpb249IjEuMSIgeG1sbnM9Imh0dHA6Ly93d3cudzMub3JnLzIwMDAvc3ZnIiB4bWxuczp4bGluaz0iaHR0cDovL3d3dy53My5vcmcvMTk5OS94bGluayI+CiAgICA8IS0tIEdlbmVyYXRvcjogU2tldGNoIDUzLjEgKDcyNjMxKSAtIGh0dHBzOi8vc2tldGNoYXBwLmNvbSAtLT4KICAgIDx0aXRsZT5zb2NpYWwtZmFjZWJvb2staWNvbjwvdGl0bGU+CiAgICA8ZGVzYz5DcmVhdGVkIHdpdGggU2tldGNoLjwvZGVzYz4KICAgIDxnIGlkPSJzb2NpYWwtZmFjZWJvb2staWNvbiIgc3Ryb2tlPSJub25lIiBzdHJva2Utd2lkdGg9IjEiIGZpbGw9Im5vbmUiIGZpbGwtcnVsZT0iZXZlbm9kZCI+CiAgICAgICAgPGcgaWQ9ImZhY2Vib29rIj4KICAgICAgICAgICAgPHBvbHlnb24gaWQ9IlBhdGgiIHBvaW50cz0iMCAwIDIzLjQyMTE3NjUgMCAyMy40MjExNzY1IDIzLjQyMTE3NjUgMCAyMy40MjExNzY1Ij48L3BvbHlnb24+CiAgICAgICAgICAgIDxwYXRoIGQ9Ik0yMi42NzU1ODc3LDAgQzIzLjQwNjg3MTYsMCAyNCwwLjU5MzEyODM5MSAyNCwxLjMyNDQxMjMgTDI0LDIyLjY3NTU4NzcgQzI0LDIzLjQwNjg3MTYgMjMuNDA2ODcxNiwyNCAyMi42NzU1ODc3LDI0IEwxNi41NTk4NTUzLDI0IEwxNi41NTk4NTUzLDE0LjcwNTk2NzUgTDE5LjY3ODg0MjcsMTQuNzA1OTY3NSBMMjAuMTQ2MTEyMSwxMS4wODM1NDQzIEwxNi41NTk4NTUzLDExLjA4MzU0NDMgTDE2LjU1OTg1NTMsOC43NzEwNjY5MSBDMTYuNTU5ODU1Myw3LjcyMjk2NTY0IDE2Ljg1MDYzMjksNy4wMDgzMTgyNiAxOC4zNTQ0MzA0LDcuMDA4MzE4MjYgTDIwLjI3MjY5NDQsNy4wMDY4NzE2MSBMMjAuMjcyNjk0NCwzLjc2NzgxMTkzIEMxOS45NDA2ODcyLDMuNzIzNjg4OTcgMTguODAyMTcsMy42MjQ1OTMxMyAxNy40Nzc3NTc3LDMuNjI0NTkzMTMgQzE0LjcxMjQ3NzQsMy42MjQ1OTMxMyAxMi44MTg4MDY1LDUuMzEyODM5MDYgMTIuODE4ODA2NSw4LjQxMjI5NjU2IEwxMi44MTg4MDY1LDExLjA4MzU0NDMgTDkuNjkxMTM5MjQsMTEuMDgzNTQ0MyBMOS42OTExMzkyNCwxNC43MDU5Njc1IEwxMi44MTg4MDY1LDE0LjcwNTk2NzUgTDEyLjgxODgwNjUsMjQgTDEuMzI0NDEyMywyNCBDMC41OTI5NTk1ODMsMjQgMi42ODgyMTkxOGUtMTUsMjMuNDA3MDQwNCAwLDIyLjY3NTU4NzcgTDAsMS4zMjQ0MTIzIEMwLDAuNTkzMTI4MzkxIDAuNTkzMTI4MzkxLDAgMS4zMjQ0MTIzLDAgTDIyLjY3NTU4NzcsMCBaIiBpZD0iUGF0aCIgZmlsbD0iI0NGQ0ZDRiIgZmlsbC1ydWxlPSJub256ZXJvIj48L3BhdGg+CiAgICAgICAgPC9nPgogICAgPC9nPgo8L3N2Zz4=);\n",
              "}\n",
              ".c0135 {\n",
              "  background-image: url(data:image/svg+xml;base64,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);\n",
              "}\n",
              ".c014 {\n",
              "  min-height: 800px;\n",
              "  overflow-x: auto;\n",
              "  background-size: cover;\n",
              "  background-position: center;\n",
              "}\n",
              ".c015 {\n",
              "  background: #333333;\n",
              "}\n",
              ".c015 + div {\n",
              "  display: none;\n",
              "}\n",
              "@media only screen and (max-width: 767px) {\n",
              "  .c014 {\n",
              "    background-position: 50% 100%;\n",
              "  }\n",
              "}\n",
              ".c016 {\n",
              "  background-image: url(/static/signin-hero-56bbcb135634620e65801089291bffb9.jpg);\n",
              "  background-color: ;\n",
              "  height: calc(100vh - 50px);\n",
              "}\n",
              "@media only screen and (max-width: 767px) {\n",
              "  .c016 {\n",
              "    background-image: url(/static/signin-hero-mobile-39de397b47237a03ec6c205ac218822b.jpg);\n",
              "  }\n",
              "}\n",
              ".c011 {\n",
              "  display: flex;\n",
              "  justify-content: center;\n",
              "}\n",
              ".c012 {\n",
              "  width: 350px;\n",
              "  display: flex;\n",
              "  border-radius: 0px;\n",
              "  justify-content: center;\n",
              "  background-color: #fafafa;\n",
              "}\n",
              ".c013 {\n",
              "  width: 100%;\n",
              "  height: 80%;\n",
              "  display: flex;\n",
              "  align-items: center;\n",
              "  justify-content: center;\n",
              "}</style><link as=\"script\" href=\"/component---src-pages-signin-js-2cbe8560a833724ca935.js\" rel=\"preload\"/><link as=\"script\" href=\"/1-ce2bc733156e4b92652d.js\" rel=\"preload\"/><link as=\"script\" href=\"/0-1b57d2d469aaeb0d9220.js\" rel=\"preload\"/><link as=\"script\" href=\"/app-f70ac04d1f56b78f3931.js\" rel=\"preload\"/><link as=\"script\" href=\"/styles-7f4ad17eaa2f84285347.js\" rel=\"preload\"/><link as=\"script\" href=\"/webpack-runtime-726429aeeebf792fa865.js\" rel=\"preload\"/><link as=\"fetch\" crossorigin=\"use-credentials\" href=\"/static/d/731/path---signin-59-f-ae5-0SUcWyAf8ecbYDsMhQkEfPzV8.json\" rel=\"preload\"/></head><body><noscript id=\"gatsby-noscript\">This app works best with JavaScript enabled.</noscript><div id=\"___gatsby\"><div role=\"group\" style=\"outline:none\" tabindex=\"-1\"><div><header class=\"c017\"><h1 class=\"c0116 c0118\"><a class=\"c018\" href=\"/\" title=\"Connect\"></a></h1><div class=\"c0114\"></div></header><main class=\"c014 c016\"><div class=\"c013\"><div class=\"c011\"><div class=\"c012\" id=\"gauth-widget\"><noscript>To sign in to your Garmin account, please enable JavaScript in your web browser.</noscript></div></div><div id=\"loginGauth\"></div></div></main><footer class=\"c0123\"><div></div><div class=\"c0132\"><span class=\"c0129 c0133\"><a href=\"https://www.instagram.com/garminfitness/\" title=\"Instagram\"></a></span><span class=\"c0130 c0134\"><a href=\"https://www.facebook.com/garminfit\" title=\"Facebook\"></a></span><span class=\"c0131 c0135\"><a href=\"https://twitter.com/garminfitness\" title=\"Twitter\"></a></span></div><div id=\"consent\"></div></footer></div></div></div><script id=\"gatsby-script-loader\">/*<![CDATA[*/window.page={\"componentChunkName\":\"component---src-pages-signin-js\",\"jsonName\":\"signin-59f\",\"path\":\"/signin/\"};window.dataPath=\"731/path---signin-59-f-ae5-0SUcWyAf8ecbYDsMhQkEfPzV8\";/*]]>*/</script><script id=\"gatsby-chunk-mapping\">/*<![CDATA[*/window.___chunkMapping={\"app\":[\"/app-f70ac04d1f56b78f3931.js\"],\"component---src-pages-404-js\":[\"/component---src-pages-404-js-841e84ff797503ac048a.js\"],\"component---src-pages-features-coach-js\":[\"/component---src-pages-features-coach-js-29876275865a0a2c7c1a.js\"],\"component---src-pages-features-index-js\":[\"/component---src-pages-features-index-js-4d4a82516cad02ced3d8.js\"],\"component---src-pages-features-menstrual-cycle-tracking-js\":[\"/component---src-pages-features-menstrual-cycle-tracking-js-f82b6a996c090a06f4e6.js\"],\"component---src-pages-index-js\":[\"/component---src-pages-index-js-63d08c00a3a5730e5622.js\"],\"component---src-pages-signin-js\":[\"/component---src-pages-signin-js-2cbe8560a833724ca935.js\"],\"component---src-pages-start-index-scale-express-js\":[\"/component---src-pages-start-index-scale-express-js-4191a33b757912674795.js\"],\"component---src-pages-start-index-scale-help-js\":[\"/component---src-pages-start-index-scale-help-js-fa0de611ea120d0cf195.js\"],\"component---src-pages-start-index-scale-index-js\":[\"/component---src-pages-start-index-scale-index-js-7ac8a52212a94db2fab4.js\"],\"component---src-pages-start-index-scale-mobile-js\":[\"/component---src-pages-start-index-scale-mobile-js-825c52b5de34c7e3fc6b.js\"],\"component---src-pages-start-index-scale-wps-js\":[\"/component---src-pages-start-index-scale-wps-js-bd933d60ca0bc42292a4.js\"],\"component---src-pages-start-index-js\":[\"/component---src-pages-start-index-js-d3a69576ea9d5117784e.js\"],\"component---src-pages-start-quickdraw-legal-js\":[\"/component---src-pages-start-quickdraw-legal-js-cf2da0e15e8af7e20d6c.js\"],\"component---src-pages-start-quickdraw-js\":[\"/component---src-pages-start-quickdraw-js-b1a8e022d6e90bebe5c0.js\"],\"component---src-pages-start-vivoki-js\":[\"/component---src-pages-start-vivoki-js-2fee9b53b1a7130bc857.js\"],\"component---src-pages-status-js\":[\"/component---src-pages-status-js-77f076abb7dc3adf65b2.js\"],\"component---src-pages-support-js\":[\"/component---src-pages-support-js-28338b5a6bf95bb7f96d.js\"],\"pages-manifest\":[\"/pages-manifest-30001a9f1ccc5a08342f.js\"]};/*]]>*/</script><script async=\"\" src=\"/webpack-runtime-726429aeeebf792fa865.js\"></script><script async=\"\" src=\"/styles-7f4ad17eaa2f84285347.js\"></script><script async=\"\" src=\"/app-f70ac04d1f56b78f3931.js\"></script><script async=\"\" src=\"/0-1b57d2d469aaeb0d9220.js\"></script><script async=\"\" src=\"/1-ce2bc733156e4b92652d.js\"></script><script async=\"\" src=\"/component---src-pages-signin-js-2cbe8560a833724ca935.js\"></script></body></html>"
            ]
          },
          "metadata": {
            "tags": []
          },
          "execution_count": 5
        }
      ]
    },
    {
      "cell_type": "code",
      "metadata": {
        "id": "T6XFqcZTXRrA",
        "outputId": "231f09c5-7639-445a-b3f6-74e2f4828a6e",
        "colab": {
          "base_uri": "https://localhost:8080/",
          "height": 35
        }
      },
      "source": [
        "web_page.head.title"
      ],
      "execution_count": null,
      "outputs": [
        {
          "output_type": "execute_result",
          "data": {
            "text/plain": [
              "<title data-react-helmet=\"true\">Garmin Connect | </title>"
            ]
          },
          "metadata": {
            "tags": []
          },
          "execution_count": 6
        }
      ]
    },
    {
      "cell_type": "code",
      "metadata": {
        "id": "jhi2GbPtXru8",
        "outputId": "ae12b364-2943-4ea2-a9fe-46366de544e8",
        "colab": {
          "base_uri": "https://localhost:8080/",
          "height": 55
        }
      },
      "source": [
        "web_page.body"
      ],
      "execution_count": null,
      "outputs": [
        {
          "output_type": "execute_result",
          "data": {
            "text/plain": [
              "<body><noscript id=\"gatsby-noscript\">This app works best with JavaScript enabled.</noscript><div id=\"___gatsby\"><div role=\"group\" style=\"outline:none\" tabindex=\"-1\"><div><header class=\"c017\"><h1 class=\"c0116 c0118\"><a class=\"c018\" href=\"/\" title=\"Connect\"></a></h1><div class=\"c0114\"></div></header><main class=\"c014 c016\"><div class=\"c013\"><div class=\"c011\"><div class=\"c012\" id=\"gauth-widget\"><noscript>To sign in to your Garmin account, please enable JavaScript in your web browser.</noscript></div></div><div id=\"loginGauth\"></div></div></main><footer class=\"c0123\"><div></div><div class=\"c0132\"><span class=\"c0129 c0133\"><a href=\"https://www.instagram.com/garminfitness/\" title=\"Instagram\"></a></span><span class=\"c0130 c0134\"><a href=\"https://www.facebook.com/garminfit\" title=\"Facebook\"></a></span><span class=\"c0131 c0135\"><a href=\"https://twitter.com/garminfitness\" title=\"Twitter\"></a></span></div><div id=\"consent\"></div></footer></div></div></div><script id=\"gatsby-script-loader\">/*<![CDATA[*/window.page={\"componentChunkName\":\"component---src-pages-signin-js\",\"jsonName\":\"signin-59f\",\"path\":\"/signin/\"};window.dataPath=\"731/path---signin-59-f-ae5-0SUcWyAf8ecbYDsMhQkEfPzV8\";/*]]>*/</script><script id=\"gatsby-chunk-mapping\">/*<![CDATA[*/window.___chunkMapping={\"app\":[\"/app-f70ac04d1f56b78f3931.js\"],\"component---src-pages-404-js\":[\"/component---src-pages-404-js-841e84ff797503ac048a.js\"],\"component---src-pages-features-coach-js\":[\"/component---src-pages-features-coach-js-29876275865a0a2c7c1a.js\"],\"component---src-pages-features-index-js\":[\"/component---src-pages-features-index-js-4d4a82516cad02ced3d8.js\"],\"component---src-pages-features-menstrual-cycle-tracking-js\":[\"/component---src-pages-features-menstrual-cycle-tracking-js-f82b6a996c090a06f4e6.js\"],\"component---src-pages-index-js\":[\"/component---src-pages-index-js-63d08c00a3a5730e5622.js\"],\"component---src-pages-signin-js\":[\"/component---src-pages-signin-js-2cbe8560a833724ca935.js\"],\"component---src-pages-start-index-scale-express-js\":[\"/component---src-pages-start-index-scale-express-js-4191a33b757912674795.js\"],\"component---src-pages-start-index-scale-help-js\":[\"/component---src-pages-start-index-scale-help-js-fa0de611ea120d0cf195.js\"],\"component---src-pages-start-index-scale-index-js\":[\"/component---src-pages-start-index-scale-index-js-7ac8a52212a94db2fab4.js\"],\"component---src-pages-start-index-scale-mobile-js\":[\"/component---src-pages-start-index-scale-mobile-js-825c52b5de34c7e3fc6b.js\"],\"component---src-pages-start-index-scale-wps-js\":[\"/component---src-pages-start-index-scale-wps-js-bd933d60ca0bc42292a4.js\"],\"component---src-pages-start-index-js\":[\"/component---src-pages-start-index-js-d3a69576ea9d5117784e.js\"],\"component---src-pages-start-quickdraw-legal-js\":[\"/component---src-pages-start-quickdraw-legal-js-cf2da0e15e8af7e20d6c.js\"],\"component---src-pages-start-quickdraw-js\":[\"/component---src-pages-start-quickdraw-js-b1a8e022d6e90bebe5c0.js\"],\"component---src-pages-start-vivoki-js\":[\"/component---src-pages-start-vivoki-js-2fee9b53b1a7130bc857.js\"],\"component---src-pages-status-js\":[\"/component---src-pages-status-js-77f076abb7dc3adf65b2.js\"],\"component---src-pages-support-js\":[\"/component---src-pages-support-js-28338b5a6bf95bb7f96d.js\"],\"pages-manifest\":[\"/pages-manifest-30001a9f1ccc5a08342f.js\"]};/*]]>*/</script><script async=\"\" src=\"/webpack-runtime-726429aeeebf792fa865.js\"></script><script async=\"\" src=\"/styles-7f4ad17eaa2f84285347.js\"></script><script async=\"\" src=\"/app-f70ac04d1f56b78f3931.js\"></script><script async=\"\" src=\"/0-1b57d2d469aaeb0d9220.js\"></script><script async=\"\" src=\"/1-ce2bc733156e4b92652d.js\"></script><script async=\"\" src=\"/component---src-pages-signin-js-2cbe8560a833724ca935.js\"></script></body>"
            ]
          },
          "metadata": {
            "tags": []
          },
          "execution_count": 7
        }
      ]
    },
    {
      "cell_type": "code",
      "metadata": {
        "id": "fgd5ierMX5ID"
      },
      "source": [
        "sub_webpage = web_page.find_all(name=\"li\") #, attrs={'class': 'list-item animated row-fluid'}"
      ],
      "execution_count": null,
      "outputs": []
    },
    {
      "cell_type": "code",
      "metadata": {
        "id": "_ZiJDnk9xbfC",
        "outputId": "b92dceb8-db5c-4b00-f1fc-87323b4cbe17",
        "colab": {
          "base_uri": "https://localhost:8080/",
          "height": 35
        }
      },
      "source": [
        "sub_webpage"
      ],
      "execution_count": null,
      "outputs": [
        {
          "output_type": "execute_result",
          "data": {
            "text/plain": [
              "[]"
            ]
          },
          "metadata": {
            "tags": []
          },
          "execution_count": 11
        }
      ]
    },
    {
      "cell_type": "markdown",
      "metadata": {
        "id": "B42OoWzC98-V"
      },
      "source": [
        "I would like to make searchable notes that I could go through with links to exercises for injuries and such. It would be really useful to be able to have the types of injuries that I have gone through before and be able to just immediately have the stretches and such that worked. Then I can the next time find out how that went and then adjust based upon the previous injury timeline and see what works best for recovery for me. "
      ]
    },
    {
      "cell_type": "code",
      "metadata": {
        "id": "zhUm-3OMyHDX"
      },
      "source": [
        ""
      ],
      "execution_count": null,
      "outputs": []
    }
  ]
}