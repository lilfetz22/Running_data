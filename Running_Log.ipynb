{
  "nbformat": 4,
  "nbformat_minor": 0,
  "metadata": {
    "colab": {
      "name": "Running_Log.ipynb",
      "provenance": [],
      "collapsed_sections": [],
      "authorship_tag": "ABX9TyNf8AvXL9cSgCXXgMtaqDW5",
      "include_colab_link": true
    },
    "kernelspec": {
      "name": "python3",
      "display_name": "Python 3"
    }
  },
  "cells": [
    {
      "cell_type": "markdown",
      "metadata": {
        "id": "view-in-github",
        "colab_type": "text"
      },
      "source": [
        "<a href=\"https://colab.research.google.com/github/lilfetz22/Running_data/blob/master/Running_Log.ipynb\" target=\"_parent\"><img src=\"https://colab.research.google.com/assets/colab-badge.svg\" alt=\"Open In Colab\"/></a>"
      ]
    },
    {
      "cell_type": "markdown",
      "metadata": {
        "id": "cEh45RbeBuDF"
      },
      "source": [
        "# **Running Log Analysis**"
      ]
    },
    {
      "cell_type": "markdown",
      "metadata": {
        "id": "Vm1JZlpH-xXc"
      },
      "source": [
        "###Goals\n"
      ]
    },
    {
      "cell_type": "markdown",
      "metadata": {
        "id": "ptM-ACrX-_ws"
      },
      "source": [
        "By 9/17 - complete pre-Garmin Data Wrangling\n",
        "1. check for any remaining information in Notes columns - done (9/17)\n",
        "2. Fix Date column and fill it in and make it agree with weekday (10/1)\n",
        "3. remove excess columns (10/5)\n",
        "\n",
        "By 10/1 - Complete post-Garmin analysis\n",
        "1. Data Wrangling\n",
        "\n",
        "    a. filtering out activities from one another \n",
        "\n",
        "    b. comparing overlap from pre-garmin to post-Garmin records and fill in missing data"
      ]
    },
    {
      "cell_type": "markdown",
      "metadata": {
        "id": "zJP6tYJWru7z"
      },
      "source": [
        "# Pre-Garmin Data Wrangling"
      ]
    },
    {
      "cell_type": "code",
      "metadata": {
        "id": "aKHhB8aK6kep"
      },
      "source": [
        "import pandas as pd\n",
        "import re\n",
        "import numpy as np\n",
        "import math\n",
        "import calendar\n",
        "from datetime import timedelta\n",
        "import matplotlib.pyplot as plt\n",
        "import seaborn as sns"
      ],
      "execution_count": 2,
      "outputs": []
    },
    {
      "cell_type": "code",
      "metadata": {
        "id": "KqA75kWYsBr2",
        "outputId": "3e8cd9ca-d6e0-4e04-b01f-7183b3eae972",
        "colab": {
          "base_uri": "https://localhost:8080/",
          "height": 34
        }
      },
      "source": [
        "from google.colab import drive\n",
        "drive.mount(\"/content/drive\")"
      ],
      "execution_count": 3,
      "outputs": [
        {
          "output_type": "stream",
          "text": [
            "Drive already mounted at /content/drive; to attempt to forcibly remount, call drive.mount(\"/content/drive\", force_remount=True).\n"
          ],
          "name": "stdout"
        }
      ]
    },
    {
      "cell_type": "code",
      "metadata": {
        "id": "Hweps9IfYhkg"
      },
      "source": [
        "def findall_n_join_fx(df, note_col, new_col, search_string):\n",
        "    df.loc[:,new_col] = df.loc[:,note_col].str.findall(search_string)\n",
        "    df.loc[:,new_col] = df.loc[:,new_col].str.join('')\n",
        "    df.loc[:,note_col] = df.loc[:,note_col].str.replace(search_string, '')\n",
        "    return df"
      ],
      "execution_count": 195,
      "outputs": []
    },
    {
      "cell_type": "code",
      "metadata": {
        "id": "mOworDgxttRE",
        "outputId": "38c4658e-6322-44ba-a828-9b3cc332f1a9",
        "colab": {
          "base_uri": "https://localhost:8080/",
          "height": 616
        }
      },
      "source": [
        "log_csv = pd.read_csv(\"/content/drive/My Drive/pre-garmin.csv\",encoding='windows-1254')\n",
        "log_csv.head(15)"
      ],
      "execution_count": 196,
      "outputs": [
        {
          "output_type": "execute_result",
          "data": {
            "text/html": [
              "<div>\n",
              "<style scoped>\n",
              "    .dataframe tbody tr th:only-of-type {\n",
              "        vertical-align: middle;\n",
              "    }\n",
              "\n",
              "    .dataframe tbody tr th {\n",
              "        vertical-align: top;\n",
              "    }\n",
              "\n",
              "    .dataframe thead th {\n",
              "        text-align: right;\n",
              "    }\n",
              "</style>\n",
              "<table border=\"1\" class=\"dataframe\">\n",
              "  <thead>\n",
              "    <tr style=\"text-align: right;\">\n",
              "      <th></th>\n",
              "      <th>Running log 6/21/10</th>\n",
              "      <th>3/17/14</th>\n",
              "      <th>Unnamed: 2</th>\n",
              "      <th>Unnamed: 3</th>\n",
              "      <th>Unnamed: 4</th>\n",
              "      <th>Unnamed: 5</th>\n",
              "      <th>Unnamed: 6</th>\n",
              "      <th>Unnamed: 7</th>\n",
              "      <th>Unnamed: 8</th>\n",
              "      <th>Unnamed: 9</th>\n",
              "      <th>Unnamed: 10</th>\n",
              "      <th>Unnamed: 11</th>\n",
              "      <th>Unnamed: 12</th>\n",
              "      <th>Unnamed: 13</th>\n",
              "      <th>Unnamed: 14</th>\n",
              "      <th>Unnamed: 15</th>\n",
              "      <th>Unnamed: 16</th>\n",
              "      <th>Unnamed: 17</th>\n",
              "    </tr>\n",
              "  </thead>\n",
              "  <tbody>\n",
              "    <tr>\n",
              "      <th>0</th>\n",
              "      <td>Saturday 5/29/10</td>\n",
              "      <td>NaN</td>\n",
              "      <td>4 miles 27:19 it was a little short. 3.8 miles</td>\n",
              "      <td>NaN</td>\n",
              "      <td>NaN</td>\n",
              "      <td>NaN</td>\n",
              "      <td>NaN</td>\n",
              "      <td>NaN</td>\n",
              "      <td>NaN</td>\n",
              "      <td>NaN</td>\n",
              "      <td>NaN</td>\n",
              "      <td>NaN</td>\n",
              "      <td>NaN</td>\n",
              "      <td>NaN</td>\n",
              "      <td>NaN</td>\n",
              "      <td>NaN</td>\n",
              "      <td>NaN</td>\n",
              "      <td>NaN</td>\n",
              "    </tr>\n",
              "    <tr>\n",
              "      <th>1</th>\n",
              "      <td>Monday 6/21/10</td>\n",
              "      <td>4 miles</td>\n",
              "      <td>NaN</td>\n",
              "      <td>NaN</td>\n",
              "      <td>NaN</td>\n",
              "      <td>NaN</td>\n",
              "      <td>NaN</td>\n",
              "      <td>NaN</td>\n",
              "      <td>NaN</td>\n",
              "      <td>NaN</td>\n",
              "      <td>NaN</td>\n",
              "      <td>NaN</td>\n",
              "      <td>NaN</td>\n",
              "      <td>NaN</td>\n",
              "      <td>NaN</td>\n",
              "      <td>NaN</td>\n",
              "      <td>NaN</td>\n",
              "      <td>NaN</td>\n",
              "    </tr>\n",
              "    <tr>\n",
              "      <th>2</th>\n",
              "      <td>Tuesday 6/22/10</td>\n",
              "      <td>4 miles</td>\n",
              "      <td>Swimming</td>\n",
              "      <td>10 laps of freestyle</td>\n",
              "      <td>5 laps of backstroke</td>\n",
              "      <td>5</td>\n",
              "      <td>laps of breaststroke</td>\n",
              "      <td>NaN</td>\n",
              "      <td>1 lap all out of freestyle</td>\n",
              "      <td>NaN</td>\n",
              "      <td>NaN</td>\n",
              "      <td>NaN</td>\n",
              "      <td>NaN</td>\n",
              "      <td>NaN</td>\n",
              "      <td>NaN</td>\n",
              "      <td>NaN</td>\n",
              "      <td>NaN</td>\n",
              "      <td>NaN</td>\n",
              "    </tr>\n",
              "    <tr>\n",
              "      <th>3</th>\n",
              "      <td>Wednesday 6/23/10</td>\n",
              "      <td>4.5 miles</td>\n",
              "      <td>35 minutes</td>\n",
              "      <td>NaN</td>\n",
              "      <td>NaN</td>\n",
              "      <td>NaN</td>\n",
              "      <td>NaN</td>\n",
              "      <td>NaN</td>\n",
              "      <td>NaN</td>\n",
              "      <td>NaN</td>\n",
              "      <td>NaN</td>\n",
              "      <td>NaN</td>\n",
              "      <td>NaN</td>\n",
              "      <td>NaN</td>\n",
              "      <td>NaN</td>\n",
              "      <td>NaN</td>\n",
              "      <td>NaN</td>\n",
              "      <td>NaN</td>\n",
              "    </tr>\n",
              "    <tr>\n",
              "      <th>4</th>\n",
              "      <td>Thursday 6/25/10</td>\n",
              "      <td>5</td>\n",
              "      <td>NaN</td>\n",
              "      <td>NaN</td>\n",
              "      <td>NaN</td>\n",
              "      <td>NaN</td>\n",
              "      <td>NaN</td>\n",
              "      <td>NaN</td>\n",
              "      <td>NaN</td>\n",
              "      <td>NaN</td>\n",
              "      <td>NaN</td>\n",
              "      <td>NaN</td>\n",
              "      <td>NaN</td>\n",
              "      <td>NaN</td>\n",
              "      <td>NaN</td>\n",
              "      <td>NaN</td>\n",
              "      <td>NaN</td>\n",
              "      <td>NaN</td>\n",
              "    </tr>\n",
              "    <tr>\n",
              "      <th>5</th>\n",
              "      <td>Friday 6/26/10</td>\n",
              "      <td>5</td>\n",
              "      <td>Swimming</td>\n",
              "      <td>same as Tuesday</td>\n",
              "      <td>NaN</td>\n",
              "      <td>NaN</td>\n",
              "      <td>NaN</td>\n",
              "      <td>NaN</td>\n",
              "      <td>NaN</td>\n",
              "      <td>NaN</td>\n",
              "      <td>NaN</td>\n",
              "      <td>NaN</td>\n",
              "      <td>NaN</td>\n",
              "      <td>NaN</td>\n",
              "      <td>NaN</td>\n",
              "      <td>NaN</td>\n",
              "      <td>NaN</td>\n",
              "      <td>NaN</td>\n",
              "    </tr>\n",
              "    <tr>\n",
              "      <th>6</th>\n",
              "      <td>Saturday 6/27/10</td>\n",
              "      <td>6</td>\n",
              "      <td>41:04</td>\n",
              "      <td>NaN</td>\n",
              "      <td>NaN</td>\n",
              "      <td>NaN</td>\n",
              "      <td>NaN</td>\n",
              "      <td>NaN</td>\n",
              "      <td>NaN</td>\n",
              "      <td>NaN</td>\n",
              "      <td>NaN</td>\n",
              "      <td>NaN</td>\n",
              "      <td>NaN</td>\n",
              "      <td>NaN</td>\n",
              "      <td>NaN</td>\n",
              "      <td>NaN</td>\n",
              "      <td>NaN</td>\n",
              "      <td>NaN</td>\n",
              "    </tr>\n",
              "    <tr>\n",
              "      <th>7</th>\n",
              "      <td>NaN</td>\n",
              "      <td>NaN</td>\n",
              "      <td>NaN</td>\n",
              "      <td>NaN</td>\n",
              "      <td>NaN</td>\n",
              "      <td>NaN</td>\n",
              "      <td>NaN</td>\n",
              "      <td>NaN</td>\n",
              "      <td>NaN</td>\n",
              "      <td>NaN</td>\n",
              "      <td>NaN</td>\n",
              "      <td>NaN</td>\n",
              "      <td>NaN</td>\n",
              "      <td>NaN</td>\n",
              "      <td>NaN</td>\n",
              "      <td>NaN</td>\n",
              "      <td>NaN</td>\n",
              "      <td>NaN</td>\n",
              "    </tr>\n",
              "    <tr>\n",
              "      <th>8</th>\n",
              "      <td>Monday 6/28/10</td>\n",
              "      <td>4</td>\n",
              "      <td>28:04:00</td>\n",
              "      <td>5 total</td>\n",
              "      <td>NaN</td>\n",
              "      <td>NaN</td>\n",
              "      <td>NaN</td>\n",
              "      <td>NaN</td>\n",
              "      <td>NaN</td>\n",
              "      <td>NaN</td>\n",
              "      <td>NaN</td>\n",
              "      <td>NaN</td>\n",
              "      <td>NaN</td>\n",
              "      <td>NaN</td>\n",
              "      <td>NaN</td>\n",
              "      <td>NaN</td>\n",
              "      <td>NaN</td>\n",
              "      <td>NaN</td>\n",
              "    </tr>\n",
              "    <tr>\n",
              "      <th>9</th>\n",
              "      <td>Tuesday 6/29/10</td>\n",
              "      <td>5</td>\n",
              "      <td>NaN</td>\n",
              "      <td>NaN</td>\n",
              "      <td>NaN</td>\n",
              "      <td>NaN</td>\n",
              "      <td>NaN</td>\n",
              "      <td>NaN</td>\n",
              "      <td>NaN</td>\n",
              "      <td>NaN</td>\n",
              "      <td>NaN</td>\n",
              "      <td>NaN</td>\n",
              "      <td>NaN</td>\n",
              "      <td>NaN</td>\n",
              "      <td>NaN</td>\n",
              "      <td>NaN</td>\n",
              "      <td>NaN</td>\n",
              "      <td>NaN</td>\n",
              "    </tr>\n",
              "    <tr>\n",
              "      <th>10</th>\n",
              "      <td>Wednesday 6/30/10</td>\n",
              "      <td>5.5</td>\n",
              "      <td>Swimming</td>\n",
              "      <td>normal</td>\n",
              "      <td>NaN</td>\n",
              "      <td>NaN</td>\n",
              "      <td>NaN</td>\n",
              "      <td>NaN</td>\n",
              "      <td>NaN</td>\n",
              "      <td>NaN</td>\n",
              "      <td>NaN</td>\n",
              "      <td>NaN</td>\n",
              "      <td>NaN</td>\n",
              "      <td>NaN</td>\n",
              "      <td>NaN</td>\n",
              "      <td>NaN</td>\n",
              "      <td>NaN</td>\n",
              "      <td>NaN</td>\n",
              "    </tr>\n",
              "    <tr>\n",
              "      <th>11</th>\n",
              "      <td>Thursday 7/1/10</td>\n",
              "      <td>5</td>\n",
              "      <td>32:04:00</td>\n",
              "      <td>6:20 pace</td>\n",
              "      <td>6 miles total</td>\n",
              "      <td>NaN</td>\n",
              "      <td>NaN</td>\n",
              "      <td>NaN</td>\n",
              "      <td>NaN</td>\n",
              "      <td>NaN</td>\n",
              "      <td>NaN</td>\n",
              "      <td>NaN</td>\n",
              "      <td>NaN</td>\n",
              "      <td>NaN</td>\n",
              "      <td>NaN</td>\n",
              "      <td>NaN</td>\n",
              "      <td>NaN</td>\n",
              "      <td>NaN</td>\n",
              "    </tr>\n",
              "    <tr>\n",
              "      <th>12</th>\n",
              "      <td>Friday 7/2/10</td>\n",
              "      <td>4</td>\n",
              "      <td>NaN</td>\n",
              "      <td>NaN</td>\n",
              "      <td>NaN</td>\n",
              "      <td>NaN</td>\n",
              "      <td>NaN</td>\n",
              "      <td>NaN</td>\n",
              "      <td>NaN</td>\n",
              "      <td>NaN</td>\n",
              "      <td>NaN</td>\n",
              "      <td>NaN</td>\n",
              "      <td>NaN</td>\n",
              "      <td>NaN</td>\n",
              "      <td>NaN</td>\n",
              "      <td>NaN</td>\n",
              "      <td>NaN</td>\n",
              "      <td>NaN</td>\n",
              "    </tr>\n",
              "    <tr>\n",
              "      <th>13</th>\n",
              "      <td>Saturday 7/3/10</td>\n",
              "      <td>7.7</td>\n",
              "      <td>52:46:00</td>\n",
              "      <td>NaN</td>\n",
              "      <td>NaN</td>\n",
              "      <td>NaN</td>\n",
              "      <td>NaN</td>\n",
              "      <td>NaN</td>\n",
              "      <td>NaN</td>\n",
              "      <td>NaN</td>\n",
              "      <td>NaN</td>\n",
              "      <td>NaN</td>\n",
              "      <td>NaN</td>\n",
              "      <td>NaN</td>\n",
              "      <td>NaN</td>\n",
              "      <td>NaN</td>\n",
              "      <td>NaN</td>\n",
              "      <td>NaN</td>\n",
              "    </tr>\n",
              "    <tr>\n",
              "      <th>14</th>\n",
              "      <td>NaN</td>\n",
              "      <td>NaN</td>\n",
              "      <td>NaN</td>\n",
              "      <td>NaN</td>\n",
              "      <td>NaN</td>\n",
              "      <td>NaN</td>\n",
              "      <td>NaN</td>\n",
              "      <td>NaN</td>\n",
              "      <td>NaN</td>\n",
              "      <td>NaN</td>\n",
              "      <td>NaN</td>\n",
              "      <td>NaN</td>\n",
              "      <td>NaN</td>\n",
              "      <td>NaN</td>\n",
              "      <td>NaN</td>\n",
              "      <td>NaN</td>\n",
              "      <td>NaN</td>\n",
              "      <td>NaN</td>\n",
              "    </tr>\n",
              "  </tbody>\n",
              "</table>\n",
              "</div>"
            ],
            "text/plain": [
              "   Running log 6/21/10      3/17/14  ... Unnamed: 16 Unnamed: 17\n",
              "0      Saturday 5/29/10         NaN  ...         NaN         NaN\n",
              "1        Monday 6/21/10     4 miles  ...         NaN         NaN\n",
              "2       Tuesday 6/22/10     4 miles  ...         NaN         NaN\n",
              "3     Wednesday 6/23/10   4.5 miles  ...         NaN         NaN\n",
              "4      Thursday 6/25/10          5   ...         NaN         NaN\n",
              "5        Friday 6/26/10           5  ...         NaN         NaN\n",
              "6      Saturday 6/27/10           6  ...         NaN         NaN\n",
              "7                   NaN         NaN  ...         NaN         NaN\n",
              "8        Monday 6/28/10           4  ...         NaN         NaN\n",
              "9       Tuesday 6/29/10           5  ...         NaN         NaN\n",
              "10    Wednesday 6/30/10         5.5  ...         NaN         NaN\n",
              "11      Thursday 7/1/10           5  ...         NaN         NaN\n",
              "12        Friday 7/2/10           4  ...         NaN         NaN\n",
              "13      Saturday 7/3/10         7.7  ...         NaN         NaN\n",
              "14                  NaN         NaN  ...         NaN         NaN\n",
              "\n",
              "[15 rows x 18 columns]"
            ]
          },
          "metadata": {
            "tags": []
          },
          "execution_count": 196
        }
      ]
    },
    {
      "cell_type": "code",
      "metadata": {
        "id": "ZaKY9oZA0cm0",
        "outputId": "2e52ae3b-2fec-4030-c4cd-103abc77ab3d",
        "colab": {
          "base_uri": "https://localhost:8080/",
          "height": 255
        }
      },
      "source": [
        "log_csv.tail()"
      ],
      "execution_count": 197,
      "outputs": [
        {
          "output_type": "execute_result",
          "data": {
            "text/html": [
              "<div>\n",
              "<style scoped>\n",
              "    .dataframe tbody tr th:only-of-type {\n",
              "        vertical-align: middle;\n",
              "    }\n",
              "\n",
              "    .dataframe tbody tr th {\n",
              "        vertical-align: top;\n",
              "    }\n",
              "\n",
              "    .dataframe thead th {\n",
              "        text-align: right;\n",
              "    }\n",
              "</style>\n",
              "<table border=\"1\" class=\"dataframe\">\n",
              "  <thead>\n",
              "    <tr style=\"text-align: right;\">\n",
              "      <th></th>\n",
              "      <th>Running log 6/21/10</th>\n",
              "      <th>3/17/14</th>\n",
              "      <th>Unnamed: 2</th>\n",
              "      <th>Unnamed: 3</th>\n",
              "      <th>Unnamed: 4</th>\n",
              "      <th>Unnamed: 5</th>\n",
              "      <th>Unnamed: 6</th>\n",
              "      <th>Unnamed: 7</th>\n",
              "      <th>Unnamed: 8</th>\n",
              "      <th>Unnamed: 9</th>\n",
              "      <th>Unnamed: 10</th>\n",
              "      <th>Unnamed: 11</th>\n",
              "      <th>Unnamed: 12</th>\n",
              "      <th>Unnamed: 13</th>\n",
              "      <th>Unnamed: 14</th>\n",
              "      <th>Unnamed: 15</th>\n",
              "      <th>Unnamed: 16</th>\n",
              "      <th>Unnamed: 17</th>\n",
              "    </tr>\n",
              "  </thead>\n",
              "  <tbody>\n",
              "    <tr>\n",
              "      <th>1979</th>\n",
              "      <td>TOTAL - 48.5</td>\n",
              "      <td>NaN</td>\n",
              "      <td>NaN</td>\n",
              "      <td>NaN</td>\n",
              "      <td>NaN</td>\n",
              "      <td>NaN</td>\n",
              "      <td>NaN</td>\n",
              "      <td>NaN</td>\n",
              "      <td>NaN</td>\n",
              "      <td>NaN</td>\n",
              "      <td>NaN</td>\n",
              "      <td>NaN</td>\n",
              "      <td>NaN</td>\n",
              "      <td>NaN</td>\n",
              "      <td>NaN</td>\n",
              "      <td>NaN</td>\n",
              "      <td>NaN</td>\n",
              "      <td>NaN</td>\n",
              "    </tr>\n",
              "    <tr>\n",
              "      <th>1980</th>\n",
              "      <td>Monday - 12/21/15 - off</td>\n",
              "      <td>NaN</td>\n",
              "      <td>NaN</td>\n",
              "      <td>NaN</td>\n",
              "      <td>NaN</td>\n",
              "      <td>NaN</td>\n",
              "      <td>NaN</td>\n",
              "      <td>NaN</td>\n",
              "      <td>NaN</td>\n",
              "      <td>NaN</td>\n",
              "      <td>NaN</td>\n",
              "      <td>NaN</td>\n",
              "      <td>NaN</td>\n",
              "      <td>NaN</td>\n",
              "      <td>NaN</td>\n",
              "      <td>NaN</td>\n",
              "      <td>NaN</td>\n",
              "      <td>NaN</td>\n",
              "    </tr>\n",
              "    <tr>\n",
              "      <th>1981</th>\n",
              "      <td>Tuesday - I've failed. Not going to be able to...</td>\n",
              "      <td>NaN</td>\n",
              "      <td>NaN</td>\n",
              "      <td>NaN</td>\n",
              "      <td>NaN</td>\n",
              "      <td>NaN</td>\n",
              "      <td>NaN</td>\n",
              "      <td>NaN</td>\n",
              "      <td>NaN</td>\n",
              "      <td>NaN</td>\n",
              "      <td>NaN</td>\n",
              "      <td>NaN</td>\n",
              "      <td>NaN</td>\n",
              "      <td>NaN</td>\n",
              "      <td>NaN</td>\n",
              "      <td>NaN</td>\n",
              "      <td>NaN</td>\n",
              "      <td>NaN</td>\n",
              "    </tr>\n",
              "    <tr>\n",
              "      <th>1982</th>\n",
              "      <td>Thursday - 12/25/15 - 3 miles</td>\n",
              "      <td>NaN</td>\n",
              "      <td>NaN</td>\n",
              "      <td>NaN</td>\n",
              "      <td>NaN</td>\n",
              "      <td>NaN</td>\n",
              "      <td>NaN</td>\n",
              "      <td>NaN</td>\n",
              "      <td>NaN</td>\n",
              "      <td>NaN</td>\n",
              "      <td>NaN</td>\n",
              "      <td>NaN</td>\n",
              "      <td>NaN</td>\n",
              "      <td>NaN</td>\n",
              "      <td>NaN</td>\n",
              "      <td>NaN</td>\n",
              "      <td>NaN</td>\n",
              "      <td>NaN</td>\n",
              "    </tr>\n",
              "    <tr>\n",
              "      <th>1983</th>\n",
              "      <td>Thursday - 12/31/15 - 30 minutes biking - 9.5 ...</td>\n",
              "      <td>NaN</td>\n",
              "      <td>NaN</td>\n",
              "      <td>NaN</td>\n",
              "      <td>NaN</td>\n",
              "      <td>NaN</td>\n",
              "      <td>NaN</td>\n",
              "      <td>NaN</td>\n",
              "      <td>NaN</td>\n",
              "      <td>NaN</td>\n",
              "      <td>NaN</td>\n",
              "      <td>NaN</td>\n",
              "      <td>NaN</td>\n",
              "      <td>NaN</td>\n",
              "      <td>NaN</td>\n",
              "      <td>NaN</td>\n",
              "      <td>NaN</td>\n",
              "      <td>NaN</td>\n",
              "    </tr>\n",
              "  </tbody>\n",
              "</table>\n",
              "</div>"
            ],
            "text/plain": [
              "                                   Running log 6/21/10   ... Unnamed: 17\n",
              "1979                                       TOTAL - 48.5  ...         NaN\n",
              "1980                            Monday - 12/21/15 - off  ...         NaN\n",
              "1981  Tuesday - I've failed. Not going to be able to...  ...         NaN\n",
              "1982                      Thursday - 12/25/15 - 3 miles  ...         NaN\n",
              "1983  Thursday - 12/31/15 - 30 minutes biking - 9.5 ...  ...         NaN\n",
              "\n",
              "[5 rows x 18 columns]"
            ]
          },
          "metadata": {
            "tags": []
          },
          "execution_count": 197
        }
      ]
    },
    {
      "cell_type": "markdown",
      "metadata": {
        "id": "4W7zxYwx0OJT"
      },
      "source": [
        "Creation of Raw string before manipulation of columns"
      ]
    },
    {
      "cell_type": "code",
      "metadata": {
        "id": "Vw4lP-CI00ux",
        "outputId": "bb196e0e-94ae-4343-b5c1-207a6918b52d",
        "colab": {
          "base_uri": "https://localhost:8080/",
          "height": 119
        }
      },
      "source": [
        "log_csv.columns"
      ],
      "execution_count": 198,
      "outputs": [
        {
          "output_type": "execute_result",
          "data": {
            "text/plain": [
              "Index(['Running log 6/21/10 ', ' 3/17/14', 'Unnamed: 2', 'Unnamed: 3',\n",
              "       'Unnamed: 4', 'Unnamed: 5', 'Unnamed: 6', 'Unnamed: 7', 'Unnamed: 8',\n",
              "       'Unnamed: 9', 'Unnamed: 10', 'Unnamed: 11', 'Unnamed: 12',\n",
              "       'Unnamed: 13', 'Unnamed: 14', 'Unnamed: 15', 'Unnamed: 16',\n",
              "       'Unnamed: 17'],\n",
              "      dtype='object')"
            ]
          },
          "metadata": {
            "tags": []
          },
          "execution_count": 198
        }
      ]
    },
    {
      "cell_type": "code",
      "metadata": {
        "id": "56zEbcqn0NQS",
        "outputId": "eeaf8d96-ee19-4edb-b47a-f38feabb7300",
        "colab": {
          "base_uri": "https://localhost:8080/",
          "height": 306
        }
      },
      "source": [
        "raw_string = log_csv.copy()\n",
        "raw_string['raw_note'] = raw_string['Running log 6/21/10 '].str.cat(raw_string[[' 3/17/14','Unnamed: 2', 'Unnamed: 3', 'Unnamed: 4','Unnamed: 5','Unnamed: 6','Unnamed: 7',\n",
        "                                                     'Unnamed: 8', 'Unnamed: 9', 'Unnamed: 10', 'Unnamed: 11','Unnamed: 12',\n",
        "                                                     'Unnamed: 13','Unnamed: 14','Unnamed: 15','Unnamed: 16','Unnamed: 17']].astype(str), sep=\"_\")\n",
        "raw_string2 = raw_string[['raw_note']]\n",
        "raw_string2.loc[:, 'raw_note'] = raw_string2.loc[:, 'raw_note'].str.replace('_?nan_?', '')\n",
        "raw_string2.head()"
      ],
      "execution_count": 199,
      "outputs": [
        {
          "output_type": "stream",
          "text": [
            "/usr/local/lib/python3.6/dist-packages/pandas/core/indexing.py:1783: SettingWithCopyWarning: \n",
            "A value is trying to be set on a copy of a slice from a DataFrame.\n",
            "Try using .loc[row_indexer,col_indexer] = value instead\n",
            "\n",
            "See the caveats in the documentation: https://pandas.pydata.org/pandas-docs/stable/user_guide/indexing.html#returning-a-view-versus-a-copy\n",
            "  self.obj[item_labels[indexer[info_axis]]] = value\n"
          ],
          "name": "stderr"
        },
        {
          "output_type": "execute_result",
          "data": {
            "text/html": [
              "<div>\n",
              "<style scoped>\n",
              "    .dataframe tbody tr th:only-of-type {\n",
              "        vertical-align: middle;\n",
              "    }\n",
              "\n",
              "    .dataframe tbody tr th {\n",
              "        vertical-align: top;\n",
              "    }\n",
              "\n",
              "    .dataframe thead th {\n",
              "        text-align: right;\n",
              "    }\n",
              "</style>\n",
              "<table border=\"1\" class=\"dataframe\">\n",
              "  <thead>\n",
              "    <tr style=\"text-align: right;\">\n",
              "      <th></th>\n",
              "      <th>raw_note</th>\n",
              "    </tr>\n",
              "  </thead>\n",
              "  <tbody>\n",
              "    <tr>\n",
              "      <th>0</th>\n",
              "      <td>Saturday 5/29/10 4 miles 27:19 it was a little...</td>\n",
              "    </tr>\n",
              "    <tr>\n",
              "      <th>1</th>\n",
              "      <td>Monday 6/21/10_ 4 miles</td>\n",
              "    </tr>\n",
              "    <tr>\n",
              "      <th>2</th>\n",
              "      <td>Tuesday 6/22/10_ 4 miles_Swimming_ 10 laps of ...</td>\n",
              "    </tr>\n",
              "    <tr>\n",
              "      <th>3</th>\n",
              "      <td>Wednesday 6/23/10_ 4.5 miles_35 minutes</td>\n",
              "    </tr>\n",
              "    <tr>\n",
              "      <th>4</th>\n",
              "      <td>Thursday 6/25/10_ 5</td>\n",
              "    </tr>\n",
              "  </tbody>\n",
              "</table>\n",
              "</div>"
            ],
            "text/plain": [
              "                                            raw_note\n",
              "0  Saturday 5/29/10 4 miles 27:19 it was a little...\n",
              "1                            Monday 6/21/10_ 4 miles\n",
              "2  Tuesday 6/22/10_ 4 miles_Swimming_ 10 laps of ...\n",
              "3            Wednesday 6/23/10_ 4.5 miles_35 minutes\n",
              "4                               Thursday 6/25/10_ 5 "
            ]
          },
          "metadata": {
            "tags": []
          },
          "execution_count": 199
        }
      ]
    },
    {
      "cell_type": "code",
      "metadata": {
        "id": "-Sd6tAZIBl5S",
        "outputId": "6a521256-f9ab-4d89-8439-2ad916e58c94",
        "colab": {
          "base_uri": "https://localhost:8080/",
          "height": 359
        }
      },
      "source": [
        "log_csv['Notes'] = log_csv['Unnamed: 2'].str.cat(log_csv[['Unnamed: 3', 'Unnamed: 4','Unnamed: 5','Unnamed: 6','Unnamed: 7',\n",
        "                                                     'Unnamed: 8', 'Unnamed: 9', 'Unnamed: 10', 'Unnamed: 11','Unnamed: 12',\n",
        "                                                     'Unnamed: 13','Unnamed: 14','Unnamed: 15','Unnamed: 16','Unnamed: 17']].astype(str), sep=\"_\")\n",
        "log_csv2 = log_csv[['Running log 6/21/10 ',' 3/17/14','Notes']]\n",
        "log_csv2.head(10)"
      ],
      "execution_count": 200,
      "outputs": [
        {
          "output_type": "execute_result",
          "data": {
            "text/html": [
              "<div>\n",
              "<style scoped>\n",
              "    .dataframe tbody tr th:only-of-type {\n",
              "        vertical-align: middle;\n",
              "    }\n",
              "\n",
              "    .dataframe tbody tr th {\n",
              "        vertical-align: top;\n",
              "    }\n",
              "\n",
              "    .dataframe thead th {\n",
              "        text-align: right;\n",
              "    }\n",
              "</style>\n",
              "<table border=\"1\" class=\"dataframe\">\n",
              "  <thead>\n",
              "    <tr style=\"text-align: right;\">\n",
              "      <th></th>\n",
              "      <th>Running log 6/21/10</th>\n",
              "      <th>3/17/14</th>\n",
              "      <th>Notes</th>\n",
              "    </tr>\n",
              "  </thead>\n",
              "  <tbody>\n",
              "    <tr>\n",
              "      <th>0</th>\n",
              "      <td>Saturday 5/29/10</td>\n",
              "      <td>NaN</td>\n",
              "      <td>4 miles 27:19 it was a little short. 3.8 mile...</td>\n",
              "    </tr>\n",
              "    <tr>\n",
              "      <th>1</th>\n",
              "      <td>Monday 6/21/10</td>\n",
              "      <td>4 miles</td>\n",
              "      <td>NaN</td>\n",
              "    </tr>\n",
              "    <tr>\n",
              "      <th>2</th>\n",
              "      <td>Tuesday 6/22/10</td>\n",
              "      <td>4 miles</td>\n",
              "      <td>Swimming_ 10 laps of freestyle_5 laps of backs...</td>\n",
              "    </tr>\n",
              "    <tr>\n",
              "      <th>3</th>\n",
              "      <td>Wednesday 6/23/10</td>\n",
              "      <td>4.5 miles</td>\n",
              "      <td>35 minutes_nan_nan_nan_nan_nan_nan_nan_nan_nan...</td>\n",
              "    </tr>\n",
              "    <tr>\n",
              "      <th>4</th>\n",
              "      <td>Thursday 6/25/10</td>\n",
              "      <td>5</td>\n",
              "      <td>NaN</td>\n",
              "    </tr>\n",
              "    <tr>\n",
              "      <th>5</th>\n",
              "      <td>Friday 6/26/10</td>\n",
              "      <td>5</td>\n",
              "      <td>Swimming_ same as Tuesday_nan_nan_nan_nan_nan_...</td>\n",
              "    </tr>\n",
              "    <tr>\n",
              "      <th>6</th>\n",
              "      <td>Saturday 6/27/10</td>\n",
              "      <td>6</td>\n",
              "      <td>41:04_nan_nan_nan_nan_nan_nan_nan_nan_nan_nan...</td>\n",
              "    </tr>\n",
              "    <tr>\n",
              "      <th>7</th>\n",
              "      <td>NaN</td>\n",
              "      <td>NaN</td>\n",
              "      <td>NaN</td>\n",
              "    </tr>\n",
              "    <tr>\n",
              "      <th>8</th>\n",
              "      <td>Monday 6/28/10</td>\n",
              "      <td>4</td>\n",
              "      <td>28:04:00_5 total_nan_nan_nan_nan_nan_nan_nan_n...</td>\n",
              "    </tr>\n",
              "    <tr>\n",
              "      <th>9</th>\n",
              "      <td>Tuesday 6/29/10</td>\n",
              "      <td>5</td>\n",
              "      <td>NaN</td>\n",
              "    </tr>\n",
              "  </tbody>\n",
              "</table>\n",
              "</div>"
            ],
            "text/plain": [
              "  Running log 6/21/10   ...                                              Notes\n",
              "0     Saturday 5/29/10  ...   4 miles 27:19 it was a little short. 3.8 mile...\n",
              "1       Monday 6/21/10  ...                                                NaN\n",
              "2      Tuesday 6/22/10  ...  Swimming_ 10 laps of freestyle_5 laps of backs...\n",
              "3    Wednesday 6/23/10  ...  35 minutes_nan_nan_nan_nan_nan_nan_nan_nan_nan...\n",
              "4     Thursday 6/25/10  ...                                                NaN\n",
              "5       Friday 6/26/10  ...  Swimming_ same as Tuesday_nan_nan_nan_nan_nan_...\n",
              "6     Saturday 6/27/10  ...   41:04_nan_nan_nan_nan_nan_nan_nan_nan_nan_nan...\n",
              "7                  NaN  ...                                                NaN\n",
              "8       Monday 6/28/10  ...  28:04:00_5 total_nan_nan_nan_nan_nan_nan_nan_n...\n",
              "9      Tuesday 6/29/10  ...                                                NaN\n",
              "\n",
              "[10 rows x 3 columns]"
            ]
          },
          "metadata": {
            "tags": []
          },
          "execution_count": 200
        }
      ]
    },
    {
      "cell_type": "code",
      "metadata": {
        "id": "1rAsSZ71-ngE"
      },
      "source": [
        "# columns = ['Weekday', 'Date', 'Mileage', 'Minutes', 'Notes']\n",
        "log_csv2.columns = ['Beginning', 'Mileage', 'Notes']"
      ],
      "execution_count": 201,
      "outputs": []
    },
    {
      "cell_type": "code",
      "metadata": {
        "id": "7HRLDnCHAKxD",
        "outputId": "0634953a-6fcc-4661-a0d8-7dc7a99b5352",
        "colab": {
          "base_uri": "https://localhost:8080/",
          "height": 35
        }
      },
      "source": [
        "m = '- 7 miles - warmup with maggie - 82.190 - 6:19:16 - 13.0 avg'\n",
        "t = '- 8 miles - thanksgiving 18.229 mile'\n",
        "e = '35 minutes_nan_nan_nan_nan_nan_nan_nan_nan_nan'\n",
        "re.sub('_nan', '', e)"
      ],
      "execution_count": 202,
      "outputs": [
        {
          "output_type": "execute_result",
          "data": {
            "application/vnd.google.colaboratory.intrinsic+json": {
              "type": "string"
            },
            "text/plain": [
              "'35 minutes'"
            ]
          },
          "metadata": {
            "tags": []
          },
          "execution_count": 202
        }
      ]
    },
    {
      "cell_type": "code",
      "metadata": {
        "id": "hEUynGV-DEr4",
        "outputId": "e46debab-55da-43c2-c610-e55d6565397d",
        "colab": {
          "base_uri": "https://localhost:8080/",
          "height": 527
        }
      },
      "source": [
        "findall_n_join_fx(log_csv2, 'Beginning', 'Weekday', '\\w+day')\n",
        "log_csv2 = findall_n_join_fx(log_csv2, 'Beginning', 'Date', '\\d+/\\d+/\\d\\d')\n",
        "log_csv2.info()"
      ],
      "execution_count": 203,
      "outputs": [
        {
          "output_type": "stream",
          "text": [
            "<class 'pandas.core.frame.DataFrame'>\n",
            "RangeIndex: 1984 entries, 0 to 1983\n",
            "Data columns (total 5 columns):\n",
            " #   Column     Non-Null Count  Dtype \n",
            "---  ------     --------------  ----- \n",
            " 0   Beginning  1966 non-null   object\n",
            " 1   Mileage    1217 non-null   object\n",
            " 2   Notes      751 non-null    object\n",
            " 3   Weekday    1966 non-null   object\n",
            " 4   Date       1966 non-null   object\n",
            "dtypes: object(5)\n",
            "memory usage: 77.6+ KB\n"
          ],
          "name": "stdout"
        },
        {
          "output_type": "stream",
          "text": [
            "/usr/local/lib/python3.6/dist-packages/pandas/core/indexing.py:1596: SettingWithCopyWarning: \n",
            "A value is trying to be set on a copy of a slice from a DataFrame.\n",
            "Try using .loc[row_indexer,col_indexer] = value instead\n",
            "\n",
            "See the caveats in the documentation: https://pandas.pydata.org/pandas-docs/stable/user_guide/indexing.html#returning-a-view-versus-a-copy\n",
            "  self.obj[key] = _infer_fill_value(value)\n",
            "/usr/local/lib/python3.6/dist-packages/pandas/core/indexing.py:1745: SettingWithCopyWarning: \n",
            "A value is trying to be set on a copy of a slice from a DataFrame.\n",
            "Try using .loc[row_indexer,col_indexer] = value instead\n",
            "\n",
            "See the caveats in the documentation: https://pandas.pydata.org/pandas-docs/stable/user_guide/indexing.html#returning-a-view-versus-a-copy\n",
            "  isetter(ilocs[0], value)\n",
            "/usr/local/lib/python3.6/dist-packages/pandas/core/indexing.py:1783: SettingWithCopyWarning: \n",
            "A value is trying to be set on a copy of a slice from a DataFrame.\n",
            "Try using .loc[row_indexer,col_indexer] = value instead\n",
            "\n",
            "See the caveats in the documentation: https://pandas.pydata.org/pandas-docs/stable/user_guide/indexing.html#returning-a-view-versus-a-copy\n",
            "  self.obj[item_labels[indexer[info_axis]]] = value\n"
          ],
          "name": "stderr"
        }
      ]
    },
    {
      "cell_type": "code",
      "metadata": {
        "id": "ZaX2VS9jAOQ7"
      },
      "source": [
        "log_csv3 = log_csv2[log_csv2['Beginning'].str.startswith('TOTAL') == False]"
      ],
      "execution_count": 204,
      "outputs": []
    },
    {
      "cell_type": "code",
      "metadata": {
        "id": "8rDnaYpSh6Gb",
        "outputId": "a58bcae7-89ef-411b-83dc-cc1efe173bca",
        "colab": {
          "base_uri": "https://localhost:8080/",
          "height": 646
        }
      },
      "source": [
        "log_csv3.loc[:,'Mileage_init'] = log_csv3.loc[:,'Beginning'].str.findall('\\d+\\.*\\d*')\n",
        "log_csv3.loc[:, 'length'] = log_csv3['Mileage_init'].str.len()\n",
        "log_csv3['counter'] = range(len(log_csv3))\n",
        "log_csv3['Workout_mins'] = np.nan\n",
        "log_csv3['Swimming_meters'] = np.nan\n",
        "log_csv3['Bike_Mileage'] = np.nan\n",
        "log_csv3 = log_csv3.rename(columns = {'Beginning': 'Notes2'})\n",
        "check_data = log_csv3[log_csv3.length >1]\n",
        "check_data2 = check_data[['Notes2','Mileage','Mileage_init','counter']]\n",
        "len(check_data2)"
      ],
      "execution_count": 205,
      "outputs": [
        {
          "output_type": "stream",
          "text": [
            "/usr/local/lib/python3.6/dist-packages/pandas/core/indexing.py:1596: SettingWithCopyWarning: \n",
            "A value is trying to be set on a copy of a slice from a DataFrame.\n",
            "Try using .loc[row_indexer,col_indexer] = value instead\n",
            "\n",
            "See the caveats in the documentation: https://pandas.pydata.org/pandas-docs/stable/user_guide/indexing.html#returning-a-view-versus-a-copy\n",
            "  self.obj[key] = _infer_fill_value(value)\n",
            "/usr/local/lib/python3.6/dist-packages/pandas/core/indexing.py:1745: SettingWithCopyWarning: \n",
            "A value is trying to be set on a copy of a slice from a DataFrame.\n",
            "Try using .loc[row_indexer,col_indexer] = value instead\n",
            "\n",
            "See the caveats in the documentation: https://pandas.pydata.org/pandas-docs/stable/user_guide/indexing.html#returning-a-view-versus-a-copy\n",
            "  isetter(ilocs[0], value)\n",
            "/usr/local/lib/python3.6/dist-packages/ipykernel_launcher.py:3: SettingWithCopyWarning: \n",
            "A value is trying to be set on a copy of a slice from a DataFrame.\n",
            "Try using .loc[row_indexer,col_indexer] = value instead\n",
            "\n",
            "See the caveats in the documentation: https://pandas.pydata.org/pandas-docs/stable/user_guide/indexing.html#returning-a-view-versus-a-copy\n",
            "  This is separate from the ipykernel package so we can avoid doing imports until\n",
            "/usr/local/lib/python3.6/dist-packages/ipykernel_launcher.py:4: SettingWithCopyWarning: \n",
            "A value is trying to be set on a copy of a slice from a DataFrame.\n",
            "Try using .loc[row_indexer,col_indexer] = value instead\n",
            "\n",
            "See the caveats in the documentation: https://pandas.pydata.org/pandas-docs/stable/user_guide/indexing.html#returning-a-view-versus-a-copy\n",
            "  after removing the cwd from sys.path.\n",
            "/usr/local/lib/python3.6/dist-packages/ipykernel_launcher.py:5: SettingWithCopyWarning: \n",
            "A value is trying to be set on a copy of a slice from a DataFrame.\n",
            "Try using .loc[row_indexer,col_indexer] = value instead\n",
            "\n",
            "See the caveats in the documentation: https://pandas.pydata.org/pandas-docs/stable/user_guide/indexing.html#returning-a-view-versus-a-copy\n",
            "  \"\"\"\n",
            "/usr/local/lib/python3.6/dist-packages/ipykernel_launcher.py:6: SettingWithCopyWarning: \n",
            "A value is trying to be set on a copy of a slice from a DataFrame.\n",
            "Try using .loc[row_indexer,col_indexer] = value instead\n",
            "\n",
            "See the caveats in the documentation: https://pandas.pydata.org/pandas-docs/stable/user_guide/indexing.html#returning-a-view-versus-a-copy\n",
            "  \n"
          ],
          "name": "stderr"
        },
        {
          "output_type": "execute_result",
          "data": {
            "text/plain": [
              "157"
            ]
          },
          "metadata": {
            "tags": []
          },
          "execution_count": 205
        }
      ]
    },
    {
      "cell_type": "markdown",
      "metadata": {
        "id": "6foCNcVOXfqJ"
      },
      "source": [
        "#### Manipulations"
      ]
    },
    {
      "cell_type": "code",
      "metadata": {
        "id": "dO3eP4gkWF3n"
      },
      "source": [
        "log_csv3.iloc[1138,5] = np.nan\n",
        "log_csv3.iloc[1206,5] = np.nan\n",
        "log_csv3.iloc[1431,5] = np.nan\n",
        "log_csv3.iloc[1432,5] = np.nan\n",
        "log_csv3.iloc[1527,5] = np.nan\n",
        "log_csv3.iloc[1561,5] = np.nan\n",
        "log_csv3.iloc[1596,5] = np.nan\n",
        "log_csv3.iloc[1614,5] = np.nan\n",
        "log_csv3.iloc[1632,5] = np.nan\n",
        "log_csv3.iloc[1648,5] = np.nan\n",
        "log_csv3.iloc[1316,5] = np.nan"
      ],
      "execution_count": 206,
      "outputs": []
    },
    {
      "cell_type": "markdown",
      "metadata": {
        "id": "va2_2CHvX5fP"
      },
      "source": [
        "#### New Log"
      ]
    },
    {
      "cell_type": "code",
      "metadata": {
        "id": "U7zAAuycUzvG"
      },
      "source": [
        "log_csv3.to_csv(\"/content/drive/My Drive/mileage_manip2.csv\")"
      ],
      "execution_count": 207,
      "outputs": []
    },
    {
      "cell_type": "code",
      "metadata": {
        "id": "fBOEAmUmfLaK",
        "outputId": "70187aec-3e70-48fc-d052-d0d6eea6fefb",
        "colab": {
          "base_uri": "https://localhost:8080/",
          "height": 359
        }
      },
      "source": [
        "new_log = pd.read_csv(\"/content/drive/My Drive/mileage_manip2.csv\",index_col=0)\n",
        "new_log.head(10)"
      ],
      "execution_count": 369,
      "outputs": [
        {
          "output_type": "execute_result",
          "data": {
            "text/html": [
              "<div>\n",
              "<style scoped>\n",
              "    .dataframe tbody tr th:only-of-type {\n",
              "        vertical-align: middle;\n",
              "    }\n",
              "\n",
              "    .dataframe tbody tr th {\n",
              "        vertical-align: top;\n",
              "    }\n",
              "\n",
              "    .dataframe thead th {\n",
              "        text-align: right;\n",
              "    }\n",
              "</style>\n",
              "<table border=\"1\" class=\"dataframe\">\n",
              "  <thead>\n",
              "    <tr style=\"text-align: right;\">\n",
              "      <th></th>\n",
              "      <th>Notes2</th>\n",
              "      <th>Mileage</th>\n",
              "      <th>Notes</th>\n",
              "      <th>Weekday</th>\n",
              "      <th>Date</th>\n",
              "      <th>Mileage_init</th>\n",
              "      <th>length</th>\n",
              "      <th>counter</th>\n",
              "      <th>Workout_mins</th>\n",
              "      <th>Swimming_meters</th>\n",
              "      <th>Bike_Mileage</th>\n",
              "    </tr>\n",
              "  </thead>\n",
              "  <tbody>\n",
              "    <tr>\n",
              "      <th>0</th>\n",
              "      <td></td>\n",
              "      <td>NaN</td>\n",
              "      <td>4 miles 27:19 it was a little short. 3.8 mile...</td>\n",
              "      <td>Saturday</td>\n",
              "      <td>5/29/10</td>\n",
              "      <td>[]</td>\n",
              "      <td>0</td>\n",
              "      <td>0</td>\n",
              "      <td>NaN</td>\n",
              "      <td>NaN</td>\n",
              "      <td>NaN</td>\n",
              "    </tr>\n",
              "    <tr>\n",
              "      <th>1</th>\n",
              "      <td></td>\n",
              "      <td>4 miles</td>\n",
              "      <td>NaN</td>\n",
              "      <td>Monday</td>\n",
              "      <td>6/21/10</td>\n",
              "      <td>[]</td>\n",
              "      <td>0</td>\n",
              "      <td>1</td>\n",
              "      <td>NaN</td>\n",
              "      <td>NaN</td>\n",
              "      <td>NaN</td>\n",
              "    </tr>\n",
              "    <tr>\n",
              "      <th>2</th>\n",
              "      <td></td>\n",
              "      <td>4 miles</td>\n",
              "      <td>Swimming_ 10 laps of freestyle_5 laps of backs...</td>\n",
              "      <td>Tuesday</td>\n",
              "      <td>6/22/10</td>\n",
              "      <td>[]</td>\n",
              "      <td>0</td>\n",
              "      <td>2</td>\n",
              "      <td>NaN</td>\n",
              "      <td>NaN</td>\n",
              "      <td>NaN</td>\n",
              "    </tr>\n",
              "    <tr>\n",
              "      <th>3</th>\n",
              "      <td></td>\n",
              "      <td>4.5 miles</td>\n",
              "      <td>35 minutes_nan_nan_nan_nan_nan_nan_nan_nan_nan...</td>\n",
              "      <td>Wednesday</td>\n",
              "      <td>6/23/10</td>\n",
              "      <td>[]</td>\n",
              "      <td>0</td>\n",
              "      <td>3</td>\n",
              "      <td>NaN</td>\n",
              "      <td>NaN</td>\n",
              "      <td>NaN</td>\n",
              "    </tr>\n",
              "    <tr>\n",
              "      <th>4</th>\n",
              "      <td></td>\n",
              "      <td>5</td>\n",
              "      <td>NaN</td>\n",
              "      <td>Thursday</td>\n",
              "      <td>6/25/10</td>\n",
              "      <td>[]</td>\n",
              "      <td>0</td>\n",
              "      <td>4</td>\n",
              "      <td>NaN</td>\n",
              "      <td>NaN</td>\n",
              "      <td>NaN</td>\n",
              "    </tr>\n",
              "    <tr>\n",
              "      <th>5</th>\n",
              "      <td></td>\n",
              "      <td>5</td>\n",
              "      <td>Swimming_ same as Tuesday_nan_nan_nan_nan_nan_...</td>\n",
              "      <td>Friday</td>\n",
              "      <td>6/26/10</td>\n",
              "      <td>[]</td>\n",
              "      <td>0</td>\n",
              "      <td>5</td>\n",
              "      <td>NaN</td>\n",
              "      <td>NaN</td>\n",
              "      <td>NaN</td>\n",
              "    </tr>\n",
              "    <tr>\n",
              "      <th>6</th>\n",
              "      <td></td>\n",
              "      <td>6</td>\n",
              "      <td>41:04_nan_nan_nan_nan_nan_nan_nan_nan_nan_nan...</td>\n",
              "      <td>Saturday</td>\n",
              "      <td>6/27/10</td>\n",
              "      <td>[]</td>\n",
              "      <td>0</td>\n",
              "      <td>6</td>\n",
              "      <td>NaN</td>\n",
              "      <td>NaN</td>\n",
              "      <td>NaN</td>\n",
              "    </tr>\n",
              "    <tr>\n",
              "      <th>8</th>\n",
              "      <td></td>\n",
              "      <td>4</td>\n",
              "      <td>28:04:00_5 total_nan_nan_nan_nan_nan_nan_nan_n...</td>\n",
              "      <td>Monday</td>\n",
              "      <td>6/28/10</td>\n",
              "      <td>[]</td>\n",
              "      <td>0</td>\n",
              "      <td>7</td>\n",
              "      <td>NaN</td>\n",
              "      <td>NaN</td>\n",
              "      <td>NaN</td>\n",
              "    </tr>\n",
              "    <tr>\n",
              "      <th>9</th>\n",
              "      <td></td>\n",
              "      <td>5</td>\n",
              "      <td>NaN</td>\n",
              "      <td>Tuesday</td>\n",
              "      <td>6/29/10</td>\n",
              "      <td>[]</td>\n",
              "      <td>0</td>\n",
              "      <td>8</td>\n",
              "      <td>NaN</td>\n",
              "      <td>NaN</td>\n",
              "      <td>NaN</td>\n",
              "    </tr>\n",
              "    <tr>\n",
              "      <th>10</th>\n",
              "      <td></td>\n",
              "      <td>5.5</td>\n",
              "      <td>Swimming_normal_nan_nan_nan_nan_nan_nan_nan_na...</td>\n",
              "      <td>Wednesday</td>\n",
              "      <td>6/30/10</td>\n",
              "      <td>[]</td>\n",
              "      <td>0</td>\n",
              "      <td>9</td>\n",
              "      <td>NaN</td>\n",
              "      <td>NaN</td>\n",
              "      <td>NaN</td>\n",
              "    </tr>\n",
              "  </tbody>\n",
              "</table>\n",
              "</div>"
            ],
            "text/plain": [
              "   Notes2     Mileage  ... Swimming_meters Bike_Mileage\n",
              "0                 NaN  ...             NaN          NaN\n",
              "1             4 miles  ...             NaN          NaN\n",
              "2             4 miles  ...             NaN          NaN\n",
              "3           4.5 miles  ...             NaN          NaN\n",
              "4                  5   ...             NaN          NaN\n",
              "5                   5  ...             NaN          NaN\n",
              "6                   6  ...             NaN          NaN\n",
              "8                   4  ...             NaN          NaN\n",
              "9                   5  ...             NaN          NaN\n",
              "10                5.5  ...             NaN          NaN\n",
              "\n",
              "[10 rows x 11 columns]"
            ]
          },
          "metadata": {
            "tags": []
          },
          "execution_count": 369
        }
      ]
    },
    {
      "cell_type": "code",
      "metadata": {
        "id": "RNMJIwQaI57D",
        "outputId": "37053f82-1422-4659-f36e-762956138ac9",
        "colab": {
          "base_uri": "https://localhost:8080/",
          "height": 323
        }
      },
      "source": [
        "new_log.info()"
      ],
      "execution_count": 370,
      "outputs": [
        {
          "output_type": "stream",
          "text": [
            "<class 'pandas.core.frame.DataFrame'>\n",
            "Int64Index: 1723 entries, 0 to 1983\n",
            "Data columns (total 11 columns):\n",
            " #   Column           Non-Null Count  Dtype  \n",
            "---  ------           --------------  -----  \n",
            " 0   Notes2           1665 non-null   object \n",
            " 1   Mileage          1068 non-null   object \n",
            " 2   Notes            741 non-null    object \n",
            " 3   Weekday          1618 non-null   object \n",
            " 4   Date             139 non-null    object \n",
            " 5   Mileage_init     1712 non-null   object \n",
            " 6   length           1723 non-null   int64  \n",
            " 7   counter          1723 non-null   int64  \n",
            " 8   Workout_mins     0 non-null      float64\n",
            " 9   Swimming_meters  0 non-null      float64\n",
            " 10  Bike_Mileage     0 non-null      float64\n",
            "dtypes: float64(3), int64(2), object(6)\n",
            "memory usage: 161.5+ KB\n"
          ],
          "name": "stdout"
        }
      ]
    },
    {
      "cell_type": "code",
      "metadata": {
        "id": "y2MK9wYi_hmk"
      },
      "source": [
        "to_be_nan = list(new_log.counter[new_log.length > 1])\n",
        "for row_numb in to_be_nan:\n",
        "    new_log.iloc[row_numb,5] = np.nan"
      ],
      "execution_count": 371,
      "outputs": []
    },
    {
      "cell_type": "code",
      "metadata": {
        "id": "afv9rjznSLl2"
      },
      "source": [
        "# mi = list(new_log.Mileage_init)\n",
        "# for idx, a in enumerate(mi):\n",
        "#     try:\n",
        "#         if math.isnan(a):\n",
        "#             continue\n",
        "#     except:\n",
        "#         if len(a) < 1:\n",
        "#             continue\n",
        "#         else:\n",
        "#             new_log.Mileage_init.iloc[idx] = a[0]"
      ],
      "execution_count": 372,
      "outputs": []
    },
    {
      "cell_type": "code",
      "metadata": {
        "id": "vwOtmeGmlFE_"
      },
      "source": [
        "new_log.loc[:,'Mileage_init'] = new_log.loc[:,'Mileage_init'].str.replace('\\[\\'', '')\n",
        "new_log.loc[:,'Mileage_init'] = new_log.loc[:,'Mileage_init'].str.replace('\\'\\]', '')\n",
        "new_log.loc[:,'Mileage_init'] = new_log.loc[:,'Mileage_init'].str.replace('\\[\\]', '')"
      ],
      "execution_count": 373,
      "outputs": []
    },
    {
      "cell_type": "code",
      "metadata": {
        "id": "-XnF81yv7Byy",
        "outputId": "693fe321-43c0-478c-ccd8-40508541fb22",
        "colab": {
          "base_uri": "https://localhost:8080/",
          "height": 204
        }
      },
      "source": [
        "new_log.Mileage_init = pd.to_numeric(new_log.Mileage_init, errors='coerce')\n",
        "new_log.head()"
      ],
      "execution_count": 374,
      "outputs": [
        {
          "output_type": "execute_result",
          "data": {
            "text/html": [
              "<div>\n",
              "<style scoped>\n",
              "    .dataframe tbody tr th:only-of-type {\n",
              "        vertical-align: middle;\n",
              "    }\n",
              "\n",
              "    .dataframe tbody tr th {\n",
              "        vertical-align: top;\n",
              "    }\n",
              "\n",
              "    .dataframe thead th {\n",
              "        text-align: right;\n",
              "    }\n",
              "</style>\n",
              "<table border=\"1\" class=\"dataframe\">\n",
              "  <thead>\n",
              "    <tr style=\"text-align: right;\">\n",
              "      <th></th>\n",
              "      <th>Notes2</th>\n",
              "      <th>Mileage</th>\n",
              "      <th>Notes</th>\n",
              "      <th>Weekday</th>\n",
              "      <th>Date</th>\n",
              "      <th>Mileage_init</th>\n",
              "      <th>length</th>\n",
              "      <th>counter</th>\n",
              "      <th>Workout_mins</th>\n",
              "      <th>Swimming_meters</th>\n",
              "      <th>Bike_Mileage</th>\n",
              "    </tr>\n",
              "  </thead>\n",
              "  <tbody>\n",
              "    <tr>\n",
              "      <th>0</th>\n",
              "      <td></td>\n",
              "      <td>NaN</td>\n",
              "      <td>4 miles 27:19 it was a little short. 3.8 mile...</td>\n",
              "      <td>Saturday</td>\n",
              "      <td>5/29/10</td>\n",
              "      <td>NaN</td>\n",
              "      <td>0</td>\n",
              "      <td>0</td>\n",
              "      <td>NaN</td>\n",
              "      <td>NaN</td>\n",
              "      <td>NaN</td>\n",
              "    </tr>\n",
              "    <tr>\n",
              "      <th>1</th>\n",
              "      <td></td>\n",
              "      <td>4 miles</td>\n",
              "      <td>NaN</td>\n",
              "      <td>Monday</td>\n",
              "      <td>6/21/10</td>\n",
              "      <td>NaN</td>\n",
              "      <td>0</td>\n",
              "      <td>1</td>\n",
              "      <td>NaN</td>\n",
              "      <td>NaN</td>\n",
              "      <td>NaN</td>\n",
              "    </tr>\n",
              "    <tr>\n",
              "      <th>2</th>\n",
              "      <td></td>\n",
              "      <td>4 miles</td>\n",
              "      <td>Swimming_ 10 laps of freestyle_5 laps of backs...</td>\n",
              "      <td>Tuesday</td>\n",
              "      <td>6/22/10</td>\n",
              "      <td>NaN</td>\n",
              "      <td>0</td>\n",
              "      <td>2</td>\n",
              "      <td>NaN</td>\n",
              "      <td>NaN</td>\n",
              "      <td>NaN</td>\n",
              "    </tr>\n",
              "    <tr>\n",
              "      <th>3</th>\n",
              "      <td></td>\n",
              "      <td>4.5 miles</td>\n",
              "      <td>35 minutes_nan_nan_nan_nan_nan_nan_nan_nan_nan...</td>\n",
              "      <td>Wednesday</td>\n",
              "      <td>6/23/10</td>\n",
              "      <td>NaN</td>\n",
              "      <td>0</td>\n",
              "      <td>3</td>\n",
              "      <td>NaN</td>\n",
              "      <td>NaN</td>\n",
              "      <td>NaN</td>\n",
              "    </tr>\n",
              "    <tr>\n",
              "      <th>4</th>\n",
              "      <td></td>\n",
              "      <td>5</td>\n",
              "      <td>NaN</td>\n",
              "      <td>Thursday</td>\n",
              "      <td>6/25/10</td>\n",
              "      <td>NaN</td>\n",
              "      <td>0</td>\n",
              "      <td>4</td>\n",
              "      <td>NaN</td>\n",
              "      <td>NaN</td>\n",
              "      <td>NaN</td>\n",
              "    </tr>\n",
              "  </tbody>\n",
              "</table>\n",
              "</div>"
            ],
            "text/plain": [
              "  Notes2     Mileage  ... Swimming_meters Bike_Mileage\n",
              "0                NaN  ...             NaN          NaN\n",
              "1            4 miles  ...             NaN          NaN\n",
              "2            4 miles  ...             NaN          NaN\n",
              "3          4.5 miles  ...             NaN          NaN\n",
              "4                 5   ...             NaN          NaN\n",
              "\n",
              "[5 rows x 11 columns]"
            ]
          },
          "metadata": {
            "tags": []
          },
          "execution_count": 374
        }
      ]
    },
    {
      "cell_type": "code",
      "metadata": {
        "id": "2UpWZ8lZfZhz"
      },
      "source": [
        "new_log.insert(8, 'Workout_type',None)"
      ],
      "execution_count": 375,
      "outputs": []
    },
    {
      "cell_type": "code",
      "metadata": {
        "id": "fHykuzSRjRvb",
        "outputId": "c2810de8-cd6d-42ba-cb76-2b324c058581",
        "colab": {
          "base_uri": "https://localhost:8080/",
          "height": 204
        }
      },
      "source": [
        "new_log.head()"
      ],
      "execution_count": 376,
      "outputs": [
        {
          "output_type": "execute_result",
          "data": {
            "text/html": [
              "<div>\n",
              "<style scoped>\n",
              "    .dataframe tbody tr th:only-of-type {\n",
              "        vertical-align: middle;\n",
              "    }\n",
              "\n",
              "    .dataframe tbody tr th {\n",
              "        vertical-align: top;\n",
              "    }\n",
              "\n",
              "    .dataframe thead th {\n",
              "        text-align: right;\n",
              "    }\n",
              "</style>\n",
              "<table border=\"1\" class=\"dataframe\">\n",
              "  <thead>\n",
              "    <tr style=\"text-align: right;\">\n",
              "      <th></th>\n",
              "      <th>Notes2</th>\n",
              "      <th>Mileage</th>\n",
              "      <th>Notes</th>\n",
              "      <th>Weekday</th>\n",
              "      <th>Date</th>\n",
              "      <th>Mileage_init</th>\n",
              "      <th>length</th>\n",
              "      <th>counter</th>\n",
              "      <th>Workout_type</th>\n",
              "      <th>Workout_mins</th>\n",
              "      <th>Swimming_meters</th>\n",
              "      <th>Bike_Mileage</th>\n",
              "    </tr>\n",
              "  </thead>\n",
              "  <tbody>\n",
              "    <tr>\n",
              "      <th>0</th>\n",
              "      <td></td>\n",
              "      <td>NaN</td>\n",
              "      <td>4 miles 27:19 it was a little short. 3.8 mile...</td>\n",
              "      <td>Saturday</td>\n",
              "      <td>5/29/10</td>\n",
              "      <td>NaN</td>\n",
              "      <td>0</td>\n",
              "      <td>0</td>\n",
              "      <td>None</td>\n",
              "      <td>NaN</td>\n",
              "      <td>NaN</td>\n",
              "      <td>NaN</td>\n",
              "    </tr>\n",
              "    <tr>\n",
              "      <th>1</th>\n",
              "      <td></td>\n",
              "      <td>4 miles</td>\n",
              "      <td>NaN</td>\n",
              "      <td>Monday</td>\n",
              "      <td>6/21/10</td>\n",
              "      <td>NaN</td>\n",
              "      <td>0</td>\n",
              "      <td>1</td>\n",
              "      <td>None</td>\n",
              "      <td>NaN</td>\n",
              "      <td>NaN</td>\n",
              "      <td>NaN</td>\n",
              "    </tr>\n",
              "    <tr>\n",
              "      <th>2</th>\n",
              "      <td></td>\n",
              "      <td>4 miles</td>\n",
              "      <td>Swimming_ 10 laps of freestyle_5 laps of backs...</td>\n",
              "      <td>Tuesday</td>\n",
              "      <td>6/22/10</td>\n",
              "      <td>NaN</td>\n",
              "      <td>0</td>\n",
              "      <td>2</td>\n",
              "      <td>None</td>\n",
              "      <td>NaN</td>\n",
              "      <td>NaN</td>\n",
              "      <td>NaN</td>\n",
              "    </tr>\n",
              "    <tr>\n",
              "      <th>3</th>\n",
              "      <td></td>\n",
              "      <td>4.5 miles</td>\n",
              "      <td>35 minutes_nan_nan_nan_nan_nan_nan_nan_nan_nan...</td>\n",
              "      <td>Wednesday</td>\n",
              "      <td>6/23/10</td>\n",
              "      <td>NaN</td>\n",
              "      <td>0</td>\n",
              "      <td>3</td>\n",
              "      <td>None</td>\n",
              "      <td>NaN</td>\n",
              "      <td>NaN</td>\n",
              "      <td>NaN</td>\n",
              "    </tr>\n",
              "    <tr>\n",
              "      <th>4</th>\n",
              "      <td></td>\n",
              "      <td>5</td>\n",
              "      <td>NaN</td>\n",
              "      <td>Thursday</td>\n",
              "      <td>6/25/10</td>\n",
              "      <td>NaN</td>\n",
              "      <td>0</td>\n",
              "      <td>4</td>\n",
              "      <td>None</td>\n",
              "      <td>NaN</td>\n",
              "      <td>NaN</td>\n",
              "      <td>NaN</td>\n",
              "    </tr>\n",
              "  </tbody>\n",
              "</table>\n",
              "</div>"
            ],
            "text/plain": [
              "  Notes2     Mileage  ... Swimming_meters Bike_Mileage\n",
              "0                NaN  ...             NaN          NaN\n",
              "1            4 miles  ...             NaN          NaN\n",
              "2            4 miles  ...             NaN          NaN\n",
              "3          4.5 miles  ...             NaN          NaN\n",
              "4                 5   ...             NaN          NaN\n",
              "\n",
              "[5 rows x 12 columns]"
            ]
          },
          "metadata": {
            "tags": []
          },
          "execution_count": 376
        }
      ]
    },
    {
      "cell_type": "code",
      "metadata": {
        "id": "DvKWFNrlnG82"
      },
      "source": [
        "# dropping two lines that just had \"WORKOUTS TOTAL\"\n",
        "new_log = new_log.drop([30,143,187,334,360,442,610,789,969,1113,1121,1131,1258,1259,1260,\n",
        "                        1261,1262,1453,1523,1598,1643,1652,1686,1727,1737,1747,1756,1757,\n",
        "                        1767,1776,1777,1786,1787,1796,1797,1807,1816,1825,1834,1843,1852,\n",
        "                        1861,1870,1879,1895,1904,1913,1922,1931])\n",
        "new_log['counter'] = range(len(new_log))"
      ],
      "execution_count": 377,
      "outputs": []
    },
    {
      "cell_type": "code",
      "metadata": {
        "id": "THQtld4jiY15"
      },
      "source": [
        "def workout_finder_fx(df, col, str_search, minutes, workout_type, *exclude):\n",
        "    w_o = list(df.loc[:, col].str.contains(str_search))\n",
        "    for idx, n in enumerate(w_o):\n",
        "        if n == None:\n",
        "            continue\n",
        "        elif n == True:\n",
        "            enough_to_exclude = 0\n",
        "            for e in exclude:\n",
        "                o2 = re.search(e, df[col].iloc[idx])\n",
        "                if o2:\n",
        "                    enough_to_exclude += 1\n",
        "            if enough_to_exclude < 1:\n",
        "                df['Workout_type'].iloc[idx] = workout_type\n",
        "                df['Workout_mins'].iloc[idx] = minutes\n",
        "    return df\n",
        "\n"
      ],
      "execution_count": 378,
      "outputs": []
    },
    {
      "cell_type": "code",
      "metadata": {
        "id": "gvI_UJ7HtFpq",
        "outputId": "8df70c26-90c9-482b-dcd7-d49cb873872c",
        "colab": {
          "base_uri": "https://localhost:8080/",
          "height": 544
        }
      },
      "source": [
        "ab_workout_incl_log = workout_finder_fx(new_log, 'Notes2', '[Aa]b [Ww]orkout', 20, 'abs')\n",
        "gym_workout_incl_log = workout_finder_fx(ab_workout_incl_log, 'Notes2', '[Ww]orkout',45, 'gym', '[Ss]wim', '[Aa]b')\n",
        "print(gym_workout_incl_log.iloc[1084])\n",
        "gym_workout_incl_log.iloc[1267]"
      ],
      "execution_count": 379,
      "outputs": [
        {
          "output_type": "stream",
          "text": [
            "Notes2              - mile warmup - 4.5 miles - dads loop - 3 mil...\n",
            "Mileage                                                          NaN\n",
            "Notes                                                            NaN\n",
            "Weekday                                                     Saturday\n",
            "Date                                                             NaN\n",
            "Mileage_init                                                     NaN\n",
            "length                                                             9\n",
            "counter                                                         1084\n",
            "Workout_type                                                    None\n",
            "Workout_mins                                                     NaN\n",
            "Swimming_meters                                                  NaN\n",
            "Bike_Mileage                                                     NaN\n",
            "Name: 1283, dtype: object\n"
          ],
          "name": "stdout"
        },
        {
          "output_type": "stream",
          "text": [
            "/usr/local/lib/python3.6/dist-packages/pandas/core/indexing.py:670: SettingWithCopyWarning: \n",
            "A value is trying to be set on a copy of a slice from a DataFrame\n",
            "\n",
            "See the caveats in the documentation: https://pandas.pydata.org/pandas-docs/stable/user_guide/indexing.html#returning-a-view-versus-a-copy\n",
            "  iloc._setitem_with_indexer(indexer, value)\n"
          ],
          "name": "stderr"
        },
        {
          "output_type": "execute_result",
          "data": {
            "text/plain": [
              "Notes2              - workout between classes\n",
              "Mileage                                   NaN\n",
              "Notes                                     NaN\n",
              "Weekday                              Thursday\n",
              "Date                                      NaN\n",
              "Mileage_init                              NaN\n",
              "length                                      0\n",
              "counter                                  1267\n",
              "Workout_type                              gym\n",
              "Workout_mins                               45\n",
              "Swimming_meters                           NaN\n",
              "Bike_Mileage                              NaN\n",
              "Name: 1492, dtype: object"
            ]
          },
          "metadata": {
            "tags": []
          },
          "execution_count": 379
        }
      ]
    },
    {
      "cell_type": "markdown",
      "metadata": {
        "id": "qA0LbwATM3cJ"
      },
      "source": [
        "Mileage Column"
      ]
    },
    {
      "cell_type": "code",
      "metadata": {
        "id": "lzfTK6j3X6zB",
        "outputId": "6e85d635-9d6c-457e-d53f-3ee454f7489c",
        "colab": {
          "base_uri": "https://localhost:8080/",
          "height": 238
        }
      },
      "source": [
        "gym_workout_incl_log.iloc[314]"
      ],
      "execution_count": 380,
      "outputs": [
        {
          "output_type": "execute_result",
          "data": {
            "text/plain": [
              "Notes2                                              \n",
              "Mileage             6 miles greystone then dads loop\n",
              "Notes                                            NaN\n",
              "Weekday                                     Saturday\n",
              "Date                                             NaN\n",
              "Mileage_init                                     NaN\n",
              "length                                             0\n",
              "counter                                          314\n",
              "Workout_type                                    None\n",
              "Workout_mins                                     NaN\n",
              "Swimming_meters                                  NaN\n",
              "Bike_Mileage                                     NaN\n",
              "Name: 376, dtype: object"
            ]
          },
          "metadata": {
            "tags": []
          },
          "execution_count": 380
        }
      ]
    },
    {
      "cell_type": "code",
      "metadata": {
        "id": "oe9bn5XuNS84",
        "outputId": "d63025ed-3b2a-4eb4-f4d2-b6d979feb48f",
        "colab": {
          "base_uri": "https://localhost:8080/",
          "height": 444
        }
      },
      "source": [
        "# might need to try out the \"try\" in a function to see if it can be converted to \n",
        "# an integer if not, then put the note into a separate column and delete it from\n",
        "# the mileage column\n",
        "def remove_mileage_notes_fx(df, col):\n",
        "    notes3_col = [''] * len(df[col])\n",
        "    list_col = list(df.loc[:, col])\n",
        "    for idx, a in enumerate(list_col):\n",
        "        try:\n",
        "            float_a = float(a)\n",
        "            df[col].iloc[idx] = float_a\n",
        "        except:\n",
        "            notes3_col[idx] = a\n",
        "            df[col].iloc[idx] = np.nan\n",
        "    df['Notes3'] = notes3_col\n",
        "    return df\n",
        "sep_notes_from_mileage_col = remove_mileage_notes_fx(gym_workout_incl_log, 'Mileage')\n",
        "sep_notes_from_mileage_col.head(10)"
      ],
      "execution_count": 381,
      "outputs": [
        {
          "output_type": "stream",
          "text": [
            "/usr/local/lib/python3.6/dist-packages/pandas/core/indexing.py:670: SettingWithCopyWarning: \n",
            "A value is trying to be set on a copy of a slice from a DataFrame\n",
            "\n",
            "See the caveats in the documentation: https://pandas.pydata.org/pandas-docs/stable/user_guide/indexing.html#returning-a-view-versus-a-copy\n",
            "  iloc._setitem_with_indexer(indexer, value)\n"
          ],
          "name": "stderr"
        },
        {
          "output_type": "execute_result",
          "data": {
            "text/html": [
              "<div>\n",
              "<style scoped>\n",
              "    .dataframe tbody tr th:only-of-type {\n",
              "        vertical-align: middle;\n",
              "    }\n",
              "\n",
              "    .dataframe tbody tr th {\n",
              "        vertical-align: top;\n",
              "    }\n",
              "\n",
              "    .dataframe thead th {\n",
              "        text-align: right;\n",
              "    }\n",
              "</style>\n",
              "<table border=\"1\" class=\"dataframe\">\n",
              "  <thead>\n",
              "    <tr style=\"text-align: right;\">\n",
              "      <th></th>\n",
              "      <th>Notes2</th>\n",
              "      <th>Mileage</th>\n",
              "      <th>Notes</th>\n",
              "      <th>Weekday</th>\n",
              "      <th>Date</th>\n",
              "      <th>Mileage_init</th>\n",
              "      <th>length</th>\n",
              "      <th>counter</th>\n",
              "      <th>Workout_type</th>\n",
              "      <th>Workout_mins</th>\n",
              "      <th>Swimming_meters</th>\n",
              "      <th>Bike_Mileage</th>\n",
              "      <th>Notes3</th>\n",
              "    </tr>\n",
              "  </thead>\n",
              "  <tbody>\n",
              "    <tr>\n",
              "      <th>0</th>\n",
              "      <td></td>\n",
              "      <td>NaN</td>\n",
              "      <td>4 miles 27:19 it was a little short. 3.8 mile...</td>\n",
              "      <td>Saturday</td>\n",
              "      <td>5/29/10</td>\n",
              "      <td>NaN</td>\n",
              "      <td>0</td>\n",
              "      <td>0</td>\n",
              "      <td>None</td>\n",
              "      <td>NaN</td>\n",
              "      <td>NaN</td>\n",
              "      <td>NaN</td>\n",
              "      <td></td>\n",
              "    </tr>\n",
              "    <tr>\n",
              "      <th>1</th>\n",
              "      <td></td>\n",
              "      <td>NaN</td>\n",
              "      <td>NaN</td>\n",
              "      <td>Monday</td>\n",
              "      <td>6/21/10</td>\n",
              "      <td>NaN</td>\n",
              "      <td>0</td>\n",
              "      <td>1</td>\n",
              "      <td>None</td>\n",
              "      <td>NaN</td>\n",
              "      <td>NaN</td>\n",
              "      <td>NaN</td>\n",
              "      <td>4 miles</td>\n",
              "    </tr>\n",
              "    <tr>\n",
              "      <th>2</th>\n",
              "      <td></td>\n",
              "      <td>NaN</td>\n",
              "      <td>Swimming_ 10 laps of freestyle_5 laps of backs...</td>\n",
              "      <td>Tuesday</td>\n",
              "      <td>6/22/10</td>\n",
              "      <td>NaN</td>\n",
              "      <td>0</td>\n",
              "      <td>2</td>\n",
              "      <td>None</td>\n",
              "      <td>NaN</td>\n",
              "      <td>NaN</td>\n",
              "      <td>NaN</td>\n",
              "      <td>4 miles</td>\n",
              "    </tr>\n",
              "    <tr>\n",
              "      <th>3</th>\n",
              "      <td></td>\n",
              "      <td>NaN</td>\n",
              "      <td>35 minutes_nan_nan_nan_nan_nan_nan_nan_nan_nan...</td>\n",
              "      <td>Wednesday</td>\n",
              "      <td>6/23/10</td>\n",
              "      <td>NaN</td>\n",
              "      <td>0</td>\n",
              "      <td>3</td>\n",
              "      <td>None</td>\n",
              "      <td>NaN</td>\n",
              "      <td>NaN</td>\n",
              "      <td>NaN</td>\n",
              "      <td>4.5 miles</td>\n",
              "    </tr>\n",
              "    <tr>\n",
              "      <th>4</th>\n",
              "      <td></td>\n",
              "      <td>5</td>\n",
              "      <td>NaN</td>\n",
              "      <td>Thursday</td>\n",
              "      <td>6/25/10</td>\n",
              "      <td>NaN</td>\n",
              "      <td>0</td>\n",
              "      <td>4</td>\n",
              "      <td>None</td>\n",
              "      <td>NaN</td>\n",
              "      <td>NaN</td>\n",
              "      <td>NaN</td>\n",
              "      <td></td>\n",
              "    </tr>\n",
              "    <tr>\n",
              "      <th>5</th>\n",
              "      <td></td>\n",
              "      <td>5</td>\n",
              "      <td>Swimming_ same as Tuesday_nan_nan_nan_nan_nan_...</td>\n",
              "      <td>Friday</td>\n",
              "      <td>6/26/10</td>\n",
              "      <td>NaN</td>\n",
              "      <td>0</td>\n",
              "      <td>5</td>\n",
              "      <td>None</td>\n",
              "      <td>NaN</td>\n",
              "      <td>NaN</td>\n",
              "      <td>NaN</td>\n",
              "      <td></td>\n",
              "    </tr>\n",
              "    <tr>\n",
              "      <th>6</th>\n",
              "      <td></td>\n",
              "      <td>6</td>\n",
              "      <td>41:04_nan_nan_nan_nan_nan_nan_nan_nan_nan_nan...</td>\n",
              "      <td>Saturday</td>\n",
              "      <td>6/27/10</td>\n",
              "      <td>NaN</td>\n",
              "      <td>0</td>\n",
              "      <td>6</td>\n",
              "      <td>None</td>\n",
              "      <td>NaN</td>\n",
              "      <td>NaN</td>\n",
              "      <td>NaN</td>\n",
              "      <td></td>\n",
              "    </tr>\n",
              "    <tr>\n",
              "      <th>8</th>\n",
              "      <td></td>\n",
              "      <td>4</td>\n",
              "      <td>28:04:00_5 total_nan_nan_nan_nan_nan_nan_nan_n...</td>\n",
              "      <td>Monday</td>\n",
              "      <td>6/28/10</td>\n",
              "      <td>NaN</td>\n",
              "      <td>0</td>\n",
              "      <td>7</td>\n",
              "      <td>None</td>\n",
              "      <td>NaN</td>\n",
              "      <td>NaN</td>\n",
              "      <td>NaN</td>\n",
              "      <td></td>\n",
              "    </tr>\n",
              "    <tr>\n",
              "      <th>9</th>\n",
              "      <td></td>\n",
              "      <td>5</td>\n",
              "      <td>NaN</td>\n",
              "      <td>Tuesday</td>\n",
              "      <td>6/29/10</td>\n",
              "      <td>NaN</td>\n",
              "      <td>0</td>\n",
              "      <td>8</td>\n",
              "      <td>None</td>\n",
              "      <td>NaN</td>\n",
              "      <td>NaN</td>\n",
              "      <td>NaN</td>\n",
              "      <td></td>\n",
              "    </tr>\n",
              "    <tr>\n",
              "      <th>10</th>\n",
              "      <td></td>\n",
              "      <td>5.5</td>\n",
              "      <td>Swimming_normal_nan_nan_nan_nan_nan_nan_nan_na...</td>\n",
              "      <td>Wednesday</td>\n",
              "      <td>6/30/10</td>\n",
              "      <td>NaN</td>\n",
              "      <td>0</td>\n",
              "      <td>9</td>\n",
              "      <td>None</td>\n",
              "      <td>NaN</td>\n",
              "      <td>NaN</td>\n",
              "      <td>NaN</td>\n",
              "      <td></td>\n",
              "    </tr>\n",
              "  </tbody>\n",
              "</table>\n",
              "</div>"
            ],
            "text/plain": [
              "   Notes2 Mileage  ... Bike_Mileage      Notes3\n",
              "0             NaN  ...          NaN            \n",
              "1             NaN  ...          NaN     4 miles\n",
              "2             NaN  ...          NaN     4 miles\n",
              "3             NaN  ...          NaN   4.5 miles\n",
              "4               5  ...          NaN            \n",
              "5               5  ...          NaN            \n",
              "6               6  ...          NaN            \n",
              "8               4  ...          NaN            \n",
              "9               5  ...          NaN            \n",
              "10            5.5  ...          NaN            \n",
              "\n",
              "[10 rows x 13 columns]"
            ]
          },
          "metadata": {
            "tags": []
          },
          "execution_count": 381
        }
      ]
    },
    {
      "cell_type": "markdown",
      "metadata": {
        "id": "CO_T5VnWYkFH"
      },
      "source": [
        "took all of the text that was in the mileage column and moved it to a separate column, and left any number that was purely a number and converted the column to be integers. "
      ]
    },
    {
      "cell_type": "code",
      "metadata": {
        "id": "xKeDD2T6YV2M"
      },
      "source": [
        "# now I need to go through the notes3 column and pull out any that have just mileage, \n",
        "#then I will need to go through and search those that have dates and other mess \n",
        "#in there, then I will need to apply the same functions to the Notes column"
      ],
      "execution_count": 382,
      "outputs": []
    },
    {
      "cell_type": "code",
      "metadata": {
        "id": "Zx_WCf5130Qa",
        "outputId": "5b849f8d-ca7c-4ec5-b0aa-e0d4fb7c6d76",
        "colab": {
          "base_uri": "https://localhost:8080/",
          "height": 419
        }
      },
      "source": [
        "findall_n_join_fx(sep_notes_from_mileage_col, 'Notes3', 'Date2', '\\d+/\\d+/\\d\\d')"
      ],
      "execution_count": 383,
      "outputs": [
        {
          "output_type": "execute_result",
          "data": {
            "text/html": [
              "<div>\n",
              "<style scoped>\n",
              "    .dataframe tbody tr th:only-of-type {\n",
              "        vertical-align: middle;\n",
              "    }\n",
              "\n",
              "    .dataframe tbody tr th {\n",
              "        vertical-align: top;\n",
              "    }\n",
              "\n",
              "    .dataframe thead th {\n",
              "        text-align: right;\n",
              "    }\n",
              "</style>\n",
              "<table border=\"1\" class=\"dataframe\">\n",
              "  <thead>\n",
              "    <tr style=\"text-align: right;\">\n",
              "      <th></th>\n",
              "      <th>Notes2</th>\n",
              "      <th>Mileage</th>\n",
              "      <th>Notes</th>\n",
              "      <th>Weekday</th>\n",
              "      <th>Date</th>\n",
              "      <th>Mileage_init</th>\n",
              "      <th>length</th>\n",
              "      <th>counter</th>\n",
              "      <th>Workout_type</th>\n",
              "      <th>Workout_mins</th>\n",
              "      <th>Swimming_meters</th>\n",
              "      <th>Bike_Mileage</th>\n",
              "      <th>Notes3</th>\n",
              "      <th>Date2</th>\n",
              "    </tr>\n",
              "  </thead>\n",
              "  <tbody>\n",
              "    <tr>\n",
              "      <th>0</th>\n",
              "      <td></td>\n",
              "      <td>NaN</td>\n",
              "      <td>4 miles 27:19 it was a little short. 3.8 mile...</td>\n",
              "      <td>Saturday</td>\n",
              "      <td>5/29/10</td>\n",
              "      <td>NaN</td>\n",
              "      <td>0</td>\n",
              "      <td>0</td>\n",
              "      <td>None</td>\n",
              "      <td>NaN</td>\n",
              "      <td>NaN</td>\n",
              "      <td>NaN</td>\n",
              "      <td></td>\n",
              "      <td></td>\n",
              "    </tr>\n",
              "    <tr>\n",
              "      <th>1</th>\n",
              "      <td></td>\n",
              "      <td>NaN</td>\n",
              "      <td>NaN</td>\n",
              "      <td>Monday</td>\n",
              "      <td>6/21/10</td>\n",
              "      <td>NaN</td>\n",
              "      <td>0</td>\n",
              "      <td>1</td>\n",
              "      <td>None</td>\n",
              "      <td>NaN</td>\n",
              "      <td>NaN</td>\n",
              "      <td>NaN</td>\n",
              "      <td>4 miles</td>\n",
              "      <td></td>\n",
              "    </tr>\n",
              "    <tr>\n",
              "      <th>2</th>\n",
              "      <td></td>\n",
              "      <td>NaN</td>\n",
              "      <td>Swimming_ 10 laps of freestyle_5 laps of backs...</td>\n",
              "      <td>Tuesday</td>\n",
              "      <td>6/22/10</td>\n",
              "      <td>NaN</td>\n",
              "      <td>0</td>\n",
              "      <td>2</td>\n",
              "      <td>None</td>\n",
              "      <td>NaN</td>\n",
              "      <td>NaN</td>\n",
              "      <td>NaN</td>\n",
              "      <td>4 miles</td>\n",
              "      <td></td>\n",
              "    </tr>\n",
              "    <tr>\n",
              "      <th>3</th>\n",
              "      <td></td>\n",
              "      <td>NaN</td>\n",
              "      <td>35 minutes_nan_nan_nan_nan_nan_nan_nan_nan_nan...</td>\n",
              "      <td>Wednesday</td>\n",
              "      <td>6/23/10</td>\n",
              "      <td>NaN</td>\n",
              "      <td>0</td>\n",
              "      <td>3</td>\n",
              "      <td>None</td>\n",
              "      <td>NaN</td>\n",
              "      <td>NaN</td>\n",
              "      <td>NaN</td>\n",
              "      <td>4.5 miles</td>\n",
              "      <td></td>\n",
              "    </tr>\n",
              "    <tr>\n",
              "      <th>4</th>\n",
              "      <td></td>\n",
              "      <td>5</td>\n",
              "      <td>NaN</td>\n",
              "      <td>Thursday</td>\n",
              "      <td>6/25/10</td>\n",
              "      <td>NaN</td>\n",
              "      <td>0</td>\n",
              "      <td>4</td>\n",
              "      <td>None</td>\n",
              "      <td>NaN</td>\n",
              "      <td>NaN</td>\n",
              "      <td>NaN</td>\n",
              "      <td></td>\n",
              "      <td></td>\n",
              "    </tr>\n",
              "    <tr>\n",
              "      <th>...</th>\n",
              "      <td>...</td>\n",
              "      <td>...</td>\n",
              "      <td>...</td>\n",
              "      <td>...</td>\n",
              "      <td>...</td>\n",
              "      <td>...</td>\n",
              "      <td>...</td>\n",
              "      <td>...</td>\n",
              "      <td>...</td>\n",
              "      <td>...</td>\n",
              "      <td>...</td>\n",
              "      <td>...</td>\n",
              "      <td>...</td>\n",
              "      <td>...</td>\n",
              "    </tr>\n",
              "    <tr>\n",
              "      <th>1978</th>\n",
              "      <td>- 10 miles</td>\n",
              "      <td>NaN</td>\n",
              "      <td>NaN</td>\n",
              "      <td>Sunday</td>\n",
              "      <td>NaN</td>\n",
              "      <td>10.0</td>\n",
              "      <td>1</td>\n",
              "      <td>1669</td>\n",
              "      <td>None</td>\n",
              "      <td>NaN</td>\n",
              "      <td>NaN</td>\n",
              "      <td>NaN</td>\n",
              "      <td></td>\n",
              "      <td></td>\n",
              "    </tr>\n",
              "    <tr>\n",
              "      <th>1980</th>\n",
              "      <td>-  - off</td>\n",
              "      <td>NaN</td>\n",
              "      <td>NaN</td>\n",
              "      <td>Monday</td>\n",
              "      <td>12/21/15</td>\n",
              "      <td>NaN</td>\n",
              "      <td>0</td>\n",
              "      <td>1670</td>\n",
              "      <td>None</td>\n",
              "      <td>NaN</td>\n",
              "      <td>NaN</td>\n",
              "      <td>NaN</td>\n",
              "      <td></td>\n",
              "      <td></td>\n",
              "    </tr>\n",
              "    <tr>\n",
              "      <th>1981</th>\n",
              "      <td>- I've failed. Not going to be able to run fo...</td>\n",
              "      <td>NaN</td>\n",
              "      <td>NaN</td>\n",
              "      <td>Tuesday</td>\n",
              "      <td>NaN</td>\n",
              "      <td>NaN</td>\n",
              "      <td>0</td>\n",
              "      <td>1671</td>\n",
              "      <td>None</td>\n",
              "      <td>NaN</td>\n",
              "      <td>NaN</td>\n",
              "      <td>NaN</td>\n",
              "      <td></td>\n",
              "      <td></td>\n",
              "    </tr>\n",
              "    <tr>\n",
              "      <th>1982</th>\n",
              "      <td>-  - 3 miles</td>\n",
              "      <td>NaN</td>\n",
              "      <td>NaN</td>\n",
              "      <td>Thursday</td>\n",
              "      <td>12/25/15</td>\n",
              "      <td>3.0</td>\n",
              "      <td>1</td>\n",
              "      <td>1672</td>\n",
              "      <td>None</td>\n",
              "      <td>NaN</td>\n",
              "      <td>NaN</td>\n",
              "      <td>NaN</td>\n",
              "      <td></td>\n",
              "      <td></td>\n",
              "    </tr>\n",
              "    <tr>\n",
              "      <th>1983</th>\n",
              "      <td>-  - 30 minutes biking - 9.5 miles</td>\n",
              "      <td>NaN</td>\n",
              "      <td>NaN</td>\n",
              "      <td>Thursday</td>\n",
              "      <td>12/31/15</td>\n",
              "      <td>NaN</td>\n",
              "      <td>2</td>\n",
              "      <td>1673</td>\n",
              "      <td>None</td>\n",
              "      <td>NaN</td>\n",
              "      <td>NaN</td>\n",
              "      <td>NaN</td>\n",
              "      <td></td>\n",
              "      <td></td>\n",
              "    </tr>\n",
              "  </tbody>\n",
              "</table>\n",
              "<p>1674 rows × 14 columns</p>\n",
              "</div>"
            ],
            "text/plain": [
              "                                                 Notes2  ... Date2\n",
              "0                                                        ...      \n",
              "1                                                        ...      \n",
              "2                                                        ...      \n",
              "3                                                        ...      \n",
              "4                                                        ...      \n",
              "...                                                 ...  ...   ...\n",
              "1978                                         - 10 miles  ...      \n",
              "1980                                           -  - off  ...      \n",
              "1981   - I've failed. Not going to be able to run fo...  ...      \n",
              "1982                                       -  - 3 miles  ...      \n",
              "1983                 -  - 30 minutes biking - 9.5 miles  ...      \n",
              "\n",
              "[1674 rows x 14 columns]"
            ]
          },
          "metadata": {
            "tags": []
          },
          "execution_count": 383
        }
      ]
    },
    {
      "cell_type": "code",
      "metadata": {
        "id": "AuYxdRm0LIWp",
        "outputId": "2b3f593b-3bf8-4094-f2b9-4826a2a9d5e8",
        "colab": {
          "base_uri": "https://localhost:8080/",
          "height": 35
        }
      },
      "source": [
        "sep_notes_from_mileage_col.Date.loc[34]"
      ],
      "execution_count": 384,
      "outputs": [
        {
          "output_type": "execute_result",
          "data": {
            "application/vnd.google.colaboratory.intrinsic+json": {
              "type": "string"
            },
            "text/plain": [
              "'7/28/10'"
            ]
          },
          "metadata": {
            "tags": []
          },
          "execution_count": 384
        }
      ]
    },
    {
      "cell_type": "code",
      "metadata": {
        "id": "TyNktNm-Cvx9"
      },
      "source": [
        "def date_finder_fx(df, new_date):\n",
        "    date_col = list(df[new_date])\n",
        "    for idx, date in enumerate(date_col):\n",
        "        try:\n",
        "            if math.isnan(date):\n",
        "                continue\n",
        "        except:\n",
        "            if date == '':\n",
        "                continue\n",
        "            try:\n",
        "                if math.isnan(df['Date'].iloc[idx]):\n",
        "                    df['Date'].iloc[idx] = date\n",
        "            except:\n",
        "                continue\n",
        "                "
      ],
      "execution_count": 385,
      "outputs": []
    },
    {
      "cell_type": "code",
      "metadata": {
        "id": "5o-ICFgOFudn",
        "outputId": "23797ce8-770b-476e-fa34-d33011a8f54c",
        "colab": {
          "base_uri": "https://localhost:8080/",
          "height": 102
        }
      },
      "source": [
        "date_finder_fx(sep_notes_from_mileage_col, 'Date2')"
      ],
      "execution_count": 386,
      "outputs": [
        {
          "output_type": "stream",
          "text": [
            "/usr/local/lib/python3.6/dist-packages/pandas/core/indexing.py:670: SettingWithCopyWarning: \n",
            "A value is trying to be set on a copy of a slice from a DataFrame\n",
            "\n",
            "See the caveats in the documentation: https://pandas.pydata.org/pandas-docs/stable/user_guide/indexing.html#returning-a-view-versus-a-copy\n",
            "  iloc._setitem_with_indexer(indexer, value)\n"
          ],
          "name": "stderr"
        }
      ]
    },
    {
      "cell_type": "code",
      "metadata": {
        "id": "-ioxXcXHYssZ",
        "outputId": "dfae20c3-11f8-4a3d-ad02-fc4b4241b793",
        "colab": {
          "base_uri": "https://localhost:8080/",
          "height": 374
        }
      },
      "source": [
        "sep_notes_from_mileage_col.info()"
      ],
      "execution_count": 387,
      "outputs": [
        {
          "output_type": "stream",
          "text": [
            "<class 'pandas.core.frame.DataFrame'>\n",
            "Int64Index: 1674 entries, 0 to 1983\n",
            "Data columns (total 14 columns):\n",
            " #   Column           Non-Null Count  Dtype  \n",
            "---  ------           --------------  -----  \n",
            " 0   Notes2           1616 non-null   object \n",
            " 1   Mileage          43 non-null     object \n",
            " 2   Notes            740 non-null    object \n",
            " 3   Weekday          1616 non-null   object \n",
            " 4   Date             292 non-null    object \n",
            " 5   Mileage_init     381 non-null    float64\n",
            " 6   length           1674 non-null   int64  \n",
            " 7   counter          1674 non-null   int64  \n",
            " 8   Workout_type     68 non-null     object \n",
            " 9   Workout_mins     68 non-null     float64\n",
            " 10  Swimming_meters  0 non-null      float64\n",
            " 11  Bike_Mileage     0 non-null      float64\n",
            " 12  Notes3           1674 non-null   object \n",
            " 13  Date2            1674 non-null   object \n",
            "dtypes: float64(4), int64(2), object(8)\n",
            "memory usage: 276.2+ KB\n"
          ],
          "name": "stdout"
        }
      ]
    },
    {
      "cell_type": "code",
      "metadata": {
        "id": "Vj3O8iha_Uye"
      },
      "source": [
        "sep_notes_from_mileage_col.loc[:, 'Notes'] = sep_notes_from_mileage_col.loc[:, 'Notes'].str.replace('_nan', '')"
      ],
      "execution_count": 388,
      "outputs": []
    },
    {
      "cell_type": "code",
      "metadata": {
        "id": "y3ojPpCDYNU0"
      },
      "source": [
        "sep_notes_from_mileage_col.loc[:, 'Notes'] = sep_notes_from_mileage_col.loc[:, 'Notes'].str.lower()\n",
        "sep_notes_from_mileage_col.loc[:, 'Notes2'] = sep_notes_from_mileage_col.loc[:, 'Notes2'].str.lower()\n",
        "sep_notes_from_mileage_col.loc[:, 'Notes3'] = sep_notes_from_mileage_col.loc[:, 'Notes3'].str.lower()"
      ],
      "execution_count": 389,
      "outputs": []
    },
    {
      "cell_type": "code",
      "metadata": {
        "id": "Y9kYHZ2aexO4"
      },
      "source": [
        "sep_notes_from_mileage_col['Mileage_init2'] = sep_notes_from_mileage_col.Notes3.str.findall('\\d+\\.?\\d* miles?')\n",
        "sep_notes_from_mileage_col.loc[:, 'Notes3'] = sep_notes_from_mileage_col.loc[:, 'Notes3'].str.replace('\\d+\\.?\\d* miles?', '')\n",
        "sep_notes_from_mileage_col['Mileage_init3'] = sep_notes_from_mileage_col.Notes.str.findall('\\d+\\.?\\d* miles?')\n",
        "sep_notes_from_mileage_col.loc[:, 'Notes'] = sep_notes_from_mileage_col.loc[:, 'Notes'].str.replace('\\d+\\.?\\d* miles?', '')\n",
        "sep_notes_from_mileage_col['Mileage_init4'] = sep_notes_from_mileage_col.Notes3.str.findall('\\d+\\.?\\d* total')\n",
        "sep_notes_from_mileage_col.loc[:, 'Notes3'] = sep_notes_from_mileage_col.loc[:, 'Notes3'].str.replace('\\d+\\.?\\d* total', '')\n",
        "sep_notes_from_mileage_col['Mileage_init5'] = sep_notes_from_mileage_col.Notes.str.findall('\\d+\\.?\\d* total')\n",
        "sep_notes_from_mileage_col.loc[:, 'Notes'] = sep_notes_from_mileage_col.loc[:, 'Notes'].str.replace('\\d+\\.?\\d* total', '')"
      ],
      "execution_count": 390,
      "outputs": []
    },
    {
      "cell_type": "code",
      "metadata": {
        "id": "isUaqCJ8etL7",
        "outputId": "dc1e69dd-0b25-47eb-9f7e-fa2f8161afba",
        "colab": {
          "base_uri": "https://localhost:8080/",
          "height": 527
        }
      },
      "source": [
        "gym_workout_incl_log2 = workout_finder_fx(sep_notes_from_mileage_col, 'Notes', 'workout', 45, 'gym', 'swim', 'ab','pool')\n",
        "gym_workout_incl_log2.info()"
      ],
      "execution_count": 391,
      "outputs": [
        {
          "output_type": "stream",
          "text": [
            "<class 'pandas.core.frame.DataFrame'>\n",
            "Int64Index: 1674 entries, 0 to 1983\n",
            "Data columns (total 18 columns):\n",
            " #   Column           Non-Null Count  Dtype  \n",
            "---  ------           --------------  -----  \n",
            " 0   Notes2           1616 non-null   object \n",
            " 1   Mileage          43 non-null     object \n",
            " 2   Notes            740 non-null    object \n",
            " 3   Weekday          1616 non-null   object \n",
            " 4   Date             292 non-null    object \n",
            " 5   Mileage_init     381 non-null    float64\n",
            " 6   length           1674 non-null   int64  \n",
            " 7   counter          1674 non-null   int64  \n",
            " 8   Workout_type     73 non-null     object \n",
            " 9   Workout_mins     73 non-null     float64\n",
            " 10  Swimming_meters  0 non-null      float64\n",
            " 11  Bike_Mileage     0 non-null      float64\n",
            " 12  Notes3           1674 non-null   object \n",
            " 13  Date2            1674 non-null   object \n",
            " 14  Mileage_init2    1674 non-null   object \n",
            " 15  Mileage_init3    740 non-null    object \n",
            " 16  Mileage_init4    1674 non-null   object \n",
            " 17  Mileage_init5    740 non-null    object \n",
            "dtypes: float64(4), int64(2), object(12)\n",
            "memory usage: 328.5+ KB\n"
          ],
          "name": "stdout"
        },
        {
          "output_type": "stream",
          "text": [
            "/usr/local/lib/python3.6/dist-packages/pandas/core/indexing.py:670: SettingWithCopyWarning: \n",
            "A value is trying to be set on a copy of a slice from a DataFrame\n",
            "\n",
            "See the caveats in the documentation: https://pandas.pydata.org/pandas-docs/stable/user_guide/indexing.html#returning-a-view-versus-a-copy\n",
            "  iloc._setitem_with_indexer(indexer, value)\n"
          ],
          "name": "stderr"
        }
      ]
    },
    {
      "cell_type": "code",
      "metadata": {
        "id": "cuEdXNJtf46b"
      },
      "source": [
        "def swim_workout_fx(df, col, str_search): \n",
        "    for s in str_search:\n",
        "        w_o2 = list(df.loc[:, col].str.contains(s))\n",
        "        for idx, w in enumerate(w_o2):\n",
        "            if w == None:\n",
        "                continue\n",
        "            elif w == True:\n",
        "                df['Swimming_meters'].iloc[idx] = 1600"
      ],
      "execution_count": 392,
      "outputs": []
    },
    {
      "cell_type": "code",
      "metadata": {
        "id": "c0n2AxLBlWZ9",
        "outputId": "aafd1801-e5bd-4ac1-c005-518c247633ce",
        "colab": {
          "base_uri": "https://localhost:8080/",
          "height": 527
        }
      },
      "source": [
        "swim_workout_fx(gym_workout_incl_log2, 'Notes', ['swim','pool'])\n",
        "swim_workout_fx(gym_workout_incl_log2, 'Notes2', ['swim','pool'])\n",
        "swim_workout_fx(gym_workout_incl_log2, 'Notes3', ['swim','pool'])\n",
        "gym_workout_incl_log2.info()"
      ],
      "execution_count": 393,
      "outputs": [
        {
          "output_type": "stream",
          "text": [
            "<class 'pandas.core.frame.DataFrame'>\n",
            "Int64Index: 1674 entries, 0 to 1983\n",
            "Data columns (total 18 columns):\n",
            " #   Column           Non-Null Count  Dtype  \n",
            "---  ------           --------------  -----  \n",
            " 0   Notes2           1616 non-null   object \n",
            " 1   Mileage          43 non-null     object \n",
            " 2   Notes            740 non-null    object \n",
            " 3   Weekday          1616 non-null   object \n",
            " 4   Date             292 non-null    object \n",
            " 5   Mileage_init     381 non-null    float64\n",
            " 6   length           1674 non-null   int64  \n",
            " 7   counter          1674 non-null   int64  \n",
            " 8   Workout_type     73 non-null     object \n",
            " 9   Workout_mins     73 non-null     float64\n",
            " 10  Swimming_meters  39 non-null     float64\n",
            " 11  Bike_Mileage     0 non-null      float64\n",
            " 12  Notes3           1674 non-null   object \n",
            " 13  Date2            1674 non-null   object \n",
            " 14  Mileage_init2    1674 non-null   object \n",
            " 15  Mileage_init3    740 non-null    object \n",
            " 16  Mileage_init4    1674 non-null   object \n",
            " 17  Mileage_init5    740 non-null    object \n",
            "dtypes: float64(4), int64(2), object(12)\n",
            "memory usage: 328.5+ KB\n"
          ],
          "name": "stdout"
        },
        {
          "output_type": "stream",
          "text": [
            "/usr/local/lib/python3.6/dist-packages/pandas/core/indexing.py:670: SettingWithCopyWarning: \n",
            "A value is trying to be set on a copy of a slice from a DataFrame\n",
            "\n",
            "See the caveats in the documentation: https://pandas.pydata.org/pandas-docs/stable/user_guide/indexing.html#returning-a-view-versus-a-copy\n",
            "  iloc._setitem_with_indexer(indexer, value)\n"
          ],
          "name": "stderr"
        }
      ]
    },
    {
      "cell_type": "code",
      "metadata": {
        "id": "A1KISFVDn6Zs"
      },
      "source": [
        "def mileage_finder_fx(df, init, total_or_miles):\n",
        "    multiple_miles = []\n",
        "    too_big = []\n",
        "    already_in_col = []\n",
        "    for idx, row in enumerate(df.loc[:, init]):\n",
        "        try:\n",
        "            if math.isnan(row):\n",
        "                continue\n",
        "        except:\n",
        "            if len(row) > 1:\n",
        "                multiple_miles.append(idx)\n",
        "            elif len(row) == 1:\n",
        "                mile_str = row[0].replace(total_or_miles, '')\n",
        "                try:\n",
        "                    mile_float = float(mile_str)\n",
        "                    if math.isnan(df['Mileage'].iloc[idx]):\n",
        "                        if mile_float > 27.2:\n",
        "                            too_big.append(idx)\n",
        "                        else:\n",
        "                            df['Mileage'].iloc[idx] = mile_float\n",
        "                    else:\n",
        "                        already_in_col.append(idx)\n",
        "                except:\n",
        "                    continue\n",
        "    return multiple_miles, too_big, already_in_col\n",
        "\n"
      ],
      "execution_count": 394,
      "outputs": []
    },
    {
      "cell_type": "code",
      "metadata": {
        "id": "kPH2xU9AKGdF",
        "outputId": "fd028641-6bae-49c9-8609-a96a84633f08",
        "colab": {
          "base_uri": "https://localhost:8080/",
          "height": 170
        }
      },
      "source": [
        "mm3, tb3, aic3 = mileage_finder_fx(gym_workout_incl_log2,'Mileage_init4','total')\n",
        "print(len(mm3),len(tb3),len(aic3))\n",
        "mm4, tb4, aic4 = mileage_finder_fx(gym_workout_incl_log2, 'Mileage_init5', 'total')\n",
        "print(len(mm4),len(tb4),len(aic4))\n",
        "mm, tb, aic = mileage_finder_fx(gym_workout_incl_log2,'Mileage_init2','miles')\n",
        "print(len(mm),len(tb),len(aic))\n",
        "mm2, tb2, aic2 = mileage_finder_fx(gym_workout_incl_log2, 'Mileage_init3', 'miles')\n",
        "print(len(mm2),len(tb2),len(aic2))"
      ],
      "execution_count": 395,
      "outputs": [
        {
          "output_type": "stream",
          "text": [
            "0 0 0\n",
            "1 0 3\n",
            "5 3 36\n",
            "67 0 89\n"
          ],
          "name": "stdout"
        },
        {
          "output_type": "stream",
          "text": [
            "/usr/local/lib/python3.6/dist-packages/pandas/core/indexing.py:670: SettingWithCopyWarning: \n",
            "A value is trying to be set on a copy of a slice from a DataFrame\n",
            "\n",
            "See the caveats in the documentation: https://pandas.pydata.org/pandas-docs/stable/user_guide/indexing.html#returning-a-view-versus-a-copy\n",
            "  iloc._setitem_with_indexer(indexer, value)\n"
          ],
          "name": "stderr"
        }
      ]
    },
    {
      "cell_type": "markdown",
      "metadata": {
        "id": "a1LWxdZR34m0"
      },
      "source": [
        "For each of the following I will be manually putting in the data to fix the issue since they are outliers in being able to conform nicely to a computer function. "
      ]
    },
    {
      "cell_type": "code",
      "metadata": {
        "id": "TgbUADL6Iv6b"
      },
      "source": [
        "comb = mm4 + aic4 + mm + tb + aic + mm2 + aic2\n",
        "comb_array = np.array(comb)\n",
        "comb_uni = np.unique(comb_array)"
      ],
      "execution_count": 396,
      "outputs": []
    },
    {
      "cell_type": "code",
      "metadata": {
        "id": "YmYf9_MJoUxV"
      },
      "source": [
        "time_added = gym_workout_incl_log2.copy()\n",
        "time_added.insert(2, 'Time', None)"
      ],
      "execution_count": 397,
      "outputs": []
    },
    {
      "cell_type": "code",
      "metadata": {
        "id": "iNiPYof06QRC"
      },
      "source": [
        "raw_string_added = pd.merge(time_added, raw_string2, how='left',left_index=True, right_index=True)"
      ],
      "execution_count": 398,
      "outputs": []
    },
    {
      "cell_type": "code",
      "metadata": {
        "id": "Toc9MdXBX0mX"
      },
      "source": [
        "def manual_input_desc(df, list_name):\n",
        "    for ind in list_name:\n",
        "        print(df[['Mileage','Bike_Mileage', 'Time','Weekday', 'Date','Workout_type', 'Workout_mins', 'Swimming_meters']].iloc[ind])\n",
        "        print('RAW: ', df['raw_note'].iloc[ind])"
      ],
      "execution_count": 399,
      "outputs": []
    },
    {
      "cell_type": "code",
      "metadata": {
        "id": "_nOocfx4X4x6"
      },
      "source": [
        "#manual_input_desc(raw_string_added, mm4)"
      ],
      "execution_count": 400,
      "outputs": []
    },
    {
      "cell_type": "code",
      "metadata": {
        "id": "FV6yD8MOX_vp"
      },
      "source": [
        "#manual_input_desc(raw_string_added, aic4)"
      ],
      "execution_count": 401,
      "outputs": []
    },
    {
      "cell_type": "code",
      "metadata": {
        "id": "iD_WZprv21zR"
      },
      "source": [
        "#manual_input_desc(raw_string_added, mm)"
      ],
      "execution_count": 402,
      "outputs": []
    },
    {
      "cell_type": "code",
      "metadata": {
        "id": "tnrGio1j42ps"
      },
      "source": [
        "#manual_input_desc(raw_string_added, tb)"
      ],
      "execution_count": 403,
      "outputs": []
    },
    {
      "cell_type": "code",
      "metadata": {
        "id": "erThyBqSYIcP"
      },
      "source": [
        "#manual_input_desc(raw_string_added, aic)"
      ],
      "execution_count": 404,
      "outputs": []
    },
    {
      "cell_type": "code",
      "metadata": {
        "id": "NCOhP1KvYTVp"
      },
      "source": [
        "#manual_input_desc(raw_string_added, mm2)"
      ],
      "execution_count": 405,
      "outputs": []
    },
    {
      "cell_type": "code",
      "metadata": {
        "id": "u6V8pLkIYWbS"
      },
      "source": [
        "#manual_input_desc(raw_string_added, aic2)"
      ],
      "execution_count": 406,
      "outputs": []
    },
    {
      "cell_type": "code",
      "metadata": {
        "id": "wxb9bnoXMCn_",
        "outputId": "303dcaea-dfcc-4191-c325-2dbc44ce0a6a",
        "colab": {
          "base_uri": "https://localhost:8080/",
          "height": 119
        }
      },
      "source": [
        "mil = list(raw_string_added.Mileage_init)\n",
        "multi = []\n",
        "for idx, m in enumerate(mil):\n",
        "    if math.isnan(m):\n",
        "        continue\n",
        "    elif math.isnan(raw_string_added['Mileage'].iloc[idx]):\n",
        "        raw_string_added['Mileage'].iloc[idx] = m\n",
        "    else:\n",
        "        multi.append(idx)\n",
        "len(multi)\n"
      ],
      "execution_count": 407,
      "outputs": [
        {
          "output_type": "stream",
          "text": [
            "/usr/local/lib/python3.6/dist-packages/pandas/core/indexing.py:670: SettingWithCopyWarning: \n",
            "A value is trying to be set on a copy of a slice from a DataFrame\n",
            "\n",
            "See the caveats in the documentation: https://pandas.pydata.org/pandas-docs/stable/user_guide/indexing.html#returning-a-view-versus-a-copy\n",
            "  iloc._setitem_with_indexer(indexer, value)\n"
          ],
          "name": "stderr"
        },
        {
          "output_type": "execute_result",
          "data": {
            "text/plain": [
              "0"
            ]
          },
          "metadata": {
            "tags": []
          },
          "execution_count": 407
        }
      ]
    },
    {
      "cell_type": "markdown",
      "metadata": {
        "id": "PxXz3U8VMNJA"
      },
      "source": [
        "Search for more data inside of the Notes columns"
      ]
    },
    {
      "cell_type": "code",
      "metadata": {
        "id": "HuHiPWMzeGd3"
      },
      "source": [
        "raw_string_added['Notes'] = raw_string_added['Notes'].replace(np.nan, '')\n",
        "raw_string_added['Notes2'] = raw_string_added['Notes2'].replace(np.nan, '')"
      ],
      "execution_count": 408,
      "outputs": []
    },
    {
      "cell_type": "code",
      "metadata": {
        "id": "NHTZeLmecRge",
        "outputId": "41b342f6-4cfc-4396-d867-782224b91104",
        "colab": {
          "base_uri": "https://localhost:8080/",
          "height": 394
        }
      },
      "source": [
        "raw_string_added['Notes_comb'] = raw_string_added['Notes'].str.cat(raw_string_added[['Notes2','Notes3']].astype(str), sep=\"_\")\n",
        "raw_string_added.head()"
      ],
      "execution_count": 409,
      "outputs": [
        {
          "output_type": "execute_result",
          "data": {
            "text/html": [
              "<div>\n",
              "<style scoped>\n",
              "    .dataframe tbody tr th:only-of-type {\n",
              "        vertical-align: middle;\n",
              "    }\n",
              "\n",
              "    .dataframe tbody tr th {\n",
              "        vertical-align: top;\n",
              "    }\n",
              "\n",
              "    .dataframe thead th {\n",
              "        text-align: right;\n",
              "    }\n",
              "</style>\n",
              "<table border=\"1\" class=\"dataframe\">\n",
              "  <thead>\n",
              "    <tr style=\"text-align: right;\">\n",
              "      <th></th>\n",
              "      <th>Notes2</th>\n",
              "      <th>Mileage</th>\n",
              "      <th>Time</th>\n",
              "      <th>Notes</th>\n",
              "      <th>Weekday</th>\n",
              "      <th>Date</th>\n",
              "      <th>Mileage_init</th>\n",
              "      <th>length</th>\n",
              "      <th>counter</th>\n",
              "      <th>Workout_type</th>\n",
              "      <th>Workout_mins</th>\n",
              "      <th>Swimming_meters</th>\n",
              "      <th>Bike_Mileage</th>\n",
              "      <th>Notes3</th>\n",
              "      <th>Date2</th>\n",
              "      <th>Mileage_init2</th>\n",
              "      <th>Mileage_init3</th>\n",
              "      <th>Mileage_init4</th>\n",
              "      <th>Mileage_init5</th>\n",
              "      <th>raw_note</th>\n",
              "      <th>Notes_comb</th>\n",
              "    </tr>\n",
              "  </thead>\n",
              "  <tbody>\n",
              "    <tr>\n",
              "      <th>0</th>\n",
              "      <td></td>\n",
              "      <td>NaN</td>\n",
              "      <td>None</td>\n",
              "      <td>27:19 it was a little short.</td>\n",
              "      <td>Saturday</td>\n",
              "      <td>5/29/10</td>\n",
              "      <td>NaN</td>\n",
              "      <td>0</td>\n",
              "      <td>0</td>\n",
              "      <td>None</td>\n",
              "      <td>NaN</td>\n",
              "      <td>NaN</td>\n",
              "      <td>NaN</td>\n",
              "      <td></td>\n",
              "      <td></td>\n",
              "      <td>[]</td>\n",
              "      <td>[4 miles, 3.8 miles]</td>\n",
              "      <td>[]</td>\n",
              "      <td>[]</td>\n",
              "      <td>Saturday 5/29/10 4 miles 27:19 it was a little...</td>\n",
              "      <td>27:19 it was a little short. _ _</td>\n",
              "    </tr>\n",
              "    <tr>\n",
              "      <th>1</th>\n",
              "      <td></td>\n",
              "      <td>4</td>\n",
              "      <td>None</td>\n",
              "      <td></td>\n",
              "      <td>Monday</td>\n",
              "      <td>6/21/10</td>\n",
              "      <td>NaN</td>\n",
              "      <td>0</td>\n",
              "      <td>1</td>\n",
              "      <td>None</td>\n",
              "      <td>NaN</td>\n",
              "      <td>NaN</td>\n",
              "      <td>NaN</td>\n",
              "      <td></td>\n",
              "      <td></td>\n",
              "      <td>[4 miles]</td>\n",
              "      <td>NaN</td>\n",
              "      <td>[]</td>\n",
              "      <td>NaN</td>\n",
              "      <td>Monday 6/21/10_ 4 miles</td>\n",
              "      <td>_ _</td>\n",
              "    </tr>\n",
              "    <tr>\n",
              "      <th>2</th>\n",
              "      <td></td>\n",
              "      <td>4</td>\n",
              "      <td>None</td>\n",
              "      <td>swimming_ 10 laps of freestyle_5 laps of backs...</td>\n",
              "      <td>Tuesday</td>\n",
              "      <td>6/22/10</td>\n",
              "      <td>NaN</td>\n",
              "      <td>0</td>\n",
              "      <td>2</td>\n",
              "      <td>None</td>\n",
              "      <td>NaN</td>\n",
              "      <td>1600.0</td>\n",
              "      <td>NaN</td>\n",
              "      <td></td>\n",
              "      <td></td>\n",
              "      <td>[4 miles]</td>\n",
              "      <td>[]</td>\n",
              "      <td>[]</td>\n",
              "      <td>[]</td>\n",
              "      <td>Tuesday 6/22/10_ 4 miles_Swimming_ 10 laps of ...</td>\n",
              "      <td>swimming_ 10 laps of freestyle_5 laps of backs...</td>\n",
              "    </tr>\n",
              "    <tr>\n",
              "      <th>3</th>\n",
              "      <td></td>\n",
              "      <td>4.5</td>\n",
              "      <td>None</td>\n",
              "      <td>35 minutes</td>\n",
              "      <td>Wednesday</td>\n",
              "      <td>6/23/10</td>\n",
              "      <td>NaN</td>\n",
              "      <td>0</td>\n",
              "      <td>3</td>\n",
              "      <td>None</td>\n",
              "      <td>NaN</td>\n",
              "      <td>NaN</td>\n",
              "      <td>NaN</td>\n",
              "      <td></td>\n",
              "      <td></td>\n",
              "      <td>[4.5 miles]</td>\n",
              "      <td>[]</td>\n",
              "      <td>[]</td>\n",
              "      <td>[]</td>\n",
              "      <td>Wednesday 6/23/10_ 4.5 miles_35 minutes</td>\n",
              "      <td>35 minutes_ _</td>\n",
              "    </tr>\n",
              "    <tr>\n",
              "      <th>4</th>\n",
              "      <td></td>\n",
              "      <td>5</td>\n",
              "      <td>None</td>\n",
              "      <td></td>\n",
              "      <td>Thursday</td>\n",
              "      <td>6/25/10</td>\n",
              "      <td>NaN</td>\n",
              "      <td>0</td>\n",
              "      <td>4</td>\n",
              "      <td>None</td>\n",
              "      <td>NaN</td>\n",
              "      <td>NaN</td>\n",
              "      <td>NaN</td>\n",
              "      <td></td>\n",
              "      <td></td>\n",
              "      <td>[]</td>\n",
              "      <td>NaN</td>\n",
              "      <td>[]</td>\n",
              "      <td>NaN</td>\n",
              "      <td>Thursday 6/25/10_ 5</td>\n",
              "      <td>_ _</td>\n",
              "    </tr>\n",
              "  </tbody>\n",
              "</table>\n",
              "</div>"
            ],
            "text/plain": [
              "  Notes2  ...                                         Notes_comb\n",
              "0         ...                   27:19 it was a little short. _ _\n",
              "1         ...                                               _ _ \n",
              "2         ...  swimming_ 10 laps of freestyle_5 laps of backs...\n",
              "3         ...                                     35 minutes_ _ \n",
              "4         ...                                                _ _\n",
              "\n",
              "[5 rows x 21 columns]"
            ]
          },
          "metadata": {
            "tags": []
          },
          "execution_count": 409
        }
      ]
    },
    {
      "cell_type": "code",
      "metadata": {
        "id": "5FzlFJWnc0Ax"
      },
      "source": [
        "raw_string_added['numbers'] = raw_string_added.Notes_comb.str.findall('\\d+\\.*\\d*')"
      ],
      "execution_count": 410,
      "outputs": []
    },
    {
      "cell_type": "code",
      "metadata": {
        "id": "aAir4dYCgY-p",
        "outputId": "1b7546b3-4a90-4c0a-d234-b4fa17baecda",
        "colab": {
          "base_uri": "https://localhost:8080/",
          "height": 34
        }
      },
      "source": [
        "greater_2 = []\n",
        "two = []\n",
        "one = []\n",
        "for idx, num in enumerate(raw_string_added.numbers):\n",
        "    if (len(num) > 2) and (idx not in comb_uni) and (math.isnan(raw_string_added['Mileage'].iloc[idx])):\n",
        "        greater_2.append(idx)\n",
        "    elif (len(num) == 2) and (idx not in comb_uni) and (math.isnan(raw_string_added['Mileage'].iloc[idx])):\n",
        "        two.append(idx)\n",
        "    elif (len(num) == 1) and (idx not in comb_uni) and (math.isnan(raw_string_added['Mileage'].iloc[idx])):\n",
        "        one.append(idx)\n",
        "print(len(greater_2), len(two), len(one))\n",
        "\n"
      ],
      "execution_count": 411,
      "outputs": [
        {
          "output_type": "stream",
          "text": [
            "129 78 59\n"
          ],
          "name": "stdout"
        }
      ]
    },
    {
      "cell_type": "code",
      "metadata": {
        "id": "QB79NkKJTwhd"
      },
      "source": [
        "#manual_input_desc(raw_string_added, greater_2)"
      ],
      "execution_count": 412,
      "outputs": []
    },
    {
      "cell_type": "code",
      "metadata": {
        "id": "0emmuEsihQ67"
      },
      "source": [
        "#manual_input_desc(raw_string_added, two)"
      ],
      "execution_count": 413,
      "outputs": []
    },
    {
      "cell_type": "code",
      "metadata": {
        "id": "NpHE1ShmhVpM"
      },
      "source": [
        "#manual_input_desc(raw_string_added, one)"
      ],
      "execution_count": 414,
      "outputs": []
    },
    {
      "cell_type": "markdown",
      "metadata": {
        "id": "1xZ9W1VJocoN"
      },
      "source": [
        "need to look at every row that is null for mileage and see whether it should be null or not"
      ]
    },
    {
      "cell_type": "code",
      "metadata": {
        "id": "CeUk8xwVqBex"
      },
      "source": [
        "l_comb_uni = list(comb_uni)"
      ],
      "execution_count": 415,
      "outputs": []
    },
    {
      "cell_type": "code",
      "metadata": {
        "id": "xYbd3Q0lpwp2"
      },
      "source": [
        "comb_2 = l_comb_uni + greater_2 + two + one"
      ],
      "execution_count": 416,
      "outputs": []
    },
    {
      "cell_type": "code",
      "metadata": {
        "id": "9sTTug9ao77S"
      },
      "source": [
        "missing_mileage = []\n",
        "for idx, w in enumerate(raw_string_added['Mileage']):\n",
        "    if (math.isnan(w)) and (idx not in comb_2):\n",
        "        missing_mileage.append(idx)"
      ],
      "execution_count": 417,
      "outputs": []
    },
    {
      "cell_type": "code",
      "metadata": {
        "id": "RnVX57H87ryf"
      },
      "source": [
        "manual_changes = {'Mileage': [[339,6.5],[8,5],[729,13],[23,6.5],[34,2],[53,8],[1247,21],[0,3.8],[43,6.5],[223,9],[373,5],[383,9],[514,9],[534,7],[542,13],[547,9],[551,7],[591,9],[756,9],[832,6],[901,10],\n",
        "                          [903,8],[908,10.5],[910,8.19],[924,11.5],[1074,8],[1099,9],[1102,13.1],[1107,8],[1108,11.3],[1114,11],[1122,7],[1247,21],[1255,26.2],[11,6],[16,5],[22,7],[32,9.25],[39,4],\n",
        "                          [55,6],[64,4],[88,5],[164,8],[20, 8],[50,4],[100,4.2],[102,8],[125,4.2],[181,8.5],[186, 12],[218,4],[222,8],[241,4],[252,5.5],[264,7],[304,10],[316,10.5],[337,8],[358,11],\n",
        "                          [359,8],[371,8],[394,4.2],[412,7.5],[419,5.5],[426,4],[428,6],[447,3],[493,9.5],[541,10.5],[543,5.5],[544,5],[560,9.5],[572,4.5],[582,9],[601,9.5],[670,6],[699,5.5],[714,11],\n",
        "                          [28,5.5],[181,8.5],[206,6],[303,2.5],[382,4],[483,10.5],[484,10.5],[486,13],[491,16],[498,16],[511,11.5],[537,7.5],[584,11],[587,9],[632,9.5],[642,4],[665,7.5],[25,4],[31,3.5],\n",
        "                          [137,6.5],[139,3],[202,2],[219,7.5],[285,6],[287,2.5],[289,5],[302,2.5],[326,3],[327,4.5],[332,1.5],[374,4.5],[379,4],[439,1],[443,3],[444,3],[445,3],[446,3],[450,3],[465,13],\n",
        "                          [472,15],[488,3],[490,10.5],[500,8.5],[540,7],[548,4.2],[605,2],[624,7.5],[636,4.5],[637,3],[643,5],[688,4.5],[738,8.5],[747,13],[750,19],[857,3],[862,2],[933,7],[978,4],[1093,4],\n",
        "                          [1100,8],[1127,1],[1130,2],[1243,13],[134,1],[233,3],[281,3],[469,10],[601,10],[966,1],[1670,0],[1685,1.5],[1061,0],[1277,0],[1522,1.2],[130,7.5],[1281,5],[1283,5.5],[1288,6],[1294,6.5],\n",
        "                          [1295,8],[1323,7],[1326,7],[1327,8],[1330,8],[1334,8],[1335,12],[1338,6],[1346,6],[1347,6],[1349,6],[1350,8],[1351,12],[1355,7],[1356,6.62],[1357,6],[1358,6],[1363,7],[1364,7],[1367,7],\n",
        "                          [1372,7],[1373,7],[1374,7],[1380,7],[1381,7],[1382,7],[1384,10],[1385,14],[1388,7],[1389,7],[1390,6],[1391,7],[1396,8],[1401,14],[1405,7],[1406,8],[1407,8],[1408,7],[1410,16],[1413,7],\n",
        "                          [1414,7],[1415,6.5],[1416,6.5],[1418,16],[1422,10],[1426,17],[1429,8],[1430,8],[1431,8],[1460,18],[1464,9],[1466,13],[1474,17],[1481,12],[1484,13],[1498,12],[1500,13],[1501,11],[1506,10],\n",
        "                          [1508,10],[1510,10],[1519,27.5],[1532,3],[1534,3],[1539,3],[1540,4],[1549,4],[1550,5],[1551,5],[1556,6.6],[1595,13],[1604,14.5],[1623,16],[1641,18],[1655,16],[1656,0],[1657,0],[1658,3],\n",
        "                          [1664,14],[1680,5],[1683,27.2],[1714,6],[1718,6],[1720,8],[1732,7],[1738,8],[1742,8],[1771,6],[1798,6],[1800,6],[1809,8],[1810,8],[1812,8],[1817,8],[1818,7],[1819,8],[1820,7],[1821,8],\n",
        "                          [1822,10.5],[1826,8],[1827,7],[1828,8],[1829,8],[1830,8],[1831,12],[1835,8],[1836,7],[1837,8.66],[1838,7],[1839,8],[1840,12],[1844,8.5],[1845,7],[1848,8],[1849,13],[1853,8.66],[1854,8],\n",
        "                          [1855,10.45],[1856,8.66],[1863,6],[1864,8],[1865,9],[1871,9],[1872,8.5],[1877,8],[1880,8],[1881,10],[1883,8],[1884,8],[1889,10],[1890,4],[1898,8],[1900,9],[1918,8],[1962,8],\n",
        "                          [1325,0],[1402,0],[1764,0],[1801,0],[1841,0],[1862,0],[1882,0],[1899,0],[1527,0],[72,0],[331,0],[333,0]], \n",
        "                  'Time': [[8, '28:04'],[23, '35:32'],[558,'40:00'],[357,'66:01'],[351,'70:00'],[166,'34:00'],[107,'75:00'],[90,'39:00'],[63,'53:40'],[61,'50:50'],[48,'42:59'],[40,'40:47'],[36,'19:42'],\n",
        "                           [17,'28:38'],[0,'27:19'],[11,'32:04'],[37,'47:13'], [20, '55:53'], [181,'64:00'],[186, '68:00'],[222,'56:37'],[316,'71:23'],[412,'16:31'],[582,'60:00'],[714,'61:10'],\n",
        "                           [181,'64:00'],[537,'51:00'],[584,'80:00'],[632,'66:00'],[642,'30:00'],[665,'60:00'],[31,'25:00'],[219,'54:00']],\n",
        "                  'Date': [[95, '9/20/10'], [110, '10/4/10'],[183,'1/3/11'],[4,'6/24/10'],[5,'6/25/10'],[6,'6/26/10'],[67,'8/30/10'],[913,'3/25/13'],[1005,'7/15/13'],[1480,'9/29/14'],[1677,'3/16/15'],\n",
        "                           [39,'8/2/10'],[46,'8/9/10'],[88,'9/13/10'],[130,'10/25/10'],[124,'10/18/10'],[180,'12/28/10'],[181,'1/1/11'],[102,'9/27/10'],[272,'5/8/11'],[343,'8/2/11'],[369,'8/28/11'],\n",
        "                           [624,'5/21/12'],[649,'6/18/12'],[1078,'9/17/13'],[1092,'10/1/13'],[1107,'10/15/13'],[1134,'11/19/13'],[1148,'12/3/13'],[1192,'1/14/14'],[1244,'3/5/14'],[1287,'4/22/14'],\n",
        "                           [1375,'7/4/14'],[1383,'7/11/14'],[1389,'7/16/14'],[1501,'10/17/14'],[1705,'5/21/15'],[1853,'9/7/15']],\n",
        "                  'Bike_Mileage': [[505,24],[1013,30],[1021,30],[1029,30],[54,14.9],[37,14.9],[328,20.7],[1362,102.21],[303,14.8],[405,30],[311,23],[452,37],[615,41],[353,20.5],[973,16],[1061,20.158],\n",
        "                                   [1371,82.190],[1395,82.629],[1462,42.131],[1277,54.8],[1338,19.8],[1345,101.83],[1346,21.334],[1347,32.497],[1349,19.783],[1354,20.391],[1355,40.865],[1356,20.401],\n",
        "                                   [1357,20.528],[1358,20.416],[1363,20.547],[1364,20.416],[1366,20.575],[1367,20.652],[1372,20.771],[1373,20.676],[1374,20.704],[1380,20.771],[1381,20.828],[1382,20.618],\n",
        "                                   [1388,20.510],[1389,20.712],[1390,20.691],[1391,20.716],[1405,20.510],[1406,20.014],[1407,19.361],[1408,20],[1413,20],[1414,20],[1415,21.067],[1416,22.590],[1422,10],\n",
        "                                   [1429,6],[1430,35],[1530,8.5],[1540,20],[1548,27.714],[1549,14],[1551,10],[1587,32.382],[1595,60],[1607,62.999],[1656,12],[1657,12],[1658,12],[1664,12],[1714,17],[1718,16],\n",
        "                                   [1720,14.09],[1732,16],[1738,15.79],[1742,15],[1798,20],[1800,20],[1809,20.609],[1810,21.251],[1812,2.166],[1814,30.188],[1817,4.787],[1818,22.259],[1819,8.435],[1820,24.222],\n",
        "                                   [1821,2.215],[1822,6.832],[1823,41.162],[1826,6.471],[1827,26.625],[1828,6.505],[1829,22.478],[1830,4.438],[1831,2.065],[1832,30.291],[1835,17.595],[1836,13.424],[1837,4.989],\n",
        "                                   [1838,12.681],[1839,4.231],[1840,11.938],[1844,10],[1845,11.859],[1848,4.363],[1849,2.063],[1853,2.063],[1854,4.338],[1855,15.486],[1856,4.569],[1857,22.312],[1863,5.596],\n",
        "                                   [1864,4.591],[1865,5.671],[1871,4.842],[1872,4.21],[1877,14.124],[1880,3.454],[1881,2.719],[1883,4.312],[1884,2.091],[1889,2.394],[1890,3.679],[1898,3.540],[1900,2.070],[1983,9.5],\n",
        "                                   [1325,55.1],[1402,53],[1764,15],[1801,40],[1841,1.25],[1862,6.362],[1882,4.474],[1899,2.93],[72,32],[331,31.526],[333,30.814]],\n",
        "                  'Swimming_meters': [[31,1600],[677,1600],[1525,1600],[1529,2100],[1532,2300],[1534,2300],[1539,2300],[1550,2300],[1551,2300],[1556,2300],[1527,1600],[1552,1600],[1560,1600],[1600,1600],[1609,1600],\n",
        "                                      [1611,1600],[1618,1600],[1620,1600],[1730,1600],[1740,1600],[1751,1600]],\n",
        "                  'Weekday': [[1982,'Friday'],[93,'Saturday'],[1859,'Sunday'],[1877,'Sunday']],\n",
        "                  'Workout_type': [[214,'gym'],[1431,'gym'],[1440,'gym'],[1457,'gym'],[1466,'gym'],[1474,'gym'],[1601,'gym']],\n",
        "                  'Workout_mins': [[214,30],[1440,60],[1457,60],[1601,60],[1431,120],[1466,60],[1474,60],[1481,60],[1500,60],[1530,60],[1540,60],[1551,60],[1595,60]]}"
      ],
      "execution_count": 418,
      "outputs": []
    },
    {
      "cell_type": "code",
      "metadata": {
        "id": "Bqu7g8eir-0a"
      },
      "source": [
        "raw_string_added.loc[102,'raw_note'] = raw_string_added.loc[102,'raw_note'] + raw_string_added.loc[103,'raw_note']\n",
        "raw_string_added = raw_string_added.drop(103)"
      ],
      "execution_count": 419,
      "outputs": []
    },
    {
      "cell_type": "code",
      "metadata": {
        "id": "_IL9tA69Ve1D"
      },
      "source": [
        "manual_inputs_df = raw_string_added.copy()"
      ],
      "execution_count": 420,
      "outputs": []
    },
    {
      "cell_type": "code",
      "metadata": {
        "id": "mGOpX0gGQPpO"
      },
      "source": [
        "def input_manual_fx(df, loc_dict):\n",
        "    for key, value in loc_dict.items():\n",
        "        for v in value:\n",
        "            df.loc[v[0], key] = v[1] "
      ],
      "execution_count": 421,
      "outputs": []
    },
    {
      "cell_type": "code",
      "metadata": {
        "id": "Zzbt4k0RWM1x"
      },
      "source": [
        "input_manual_fx(manual_inputs_df, manual_changes)"
      ],
      "execution_count": 422,
      "outputs": []
    },
    {
      "cell_type": "code",
      "metadata": {
        "id": "e-NcQDWpZnbD"
      },
      "source": [
        "manual_inputs_df['Mileage'] = manual_inputs_df['Mileage'].replace(np.nan, 0)"
      ],
      "execution_count": 423,
      "outputs": []
    },
    {
      "cell_type": "code",
      "metadata": {
        "id": "yMTbIoBDGuUP",
        "outputId": "981178a8-5e18-4da7-9295-e0e0d8061d5c",
        "colab": {
          "base_uri": "https://localhost:8080/",
          "height": 102
        }
      },
      "source": [
        "bike_notes = list(manual_inputs_df.Notes2.str.contains('bike total'))\n",
        "bike_totals = []\n",
        "for idx, b in enumerate(bike_notes):\n",
        "    if b is True:\n",
        "        try:\n",
        "            if math.isnan(manual_inputs_df.Bike_Mileage.iloc[idx]):\n",
        "                bike_totals.append(idx)\n",
        "        except:\n",
        "            continue\n",
        "for i_bike in bike_totals:\n",
        "    manual_inputs_df.Bike_Mileage.iloc[i_bike] = manual_inputs_df.Mileage.iloc[i_bike]\n",
        "    manual_inputs_df.Mileage.iloc[i_bike] = 0"
      ],
      "execution_count": 424,
      "outputs": [
        {
          "output_type": "stream",
          "text": [
            "/usr/local/lib/python3.6/dist-packages/pandas/core/indexing.py:670: SettingWithCopyWarning: \n",
            "A value is trying to be set on a copy of a slice from a DataFrame\n",
            "\n",
            "See the caveats in the documentation: https://pandas.pydata.org/pandas-docs/stable/user_guide/indexing.html#returning-a-view-versus-a-copy\n",
            "  iloc._setitem_with_indexer(indexer, value)\n"
          ],
          "name": "stderr"
        }
      ]
    },
    {
      "cell_type": "markdown",
      "metadata": {
        "id": "UPsND7RRWy19"
      },
      "source": [
        "#### Time to mess with the Date. "
      ]
    },
    {
      "cell_type": "code",
      "metadata": {
        "id": "hpktzHhxRrnW"
      },
      "source": [
        "date_list = list(manual_inputs_df.Date)\n",
        "differences = []\n",
        "indices =[]\n",
        "for idx, d in enumerate(date_list):\n",
        "    try:\n",
        "        if math.isnan(d):\n",
        "            continue\n",
        "    except:\n",
        "        if idx > 0:\n",
        "            indices.append(idx)\n",
        "        \n",
        "\n"
      ],
      "execution_count": 425,
      "outputs": []
    },
    {
      "cell_type": "code",
      "metadata": {
        "id": "oOjPR4jsLjUJ"
      },
      "source": [
        "manual_inputs_df.Date = pd.to_datetime(manual_inputs_df.Date, errors='coerce')"
      ],
      "execution_count": 426,
      "outputs": []
    },
    {
      "cell_type": "code",
      "metadata": {
        "id": "l1PBXRpRYFfF"
      },
      "source": [
        "differences = []\n",
        "for idx, da in enumerate(indices):\n",
        "    diff = manual_inputs_df['Date'].iloc[da] - manual_inputs_df['Date'].iloc[indices[idx - 1]]\n",
        "    day = diff.days\n",
        "    if day is not 7:\n",
        "        diff_list = [day, da, idx]\n",
        "        differences.append(diff_list)\n"
      ],
      "execution_count": 427,
      "outputs": []
    },
    {
      "cell_type": "code",
      "metadata": {
        "id": "h7G9OhAVXIMd"
      },
      "source": [
        "new_list = []\n",
        "for dates in manual_inputs_df['Date']:\n",
        "    dayofweek = dates.weekday()\n",
        "\n",
        "    if math.isnan(dayofweek):\n",
        "        new_list.append(np.nan)\n",
        "    else:\n",
        "        new_list.append(calendar.day_name[dayofweek])\n",
        "manual_inputs_df['dayofweekcheck'] = new_list"
      ],
      "execution_count": 428,
      "outputs": []
    },
    {
      "cell_type": "code",
      "metadata": {
        "id": "dLVFRDqeV-jw",
        "outputId": "73e9e37c-e8ff-4cc9-9d07-41a4ccdf10b8",
        "colab": {
          "base_uri": "https://localhost:8080/",
          "height": 34
        }
      },
      "source": [
        "wrong_day_of_week = []\n",
        "for idx, dayof in enumerate(manual_inputs_df.dayofweekcheck):\n",
        "    try:\n",
        "        if math.isnan(dayof):\n",
        "            continue\n",
        "    except:\n",
        "        if manual_inputs_df.Weekday.iloc[idx] != manual_inputs_df.dayofweekcheck.iloc[idx]:\n",
        "            pos_correct = manual_inputs_df.Weekday.iloc[idx]\n",
        "            day_list = [idx, dayof, pos_correct]\n",
        "            wrong_day_of_week.append(day_list)\n",
        "wrong_day_of_week\n"
      ],
      "execution_count": 429,
      "outputs": [
        {
          "output_type": "execute_result",
          "data": {
            "text/plain": [
              "[]"
            ]
          },
          "metadata": {
            "tags": []
          },
          "execution_count": 429
        }
      ]
    },
    {
      "cell_type": "code",
      "metadata": {
        "id": "UcfY_f01l6yW"
      },
      "source": [
        "# now I need to use fillna to fill in all of the NaT's, but I will need to go and check all of the differences above, that are listed below, \n",
        "# and look at the surrounding 20 to make sure that the dates are correct. "
      ],
      "execution_count": 430,
      "outputs": []
    },
    {
      "cell_type": "code",
      "metadata": {
        "id": "QlD7wIFUhauH",
        "outputId": "a4dc4f4c-d711-4b3a-9bad-d5bc6f6acf1e",
        "colab": {
          "base_uri": "https://localhost:8080/",
          "height": 306
        }
      },
      "source": [
        "for idx, row in enumerate(manual_inputs_df.Date):\n",
        "    if (pd.isnull(row)) and (bike_notes[idx] != True):\n",
        "        prev = manual_inputs_df.Date.iloc[idx - 1]\n",
        "        manual_inputs_df.Date.iloc[idx] = prev + timedelta(days = 1)\n",
        "manual_inputs_df.Date"
      ],
      "execution_count": 431,
      "outputs": [
        {
          "output_type": "stream",
          "text": [
            "/usr/local/lib/python3.6/dist-packages/pandas/core/indexing.py:670: SettingWithCopyWarning: \n",
            "A value is trying to be set on a copy of a slice from a DataFrame\n",
            "\n",
            "See the caveats in the documentation: https://pandas.pydata.org/pandas-docs/stable/user_guide/indexing.html#returning-a-view-versus-a-copy\n",
            "  iloc._setitem_with_indexer(indexer, value)\n"
          ],
          "name": "stderr"
        },
        {
          "output_type": "execute_result",
          "data": {
            "text/plain": [
              "0      2010-05-29\n",
              "1      2010-06-21\n",
              "2      2010-06-22\n",
              "3      2010-06-23\n",
              "4      2010-06-24\n",
              "          ...    \n",
              "1978   2015-12-20\n",
              "1980   2015-12-21\n",
              "1981   2015-12-22\n",
              "1982   2015-12-25\n",
              "1983   2015-12-31\n",
              "Name: Date, Length: 1673, dtype: datetime64[ns]"
            ]
          },
          "metadata": {
            "tags": []
          },
          "execution_count": 431
        }
      ]
    },
    {
      "cell_type": "code",
      "metadata": {
        "id": "BaqzbsohVt_c"
      },
      "source": [
        "diff_idx = 0"
      ],
      "execution_count": 432,
      "outputs": []
    },
    {
      "cell_type": "code",
      "metadata": {
        "id": "y7nRH1LWYEip"
      },
      "source": [
        "diff_idx = diff_idx + 1\n",
        "diff_value = differences[diff_idx][1]\n",
        "idx_lower = diff_value - 15\n",
        "\n",
        "idx_upper = diff_value + 15\n",
        "if (diff_value >= 15) and (diff_value <= 1702):\n",
        "    a = manual_inputs_df.iloc[idx_lower:idx_upper]\n",
        "    \n",
        "elif diff_value <15:\n",
        "    a = manual_inputs_df.iloc[:idx_upper]\n",
        "    \n",
        "else:\n",
        "    a = manual_inputs_df.iloc[idx_lower:]\n"
      ],
      "execution_count": 433,
      "outputs": []
    },
    {
      "cell_type": "code",
      "metadata": {
        "id": "kNRyMiuaWF-H"
      },
      "source": [
        "#fix the data issue above as well with having to import a new csv file. "
      ],
      "execution_count": 434,
      "outputs": []
    },
    {
      "cell_type": "code",
      "metadata": {
        "id": "qYBbUsHWGf8a",
        "outputId": "b710097a-65c5-4c3a-dd4a-0e8ab2d9dac6",
        "colab": {
          "base_uri": "https://localhost:8080/",
          "height": 289
        }
      },
      "source": [
        "pre_garmin_edited = manual_inputs_df.drop(['Notes2', 'Notes','Mileage_init', 'length','counter', 'Notes3','Date2','Mileage_init2',\n",
        "                                           'Mileage_init3', 'Mileage_init4','Mileage_init5','numbers','dayofweekcheck','Notes_comb'], axis=1)\n",
        "pre_garmin_edited.info()"
      ],
      "execution_count": 435,
      "outputs": [
        {
          "output_type": "stream",
          "text": [
            "<class 'pandas.core.frame.DataFrame'>\n",
            "Int64Index: 1673 entries, 0 to 1983\n",
            "Data columns (total 9 columns):\n",
            " #   Column           Non-Null Count  Dtype         \n",
            "---  ------           --------------  -----         \n",
            " 0   Mileage          1673 non-null   float64       \n",
            " 1   Time             32 non-null     object        \n",
            " 2   Weekday          1617 non-null   object        \n",
            " 3   Date             1618 non-null   datetime64[ns]\n",
            " 4   Workout_type     79 non-null     object        \n",
            " 5   Workout_mins     79 non-null     float64       \n",
            " 6   Swimming_meters  41 non-null     float64       \n",
            " 7   Bike_Mileage     179 non-null    float64       \n",
            " 8   raw_note         1673 non-null   object        \n",
            "dtypes: datetime64[ns](1), float64(4), object(4)\n",
            "memory usage: 210.7+ KB\n"
          ],
          "name": "stdout"
        }
      ]
    },
    {
      "cell_type": "code",
      "metadata": {
        "id": "mRnyvij-oiOj",
        "outputId": "0b72be1a-f5ba-4dca-95f0-dd330a675989",
        "colab": {
          "base_uri": "https://localhost:8080/",
          "height": 170
        }
      },
      "source": [
        "pgcols = pre_garmin_edited.columns.to_list()\n",
        "pgcols"
      ],
      "execution_count": 438,
      "outputs": [
        {
          "output_type": "execute_result",
          "data": {
            "text/plain": [
              "['Mileage',\n",
              " 'Time',\n",
              " 'Weekday',\n",
              " 'Date',\n",
              " 'Workout_type',\n",
              " 'Workout_mins',\n",
              " 'Swimming_meters',\n",
              " 'Bike_Mileage',\n",
              " 'raw_note']"
            ]
          },
          "metadata": {
            "tags": []
          },
          "execution_count": 438
        }
      ]
    },
    {
      "cell_type": "code",
      "metadata": {
        "id": "kmUCoX2SpBFY"
      },
      "source": [
        "pre_garmin_edited = pre_garmin_edited[['Weekday', 'Date','Mileage', 'Time', 'Workout_type','Workout_mins', 'Swimming_meters','Bike_Mileage', 'raw_note']]"
      ],
      "execution_count": 444,
      "outputs": []
    },
    {
      "cell_type": "code",
      "metadata": {
        "id": "i5cVhIpspTIM",
        "outputId": "59462d69-6a60-4971-adb5-e858b0963938",
        "colab": {
          "base_uri": "https://localhost:8080/",
          "height": 204
        }
      },
      "source": [
        "pre_garmin_edited.head()"
      ],
      "execution_count": 445,
      "outputs": [
        {
          "output_type": "execute_result",
          "data": {
            "text/html": [
              "<div>\n",
              "<style scoped>\n",
              "    .dataframe tbody tr th:only-of-type {\n",
              "        vertical-align: middle;\n",
              "    }\n",
              "\n",
              "    .dataframe tbody tr th {\n",
              "        vertical-align: top;\n",
              "    }\n",
              "\n",
              "    .dataframe thead th {\n",
              "        text-align: right;\n",
              "    }\n",
              "</style>\n",
              "<table border=\"1\" class=\"dataframe\">\n",
              "  <thead>\n",
              "    <tr style=\"text-align: right;\">\n",
              "      <th></th>\n",
              "      <th>Weekday</th>\n",
              "      <th>Date</th>\n",
              "      <th>Mileage</th>\n",
              "      <th>Time</th>\n",
              "      <th>Workout_type</th>\n",
              "      <th>Workout_mins</th>\n",
              "      <th>Swimming_meters</th>\n",
              "      <th>Bike_Mileage</th>\n",
              "      <th>raw_note</th>\n",
              "    </tr>\n",
              "  </thead>\n",
              "  <tbody>\n",
              "    <tr>\n",
              "      <th>0</th>\n",
              "      <td>Saturday</td>\n",
              "      <td>2010-05-29</td>\n",
              "      <td>3.8</td>\n",
              "      <td>27:19</td>\n",
              "      <td>None</td>\n",
              "      <td>NaN</td>\n",
              "      <td>NaN</td>\n",
              "      <td>NaN</td>\n",
              "      <td>Saturday 5/29/10 4 miles 27:19 it was a little...</td>\n",
              "    </tr>\n",
              "    <tr>\n",
              "      <th>1</th>\n",
              "      <td>Monday</td>\n",
              "      <td>2010-06-21</td>\n",
              "      <td>4.0</td>\n",
              "      <td>None</td>\n",
              "      <td>None</td>\n",
              "      <td>NaN</td>\n",
              "      <td>NaN</td>\n",
              "      <td>NaN</td>\n",
              "      <td>Monday 6/21/10_ 4 miles</td>\n",
              "    </tr>\n",
              "    <tr>\n",
              "      <th>2</th>\n",
              "      <td>Tuesday</td>\n",
              "      <td>2010-06-22</td>\n",
              "      <td>4.0</td>\n",
              "      <td>None</td>\n",
              "      <td>None</td>\n",
              "      <td>NaN</td>\n",
              "      <td>1600.0</td>\n",
              "      <td>NaN</td>\n",
              "      <td>Tuesday 6/22/10_ 4 miles_Swimming_ 10 laps of ...</td>\n",
              "    </tr>\n",
              "    <tr>\n",
              "      <th>3</th>\n",
              "      <td>Wednesday</td>\n",
              "      <td>2010-06-23</td>\n",
              "      <td>4.5</td>\n",
              "      <td>None</td>\n",
              "      <td>None</td>\n",
              "      <td>NaN</td>\n",
              "      <td>NaN</td>\n",
              "      <td>NaN</td>\n",
              "      <td>Wednesday 6/23/10_ 4.5 miles_35 minutes</td>\n",
              "    </tr>\n",
              "    <tr>\n",
              "      <th>4</th>\n",
              "      <td>Thursday</td>\n",
              "      <td>2010-06-24</td>\n",
              "      <td>5.0</td>\n",
              "      <td>None</td>\n",
              "      <td>None</td>\n",
              "      <td>NaN</td>\n",
              "      <td>NaN</td>\n",
              "      <td>NaN</td>\n",
              "      <td>Thursday 6/25/10_ 5</td>\n",
              "    </tr>\n",
              "  </tbody>\n",
              "</table>\n",
              "</div>"
            ],
            "text/plain": [
              "     Weekday  ...                                           raw_note\n",
              "0   Saturday  ...  Saturday 5/29/10 4 miles 27:19 it was a little...\n",
              "1     Monday  ...                            Monday 6/21/10_ 4 miles\n",
              "2    Tuesday  ...  Tuesday 6/22/10_ 4 miles_Swimming_ 10 laps of ...\n",
              "3  Wednesday  ...            Wednesday 6/23/10_ 4.5 miles_35 minutes\n",
              "4   Thursday  ...                               Thursday 6/25/10_ 5 \n",
              "\n",
              "[5 rows x 9 columns]"
            ]
          },
          "metadata": {
            "tags": []
          },
          "execution_count": 445
        }
      ]
    },
    {
      "cell_type": "code",
      "metadata": {
        "id": "uU7ibvEUmEe1"
      },
      "source": [
        "pre_garmin_edited.to_csv(\"/content/drive/My Drive/edited_pre_garmin.csv\")"
      ],
      "execution_count": 446,
      "outputs": []
    },
    {
      "cell_type": "code",
      "metadata": {
        "id": "-UIp9L60nNfO",
        "outputId": "01ab93ac-fa94-4baa-da5b-a323ab1985a3",
        "colab": {
          "base_uri": "https://localhost:8080/",
          "height": 297
        }
      },
      "source": [
        "pre_garmin_edited = pd.read_csv(\"/content/drive/My Drive/edited_pre_garmin.csv\",index_col=0)\n",
        "pre_garmin_edited.describe()"
      ],
      "execution_count": 11,
      "outputs": [
        {
          "output_type": "execute_result",
          "data": {
            "text/html": [
              "<div>\n",
              "<style scoped>\n",
              "    .dataframe tbody tr th:only-of-type {\n",
              "        vertical-align: middle;\n",
              "    }\n",
              "\n",
              "    .dataframe tbody tr th {\n",
              "        vertical-align: top;\n",
              "    }\n",
              "\n",
              "    .dataframe thead th {\n",
              "        text-align: right;\n",
              "    }\n",
              "</style>\n",
              "<table border=\"1\" class=\"dataframe\">\n",
              "  <thead>\n",
              "    <tr style=\"text-align: right;\">\n",
              "      <th></th>\n",
              "      <th>Mileage</th>\n",
              "      <th>Workout_mins</th>\n",
              "      <th>Swimming_meters</th>\n",
              "      <th>Bike_Mileage</th>\n",
              "    </tr>\n",
              "  </thead>\n",
              "  <tbody>\n",
              "    <tr>\n",
              "      <th>count</th>\n",
              "      <td>1673.000000</td>\n",
              "      <td>79.000000</td>\n",
              "      <td>41.000000</td>\n",
              "      <td>179.000000</td>\n",
              "    </tr>\n",
              "    <tr>\n",
              "      <th>mean</th>\n",
              "      <td>6.640612</td>\n",
              "      <td>42.468354</td>\n",
              "      <td>1714.634146</td>\n",
              "      <td>23.967492</td>\n",
              "    </tr>\n",
              "    <tr>\n",
              "      <th>std</th>\n",
              "      <td>4.087418</td>\n",
              "      <td>15.377169</td>\n",
              "      <td>257.449971</td>\n",
              "      <td>20.731165</td>\n",
              "    </tr>\n",
              "    <tr>\n",
              "      <th>min</th>\n",
              "      <td>0.000000</td>\n",
              "      <td>20.000000</td>\n",
              "      <td>1600.000000</td>\n",
              "      <td>0.000000</td>\n",
              "    </tr>\n",
              "    <tr>\n",
              "      <th>25%</th>\n",
              "      <td>4.000000</td>\n",
              "      <td>45.000000</td>\n",
              "      <td>1600.000000</td>\n",
              "      <td>11.898500</td>\n",
              "    </tr>\n",
              "    <tr>\n",
              "      <th>50%</th>\n",
              "      <td>7.000000</td>\n",
              "      <td>45.000000</td>\n",
              "      <td>1600.000000</td>\n",
              "      <td>20.000000</td>\n",
              "    </tr>\n",
              "    <tr>\n",
              "      <th>75%</th>\n",
              "      <td>9.000000</td>\n",
              "      <td>45.000000</td>\n",
              "      <td>1600.000000</td>\n",
              "      <td>30.000000</td>\n",
              "    </tr>\n",
              "    <tr>\n",
              "      <th>max</th>\n",
              "      <td>27.500000</td>\n",
              "      <td>120.000000</td>\n",
              "      <td>2300.000000</td>\n",
              "      <td>102.210000</td>\n",
              "    </tr>\n",
              "  </tbody>\n",
              "</table>\n",
              "</div>"
            ],
            "text/plain": [
              "           Mileage  Workout_mins  Swimming_meters  Bike_Mileage\n",
              "count  1673.000000     79.000000        41.000000    179.000000\n",
              "mean      6.640612     42.468354      1714.634146     23.967492\n",
              "std       4.087418     15.377169       257.449971     20.731165\n",
              "min       0.000000     20.000000      1600.000000      0.000000\n",
              "25%       4.000000     45.000000      1600.000000     11.898500\n",
              "50%       7.000000     45.000000      1600.000000     20.000000\n",
              "75%       9.000000     45.000000      1600.000000     30.000000\n",
              "max      27.500000    120.000000      2300.000000    102.210000"
            ]
          },
          "metadata": {
            "tags": []
          },
          "execution_count": 11
        }
      ]
    },
    {
      "cell_type": "code",
      "metadata": {
        "id": "-mnRHGfsoaL-",
        "outputId": "d6a1e58f-5a36-4928-9c23-f5287ee3c95f",
        "colab": {
          "base_uri": "https://localhost:8080/",
          "height": 85
        }
      },
      "source": [
        "print('Total Running Mileage:  ', pre_garmin_edited.Mileage.sum())\n",
        "print('Total Bike Mileage:    ', pre_garmin_edited.Bike_Mileage.sum())\n",
        "print('Total Workout Minutes:   ', pre_garmin_edited.Workout_mins.sum())\n",
        "print('Total Swimming Meters:   ', pre_garmin_edited.Swimming_meters.sum())"
      ],
      "execution_count": 12,
      "outputs": [
        {
          "output_type": "stream",
          "text": [
            "Total Running Mileage:   11109.743999999999\n",
            "Total Bike Mileage:     4290.1810000000005\n",
            "Total Workout Minutes:    3355.0\n",
            "Total Swimming Meters:    70300.0\n"
          ],
          "name": "stdout"
        }
      ]
    },
    {
      "cell_type": "markdown",
      "metadata": {
        "id": "PXYXo8VXsY43"
      },
      "source": [
        "## Visualizations"
      ]
    },
    {
      "cell_type": "code",
      "metadata": {
        "id": "EUTVKFXxr1e0",
        "outputId": "afab64a4-8fa4-42f0-8244-0176eebcc9c9",
        "colab": {
          "base_uri": "https://localhost:8080/",
          "height": 1000
        }
      },
      "source": [
        "plt.rcParams[\"figure.figsize\"] = (50,50)\n",
        "plt.rcParams[\"font.size\"] = 32.0\n",
        "plt.plot(pre_garmin_edited.Date, pre_garmin_edited.Mileage)\n",
        "plt.show()"
      ],
      "execution_count": 13,
      "outputs": [
        {
          "output_type": "error",
          "ename": "TypeError",
          "evalue": "ignored",
          "traceback": [
            "\u001b[0;31m---------------------------------------------------------------------------\u001b[0m",
            "\u001b[0;31mTypeError\u001b[0m                                 Traceback (most recent call last)",
            "\u001b[0;32m<ipython-input-13-26134faee401>\u001b[0m in \u001b[0;36m<module>\u001b[0;34m()\u001b[0m\n\u001b[1;32m      1\u001b[0m \u001b[0mplt\u001b[0m\u001b[0;34m.\u001b[0m\u001b[0mrcParams\u001b[0m\u001b[0;34m[\u001b[0m\u001b[0;34m\"figure.figsize\"\u001b[0m\u001b[0;34m]\u001b[0m \u001b[0;34m=\u001b[0m \u001b[0;34m(\u001b[0m\u001b[0;36m50\u001b[0m\u001b[0;34m,\u001b[0m\u001b[0;36m50\u001b[0m\u001b[0;34m)\u001b[0m\u001b[0;34m\u001b[0m\u001b[0;34m\u001b[0m\u001b[0m\n\u001b[1;32m      2\u001b[0m \u001b[0mplt\u001b[0m\u001b[0;34m.\u001b[0m\u001b[0mrcParams\u001b[0m\u001b[0;34m[\u001b[0m\u001b[0;34m\"font.size\"\u001b[0m\u001b[0;34m]\u001b[0m \u001b[0;34m=\u001b[0m \u001b[0;36m32.0\u001b[0m\u001b[0;34m\u001b[0m\u001b[0;34m\u001b[0m\u001b[0m\n\u001b[0;32m----> 3\u001b[0;31m \u001b[0mplt\u001b[0m\u001b[0;34m.\u001b[0m\u001b[0mplot\u001b[0m\u001b[0;34m(\u001b[0m\u001b[0mpre_garmin_edited\u001b[0m\u001b[0;34m.\u001b[0m\u001b[0mDate\u001b[0m\u001b[0;34m,\u001b[0m\u001b[0mpre_garmin_edited\u001b[0m\u001b[0;34m.\u001b[0m\u001b[0mMileage\u001b[0m\u001b[0;34m)\u001b[0m\u001b[0;34m\u001b[0m\u001b[0;34m\u001b[0m\u001b[0m\n\u001b[0m\u001b[1;32m      4\u001b[0m \u001b[0mplt\u001b[0m\u001b[0;34m.\u001b[0m\u001b[0mshow\u001b[0m\u001b[0;34m(\u001b[0m\u001b[0;34m)\u001b[0m\u001b[0;34m\u001b[0m\u001b[0;34m\u001b[0m\u001b[0m\n",
            "\u001b[0;32m/usr/local/lib/python3.6/dist-packages/matplotlib/pyplot.py\u001b[0m in \u001b[0;36mplot\u001b[0;34m(scalex, scaley, data, *args, **kwargs)\u001b[0m\n\u001b[1;32m   2761\u001b[0m     return gca().plot(\n\u001b[1;32m   2762\u001b[0m         *args, scalex=scalex, scaley=scaley, **({\"data\": data} if data\n\u001b[0;32m-> 2763\u001b[0;31m         is not None else {}), **kwargs)\n\u001b[0m\u001b[1;32m   2764\u001b[0m \u001b[0;34m\u001b[0m\u001b[0m\n\u001b[1;32m   2765\u001b[0m \u001b[0;34m\u001b[0m\u001b[0m\n",
            "\u001b[0;32m/usr/local/lib/python3.6/dist-packages/matplotlib/axes/_axes.py\u001b[0m in \u001b[0;36mplot\u001b[0;34m(self, scalex, scaley, data, *args, **kwargs)\u001b[0m\n\u001b[1;32m   1645\u001b[0m         \"\"\"\n\u001b[1;32m   1646\u001b[0m         \u001b[0mkwargs\u001b[0m \u001b[0;34m=\u001b[0m \u001b[0mcbook\u001b[0m\u001b[0;34m.\u001b[0m\u001b[0mnormalize_kwargs\u001b[0m\u001b[0;34m(\u001b[0m\u001b[0mkwargs\u001b[0m\u001b[0;34m,\u001b[0m \u001b[0mmlines\u001b[0m\u001b[0;34m.\u001b[0m\u001b[0mLine2D\u001b[0m\u001b[0;34m)\u001b[0m\u001b[0;34m\u001b[0m\u001b[0;34m\u001b[0m\u001b[0m\n\u001b[0;32m-> 1647\u001b[0;31m         \u001b[0mlines\u001b[0m \u001b[0;34m=\u001b[0m \u001b[0;34m[\u001b[0m\u001b[0;34m*\u001b[0m\u001b[0mself\u001b[0m\u001b[0;34m.\u001b[0m\u001b[0m_get_lines\u001b[0m\u001b[0;34m(\u001b[0m\u001b[0;34m*\u001b[0m\u001b[0margs\u001b[0m\u001b[0;34m,\u001b[0m \u001b[0mdata\u001b[0m\u001b[0;34m=\u001b[0m\u001b[0mdata\u001b[0m\u001b[0;34m,\u001b[0m \u001b[0;34m**\u001b[0m\u001b[0mkwargs\u001b[0m\u001b[0;34m)\u001b[0m\u001b[0;34m]\u001b[0m\u001b[0;34m\u001b[0m\u001b[0;34m\u001b[0m\u001b[0m\n\u001b[0m\u001b[1;32m   1648\u001b[0m         \u001b[0;32mfor\u001b[0m \u001b[0mline\u001b[0m \u001b[0;32min\u001b[0m \u001b[0mlines\u001b[0m\u001b[0;34m:\u001b[0m\u001b[0;34m\u001b[0m\u001b[0;34m\u001b[0m\u001b[0m\n\u001b[1;32m   1649\u001b[0m             \u001b[0mself\u001b[0m\u001b[0;34m.\u001b[0m\u001b[0madd_line\u001b[0m\u001b[0;34m(\u001b[0m\u001b[0mline\u001b[0m\u001b[0;34m)\u001b[0m\u001b[0;34m\u001b[0m\u001b[0;34m\u001b[0m\u001b[0m\n",
            "\u001b[0;32m/usr/local/lib/python3.6/dist-packages/matplotlib/axes/_base.py\u001b[0m in \u001b[0;36m__call__\u001b[0;34m(self, *args, **kwargs)\u001b[0m\n\u001b[1;32m    214\u001b[0m                 \u001b[0mthis\u001b[0m \u001b[0;34m+=\u001b[0m \u001b[0margs\u001b[0m\u001b[0;34m[\u001b[0m\u001b[0;36m0\u001b[0m\u001b[0;34m]\u001b[0m\u001b[0;34m,\u001b[0m\u001b[0;34m\u001b[0m\u001b[0;34m\u001b[0m\u001b[0m\n\u001b[1;32m    215\u001b[0m                 \u001b[0margs\u001b[0m \u001b[0;34m=\u001b[0m \u001b[0margs\u001b[0m\u001b[0;34m[\u001b[0m\u001b[0;36m1\u001b[0m\u001b[0;34m:\u001b[0m\u001b[0;34m]\u001b[0m\u001b[0;34m\u001b[0m\u001b[0;34m\u001b[0m\u001b[0m\n\u001b[0;32m--> 216\u001b[0;31m             \u001b[0;32myield\u001b[0m \u001b[0;32mfrom\u001b[0m \u001b[0mself\u001b[0m\u001b[0;34m.\u001b[0m\u001b[0m_plot_args\u001b[0m\u001b[0;34m(\u001b[0m\u001b[0mthis\u001b[0m\u001b[0;34m,\u001b[0m \u001b[0mkwargs\u001b[0m\u001b[0;34m)\u001b[0m\u001b[0;34m\u001b[0m\u001b[0;34m\u001b[0m\u001b[0m\n\u001b[0m\u001b[1;32m    217\u001b[0m \u001b[0;34m\u001b[0m\u001b[0m\n\u001b[1;32m    218\u001b[0m     \u001b[0;32mdef\u001b[0m \u001b[0mget_next_color\u001b[0m\u001b[0;34m(\u001b[0m\u001b[0mself\u001b[0m\u001b[0;34m)\u001b[0m\u001b[0;34m:\u001b[0m\u001b[0;34m\u001b[0m\u001b[0;34m\u001b[0m\u001b[0m\n",
            "\u001b[0;32m/usr/local/lib/python3.6/dist-packages/matplotlib/axes/_base.py\u001b[0m in \u001b[0;36m_plot_args\u001b[0;34m(self, tup, kwargs)\u001b[0m\n\u001b[1;32m    335\u001b[0m \u001b[0;34m\u001b[0m\u001b[0m\n\u001b[1;32m    336\u001b[0m         \u001b[0;32mif\u001b[0m \u001b[0mself\u001b[0m\u001b[0;34m.\u001b[0m\u001b[0maxes\u001b[0m\u001b[0;34m.\u001b[0m\u001b[0mxaxis\u001b[0m \u001b[0;32mis\u001b[0m \u001b[0;32mnot\u001b[0m \u001b[0;32mNone\u001b[0m\u001b[0;34m:\u001b[0m\u001b[0;34m\u001b[0m\u001b[0;34m\u001b[0m\u001b[0m\n\u001b[0;32m--> 337\u001b[0;31m             \u001b[0mself\u001b[0m\u001b[0;34m.\u001b[0m\u001b[0maxes\u001b[0m\u001b[0;34m.\u001b[0m\u001b[0mxaxis\u001b[0m\u001b[0;34m.\u001b[0m\u001b[0mupdate_units\u001b[0m\u001b[0;34m(\u001b[0m\u001b[0mx\u001b[0m\u001b[0;34m)\u001b[0m\u001b[0;34m\u001b[0m\u001b[0;34m\u001b[0m\u001b[0m\n\u001b[0m\u001b[1;32m    338\u001b[0m         \u001b[0;32mif\u001b[0m \u001b[0mself\u001b[0m\u001b[0;34m.\u001b[0m\u001b[0maxes\u001b[0m\u001b[0;34m.\u001b[0m\u001b[0myaxis\u001b[0m \u001b[0;32mis\u001b[0m \u001b[0;32mnot\u001b[0m \u001b[0;32mNone\u001b[0m\u001b[0;34m:\u001b[0m\u001b[0;34m\u001b[0m\u001b[0;34m\u001b[0m\u001b[0m\n\u001b[1;32m    339\u001b[0m             \u001b[0mself\u001b[0m\u001b[0;34m.\u001b[0m\u001b[0maxes\u001b[0m\u001b[0;34m.\u001b[0m\u001b[0myaxis\u001b[0m\u001b[0;34m.\u001b[0m\u001b[0mupdate_units\u001b[0m\u001b[0;34m(\u001b[0m\u001b[0my\u001b[0m\u001b[0;34m)\u001b[0m\u001b[0;34m\u001b[0m\u001b[0;34m\u001b[0m\u001b[0m\n",
            "\u001b[0;32m/usr/local/lib/python3.6/dist-packages/matplotlib/axis.py\u001b[0m in \u001b[0;36mupdate_units\u001b[0;34m(self, data)\u001b[0m\n\u001b[1;32m   1514\u001b[0m         \u001b[0mneednew\u001b[0m \u001b[0;34m=\u001b[0m \u001b[0mself\u001b[0m\u001b[0;34m.\u001b[0m\u001b[0mconverter\u001b[0m \u001b[0;34m!=\u001b[0m \u001b[0mconverter\u001b[0m\u001b[0;34m\u001b[0m\u001b[0;34m\u001b[0m\u001b[0m\n\u001b[1;32m   1515\u001b[0m         \u001b[0mself\u001b[0m\u001b[0;34m.\u001b[0m\u001b[0mconverter\u001b[0m \u001b[0;34m=\u001b[0m \u001b[0mconverter\u001b[0m\u001b[0;34m\u001b[0m\u001b[0;34m\u001b[0m\u001b[0m\n\u001b[0;32m-> 1516\u001b[0;31m         \u001b[0mdefault\u001b[0m \u001b[0;34m=\u001b[0m \u001b[0mself\u001b[0m\u001b[0;34m.\u001b[0m\u001b[0mconverter\u001b[0m\u001b[0;34m.\u001b[0m\u001b[0mdefault_units\u001b[0m\u001b[0;34m(\u001b[0m\u001b[0mdata\u001b[0m\u001b[0;34m,\u001b[0m \u001b[0mself\u001b[0m\u001b[0;34m)\u001b[0m\u001b[0;34m\u001b[0m\u001b[0;34m\u001b[0m\u001b[0m\n\u001b[0m\u001b[1;32m   1517\u001b[0m         \u001b[0;32mif\u001b[0m \u001b[0mdefault\u001b[0m \u001b[0;32mis\u001b[0m \u001b[0;32mnot\u001b[0m \u001b[0;32mNone\u001b[0m \u001b[0;32mand\u001b[0m \u001b[0mself\u001b[0m\u001b[0;34m.\u001b[0m\u001b[0munits\u001b[0m \u001b[0;32mis\u001b[0m \u001b[0;32mNone\u001b[0m\u001b[0;34m:\u001b[0m\u001b[0;34m\u001b[0m\u001b[0;34m\u001b[0m\u001b[0m\n\u001b[1;32m   1518\u001b[0m             \u001b[0mself\u001b[0m\u001b[0;34m.\u001b[0m\u001b[0mset_units\u001b[0m\u001b[0;34m(\u001b[0m\u001b[0mdefault\u001b[0m\u001b[0;34m)\u001b[0m\u001b[0;34m\u001b[0m\u001b[0;34m\u001b[0m\u001b[0m\n",
            "\u001b[0;32m/usr/local/lib/python3.6/dist-packages/matplotlib/category.py\u001b[0m in \u001b[0;36mdefault_units\u001b[0;34m(data, axis)\u001b[0m\n\u001b[1;32m    105\u001b[0m         \u001b[0;31m# the conversion call stack is default_units -> axis_info -> convert\u001b[0m\u001b[0;34m\u001b[0m\u001b[0;34m\u001b[0m\u001b[0;34m\u001b[0m\u001b[0m\n\u001b[1;32m    106\u001b[0m         \u001b[0;32mif\u001b[0m \u001b[0maxis\u001b[0m\u001b[0;34m.\u001b[0m\u001b[0munits\u001b[0m \u001b[0;32mis\u001b[0m \u001b[0;32mNone\u001b[0m\u001b[0;34m:\u001b[0m\u001b[0;34m\u001b[0m\u001b[0;34m\u001b[0m\u001b[0m\n\u001b[0;32m--> 107\u001b[0;31m             \u001b[0maxis\u001b[0m\u001b[0;34m.\u001b[0m\u001b[0mset_units\u001b[0m\u001b[0;34m(\u001b[0m\u001b[0mUnitData\u001b[0m\u001b[0;34m(\u001b[0m\u001b[0mdata\u001b[0m\u001b[0;34m)\u001b[0m\u001b[0;34m)\u001b[0m\u001b[0;34m\u001b[0m\u001b[0;34m\u001b[0m\u001b[0m\n\u001b[0m\u001b[1;32m    108\u001b[0m         \u001b[0;32melse\u001b[0m\u001b[0;34m:\u001b[0m\u001b[0;34m\u001b[0m\u001b[0;34m\u001b[0m\u001b[0m\n\u001b[1;32m    109\u001b[0m             \u001b[0maxis\u001b[0m\u001b[0;34m.\u001b[0m\u001b[0munits\u001b[0m\u001b[0;34m.\u001b[0m\u001b[0mupdate\u001b[0m\u001b[0;34m(\u001b[0m\u001b[0mdata\u001b[0m\u001b[0;34m)\u001b[0m\u001b[0;34m\u001b[0m\u001b[0;34m\u001b[0m\u001b[0m\n",
            "\u001b[0;32m/usr/local/lib/python3.6/dist-packages/matplotlib/category.py\u001b[0m in \u001b[0;36m__init__\u001b[0;34m(self, data)\u001b[0m\n\u001b[1;32m    173\u001b[0m         \u001b[0mself\u001b[0m\u001b[0;34m.\u001b[0m\u001b[0m_counter\u001b[0m \u001b[0;34m=\u001b[0m \u001b[0mitertools\u001b[0m\u001b[0;34m.\u001b[0m\u001b[0mcount\u001b[0m\u001b[0;34m(\u001b[0m\u001b[0;34m)\u001b[0m\u001b[0;34m\u001b[0m\u001b[0;34m\u001b[0m\u001b[0m\n\u001b[1;32m    174\u001b[0m         \u001b[0;32mif\u001b[0m \u001b[0mdata\u001b[0m \u001b[0;32mis\u001b[0m \u001b[0;32mnot\u001b[0m \u001b[0;32mNone\u001b[0m\u001b[0;34m:\u001b[0m\u001b[0;34m\u001b[0m\u001b[0;34m\u001b[0m\u001b[0m\n\u001b[0;32m--> 175\u001b[0;31m             \u001b[0mself\u001b[0m\u001b[0;34m.\u001b[0m\u001b[0mupdate\u001b[0m\u001b[0;34m(\u001b[0m\u001b[0mdata\u001b[0m\u001b[0;34m)\u001b[0m\u001b[0;34m\u001b[0m\u001b[0;34m\u001b[0m\u001b[0m\n\u001b[0m\u001b[1;32m    176\u001b[0m \u001b[0;34m\u001b[0m\u001b[0m\n\u001b[1;32m    177\u001b[0m     \u001b[0;34m@\u001b[0m\u001b[0mstaticmethod\u001b[0m\u001b[0;34m\u001b[0m\u001b[0;34m\u001b[0m\u001b[0m\n",
            "\u001b[0;32m/usr/local/lib/python3.6/dist-packages/matplotlib/category.py\u001b[0m in \u001b[0;36mupdate\u001b[0;34m(self, data)\u001b[0m\n\u001b[1;32m    210\u001b[0m         \u001b[0;32mfor\u001b[0m \u001b[0mval\u001b[0m \u001b[0;32min\u001b[0m \u001b[0mOrderedDict\u001b[0m\u001b[0;34m.\u001b[0m\u001b[0mfromkeys\u001b[0m\u001b[0;34m(\u001b[0m\u001b[0mdata\u001b[0m\u001b[0;34m)\u001b[0m\u001b[0;34m:\u001b[0m\u001b[0;34m\u001b[0m\u001b[0;34m\u001b[0m\u001b[0m\n\u001b[1;32m    211\u001b[0m             \u001b[0;31m# OrderedDict just iterates over unique values in data.\u001b[0m\u001b[0;34m\u001b[0m\u001b[0;34m\u001b[0m\u001b[0;34m\u001b[0m\u001b[0m\n\u001b[0;32m--> 212\u001b[0;31m             \u001b[0mcbook\u001b[0m\u001b[0;34m.\u001b[0m\u001b[0m_check_isinstance\u001b[0m\u001b[0;34m(\u001b[0m\u001b[0;34m(\u001b[0m\u001b[0mstr\u001b[0m\u001b[0;34m,\u001b[0m \u001b[0mbytes\u001b[0m\u001b[0;34m)\u001b[0m\u001b[0;34m,\u001b[0m \u001b[0mvalue\u001b[0m\u001b[0;34m=\u001b[0m\u001b[0mval\u001b[0m\u001b[0;34m)\u001b[0m\u001b[0;34m\u001b[0m\u001b[0;34m\u001b[0m\u001b[0m\n\u001b[0m\u001b[1;32m    213\u001b[0m             \u001b[0;32mif\u001b[0m \u001b[0mconvertible\u001b[0m\u001b[0;34m:\u001b[0m\u001b[0;34m\u001b[0m\u001b[0;34m\u001b[0m\u001b[0m\n\u001b[1;32m    214\u001b[0m                 \u001b[0;31m# this will only be called so long as convertible is True.\u001b[0m\u001b[0;34m\u001b[0m\u001b[0;34m\u001b[0m\u001b[0;34m\u001b[0m\u001b[0m\n",
            "\u001b[0;32m/usr/local/lib/python3.6/dist-packages/matplotlib/cbook/__init__.py\u001b[0m in \u001b[0;36m_check_isinstance\u001b[0;34m(_types, **kwargs)\u001b[0m\n\u001b[1;32m   2126\u001b[0m                     \u001b[0;34m\", \"\u001b[0m\u001b[0;34m.\u001b[0m\u001b[0mjoin\u001b[0m\u001b[0;34m(\u001b[0m\u001b[0mnames\u001b[0m\u001b[0;34m[\u001b[0m\u001b[0;34m:\u001b[0m\u001b[0;34m-\u001b[0m\u001b[0;36m1\u001b[0m\u001b[0;34m]\u001b[0m\u001b[0;34m)\u001b[0m \u001b[0;34m+\u001b[0m \u001b[0;34m\" or \"\u001b[0m \u001b[0;34m+\u001b[0m \u001b[0mnames\u001b[0m\u001b[0;34m[\u001b[0m\u001b[0;34m-\u001b[0m\u001b[0;36m1\u001b[0m\u001b[0;34m]\u001b[0m\u001b[0;34m\u001b[0m\u001b[0;34m\u001b[0m\u001b[0m\n\u001b[1;32m   2127\u001b[0m                     \u001b[0;32mif\u001b[0m \u001b[0mlen\u001b[0m\u001b[0;34m(\u001b[0m\u001b[0mnames\u001b[0m\u001b[0;34m)\u001b[0m \u001b[0;34m>\u001b[0m \u001b[0;36m1\u001b[0m \u001b[0;32melse\u001b[0m \u001b[0mnames\u001b[0m\u001b[0;34m[\u001b[0m\u001b[0;36m0\u001b[0m\u001b[0;34m]\u001b[0m\u001b[0;34m,\u001b[0m\u001b[0;34m\u001b[0m\u001b[0;34m\u001b[0m\u001b[0m\n\u001b[0;32m-> 2128\u001b[0;31m                     type_name(type(v))))\n\u001b[0m\u001b[1;32m   2129\u001b[0m \u001b[0;34m\u001b[0m\u001b[0m\n\u001b[1;32m   2130\u001b[0m \u001b[0;34m\u001b[0m\u001b[0m\n",
            "\u001b[0;31mTypeError\u001b[0m: 'value' must be an instance of str or bytes, not a float"
          ]
        },
        {
          "output_type": "display_data",
          "data": {
            "image/png": "[encoded data removed]",
            "text/plain": [
              "<Figure size 3600x3600 with 1 Axes>"
            ]
          },
          "metadata": {
            "tags": [],
            "needs_background": "light"
          }
        }
      ]
    },
    {
      "cell_type": "markdown",
      "metadata": {
        "id": "l1xvBlVVr2Ha"
      },
      "source": [
        "# Garmin Data Wrangling"
      ]
    },
    {
      "cell_type": "code",
      "metadata": {
        "id": "ECn9pM63o5Ae"
      },
      "source": [
        ""
      ],
      "execution_count": null,
      "outputs": []
    },
    {
      "cell_type": "markdown",
      "metadata": {
        "id": "QJm5VWDkrjrH"
      },
      "source": [
        "# Future Garmin Data Web Scraping"
      ]
    },
    {
      "cell_type": "code",
      "metadata": {
        "id": "88vIYTX3LnEM",
        "outputId": "e6af5adf-aefb-4d42-a644-3fbaed9ff373",
        "colab": {
          "base_uri": "https://localhost:8080/",
          "height": 108
        }
      },
      "source": [
        "!pip install requests"
      ],
      "execution_count": null,
      "outputs": [
        {
          "output_type": "stream",
          "text": [
            "Requirement already satisfied: requests in /usr/local/lib/python3.6/dist-packages (2.23.0)\n",
            "Requirement already satisfied: chardet<4,>=3.0.2 in /usr/local/lib/python3.6/dist-packages (from requests) (3.0.4)\n",
            "Requirement already satisfied: idna<3,>=2.5 in /usr/local/lib/python3.6/dist-packages (from requests) (2.9)\n",
            "Requirement already satisfied: urllib3!=1.25.0,!=1.25.1,<1.26,>=1.21.1 in /usr/local/lib/python3.6/dist-packages (from requests) (1.24.3)\n",
            "Requirement already satisfied: certifi>=2017.4.17 in /usr/local/lib/python3.6/dist-packages (from requests) (2020.4.5.1)\n"
          ],
          "name": "stdout"
        }
      ]
    },
    {
      "cell_type": "code",
      "metadata": {
        "id": "uVLheGv2LnER",
        "outputId": "29e56a9e-2341-4105-89c6-da4d3273b94a",
        "colab": {
          "base_uri": "https://localhost:8080/",
          "height": 35
        }
      },
      "source": [
        "!pip install beautifulsoup4"
      ],
      "execution_count": null,
      "outputs": [
        {
          "output_type": "stream",
          "text": [
            "Requirement already satisfied: beautifulsoup4 in /usr/local/lib/python3.6/dist-packages (4.6.3)\n"
          ],
          "name": "stdout"
        }
      ]
    },
    {
      "cell_type": "code",
      "metadata": {
        "id": "MNd4cMCqLnEU"
      },
      "source": [
        "import numpy as np\n",
        "import pandas as pd\n",
        "import requests\n",
        "import bs4\n",
        "import lxml.etree as xml"
      ],
      "execution_count": null,
      "outputs": []
    },
    {
      "cell_type": "code",
      "metadata": {
        "id": "UB9DyMyjEzje",
        "outputId": "9df59836-b2b5-4016-e794-99a4ce2d6f6f",
        "colab": {
          "base_uri": "https://localhost:8080/",
          "height": 35
        }
      },
      "source": [
        "URL = \"https://connect.garmin.com/modern/activities\"\n",
        "\n",
        "requests.get(URL)"
      ],
      "execution_count": null,
      "outputs": [
        {
          "output_type": "execute_result",
          "data": {
            "text/plain": [
              "<Response [200]>"
            ]
          },
          "metadata": {
            "tags": []
          },
          "execution_count": 2
        }
      ]
    },
    {
      "cell_type": "code",
      "metadata": {
        "id": "0zkLfMkhW0J4"
      },
      "source": [
        "requests.get(URL, {}).text"
      ],
      "execution_count": null,
      "outputs": []
    },
    {
      "cell_type": "code",
      "metadata": {
        "id": "gBlzUqJyXJa8"
      },
      "source": [
        "web_page = bs4.BeautifulSoup(requests.get(URL, {}).text, \"lxml\")"
      ],
      "execution_count": null,
      "outputs": []
    },
    {
      "cell_type": "code",
      "metadata": {
        "id": "Ada8DmbgXPeP"
      },
      "source": [
        "web_page"
      ],
      "execution_count": null,
      "outputs": []
    },
    {
      "cell_type": "code",
      "metadata": {
        "id": "T6XFqcZTXRrA",
        "outputId": "231f09c5-7639-445a-b3f6-74e2f4828a6e",
        "colab": {
          "base_uri": "https://localhost:8080/",
          "height": 35
        }
      },
      "source": [
        "web_page.head.title"
      ],
      "execution_count": null,
      "outputs": [
        {
          "output_type": "execute_result",
          "data": {
            "text/plain": [
              "<title data-react-helmet=\"true\">Garmin Connect | </title>"
            ]
          },
          "metadata": {
            "tags": []
          },
          "execution_count": 6
        }
      ]
    },
    {
      "cell_type": "code",
      "metadata": {
        "id": "jhi2GbPtXru8",
        "outputId": "ae12b364-2943-4ea2-a9fe-46366de544e8",
        "colab": {
          "base_uri": "https://localhost:8080/",
          "height": 55
        }
      },
      "source": [
        "web_page.body"
      ],
      "execution_count": null,
      "outputs": [
        {
          "output_type": "execute_result",
          "data": {
            "text/plain": [
              "<body><noscript id=\"gatsby-noscript\">This app works best with JavaScript enabled.</noscript><div id=\"___gatsby\"><div role=\"group\" style=\"outline:none\" tabindex=\"-1\"><div><header class=\"c017\"><h1 class=\"c0116 c0118\"><a class=\"c018\" href=\"/\" title=\"Connect\"></a></h1><div class=\"c0114\"></div></header><main class=\"c014 c016\"><div class=\"c013\"><div class=\"c011\"><div class=\"c012\" id=\"gauth-widget\"><noscript>To sign in to your Garmin account, please enable JavaScript in your web browser.</noscript></div></div><div id=\"loginGauth\"></div></div></main><footer class=\"c0123\"><div></div><div class=\"c0132\"><span class=\"c0129 c0133\"><a href=\"https://www.instagram.com/garminfitness/\" title=\"Instagram\"></a></span><span class=\"c0130 c0134\"><a href=\"https://www.facebook.com/garminfit\" title=\"Facebook\"></a></span><span class=\"c0131 c0135\"><a href=\"https://twitter.com/garminfitness\" title=\"Twitter\"></a></span></div><div id=\"consent\"></div></footer></div></div></div><script id=\"gatsby-script-loader\">/*<![CDATA[*/window.page={\"componentChunkName\":\"component---src-pages-signin-js\",\"jsonName\":\"signin-59f\",\"path\":\"/signin/\"};window.dataPath=\"731/path---signin-59-f-ae5-0SUcWyAf8ecbYDsMhQkEfPzV8\";/*]]>*/</script><script id=\"gatsby-chunk-mapping\">/*<![CDATA[*/window.___chunkMapping={\"app\":[\"/app-f70ac04d1f56b78f3931.js\"],\"component---src-pages-404-js\":[\"/component---src-pages-404-js-841e84ff797503ac048a.js\"],\"component---src-pages-features-coach-js\":[\"/component---src-pages-features-coach-js-29876275865a0a2c7c1a.js\"],\"component---src-pages-features-index-js\":[\"/component---src-pages-features-index-js-4d4a82516cad02ced3d8.js\"],\"component---src-pages-features-menstrual-cycle-tracking-js\":[\"/component---src-pages-features-menstrual-cycle-tracking-js-f82b6a996c090a06f4e6.js\"],\"component---src-pages-index-js\":[\"/component---src-pages-index-js-63d08c00a3a5730e5622.js\"],\"component---src-pages-signin-js\":[\"/component---src-pages-signin-js-2cbe8560a833724ca935.js\"],\"component---src-pages-start-index-scale-express-js\":[\"/component---src-pages-start-index-scale-express-js-4191a33b757912674795.js\"],\"component---src-pages-start-index-scale-help-js\":[\"/component---src-pages-start-index-scale-help-js-fa0de611ea120d0cf195.js\"],\"component---src-pages-start-index-scale-index-js\":[\"/component---src-pages-start-index-scale-index-js-7ac8a52212a94db2fab4.js\"],\"component---src-pages-start-index-scale-mobile-js\":[\"/component---src-pages-start-index-scale-mobile-js-825c52b5de34c7e3fc6b.js\"],\"component---src-pages-start-index-scale-wps-js\":[\"/component---src-pages-start-index-scale-wps-js-bd933d60ca0bc42292a4.js\"],\"component---src-pages-start-index-js\":[\"/component---src-pages-start-index-js-d3a69576ea9d5117784e.js\"],\"component---src-pages-start-quickdraw-legal-js\":[\"/component---src-pages-start-quickdraw-legal-js-cf2da0e15e8af7e20d6c.js\"],\"component---src-pages-start-quickdraw-js\":[\"/component---src-pages-start-quickdraw-js-b1a8e022d6e90bebe5c0.js\"],\"component---src-pages-start-vivoki-js\":[\"/component---src-pages-start-vivoki-js-2fee9b53b1a7130bc857.js\"],\"component---src-pages-status-js\":[\"/component---src-pages-status-js-77f076abb7dc3adf65b2.js\"],\"component---src-pages-support-js\":[\"/component---src-pages-support-js-28338b5a6bf95bb7f96d.js\"],\"pages-manifest\":[\"/pages-manifest-30001a9f1ccc5a08342f.js\"]};/*]]>*/</script><script async=\"\" src=\"/webpack-runtime-726429aeeebf792fa865.js\"></script><script async=\"\" src=\"/styles-7f4ad17eaa2f84285347.js\"></script><script async=\"\" src=\"/app-f70ac04d1f56b78f3931.js\"></script><script async=\"\" src=\"/0-1b57d2d469aaeb0d9220.js\"></script><script async=\"\" src=\"/1-ce2bc733156e4b92652d.js\"></script><script async=\"\" src=\"/component---src-pages-signin-js-2cbe8560a833724ca935.js\"></script></body>"
            ]
          },
          "metadata": {
            "tags": []
          },
          "execution_count": 7
        }
      ]
    },
    {
      "cell_type": "code",
      "metadata": {
        "id": "fgd5ierMX5ID"
      },
      "source": [
        "sub_webpage = web_page.find_all(name=\"li\") #, attrs={'class': 'list-item animated row-fluid'}"
      ],
      "execution_count": null,
      "outputs": []
    },
    {
      "cell_type": "code",
      "metadata": {
        "id": "_ZiJDnk9xbfC",
        "outputId": "b92dceb8-db5c-4b00-f1fc-87323b4cbe17",
        "colab": {
          "base_uri": "https://localhost:8080/",
          "height": 35
        }
      },
      "source": [
        "sub_webpage"
      ],
      "execution_count": null,
      "outputs": [
        {
          "output_type": "execute_result",
          "data": {
            "text/plain": [
              "[]"
            ]
          },
          "metadata": {
            "tags": []
          },
          "execution_count": 11
        }
      ]
    },
    {
      "cell_type": "markdown",
      "metadata": {
        "id": "B42OoWzC98-V"
      },
      "source": [
        "I would like to make searchable notes that I could go through with links to exercises for injuries and such. It would be really useful to be able to have the types of injuries that I have gone through before and be able to just immediately have the stretches and such that worked. Then I can the next time find out how that went and then adjust based upon the previous injury timeline and see what works best for recovery for me. "
      ]
    },
    {
      "cell_type": "code",
      "metadata": {
        "id": "zhUm-3OMyHDX"
      },
      "source": [
        ""
      ],
      "execution_count": null,
      "outputs": []
    }
  ]
}