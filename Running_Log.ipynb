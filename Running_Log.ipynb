{
  "nbformat": 4,
  "nbformat_minor": 0,
  "metadata": {
    "colab": {
      "name": "Running_Log.ipynb",
      "provenance": [],
      "collapsed_sections": [],
      "authorship_tag": "ABX9TyPSymbkgwmINuJM7R7iIw+P",
      "include_colab_link": true
    },
    "kernelspec": {
      "name": "python3",
      "display_name": "Python 3"
    }
  },
  "cells": [
    {
      "cell_type": "markdown",
      "metadata": {
        "id": "view-in-github",
        "colab_type": "text"
      },
      "source": [
        "<a href=\"https://colab.research.google.com/github/lilfetz22/Running_data/blob/master/Running_Log.ipynb\" target=\"_parent\"><img src=\"https://colab.research.google.com/assets/colab-badge.svg\" alt=\"Open In Colab\"/></a>"
      ]
    },
    {
      "cell_type": "markdown",
      "metadata": {
        "id": "cEh45RbeBuDF"
      },
      "source": [
        "# **Running Log Analysis**"
      ]
    },
    {
      "cell_type": "markdown",
      "metadata": {
        "id": "Vm1JZlpH-xXc"
      },
      "source": [
        "###Goals\n"
      ]
    },
    {
      "cell_type": "markdown",
      "metadata": {
        "id": "ptM-ACrX-_ws"
      },
      "source": [
        "By 9/17 - complete pre-Garmin Data Wrangling\n",
        "1. check for any remaining information in Notes columns - done (9/17)\n",
        "2. Fix Date column and fill it in and make it agree with weekday (10/1)\n",
        "3. remove excess columns (10/5)\n",
        "\n",
        "By 10/1 - Complete post-Garmin analysis\n",
        "1. Data Wrangling\n",
        "\n",
        "    a. filtering out activities from one another - done\n",
        "\n",
        "    b. comparing overlap from pre-garmin to post-Garmin records and fill in missing data - done"
      ]
    },
    {
      "cell_type": "code",
      "metadata": {
        "id": "aKHhB8aK6kep"
      },
      "source": [
        "import pandas as pd\n",
        "import re\n",
        "import numpy as np\n",
        "import math\n",
        "import calendar\n",
        "import matplotlib.pyplot as plt\n",
        "import seaborn as sns\n",
        "import datetime\n",
        "from datetime import timedelta\n",
        "from time import time\n",
        "from scipy import stats\n",
        "from functools import reduce\n"
      ],
      "execution_count": 3,
      "outputs": []
    },
    {
      "cell_type": "code",
      "metadata": {
        "id": "KqA75kWYsBr2",
        "outputId": "cb2a3780-c93c-4422-cbe6-923be494f5c1",
        "colab": {
          "base_uri": "https://localhost:8080/"
        }
      },
      "source": [
        "from google.colab import drive\n",
        "drive.mount(\"/content/drive\")"
      ],
      "execution_count": 4,
      "outputs": [
        {
          "output_type": "stream",
          "text": [
            "Drive already mounted at /content/drive; to attempt to forcibly remount, call drive.mount(\"/content/drive\", force_remount=True).\n"
          ],
          "name": "stdout"
        }
      ]
    },
    {
      "cell_type": "markdown",
      "metadata": {
        "id": "zJP6tYJWru7z"
      },
      "source": [
        "# Pre-Garmin Data Wrangling"
      ]
    },
    {
      "cell_type": "code",
      "metadata": {
        "id": "Hweps9IfYhkg"
      },
      "source": [
        "def findall_n_join_fx(df, note_col, new_col, search_string):\n",
        "    df.loc[:,new_col] = df.loc[:,note_col].str.findall(search_string)\n",
        "    df.loc[:,new_col] = df.loc[:,new_col].str.join('')\n",
        "    df.loc[:,note_col] = df.loc[:,note_col].str.replace(search_string, '')\n",
        "    return df"
      ],
      "execution_count": 5,
      "outputs": []
    },
    {
      "cell_type": "code",
      "metadata": {
        "id": "mOworDgxttRE",
        "outputId": "a577c29a-550c-47bd-997e-39eabb1ccb64",
        "colab": {
          "base_uri": "https://localhost:8080/",
          "height": 478
        }
      },
      "source": [
        "log_csv = pd.read_csv(\"/content/drive/My Drive/pre-garmin.csv\",encoding='windows-1254')\n",
        "log_csv.head(15)"
      ],
      "execution_count": 6,
      "outputs": [
        {
          "output_type": "execute_result",
          "data": {
            "text/html": [
              "<div>\n",
              "<style scoped>\n",
              "    .dataframe tbody tr th:only-of-type {\n",
              "        vertical-align: middle;\n",
              "    }\n",
              "\n",
              "    .dataframe tbody tr th {\n",
              "        vertical-align: top;\n",
              "    }\n",
              "\n",
              "    .dataframe thead th {\n",
              "        text-align: right;\n",
              "    }\n",
              "</style>\n",
              "<table border=\"1\" class=\"dataframe\">\n",
              "  <thead>\n",
              "    <tr style=\"text-align: right;\">\n",
              "      <th></th>\n",
              "      <th>Running log 6/21/10</th>\n",
              "      <th>3/17/14</th>\n",
              "      <th>Unnamed: 2</th>\n",
              "      <th>Unnamed: 3</th>\n",
              "      <th>Unnamed: 4</th>\n",
              "      <th>Unnamed: 5</th>\n",
              "      <th>Unnamed: 6</th>\n",
              "      <th>Unnamed: 7</th>\n",
              "      <th>Unnamed: 8</th>\n",
              "      <th>Unnamed: 9</th>\n",
              "      <th>Unnamed: 10</th>\n",
              "      <th>Unnamed: 11</th>\n",
              "      <th>Unnamed: 12</th>\n",
              "      <th>Unnamed: 13</th>\n",
              "      <th>Unnamed: 14</th>\n",
              "      <th>Unnamed: 15</th>\n",
              "      <th>Unnamed: 16</th>\n",
              "      <th>Unnamed: 17</th>\n",
              "    </tr>\n",
              "  </thead>\n",
              "  <tbody>\n",
              "    <tr>\n",
              "      <th>0</th>\n",
              "      <td>Saturday 5/29/10</td>\n",
              "      <td>NaN</td>\n",
              "      <td>4 miles 27:19 it was a little short. 3.8 miles</td>\n",
              "      <td>NaN</td>\n",
              "      <td>NaN</td>\n",
              "      <td>NaN</td>\n",
              "      <td>NaN</td>\n",
              "      <td>NaN</td>\n",
              "      <td>NaN</td>\n",
              "      <td>NaN</td>\n",
              "      <td>NaN</td>\n",
              "      <td>NaN</td>\n",
              "      <td>NaN</td>\n",
              "      <td>NaN</td>\n",
              "      <td>NaN</td>\n",
              "      <td>NaN</td>\n",
              "      <td>NaN</td>\n",
              "      <td>NaN</td>\n",
              "    </tr>\n",
              "    <tr>\n",
              "      <th>1</th>\n",
              "      <td>Monday 6/21/10</td>\n",
              "      <td>4 miles</td>\n",
              "      <td>NaN</td>\n",
              "      <td>NaN</td>\n",
              "      <td>NaN</td>\n",
              "      <td>NaN</td>\n",
              "      <td>NaN</td>\n",
              "      <td>NaN</td>\n",
              "      <td>NaN</td>\n",
              "      <td>NaN</td>\n",
              "      <td>NaN</td>\n",
              "      <td>NaN</td>\n",
              "      <td>NaN</td>\n",
              "      <td>NaN</td>\n",
              "      <td>NaN</td>\n",
              "      <td>NaN</td>\n",
              "      <td>NaN</td>\n",
              "      <td>NaN</td>\n",
              "    </tr>\n",
              "    <tr>\n",
              "      <th>2</th>\n",
              "      <td>Tuesday 6/22/10</td>\n",
              "      <td>4 miles</td>\n",
              "      <td>Swimming</td>\n",
              "      <td>10 laps of freestyle</td>\n",
              "      <td>5 laps of backstroke</td>\n",
              "      <td>5</td>\n",
              "      <td>laps of breaststroke</td>\n",
              "      <td>NaN</td>\n",
              "      <td>1 lap all out of freestyle</td>\n",
              "      <td>NaN</td>\n",
              "      <td>NaN</td>\n",
              "      <td>NaN</td>\n",
              "      <td>NaN</td>\n",
              "      <td>NaN</td>\n",
              "      <td>NaN</td>\n",
              "      <td>NaN</td>\n",
              "      <td>NaN</td>\n",
              "      <td>NaN</td>\n",
              "    </tr>\n",
              "    <tr>\n",
              "      <th>3</th>\n",
              "      <td>Wednesday 6/23/10</td>\n",
              "      <td>4.5 miles</td>\n",
              "      <td>35 minutes</td>\n",
              "      <td>NaN</td>\n",
              "      <td>NaN</td>\n",
              "      <td>NaN</td>\n",
              "      <td>NaN</td>\n",
              "      <td>NaN</td>\n",
              "      <td>NaN</td>\n",
              "      <td>NaN</td>\n",
              "      <td>NaN</td>\n",
              "      <td>NaN</td>\n",
              "      <td>NaN</td>\n",
              "      <td>NaN</td>\n",
              "      <td>NaN</td>\n",
              "      <td>NaN</td>\n",
              "      <td>NaN</td>\n",
              "      <td>NaN</td>\n",
              "    </tr>\n",
              "    <tr>\n",
              "      <th>4</th>\n",
              "      <td>Thursday 6/25/10</td>\n",
              "      <td>5</td>\n",
              "      <td>NaN</td>\n",
              "      <td>NaN</td>\n",
              "      <td>NaN</td>\n",
              "      <td>NaN</td>\n",
              "      <td>NaN</td>\n",
              "      <td>NaN</td>\n",
              "      <td>NaN</td>\n",
              "      <td>NaN</td>\n",
              "      <td>NaN</td>\n",
              "      <td>NaN</td>\n",
              "      <td>NaN</td>\n",
              "      <td>NaN</td>\n",
              "      <td>NaN</td>\n",
              "      <td>NaN</td>\n",
              "      <td>NaN</td>\n",
              "      <td>NaN</td>\n",
              "    </tr>\n",
              "    <tr>\n",
              "      <th>5</th>\n",
              "      <td>Friday 6/26/10</td>\n",
              "      <td>5</td>\n",
              "      <td>Swimming</td>\n",
              "      <td>same as Tuesday</td>\n",
              "      <td>NaN</td>\n",
              "      <td>NaN</td>\n",
              "      <td>NaN</td>\n",
              "      <td>NaN</td>\n",
              "      <td>NaN</td>\n",
              "      <td>NaN</td>\n",
              "      <td>NaN</td>\n",
              "      <td>NaN</td>\n",
              "      <td>NaN</td>\n",
              "      <td>NaN</td>\n",
              "      <td>NaN</td>\n",
              "      <td>NaN</td>\n",
              "      <td>NaN</td>\n",
              "      <td>NaN</td>\n",
              "    </tr>\n",
              "    <tr>\n",
              "      <th>6</th>\n",
              "      <td>Saturday 6/27/10</td>\n",
              "      <td>6</td>\n",
              "      <td>41:04</td>\n",
              "      <td>NaN</td>\n",
              "      <td>NaN</td>\n",
              "      <td>NaN</td>\n",
              "      <td>NaN</td>\n",
              "      <td>NaN</td>\n",
              "      <td>NaN</td>\n",
              "      <td>NaN</td>\n",
              "      <td>NaN</td>\n",
              "      <td>NaN</td>\n",
              "      <td>NaN</td>\n",
              "      <td>NaN</td>\n",
              "      <td>NaN</td>\n",
              "      <td>NaN</td>\n",
              "      <td>NaN</td>\n",
              "      <td>NaN</td>\n",
              "    </tr>\n",
              "    <tr>\n",
              "      <th>7</th>\n",
              "      <td>NaN</td>\n",
              "      <td>NaN</td>\n",
              "      <td>NaN</td>\n",
              "      <td>NaN</td>\n",
              "      <td>NaN</td>\n",
              "      <td>NaN</td>\n",
              "      <td>NaN</td>\n",
              "      <td>NaN</td>\n",
              "      <td>NaN</td>\n",
              "      <td>NaN</td>\n",
              "      <td>NaN</td>\n",
              "      <td>NaN</td>\n",
              "      <td>NaN</td>\n",
              "      <td>NaN</td>\n",
              "      <td>NaN</td>\n",
              "      <td>NaN</td>\n",
              "      <td>NaN</td>\n",
              "      <td>NaN</td>\n",
              "    </tr>\n",
              "    <tr>\n",
              "      <th>8</th>\n",
              "      <td>Monday 6/28/10</td>\n",
              "      <td>4</td>\n",
              "      <td>28:04:00</td>\n",
              "      <td>5 total</td>\n",
              "      <td>NaN</td>\n",
              "      <td>NaN</td>\n",
              "      <td>NaN</td>\n",
              "      <td>NaN</td>\n",
              "      <td>NaN</td>\n",
              "      <td>NaN</td>\n",
              "      <td>NaN</td>\n",
              "      <td>NaN</td>\n",
              "      <td>NaN</td>\n",
              "      <td>NaN</td>\n",
              "      <td>NaN</td>\n",
              "      <td>NaN</td>\n",
              "      <td>NaN</td>\n",
              "      <td>NaN</td>\n",
              "    </tr>\n",
              "    <tr>\n",
              "      <th>9</th>\n",
              "      <td>Tuesday 6/29/10</td>\n",
              "      <td>5</td>\n",
              "      <td>NaN</td>\n",
              "      <td>NaN</td>\n",
              "      <td>NaN</td>\n",
              "      <td>NaN</td>\n",
              "      <td>NaN</td>\n",
              "      <td>NaN</td>\n",
              "      <td>NaN</td>\n",
              "      <td>NaN</td>\n",
              "      <td>NaN</td>\n",
              "      <td>NaN</td>\n",
              "      <td>NaN</td>\n",
              "      <td>NaN</td>\n",
              "      <td>NaN</td>\n",
              "      <td>NaN</td>\n",
              "      <td>NaN</td>\n",
              "      <td>NaN</td>\n",
              "    </tr>\n",
              "    <tr>\n",
              "      <th>10</th>\n",
              "      <td>Wednesday 6/30/10</td>\n",
              "      <td>5.5</td>\n",
              "      <td>Swimming</td>\n",
              "      <td>normal</td>\n",
              "      <td>NaN</td>\n",
              "      <td>NaN</td>\n",
              "      <td>NaN</td>\n",
              "      <td>NaN</td>\n",
              "      <td>NaN</td>\n",
              "      <td>NaN</td>\n",
              "      <td>NaN</td>\n",
              "      <td>NaN</td>\n",
              "      <td>NaN</td>\n",
              "      <td>NaN</td>\n",
              "      <td>NaN</td>\n",
              "      <td>NaN</td>\n",
              "      <td>NaN</td>\n",
              "      <td>NaN</td>\n",
              "    </tr>\n",
              "    <tr>\n",
              "      <th>11</th>\n",
              "      <td>Thursday 7/1/10</td>\n",
              "      <td>5</td>\n",
              "      <td>32:04:00</td>\n",
              "      <td>6:20 pace</td>\n",
              "      <td>6 miles total</td>\n",
              "      <td>NaN</td>\n",
              "      <td>NaN</td>\n",
              "      <td>NaN</td>\n",
              "      <td>NaN</td>\n",
              "      <td>NaN</td>\n",
              "      <td>NaN</td>\n",
              "      <td>NaN</td>\n",
              "      <td>NaN</td>\n",
              "      <td>NaN</td>\n",
              "      <td>NaN</td>\n",
              "      <td>NaN</td>\n",
              "      <td>NaN</td>\n",
              "      <td>NaN</td>\n",
              "    </tr>\n",
              "    <tr>\n",
              "      <th>12</th>\n",
              "      <td>Friday 7/2/10</td>\n",
              "      <td>4</td>\n",
              "      <td>NaN</td>\n",
              "      <td>NaN</td>\n",
              "      <td>NaN</td>\n",
              "      <td>NaN</td>\n",
              "      <td>NaN</td>\n",
              "      <td>NaN</td>\n",
              "      <td>NaN</td>\n",
              "      <td>NaN</td>\n",
              "      <td>NaN</td>\n",
              "      <td>NaN</td>\n",
              "      <td>NaN</td>\n",
              "      <td>NaN</td>\n",
              "      <td>NaN</td>\n",
              "      <td>NaN</td>\n",
              "      <td>NaN</td>\n",
              "      <td>NaN</td>\n",
              "    </tr>\n",
              "    <tr>\n",
              "      <th>13</th>\n",
              "      <td>Saturday 7/3/10</td>\n",
              "      <td>7.7</td>\n",
              "      <td>52:46:00</td>\n",
              "      <td>NaN</td>\n",
              "      <td>NaN</td>\n",
              "      <td>NaN</td>\n",
              "      <td>NaN</td>\n",
              "      <td>NaN</td>\n",
              "      <td>NaN</td>\n",
              "      <td>NaN</td>\n",
              "      <td>NaN</td>\n",
              "      <td>NaN</td>\n",
              "      <td>NaN</td>\n",
              "      <td>NaN</td>\n",
              "      <td>NaN</td>\n",
              "      <td>NaN</td>\n",
              "      <td>NaN</td>\n",
              "      <td>NaN</td>\n",
              "    </tr>\n",
              "    <tr>\n",
              "      <th>14</th>\n",
              "      <td>NaN</td>\n",
              "      <td>NaN</td>\n",
              "      <td>NaN</td>\n",
              "      <td>NaN</td>\n",
              "      <td>NaN</td>\n",
              "      <td>NaN</td>\n",
              "      <td>NaN</td>\n",
              "      <td>NaN</td>\n",
              "      <td>NaN</td>\n",
              "      <td>NaN</td>\n",
              "      <td>NaN</td>\n",
              "      <td>NaN</td>\n",
              "      <td>NaN</td>\n",
              "      <td>NaN</td>\n",
              "      <td>NaN</td>\n",
              "      <td>NaN</td>\n",
              "      <td>NaN</td>\n",
              "      <td>NaN</td>\n",
              "    </tr>\n",
              "  </tbody>\n",
              "</table>\n",
              "</div>"
            ],
            "text/plain": [
              "   Running log 6/21/10      3/17/14  ... Unnamed: 16 Unnamed: 17\n",
              "0      Saturday 5/29/10         NaN  ...         NaN         NaN\n",
              "1        Monday 6/21/10     4 miles  ...         NaN         NaN\n",
              "2       Tuesday 6/22/10     4 miles  ...         NaN         NaN\n",
              "3     Wednesday 6/23/10   4.5 miles  ...         NaN         NaN\n",
              "4      Thursday 6/25/10          5   ...         NaN         NaN\n",
              "5        Friday 6/26/10           5  ...         NaN         NaN\n",
              "6      Saturday 6/27/10           6  ...         NaN         NaN\n",
              "7                   NaN         NaN  ...         NaN         NaN\n",
              "8        Monday 6/28/10           4  ...         NaN         NaN\n",
              "9       Tuesday 6/29/10           5  ...         NaN         NaN\n",
              "10    Wednesday 6/30/10         5.5  ...         NaN         NaN\n",
              "11      Thursday 7/1/10           5  ...         NaN         NaN\n",
              "12        Friday 7/2/10           4  ...         NaN         NaN\n",
              "13      Saturday 7/3/10         7.7  ...         NaN         NaN\n",
              "14                  NaN         NaN  ...         NaN         NaN\n",
              "\n",
              "[15 rows x 18 columns]"
            ]
          },
          "metadata": {
            "tags": []
          },
          "execution_count": 6
        }
      ]
    },
    {
      "cell_type": "code",
      "metadata": {
        "id": "ZaKY9oZA0cm0",
        "outputId": "8878fc48-3bd6-4f6c-f250-c8ff85c3e918",
        "colab": {
          "base_uri": "https://localhost:8080/",
          "height": 191
        }
      },
      "source": [
        "log_csv.tail()"
      ],
      "execution_count": 7,
      "outputs": [
        {
          "output_type": "execute_result",
          "data": {
            "text/html": [
              "<div>\n",
              "<style scoped>\n",
              "    .dataframe tbody tr th:only-of-type {\n",
              "        vertical-align: middle;\n",
              "    }\n",
              "\n",
              "    .dataframe tbody tr th {\n",
              "        vertical-align: top;\n",
              "    }\n",
              "\n",
              "    .dataframe thead th {\n",
              "        text-align: right;\n",
              "    }\n",
              "</style>\n",
              "<table border=\"1\" class=\"dataframe\">\n",
              "  <thead>\n",
              "    <tr style=\"text-align: right;\">\n",
              "      <th></th>\n",
              "      <th>Running log 6/21/10</th>\n",
              "      <th>3/17/14</th>\n",
              "      <th>Unnamed: 2</th>\n",
              "      <th>Unnamed: 3</th>\n",
              "      <th>Unnamed: 4</th>\n",
              "      <th>Unnamed: 5</th>\n",
              "      <th>Unnamed: 6</th>\n",
              "      <th>Unnamed: 7</th>\n",
              "      <th>Unnamed: 8</th>\n",
              "      <th>Unnamed: 9</th>\n",
              "      <th>Unnamed: 10</th>\n",
              "      <th>Unnamed: 11</th>\n",
              "      <th>Unnamed: 12</th>\n",
              "      <th>Unnamed: 13</th>\n",
              "      <th>Unnamed: 14</th>\n",
              "      <th>Unnamed: 15</th>\n",
              "      <th>Unnamed: 16</th>\n",
              "      <th>Unnamed: 17</th>\n",
              "    </tr>\n",
              "  </thead>\n",
              "  <tbody>\n",
              "    <tr>\n",
              "      <th>1979</th>\n",
              "      <td>TOTAL - 48.5</td>\n",
              "      <td>NaN</td>\n",
              "      <td>NaN</td>\n",
              "      <td>NaN</td>\n",
              "      <td>NaN</td>\n",
              "      <td>NaN</td>\n",
              "      <td>NaN</td>\n",
              "      <td>NaN</td>\n",
              "      <td>NaN</td>\n",
              "      <td>NaN</td>\n",
              "      <td>NaN</td>\n",
              "      <td>NaN</td>\n",
              "      <td>NaN</td>\n",
              "      <td>NaN</td>\n",
              "      <td>NaN</td>\n",
              "      <td>NaN</td>\n",
              "      <td>NaN</td>\n",
              "      <td>NaN</td>\n",
              "    </tr>\n",
              "    <tr>\n",
              "      <th>1980</th>\n",
              "      <td>Monday - 12/21/15 - off</td>\n",
              "      <td>NaN</td>\n",
              "      <td>NaN</td>\n",
              "      <td>NaN</td>\n",
              "      <td>NaN</td>\n",
              "      <td>NaN</td>\n",
              "      <td>NaN</td>\n",
              "      <td>NaN</td>\n",
              "      <td>NaN</td>\n",
              "      <td>NaN</td>\n",
              "      <td>NaN</td>\n",
              "      <td>NaN</td>\n",
              "      <td>NaN</td>\n",
              "      <td>NaN</td>\n",
              "      <td>NaN</td>\n",
              "      <td>NaN</td>\n",
              "      <td>NaN</td>\n",
              "      <td>NaN</td>\n",
              "    </tr>\n",
              "    <tr>\n",
              "      <th>1981</th>\n",
              "      <td>Tuesday - I've failed. Not going to be able to...</td>\n",
              "      <td>NaN</td>\n",
              "      <td>NaN</td>\n",
              "      <td>NaN</td>\n",
              "      <td>NaN</td>\n",
              "      <td>NaN</td>\n",
              "      <td>NaN</td>\n",
              "      <td>NaN</td>\n",
              "      <td>NaN</td>\n",
              "      <td>NaN</td>\n",
              "      <td>NaN</td>\n",
              "      <td>NaN</td>\n",
              "      <td>NaN</td>\n",
              "      <td>NaN</td>\n",
              "      <td>NaN</td>\n",
              "      <td>NaN</td>\n",
              "      <td>NaN</td>\n",
              "      <td>NaN</td>\n",
              "    </tr>\n",
              "    <tr>\n",
              "      <th>1982</th>\n",
              "      <td>Thursday - 12/25/15 - 3 miles</td>\n",
              "      <td>NaN</td>\n",
              "      <td>NaN</td>\n",
              "      <td>NaN</td>\n",
              "      <td>NaN</td>\n",
              "      <td>NaN</td>\n",
              "      <td>NaN</td>\n",
              "      <td>NaN</td>\n",
              "      <td>NaN</td>\n",
              "      <td>NaN</td>\n",
              "      <td>NaN</td>\n",
              "      <td>NaN</td>\n",
              "      <td>NaN</td>\n",
              "      <td>NaN</td>\n",
              "      <td>NaN</td>\n",
              "      <td>NaN</td>\n",
              "      <td>NaN</td>\n",
              "      <td>NaN</td>\n",
              "    </tr>\n",
              "    <tr>\n",
              "      <th>1983</th>\n",
              "      <td>Thursday - 12/31/15 - 30 minutes biking - 9.5 ...</td>\n",
              "      <td>NaN</td>\n",
              "      <td>NaN</td>\n",
              "      <td>NaN</td>\n",
              "      <td>NaN</td>\n",
              "      <td>NaN</td>\n",
              "      <td>NaN</td>\n",
              "      <td>NaN</td>\n",
              "      <td>NaN</td>\n",
              "      <td>NaN</td>\n",
              "      <td>NaN</td>\n",
              "      <td>NaN</td>\n",
              "      <td>NaN</td>\n",
              "      <td>NaN</td>\n",
              "      <td>NaN</td>\n",
              "      <td>NaN</td>\n",
              "      <td>NaN</td>\n",
              "      <td>NaN</td>\n",
              "    </tr>\n",
              "  </tbody>\n",
              "</table>\n",
              "</div>"
            ],
            "text/plain": [
              "                                   Running log 6/21/10   ... Unnamed: 17\n",
              "1979                                       TOTAL - 48.5  ...         NaN\n",
              "1980                            Monday - 12/21/15 - off  ...         NaN\n",
              "1981  Tuesday - I've failed. Not going to be able to...  ...         NaN\n",
              "1982                      Thursday - 12/25/15 - 3 miles  ...         NaN\n",
              "1983  Thursday - 12/31/15 - 30 minutes biking - 9.5 ...  ...         NaN\n",
              "\n",
              "[5 rows x 18 columns]"
            ]
          },
          "metadata": {
            "tags": []
          },
          "execution_count": 7
        }
      ]
    },
    {
      "cell_type": "markdown",
      "metadata": {
        "id": "4W7zxYwx0OJT"
      },
      "source": [
        "Creation of Raw string before manipulation of columns"
      ]
    },
    {
      "cell_type": "code",
      "metadata": {
        "id": "Vw4lP-CI00ux",
        "outputId": "74eb516d-949c-41a6-aa5e-21c184c16709",
        "colab": {
          "base_uri": "https://localhost:8080/"
        }
      },
      "source": [
        "log_csv.columns"
      ],
      "execution_count": 8,
      "outputs": [
        {
          "output_type": "execute_result",
          "data": {
            "text/plain": [
              "Index(['Running log 6/21/10 ', ' 3/17/14', 'Unnamed: 2', 'Unnamed: 3',\n",
              "       'Unnamed: 4', 'Unnamed: 5', 'Unnamed: 6', 'Unnamed: 7', 'Unnamed: 8',\n",
              "       'Unnamed: 9', 'Unnamed: 10', 'Unnamed: 11', 'Unnamed: 12',\n",
              "       'Unnamed: 13', 'Unnamed: 14', 'Unnamed: 15', 'Unnamed: 16',\n",
              "       'Unnamed: 17'],\n",
              "      dtype='object')"
            ]
          },
          "metadata": {
            "tags": []
          },
          "execution_count": 8
        }
      ]
    },
    {
      "cell_type": "code",
      "metadata": {
        "id": "56zEbcqn0NQS",
        "outputId": "4b7e0f96-0f57-4c36-eeb3-df72c716904e",
        "colab": {
          "base_uri": "https://localhost:8080/",
          "height": 288
        }
      },
      "source": [
        "raw_string = log_csv.copy()\n",
        "raw_string['raw_note'] = raw_string['Running log 6/21/10 '].str.cat(raw_string[[' 3/17/14','Unnamed: 2', 'Unnamed: 3', 'Unnamed: 4','Unnamed: 5','Unnamed: 6','Unnamed: 7',\n",
        "                                                     'Unnamed: 8', 'Unnamed: 9', 'Unnamed: 10', 'Unnamed: 11','Unnamed: 12',\n",
        "                                                     'Unnamed: 13','Unnamed: 14','Unnamed: 15','Unnamed: 16','Unnamed: 17']].astype(str), sep=\"_\")\n",
        "raw_string2 = raw_string[['raw_note']]\n",
        "raw_string2.loc[:, 'raw_note'] = raw_string2.loc[:, 'raw_note'].str.replace('_?nan_?', '')\n",
        "raw_string2.head()"
      ],
      "execution_count": 9,
      "outputs": [
        {
          "output_type": "stream",
          "text": [
            "/usr/local/lib/python3.6/dist-packages/pandas/core/indexing.py:1783: SettingWithCopyWarning: \n",
            "A value is trying to be set on a copy of a slice from a DataFrame.\n",
            "Try using .loc[row_indexer,col_indexer] = value instead\n",
            "\n",
            "See the caveats in the documentation: https://pandas.pydata.org/pandas-docs/stable/user_guide/indexing.html#returning-a-view-versus-a-copy\n",
            "  self.obj[item_labels[indexer[info_axis]]] = value\n"
          ],
          "name": "stderr"
        },
        {
          "output_type": "execute_result",
          "data": {
            "text/html": [
              "<div>\n",
              "<style scoped>\n",
              "    .dataframe tbody tr th:only-of-type {\n",
              "        vertical-align: middle;\n",
              "    }\n",
              "\n",
              "    .dataframe tbody tr th {\n",
              "        vertical-align: top;\n",
              "    }\n",
              "\n",
              "    .dataframe thead th {\n",
              "        text-align: right;\n",
              "    }\n",
              "</style>\n",
              "<table border=\"1\" class=\"dataframe\">\n",
              "  <thead>\n",
              "    <tr style=\"text-align: right;\">\n",
              "      <th></th>\n",
              "      <th>raw_note</th>\n",
              "    </tr>\n",
              "  </thead>\n",
              "  <tbody>\n",
              "    <tr>\n",
              "      <th>0</th>\n",
              "      <td>Saturday 5/29/10 4 miles 27:19 it was a little...</td>\n",
              "    </tr>\n",
              "    <tr>\n",
              "      <th>1</th>\n",
              "      <td>Monday 6/21/10_ 4 miles</td>\n",
              "    </tr>\n",
              "    <tr>\n",
              "      <th>2</th>\n",
              "      <td>Tuesday 6/22/10_ 4 miles_Swimming_ 10 laps of ...</td>\n",
              "    </tr>\n",
              "    <tr>\n",
              "      <th>3</th>\n",
              "      <td>Wednesday 6/23/10_ 4.5 miles_35 minutes</td>\n",
              "    </tr>\n",
              "    <tr>\n",
              "      <th>4</th>\n",
              "      <td>Thursday 6/25/10_ 5</td>\n",
              "    </tr>\n",
              "  </tbody>\n",
              "</table>\n",
              "</div>"
            ],
            "text/plain": [
              "                                            raw_note\n",
              "0  Saturday 5/29/10 4 miles 27:19 it was a little...\n",
              "1                            Monday 6/21/10_ 4 miles\n",
              "2  Tuesday 6/22/10_ 4 miles_Swimming_ 10 laps of ...\n",
              "3            Wednesday 6/23/10_ 4.5 miles_35 minutes\n",
              "4                               Thursday 6/25/10_ 5 "
            ]
          },
          "metadata": {
            "tags": []
          },
          "execution_count": 9
        }
      ]
    },
    {
      "cell_type": "code",
      "metadata": {
        "id": "-Sd6tAZIBl5S",
        "outputId": "404586e5-708d-4630-9a4d-289d074da2e8",
        "colab": {
          "base_uri": "https://localhost:8080/",
          "height": 335
        }
      },
      "source": [
        "log_csv['Notes'] = log_csv['Unnamed: 2'].str.cat(log_csv[['Unnamed: 3', 'Unnamed: 4','Unnamed: 5','Unnamed: 6','Unnamed: 7',\n",
        "                                                     'Unnamed: 8', 'Unnamed: 9', 'Unnamed: 10', 'Unnamed: 11','Unnamed: 12',\n",
        "                                                     'Unnamed: 13','Unnamed: 14','Unnamed: 15','Unnamed: 16','Unnamed: 17']].astype(str), sep=\"_\")\n",
        "log_csv2 = log_csv[['Running log 6/21/10 ',' 3/17/14','Notes']]\n",
        "log_csv2.head(10)"
      ],
      "execution_count": 10,
      "outputs": [
        {
          "output_type": "execute_result",
          "data": {
            "text/html": [
              "<div>\n",
              "<style scoped>\n",
              "    .dataframe tbody tr th:only-of-type {\n",
              "        vertical-align: middle;\n",
              "    }\n",
              "\n",
              "    .dataframe tbody tr th {\n",
              "        vertical-align: top;\n",
              "    }\n",
              "\n",
              "    .dataframe thead th {\n",
              "        text-align: right;\n",
              "    }\n",
              "</style>\n",
              "<table border=\"1\" class=\"dataframe\">\n",
              "  <thead>\n",
              "    <tr style=\"text-align: right;\">\n",
              "      <th></th>\n",
              "      <th>Running log 6/21/10</th>\n",
              "      <th>3/17/14</th>\n",
              "      <th>Notes</th>\n",
              "    </tr>\n",
              "  </thead>\n",
              "  <tbody>\n",
              "    <tr>\n",
              "      <th>0</th>\n",
              "      <td>Saturday 5/29/10</td>\n",
              "      <td>NaN</td>\n",
              "      <td>4 miles 27:19 it was a little short. 3.8 mile...</td>\n",
              "    </tr>\n",
              "    <tr>\n",
              "      <th>1</th>\n",
              "      <td>Monday 6/21/10</td>\n",
              "      <td>4 miles</td>\n",
              "      <td>NaN</td>\n",
              "    </tr>\n",
              "    <tr>\n",
              "      <th>2</th>\n",
              "      <td>Tuesday 6/22/10</td>\n",
              "      <td>4 miles</td>\n",
              "      <td>Swimming_ 10 laps of freestyle_5 laps of backs...</td>\n",
              "    </tr>\n",
              "    <tr>\n",
              "      <th>3</th>\n",
              "      <td>Wednesday 6/23/10</td>\n",
              "      <td>4.5 miles</td>\n",
              "      <td>35 minutes_nan_nan_nan_nan_nan_nan_nan_nan_nan...</td>\n",
              "    </tr>\n",
              "    <tr>\n",
              "      <th>4</th>\n",
              "      <td>Thursday 6/25/10</td>\n",
              "      <td>5</td>\n",
              "      <td>NaN</td>\n",
              "    </tr>\n",
              "    <tr>\n",
              "      <th>5</th>\n",
              "      <td>Friday 6/26/10</td>\n",
              "      <td>5</td>\n",
              "      <td>Swimming_ same as Tuesday_nan_nan_nan_nan_nan_...</td>\n",
              "    </tr>\n",
              "    <tr>\n",
              "      <th>6</th>\n",
              "      <td>Saturday 6/27/10</td>\n",
              "      <td>6</td>\n",
              "      <td>41:04_nan_nan_nan_nan_nan_nan_nan_nan_nan_nan...</td>\n",
              "    </tr>\n",
              "    <tr>\n",
              "      <th>7</th>\n",
              "      <td>NaN</td>\n",
              "      <td>NaN</td>\n",
              "      <td>NaN</td>\n",
              "    </tr>\n",
              "    <tr>\n",
              "      <th>8</th>\n",
              "      <td>Monday 6/28/10</td>\n",
              "      <td>4</td>\n",
              "      <td>28:04:00_5 total_nan_nan_nan_nan_nan_nan_nan_n...</td>\n",
              "    </tr>\n",
              "    <tr>\n",
              "      <th>9</th>\n",
              "      <td>Tuesday 6/29/10</td>\n",
              "      <td>5</td>\n",
              "      <td>NaN</td>\n",
              "    </tr>\n",
              "  </tbody>\n",
              "</table>\n",
              "</div>"
            ],
            "text/plain": [
              "  Running log 6/21/10   ...                                              Notes\n",
              "0     Saturday 5/29/10  ...   4 miles 27:19 it was a little short. 3.8 mile...\n",
              "1       Monday 6/21/10  ...                                                NaN\n",
              "2      Tuesday 6/22/10  ...  Swimming_ 10 laps of freestyle_5 laps of backs...\n",
              "3    Wednesday 6/23/10  ...  35 minutes_nan_nan_nan_nan_nan_nan_nan_nan_nan...\n",
              "4     Thursday 6/25/10  ...                                                NaN\n",
              "5       Friday 6/26/10  ...  Swimming_ same as Tuesday_nan_nan_nan_nan_nan_...\n",
              "6     Saturday 6/27/10  ...   41:04_nan_nan_nan_nan_nan_nan_nan_nan_nan_nan...\n",
              "7                  NaN  ...                                                NaN\n",
              "8       Monday 6/28/10  ...  28:04:00_5 total_nan_nan_nan_nan_nan_nan_nan_n...\n",
              "9      Tuesday 6/29/10  ...                                                NaN\n",
              "\n",
              "[10 rows x 3 columns]"
            ]
          },
          "metadata": {
            "tags": []
          },
          "execution_count": 10
        }
      ]
    },
    {
      "cell_type": "code",
      "metadata": {
        "id": "1rAsSZ71-ngE"
      },
      "source": [
        "# columns = ['Weekday', 'Date', 'Mileage', 'Minutes', 'Notes']\n",
        "log_csv2.columns = ['Beginning', 'Mileage', 'Notes']"
      ],
      "execution_count": 11,
      "outputs": []
    },
    {
      "cell_type": "code",
      "metadata": {
        "id": "7HRLDnCHAKxD",
        "outputId": "3d308d24-e8dc-4cb7-f478-b8f2cb2a7b4b",
        "colab": {
          "base_uri": "https://localhost:8080/",
          "height": 35
        }
      },
      "source": [
        "m = '- 7 miles - warmup with maggie - 82.190 - 6:19:16 - 13.0 avg'\n",
        "t = '- 8 miles - thanksgiving 18.229 mile'\n",
        "e = '35 minutes_nan_nan_nan_nan_nan_nan_nan_nan_nan'\n",
        "re.sub('_nan', '', e)"
      ],
      "execution_count": 12,
      "outputs": [
        {
          "output_type": "execute_result",
          "data": {
            "application/vnd.google.colaboratory.intrinsic+json": {
              "type": "string"
            },
            "text/plain": [
              "'35 minutes'"
            ]
          },
          "metadata": {
            "tags": []
          },
          "execution_count": 12
        }
      ]
    },
    {
      "cell_type": "code",
      "metadata": {
        "id": "hEUynGV-DEr4",
        "outputId": "af2cf365-4306-4575-dc3c-0912fa3d993e",
        "colab": {
          "base_uri": "https://localhost:8080/"
        }
      },
      "source": [
        "findall_n_join_fx(log_csv2, 'Beginning', 'Weekday', '\\w+day')\n",
        "log_csv2 = findall_n_join_fx(log_csv2, 'Beginning', 'Date', '\\d+/\\d+/\\d\\d')\n",
        "log_csv2.info()"
      ],
      "execution_count": 13,
      "outputs": [
        {
          "output_type": "stream",
          "text": [
            "<class 'pandas.core.frame.DataFrame'>\n",
            "RangeIndex: 1984 entries, 0 to 1983\n",
            "Data columns (total 5 columns):\n",
            " #   Column     Non-Null Count  Dtype \n",
            "---  ------     --------------  ----- \n",
            " 0   Beginning  1966 non-null   object\n",
            " 1   Mileage    1217 non-null   object\n",
            " 2   Notes      751 non-null    object\n",
            " 3   Weekday    1966 non-null   object\n",
            " 4   Date       1966 non-null   object\n",
            "dtypes: object(5)\n",
            "memory usage: 77.6+ KB\n"
          ],
          "name": "stdout"
        },
        {
          "output_type": "stream",
          "text": [
            "/usr/local/lib/python3.6/dist-packages/pandas/core/indexing.py:1596: SettingWithCopyWarning: \n",
            "A value is trying to be set on a copy of a slice from a DataFrame.\n",
            "Try using .loc[row_indexer,col_indexer] = value instead\n",
            "\n",
            "See the caveats in the documentation: https://pandas.pydata.org/pandas-docs/stable/user_guide/indexing.html#returning-a-view-versus-a-copy\n",
            "  self.obj[key] = _infer_fill_value(value)\n",
            "/usr/local/lib/python3.6/dist-packages/pandas/core/indexing.py:1745: SettingWithCopyWarning: \n",
            "A value is trying to be set on a copy of a slice from a DataFrame.\n",
            "Try using .loc[row_indexer,col_indexer] = value instead\n",
            "\n",
            "See the caveats in the documentation: https://pandas.pydata.org/pandas-docs/stable/user_guide/indexing.html#returning-a-view-versus-a-copy\n",
            "  isetter(ilocs[0], value)\n",
            "/usr/local/lib/python3.6/dist-packages/pandas/core/indexing.py:1783: SettingWithCopyWarning: \n",
            "A value is trying to be set on a copy of a slice from a DataFrame.\n",
            "Try using .loc[row_indexer,col_indexer] = value instead\n",
            "\n",
            "See the caveats in the documentation: https://pandas.pydata.org/pandas-docs/stable/user_guide/indexing.html#returning-a-view-versus-a-copy\n",
            "  self.obj[item_labels[indexer[info_axis]]] = value\n"
          ],
          "name": "stderr"
        }
      ]
    },
    {
      "cell_type": "code",
      "metadata": {
        "id": "ZaX2VS9jAOQ7"
      },
      "source": [
        "log_csv3 = log_csv2[log_csv2['Beginning'].str.startswith('TOTAL') == False]"
      ],
      "execution_count": 14,
      "outputs": []
    },
    {
      "cell_type": "code",
      "metadata": {
        "id": "8rDnaYpSh6Gb",
        "outputId": "25327b49-5ab2-4582-ccdb-53753e1c02a5",
        "colab": {
          "base_uri": "https://localhost:8080/"
        }
      },
      "source": [
        "log_csv3.loc[:,'Mileage_init'] = log_csv3.loc[:,'Beginning'].str.findall('\\d+\\.*\\d*')\n",
        "log_csv3.loc[:, 'length'] = log_csv3['Mileage_init'].str.len()\n",
        "log_csv3['counter'] = range(len(log_csv3))\n",
        "log_csv3['Workout_mins'] = np.nan\n",
        "log_csv3['Swimming_meters'] = np.nan\n",
        "log_csv3['Bike_Mileage'] = np.nan\n",
        "log_csv3 = log_csv3.rename(columns = {'Beginning': 'Notes2'})\n",
        "check_data = log_csv3[log_csv3.length >1]\n",
        "check_data2 = check_data[['Notes2','Mileage','Mileage_init','counter']]\n",
        "len(check_data2)"
      ],
      "execution_count": 15,
      "outputs": [
        {
          "output_type": "stream",
          "text": [
            "/usr/local/lib/python3.6/dist-packages/pandas/core/indexing.py:1596: SettingWithCopyWarning: \n",
            "A value is trying to be set on a copy of a slice from a DataFrame.\n",
            "Try using .loc[row_indexer,col_indexer] = value instead\n",
            "\n",
            "See the caveats in the documentation: https://pandas.pydata.org/pandas-docs/stable/user_guide/indexing.html#returning-a-view-versus-a-copy\n",
            "  self.obj[key] = _infer_fill_value(value)\n",
            "/usr/local/lib/python3.6/dist-packages/pandas/core/indexing.py:1745: SettingWithCopyWarning: \n",
            "A value is trying to be set on a copy of a slice from a DataFrame.\n",
            "Try using .loc[row_indexer,col_indexer] = value instead\n",
            "\n",
            "See the caveats in the documentation: https://pandas.pydata.org/pandas-docs/stable/user_guide/indexing.html#returning-a-view-versus-a-copy\n",
            "  isetter(ilocs[0], value)\n",
            "/usr/local/lib/python3.6/dist-packages/ipykernel_launcher.py:3: SettingWithCopyWarning: \n",
            "A value is trying to be set on a copy of a slice from a DataFrame.\n",
            "Try using .loc[row_indexer,col_indexer] = value instead\n",
            "\n",
            "See the caveats in the documentation: https://pandas.pydata.org/pandas-docs/stable/user_guide/indexing.html#returning-a-view-versus-a-copy\n",
            "  This is separate from the ipykernel package so we can avoid doing imports until\n",
            "/usr/local/lib/python3.6/dist-packages/ipykernel_launcher.py:4: SettingWithCopyWarning: \n",
            "A value is trying to be set on a copy of a slice from a DataFrame.\n",
            "Try using .loc[row_indexer,col_indexer] = value instead\n",
            "\n",
            "See the caveats in the documentation: https://pandas.pydata.org/pandas-docs/stable/user_guide/indexing.html#returning-a-view-versus-a-copy\n",
            "  after removing the cwd from sys.path.\n",
            "/usr/local/lib/python3.6/dist-packages/ipykernel_launcher.py:5: SettingWithCopyWarning: \n",
            "A value is trying to be set on a copy of a slice from a DataFrame.\n",
            "Try using .loc[row_indexer,col_indexer] = value instead\n",
            "\n",
            "See the caveats in the documentation: https://pandas.pydata.org/pandas-docs/stable/user_guide/indexing.html#returning-a-view-versus-a-copy\n",
            "  \"\"\"\n",
            "/usr/local/lib/python3.6/dist-packages/ipykernel_launcher.py:6: SettingWithCopyWarning: \n",
            "A value is trying to be set on a copy of a slice from a DataFrame.\n",
            "Try using .loc[row_indexer,col_indexer] = value instead\n",
            "\n",
            "See the caveats in the documentation: https://pandas.pydata.org/pandas-docs/stable/user_guide/indexing.html#returning-a-view-versus-a-copy\n",
            "  \n"
          ],
          "name": "stderr"
        },
        {
          "output_type": "execute_result",
          "data": {
            "text/plain": [
              "157"
            ]
          },
          "metadata": {
            "tags": []
          },
          "execution_count": 15
        }
      ]
    },
    {
      "cell_type": "markdown",
      "metadata": {
        "id": "6foCNcVOXfqJ"
      },
      "source": [
        "#### Manipulations"
      ]
    },
    {
      "cell_type": "code",
      "metadata": {
        "id": "dO3eP4gkWF3n"
      },
      "source": [
        "log_csv3.iloc[1138,5] = np.nan\n",
        "log_csv3.iloc[1206,5] = np.nan\n",
        "log_csv3.iloc[1431,5] = np.nan\n",
        "log_csv3.iloc[1432,5] = np.nan\n",
        "log_csv3.iloc[1527,5] = np.nan\n",
        "log_csv3.iloc[1561,5] = np.nan\n",
        "log_csv3.iloc[1596,5] = np.nan\n",
        "log_csv3.iloc[1614,5] = np.nan\n",
        "log_csv3.iloc[1632,5] = np.nan\n",
        "log_csv3.iloc[1648,5] = np.nan\n",
        "log_csv3.iloc[1316,5] = np.nan"
      ],
      "execution_count": 16,
      "outputs": []
    },
    {
      "cell_type": "markdown",
      "metadata": {
        "id": "va2_2CHvX5fP"
      },
      "source": [
        "#### New Log"
      ]
    },
    {
      "cell_type": "code",
      "metadata": {
        "id": "U7zAAuycUzvG"
      },
      "source": [
        "log_csv3.to_csv(\"/content/drive/My Drive/mileage_manip2.csv\")"
      ],
      "execution_count": 17,
      "outputs": []
    },
    {
      "cell_type": "code",
      "metadata": {
        "id": "fBOEAmUmfLaK",
        "outputId": "46d3f9ca-b015-4fdb-b13a-9d8fe0aeafa5",
        "colab": {
          "base_uri": "https://localhost:8080/",
          "height": 335
        }
      },
      "source": [
        "new_log = pd.read_csv(\"/content/drive/My Drive/mileage_manip2.csv\",index_col=0)\n",
        "new_log.head(10)"
      ],
      "execution_count": 18,
      "outputs": [
        {
          "output_type": "execute_result",
          "data": {
            "text/html": [
              "<div>\n",
              "<style scoped>\n",
              "    .dataframe tbody tr th:only-of-type {\n",
              "        vertical-align: middle;\n",
              "    }\n",
              "\n",
              "    .dataframe tbody tr th {\n",
              "        vertical-align: top;\n",
              "    }\n",
              "\n",
              "    .dataframe thead th {\n",
              "        text-align: right;\n",
              "    }\n",
              "</style>\n",
              "<table border=\"1\" class=\"dataframe\">\n",
              "  <thead>\n",
              "    <tr style=\"text-align: right;\">\n",
              "      <th></th>\n",
              "      <th>Notes2</th>\n",
              "      <th>Mileage</th>\n",
              "      <th>Notes</th>\n",
              "      <th>Weekday</th>\n",
              "      <th>Date</th>\n",
              "      <th>Mileage_init</th>\n",
              "      <th>length</th>\n",
              "      <th>counter</th>\n",
              "      <th>Workout_mins</th>\n",
              "      <th>Swimming_meters</th>\n",
              "      <th>Bike_Mileage</th>\n",
              "    </tr>\n",
              "  </thead>\n",
              "  <tbody>\n",
              "    <tr>\n",
              "      <th>0</th>\n",
              "      <td></td>\n",
              "      <td>NaN</td>\n",
              "      <td>4 miles 27:19 it was a little short. 3.8 mile...</td>\n",
              "      <td>Saturday</td>\n",
              "      <td>5/29/10</td>\n",
              "      <td>[]</td>\n",
              "      <td>0</td>\n",
              "      <td>0</td>\n",
              "      <td>NaN</td>\n",
              "      <td>NaN</td>\n",
              "      <td>NaN</td>\n",
              "    </tr>\n",
              "    <tr>\n",
              "      <th>1</th>\n",
              "      <td></td>\n",
              "      <td>4 miles</td>\n",
              "      <td>NaN</td>\n",
              "      <td>Monday</td>\n",
              "      <td>6/21/10</td>\n",
              "      <td>[]</td>\n",
              "      <td>0</td>\n",
              "      <td>1</td>\n",
              "      <td>NaN</td>\n",
              "      <td>NaN</td>\n",
              "      <td>NaN</td>\n",
              "    </tr>\n",
              "    <tr>\n",
              "      <th>2</th>\n",
              "      <td></td>\n",
              "      <td>4 miles</td>\n",
              "      <td>Swimming_ 10 laps of freestyle_5 laps of backs...</td>\n",
              "      <td>Tuesday</td>\n",
              "      <td>6/22/10</td>\n",
              "      <td>[]</td>\n",
              "      <td>0</td>\n",
              "      <td>2</td>\n",
              "      <td>NaN</td>\n",
              "      <td>NaN</td>\n",
              "      <td>NaN</td>\n",
              "    </tr>\n",
              "    <tr>\n",
              "      <th>3</th>\n",
              "      <td></td>\n",
              "      <td>4.5 miles</td>\n",
              "      <td>35 minutes_nan_nan_nan_nan_nan_nan_nan_nan_nan...</td>\n",
              "      <td>Wednesday</td>\n",
              "      <td>6/23/10</td>\n",
              "      <td>[]</td>\n",
              "      <td>0</td>\n",
              "      <td>3</td>\n",
              "      <td>NaN</td>\n",
              "      <td>NaN</td>\n",
              "      <td>NaN</td>\n",
              "    </tr>\n",
              "    <tr>\n",
              "      <th>4</th>\n",
              "      <td></td>\n",
              "      <td>5</td>\n",
              "      <td>NaN</td>\n",
              "      <td>Thursday</td>\n",
              "      <td>6/25/10</td>\n",
              "      <td>[]</td>\n",
              "      <td>0</td>\n",
              "      <td>4</td>\n",
              "      <td>NaN</td>\n",
              "      <td>NaN</td>\n",
              "      <td>NaN</td>\n",
              "    </tr>\n",
              "    <tr>\n",
              "      <th>5</th>\n",
              "      <td></td>\n",
              "      <td>5</td>\n",
              "      <td>Swimming_ same as Tuesday_nan_nan_nan_nan_nan_...</td>\n",
              "      <td>Friday</td>\n",
              "      <td>6/26/10</td>\n",
              "      <td>[]</td>\n",
              "      <td>0</td>\n",
              "      <td>5</td>\n",
              "      <td>NaN</td>\n",
              "      <td>NaN</td>\n",
              "      <td>NaN</td>\n",
              "    </tr>\n",
              "    <tr>\n",
              "      <th>6</th>\n",
              "      <td></td>\n",
              "      <td>6</td>\n",
              "      <td>41:04_nan_nan_nan_nan_nan_nan_nan_nan_nan_nan...</td>\n",
              "      <td>Saturday</td>\n",
              "      <td>6/27/10</td>\n",
              "      <td>[]</td>\n",
              "      <td>0</td>\n",
              "      <td>6</td>\n",
              "      <td>NaN</td>\n",
              "      <td>NaN</td>\n",
              "      <td>NaN</td>\n",
              "    </tr>\n",
              "    <tr>\n",
              "      <th>8</th>\n",
              "      <td></td>\n",
              "      <td>4</td>\n",
              "      <td>28:04:00_5 total_nan_nan_nan_nan_nan_nan_nan_n...</td>\n",
              "      <td>Monday</td>\n",
              "      <td>6/28/10</td>\n",
              "      <td>[]</td>\n",
              "      <td>0</td>\n",
              "      <td>7</td>\n",
              "      <td>NaN</td>\n",
              "      <td>NaN</td>\n",
              "      <td>NaN</td>\n",
              "    </tr>\n",
              "    <tr>\n",
              "      <th>9</th>\n",
              "      <td></td>\n",
              "      <td>5</td>\n",
              "      <td>NaN</td>\n",
              "      <td>Tuesday</td>\n",
              "      <td>6/29/10</td>\n",
              "      <td>[]</td>\n",
              "      <td>0</td>\n",
              "      <td>8</td>\n",
              "      <td>NaN</td>\n",
              "      <td>NaN</td>\n",
              "      <td>NaN</td>\n",
              "    </tr>\n",
              "    <tr>\n",
              "      <th>10</th>\n",
              "      <td></td>\n",
              "      <td>5.5</td>\n",
              "      <td>Swimming_normal_nan_nan_nan_nan_nan_nan_nan_na...</td>\n",
              "      <td>Wednesday</td>\n",
              "      <td>6/30/10</td>\n",
              "      <td>[]</td>\n",
              "      <td>0</td>\n",
              "      <td>9</td>\n",
              "      <td>NaN</td>\n",
              "      <td>NaN</td>\n",
              "      <td>NaN</td>\n",
              "    </tr>\n",
              "  </tbody>\n",
              "</table>\n",
              "</div>"
            ],
            "text/plain": [
              "   Notes2     Mileage  ... Swimming_meters Bike_Mileage\n",
              "0                 NaN  ...             NaN          NaN\n",
              "1             4 miles  ...             NaN          NaN\n",
              "2             4 miles  ...             NaN          NaN\n",
              "3           4.5 miles  ...             NaN          NaN\n",
              "4                  5   ...             NaN          NaN\n",
              "5                   5  ...             NaN          NaN\n",
              "6                   6  ...             NaN          NaN\n",
              "8                   4  ...             NaN          NaN\n",
              "9                   5  ...             NaN          NaN\n",
              "10                5.5  ...             NaN          NaN\n",
              "\n",
              "[10 rows x 11 columns]"
            ]
          },
          "metadata": {
            "tags": []
          },
          "execution_count": 18
        }
      ]
    },
    {
      "cell_type": "code",
      "metadata": {
        "id": "RNMJIwQaI57D",
        "outputId": "a1be6d56-1537-4483-bd2e-f30148d32c4a",
        "colab": {
          "base_uri": "https://localhost:8080/"
        }
      },
      "source": [
        "new_log.info()"
      ],
      "execution_count": 19,
      "outputs": [
        {
          "output_type": "stream",
          "text": [
            "<class 'pandas.core.frame.DataFrame'>\n",
            "Int64Index: 1723 entries, 0 to 1983\n",
            "Data columns (total 11 columns):\n",
            " #   Column           Non-Null Count  Dtype  \n",
            "---  ------           --------------  -----  \n",
            " 0   Notes2           1665 non-null   object \n",
            " 1   Mileage          1068 non-null   object \n",
            " 2   Notes            741 non-null    object \n",
            " 3   Weekday          1618 non-null   object \n",
            " 4   Date             139 non-null    object \n",
            " 5   Mileage_init     1712 non-null   object \n",
            " 6   length           1723 non-null   int64  \n",
            " 7   counter          1723 non-null   int64  \n",
            " 8   Workout_mins     0 non-null      float64\n",
            " 9   Swimming_meters  0 non-null      float64\n",
            " 10  Bike_Mileage     0 non-null      float64\n",
            "dtypes: float64(3), int64(2), object(6)\n",
            "memory usage: 161.5+ KB\n"
          ],
          "name": "stdout"
        }
      ]
    },
    {
      "cell_type": "code",
      "metadata": {
        "id": "y2MK9wYi_hmk"
      },
      "source": [
        "to_be_nan = list(new_log.counter[new_log.length > 1])\n",
        "for row_numb in to_be_nan:\n",
        "    new_log.iloc[row_numb,5] = np.nan"
      ],
      "execution_count": 20,
      "outputs": []
    },
    {
      "cell_type": "code",
      "metadata": {
        "id": "afv9rjznSLl2"
      },
      "source": [
        "# mi = list(new_log.Mileage_init)\n",
        "# for idx, a in enumerate(mi):\n",
        "#     try:\n",
        "#         if math.isnan(a):\n",
        "#             continue\n",
        "#     except:\n",
        "#         if len(a) < 1:\n",
        "#             continue\n",
        "#         else:\n",
        "#             new_log.Mileage_init.iloc[idx] = a[0]"
      ],
      "execution_count": 21,
      "outputs": []
    },
    {
      "cell_type": "code",
      "metadata": {
        "id": "vwOtmeGmlFE_"
      },
      "source": [
        "new_log.loc[:,'Mileage_init'] = new_log.loc[:,'Mileage_init'].str.replace('\\[\\'', '')\n",
        "new_log.loc[:,'Mileage_init'] = new_log.loc[:,'Mileage_init'].str.replace('\\'\\]', '')\n",
        "new_log.loc[:,'Mileage_init'] = new_log.loc[:,'Mileage_init'].str.replace('\\[\\]', '')"
      ],
      "execution_count": 22,
      "outputs": []
    },
    {
      "cell_type": "code",
      "metadata": {
        "id": "-XnF81yv7Byy",
        "outputId": "9c98766f-0c65-40e8-817e-9b0398d9979f",
        "colab": {
          "base_uri": "https://localhost:8080/",
          "height": 191
        }
      },
      "source": [
        "new_log.Mileage_init = pd.to_numeric(new_log.Mileage_init, errors='coerce')\n",
        "new_log.head()"
      ],
      "execution_count": 23,
      "outputs": [
        {
          "output_type": "execute_result",
          "data": {
            "text/html": [
              "<div>\n",
              "<style scoped>\n",
              "    .dataframe tbody tr th:only-of-type {\n",
              "        vertical-align: middle;\n",
              "    }\n",
              "\n",
              "    .dataframe tbody tr th {\n",
              "        vertical-align: top;\n",
              "    }\n",
              "\n",
              "    .dataframe thead th {\n",
              "        text-align: right;\n",
              "    }\n",
              "</style>\n",
              "<table border=\"1\" class=\"dataframe\">\n",
              "  <thead>\n",
              "    <tr style=\"text-align: right;\">\n",
              "      <th></th>\n",
              "      <th>Notes2</th>\n",
              "      <th>Mileage</th>\n",
              "      <th>Notes</th>\n",
              "      <th>Weekday</th>\n",
              "      <th>Date</th>\n",
              "      <th>Mileage_init</th>\n",
              "      <th>length</th>\n",
              "      <th>counter</th>\n",
              "      <th>Workout_mins</th>\n",
              "      <th>Swimming_meters</th>\n",
              "      <th>Bike_Mileage</th>\n",
              "    </tr>\n",
              "  </thead>\n",
              "  <tbody>\n",
              "    <tr>\n",
              "      <th>0</th>\n",
              "      <td></td>\n",
              "      <td>NaN</td>\n",
              "      <td>4 miles 27:19 it was a little short. 3.8 mile...</td>\n",
              "      <td>Saturday</td>\n",
              "      <td>5/29/10</td>\n",
              "      <td>NaN</td>\n",
              "      <td>0</td>\n",
              "      <td>0</td>\n",
              "      <td>NaN</td>\n",
              "      <td>NaN</td>\n",
              "      <td>NaN</td>\n",
              "    </tr>\n",
              "    <tr>\n",
              "      <th>1</th>\n",
              "      <td></td>\n",
              "      <td>4 miles</td>\n",
              "      <td>NaN</td>\n",
              "      <td>Monday</td>\n",
              "      <td>6/21/10</td>\n",
              "      <td>NaN</td>\n",
              "      <td>0</td>\n",
              "      <td>1</td>\n",
              "      <td>NaN</td>\n",
              "      <td>NaN</td>\n",
              "      <td>NaN</td>\n",
              "    </tr>\n",
              "    <tr>\n",
              "      <th>2</th>\n",
              "      <td></td>\n",
              "      <td>4 miles</td>\n",
              "      <td>Swimming_ 10 laps of freestyle_5 laps of backs...</td>\n",
              "      <td>Tuesday</td>\n",
              "      <td>6/22/10</td>\n",
              "      <td>NaN</td>\n",
              "      <td>0</td>\n",
              "      <td>2</td>\n",
              "      <td>NaN</td>\n",
              "      <td>NaN</td>\n",
              "      <td>NaN</td>\n",
              "    </tr>\n",
              "    <tr>\n",
              "      <th>3</th>\n",
              "      <td></td>\n",
              "      <td>4.5 miles</td>\n",
              "      <td>35 minutes_nan_nan_nan_nan_nan_nan_nan_nan_nan...</td>\n",
              "      <td>Wednesday</td>\n",
              "      <td>6/23/10</td>\n",
              "      <td>NaN</td>\n",
              "      <td>0</td>\n",
              "      <td>3</td>\n",
              "      <td>NaN</td>\n",
              "      <td>NaN</td>\n",
              "      <td>NaN</td>\n",
              "    </tr>\n",
              "    <tr>\n",
              "      <th>4</th>\n",
              "      <td></td>\n",
              "      <td>5</td>\n",
              "      <td>NaN</td>\n",
              "      <td>Thursday</td>\n",
              "      <td>6/25/10</td>\n",
              "      <td>NaN</td>\n",
              "      <td>0</td>\n",
              "      <td>4</td>\n",
              "      <td>NaN</td>\n",
              "      <td>NaN</td>\n",
              "      <td>NaN</td>\n",
              "    </tr>\n",
              "  </tbody>\n",
              "</table>\n",
              "</div>"
            ],
            "text/plain": [
              "  Notes2     Mileage  ... Swimming_meters Bike_Mileage\n",
              "0                NaN  ...             NaN          NaN\n",
              "1            4 miles  ...             NaN          NaN\n",
              "2            4 miles  ...             NaN          NaN\n",
              "3          4.5 miles  ...             NaN          NaN\n",
              "4                 5   ...             NaN          NaN\n",
              "\n",
              "[5 rows x 11 columns]"
            ]
          },
          "metadata": {
            "tags": []
          },
          "execution_count": 23
        }
      ]
    },
    {
      "cell_type": "code",
      "metadata": {
        "id": "2UpWZ8lZfZhz"
      },
      "source": [
        "new_log.insert(8, 'Workout_type',None)"
      ],
      "execution_count": 24,
      "outputs": []
    },
    {
      "cell_type": "code",
      "metadata": {
        "id": "fHykuzSRjRvb",
        "outputId": "7cac3af2-4db8-49b1-fe0a-8875784f988f",
        "colab": {
          "base_uri": "https://localhost:8080/",
          "height": 191
        }
      },
      "source": [
        "new_log.head()"
      ],
      "execution_count": 25,
      "outputs": [
        {
          "output_type": "execute_result",
          "data": {
            "text/html": [
              "<div>\n",
              "<style scoped>\n",
              "    .dataframe tbody tr th:only-of-type {\n",
              "        vertical-align: middle;\n",
              "    }\n",
              "\n",
              "    .dataframe tbody tr th {\n",
              "        vertical-align: top;\n",
              "    }\n",
              "\n",
              "    .dataframe thead th {\n",
              "        text-align: right;\n",
              "    }\n",
              "</style>\n",
              "<table border=\"1\" class=\"dataframe\">\n",
              "  <thead>\n",
              "    <tr style=\"text-align: right;\">\n",
              "      <th></th>\n",
              "      <th>Notes2</th>\n",
              "      <th>Mileage</th>\n",
              "      <th>Notes</th>\n",
              "      <th>Weekday</th>\n",
              "      <th>Date</th>\n",
              "      <th>Mileage_init</th>\n",
              "      <th>length</th>\n",
              "      <th>counter</th>\n",
              "      <th>Workout_type</th>\n",
              "      <th>Workout_mins</th>\n",
              "      <th>Swimming_meters</th>\n",
              "      <th>Bike_Mileage</th>\n",
              "    </tr>\n",
              "  </thead>\n",
              "  <tbody>\n",
              "    <tr>\n",
              "      <th>0</th>\n",
              "      <td></td>\n",
              "      <td>NaN</td>\n",
              "      <td>4 miles 27:19 it was a little short. 3.8 mile...</td>\n",
              "      <td>Saturday</td>\n",
              "      <td>5/29/10</td>\n",
              "      <td>NaN</td>\n",
              "      <td>0</td>\n",
              "      <td>0</td>\n",
              "      <td>None</td>\n",
              "      <td>NaN</td>\n",
              "      <td>NaN</td>\n",
              "      <td>NaN</td>\n",
              "    </tr>\n",
              "    <tr>\n",
              "      <th>1</th>\n",
              "      <td></td>\n",
              "      <td>4 miles</td>\n",
              "      <td>NaN</td>\n",
              "      <td>Monday</td>\n",
              "      <td>6/21/10</td>\n",
              "      <td>NaN</td>\n",
              "      <td>0</td>\n",
              "      <td>1</td>\n",
              "      <td>None</td>\n",
              "      <td>NaN</td>\n",
              "      <td>NaN</td>\n",
              "      <td>NaN</td>\n",
              "    </tr>\n",
              "    <tr>\n",
              "      <th>2</th>\n",
              "      <td></td>\n",
              "      <td>4 miles</td>\n",
              "      <td>Swimming_ 10 laps of freestyle_5 laps of backs...</td>\n",
              "      <td>Tuesday</td>\n",
              "      <td>6/22/10</td>\n",
              "      <td>NaN</td>\n",
              "      <td>0</td>\n",
              "      <td>2</td>\n",
              "      <td>None</td>\n",
              "      <td>NaN</td>\n",
              "      <td>NaN</td>\n",
              "      <td>NaN</td>\n",
              "    </tr>\n",
              "    <tr>\n",
              "      <th>3</th>\n",
              "      <td></td>\n",
              "      <td>4.5 miles</td>\n",
              "      <td>35 minutes_nan_nan_nan_nan_nan_nan_nan_nan_nan...</td>\n",
              "      <td>Wednesday</td>\n",
              "      <td>6/23/10</td>\n",
              "      <td>NaN</td>\n",
              "      <td>0</td>\n",
              "      <td>3</td>\n",
              "      <td>None</td>\n",
              "      <td>NaN</td>\n",
              "      <td>NaN</td>\n",
              "      <td>NaN</td>\n",
              "    </tr>\n",
              "    <tr>\n",
              "      <th>4</th>\n",
              "      <td></td>\n",
              "      <td>5</td>\n",
              "      <td>NaN</td>\n",
              "      <td>Thursday</td>\n",
              "      <td>6/25/10</td>\n",
              "      <td>NaN</td>\n",
              "      <td>0</td>\n",
              "      <td>4</td>\n",
              "      <td>None</td>\n",
              "      <td>NaN</td>\n",
              "      <td>NaN</td>\n",
              "      <td>NaN</td>\n",
              "    </tr>\n",
              "  </tbody>\n",
              "</table>\n",
              "</div>"
            ],
            "text/plain": [
              "  Notes2     Mileage  ... Swimming_meters Bike_Mileage\n",
              "0                NaN  ...             NaN          NaN\n",
              "1            4 miles  ...             NaN          NaN\n",
              "2            4 miles  ...             NaN          NaN\n",
              "3          4.5 miles  ...             NaN          NaN\n",
              "4                 5   ...             NaN          NaN\n",
              "\n",
              "[5 rows x 12 columns]"
            ]
          },
          "metadata": {
            "tags": []
          },
          "execution_count": 25
        }
      ]
    },
    {
      "cell_type": "code",
      "metadata": {
        "id": "DvKWFNrlnG82"
      },
      "source": [
        "# dropping two lines that just had \"WORKOUTS TOTAL\"\n",
        "new_log = new_log.drop([30,143,187,334,360,442,610,789,969,1113,1121,1131,1258,1259,1260,\n",
        "                        1261,1262,1453,1523,1598,1643,1652,1686,1727,1737,1747,1756,1757,\n",
        "                        1767,1776,1777,1786,1787,1796,1797,1807,1816,1825,1834,1843,1852,\n",
        "                        1861,1870,1879,1895,1904,1913,1922,1931])\n",
        "new_log['counter'] = range(len(new_log))"
      ],
      "execution_count": 26,
      "outputs": []
    },
    {
      "cell_type": "code",
      "metadata": {
        "id": "THQtld4jiY15"
      },
      "source": [
        "def workout_finder_fx(df, col, str_search, minutes, workout_type, *exclude):\n",
        "    w_o = list(df.loc[:, col].str.contains(str_search))\n",
        "    for idx, n in enumerate(w_o):\n",
        "        if n == None:\n",
        "            continue\n",
        "        elif n == True:\n",
        "            enough_to_exclude = 0\n",
        "            for e in exclude:\n",
        "                o2 = re.search(e, df[col].iloc[idx])\n",
        "                if o2:\n",
        "                    enough_to_exclude += 1\n",
        "            if enough_to_exclude < 1:\n",
        "                df['Workout_type'].iloc[idx] = workout_type\n",
        "                df['Workout_mins'].iloc[idx] = minutes\n",
        "    return df\n",
        "\n"
      ],
      "execution_count": 27,
      "outputs": []
    },
    {
      "cell_type": "code",
      "metadata": {
        "id": "gvI_UJ7HtFpq",
        "outputId": "20d0af97-c0ec-4a27-ef2b-f2500079f4a5",
        "colab": {
          "base_uri": "https://localhost:8080/"
        }
      },
      "source": [
        "ab_workout_incl_log = workout_finder_fx(new_log, 'Notes2', '[Aa]b [Ww]orkout', 20, 'abs')\n",
        "gym_workout_incl_log = workout_finder_fx(ab_workout_incl_log, 'Notes2', '[Ww]orkout',45, 'gym', '[Ss]wim', '[Aa]b')\n",
        "print(gym_workout_incl_log.iloc[1084])\n",
        "gym_workout_incl_log.iloc[1267]"
      ],
      "execution_count": 28,
      "outputs": [
        {
          "output_type": "stream",
          "text": [
            "Notes2              - mile warmup - 4.5 miles - dads loop - 3 mil...\n",
            "Mileage                                                          NaN\n",
            "Notes                                                            NaN\n",
            "Weekday                                                     Saturday\n",
            "Date                                                             NaN\n",
            "Mileage_init                                                     NaN\n",
            "length                                                             9\n",
            "counter                                                         1084\n",
            "Workout_type                                                    None\n",
            "Workout_mins                                                     NaN\n",
            "Swimming_meters                                                  NaN\n",
            "Bike_Mileage                                                     NaN\n",
            "Name: 1283, dtype: object\n"
          ],
          "name": "stdout"
        },
        {
          "output_type": "stream",
          "text": [
            "/usr/local/lib/python3.6/dist-packages/pandas/core/indexing.py:670: SettingWithCopyWarning: \n",
            "A value is trying to be set on a copy of a slice from a DataFrame\n",
            "\n",
            "See the caveats in the documentation: https://pandas.pydata.org/pandas-docs/stable/user_guide/indexing.html#returning-a-view-versus-a-copy\n",
            "  iloc._setitem_with_indexer(indexer, value)\n"
          ],
          "name": "stderr"
        },
        {
          "output_type": "execute_result",
          "data": {
            "text/plain": [
              "Notes2              - workout between classes\n",
              "Mileage                                   NaN\n",
              "Notes                                     NaN\n",
              "Weekday                              Thursday\n",
              "Date                                      NaN\n",
              "Mileage_init                              NaN\n",
              "length                                      0\n",
              "counter                                  1267\n",
              "Workout_type                              gym\n",
              "Workout_mins                               45\n",
              "Swimming_meters                           NaN\n",
              "Bike_Mileage                              NaN\n",
              "Name: 1492, dtype: object"
            ]
          },
          "metadata": {
            "tags": []
          },
          "execution_count": 28
        }
      ]
    },
    {
      "cell_type": "markdown",
      "metadata": {
        "id": "qA0LbwATM3cJ"
      },
      "source": [
        "Mileage Column"
      ]
    },
    {
      "cell_type": "code",
      "metadata": {
        "id": "lzfTK6j3X6zB",
        "outputId": "ebdf58e3-3232-46f1-fda4-bfa6dbf59dba",
        "colab": {
          "base_uri": "https://localhost:8080/"
        }
      },
      "source": [
        "gym_workout_incl_log.iloc[314]"
      ],
      "execution_count": 29,
      "outputs": [
        {
          "output_type": "execute_result",
          "data": {
            "text/plain": [
              "Notes2                                              \n",
              "Mileage             6 miles greystone then dads loop\n",
              "Notes                                            NaN\n",
              "Weekday                                     Saturday\n",
              "Date                                             NaN\n",
              "Mileage_init                                     NaN\n",
              "length                                             0\n",
              "counter                                          314\n",
              "Workout_type                                    None\n",
              "Workout_mins                                     NaN\n",
              "Swimming_meters                                  NaN\n",
              "Bike_Mileage                                     NaN\n",
              "Name: 376, dtype: object"
            ]
          },
          "metadata": {
            "tags": []
          },
          "execution_count": 29
        }
      ]
    },
    {
      "cell_type": "code",
      "metadata": {
        "id": "oe9bn5XuNS84",
        "outputId": "31348834-8f8d-4ad4-af92-4746347a6e8a",
        "colab": {
          "base_uri": "https://localhost:8080/",
          "height": 416
        }
      },
      "source": [
        "# might need to try out the \"try\" in a function to see if it can be converted to \n",
        "# an integer if not, then put the note into a separate column and delete it from\n",
        "# the mileage column\n",
        "def remove_mileage_notes_fx(df, col):\n",
        "    notes3_col = [''] * len(df[col])\n",
        "    list_col = list(df.loc[:, col])\n",
        "    for idx, a in enumerate(list_col):\n",
        "        try:\n",
        "            float_a = float(a)\n",
        "            df[col].iloc[idx] = float_a\n",
        "        except:\n",
        "            notes3_col[idx] = a\n",
        "            df[col].iloc[idx] = np.nan\n",
        "    df['Notes3'] = notes3_col\n",
        "    return df\n",
        "sep_notes_from_mileage_col = remove_mileage_notes_fx(gym_workout_incl_log, 'Mileage')\n",
        "sep_notes_from_mileage_col.head(10)"
      ],
      "execution_count": 30,
      "outputs": [
        {
          "output_type": "stream",
          "text": [
            "/usr/local/lib/python3.6/dist-packages/pandas/core/indexing.py:670: SettingWithCopyWarning: \n",
            "A value is trying to be set on a copy of a slice from a DataFrame\n",
            "\n",
            "See the caveats in the documentation: https://pandas.pydata.org/pandas-docs/stable/user_guide/indexing.html#returning-a-view-versus-a-copy\n",
            "  iloc._setitem_with_indexer(indexer, value)\n"
          ],
          "name": "stderr"
        },
        {
          "output_type": "execute_result",
          "data": {
            "text/html": [
              "<div>\n",
              "<style scoped>\n",
              "    .dataframe tbody tr th:only-of-type {\n",
              "        vertical-align: middle;\n",
              "    }\n",
              "\n",
              "    .dataframe tbody tr th {\n",
              "        vertical-align: top;\n",
              "    }\n",
              "\n",
              "    .dataframe thead th {\n",
              "        text-align: right;\n",
              "    }\n",
              "</style>\n",
              "<table border=\"1\" class=\"dataframe\">\n",
              "  <thead>\n",
              "    <tr style=\"text-align: right;\">\n",
              "      <th></th>\n",
              "      <th>Notes2</th>\n",
              "      <th>Mileage</th>\n",
              "      <th>Notes</th>\n",
              "      <th>Weekday</th>\n",
              "      <th>Date</th>\n",
              "      <th>Mileage_init</th>\n",
              "      <th>length</th>\n",
              "      <th>counter</th>\n",
              "      <th>Workout_type</th>\n",
              "      <th>Workout_mins</th>\n",
              "      <th>Swimming_meters</th>\n",
              "      <th>Bike_Mileage</th>\n",
              "      <th>Notes3</th>\n",
              "    </tr>\n",
              "  </thead>\n",
              "  <tbody>\n",
              "    <tr>\n",
              "      <th>0</th>\n",
              "      <td></td>\n",
              "      <td>NaN</td>\n",
              "      <td>4 miles 27:19 it was a little short. 3.8 mile...</td>\n",
              "      <td>Saturday</td>\n",
              "      <td>5/29/10</td>\n",
              "      <td>NaN</td>\n",
              "      <td>0</td>\n",
              "      <td>0</td>\n",
              "      <td>None</td>\n",
              "      <td>NaN</td>\n",
              "      <td>NaN</td>\n",
              "      <td>NaN</td>\n",
              "      <td></td>\n",
              "    </tr>\n",
              "    <tr>\n",
              "      <th>1</th>\n",
              "      <td></td>\n",
              "      <td>NaN</td>\n",
              "      <td>NaN</td>\n",
              "      <td>Monday</td>\n",
              "      <td>6/21/10</td>\n",
              "      <td>NaN</td>\n",
              "      <td>0</td>\n",
              "      <td>1</td>\n",
              "      <td>None</td>\n",
              "      <td>NaN</td>\n",
              "      <td>NaN</td>\n",
              "      <td>NaN</td>\n",
              "      <td>4 miles</td>\n",
              "    </tr>\n",
              "    <tr>\n",
              "      <th>2</th>\n",
              "      <td></td>\n",
              "      <td>NaN</td>\n",
              "      <td>Swimming_ 10 laps of freestyle_5 laps of backs...</td>\n",
              "      <td>Tuesday</td>\n",
              "      <td>6/22/10</td>\n",
              "      <td>NaN</td>\n",
              "      <td>0</td>\n",
              "      <td>2</td>\n",
              "      <td>None</td>\n",
              "      <td>NaN</td>\n",
              "      <td>NaN</td>\n",
              "      <td>NaN</td>\n",
              "      <td>4 miles</td>\n",
              "    </tr>\n",
              "    <tr>\n",
              "      <th>3</th>\n",
              "      <td></td>\n",
              "      <td>NaN</td>\n",
              "      <td>35 minutes_nan_nan_nan_nan_nan_nan_nan_nan_nan...</td>\n",
              "      <td>Wednesday</td>\n",
              "      <td>6/23/10</td>\n",
              "      <td>NaN</td>\n",
              "      <td>0</td>\n",
              "      <td>3</td>\n",
              "      <td>None</td>\n",
              "      <td>NaN</td>\n",
              "      <td>NaN</td>\n",
              "      <td>NaN</td>\n",
              "      <td>4.5 miles</td>\n",
              "    </tr>\n",
              "    <tr>\n",
              "      <th>4</th>\n",
              "      <td></td>\n",
              "      <td>5</td>\n",
              "      <td>NaN</td>\n",
              "      <td>Thursday</td>\n",
              "      <td>6/25/10</td>\n",
              "      <td>NaN</td>\n",
              "      <td>0</td>\n",
              "      <td>4</td>\n",
              "      <td>None</td>\n",
              "      <td>NaN</td>\n",
              "      <td>NaN</td>\n",
              "      <td>NaN</td>\n",
              "      <td></td>\n",
              "    </tr>\n",
              "    <tr>\n",
              "      <th>5</th>\n",
              "      <td></td>\n",
              "      <td>5</td>\n",
              "      <td>Swimming_ same as Tuesday_nan_nan_nan_nan_nan_...</td>\n",
              "      <td>Friday</td>\n",
              "      <td>6/26/10</td>\n",
              "      <td>NaN</td>\n",
              "      <td>0</td>\n",
              "      <td>5</td>\n",
              "      <td>None</td>\n",
              "      <td>NaN</td>\n",
              "      <td>NaN</td>\n",
              "      <td>NaN</td>\n",
              "      <td></td>\n",
              "    </tr>\n",
              "    <tr>\n",
              "      <th>6</th>\n",
              "      <td></td>\n",
              "      <td>6</td>\n",
              "      <td>41:04_nan_nan_nan_nan_nan_nan_nan_nan_nan_nan...</td>\n",
              "      <td>Saturday</td>\n",
              "      <td>6/27/10</td>\n",
              "      <td>NaN</td>\n",
              "      <td>0</td>\n",
              "      <td>6</td>\n",
              "      <td>None</td>\n",
              "      <td>NaN</td>\n",
              "      <td>NaN</td>\n",
              "      <td>NaN</td>\n",
              "      <td></td>\n",
              "    </tr>\n",
              "    <tr>\n",
              "      <th>8</th>\n",
              "      <td></td>\n",
              "      <td>4</td>\n",
              "      <td>28:04:00_5 total_nan_nan_nan_nan_nan_nan_nan_n...</td>\n",
              "      <td>Monday</td>\n",
              "      <td>6/28/10</td>\n",
              "      <td>NaN</td>\n",
              "      <td>0</td>\n",
              "      <td>7</td>\n",
              "      <td>None</td>\n",
              "      <td>NaN</td>\n",
              "      <td>NaN</td>\n",
              "      <td>NaN</td>\n",
              "      <td></td>\n",
              "    </tr>\n",
              "    <tr>\n",
              "      <th>9</th>\n",
              "      <td></td>\n",
              "      <td>5</td>\n",
              "      <td>NaN</td>\n",
              "      <td>Tuesday</td>\n",
              "      <td>6/29/10</td>\n",
              "      <td>NaN</td>\n",
              "      <td>0</td>\n",
              "      <td>8</td>\n",
              "      <td>None</td>\n",
              "      <td>NaN</td>\n",
              "      <td>NaN</td>\n",
              "      <td>NaN</td>\n",
              "      <td></td>\n",
              "    </tr>\n",
              "    <tr>\n",
              "      <th>10</th>\n",
              "      <td></td>\n",
              "      <td>5.5</td>\n",
              "      <td>Swimming_normal_nan_nan_nan_nan_nan_nan_nan_na...</td>\n",
              "      <td>Wednesday</td>\n",
              "      <td>6/30/10</td>\n",
              "      <td>NaN</td>\n",
              "      <td>0</td>\n",
              "      <td>9</td>\n",
              "      <td>None</td>\n",
              "      <td>NaN</td>\n",
              "      <td>NaN</td>\n",
              "      <td>NaN</td>\n",
              "      <td></td>\n",
              "    </tr>\n",
              "  </tbody>\n",
              "</table>\n",
              "</div>"
            ],
            "text/plain": [
              "   Notes2 Mileage  ... Bike_Mileage      Notes3\n",
              "0             NaN  ...          NaN            \n",
              "1             NaN  ...          NaN     4 miles\n",
              "2             NaN  ...          NaN     4 miles\n",
              "3             NaN  ...          NaN   4.5 miles\n",
              "4               5  ...          NaN            \n",
              "5               5  ...          NaN            \n",
              "6               6  ...          NaN            \n",
              "8               4  ...          NaN            \n",
              "9               5  ...          NaN            \n",
              "10            5.5  ...          NaN            \n",
              "\n",
              "[10 rows x 13 columns]"
            ]
          },
          "metadata": {
            "tags": []
          },
          "execution_count": 30
        }
      ]
    },
    {
      "cell_type": "markdown",
      "metadata": {
        "id": "CO_T5VnWYkFH"
      },
      "source": [
        "took all of the text that was in the mileage column and moved it to a separate column, and left any number that was purely a number and converted the column to be integers. "
      ]
    },
    {
      "cell_type": "code",
      "metadata": {
        "id": "xKeDD2T6YV2M"
      },
      "source": [
        "# now I need to go through the notes3 column and pull out any that have just mileage, \n",
        "#then I will need to go through and search those that have dates and other mess \n",
        "#in there, then I will need to apply the same functions to the Notes column"
      ],
      "execution_count": 31,
      "outputs": []
    },
    {
      "cell_type": "code",
      "metadata": {
        "id": "Zx_WCf5130Qa",
        "outputId": "7d0faecf-7682-427f-f281-78930922b09e",
        "colab": {
          "base_uri": "https://localhost:8080/",
          "height": 391
        }
      },
      "source": [
        "findall_n_join_fx(sep_notes_from_mileage_col, 'Notes3', 'Date2', '\\d+/\\d+/\\d\\d')"
      ],
      "execution_count": 32,
      "outputs": [
        {
          "output_type": "execute_result",
          "data": {
            "text/html": [
              "<div>\n",
              "<style scoped>\n",
              "    .dataframe tbody tr th:only-of-type {\n",
              "        vertical-align: middle;\n",
              "    }\n",
              "\n",
              "    .dataframe tbody tr th {\n",
              "        vertical-align: top;\n",
              "    }\n",
              "\n",
              "    .dataframe thead th {\n",
              "        text-align: right;\n",
              "    }\n",
              "</style>\n",
              "<table border=\"1\" class=\"dataframe\">\n",
              "  <thead>\n",
              "    <tr style=\"text-align: right;\">\n",
              "      <th></th>\n",
              "      <th>Notes2</th>\n",
              "      <th>Mileage</th>\n",
              "      <th>Notes</th>\n",
              "      <th>Weekday</th>\n",
              "      <th>Date</th>\n",
              "      <th>Mileage_init</th>\n",
              "      <th>length</th>\n",
              "      <th>counter</th>\n",
              "      <th>Workout_type</th>\n",
              "      <th>Workout_mins</th>\n",
              "      <th>Swimming_meters</th>\n",
              "      <th>Bike_Mileage</th>\n",
              "      <th>Notes3</th>\n",
              "      <th>Date2</th>\n",
              "    </tr>\n",
              "  </thead>\n",
              "  <tbody>\n",
              "    <tr>\n",
              "      <th>0</th>\n",
              "      <td></td>\n",
              "      <td>NaN</td>\n",
              "      <td>4 miles 27:19 it was a little short. 3.8 mile...</td>\n",
              "      <td>Saturday</td>\n",
              "      <td>5/29/10</td>\n",
              "      <td>NaN</td>\n",
              "      <td>0</td>\n",
              "      <td>0</td>\n",
              "      <td>None</td>\n",
              "      <td>NaN</td>\n",
              "      <td>NaN</td>\n",
              "      <td>NaN</td>\n",
              "      <td></td>\n",
              "      <td></td>\n",
              "    </tr>\n",
              "    <tr>\n",
              "      <th>1</th>\n",
              "      <td></td>\n",
              "      <td>NaN</td>\n",
              "      <td>NaN</td>\n",
              "      <td>Monday</td>\n",
              "      <td>6/21/10</td>\n",
              "      <td>NaN</td>\n",
              "      <td>0</td>\n",
              "      <td>1</td>\n",
              "      <td>None</td>\n",
              "      <td>NaN</td>\n",
              "      <td>NaN</td>\n",
              "      <td>NaN</td>\n",
              "      <td>4 miles</td>\n",
              "      <td></td>\n",
              "    </tr>\n",
              "    <tr>\n",
              "      <th>2</th>\n",
              "      <td></td>\n",
              "      <td>NaN</td>\n",
              "      <td>Swimming_ 10 laps of freestyle_5 laps of backs...</td>\n",
              "      <td>Tuesday</td>\n",
              "      <td>6/22/10</td>\n",
              "      <td>NaN</td>\n",
              "      <td>0</td>\n",
              "      <td>2</td>\n",
              "      <td>None</td>\n",
              "      <td>NaN</td>\n",
              "      <td>NaN</td>\n",
              "      <td>NaN</td>\n",
              "      <td>4 miles</td>\n",
              "      <td></td>\n",
              "    </tr>\n",
              "    <tr>\n",
              "      <th>3</th>\n",
              "      <td></td>\n",
              "      <td>NaN</td>\n",
              "      <td>35 minutes_nan_nan_nan_nan_nan_nan_nan_nan_nan...</td>\n",
              "      <td>Wednesday</td>\n",
              "      <td>6/23/10</td>\n",
              "      <td>NaN</td>\n",
              "      <td>0</td>\n",
              "      <td>3</td>\n",
              "      <td>None</td>\n",
              "      <td>NaN</td>\n",
              "      <td>NaN</td>\n",
              "      <td>NaN</td>\n",
              "      <td>4.5 miles</td>\n",
              "      <td></td>\n",
              "    </tr>\n",
              "    <tr>\n",
              "      <th>4</th>\n",
              "      <td></td>\n",
              "      <td>5</td>\n",
              "      <td>NaN</td>\n",
              "      <td>Thursday</td>\n",
              "      <td>6/25/10</td>\n",
              "      <td>NaN</td>\n",
              "      <td>0</td>\n",
              "      <td>4</td>\n",
              "      <td>None</td>\n",
              "      <td>NaN</td>\n",
              "      <td>NaN</td>\n",
              "      <td>NaN</td>\n",
              "      <td></td>\n",
              "      <td></td>\n",
              "    </tr>\n",
              "    <tr>\n",
              "      <th>...</th>\n",
              "      <td>...</td>\n",
              "      <td>...</td>\n",
              "      <td>...</td>\n",
              "      <td>...</td>\n",
              "      <td>...</td>\n",
              "      <td>...</td>\n",
              "      <td>...</td>\n",
              "      <td>...</td>\n",
              "      <td>...</td>\n",
              "      <td>...</td>\n",
              "      <td>...</td>\n",
              "      <td>...</td>\n",
              "      <td>...</td>\n",
              "      <td>...</td>\n",
              "    </tr>\n",
              "    <tr>\n",
              "      <th>1978</th>\n",
              "      <td>- 10 miles</td>\n",
              "      <td>NaN</td>\n",
              "      <td>NaN</td>\n",
              "      <td>Sunday</td>\n",
              "      <td>NaN</td>\n",
              "      <td>10.0</td>\n",
              "      <td>1</td>\n",
              "      <td>1669</td>\n",
              "      <td>None</td>\n",
              "      <td>NaN</td>\n",
              "      <td>NaN</td>\n",
              "      <td>NaN</td>\n",
              "      <td></td>\n",
              "      <td></td>\n",
              "    </tr>\n",
              "    <tr>\n",
              "      <th>1980</th>\n",
              "      <td>-  - off</td>\n",
              "      <td>NaN</td>\n",
              "      <td>NaN</td>\n",
              "      <td>Monday</td>\n",
              "      <td>12/21/15</td>\n",
              "      <td>NaN</td>\n",
              "      <td>0</td>\n",
              "      <td>1670</td>\n",
              "      <td>None</td>\n",
              "      <td>NaN</td>\n",
              "      <td>NaN</td>\n",
              "      <td>NaN</td>\n",
              "      <td></td>\n",
              "      <td></td>\n",
              "    </tr>\n",
              "    <tr>\n",
              "      <th>1981</th>\n",
              "      <td>- I've failed. Not going to be able to run fo...</td>\n",
              "      <td>NaN</td>\n",
              "      <td>NaN</td>\n",
              "      <td>Tuesday</td>\n",
              "      <td>NaN</td>\n",
              "      <td>NaN</td>\n",
              "      <td>0</td>\n",
              "      <td>1671</td>\n",
              "      <td>None</td>\n",
              "      <td>NaN</td>\n",
              "      <td>NaN</td>\n",
              "      <td>NaN</td>\n",
              "      <td></td>\n",
              "      <td></td>\n",
              "    </tr>\n",
              "    <tr>\n",
              "      <th>1982</th>\n",
              "      <td>-  - 3 miles</td>\n",
              "      <td>NaN</td>\n",
              "      <td>NaN</td>\n",
              "      <td>Thursday</td>\n",
              "      <td>12/25/15</td>\n",
              "      <td>3.0</td>\n",
              "      <td>1</td>\n",
              "      <td>1672</td>\n",
              "      <td>None</td>\n",
              "      <td>NaN</td>\n",
              "      <td>NaN</td>\n",
              "      <td>NaN</td>\n",
              "      <td></td>\n",
              "      <td></td>\n",
              "    </tr>\n",
              "    <tr>\n",
              "      <th>1983</th>\n",
              "      <td>-  - 30 minutes biking - 9.5 miles</td>\n",
              "      <td>NaN</td>\n",
              "      <td>NaN</td>\n",
              "      <td>Thursday</td>\n",
              "      <td>12/31/15</td>\n",
              "      <td>NaN</td>\n",
              "      <td>2</td>\n",
              "      <td>1673</td>\n",
              "      <td>None</td>\n",
              "      <td>NaN</td>\n",
              "      <td>NaN</td>\n",
              "      <td>NaN</td>\n",
              "      <td></td>\n",
              "      <td></td>\n",
              "    </tr>\n",
              "  </tbody>\n",
              "</table>\n",
              "<p>1674 rows × 14 columns</p>\n",
              "</div>"
            ],
            "text/plain": [
              "                                                 Notes2  ... Date2\n",
              "0                                                        ...      \n",
              "1                                                        ...      \n",
              "2                                                        ...      \n",
              "3                                                        ...      \n",
              "4                                                        ...      \n",
              "...                                                 ...  ...   ...\n",
              "1978                                         - 10 miles  ...      \n",
              "1980                                           -  - off  ...      \n",
              "1981   - I've failed. Not going to be able to run fo...  ...      \n",
              "1982                                       -  - 3 miles  ...      \n",
              "1983                 -  - 30 minutes biking - 9.5 miles  ...      \n",
              "\n",
              "[1674 rows x 14 columns]"
            ]
          },
          "metadata": {
            "tags": []
          },
          "execution_count": 32
        }
      ]
    },
    {
      "cell_type": "code",
      "metadata": {
        "id": "AuYxdRm0LIWp",
        "outputId": "b86248e8-cba4-4a4b-ba23-9dc6f5128953",
        "colab": {
          "base_uri": "https://localhost:8080/",
          "height": 35
        }
      },
      "source": [
        "sep_notes_from_mileage_col.Date.loc[34]"
      ],
      "execution_count": 33,
      "outputs": [
        {
          "output_type": "execute_result",
          "data": {
            "application/vnd.google.colaboratory.intrinsic+json": {
              "type": "string"
            },
            "text/plain": [
              "'7/28/10'"
            ]
          },
          "metadata": {
            "tags": []
          },
          "execution_count": 33
        }
      ]
    },
    {
      "cell_type": "code",
      "metadata": {
        "id": "TyNktNm-Cvx9"
      },
      "source": [
        "def date_finder_fx(df, new_date):\n",
        "    date_col = list(df[new_date])\n",
        "    for idx, date in enumerate(date_col):\n",
        "        try:\n",
        "            if math.isnan(date):\n",
        "                continue\n",
        "        except:\n",
        "            if date == '':\n",
        "                continue\n",
        "            try:\n",
        "                if math.isnan(df['Date'].iloc[idx]):\n",
        "                    df['Date'].iloc[idx] = date\n",
        "            except:\n",
        "                continue\n",
        "                "
      ],
      "execution_count": 34,
      "outputs": []
    },
    {
      "cell_type": "code",
      "metadata": {
        "id": "5o-ICFgOFudn",
        "outputId": "7fee8966-e212-4118-bf30-e8be3dfbc134",
        "colab": {
          "base_uri": "https://localhost:8080/"
        }
      },
      "source": [
        "date_finder_fx(sep_notes_from_mileage_col, 'Date2')"
      ],
      "execution_count": 35,
      "outputs": [
        {
          "output_type": "stream",
          "text": [
            "/usr/local/lib/python3.6/dist-packages/pandas/core/indexing.py:670: SettingWithCopyWarning: \n",
            "A value is trying to be set on a copy of a slice from a DataFrame\n",
            "\n",
            "See the caveats in the documentation: https://pandas.pydata.org/pandas-docs/stable/user_guide/indexing.html#returning-a-view-versus-a-copy\n",
            "  iloc._setitem_with_indexer(indexer, value)\n"
          ],
          "name": "stderr"
        }
      ]
    },
    {
      "cell_type": "code",
      "metadata": {
        "id": "-ioxXcXHYssZ",
        "outputId": "3de0ce8c-40a0-4be4-d0bd-da0a16d72181",
        "colab": {
          "base_uri": "https://localhost:8080/"
        }
      },
      "source": [
        "sep_notes_from_mileage_col.info()"
      ],
      "execution_count": 36,
      "outputs": [
        {
          "output_type": "stream",
          "text": [
            "<class 'pandas.core.frame.DataFrame'>\n",
            "Int64Index: 1674 entries, 0 to 1983\n",
            "Data columns (total 14 columns):\n",
            " #   Column           Non-Null Count  Dtype  \n",
            "---  ------           --------------  -----  \n",
            " 0   Notes2           1616 non-null   object \n",
            " 1   Mileage          43 non-null     object \n",
            " 2   Notes            740 non-null    object \n",
            " 3   Weekday          1616 non-null   object \n",
            " 4   Date             292 non-null    object \n",
            " 5   Mileage_init     381 non-null    float64\n",
            " 6   length           1674 non-null   int64  \n",
            " 7   counter          1674 non-null   int64  \n",
            " 8   Workout_type     68 non-null     object \n",
            " 9   Workout_mins     68 non-null     float64\n",
            " 10  Swimming_meters  0 non-null      float64\n",
            " 11  Bike_Mileage     0 non-null      float64\n",
            " 12  Notes3           1674 non-null   object \n",
            " 13  Date2            1674 non-null   object \n",
            "dtypes: float64(4), int64(2), object(8)\n",
            "memory usage: 276.2+ KB\n"
          ],
          "name": "stdout"
        }
      ]
    },
    {
      "cell_type": "code",
      "metadata": {
        "id": "Vj3O8iha_Uye"
      },
      "source": [
        "sep_notes_from_mileage_col.loc[:, 'Notes'] = sep_notes_from_mileage_col.loc[:, 'Notes'].str.replace('_nan', '')"
      ],
      "execution_count": 37,
      "outputs": []
    },
    {
      "cell_type": "code",
      "metadata": {
        "id": "y3ojPpCDYNU0"
      },
      "source": [
        "sep_notes_from_mileage_col.loc[:, 'Notes'] = sep_notes_from_mileage_col.loc[:, 'Notes'].str.lower()\n",
        "sep_notes_from_mileage_col.loc[:, 'Notes2'] = sep_notes_from_mileage_col.loc[:, 'Notes2'].str.lower()\n",
        "sep_notes_from_mileage_col.loc[:, 'Notes3'] = sep_notes_from_mileage_col.loc[:, 'Notes3'].str.lower()"
      ],
      "execution_count": 38,
      "outputs": []
    },
    {
      "cell_type": "code",
      "metadata": {
        "id": "Y9kYHZ2aexO4"
      },
      "source": [
        "sep_notes_from_mileage_col['Mileage_init2'] = sep_notes_from_mileage_col.Notes3.str.findall('\\d+\\.?\\d* miles?')\n",
        "sep_notes_from_mileage_col.loc[:, 'Notes3'] = sep_notes_from_mileage_col.loc[:, 'Notes3'].str.replace('\\d+\\.?\\d* miles?', '')\n",
        "sep_notes_from_mileage_col['Mileage_init3'] = sep_notes_from_mileage_col.Notes.str.findall('\\d+\\.?\\d* miles?')\n",
        "sep_notes_from_mileage_col.loc[:, 'Notes'] = sep_notes_from_mileage_col.loc[:, 'Notes'].str.replace('\\d+\\.?\\d* miles?', '')\n",
        "sep_notes_from_mileage_col['Mileage_init4'] = sep_notes_from_mileage_col.Notes3.str.findall('\\d+\\.?\\d* total')\n",
        "sep_notes_from_mileage_col.loc[:, 'Notes3'] = sep_notes_from_mileage_col.loc[:, 'Notes3'].str.replace('\\d+\\.?\\d* total', '')\n",
        "sep_notes_from_mileage_col['Mileage_init5'] = sep_notes_from_mileage_col.Notes.str.findall('\\d+\\.?\\d* total')\n",
        "sep_notes_from_mileage_col.loc[:, 'Notes'] = sep_notes_from_mileage_col.loc[:, 'Notes'].str.replace('\\d+\\.?\\d* total', '')"
      ],
      "execution_count": 39,
      "outputs": []
    },
    {
      "cell_type": "code",
      "metadata": {
        "id": "isUaqCJ8etL7",
        "outputId": "b9df6fce-d300-4280-fd66-0f5d3655ec29",
        "colab": {
          "base_uri": "https://localhost:8080/"
        }
      },
      "source": [
        "gym_workout_incl_log2 = workout_finder_fx(sep_notes_from_mileage_col, 'Notes', 'workout', 45, 'gym', 'swim', 'ab','pool')\n",
        "gym_workout_incl_log2.info()"
      ],
      "execution_count": 40,
      "outputs": [
        {
          "output_type": "stream",
          "text": [
            "<class 'pandas.core.frame.DataFrame'>\n",
            "Int64Index: 1674 entries, 0 to 1983\n",
            "Data columns (total 18 columns):\n",
            " #   Column           Non-Null Count  Dtype  \n",
            "---  ------           --------------  -----  \n",
            " 0   Notes2           1616 non-null   object \n",
            " 1   Mileage          43 non-null     object \n",
            " 2   Notes            740 non-null    object \n",
            " 3   Weekday          1616 non-null   object \n",
            " 4   Date             292 non-null    object \n",
            " 5   Mileage_init     381 non-null    float64\n",
            " 6   length           1674 non-null   int64  \n",
            " 7   counter          1674 non-null   int64  \n",
            " 8   Workout_type     73 non-null     object \n",
            " 9   Workout_mins     73 non-null     float64\n",
            " 10  Swimming_meters  0 non-null      float64\n",
            " 11  Bike_Mileage     0 non-null      float64\n",
            " 12  Notes3           1674 non-null   object \n",
            " 13  Date2            1674 non-null   object \n",
            " 14  Mileage_init2    1674 non-null   object \n",
            " 15  Mileage_init3    740 non-null    object \n",
            " 16  Mileage_init4    1674 non-null   object \n",
            " 17  Mileage_init5    740 non-null    object \n",
            "dtypes: float64(4), int64(2), object(12)\n",
            "memory usage: 328.5+ KB\n"
          ],
          "name": "stdout"
        },
        {
          "output_type": "stream",
          "text": [
            "/usr/local/lib/python3.6/dist-packages/pandas/core/indexing.py:670: SettingWithCopyWarning: \n",
            "A value is trying to be set on a copy of a slice from a DataFrame\n",
            "\n",
            "See the caveats in the documentation: https://pandas.pydata.org/pandas-docs/stable/user_guide/indexing.html#returning-a-view-versus-a-copy\n",
            "  iloc._setitem_with_indexer(indexer, value)\n"
          ],
          "name": "stderr"
        }
      ]
    },
    {
      "cell_type": "code",
      "metadata": {
        "id": "cuEdXNJtf46b"
      },
      "source": [
        "def swim_workout_fx(df, col, str_search): \n",
        "    for s in str_search:\n",
        "        w_o2 = list(df.loc[:, col].str.contains(s))\n",
        "        for idx, w in enumerate(w_o2):\n",
        "            if w == None:\n",
        "                continue\n",
        "            elif w == True:\n",
        "                df['Swimming_meters'].iloc[idx] = 1600"
      ],
      "execution_count": 41,
      "outputs": []
    },
    {
      "cell_type": "code",
      "metadata": {
        "id": "c0n2AxLBlWZ9",
        "outputId": "47274ff9-c236-4fd9-dec5-35aa268ea4e8",
        "colab": {
          "base_uri": "https://localhost:8080/"
        }
      },
      "source": [
        "swim_workout_fx(gym_workout_incl_log2, 'Notes', ['swim','pool'])\n",
        "swim_workout_fx(gym_workout_incl_log2, 'Notes2', ['swim','pool'])\n",
        "swim_workout_fx(gym_workout_incl_log2, 'Notes3', ['swim','pool'])\n",
        "gym_workout_incl_log2.info()"
      ],
      "execution_count": 42,
      "outputs": [
        {
          "output_type": "stream",
          "text": [
            "<class 'pandas.core.frame.DataFrame'>\n",
            "Int64Index: 1674 entries, 0 to 1983\n",
            "Data columns (total 18 columns):\n",
            " #   Column           Non-Null Count  Dtype  \n",
            "---  ------           --------------  -----  \n",
            " 0   Notes2           1616 non-null   object \n",
            " 1   Mileage          43 non-null     object \n",
            " 2   Notes            740 non-null    object \n",
            " 3   Weekday          1616 non-null   object \n",
            " 4   Date             292 non-null    object \n",
            " 5   Mileage_init     381 non-null    float64\n",
            " 6   length           1674 non-null   int64  \n",
            " 7   counter          1674 non-null   int64  \n",
            " 8   Workout_type     73 non-null     object \n",
            " 9   Workout_mins     73 non-null     float64\n",
            " 10  Swimming_meters  39 non-null     float64\n",
            " 11  Bike_Mileage     0 non-null      float64\n",
            " 12  Notes3           1674 non-null   object \n",
            " 13  Date2            1674 non-null   object \n",
            " 14  Mileage_init2    1674 non-null   object \n",
            " 15  Mileage_init3    740 non-null    object \n",
            " 16  Mileage_init4    1674 non-null   object \n",
            " 17  Mileage_init5    740 non-null    object \n",
            "dtypes: float64(4), int64(2), object(12)\n",
            "memory usage: 328.5+ KB\n"
          ],
          "name": "stdout"
        },
        {
          "output_type": "stream",
          "text": [
            "/usr/local/lib/python3.6/dist-packages/pandas/core/indexing.py:670: SettingWithCopyWarning: \n",
            "A value is trying to be set on a copy of a slice from a DataFrame\n",
            "\n",
            "See the caveats in the documentation: https://pandas.pydata.org/pandas-docs/stable/user_guide/indexing.html#returning-a-view-versus-a-copy\n",
            "  iloc._setitem_with_indexer(indexer, value)\n"
          ],
          "name": "stderr"
        }
      ]
    },
    {
      "cell_type": "code",
      "metadata": {
        "id": "A1KISFVDn6Zs"
      },
      "source": [
        "def mileage_finder_fx(df, init, total_or_miles):\n",
        "    multiple_miles = []\n",
        "    too_big = []\n",
        "    already_in_col = []\n",
        "    for idx, row in enumerate(df.loc[:, init]):\n",
        "        try:\n",
        "            if math.isnan(row):\n",
        "                continue\n",
        "        except:\n",
        "            if len(row) > 1:\n",
        "                multiple_miles.append(idx)\n",
        "            elif len(row) == 1:\n",
        "                mile_str = row[0].replace(total_or_miles, '')\n",
        "                try:\n",
        "                    mile_float = float(mile_str)\n",
        "                    if math.isnan(df['Mileage'].iloc[idx]):\n",
        "                        if mile_float > 27.2:\n",
        "                            too_big.append(idx)\n",
        "                        else:\n",
        "                            df['Mileage'].iloc[idx] = mile_float\n",
        "                    else:\n",
        "                        already_in_col.append(idx)\n",
        "                except:\n",
        "                    continue\n",
        "    return multiple_miles, too_big, already_in_col\n",
        "\n"
      ],
      "execution_count": 43,
      "outputs": []
    },
    {
      "cell_type": "code",
      "metadata": {
        "id": "kPH2xU9AKGdF",
        "outputId": "343d78d8-3ace-4f7d-d0a0-c737ff4d3187",
        "colab": {
          "base_uri": "https://localhost:8080/"
        }
      },
      "source": [
        "mm3, tb3, aic3 = mileage_finder_fx(gym_workout_incl_log2,'Mileage_init4','total')\n",
        "print(len(mm3),len(tb3),len(aic3))\n",
        "mm4, tb4, aic4 = mileage_finder_fx(gym_workout_incl_log2, 'Mileage_init5', 'total')\n",
        "print(len(mm4),len(tb4),len(aic4))\n",
        "mm, tb, aic = mileage_finder_fx(gym_workout_incl_log2,'Mileage_init2','miles')\n",
        "print(len(mm),len(tb),len(aic))\n",
        "mm2, tb2, aic2 = mileage_finder_fx(gym_workout_incl_log2, 'Mileage_init3', 'miles')\n",
        "print(len(mm2),len(tb2),len(aic2))"
      ],
      "execution_count": 44,
      "outputs": [
        {
          "output_type": "stream",
          "text": [
            "0 0 0\n",
            "1 0 3\n"
          ],
          "name": "stdout"
        },
        {
          "output_type": "stream",
          "text": [
            "/usr/local/lib/python3.6/dist-packages/pandas/core/indexing.py:670: SettingWithCopyWarning: \n",
            "A value is trying to be set on a copy of a slice from a DataFrame\n",
            "\n",
            "See the caveats in the documentation: https://pandas.pydata.org/pandas-docs/stable/user_guide/indexing.html#returning-a-view-versus-a-copy\n",
            "  iloc._setitem_with_indexer(indexer, value)\n"
          ],
          "name": "stderr"
        },
        {
          "output_type": "stream",
          "text": [
            "5 3 36\n",
            "67 0 89\n"
          ],
          "name": "stdout"
        }
      ]
    },
    {
      "cell_type": "markdown",
      "metadata": {
        "id": "a1LWxdZR34m0"
      },
      "source": [
        "For each of the following I will be manually putting in the data to fix the issue since they are outliers in being able to conform nicely to a computer function. "
      ]
    },
    {
      "cell_type": "code",
      "metadata": {
        "id": "TgbUADL6Iv6b"
      },
      "source": [
        "comb = mm4 + aic4 + mm + tb + aic + mm2 + aic2\n",
        "comb_array = np.array(comb)\n",
        "comb_uni = np.unique(comb_array)"
      ],
      "execution_count": 45,
      "outputs": []
    },
    {
      "cell_type": "code",
      "metadata": {
        "id": "YmYf9_MJoUxV"
      },
      "source": [
        "time_added = gym_workout_incl_log2.copy()\n",
        "time_added.insert(2, 'Time', None)"
      ],
      "execution_count": 46,
      "outputs": []
    },
    {
      "cell_type": "code",
      "metadata": {
        "id": "iNiPYof06QRC"
      },
      "source": [
        "raw_string_added = pd.merge(time_added, raw_string2, how='left',left_index=True, right_index=True)"
      ],
      "execution_count": 47,
      "outputs": []
    },
    {
      "cell_type": "code",
      "metadata": {
        "id": "Toc9MdXBX0mX"
      },
      "source": [
        "def manual_input_desc(df, list_name):\n",
        "    for ind in list_name:\n",
        "        print(df[['Mileage','Bike_Mileage', 'Time','Weekday', 'Date','Workout_type', 'Workout_mins', 'Swimming_meters']].iloc[ind])\n",
        "        print('RAW: ', df['raw_note'].iloc[ind])"
      ],
      "execution_count": 48,
      "outputs": []
    },
    {
      "cell_type": "code",
      "metadata": {
        "id": "_nOocfx4X4x6"
      },
      "source": [
        "#manual_input_desc(raw_string_added, mm4)"
      ],
      "execution_count": 49,
      "outputs": []
    },
    {
      "cell_type": "code",
      "metadata": {
        "id": "FV6yD8MOX_vp"
      },
      "source": [
        "#manual_input_desc(raw_string_added, aic4)"
      ],
      "execution_count": 50,
      "outputs": []
    },
    {
      "cell_type": "code",
      "metadata": {
        "id": "iD_WZprv21zR"
      },
      "source": [
        "#manual_input_desc(raw_string_added, mm)"
      ],
      "execution_count": 51,
      "outputs": []
    },
    {
      "cell_type": "code",
      "metadata": {
        "id": "tnrGio1j42ps"
      },
      "source": [
        "#manual_input_desc(raw_string_added, tb)"
      ],
      "execution_count": 52,
      "outputs": []
    },
    {
      "cell_type": "code",
      "metadata": {
        "id": "erThyBqSYIcP"
      },
      "source": [
        "#manual_input_desc(raw_string_added, aic)"
      ],
      "execution_count": 53,
      "outputs": []
    },
    {
      "cell_type": "code",
      "metadata": {
        "id": "NCOhP1KvYTVp"
      },
      "source": [
        "#manual_input_desc(raw_string_added, mm2)"
      ],
      "execution_count": 54,
      "outputs": []
    },
    {
      "cell_type": "code",
      "metadata": {
        "id": "u6V8pLkIYWbS"
      },
      "source": [
        "#manual_input_desc(raw_string_added, aic2)"
      ],
      "execution_count": 55,
      "outputs": []
    },
    {
      "cell_type": "code",
      "metadata": {
        "id": "wxb9bnoXMCn_",
        "outputId": "2ec133c7-52d3-49b7-e712-8d1894ded3c9",
        "colab": {
          "base_uri": "https://localhost:8080/"
        }
      },
      "source": [
        "mil = list(raw_string_added.Mileage_init)\n",
        "multi = []\n",
        "for idx, m in enumerate(mil):\n",
        "    if math.isnan(m):\n",
        "        continue\n",
        "    elif math.isnan(raw_string_added['Mileage'].iloc[idx]):\n",
        "        raw_string_added['Mileage'].iloc[idx] = m\n",
        "    else:\n",
        "        multi.append(idx)\n",
        "len(multi)\n"
      ],
      "execution_count": 56,
      "outputs": [
        {
          "output_type": "stream",
          "text": [
            "/usr/local/lib/python3.6/dist-packages/pandas/core/indexing.py:670: SettingWithCopyWarning: \n",
            "A value is trying to be set on a copy of a slice from a DataFrame\n",
            "\n",
            "See the caveats in the documentation: https://pandas.pydata.org/pandas-docs/stable/user_guide/indexing.html#returning-a-view-versus-a-copy\n",
            "  iloc._setitem_with_indexer(indexer, value)\n"
          ],
          "name": "stderr"
        },
        {
          "output_type": "execute_result",
          "data": {
            "text/plain": [
              "0"
            ]
          },
          "metadata": {
            "tags": []
          },
          "execution_count": 56
        }
      ]
    },
    {
      "cell_type": "markdown",
      "metadata": {
        "id": "PxXz3U8VMNJA"
      },
      "source": [
        "Search for more data inside of the Notes columns"
      ]
    },
    {
      "cell_type": "code",
      "metadata": {
        "id": "HuHiPWMzeGd3"
      },
      "source": [
        "raw_string_added['Notes'] = raw_string_added['Notes'].replace(np.nan, '')\n",
        "raw_string_added['Notes2'] = raw_string_added['Notes2'].replace(np.nan, '')"
      ],
      "execution_count": 57,
      "outputs": []
    },
    {
      "cell_type": "code",
      "metadata": {
        "id": "NHTZeLmecRge",
        "outputId": "4bcf8569-2c07-4446-ba74-d8ec0d332082",
        "colab": {
          "base_uri": "https://localhost:8080/",
          "height": 256
        }
      },
      "source": [
        "raw_string_added['Notes_comb'] = raw_string_added['Notes'].str.cat(raw_string_added[['Notes2','Notes3']].astype(str), sep=\"_\")\n",
        "raw_string_added.head()"
      ],
      "execution_count": 58,
      "outputs": [
        {
          "output_type": "execute_result",
          "data": {
            "text/html": [
              "<div>\n",
              "<style scoped>\n",
              "    .dataframe tbody tr th:only-of-type {\n",
              "        vertical-align: middle;\n",
              "    }\n",
              "\n",
              "    .dataframe tbody tr th {\n",
              "        vertical-align: top;\n",
              "    }\n",
              "\n",
              "    .dataframe thead th {\n",
              "        text-align: right;\n",
              "    }\n",
              "</style>\n",
              "<table border=\"1\" class=\"dataframe\">\n",
              "  <thead>\n",
              "    <tr style=\"text-align: right;\">\n",
              "      <th></th>\n",
              "      <th>Notes2</th>\n",
              "      <th>Mileage</th>\n",
              "      <th>Time</th>\n",
              "      <th>Notes</th>\n",
              "      <th>Weekday</th>\n",
              "      <th>Date</th>\n",
              "      <th>Mileage_init</th>\n",
              "      <th>length</th>\n",
              "      <th>counter</th>\n",
              "      <th>Workout_type</th>\n",
              "      <th>Workout_mins</th>\n",
              "      <th>Swimming_meters</th>\n",
              "      <th>Bike_Mileage</th>\n",
              "      <th>Notes3</th>\n",
              "      <th>Date2</th>\n",
              "      <th>Mileage_init2</th>\n",
              "      <th>Mileage_init3</th>\n",
              "      <th>Mileage_init4</th>\n",
              "      <th>Mileage_init5</th>\n",
              "      <th>raw_note</th>\n",
              "      <th>Notes_comb</th>\n",
              "    </tr>\n",
              "  </thead>\n",
              "  <tbody>\n",
              "    <tr>\n",
              "      <th>0</th>\n",
              "      <td></td>\n",
              "      <td>NaN</td>\n",
              "      <td>None</td>\n",
              "      <td>27:19 it was a little short.</td>\n",
              "      <td>Saturday</td>\n",
              "      <td>5/29/10</td>\n",
              "      <td>NaN</td>\n",
              "      <td>0</td>\n",
              "      <td>0</td>\n",
              "      <td>None</td>\n",
              "      <td>NaN</td>\n",
              "      <td>NaN</td>\n",
              "      <td>NaN</td>\n",
              "      <td></td>\n",
              "      <td></td>\n",
              "      <td>[]</td>\n",
              "      <td>[4 miles, 3.8 miles]</td>\n",
              "      <td>[]</td>\n",
              "      <td>[]</td>\n",
              "      <td>Saturday 5/29/10 4 miles 27:19 it was a little...</td>\n",
              "      <td>27:19 it was a little short. _ _</td>\n",
              "    </tr>\n",
              "    <tr>\n",
              "      <th>1</th>\n",
              "      <td></td>\n",
              "      <td>4</td>\n",
              "      <td>None</td>\n",
              "      <td></td>\n",
              "      <td>Monday</td>\n",
              "      <td>6/21/10</td>\n",
              "      <td>NaN</td>\n",
              "      <td>0</td>\n",
              "      <td>1</td>\n",
              "      <td>None</td>\n",
              "      <td>NaN</td>\n",
              "      <td>NaN</td>\n",
              "      <td>NaN</td>\n",
              "      <td></td>\n",
              "      <td></td>\n",
              "      <td>[4 miles]</td>\n",
              "      <td>NaN</td>\n",
              "      <td>[]</td>\n",
              "      <td>NaN</td>\n",
              "      <td>Monday 6/21/10_ 4 miles</td>\n",
              "      <td>_ _</td>\n",
              "    </tr>\n",
              "    <tr>\n",
              "      <th>2</th>\n",
              "      <td></td>\n",
              "      <td>4</td>\n",
              "      <td>None</td>\n",
              "      <td>swimming_ 10 laps of freestyle_5 laps of backs...</td>\n",
              "      <td>Tuesday</td>\n",
              "      <td>6/22/10</td>\n",
              "      <td>NaN</td>\n",
              "      <td>0</td>\n",
              "      <td>2</td>\n",
              "      <td>None</td>\n",
              "      <td>NaN</td>\n",
              "      <td>1600.0</td>\n",
              "      <td>NaN</td>\n",
              "      <td></td>\n",
              "      <td></td>\n",
              "      <td>[4 miles]</td>\n",
              "      <td>[]</td>\n",
              "      <td>[]</td>\n",
              "      <td>[]</td>\n",
              "      <td>Tuesday 6/22/10_ 4 miles_Swimming_ 10 laps of ...</td>\n",
              "      <td>swimming_ 10 laps of freestyle_5 laps of backs...</td>\n",
              "    </tr>\n",
              "    <tr>\n",
              "      <th>3</th>\n",
              "      <td></td>\n",
              "      <td>4.5</td>\n",
              "      <td>None</td>\n",
              "      <td>35 minutes</td>\n",
              "      <td>Wednesday</td>\n",
              "      <td>6/23/10</td>\n",
              "      <td>NaN</td>\n",
              "      <td>0</td>\n",
              "      <td>3</td>\n",
              "      <td>None</td>\n",
              "      <td>NaN</td>\n",
              "      <td>NaN</td>\n",
              "      <td>NaN</td>\n",
              "      <td></td>\n",
              "      <td></td>\n",
              "      <td>[4.5 miles]</td>\n",
              "      <td>[]</td>\n",
              "      <td>[]</td>\n",
              "      <td>[]</td>\n",
              "      <td>Wednesday 6/23/10_ 4.5 miles_35 minutes</td>\n",
              "      <td>35 minutes_ _</td>\n",
              "    </tr>\n",
              "    <tr>\n",
              "      <th>4</th>\n",
              "      <td></td>\n",
              "      <td>5</td>\n",
              "      <td>None</td>\n",
              "      <td></td>\n",
              "      <td>Thursday</td>\n",
              "      <td>6/25/10</td>\n",
              "      <td>NaN</td>\n",
              "      <td>0</td>\n",
              "      <td>4</td>\n",
              "      <td>None</td>\n",
              "      <td>NaN</td>\n",
              "      <td>NaN</td>\n",
              "      <td>NaN</td>\n",
              "      <td></td>\n",
              "      <td></td>\n",
              "      <td>[]</td>\n",
              "      <td>NaN</td>\n",
              "      <td>[]</td>\n",
              "      <td>NaN</td>\n",
              "      <td>Thursday 6/25/10_ 5</td>\n",
              "      <td>_ _</td>\n",
              "    </tr>\n",
              "  </tbody>\n",
              "</table>\n",
              "</div>"
            ],
            "text/plain": [
              "  Notes2  ...                                         Notes_comb\n",
              "0         ...                   27:19 it was a little short. _ _\n",
              "1         ...                                               _ _ \n",
              "2         ...  swimming_ 10 laps of freestyle_5 laps of backs...\n",
              "3         ...                                     35 minutes_ _ \n",
              "4         ...                                                _ _\n",
              "\n",
              "[5 rows x 21 columns]"
            ]
          },
          "metadata": {
            "tags": []
          },
          "execution_count": 58
        }
      ]
    },
    {
      "cell_type": "code",
      "metadata": {
        "id": "5FzlFJWnc0Ax"
      },
      "source": [
        "raw_string_added['numbers'] = raw_string_added.Notes_comb.str.findall('\\d+\\.*\\d*')"
      ],
      "execution_count": 59,
      "outputs": []
    },
    {
      "cell_type": "code",
      "metadata": {
        "id": "aAir4dYCgY-p",
        "outputId": "9db2363f-9bfa-40a5-9233-1aa9b029759c",
        "colab": {
          "base_uri": "https://localhost:8080/"
        }
      },
      "source": [
        "greater_2 = []\n",
        "two = []\n",
        "one = []\n",
        "for idx, num in enumerate(raw_string_added.numbers):\n",
        "    if (len(num) > 2) and (idx not in comb_uni) and (math.isnan(raw_string_added['Mileage'].iloc[idx])):\n",
        "        greater_2.append(idx)\n",
        "    elif (len(num) == 2) and (idx not in comb_uni) and (math.isnan(raw_string_added['Mileage'].iloc[idx])):\n",
        "        two.append(idx)\n",
        "    elif (len(num) == 1) and (idx not in comb_uni) and (math.isnan(raw_string_added['Mileage'].iloc[idx])):\n",
        "        one.append(idx)\n",
        "print(len(greater_2), len(two), len(one))\n",
        "\n"
      ],
      "execution_count": 60,
      "outputs": [
        {
          "output_type": "stream",
          "text": [
            "129 78 59\n"
          ],
          "name": "stdout"
        }
      ]
    },
    {
      "cell_type": "code",
      "metadata": {
        "id": "QB79NkKJTwhd"
      },
      "source": [
        "#manual_input_desc(raw_string_added, greater_2)"
      ],
      "execution_count": 61,
      "outputs": []
    },
    {
      "cell_type": "code",
      "metadata": {
        "id": "0emmuEsihQ67"
      },
      "source": [
        "#manual_input_desc(raw_string_added, two)"
      ],
      "execution_count": 62,
      "outputs": []
    },
    {
      "cell_type": "code",
      "metadata": {
        "id": "NpHE1ShmhVpM"
      },
      "source": [
        "#manual_input_desc(raw_string_added, one)"
      ],
      "execution_count": 63,
      "outputs": []
    },
    {
      "cell_type": "markdown",
      "metadata": {
        "id": "1xZ9W1VJocoN"
      },
      "source": [
        "need to look at every row that is null for mileage and see whether it should be null or not"
      ]
    },
    {
      "cell_type": "code",
      "metadata": {
        "id": "CeUk8xwVqBex"
      },
      "source": [
        "l_comb_uni = list(comb_uni)"
      ],
      "execution_count": 64,
      "outputs": []
    },
    {
      "cell_type": "code",
      "metadata": {
        "id": "xYbd3Q0lpwp2"
      },
      "source": [
        "comb_2 = l_comb_uni + greater_2 + two + one"
      ],
      "execution_count": 65,
      "outputs": []
    },
    {
      "cell_type": "code",
      "metadata": {
        "id": "9sTTug9ao77S"
      },
      "source": [
        "missing_mileage = []\n",
        "for idx, w in enumerate(raw_string_added['Mileage']):\n",
        "    if (math.isnan(w)) and (idx not in comb_2):\n",
        "        missing_mileage.append(idx)"
      ],
      "execution_count": 66,
      "outputs": []
    },
    {
      "cell_type": "code",
      "metadata": {
        "id": "RnVX57H87ryf"
      },
      "source": [
        "manual_changes = {'Mileage': [[339,6.5],[8,5],[729,13],[23,6.5],[34,2],[53,8],[1247,21],[0,3.8],[43,6.5],[223,9],[373,5],[383,9],[514,9],[534,7],[542,13],[547,9],[551,7],[591,9],[756,9],[832,6],[901,10],\n",
        "                          [903,8],[908,10.5],[910,8.19],[924,11.5],[1074,8],[1099,9],[1102,13.1],[1107,8],[1108,11.3],[1114,11],[1122,7],[1247,21],[1255,26.2],[11,6],[16,5],[22,7],[32,9.25],[39,4],\n",
        "                          [55,6],[64,4],[88,5],[164,8],[20, 8],[50,4],[100,4.2],[102,8],[125,4.2],[181,8.5],[186, 12],[218,4],[222,8],[241,4],[252,5.5],[264,7],[304,10],[316,10.5],[337,8],[358,11],\n",
        "                          [359,8],[371,8],[394,4.2],[412,7.5],[419,5.5],[426,4],[428,6],[447,3],[493,9.5],[541,10.5],[543,5.5],[544,5],[560,9.5],[572,4.5],[582,9],[601,9.5],[670,6],[699,5.5],[714,11],\n",
        "                          [28,5.5],[181,8.5],[206,6],[303,2.5],[382,4],[483,10.5],[484,10.5],[486,13],[491,16],[498,16],[511,11.5],[537,7.5],[584,11],[587,9],[632,9.5],[642,4],[665,7.5],[25,4],[31,3.5],\n",
        "                          [137,6.5],[139,3],[202,2],[219,7.5],[285,6],[287,2.5],[289,5],[302,2.5],[326,3],[327,4.5],[332,1.5],[374,4.5],[379,4],[439,1],[443,3],[444,3],[445,3],[446,3],[450,3],[465,13],\n",
        "                          [472,15],[488,3],[490,10.5],[500,8.5],[540,7],[548,4.2],[605,2],[624,7.5],[636,4.5],[637,3],[643,5],[688,4.5],[738,8.5],[747,13],[750,19],[857,3],[862,2],[933,7],[978,4],[1093,4],\n",
        "                          [1100,8],[1127,1],[1130,2],[1243,13],[134,1],[233,3],[281,3],[469,10],[601,10],[966,1],[1670,0],[1685,1.5],[1061,0],[1277,0],[1522,1.2],[130,7.5],[1281,5],[1283,5.5],[1288,6],[1294,6.5],\n",
        "                          [1295,8],[1323,7],[1326,7],[1327,8],[1330,8],[1334,8],[1335,12],[1338,6],[1346,6],[1347,6],[1349,6],[1350,8],[1351,12],[1355,7],[1356,6.62],[1357,6],[1358,6],[1363,7],[1364,7],[1367,7],\n",
        "                          [1372,7],[1373,7],[1374,7],[1380,7],[1381,7],[1382,7],[1384,10],[1385,14],[1388,7],[1389,7],[1390,6],[1391,7],[1396,8],[1401,14],[1405,7],[1406,8],[1407,8],[1408,7],[1410,16],[1413,7],\n",
        "                          [1414,7],[1415,6.5],[1416,6.5],[1418,16],[1422,10],[1426,17],[1429,8],[1430,8],[1431,8],[1460,18],[1464,9],[1466,13],[1474,17],[1481,12],[1484,13],[1498,12],[1500,13],[1501,11],[1506,10],\n",
        "                          [1508,10],[1510,10],[1519,27.5],[1532,3],[1534,3],[1539,3],[1540,4],[1549,4],[1550,5],[1551,5],[1556,6.6],[1595,13],[1604,14.5],[1623,16],[1641,18],[1655,16],[1656,0],[1657,0],[1658,3],\n",
        "                          [1664,14],[1680,5],[1683,27.2],[1714,6],[1718,6],[1720,8],[1732,7],[1738,8],[1742,8],[1771,6],[1798,6],[1800,6],[1809,8],[1810,8],[1812,8],[1817,8],[1818,7],[1819,8],[1820,7],[1821,8],\n",
        "                          [1822,10.5],[1826,8],[1827,7],[1828,8],[1829,8],[1830,8],[1831,12],[1835,8],[1836,7],[1837,8.66],[1838,7],[1839,8],[1840,12],[1844,8.5],[1845,7],[1848,8],[1849,13],[1853,8.66],[1854,8],\n",
        "                          [1855,10.45],[1856,8.66],[1863,6],[1864,8],[1865,9],[1871,9],[1872,8.5],[1877,8],[1880,8],[1881,10],[1883,8],[1884,8],[1889,10],[1890,4],[1898,8],[1900,9],[1918,8],[1962,8],\n",
        "                          [1325,0],[1402,0],[1764,0],[1801,0],[1841,0],[1862,0],[1882,0],[1899,0],[1527,0],[72,0],[331,0],[333,0],[1847,0],[705,10]], \n",
        "                  'Time': [[8, '28:04'],[23, '35:32'],[558,'40:00'],[357,'66:01'],[351,'70:00'],[166,'34:00'],[107,'75:00'],[90,'39:00'],[63,'53:40'],[61,'50:50'],[48,'42:59'],[40,'40:47'],[36,'19:42'],\n",
        "                           [17,'28:38'],[0,'27:19'],[11,'32:04'],[37,'47:13'], [20, '55:53'], [181,'64:00'],[186, '68:00'],[222,'56:37'],[316,'71:23'],[412,'16:31'],[582,'60:00'],[714,'61:10'],\n",
        "                           [181,'64:00'],[537,'51:00'],[584,'80:00'],[632,'66:00'],[642,'30:00'],[665,'60:00'],[31,'25:00'],[219,'54:00']],\n",
        "                  'Date': [[95, '9/20/10'], [110, '10/4/10'],[183,'1/3/11'],[4,'6/24/10'],[5,'6/25/10'],[6,'6/26/10'],[67,'8/30/10'],[913,'3/25/13'],[1005,'7/15/13'],[1480,'9/29/14'],[1677,'3/16/15'],\n",
        "                           [39,'8/2/10'],[46,'8/9/10'],[88,'9/13/10'],[130,'10/25/10'],[124,'10/18/10'],[180,'12/28/10'],[181,'1/1/11'],[102,'9/27/10'],[272,'5/8/11'],[343,'8/2/11'],[369,'8/28/11'],\n",
        "                           [624,'5/21/12'],[649,'6/18/12'],[1078,'9/17/13'],[1092,'10/1/13'],[1107,'10/15/13'],[1134,'11/19/13'],[1148,'12/3/13'],[1192,'1/14/14'],[1244,'3/5/14'],[1287,'4/22/14'],\n",
        "                           [1375,'7/4/14'],[1383,'7/11/14'],[1389,'7/16/14'],[1501,'10/17/14'],[1705,'5/21/15'],[1853,'9/7/15'],[1468,'9/21/14'],[1331,'5/28/14'],[1339,'6/4/14'],[1347,'6/11/14'],\n",
        "                           [1408,'8/1/14'],[1417,'8/9/14'],[1422,'8/13/2014'],[1432,'8/22/14']],\n",
        "                  'Bike_Mileage': [[505,24],[1013,30],[1021,30],[1029,30],[54,14.9],[37,14.9],[328,20.7],[1362,102.21],[303,14.8],[405,30],[311,23],[452,37],[615,41],[353,20.5],[973,16],[1061,20.158],\n",
        "                                   [1371,82.190],[1395,82.629],[1462,42.131],[1277,54.8],[1338,19.8],[1345,101.83],[1346,21.334],[1347,32.497],[1349,19.783],[1354,20.391],[1355,40.865],[1356,20.401],\n",
        "                                   [1357,20.528],[1358,20.416],[1363,20.547],[1364,20.416],[1366,20.575],[1367,20.652],[1372,20.771],[1373,20.676],[1374,20.704],[1380,20.771],[1381,20.828],[1382,20.618],\n",
        "                                   [1388,20.510],[1389,20.712],[1390,20.691],[1391,20.716],[1405,20.510],[1406,20.014],[1407,19.361],[1408,20],[1413,20],[1414,20],[1415,21.067],[1416,22.590],[1422,10],\n",
        "                                   [1429,6],[1430,35],[1530,8.5],[1540,20],[1548,27.714],[1549,14],[1551,10],[1587,32.382],[1595,60],[1607,62.999],[1656,12],[1657,12],[1658,12],[1664,12],[1714,17],[1718,16],\n",
        "                                   [1720,14.09],[1732,16],[1738,15.79],[1742,15],[1798,20],[1800,20],[1809,20.609],[1810,21.251],[1812,2.166],[1814,30.188],[1817,4.787],[1818,22.259],[1819,8.435],[1820,24.222],\n",
        "                                   [1821,2.215],[1822,6.832],[1823,41.162],[1826,6.471],[1827,26.625],[1828,6.505],[1829,22.478],[1830,4.438],[1831,2.065],[1832,30.291],[1835,17.595],[1836,13.424],[1837,4.989],\n",
        "                                   [1838,12.681],[1839,4.231],[1840,11.938],[1844,10],[1845,11.859],[1848,4.363],[1849,2.063],[1853,2.063],[1854,4.338],[1855,15.486],[1856,4.569],[1857,22.312],[1863,5.596],\n",
        "                                   [1864,4.591],[1865,5.671],[1871,4.842],[1872,4.21],[1877,14.124],[1880,3.454],[1881,2.719],[1883,4.312],[1884,2.091],[1889,2.394],[1890,3.679],[1898,3.540],[1900,2.070],[1983,9.5],\n",
        "                                   [1325,55.1],[1402,53],[1764,15],[1801,40],[1841,1.25],[1862,6.362],[1882,4.474],[1899,2.93],[72,32],[331,31.526],[333,30.814],[1847,6.674]],\n",
        "                  'Swimming_meters': [[31,1600],[677,1600],[1525,1600],[1529,2100],[1532,2300],[1534,2300],[1539,2300],[1550,2300],[1551,2300],[1556,2300],[1527,1600],[1552,1600],[1560,1600],[1600,1600],[1609,1600],\n",
        "                                      [1611,1600],[1618,1600],[1620,1600],[1730,1600],[1740,1600],[1751,1600]],\n",
        "                  'Weekday': [[1982,'Friday'],[93,'Saturday'],[1859,'Sunday'],[1877,'Sunday'],[1347,'Wednesday']],\n",
        "                  'Workout_type': [[214,'gym'],[1431,'gym'],[1440,'gym'],[1457,'gym'],[1466,'gym'],[1474,'gym'],[1601,'gym']],\n",
        "                  'Workout_mins': [[214,30],[1440,60],[1457,60],[1601,60],[1431,120],[1466,60],[1474,60],[1481,60],[1500,60],[1530,60],[1540,60],[1551,60],[1595,60]]}"
      ],
      "execution_count": 67,
      "outputs": []
    },
    {
      "cell_type": "code",
      "metadata": {
        "id": "Bqu7g8eir-0a"
      },
      "source": [
        "raw_string_added.loc[102,'raw_note'] = raw_string_added.loc[102,'raw_note'] + raw_string_added.loc[103,'raw_note']\n",
        "raw_string_added = raw_string_added.drop(103)"
      ],
      "execution_count": 68,
      "outputs": []
    },
    {
      "cell_type": "code",
      "metadata": {
        "id": "_IL9tA69Ve1D"
      },
      "source": [
        "manual_inputs_df = raw_string_added.copy()"
      ],
      "execution_count": 69,
      "outputs": []
    },
    {
      "cell_type": "code",
      "metadata": {
        "id": "zIfhL0RpIaJn",
        "outputId": "5759d209-072a-4476-917c-af7160062aa3",
        "colab": {
          "base_uri": "https://localhost:8080/",
          "height": 716
        }
      },
      "source": [
        "manual_inputs_df"
      ],
      "execution_count": 248,
      "outputs": [
        {
          "output_type": "execute_result",
          "data": {
            "text/html": [
              "<div>\n",
              "<style scoped>\n",
              "    .dataframe tbody tr th:only-of-type {\n",
              "        vertical-align: middle;\n",
              "    }\n",
              "\n",
              "    .dataframe tbody tr th {\n",
              "        vertical-align: top;\n",
              "    }\n",
              "\n",
              "    .dataframe thead th {\n",
              "        text-align: right;\n",
              "    }\n",
              "</style>\n",
              "<table border=\"1\" class=\"dataframe\">\n",
              "  <thead>\n",
              "    <tr style=\"text-align: right;\">\n",
              "      <th></th>\n",
              "      <th>Notes2</th>\n",
              "      <th>Mileage</th>\n",
              "      <th>Time</th>\n",
              "      <th>Notes</th>\n",
              "      <th>Weekday</th>\n",
              "      <th>Date</th>\n",
              "      <th>Mileage_init</th>\n",
              "      <th>length</th>\n",
              "      <th>counter</th>\n",
              "      <th>Workout_type</th>\n",
              "      <th>Workout_mins</th>\n",
              "      <th>Swimming_meters</th>\n",
              "      <th>Bike_Mileage</th>\n",
              "      <th>Notes3</th>\n",
              "      <th>Date2</th>\n",
              "      <th>Mileage_init2</th>\n",
              "      <th>Mileage_init3</th>\n",
              "      <th>Mileage_init4</th>\n",
              "      <th>Mileage_init5</th>\n",
              "      <th>raw_note</th>\n",
              "      <th>Notes_comb</th>\n",
              "      <th>numbers</th>\n",
              "      <th>dayofweekcheck</th>\n",
              "    </tr>\n",
              "  </thead>\n",
              "  <tbody>\n",
              "    <tr>\n",
              "      <th>0</th>\n",
              "      <td></td>\n",
              "      <td>3.8</td>\n",
              "      <td>27:19</td>\n",
              "      <td>27:19 it was a little short.</td>\n",
              "      <td>Saturday</td>\n",
              "      <td>2010-05-29</td>\n",
              "      <td>NaN</td>\n",
              "      <td>0</td>\n",
              "      <td>0</td>\n",
              "      <td>None</td>\n",
              "      <td>NaN</td>\n",
              "      <td>NaN</td>\n",
              "      <td>NaN</td>\n",
              "      <td></td>\n",
              "      <td></td>\n",
              "      <td>[]</td>\n",
              "      <td>[4 miles, 3.8 miles]</td>\n",
              "      <td>[]</td>\n",
              "      <td>[]</td>\n",
              "      <td>Saturday 5/29/10 4 miles 27:19 it was a little...</td>\n",
              "      <td>27:19 it was a little short. _ _</td>\n",
              "      <td>[27, 19]</td>\n",
              "      <td>Saturday</td>\n",
              "    </tr>\n",
              "    <tr>\n",
              "      <th>1</th>\n",
              "      <td></td>\n",
              "      <td>4.0</td>\n",
              "      <td>None</td>\n",
              "      <td></td>\n",
              "      <td>Monday</td>\n",
              "      <td>2010-06-21</td>\n",
              "      <td>NaN</td>\n",
              "      <td>0</td>\n",
              "      <td>1</td>\n",
              "      <td>None</td>\n",
              "      <td>NaN</td>\n",
              "      <td>NaN</td>\n",
              "      <td>NaN</td>\n",
              "      <td></td>\n",
              "      <td></td>\n",
              "      <td>[4 miles]</td>\n",
              "      <td>NaN</td>\n",
              "      <td>[]</td>\n",
              "      <td>NaN</td>\n",
              "      <td>Monday 6/21/10_ 4 miles</td>\n",
              "      <td>_ _</td>\n",
              "      <td>[]</td>\n",
              "      <td>Monday</td>\n",
              "    </tr>\n",
              "    <tr>\n",
              "      <th>2</th>\n",
              "      <td></td>\n",
              "      <td>4.0</td>\n",
              "      <td>None</td>\n",
              "      <td>swimming_ 10 laps of freestyle_5 laps of backs...</td>\n",
              "      <td>Tuesday</td>\n",
              "      <td>2010-06-22</td>\n",
              "      <td>NaN</td>\n",
              "      <td>0</td>\n",
              "      <td>2</td>\n",
              "      <td>None</td>\n",
              "      <td>NaN</td>\n",
              "      <td>1600.0</td>\n",
              "      <td>NaN</td>\n",
              "      <td></td>\n",
              "      <td></td>\n",
              "      <td>[4 miles]</td>\n",
              "      <td>[]</td>\n",
              "      <td>[]</td>\n",
              "      <td>[]</td>\n",
              "      <td>Tuesday 6/22/10_ 4 miles_Swimming_ 10 laps of ...</td>\n",
              "      <td>swimming_ 10 laps of freestyle_5 laps of backs...</td>\n",
              "      <td>[10, 5, 5, 1]</td>\n",
              "      <td>Tuesday</td>\n",
              "    </tr>\n",
              "    <tr>\n",
              "      <th>3</th>\n",
              "      <td></td>\n",
              "      <td>4.5</td>\n",
              "      <td>None</td>\n",
              "      <td>35 minutes</td>\n",
              "      <td>Wednesday</td>\n",
              "      <td>2010-06-23</td>\n",
              "      <td>NaN</td>\n",
              "      <td>0</td>\n",
              "      <td>3</td>\n",
              "      <td>None</td>\n",
              "      <td>NaN</td>\n",
              "      <td>NaN</td>\n",
              "      <td>NaN</td>\n",
              "      <td></td>\n",
              "      <td></td>\n",
              "      <td>[4.5 miles]</td>\n",
              "      <td>[]</td>\n",
              "      <td>[]</td>\n",
              "      <td>[]</td>\n",
              "      <td>Wednesday 6/23/10_ 4.5 miles_35 minutes</td>\n",
              "      <td>35 minutes_ _</td>\n",
              "      <td>[35]</td>\n",
              "      <td>Wednesday</td>\n",
              "    </tr>\n",
              "    <tr>\n",
              "      <th>4</th>\n",
              "      <td></td>\n",
              "      <td>5.0</td>\n",
              "      <td>None</td>\n",
              "      <td></td>\n",
              "      <td>Thursday</td>\n",
              "      <td>2010-06-24</td>\n",
              "      <td>NaN</td>\n",
              "      <td>0</td>\n",
              "      <td>4</td>\n",
              "      <td>None</td>\n",
              "      <td>NaN</td>\n",
              "      <td>NaN</td>\n",
              "      <td>NaN</td>\n",
              "      <td></td>\n",
              "      <td></td>\n",
              "      <td>[]</td>\n",
              "      <td>NaN</td>\n",
              "      <td>[]</td>\n",
              "      <td>NaN</td>\n",
              "      <td>Thursday 6/25/10_ 5</td>\n",
              "      <td>_ _</td>\n",
              "      <td>[]</td>\n",
              "      <td>Thursday</td>\n",
              "    </tr>\n",
              "    <tr>\n",
              "      <th>...</th>\n",
              "      <td>...</td>\n",
              "      <td>...</td>\n",
              "      <td>...</td>\n",
              "      <td>...</td>\n",
              "      <td>...</td>\n",
              "      <td>...</td>\n",
              "      <td>...</td>\n",
              "      <td>...</td>\n",
              "      <td>...</td>\n",
              "      <td>...</td>\n",
              "      <td>...</td>\n",
              "      <td>...</td>\n",
              "      <td>...</td>\n",
              "      <td>...</td>\n",
              "      <td>...</td>\n",
              "      <td>...</td>\n",
              "      <td>...</td>\n",
              "      <td>...</td>\n",
              "      <td>...</td>\n",
              "      <td>...</td>\n",
              "      <td>...</td>\n",
              "      <td>...</td>\n",
              "      <td>...</td>\n",
              "    </tr>\n",
              "    <tr>\n",
              "      <th>1978</th>\n",
              "      <td>- 10 miles</td>\n",
              "      <td>10.0</td>\n",
              "      <td>None</td>\n",
              "      <td></td>\n",
              "      <td>Sunday</td>\n",
              "      <td>2015-12-20</td>\n",
              "      <td>10.0</td>\n",
              "      <td>1</td>\n",
              "      <td>1669</td>\n",
              "      <td>None</td>\n",
              "      <td>NaN</td>\n",
              "      <td>NaN</td>\n",
              "      <td>NaN</td>\n",
              "      <td></td>\n",
              "      <td></td>\n",
              "      <td>[]</td>\n",
              "      <td>NaN</td>\n",
              "      <td>[]</td>\n",
              "      <td>NaN</td>\n",
              "      <td>Sunday - 10 miles</td>\n",
              "      <td>_ - 10 miles_</td>\n",
              "      <td>[10]</td>\n",
              "      <td>NaN</td>\n",
              "    </tr>\n",
              "    <tr>\n",
              "      <th>1980</th>\n",
              "      <td>-  - off</td>\n",
              "      <td>0.0</td>\n",
              "      <td>None</td>\n",
              "      <td></td>\n",
              "      <td>Monday</td>\n",
              "      <td>2015-12-21</td>\n",
              "      <td>NaN</td>\n",
              "      <td>0</td>\n",
              "      <td>1670</td>\n",
              "      <td>None</td>\n",
              "      <td>NaN</td>\n",
              "      <td>NaN</td>\n",
              "      <td>NaN</td>\n",
              "      <td></td>\n",
              "      <td></td>\n",
              "      <td>[]</td>\n",
              "      <td>NaN</td>\n",
              "      <td>[]</td>\n",
              "      <td>NaN</td>\n",
              "      <td>Monday - 12/21/15 - off</td>\n",
              "      <td>_ -  - off_</td>\n",
              "      <td>[]</td>\n",
              "      <td>Monday</td>\n",
              "    </tr>\n",
              "    <tr>\n",
              "      <th>1981</th>\n",
              "      <td>- i've failed. not going to be able to run fo...</td>\n",
              "      <td>0.0</td>\n",
              "      <td>None</td>\n",
              "      <td></td>\n",
              "      <td>Tuesday</td>\n",
              "      <td>2015-12-22</td>\n",
              "      <td>NaN</td>\n",
              "      <td>0</td>\n",
              "      <td>1671</td>\n",
              "      <td>None</td>\n",
              "      <td>NaN</td>\n",
              "      <td>NaN</td>\n",
              "      <td>NaN</td>\n",
              "      <td></td>\n",
              "      <td></td>\n",
              "      <td>[]</td>\n",
              "      <td>NaN</td>\n",
              "      <td>[]</td>\n",
              "      <td>NaN</td>\n",
              "      <td>Tuesday - I've failed. Not going to be able to...</td>\n",
              "      <td>_ - i've failed. not going to be able to run f...</td>\n",
              "      <td>[]</td>\n",
              "      <td>NaN</td>\n",
              "    </tr>\n",
              "    <tr>\n",
              "      <th>1982</th>\n",
              "      <td>-  - 3 miles</td>\n",
              "      <td>3.0</td>\n",
              "      <td>None</td>\n",
              "      <td></td>\n",
              "      <td>Friday</td>\n",
              "      <td>2015-12-25</td>\n",
              "      <td>3.0</td>\n",
              "      <td>1</td>\n",
              "      <td>1672</td>\n",
              "      <td>None</td>\n",
              "      <td>NaN</td>\n",
              "      <td>NaN</td>\n",
              "      <td>NaN</td>\n",
              "      <td></td>\n",
              "      <td></td>\n",
              "      <td>[]</td>\n",
              "      <td>NaN</td>\n",
              "      <td>[]</td>\n",
              "      <td>NaN</td>\n",
              "      <td>Thursday - 12/25/15 - 3 miles</td>\n",
              "      <td>_ -  - 3 miles_</td>\n",
              "      <td>[3]</td>\n",
              "      <td>Friday</td>\n",
              "    </tr>\n",
              "    <tr>\n",
              "      <th>1983</th>\n",
              "      <td>-  - 30 minutes biking - 9.5 miles</td>\n",
              "      <td>0.0</td>\n",
              "      <td>None</td>\n",
              "      <td></td>\n",
              "      <td>Thursday</td>\n",
              "      <td>2015-12-31</td>\n",
              "      <td>NaN</td>\n",
              "      <td>2</td>\n",
              "      <td>1673</td>\n",
              "      <td>None</td>\n",
              "      <td>NaN</td>\n",
              "      <td>NaN</td>\n",
              "      <td>9.5</td>\n",
              "      <td></td>\n",
              "      <td></td>\n",
              "      <td>[]</td>\n",
              "      <td>NaN</td>\n",
              "      <td>[]</td>\n",
              "      <td>NaN</td>\n",
              "      <td>Thursday - 12/31/15 - 30 minutes biking - 9.5 ...</td>\n",
              "      <td>_ -  - 30 minutes biking - 9.5 miles_</td>\n",
              "      <td>[30, 9.5]</td>\n",
              "      <td>Thursday</td>\n",
              "    </tr>\n",
              "  </tbody>\n",
              "</table>\n",
              "<p>1673 rows × 23 columns</p>\n",
              "</div>"
            ],
            "text/plain": [
              "                                                 Notes2  ...  dayofweekcheck\n",
              "0                                                        ...        Saturday\n",
              "1                                                        ...          Monday\n",
              "2                                                        ...         Tuesday\n",
              "3                                                        ...       Wednesday\n",
              "4                                                        ...        Thursday\n",
              "...                                                 ...  ...             ...\n",
              "1978                                         - 10 miles  ...             NaN\n",
              "1980                                           -  - off  ...          Monday\n",
              "1981   - i've failed. not going to be able to run fo...  ...             NaN\n",
              "1982                                       -  - 3 miles  ...          Friday\n",
              "1983                 -  - 30 minutes biking - 9.5 miles  ...        Thursday\n",
              "\n",
              "[1673 rows x 23 columns]"
            ]
          },
          "metadata": {
            "tags": []
          },
          "execution_count": 248
        }
      ]
    },
    {
      "cell_type": "code",
      "metadata": {
        "id": "ZpMzlCGpDb6h",
        "outputId": "07f911d6-d029-4eb5-a5ac-33980120366a",
        "colab": {
          "base_uri": "https://localhost:8080/",
          "height": 47
        }
      },
      "source": [
        "manual_inputs_df[manual_inputs_df.Date == '2018-01-14']"
      ],
      "execution_count": 247,
      "outputs": [
        {
          "output_type": "execute_result",
          "data": {
            "text/html": [
              "<div>\n",
              "<style scoped>\n",
              "    .dataframe tbody tr th:only-of-type {\n",
              "        vertical-align: middle;\n",
              "    }\n",
              "\n",
              "    .dataframe tbody tr th {\n",
              "        vertical-align: top;\n",
              "    }\n",
              "\n",
              "    .dataframe thead th {\n",
              "        text-align: right;\n",
              "    }\n",
              "</style>\n",
              "<table border=\"1\" class=\"dataframe\">\n",
              "  <thead>\n",
              "    <tr style=\"text-align: right;\">\n",
              "      <th></th>\n",
              "      <th>Notes2</th>\n",
              "      <th>Mileage</th>\n",
              "      <th>Time</th>\n",
              "      <th>Notes</th>\n",
              "      <th>Weekday</th>\n",
              "      <th>Date</th>\n",
              "      <th>Mileage_init</th>\n",
              "      <th>length</th>\n",
              "      <th>counter</th>\n",
              "      <th>Workout_type</th>\n",
              "      <th>Workout_mins</th>\n",
              "      <th>Swimming_meters</th>\n",
              "      <th>Bike_Mileage</th>\n",
              "      <th>Notes3</th>\n",
              "      <th>Date2</th>\n",
              "      <th>Mileage_init2</th>\n",
              "      <th>Mileage_init3</th>\n",
              "      <th>Mileage_init4</th>\n",
              "      <th>Mileage_init5</th>\n",
              "      <th>raw_note</th>\n",
              "      <th>Notes_comb</th>\n",
              "      <th>numbers</th>\n",
              "      <th>dayofweekcheck</th>\n",
              "    </tr>\n",
              "  </thead>\n",
              "  <tbody>\n",
              "  </tbody>\n",
              "</table>\n",
              "</div>"
            ],
            "text/plain": [
              "Empty DataFrame\n",
              "Columns: [Notes2, Mileage, Time, Notes, Weekday, Date, Mileage_init, length, counter, Workout_type, Workout_mins, Swimming_meters, Bike_Mileage, Notes3, Date2, Mileage_init2, Mileage_init3, Mileage_init4, Mileage_init5, raw_note, Notes_comb, numbers, dayofweekcheck]\n",
              "Index: []"
            ]
          },
          "metadata": {
            "tags": []
          },
          "execution_count": 247
        }
      ]
    },
    {
      "cell_type": "code",
      "metadata": {
        "id": "mGOpX0gGQPpO"
      },
      "source": [
        "def input_manual_fx(df, loc_dict):\n",
        "    for key, value in loc_dict.items():\n",
        "        for v in value:\n",
        "            df.loc[v[0], key] = v[1] "
      ],
      "execution_count": 71,
      "outputs": []
    },
    {
      "cell_type": "code",
      "metadata": {
        "id": "kr634Lc3ILte"
      },
      "source": [
        ""
      ],
      "execution_count": null,
      "outputs": []
    },
    {
      "cell_type": "code",
      "metadata": {
        "id": "Zzbt4k0RWM1x"
      },
      "source": [
        "input_manual_fx(manual_inputs_df, manual_changes)"
      ],
      "execution_count": 72,
      "outputs": []
    },
    {
      "cell_type": "code",
      "metadata": {
        "id": "e-NcQDWpZnbD"
      },
      "source": [
        "manual_inputs_df['Mileage'] = manual_inputs_df['Mileage'].replace(np.nan, 0)"
      ],
      "execution_count": 73,
      "outputs": []
    },
    {
      "cell_type": "code",
      "metadata": {
        "id": "yMTbIoBDGuUP",
        "outputId": "645f57e4-03e7-4f7e-f9c0-f8a8dfb59fc4",
        "colab": {
          "base_uri": "https://localhost:8080/"
        }
      },
      "source": [
        "bike_notes = list(manual_inputs_df.Notes2.str.contains('bike total'))\n",
        "bike_totals = []\n",
        "for idx, b in enumerate(bike_notes):\n",
        "    if b is True:\n",
        "        try:\n",
        "            if math.isnan(manual_inputs_df.Bike_Mileage.iloc[idx]):\n",
        "                bike_totals.append(idx)\n",
        "        except:\n",
        "            continue\n",
        "for i_bike in bike_totals:\n",
        "    manual_inputs_df.Bike_Mileage.iloc[i_bike] = manual_inputs_df.Mileage.iloc[i_bike]\n",
        "    manual_inputs_df.Mileage.iloc[i_bike] = 0"
      ],
      "execution_count": 74,
      "outputs": [
        {
          "output_type": "stream",
          "text": [
            "/usr/local/lib/python3.6/dist-packages/pandas/core/indexing.py:670: SettingWithCopyWarning: \n",
            "A value is trying to be set on a copy of a slice from a DataFrame\n",
            "\n",
            "See the caveats in the documentation: https://pandas.pydata.org/pandas-docs/stable/user_guide/indexing.html#returning-a-view-versus-a-copy\n",
            "  iloc._setitem_with_indexer(indexer, value)\n"
          ],
          "name": "stderr"
        }
      ]
    },
    {
      "cell_type": "markdown",
      "metadata": {
        "id": "UPsND7RRWy19"
      },
      "source": [
        "#### Time to mess with the Date. "
      ]
    },
    {
      "cell_type": "code",
      "metadata": {
        "id": "hpktzHhxRrnW"
      },
      "source": [
        "date_list = list(manual_inputs_df.Date)\n",
        "differences = []\n",
        "indices =[]\n",
        "for idx, d in enumerate(date_list):\n",
        "    try:\n",
        "        if math.isnan(d):\n",
        "            continue\n",
        "    except:\n",
        "        if idx > 0:\n",
        "            indices.append(idx)\n",
        "        \n",
        "\n"
      ],
      "execution_count": 75,
      "outputs": []
    },
    {
      "cell_type": "code",
      "metadata": {
        "id": "oOjPR4jsLjUJ"
      },
      "source": [
        "manual_inputs_df.Date = pd.to_datetime(manual_inputs_df.Date, errors='coerce')"
      ],
      "execution_count": 76,
      "outputs": []
    },
    {
      "cell_type": "code",
      "metadata": {
        "id": "l1PBXRpRYFfF"
      },
      "source": [
        "differences = []\n",
        "for idx, da in enumerate(indices):\n",
        "    diff = manual_inputs_df['Date'].iloc[da] - manual_inputs_df['Date'].iloc[indices[idx - 1]]\n",
        "    day = diff.days\n",
        "    if day is not 7:\n",
        "        diff_list = [day, da, idx]\n",
        "        differences.append(diff_list)\n"
      ],
      "execution_count": 77,
      "outputs": []
    },
    {
      "cell_type": "code",
      "metadata": {
        "id": "tItqdvN7J28B",
        "outputId": "2bbd85bd-4a2e-4ef7-a962-ee490ab1bac2",
        "colab": {
          "base_uri": "https://localhost:8080/"
        }
      },
      "source": [
        "manual_inputs_df.iloc[25].name"
      ],
      "execution_count": 78,
      "outputs": [
        {
          "output_type": "execute_result",
          "data": {
            "text/plain": [
              "31"
            ]
          },
          "metadata": {
            "tags": []
          },
          "execution_count": 78
        }
      ]
    },
    {
      "cell_type": "code",
      "metadata": {
        "id": "eWWGxfYOJpHs",
        "outputId": "262bb5ad-e197-4540-b99e-2b1590092a30",
        "colab": {
          "base_uri": "https://localhost:8080/",
          "height": 35
        }
      },
      "source": [
        "calendar.day_name[manual_inputs_df.loc[31, 'Date'].weekday()]"
      ],
      "execution_count": 79,
      "outputs": [
        {
          "output_type": "execute_result",
          "data": {
            "application/vnd.google.colaboratory.intrinsic+json": {
              "type": "string"
            },
            "text/plain": [
              "'Sunday'"
            ]
          },
          "metadata": {
            "tags": []
          },
          "execution_count": 79
        }
      ]
    },
    {
      "cell_type": "code",
      "metadata": {
        "id": "h7G9OhAVXIMd"
      },
      "source": [
        "new_list = []\n",
        "for dates in manual_inputs_df['Date']:\n",
        "    dayofweek = dates.weekday()\n",
        "\n",
        "    if math.isnan(dayofweek):\n",
        "        new_list.append(np.nan)\n",
        "    else:\n",
        "        new_list.append(calendar.day_name[dayofweek])\n",
        "manual_inputs_df['dayofweekcheck'] = new_list"
      ],
      "execution_count": 80,
      "outputs": []
    },
    {
      "cell_type": "code",
      "metadata": {
        "id": "dLVFRDqeV-jw",
        "outputId": "00ccd001-f45c-4092-e6b3-1d1be3ccc4ae",
        "colab": {
          "base_uri": "https://localhost:8080/"
        }
      },
      "source": [
        "wrong_day_of_week = []\n",
        "for idx, dayof in enumerate(manual_inputs_df.dayofweekcheck):\n",
        "    try:\n",
        "        if math.isnan(dayof):\n",
        "            continue\n",
        "    except:\n",
        "        if manual_inputs_df.Weekday.iloc[idx] != manual_inputs_df.dayofweekcheck.iloc[idx]:\n",
        "            pos_correct = manual_inputs_df.Weekday.iloc[idx]\n",
        "            day_list = [idx, dayof, pos_correct]\n",
        "            wrong_day_of_week.append(day_list)\n",
        "wrong_day_of_week\n"
      ],
      "execution_count": 81,
      "outputs": [
        {
          "output_type": "execute_result",
          "data": {
            "text/plain": [
              "[]"
            ]
          },
          "metadata": {
            "tags": []
          },
          "execution_count": 81
        }
      ]
    },
    {
      "cell_type": "code",
      "metadata": {
        "id": "UcfY_f01l6yW"
      },
      "source": [
        "# now I need to use fillna to fill in all of the NaT's, but I will need to go and check all of the differences above, that are listed below, \n",
        "# and look at the surrounding 20 to make sure that the dates are correct. "
      ],
      "execution_count": 82,
      "outputs": []
    },
    {
      "cell_type": "code",
      "metadata": {
        "id": "QlD7wIFUhauH",
        "outputId": "09d67e1e-9630-48f1-c72f-6ce47df98e7a",
        "colab": {
          "base_uri": "https://localhost:8080/"
        }
      },
      "source": [
        "for idx, row in enumerate(manual_inputs_df.Date):\n",
        "    if (pd.isnull(row)) and (bike_notes[idx] != True):\n",
        "        prev = manual_inputs_df.Date.iloc[idx - 1]\n",
        "        manual_inputs_df.Date.iloc[idx] = prev + timedelta(days = 1)\n",
        "manual_inputs_df.Date"
      ],
      "execution_count": 83,
      "outputs": [
        {
          "output_type": "stream",
          "text": [
            "/usr/local/lib/python3.6/dist-packages/pandas/core/indexing.py:670: SettingWithCopyWarning: \n",
            "A value is trying to be set on a copy of a slice from a DataFrame\n",
            "\n",
            "See the caveats in the documentation: https://pandas.pydata.org/pandas-docs/stable/user_guide/indexing.html#returning-a-view-versus-a-copy\n",
            "  iloc._setitem_with_indexer(indexer, value)\n"
          ],
          "name": "stderr"
        },
        {
          "output_type": "execute_result",
          "data": {
            "text/plain": [
              "0      2010-05-29\n",
              "1      2010-06-21\n",
              "2      2010-06-22\n",
              "3      2010-06-23\n",
              "4      2010-06-24\n",
              "          ...    \n",
              "1978   2015-12-20\n",
              "1980   2015-12-21\n",
              "1981   2015-12-22\n",
              "1982   2015-12-25\n",
              "1983   2015-12-31\n",
              "Name: Date, Length: 1673, dtype: datetime64[ns]"
            ]
          },
          "metadata": {
            "tags": []
          },
          "execution_count": 83
        }
      ]
    },
    {
      "cell_type": "code",
      "metadata": {
        "id": "BaqzbsohVt_c"
      },
      "source": [
        "diff_idx = 0"
      ],
      "execution_count": 84,
      "outputs": []
    },
    {
      "cell_type": "code",
      "metadata": {
        "id": "y7nRH1LWYEip"
      },
      "source": [
        "diff_idx = diff_idx + 1\n",
        "diff_value = differences[diff_idx][1]\n",
        "idx_lower = diff_value - 15\n",
        "\n",
        "idx_upper = diff_value + 15\n",
        "if (diff_value >= 15) and (diff_value <= 1702):\n",
        "    a = manual_inputs_df.iloc[idx_lower:idx_upper]\n",
        "    \n",
        "elif diff_value <15:\n",
        "    a = manual_inputs_df.iloc[:idx_upper]\n",
        "    \n",
        "else:\n",
        "    a = manual_inputs_df.iloc[idx_lower:]\n"
      ],
      "execution_count": 85,
      "outputs": []
    },
    {
      "cell_type": "code",
      "metadata": {
        "id": "kNRyMiuaWF-H"
      },
      "source": [
        "#fix the data issue above as well with having to import a new csv file. "
      ],
      "execution_count": 86,
      "outputs": []
    },
    {
      "cell_type": "code",
      "metadata": {
        "id": "qYBbUsHWGf8a",
        "outputId": "5abff8e7-8450-41de-8fca-9cd259881bde",
        "colab": {
          "base_uri": "https://localhost:8080/"
        }
      },
      "source": [
        "pre_garmin_edited = manual_inputs_df.drop(['Notes2', 'Notes','Mileage_init', 'length','counter', 'Notes3','Date2','Mileage_init2',\n",
        "                                           'Mileage_init3', 'Mileage_init4','Mileage_init5','numbers','dayofweekcheck','Notes_comb'], axis=1)\n",
        "pre_garmin_edited.info()"
      ],
      "execution_count": 87,
      "outputs": [
        {
          "output_type": "stream",
          "text": [
            "<class 'pandas.core.frame.DataFrame'>\n",
            "Int64Index: 1673 entries, 0 to 1983\n",
            "Data columns (total 9 columns):\n",
            " #   Column           Non-Null Count  Dtype         \n",
            "---  ------           --------------  -----         \n",
            " 0   Mileage          1673 non-null   float64       \n",
            " 1   Time             32 non-null     object        \n",
            " 2   Weekday          1617 non-null   object        \n",
            " 3   Date             1618 non-null   datetime64[ns]\n",
            " 4   Workout_type     79 non-null     object        \n",
            " 5   Workout_mins     79 non-null     float64       \n",
            " 6   Swimming_meters  41 non-null     float64       \n",
            " 7   Bike_Mileage     180 non-null    float64       \n",
            " 8   raw_note         1673 non-null   object        \n",
            "dtypes: datetime64[ns](1), float64(4), object(4)\n",
            "memory usage: 210.7+ KB\n"
          ],
          "name": "stdout"
        }
      ]
    },
    {
      "cell_type": "code",
      "metadata": {
        "id": "mRnyvij-oiOj",
        "outputId": "f3f33dd5-d639-4d84-a0e7-9e7c93f969de",
        "colab": {
          "base_uri": "https://localhost:8080/"
        }
      },
      "source": [
        "pgcols = pre_garmin_edited.columns.to_list()\n",
        "pgcols"
      ],
      "execution_count": 88,
      "outputs": [
        {
          "output_type": "execute_result",
          "data": {
            "text/plain": [
              "['Mileage',\n",
              " 'Time',\n",
              " 'Weekday',\n",
              " 'Date',\n",
              " 'Workout_type',\n",
              " 'Workout_mins',\n",
              " 'Swimming_meters',\n",
              " 'Bike_Mileage',\n",
              " 'raw_note']"
            ]
          },
          "metadata": {
            "tags": []
          },
          "execution_count": 88
        }
      ]
    },
    {
      "cell_type": "code",
      "metadata": {
        "id": "kmUCoX2SpBFY"
      },
      "source": [
        "pre_garmin_edited = pre_garmin_edited[['Weekday', 'Date','Mileage', 'Time', 'Workout_type','Workout_mins', 'Swimming_meters','Bike_Mileage', 'raw_note']]"
      ],
      "execution_count": 89,
      "outputs": []
    },
    {
      "cell_type": "code",
      "metadata": {
        "id": "i5cVhIpspTIM",
        "outputId": "b0f4b592-2779-453e-9927-a19e5e9ec65a",
        "colab": {
          "base_uri": "https://localhost:8080/",
          "height": 191
        }
      },
      "source": [
        "pre_garmin_edited.head()"
      ],
      "execution_count": 90,
      "outputs": [
        {
          "output_type": "execute_result",
          "data": {
            "text/html": [
              "<div>\n",
              "<style scoped>\n",
              "    .dataframe tbody tr th:only-of-type {\n",
              "        vertical-align: middle;\n",
              "    }\n",
              "\n",
              "    .dataframe tbody tr th {\n",
              "        vertical-align: top;\n",
              "    }\n",
              "\n",
              "    .dataframe thead th {\n",
              "        text-align: right;\n",
              "    }\n",
              "</style>\n",
              "<table border=\"1\" class=\"dataframe\">\n",
              "  <thead>\n",
              "    <tr style=\"text-align: right;\">\n",
              "      <th></th>\n",
              "      <th>Weekday</th>\n",
              "      <th>Date</th>\n",
              "      <th>Mileage</th>\n",
              "      <th>Time</th>\n",
              "      <th>Workout_type</th>\n",
              "      <th>Workout_mins</th>\n",
              "      <th>Swimming_meters</th>\n",
              "      <th>Bike_Mileage</th>\n",
              "      <th>raw_note</th>\n",
              "    </tr>\n",
              "  </thead>\n",
              "  <tbody>\n",
              "    <tr>\n",
              "      <th>0</th>\n",
              "      <td>Saturday</td>\n",
              "      <td>2010-05-29</td>\n",
              "      <td>3.8</td>\n",
              "      <td>27:19</td>\n",
              "      <td>None</td>\n",
              "      <td>NaN</td>\n",
              "      <td>NaN</td>\n",
              "      <td>NaN</td>\n",
              "      <td>Saturday 5/29/10 4 miles 27:19 it was a little...</td>\n",
              "    </tr>\n",
              "    <tr>\n",
              "      <th>1</th>\n",
              "      <td>Monday</td>\n",
              "      <td>2010-06-21</td>\n",
              "      <td>4.0</td>\n",
              "      <td>None</td>\n",
              "      <td>None</td>\n",
              "      <td>NaN</td>\n",
              "      <td>NaN</td>\n",
              "      <td>NaN</td>\n",
              "      <td>Monday 6/21/10_ 4 miles</td>\n",
              "    </tr>\n",
              "    <tr>\n",
              "      <th>2</th>\n",
              "      <td>Tuesday</td>\n",
              "      <td>2010-06-22</td>\n",
              "      <td>4.0</td>\n",
              "      <td>None</td>\n",
              "      <td>None</td>\n",
              "      <td>NaN</td>\n",
              "      <td>1600.0</td>\n",
              "      <td>NaN</td>\n",
              "      <td>Tuesday 6/22/10_ 4 miles_Swimming_ 10 laps of ...</td>\n",
              "    </tr>\n",
              "    <tr>\n",
              "      <th>3</th>\n",
              "      <td>Wednesday</td>\n",
              "      <td>2010-06-23</td>\n",
              "      <td>4.5</td>\n",
              "      <td>None</td>\n",
              "      <td>None</td>\n",
              "      <td>NaN</td>\n",
              "      <td>NaN</td>\n",
              "      <td>NaN</td>\n",
              "      <td>Wednesday 6/23/10_ 4.5 miles_35 minutes</td>\n",
              "    </tr>\n",
              "    <tr>\n",
              "      <th>4</th>\n",
              "      <td>Thursday</td>\n",
              "      <td>2010-06-24</td>\n",
              "      <td>5.0</td>\n",
              "      <td>None</td>\n",
              "      <td>None</td>\n",
              "      <td>NaN</td>\n",
              "      <td>NaN</td>\n",
              "      <td>NaN</td>\n",
              "      <td>Thursday 6/25/10_ 5</td>\n",
              "    </tr>\n",
              "  </tbody>\n",
              "</table>\n",
              "</div>"
            ],
            "text/plain": [
              "     Weekday  ...                                           raw_note\n",
              "0   Saturday  ...  Saturday 5/29/10 4 miles 27:19 it was a little...\n",
              "1     Monday  ...                            Monday 6/21/10_ 4 miles\n",
              "2    Tuesday  ...  Tuesday 6/22/10_ 4 miles_Swimming_ 10 laps of ...\n",
              "3  Wednesday  ...            Wednesday 6/23/10_ 4.5 miles_35 minutes\n",
              "4   Thursday  ...                               Thursday 6/25/10_ 5 \n",
              "\n",
              "[5 rows x 9 columns]"
            ]
          },
          "metadata": {
            "tags": []
          },
          "execution_count": 90
        }
      ]
    },
    {
      "cell_type": "code",
      "metadata": {
        "id": "uU7ibvEUmEe1"
      },
      "source": [
        "pre_garmin_edited.to_csv(\"/content/drive/My Drive/edited_pre_garmin.csv\")"
      ],
      "execution_count": 91,
      "outputs": []
    },
    {
      "cell_type": "code",
      "metadata": {
        "id": "-UIp9L60nNfO",
        "outputId": "774d733f-236c-474a-dd84-a4b0a2c468de",
        "colab": {
          "base_uri": "https://localhost:8080/",
          "height": 277
        }
      },
      "source": [
        "pre_garmin_edited2 = pd.read_csv(\"/content/drive/My Drive/edited_pre_garmin.csv\",index_col=0)\n",
        "pre_garmin_edited2.describe()"
      ],
      "execution_count": 92,
      "outputs": [
        {
          "output_type": "execute_result",
          "data": {
            "text/html": [
              "<div>\n",
              "<style scoped>\n",
              "    .dataframe tbody tr th:only-of-type {\n",
              "        vertical-align: middle;\n",
              "    }\n",
              "\n",
              "    .dataframe tbody tr th {\n",
              "        vertical-align: top;\n",
              "    }\n",
              "\n",
              "    .dataframe thead th {\n",
              "        text-align: right;\n",
              "    }\n",
              "</style>\n",
              "<table border=\"1\" class=\"dataframe\">\n",
              "  <thead>\n",
              "    <tr style=\"text-align: right;\">\n",
              "      <th></th>\n",
              "      <th>Mileage</th>\n",
              "      <th>Workout_mins</th>\n",
              "      <th>Swimming_meters</th>\n",
              "      <th>Bike_Mileage</th>\n",
              "    </tr>\n",
              "  </thead>\n",
              "  <tbody>\n",
              "    <tr>\n",
              "      <th>count</th>\n",
              "      <td>1673.000000</td>\n",
              "      <td>79.000000</td>\n",
              "      <td>41.000000</td>\n",
              "      <td>180.000000</td>\n",
              "    </tr>\n",
              "    <tr>\n",
              "      <th>mean</th>\n",
              "      <td>6.642600</td>\n",
              "      <td>42.468354</td>\n",
              "      <td>1714.634146</td>\n",
              "      <td>23.871417</td>\n",
              "    </tr>\n",
              "    <tr>\n",
              "      <th>std</th>\n",
              "      <td>4.088243</td>\n",
              "      <td>15.377169</td>\n",
              "      <td>257.449971</td>\n",
              "      <td>20.713321</td>\n",
              "    </tr>\n",
              "    <tr>\n",
              "      <th>min</th>\n",
              "      <td>0.000000</td>\n",
              "      <td>20.000000</td>\n",
              "      <td>1600.000000</td>\n",
              "      <td>0.000000</td>\n",
              "    </tr>\n",
              "    <tr>\n",
              "      <th>25%</th>\n",
              "      <td>4.000000</td>\n",
              "      <td>45.000000</td>\n",
              "      <td>1600.000000</td>\n",
              "      <td>11.812250</td>\n",
              "    </tr>\n",
              "    <tr>\n",
              "      <th>50%</th>\n",
              "      <td>7.000000</td>\n",
              "      <td>45.000000</td>\n",
              "      <td>1600.000000</td>\n",
              "      <td>20.000000</td>\n",
              "    </tr>\n",
              "    <tr>\n",
              "      <th>75%</th>\n",
              "      <td>9.000000</td>\n",
              "      <td>45.000000</td>\n",
              "      <td>1600.000000</td>\n",
              "      <td>30.000000</td>\n",
              "    </tr>\n",
              "    <tr>\n",
              "      <th>max</th>\n",
              "      <td>27.500000</td>\n",
              "      <td>120.000000</td>\n",
              "      <td>2300.000000</td>\n",
              "      <td>102.210000</td>\n",
              "    </tr>\n",
              "  </tbody>\n",
              "</table>\n",
              "</div>"
            ],
            "text/plain": [
              "           Mileage  Workout_mins  Swimming_meters  Bike_Mileage\n",
              "count  1673.000000     79.000000        41.000000    180.000000\n",
              "mean      6.642600     42.468354      1714.634146     23.871417\n",
              "std       4.088243     15.377169       257.449971     20.713321\n",
              "min       0.000000     20.000000      1600.000000      0.000000\n",
              "25%       4.000000     45.000000      1600.000000     11.812250\n",
              "50%       7.000000     45.000000      1600.000000     20.000000\n",
              "75%       9.000000     45.000000      1600.000000     30.000000\n",
              "max      27.500000    120.000000      2300.000000    102.210000"
            ]
          },
          "metadata": {
            "tags": []
          },
          "execution_count": 92
        }
      ]
    },
    {
      "cell_type": "code",
      "metadata": {
        "id": "-mnRHGfsoaL-",
        "outputId": "5426b684-1109-4f52-cac3-52c9d20e30d9",
        "colab": {
          "base_uri": "https://localhost:8080/"
        }
      },
      "source": [
        "print('Total Running Mileage:  ', pre_garmin_edited2.Mileage.sum())\n",
        "print('Total Bike Mileage:    ', pre_garmin_edited2.Bike_Mileage.sum())\n",
        "print('Total Workout Minutes:   ', pre_garmin_edited2.Workout_mins.sum())\n",
        "print('Total Swimming Meters:   ', pre_garmin_edited2.Swimming_meters.sum())"
      ],
      "execution_count": 93,
      "outputs": [
        {
          "output_type": "stream",
          "text": [
            "Total Running Mileage:   11113.07\n",
            "Total Bike Mileage:     4296.8550000000005\n",
            "Total Workout Minutes:    3355.0\n",
            "Total Swimming Meters:    70300.0\n"
          ],
          "name": "stdout"
        }
      ]
    },
    {
      "cell_type": "code",
      "metadata": {
        "id": "28xNYyKqKEno",
        "outputId": "e573d893-2033-432f-d17b-1f97d3d4226f",
        "colab": {
          "base_uri": "https://localhost:8080/"
        }
      },
      "source": [
        "pre_garmin_edited2.info()"
      ],
      "execution_count": 94,
      "outputs": [
        {
          "output_type": "stream",
          "text": [
            "<class 'pandas.core.frame.DataFrame'>\n",
            "Int64Index: 1673 entries, 0 to 1983\n",
            "Data columns (total 9 columns):\n",
            " #   Column           Non-Null Count  Dtype  \n",
            "---  ------           --------------  -----  \n",
            " 0   Weekday          1617 non-null   object \n",
            " 1   Date             1618 non-null   object \n",
            " 2   Mileage          1673 non-null   float64\n",
            " 3   Time             32 non-null     object \n",
            " 4   Workout_type     79 non-null     object \n",
            " 5   Workout_mins     79 non-null     float64\n",
            " 6   Swimming_meters  41 non-null     float64\n",
            " 7   Bike_Mileage     180 non-null    float64\n",
            " 8   raw_note         1673 non-null   object \n",
            "dtypes: float64(4), object(5)\n",
            "memory usage: 130.7+ KB\n"
          ],
          "name": "stdout"
        }
      ]
    },
    {
      "cell_type": "markdown",
      "metadata": {
        "id": "PXYXo8VXsY43"
      },
      "source": [
        "## Visualizations"
      ]
    },
    {
      "cell_type": "code",
      "metadata": {
        "id": "EUTVKFXxr1e0"
      },
      "source": [
        "plt.rcParams[\"figure.figsize\"] = (20,20)\n",
        "# plt.rcParams[\"font.size\"] = 32.0"
      ],
      "execution_count": 95,
      "outputs": []
    },
    {
      "cell_type": "code",
      "metadata": {
        "id": "jSYWTpkwJwu_",
        "outputId": "3c509a78-00d7-422b-b91c-459d0b499d3c",
        "colab": {
          "base_uri": "https://localhost:8080/",
          "height": 1000
        }
      },
      "source": [
        "plt.plot(pre_garmin_edited.Date, pre_garmin_edited.Mileage)\n",
        "plt.show()"
      ],
      "execution_count": 96,
      "outputs": [
        {
          "output_type": "display_data",
          "data": {
            "image/png": "[encoded data removed]",
            "text/plain": [
              "<Figure size 1440x1440 with 1 Axes>"
            ]
          },
          "metadata": {
            "tags": [],
            "needs_background": "light"
          }
        }
      ]
    },
    {
      "cell_type": "markdown",
      "metadata": {
        "id": "l1xvBlVVr2Ha"
      },
      "source": [
        "# Garmin Data Wrangling"
      ]
    },
    {
      "cell_type": "code",
      "metadata": {
        "id": "ECn9pM63o5Ae",
        "outputId": "3dfb3a5c-d8af-466d-f251-ce848a09fb41",
        "colab": {
          "base_uri": "https://localhost:8080/",
          "height": 305
        }
      },
      "source": [
        "post_garmin = pd.read_csv(\"/content/drive/My Drive/runningdata.csv\")\n",
        "post_garmin.head()"
      ],
      "execution_count": 97,
      "outputs": [
        {
          "output_type": "execute_result",
          "data": {
            "text/html": [
              "<div>\n",
              "<style scoped>\n",
              "    .dataframe tbody tr th:only-of-type {\n",
              "        vertical-align: middle;\n",
              "    }\n",
              "\n",
              "    .dataframe tbody tr th {\n",
              "        vertical-align: top;\n",
              "    }\n",
              "\n",
              "    .dataframe thead th {\n",
              "        text-align: right;\n",
              "    }\n",
              "</style>\n",
              "<table border=\"1\" class=\"dataframe\">\n",
              "  <thead>\n",
              "    <tr style=\"text-align: right;\">\n",
              "      <th></th>\n",
              "      <th>Activity Type</th>\n",
              "      <th>Date</th>\n",
              "      <th>Favorite</th>\n",
              "      <th>Title</th>\n",
              "      <th>Distance</th>\n",
              "      <th>Calories</th>\n",
              "      <th>Time</th>\n",
              "      <th>Max HR</th>\n",
              "      <th>Avg Run Cadence</th>\n",
              "      <th>Max Run Cadence</th>\n",
              "      <th>Avg Pace</th>\n",
              "      <th>Best Pace</th>\n",
              "      <th>Elev Gain</th>\n",
              "      <th>Elev Loss</th>\n",
              "      <th>Avg Stride Length</th>\n",
              "      <th>Avg Vertical Ratio</th>\n",
              "      <th>Avg Vertical Oscillation</th>\n",
              "      <th>Training Stress Score®</th>\n",
              "      <th>Avg Power</th>\n",
              "      <th>Max Power</th>\n",
              "      <th>Grit</th>\n",
              "      <th>Flow</th>\n",
              "      <th>Total Strokes</th>\n",
              "      <th>Avg. Swolf</th>\n",
              "      <th>Avg Stroke Rate</th>\n",
              "      <th>Bottom Time</th>\n",
              "      <th>Min Temp</th>\n",
              "      <th>Surface Interval</th>\n",
              "      <th>Decompression</th>\n",
              "      <th>Best Lap Time</th>\n",
              "      <th>Number of Laps</th>\n",
              "      <th>Max Temp</th>\n",
              "    </tr>\n",
              "  </thead>\n",
              "  <tbody>\n",
              "    <tr>\n",
              "      <th>0</th>\n",
              "      <td>Running</td>\n",
              "      <td>7/14/2020 5:17</td>\n",
              "      <td>False</td>\n",
              "      <td>Zebulon Running</td>\n",
              "      <td>10.02</td>\n",
              "      <td>1,272</td>\n",
              "      <td>1:16:55</td>\n",
              "      <td>--</td>\n",
              "      <td>172</td>\n",
              "      <td>180</td>\n",
              "      <td>7:41</td>\n",
              "      <td>5:25</td>\n",
              "      <td>196</td>\n",
              "      <td>209</td>\n",
              "      <td>1.22</td>\n",
              "      <td>0</td>\n",
              "      <td>0</td>\n",
              "      <td>0</td>\n",
              "      <td>--</td>\n",
              "      <td>--</td>\n",
              "      <td>0</td>\n",
              "      <td>0</td>\n",
              "      <td>--</td>\n",
              "      <td>--</td>\n",
              "      <td>--</td>\n",
              "      <td>0:00</td>\n",
              "      <td>0</td>\n",
              "      <td>0:00</td>\n",
              "      <td>No</td>\n",
              "      <td>00:07.0</td>\n",
              "      <td>11</td>\n",
              "      <td>0</td>\n",
              "    </tr>\n",
              "    <tr>\n",
              "      <th>1</th>\n",
              "      <td>Running</td>\n",
              "      <td>7/13/2020 6:56</td>\n",
              "      <td>False</td>\n",
              "      <td>Zebulon Running</td>\n",
              "      <td>10.35</td>\n",
              "      <td>1,307</td>\n",
              "      <td>1:16:12</td>\n",
              "      <td>--</td>\n",
              "      <td>173</td>\n",
              "      <td>184</td>\n",
              "      <td>7:22</td>\n",
              "      <td>5:10</td>\n",
              "      <td>163</td>\n",
              "      <td>172</td>\n",
              "      <td>1.27</td>\n",
              "      <td>0</td>\n",
              "      <td>0</td>\n",
              "      <td>0</td>\n",
              "      <td>--</td>\n",
              "      <td>--</td>\n",
              "      <td>0</td>\n",
              "      <td>0</td>\n",
              "      <td>--</td>\n",
              "      <td>--</td>\n",
              "      <td>--</td>\n",
              "      <td>0:00</td>\n",
              "      <td>0</td>\n",
              "      <td>0:00</td>\n",
              "      <td>No</td>\n",
              "      <td>00:37.5</td>\n",
              "      <td>12</td>\n",
              "      <td>0</td>\n",
              "    </tr>\n",
              "    <tr>\n",
              "      <th>2</th>\n",
              "      <td>Indoor Cycling</td>\n",
              "      <td>7/13/2020 5:35</td>\n",
              "      <td>False</td>\n",
              "      <td>Indoor Cycling</td>\n",
              "      <td>0</td>\n",
              "      <td>--</td>\n",
              "      <td>1:02:04</td>\n",
              "      <td>--</td>\n",
              "      <td>--</td>\n",
              "      <td>--</td>\n",
              "      <td>--</td>\n",
              "      <td>--</td>\n",
              "      <td>--</td>\n",
              "      <td>--</td>\n",
              "      <td>0.00</td>\n",
              "      <td>0</td>\n",
              "      <td>0</td>\n",
              "      <td>0</td>\n",
              "      <td>--</td>\n",
              "      <td>--</td>\n",
              "      <td>0</td>\n",
              "      <td>0</td>\n",
              "      <td>--</td>\n",
              "      <td>--</td>\n",
              "      <td>--</td>\n",
              "      <td>0:00</td>\n",
              "      <td>0</td>\n",
              "      <td>0:00</td>\n",
              "      <td>No</td>\n",
              "      <td>02:04.3</td>\n",
              "      <td>1</td>\n",
              "      <td>0</td>\n",
              "    </tr>\n",
              "    <tr>\n",
              "      <th>3</th>\n",
              "      <td>Indoor Cycling</td>\n",
              "      <td>7/12/2020 5:56</td>\n",
              "      <td>False</td>\n",
              "      <td>Indoor Cycling</td>\n",
              "      <td>0</td>\n",
              "      <td>--</td>\n",
              "      <td>1:07:01</td>\n",
              "      <td>--</td>\n",
              "      <td>--</td>\n",
              "      <td>--</td>\n",
              "      <td>--</td>\n",
              "      <td>--</td>\n",
              "      <td>--</td>\n",
              "      <td>--</td>\n",
              "      <td>0.00</td>\n",
              "      <td>0</td>\n",
              "      <td>0</td>\n",
              "      <td>0</td>\n",
              "      <td>--</td>\n",
              "      <td>--</td>\n",
              "      <td>0</td>\n",
              "      <td>0</td>\n",
              "      <td>--</td>\n",
              "      <td>--</td>\n",
              "      <td>--</td>\n",
              "      <td>0:00</td>\n",
              "      <td>0</td>\n",
              "      <td>0:00</td>\n",
              "      <td>No</td>\n",
              "      <td>07:01.2</td>\n",
              "      <td>1</td>\n",
              "      <td>0</td>\n",
              "    </tr>\n",
              "    <tr>\n",
              "      <th>4</th>\n",
              "      <td>Running</td>\n",
              "      <td>7/12/2020 5:16</td>\n",
              "      <td>False</td>\n",
              "      <td>Zebulon Running</td>\n",
              "      <td>1.01</td>\n",
              "      <td>124</td>\n",
              "      <td>08:40.4</td>\n",
              "      <td>--</td>\n",
              "      <td>168</td>\n",
              "      <td>174</td>\n",
              "      <td>8:34</td>\n",
              "      <td>7:27</td>\n",
              "      <td>46</td>\n",
              "      <td>--</td>\n",
              "      <td>1.12</td>\n",
              "      <td>0</td>\n",
              "      <td>0</td>\n",
              "      <td>0</td>\n",
              "      <td>--</td>\n",
              "      <td>--</td>\n",
              "      <td>0</td>\n",
              "      <td>0</td>\n",
              "      <td>--</td>\n",
              "      <td>--</td>\n",
              "      <td>--</td>\n",
              "      <td>0:00</td>\n",
              "      <td>0</td>\n",
              "      <td>0:00</td>\n",
              "      <td>No</td>\n",
              "      <td>00:05.7</td>\n",
              "      <td>2</td>\n",
              "      <td>0</td>\n",
              "    </tr>\n",
              "  </tbody>\n",
              "</table>\n",
              "</div>"
            ],
            "text/plain": [
              "    Activity Type            Date  ...  Number of Laps Max Temp\n",
              "0         Running  7/14/2020 5:17  ...              11        0\n",
              "1         Running  7/13/2020 6:56  ...              12        0\n",
              "2  Indoor Cycling  7/13/2020 5:35  ...               1        0\n",
              "3  Indoor Cycling  7/12/2020 5:56  ...               1        0\n",
              "4         Running  7/12/2020 5:16  ...               2        0\n",
              "\n",
              "[5 rows x 32 columns]"
            ]
          },
          "metadata": {
            "tags": []
          },
          "execution_count": 97
        }
      ]
    },
    {
      "cell_type": "code",
      "metadata": {
        "id": "k7yeTBPsNKy7",
        "outputId": "805242d6-81fd-4189-9562-5aed2ff9833f",
        "colab": {
          "base_uri": "https://localhost:8080/"
        }
      },
      "source": [
        "post_garmin.info()"
      ],
      "execution_count": 98,
      "outputs": [
        {
          "output_type": "stream",
          "text": [
            "<class 'pandas.core.frame.DataFrame'>\n",
            "RangeIndex: 3594 entries, 0 to 3593\n",
            "Data columns (total 32 columns):\n",
            " #   Column                    Non-Null Count  Dtype  \n",
            "---  ------                    --------------  -----  \n",
            " 0   Activity Type             3594 non-null   object \n",
            " 1   Date                      3594 non-null   object \n",
            " 2   Favorite                  3594 non-null   bool   \n",
            " 3   Title                     3594 non-null   object \n",
            " 4   Distance                  3594 non-null   object \n",
            " 5   Calories                  3594 non-null   object \n",
            " 6   Time                      3594 non-null   object \n",
            " 7   Max HR                    3594 non-null   object \n",
            " 8   Avg Run Cadence           3594 non-null   object \n",
            " 9   Max Run Cadence           3594 non-null   object \n",
            " 10  Avg Pace                  3594 non-null   object \n",
            " 11  Best Pace                 3594 non-null   object \n",
            " 12  Elev Gain                 3594 non-null   object \n",
            " 13  Elev Loss                 3594 non-null   object \n",
            " 14  Avg Stride Length         3594 non-null   float64\n",
            " 15  Avg Vertical Ratio        3594 non-null   int64  \n",
            " 16  Avg Vertical Oscillation  3594 non-null   int64  \n",
            " 17  Training Stress Score®    3594 non-null   int64  \n",
            " 18  Avg Power                 3594 non-null   object \n",
            " 19  Max Power                 3594 non-null   object \n",
            " 20  Grit                      3594 non-null   object \n",
            " 21  Flow                      3594 non-null   int64  \n",
            " 22  Total Strokes             3594 non-null   object \n",
            " 23  Avg. Swolf                3594 non-null   object \n",
            " 24  Avg Stroke Rate           3594 non-null   object \n",
            " 25  Bottom Time               3594 non-null   object \n",
            " 26  Min Temp                  3594 non-null   int64  \n",
            " 27  Surface Interval          3594 non-null   object \n",
            " 28  Decompression             3594 non-null   object \n",
            " 29  Best Lap Time             3594 non-null   object \n",
            " 30  Number of Laps            3594 non-null   object \n",
            " 31  Max Temp                  3594 non-null   int64  \n",
            "dtypes: bool(1), float64(1), int64(6), object(24)\n",
            "memory usage: 874.1+ KB\n"
          ],
          "name": "stdout"
        }
      ]
    },
    {
      "cell_type": "code",
      "metadata": {
        "id": "21BeaaUiN13r",
        "outputId": "51119b60-035c-4949-9026-444c42fe6cfd",
        "colab": {
          "base_uri": "https://localhost:8080/",
          "height": 277
        }
      },
      "source": [
        "post_garmin2 = post_garmin.replace('--',np.nan)\n",
        "post_garmin2.describe()"
      ],
      "execution_count": 99,
      "outputs": [
        {
          "output_type": "execute_result",
          "data": {
            "text/html": [
              "<div>\n",
              "<style scoped>\n",
              "    .dataframe tbody tr th:only-of-type {\n",
              "        vertical-align: middle;\n",
              "    }\n",
              "\n",
              "    .dataframe tbody tr th {\n",
              "        vertical-align: top;\n",
              "    }\n",
              "\n",
              "    .dataframe thead th {\n",
              "        text-align: right;\n",
              "    }\n",
              "</style>\n",
              "<table border=\"1\" class=\"dataframe\">\n",
              "  <thead>\n",
              "    <tr style=\"text-align: right;\">\n",
              "      <th></th>\n",
              "      <th>Avg Stride Length</th>\n",
              "      <th>Avg Vertical Ratio</th>\n",
              "      <th>Avg Vertical Oscillation</th>\n",
              "      <th>Training Stress Score®</th>\n",
              "      <th>Flow</th>\n",
              "      <th>Min Temp</th>\n",
              "      <th>Max Temp</th>\n",
              "    </tr>\n",
              "  </thead>\n",
              "  <tbody>\n",
              "    <tr>\n",
              "      <th>count</th>\n",
              "      <td>3594.000000</td>\n",
              "      <td>3594.0</td>\n",
              "      <td>3594.0</td>\n",
              "      <td>3594.0</td>\n",
              "      <td>3594.0</td>\n",
              "      <td>3594.0</td>\n",
              "      <td>3594.0</td>\n",
              "    </tr>\n",
              "    <tr>\n",
              "      <th>mean</th>\n",
              "      <td>0.459071</td>\n",
              "      <td>0.0</td>\n",
              "      <td>0.0</td>\n",
              "      <td>0.0</td>\n",
              "      <td>0.0</td>\n",
              "      <td>0.0</td>\n",
              "      <td>0.0</td>\n",
              "    </tr>\n",
              "    <tr>\n",
              "      <th>std</th>\n",
              "      <td>1.674200</td>\n",
              "      <td>0.0</td>\n",
              "      <td>0.0</td>\n",
              "      <td>0.0</td>\n",
              "      <td>0.0</td>\n",
              "      <td>0.0</td>\n",
              "      <td>0.0</td>\n",
              "    </tr>\n",
              "    <tr>\n",
              "      <th>min</th>\n",
              "      <td>0.000000</td>\n",
              "      <td>0.0</td>\n",
              "      <td>0.0</td>\n",
              "      <td>0.0</td>\n",
              "      <td>0.0</td>\n",
              "      <td>0.0</td>\n",
              "      <td>0.0</td>\n",
              "    </tr>\n",
              "    <tr>\n",
              "      <th>25%</th>\n",
              "      <td>0.000000</td>\n",
              "      <td>0.0</td>\n",
              "      <td>0.0</td>\n",
              "      <td>0.0</td>\n",
              "      <td>0.0</td>\n",
              "      <td>0.0</td>\n",
              "      <td>0.0</td>\n",
              "    </tr>\n",
              "    <tr>\n",
              "      <th>50%</th>\n",
              "      <td>0.000000</td>\n",
              "      <td>0.0</td>\n",
              "      <td>0.0</td>\n",
              "      <td>0.0</td>\n",
              "      <td>0.0</td>\n",
              "      <td>0.0</td>\n",
              "      <td>0.0</td>\n",
              "    </tr>\n",
              "    <tr>\n",
              "      <th>75%</th>\n",
              "      <td>1.170000</td>\n",
              "      <td>0.0</td>\n",
              "      <td>0.0</td>\n",
              "      <td>0.0</td>\n",
              "      <td>0.0</td>\n",
              "      <td>0.0</td>\n",
              "      <td>0.0</td>\n",
              "    </tr>\n",
              "    <tr>\n",
              "      <th>max</th>\n",
              "      <td>94.070000</td>\n",
              "      <td>0.0</td>\n",
              "      <td>0.0</td>\n",
              "      <td>0.0</td>\n",
              "      <td>0.0</td>\n",
              "      <td>0.0</td>\n",
              "      <td>0.0</td>\n",
              "    </tr>\n",
              "  </tbody>\n",
              "</table>\n",
              "</div>"
            ],
            "text/plain": [
              "       Avg Stride Length  Avg Vertical Ratio  ...  Min Temp  Max Temp\n",
              "count        3594.000000              3594.0  ...    3594.0    3594.0\n",
              "mean            0.459071                 0.0  ...       0.0       0.0\n",
              "std             1.674200                 0.0  ...       0.0       0.0\n",
              "min             0.000000                 0.0  ...       0.0       0.0\n",
              "25%             0.000000                 0.0  ...       0.0       0.0\n",
              "50%             0.000000                 0.0  ...       0.0       0.0\n",
              "75%             1.170000                 0.0  ...       0.0       0.0\n",
              "max            94.070000                 0.0  ...       0.0       0.0\n",
              "\n",
              "[8 rows x 7 columns]"
            ]
          },
          "metadata": {
            "tags": []
          },
          "execution_count": 99
        }
      ]
    },
    {
      "cell_type": "code",
      "metadata": {
        "id": "azgPjWUt7UQt",
        "outputId": "91ac9ee5-98d6-4a01-ec7b-85d305a751ac",
        "colab": {
          "base_uri": "https://localhost:8080/"
        }
      },
      "source": [
        "post_garmin2.info()"
      ],
      "execution_count": 100,
      "outputs": [
        {
          "output_type": "stream",
          "text": [
            "<class 'pandas.core.frame.DataFrame'>\n",
            "RangeIndex: 3594 entries, 0 to 3593\n",
            "Data columns (total 32 columns):\n",
            " #   Column                    Non-Null Count  Dtype  \n",
            "---  ------                    --------------  -----  \n",
            " 0   Activity Type             3594 non-null   object \n",
            " 1   Date                      3594 non-null   object \n",
            " 2   Favorite                  3594 non-null   bool   \n",
            " 3   Title                     3594 non-null   object \n",
            " 4   Distance                  3594 non-null   object \n",
            " 5   Calories                  3586 non-null   object \n",
            " 6   Time                      3594 non-null   object \n",
            " 7   Max HR                    1 non-null      object \n",
            " 8   Avg Run Cadence           1304 non-null   object \n",
            " 9   Max Run Cadence           1305 non-null   object \n",
            " 10  Avg Pace                  3384 non-null   object \n",
            " 11  Best Pace                 3301 non-null   object \n",
            " 12  Elev Gain                 2993 non-null   object \n",
            " 13  Elev Loss                 2901 non-null   object \n",
            " 14  Avg Stride Length         3594 non-null   float64\n",
            " 15  Avg Vertical Ratio        3594 non-null   int64  \n",
            " 16  Avg Vertical Oscillation  3594 non-null   int64  \n",
            " 17  Training Stress Score®    3594 non-null   int64  \n",
            " 18  Avg Power                 7 non-null      object \n",
            " 19  Max Power                 1 non-null      object \n",
            " 20  Grit                      3570 non-null   object \n",
            " 21  Flow                      3594 non-null   int64  \n",
            " 22  Total Strokes             11 non-null     object \n",
            " 23  Avg. Swolf                11 non-null     object \n",
            " 24  Avg Stroke Rate           11 non-null     object \n",
            " 25  Bottom Time               3594 non-null   object \n",
            " 26  Min Temp                  3594 non-null   int64  \n",
            " 27  Surface Interval          3594 non-null   object \n",
            " 28  Decompression             3594 non-null   object \n",
            " 29  Best Lap Time             3594 non-null   object \n",
            " 30  Number of Laps            2506 non-null   object \n",
            " 31  Max Temp                  3594 non-null   int64  \n",
            "dtypes: bool(1), float64(1), int64(6), object(24)\n",
            "memory usage: 874.1+ KB\n"
          ],
          "name": "stdout"
        }
      ]
    },
    {
      "cell_type": "code",
      "metadata": {
        "id": "fZGHDkcYSBuS"
      },
      "source": [
        "post_garmin3 = post_garmin2.drop(['Favorite','Max HR', 'Max Power','Avg Vertical Ratio','Avg Vertical Oscillation',\n",
        "                                  'Training Stress Score®','Grit','Flow','Bottom Time','Min Temp','Surface Interval',\n",
        "                                  'Decompression','Max Temp'], axis=1)"
      ],
      "execution_count": 101,
      "outputs": []
    },
    {
      "cell_type": "code",
      "metadata": {
        "id": "oByfIADcPhQX"
      },
      "source": [
        "def convert_to_float(df, col):\n",
        "    df[col] = df[col].str.replace(',','')\n",
        "    df[col] = df[col].astype(float)\n",
        "\n",
        "columns_to_convert = ['Distance', 'Calories','Elev Gain','Elev Loss','Avg Run Cadence','Max Run Cadence',\n",
        "                      'Avg Power','Total Strokes','Avg. Swolf','Avg Stroke Rate','Number of Laps']\n",
        "for col in columns_to_convert:\n",
        "    convert_to_float(post_garmin3, col)\n"
      ],
      "execution_count": 102,
      "outputs": []
    },
    {
      "cell_type": "code",
      "metadata": {
        "id": "r7Xxol_7EAot",
        "outputId": "65fc5385-bbbf-4692-e3fe-4aa0e2f5e9ad",
        "colab": {
          "base_uri": "https://localhost:8080/"
        }
      },
      "source": [
        "post_garmin3.info()"
      ],
      "execution_count": 103,
      "outputs": [
        {
          "output_type": "stream",
          "text": [
            "<class 'pandas.core.frame.DataFrame'>\n",
            "RangeIndex: 3594 entries, 0 to 3593\n",
            "Data columns (total 19 columns):\n",
            " #   Column             Non-Null Count  Dtype  \n",
            "---  ------             --------------  -----  \n",
            " 0   Activity Type      3594 non-null   object \n",
            " 1   Date               3594 non-null   object \n",
            " 2   Title              3594 non-null   object \n",
            " 3   Distance           3594 non-null   float64\n",
            " 4   Calories           3586 non-null   float64\n",
            " 5   Time               3594 non-null   object \n",
            " 6   Avg Run Cadence    1304 non-null   float64\n",
            " 7   Max Run Cadence    1305 non-null   float64\n",
            " 8   Avg Pace           3384 non-null   object \n",
            " 9   Best Pace          3301 non-null   object \n",
            " 10  Elev Gain          2993 non-null   float64\n",
            " 11  Elev Loss          2901 non-null   float64\n",
            " 12  Avg Stride Length  3594 non-null   float64\n",
            " 13  Avg Power          7 non-null      float64\n",
            " 14  Total Strokes      11 non-null     float64\n",
            " 15  Avg. Swolf         11 non-null     float64\n",
            " 16  Avg Stroke Rate    11 non-null     float64\n",
            " 17  Best Lap Time      3594 non-null   object \n",
            " 18  Number of Laps     2506 non-null   float64\n",
            "dtypes: float64(12), object(7)\n",
            "memory usage: 533.6+ KB\n"
          ],
          "name": "stdout"
        }
      ]
    },
    {
      "cell_type": "code",
      "metadata": {
        "id": "ZE_mVyr0Gv56",
        "outputId": "c68575df-94df-4433-8aeb-860393498128",
        "colab": {
          "base_uri": "https://localhost:8080/"
        }
      },
      "source": [
        "post_garmin3['Activity Type'].unique()"
      ],
      "execution_count": 104,
      "outputs": [
        {
          "output_type": "execute_result",
          "data": {
            "text/plain": [
              "array(['Running', 'Indoor Cycling', 'Gym & Fitness Equipment', 'Cycling',\n",
              "       'Pool Swimming', 'Strength Training', 'Treadmill Running', 'Other',\n",
              "       'Street Running'], dtype=object)"
            ]
          },
          "metadata": {
            "tags": []
          },
          "execution_count": 104
        }
      ]
    },
    {
      "cell_type": "code",
      "metadata": {
        "id": "n_dLT5v_GYMs",
        "outputId": "ef768e5c-272c-4c67-f2d1-e3b6a0eca16a",
        "colab": {
          "base_uri": "https://localhost:8080/"
        }
      },
      "source": [
        "len(post_garmin3[post_garmin3['Activity Type'] == 'Treadmill Running'])"
      ],
      "execution_count": 105,
      "outputs": [
        {
          "output_type": "execute_result",
          "data": {
            "text/plain": [
              "29"
            ]
          },
          "metadata": {
            "tags": []
          },
          "execution_count": 105
        }
      ]
    },
    {
      "cell_type": "code",
      "metadata": {
        "id": "ITP-rAvkLZMP"
      },
      "source": [
        "def convert_to_seconds(time):\n",
        "    split_time = ''.join(str(time)).split(':')\n",
        "    h = split_time[0]\n",
        "    m = split_time[1]\n",
        "    s = split_time[2]\n",
        "    converted = (((int(h) * 60) + int(m)) * 60) + float(s)\n",
        "    return converted"
      ],
      "execution_count": 106,
      "outputs": []
    },
    {
      "cell_type": "code",
      "metadata": {
        "id": "YHnaCS39LaSX"
      },
      "source": [
        "def from_seconds_to_time_object(seconds, days = False):\n",
        "    if days is True:\n",
        "        d = seconds / 86400\n",
        "        days_deci, da = math.modf(d)\n",
        "        day = int(da)\n",
        "        print('Day: ', day)\n",
        "        pre_hour = days_deci * 24\n",
        "        deci, int_1 = math.modf(pre_hour)\n",
        "    else:\n",
        "        h = seconds / 3600\n",
        "        deci, int_1 = math.modf(h)\n",
        "    hour = int(int_1)\n",
        "    pre_mins = deci * 60\n",
        "    deci2, int_2 = math.modf(pre_mins)\n",
        "    minutes = int(int_2)\n",
        "    pre_sec = deci2 * 60 \n",
        "    deci3, int_3 = math.modf(pre_sec)\n",
        "    seconds = int(int_3)\n",
        "    microsecond = int(deci3*1000000)\n",
        "    new_time = datetime.time(hour = hour, minute = minutes, second = seconds, microsecond = microsecond)\n",
        "    return new_time"
      ],
      "execution_count": 107,
      "outputs": []
    },
    {
      "cell_type": "code",
      "metadata": {
        "id": "vsa-DwznTL1G"
      },
      "source": [
        "def prep_time_converter(df, col, coloncount):\n",
        "    problem_time = []\n",
        "    for idx, t in enumerate(df[col]):\n",
        "        colon_count = 0\n",
        "        try:\n",
        "            if math.isnan(t):\n",
        "                continue\n",
        "        except:\n",
        "            name = df.iloc[idx].name\n",
        "            for char in t:\n",
        "                if char is ':':\n",
        "                    colon_count += 1\n",
        "            if colon_count is 1:\n",
        "                df.loc[name, col] = '00:' + t \n",
        "                t = '00:' + t\n",
        "                if '.' not in t:\n",
        "                    df.loc[name, col] = t + '.0'\n",
        "            elif colon_count is 0:\n",
        "                df.loc[name, col] = '00:00:' + t \n",
        "                t = '00:00:' + t\n",
        "                if '.' not in t:\n",
        "                    df.loc[name, col] = t + '.0'\n",
        "            elif colon_count > coloncount:\n",
        "                print(df.iloc[idx])\n",
        "            elif '.' not in t:\n",
        "                splitt = t.split(':')\n",
        "                hour_num = float(splitt[0])\n",
        "                if hour_num < 24:\n",
        "                    df.loc[name, col] = t + '.0'\n",
        "                else:\n",
        "                    problem_time.append(df.loc[name, col])\n",
        "                    continue\n",
        "            # print(name, df.loc[name,col])\n",
        "            sec = convert_to_seconds(df.loc[name, col])\n",
        "            new_time = from_seconds_to_time_object(sec)\n",
        "            df.loc[name, col] = new_time\n",
        "    # df[col] = pd.to_datetime(df[col],format=format).dt.time"
      ],
      "execution_count": 108,
      "outputs": []
    },
    {
      "cell_type": "code",
      "metadata": {
        "id": "53sRHJ3DZ7NP"
      },
      "source": [
        "post_garmin3.Date = pd.to_datetime(post_garmin3.Date)"
      ],
      "execution_count": 109,
      "outputs": []
    },
    {
      "cell_type": "code",
      "metadata": {
        "id": "tzGF4dAZ6RUn",
        "outputId": "5d2dedf2-22e6-4783-ce89-74ff3b118946",
        "colab": {
          "base_uri": "https://localhost:8080/"
        }
      },
      "source": [
        "post_garmin3['Activity Type'].unique()"
      ],
      "execution_count": 110,
      "outputs": [
        {
          "output_type": "execute_result",
          "data": {
            "text/plain": [
              "array(['Running', 'Indoor Cycling', 'Gym & Fitness Equipment', 'Cycling',\n",
              "       'Pool Swimming', 'Strength Training', 'Treadmill Running', 'Other',\n",
              "       'Street Running'], dtype=object)"
            ]
          },
          "metadata": {
            "tags": []
          },
          "execution_count": 110
        }
      ]
    },
    {
      "cell_type": "code",
      "metadata": {
        "id": "tfHLa29mJLB2"
      },
      "source": [
        "pre_garmin_edited3 = pd.read_csv(\"/content/drive/My Drive/edited_pre_garmin.csv\",index_col=0)"
      ],
      "execution_count": 111,
      "outputs": []
    },
    {
      "cell_type": "code",
      "metadata": {
        "id": "K5Q-7WHsN9GC"
      },
      "source": [
        "pre_garmin_edited3.Date = pd.to_datetime(pre_garmin_edited3.Date)"
      ],
      "execution_count": 112,
      "outputs": []
    },
    {
      "cell_type": "code",
      "metadata": {
        "id": "OE1Nn2jZIQVV"
      },
      "source": [
        "post_garmin3 = post_garmin3.sort_values(by='Date')\n",
        "post_garmin3 = post_garmin3.rename(columns= {'Date': 'Datetime'})\n",
        "post_garmin3['Date'] = [d.date() for d in post_garmin3['Datetime']]\n",
        "post_garmin3.Date = pd.to_datetime(post_garmin3.Date)\n",
        "prep_time_converter(post_garmin3, 'Time', 2)\n",
        "running_data = post_garmin3[post_garmin3['Activity Type'].str.contains('Running')]"
      ],
      "execution_count": 113,
      "outputs": []
    },
    {
      "cell_type": "code",
      "metadata": {
        "id": "72vZ3zGxPJ6u"
      },
      "source": [
        "running_data2 = running_data[['Activity Type','Datetime', 'Title', 'Distance', 'Time','Avg Pace', 'Calories', \n",
        "                             'Elev Gain','Elev Loss', 'Avg Stride Length', 'Best Lap Time', 'Best Pace',\n",
        "                             'Avg Run Cadence', 'Max Run Cadence', 'Number of Laps', 'Date']]"
      ],
      "execution_count": 114,
      "outputs": []
    },
    {
      "cell_type": "code",
      "metadata": {
        "id": "VwhlP1Mma42g",
        "outputId": "83474635-493a-4944-963b-238544494cda",
        "colab": {
          "base_uri": "https://localhost:8080/"
        }
      },
      "source": [
        "prep_time_converter(running_data2, 'Avg Pace', 2)\n",
        "prep_time_converter(running_data2, 'Best Pace', 2)\n",
        "prep_time_converter(running_data2, 'Best Lap Time', 2)"
      ],
      "execution_count": 115,
      "outputs": [
        {
          "output_type": "stream",
          "text": [
            "/usr/local/lib/python3.6/dist-packages/pandas/core/indexing.py:1765: SettingWithCopyWarning: \n",
            "A value is trying to be set on a copy of a slice from a DataFrame.\n",
            "Try using .loc[row_indexer,col_indexer] = value instead\n",
            "\n",
            "See the caveats in the documentation: https://pandas.pydata.org/pandas-docs/stable/user_guide/indexing.html#returning-a-view-versus-a-copy\n",
            "  isetter(loc, value)\n"
          ],
          "name": "stderr"
        }
      ]
    },
    {
      "cell_type": "code",
      "metadata": {
        "id": "8brFhoOFSgPJ",
        "outputId": "7e5194e9-da12-47ee-960f-962b47c67729",
        "colab": {
          "base_uri": "https://localhost:8080/"
        }
      },
      "source": [
        "print(running_data2.loc[:, 'Date'])\n",
        "pre_garmin_edited3.loc[:, 'Date']"
      ],
      "execution_count": 116,
      "outputs": [
        {
          "output_type": "stream",
          "text": [
            "3593   2013-12-30\n",
            "3592   2013-12-31\n",
            "3591   2014-01-02\n",
            "3590   2014-01-03\n",
            "3589   2014-01-04\n",
            "          ...    \n",
            "6      2020-07-10\n",
            "5      2020-07-11\n",
            "4      2020-07-12\n",
            "1      2020-07-13\n",
            "0      2020-07-14\n",
            "Name: Date, Length: 2074, dtype: datetime64[ns]\n"
          ],
          "name": "stdout"
        },
        {
          "output_type": "execute_result",
          "data": {
            "text/plain": [
              "0      2010-05-29\n",
              "1      2010-06-21\n",
              "2      2010-06-22\n",
              "3      2010-06-23\n",
              "4      2010-06-24\n",
              "          ...    \n",
              "1978   2015-12-20\n",
              "1980   2015-12-21\n",
              "1981   2015-12-22\n",
              "1982   2015-12-25\n",
              "1983   2015-12-31\n",
              "Name: Date, Length: 1673, dtype: datetime64[ns]"
            ]
          },
          "metadata": {
            "tags": []
          },
          "execution_count": 116
        }
      ]
    },
    {
      "cell_type": "code",
      "metadata": {
        "id": "g3-l8GRpRxHx"
      },
      "source": [
        "running_merged = running_data2.merge(pre_garmin_edited3, how='outer',left_on='Date', right_on='Date')\n",
        "running_merged = running_merged.sort_values(by='Date')"
      ],
      "execution_count": 249,
      "outputs": []
    },
    {
      "cell_type": "code",
      "metadata": {
        "id": "WNN1msZcVVQs",
        "outputId": "679f03ae-63b1-40e4-f3cf-ea98a062d484",
        "colab": {
          "base_uri": "https://localhost:8080/",
          "height": 797
        }
      },
      "source": [
        "post_garmin_rm = running_merged.loc[running_merged.Date >= '2013-12-30']\n",
        "intersection = post_garmin_rm[post_garmin_rm.Date <= '2015-12-31']\n",
        "intersection"
      ],
      "execution_count": 250,
      "outputs": [
        {
          "output_type": "execute_result",
          "data": {
            "text/html": [
              "<div>\n",
              "<style scoped>\n",
              "    .dataframe tbody tr th:only-of-type {\n",
              "        vertical-align: middle;\n",
              "    }\n",
              "\n",
              "    .dataframe tbody tr th {\n",
              "        vertical-align: top;\n",
              "    }\n",
              "\n",
              "    .dataframe thead th {\n",
              "        text-align: right;\n",
              "    }\n",
              "</style>\n",
              "<table border=\"1\" class=\"dataframe\">\n",
              "  <thead>\n",
              "    <tr style=\"text-align: right;\">\n",
              "      <th></th>\n",
              "      <th>Activity Type</th>\n",
              "      <th>Datetime</th>\n",
              "      <th>Title</th>\n",
              "      <th>Distance</th>\n",
              "      <th>Time_x</th>\n",
              "      <th>Avg Pace</th>\n",
              "      <th>Calories</th>\n",
              "      <th>Elev Gain</th>\n",
              "      <th>Elev Loss</th>\n",
              "      <th>Avg Stride Length</th>\n",
              "      <th>Best Lap Time</th>\n",
              "      <th>Best Pace</th>\n",
              "      <th>Avg Run Cadence</th>\n",
              "      <th>Max Run Cadence</th>\n",
              "      <th>Number of Laps</th>\n",
              "      <th>Date</th>\n",
              "      <th>Weekday</th>\n",
              "      <th>Mileage</th>\n",
              "      <th>Time_y</th>\n",
              "      <th>Workout_type</th>\n",
              "      <th>Workout_mins</th>\n",
              "      <th>Swimming_meters</th>\n",
              "      <th>Bike_Mileage</th>\n",
              "      <th>raw_note</th>\n",
              "    </tr>\n",
              "  </thead>\n",
              "  <tbody>\n",
              "    <tr>\n",
              "      <th>0</th>\n",
              "      <td>Running</td>\n",
              "      <td>2013-12-30 07:17:00</td>\n",
              "      <td>Untitled</td>\n",
              "      <td>9.10</td>\n",
              "      <td>01:06:37.999999</td>\n",
              "      <td>00:07:18.999999</td>\n",
              "      <td>1130.0</td>\n",
              "      <td>520.0</td>\n",
              "      <td>513.0</td>\n",
              "      <td>0.0</td>\n",
              "      <td>00:00:00</td>\n",
              "      <td>00:04:15</td>\n",
              "      <td>NaN</td>\n",
              "      <td>NaN</td>\n",
              "      <td>NaN</td>\n",
              "      <td>2013-12-30</td>\n",
              "      <td>Monday</td>\n",
              "      <td>9.0</td>\n",
              "      <td>NaN</td>\n",
              "      <td>NaN</td>\n",
              "      <td>NaN</td>\n",
              "      <td>NaN</td>\n",
              "      <td>NaN</td>\n",
              "      <td>Monday _ 12/30/13 _ 9 miles _ 7:19 pace</td>\n",
              "    </tr>\n",
              "    <tr>\n",
              "      <th>1</th>\n",
              "      <td>Running</td>\n",
              "      <td>2013-12-31 08:20:00</td>\n",
              "      <td>Untitled</td>\n",
              "      <td>8.01</td>\n",
              "      <td>00:57:45.999999</td>\n",
              "      <td>00:07:13</td>\n",
              "      <td>998.0</td>\n",
              "      <td>365.0</td>\n",
              "      <td>372.0</td>\n",
              "      <td>0.0</td>\n",
              "      <td>00:00:00</td>\n",
              "      <td>00:00:53</td>\n",
              "      <td>NaN</td>\n",
              "      <td>NaN</td>\n",
              "      <td>NaN</td>\n",
              "      <td>2013-12-31</td>\n",
              "      <td>Tuesday</td>\n",
              "      <td>8.0</td>\n",
              "      <td>NaN</td>\n",
              "      <td>NaN</td>\n",
              "      <td>NaN</td>\n",
              "      <td>NaN</td>\n",
              "      <td>NaN</td>\n",
              "      <td>Tuesday _ 8 miles _ 7:19 pace</td>\n",
              "    </tr>\n",
              "    <tr>\n",
              "      <th>3114</th>\n",
              "      <td>NaN</td>\n",
              "      <td>NaT</td>\n",
              "      <td>NaN</td>\n",
              "      <td>NaN</td>\n",
              "      <td>NaN</td>\n",
              "      <td>NaN</td>\n",
              "      <td>NaN</td>\n",
              "      <td>NaN</td>\n",
              "      <td>NaN</td>\n",
              "      <td>NaN</td>\n",
              "      <td>NaN</td>\n",
              "      <td>NaN</td>\n",
              "      <td>NaN</td>\n",
              "      <td>NaN</td>\n",
              "      <td>NaN</td>\n",
              "      <td>2014-01-01</td>\n",
              "      <td>Wednesday</td>\n",
              "      <td>0.0</td>\n",
              "      <td>NaN</td>\n",
              "      <td>NaN</td>\n",
              "      <td>NaN</td>\n",
              "      <td>NaN</td>\n",
              "      <td>NaN</td>\n",
              "      <td>Wednesday _ 1/1/14 _ sick _ none</td>\n",
              "    </tr>\n",
              "    <tr>\n",
              "      <th>2</th>\n",
              "      <td>Running</td>\n",
              "      <td>2014-01-02 08:06:00</td>\n",
              "      <td>Untitled</td>\n",
              "      <td>8.13</td>\n",
              "      <td>01:00:28</td>\n",
              "      <td>00:07:26</td>\n",
              "      <td>1009.0</td>\n",
              "      <td>508.0</td>\n",
              "      <td>530.0</td>\n",
              "      <td>0.0</td>\n",
              "      <td>00:00:00</td>\n",
              "      <td>00:04:57</td>\n",
              "      <td>NaN</td>\n",
              "      <td>NaN</td>\n",
              "      <td>NaN</td>\n",
              "      <td>2014-01-02</td>\n",
              "      <td>Thursday</td>\n",
              "      <td>8.0</td>\n",
              "      <td>NaN</td>\n",
              "      <td>NaN</td>\n",
              "      <td>NaN</td>\n",
              "      <td>NaN</td>\n",
              "      <td>NaN</td>\n",
              "      <td>Thursday _ 8 miles _ 7:26 pace</td>\n",
              "    </tr>\n",
              "    <tr>\n",
              "      <th>3</th>\n",
              "      <td>Running</td>\n",
              "      <td>2014-01-03 10:03:00</td>\n",
              "      <td>Untitled</td>\n",
              "      <td>8.71</td>\n",
              "      <td>01:01:28</td>\n",
              "      <td>00:07:03.999999</td>\n",
              "      <td>1085.0</td>\n",
              "      <td>479.0</td>\n",
              "      <td>483.0</td>\n",
              "      <td>0.0</td>\n",
              "      <td>00:00:00</td>\n",
              "      <td>00:01:19</td>\n",
              "      <td>NaN</td>\n",
              "      <td>NaN</td>\n",
              "      <td>NaN</td>\n",
              "      <td>2014-01-03</td>\n",
              "      <td>Friday</td>\n",
              "      <td>9.0</td>\n",
              "      <td>NaN</td>\n",
              "      <td>NaN</td>\n",
              "      <td>NaN</td>\n",
              "      <td>NaN</td>\n",
              "      <td>NaN</td>\n",
              "      <td>Friday _ 9 miles _ 7:03 pace</td>\n",
              "    </tr>\n",
              "    <tr>\n",
              "      <th>...</th>\n",
              "      <td>...</td>\n",
              "      <td>...</td>\n",
              "      <td>...</td>\n",
              "      <td>...</td>\n",
              "      <td>...</td>\n",
              "      <td>...</td>\n",
              "      <td>...</td>\n",
              "      <td>...</td>\n",
              "      <td>...</td>\n",
              "      <td>...</td>\n",
              "      <td>...</td>\n",
              "      <td>...</td>\n",
              "      <td>...</td>\n",
              "      <td>...</td>\n",
              "      <td>...</td>\n",
              "      <td>...</td>\n",
              "      <td>...</td>\n",
              "      <td>...</td>\n",
              "      <td>...</td>\n",
              "      <td>...</td>\n",
              "      <td>...</td>\n",
              "      <td>...</td>\n",
              "      <td>...</td>\n",
              "      <td>...</td>\n",
              "    </tr>\n",
              "    <tr>\n",
              "      <th>515</th>\n",
              "      <td>Running</td>\n",
              "      <td>2015-12-20 05:49:00</td>\n",
              "      <td>Wilmington Running</td>\n",
              "      <td>10.21</td>\n",
              "      <td>01:38:28</td>\n",
              "      <td>00:09:39</td>\n",
              "      <td>1283.0</td>\n",
              "      <td>82.0</td>\n",
              "      <td>85.0</td>\n",
              "      <td>0.0</td>\n",
              "      <td>00:00:00</td>\n",
              "      <td>00:06:04.999999</td>\n",
              "      <td>NaN</td>\n",
              "      <td>NaN</td>\n",
              "      <td>NaN</td>\n",
              "      <td>2015-12-20</td>\n",
              "      <td>Sunday</td>\n",
              "      <td>10.0</td>\n",
              "      <td>NaN</td>\n",
              "      <td>NaN</td>\n",
              "      <td>NaN</td>\n",
              "      <td>NaN</td>\n",
              "      <td>NaN</td>\n",
              "      <td>Sunday - 10 miles</td>\n",
              "    </tr>\n",
              "    <tr>\n",
              "      <th>3233</th>\n",
              "      <td>NaN</td>\n",
              "      <td>NaT</td>\n",
              "      <td>NaN</td>\n",
              "      <td>NaN</td>\n",
              "      <td>NaN</td>\n",
              "      <td>NaN</td>\n",
              "      <td>NaN</td>\n",
              "      <td>NaN</td>\n",
              "      <td>NaN</td>\n",
              "      <td>NaN</td>\n",
              "      <td>NaN</td>\n",
              "      <td>NaN</td>\n",
              "      <td>NaN</td>\n",
              "      <td>NaN</td>\n",
              "      <td>NaN</td>\n",
              "      <td>2015-12-21</td>\n",
              "      <td>Monday</td>\n",
              "      <td>0.0</td>\n",
              "      <td>NaN</td>\n",
              "      <td>NaN</td>\n",
              "      <td>NaN</td>\n",
              "      <td>NaN</td>\n",
              "      <td>NaN</td>\n",
              "      <td>Monday - 12/21/15 - off</td>\n",
              "    </tr>\n",
              "    <tr>\n",
              "      <th>3234</th>\n",
              "      <td>NaN</td>\n",
              "      <td>NaT</td>\n",
              "      <td>NaN</td>\n",
              "      <td>NaN</td>\n",
              "      <td>NaN</td>\n",
              "      <td>NaN</td>\n",
              "      <td>NaN</td>\n",
              "      <td>NaN</td>\n",
              "      <td>NaN</td>\n",
              "      <td>NaN</td>\n",
              "      <td>NaN</td>\n",
              "      <td>NaN</td>\n",
              "      <td>NaN</td>\n",
              "      <td>NaN</td>\n",
              "      <td>NaN</td>\n",
              "      <td>2015-12-22</td>\n",
              "      <td>Tuesday</td>\n",
              "      <td>0.0</td>\n",
              "      <td>NaN</td>\n",
              "      <td>NaN</td>\n",
              "      <td>NaN</td>\n",
              "      <td>NaN</td>\n",
              "      <td>NaN</td>\n",
              "      <td>Tuesday - I've failed. Not going to be able to...</td>\n",
              "    </tr>\n",
              "    <tr>\n",
              "      <th>3235</th>\n",
              "      <td>NaN</td>\n",
              "      <td>NaT</td>\n",
              "      <td>NaN</td>\n",
              "      <td>NaN</td>\n",
              "      <td>NaN</td>\n",
              "      <td>NaN</td>\n",
              "      <td>NaN</td>\n",
              "      <td>NaN</td>\n",
              "      <td>NaN</td>\n",
              "      <td>NaN</td>\n",
              "      <td>NaN</td>\n",
              "      <td>NaN</td>\n",
              "      <td>NaN</td>\n",
              "      <td>NaN</td>\n",
              "      <td>NaN</td>\n",
              "      <td>2015-12-25</td>\n",
              "      <td>Friday</td>\n",
              "      <td>3.0</td>\n",
              "      <td>NaN</td>\n",
              "      <td>NaN</td>\n",
              "      <td>NaN</td>\n",
              "      <td>NaN</td>\n",
              "      <td>NaN</td>\n",
              "      <td>Thursday - 12/25/15 - 3 miles</td>\n",
              "    </tr>\n",
              "    <tr>\n",
              "      <th>3236</th>\n",
              "      <td>NaN</td>\n",
              "      <td>NaT</td>\n",
              "      <td>NaN</td>\n",
              "      <td>NaN</td>\n",
              "      <td>NaN</td>\n",
              "      <td>NaN</td>\n",
              "      <td>NaN</td>\n",
              "      <td>NaN</td>\n",
              "      <td>NaN</td>\n",
              "      <td>NaN</td>\n",
              "      <td>NaN</td>\n",
              "      <td>NaN</td>\n",
              "      <td>NaN</td>\n",
              "      <td>NaN</td>\n",
              "      <td>NaN</td>\n",
              "      <td>2015-12-31</td>\n",
              "      <td>Thursday</td>\n",
              "      <td>0.0</td>\n",
              "      <td>NaN</td>\n",
              "      <td>NaN</td>\n",
              "      <td>NaN</td>\n",
              "      <td>NaN</td>\n",
              "      <td>9.5</td>\n",
              "      <td>Thursday - 12/31/15 - 30 minutes biking - 9.5 ...</td>\n",
              "    </tr>\n",
              "  </tbody>\n",
              "</table>\n",
              "<p>639 rows × 24 columns</p>\n",
              "</div>"
            ],
            "text/plain": [
              "     Activity Type  ...                                           raw_note\n",
              "0          Running  ...           Monday _ 12/30/13 _ 9 miles _ 7:19 pace \n",
              "1          Running  ...                      Tuesday _ 8 miles _ 7:19 pace\n",
              "3114           NaN  ...                   Wednesday _ 1/1/14 _ sick _ none\n",
              "2          Running  ...                     Thursday _ 8 miles _ 7:26 pace\n",
              "3          Running  ...                       Friday _ 9 miles _ 7:03 pace\n",
              "...            ...  ...                                                ...\n",
              "515        Running  ...                                  Sunday - 10 miles\n",
              "3233           NaN  ...                            Monday - 12/21/15 - off\n",
              "3234           NaN  ...  Tuesday - I've failed. Not going to be able to...\n",
              "3235           NaN  ...                      Thursday - 12/25/15 - 3 miles\n",
              "3236           NaN  ...  Thursday - 12/31/15 - 30 minutes biking - 9.5 ...\n",
              "\n",
              "[639 rows x 24 columns]"
            ]
          },
          "metadata": {
            "tags": []
          },
          "execution_count": 250
        }
      ]
    },
    {
      "cell_type": "code",
      "metadata": {
        "id": "GfJEl6BtUwjM",
        "outputId": "034cc4a6-d7d0-499b-92c4-d0a5d7f297c9",
        "colab": {
          "base_uri": "https://localhost:8080/"
        }
      },
      "source": [
        "perfect_match = []\n",
        "match = []\n",
        "nan_fixed = []\n",
        "problem = []\n",
        "for idx, m in enumerate(intersection.Mileage):\n",
        "    diff = m - intersection.Distance.iloc[idx]\n",
        "    if m == intersection.Distance.iloc[idx]:\n",
        "        perfect_match.append(idx)\n",
        "    elif (diff > -0.5) and (diff < 0.5):\n",
        "        match.append(idx)\n",
        "    elif math.isnan(intersection.Distance.iloc[idx]):\n",
        "        intersection.Distance.iloc[idx] = m\n",
        "        nan_fixed.append(idx)\n",
        "    else:\n",
        "        problem.append(idx)\n",
        "print('perfect!!!', len(perfect_match), 'good', len(match), 'nan_fixed', len(nan_fixed), 'check', len(problem))\n",
        "    "
      ],
      "execution_count": 251,
      "outputs": [
        {
          "output_type": "stream",
          "text": [
            "perfect!!! 27 good 374 nan_fixed 123 check 115\n"
          ],
          "name": "stdout"
        },
        {
          "output_type": "stream",
          "text": [
            "/usr/local/lib/python3.6/dist-packages/pandas/core/indexing.py:670: SettingWithCopyWarning: \n",
            "A value is trying to be set on a copy of a slice from a DataFrame\n",
            "\n",
            "See the caveats in the documentation: https://pandas.pydata.org/pandas-docs/stable/user_guide/indexing.html#returning-a-view-versus-a-copy\n",
            "  iloc._setitem_with_indexer(indexer, value)\n",
            "/usr/local/lib/python3.6/dist-packages/ipykernel_launcher.py:12: SettingWithCopyWarning: \n",
            "A value is trying to be set on a copy of a slice from a DataFrame\n",
            "\n",
            "See the caveats in the documentation: https://pandas.pydata.org/pandas-docs/stable/user_guide/indexing.html#returning-a-view-versus-a-copy\n",
            "  if sys.path[0] == '':\n"
          ],
          "name": "stderr"
        }
      ]
    },
    {
      "cell_type": "code",
      "metadata": {
        "id": "Ij5HnneFThh3"
      },
      "source": [
        "def multiplying_times(time, factor):\n",
        "    as_seconds = convert_to_seconds(time)\n",
        "    time_prod = as_seconds * factor\n",
        "    new_time = from_seconds_to_time_object(time_prod)\n",
        "    return new_time"
      ],
      "execution_count": 252,
      "outputs": []
    },
    {
      "cell_type": "code",
      "metadata": {
        "id": "SgYiyOiCTbFM"
      },
      "source": [
        "def adding_times(time1, time2):\n",
        "    as_seconds_1 = convert_to_seconds(time1)\n",
        "    as_seconds_2 = convert_to_seconds(time2)\n",
        "    time_sum = as_seconds_1 + as_seconds_2\n",
        "    new_time = from_seconds_to_time_object(time_sum)\n",
        "    return new_time"
      ],
      "execution_count": 253,
      "outputs": []
    },
    {
      "cell_type": "code",
      "metadata": {
        "id": "JkcBjyb3ew-X"
      },
      "source": [
        "# there will need to be a for loop here that goes through all of the changes to distance\n",
        "# and time based upon runs where my watch died and converts the time using the above multiplying \n",
        "# and adding functions to get the cumulative time"
      ],
      "execution_count": 254,
      "outputs": []
    },
    {
      "cell_type": "code",
      "metadata": {
        "id": "AKd_wXx7spxc"
      },
      "source": [
        "def add_a_mile(df, dist, index):\n",
        "    df.loc[index,'Distance'] += dist\n",
        "    to_be_added = multiplying_times(df.loc[index,'Avg Pace'], dist)\n",
        "    df.loc[index,'Time_x'] = adding_times(df.loc[index,'Time_x'], to_be_added)\n",
        "    df.loc[index, 'Calories'] += 129*dist"
      ],
      "execution_count": 255,
      "outputs": []
    },
    {
      "cell_type": "code",
      "metadata": {
        "id": "D92IpViB8Vxz"
      },
      "source": [
        "# ones that just don't make any sense\n",
        "# 59 which is 4-2-2014"
      ],
      "execution_count": 124,
      "outputs": []
    },
    {
      "cell_type": "code",
      "metadata": {
        "id": "-E_IBKc9dMgb"
      },
      "source": [
        "# order: [index, Distance, Time_x, Avg Pace, Calories, ]\n",
        "all_manual_entry = [[intersection.iloc[301].name, 6.6, datetime.time(hour=0, minute=52, second=15), datetime.time(hour=0, minute=7, second=55), 129*6.6],\n",
        "                    [intersection.iloc[606].name, 13, datetime.time(hour=2, minute=10, second=00), datetime.time(hour=0, minute=10, second=00), 129*13],\n",
        "                    [intersection.iloc[618].name, 8, datetime.time(hour=1, minute=9, second=4), datetime.time(hour=0, minute=8, second=38), 129*13],\n",
        "                    [995,14,datetime.time(hour=1, minute=45, second=0), datetime.time(hour=0, minute=7, second=30), 129*14]]"
      ],
      "execution_count": 125,
      "outputs": []
    },
    {
      "cell_type": "code",
      "metadata": {
        "id": "m-D1qglxuUTp"
      },
      "source": [
        "for changes in all_manual_entry:\n",
        "    running_merged.loc[changes[0], 'Distance'] = changes[1]\n",
        "    running_merged.loc[changes[0], 'Time_x'] = changes[2]\n",
        "    running_merged.loc[changes[0], 'Avg Pace'] = changes[3]\n",
        "    running_merged.loc[changes[0], 'Calories'] = changes[4]"
      ],
      "execution_count": 126,
      "outputs": []
    },
    {
      "cell_type": "code",
      "metadata": {
        "id": "esd2_u3_IwWI"
      },
      "source": [
        ""
      ],
      "execution_count": null,
      "outputs": []
    },
    {
      "cell_type": "code",
      "metadata": {
        "id": "qdvLsUUDwmbT"
      },
      "source": [
        "# list with the [dist, index] the distance that needs to be added and the index location of where the change needs to take place\n",
        "changes_to_dist_cal_time = [[18,24],[1,38],[1,39],[12.5-9.85,54],[14-11.94,60],[21-18.41,63],[1,73],[1.3,92],\n",
        "                            [5-2.66,96],[7-5.13,122],[1,133],[1,139],[1,143],[1,147],[1,153],[1,157],[1,161],\n",
        "                            [1,166],[1,167],[7-2.15,168],[1,169],[1,172],[1,175],[1,179],[1,185],[1,191],\n",
        "                            [2,196],[17-11.27,202],[10.5-2.77,226],[1,232],[14-11.08,237],[2,244],[15,249],\n",
        "                            [12.7-6.22,261],[4-2.84,272],[1,298],[7-1.67,300],[1,307],[9-.68,323],\n",
        "                            [8-3.69,329],[14.5-.74,340],[9-1.33,345],[11-8.21,354],[11-2.69,362],[18-14.63,369],\n",
        "                            [13-11.17,371],[14-10.25,376],[16-9.95,379],[1,388],[1,389],[1,394],[1.96,414],\n",
        "                            [2.03,418],[8-6.7,445],[11-2.98,451],[8-4.96,456],[7-6.1,462],[4-2.02,473],\n",
        "                            [6-3.02,489],[12-6.07,499],[8-2.9,505],[8-.84,511],[8.5-7.25,522],[13-10.42,527],\n",
        "                            [8-6.66,538],[9-6.3,542],[14-5.73,555],[8-2.02,562],[8-5.07,583],[10-8.53,584],\n",
        "                            [13-2.23,591],[8.5-1.33,596],[1,620],[6-4.9,623]]\n"
      ],
      "execution_count": 127,
      "outputs": []
    },
    {
      "cell_type": "code",
      "metadata": {
        "id": "jKhL8a9jQm8l"
      },
      "source": [
        "for idx, cha in enumerate(changes_to_dist_cal_time):\n",
        "    nam = intersection.iloc[cha[1]].name\n",
        "    changes_to_dist_cal_time[idx][1] = nam"
      ],
      "execution_count": 128,
      "outputs": []
    },
    {
      "cell_type": "code",
      "metadata": {
        "id": "5Mq4JZSptuvJ"
      },
      "source": [
        "for change in changes_to_dist_cal_time:\n",
        "    add_a_mile(running_merged,change[0],change[1])"
      ],
      "execution_count": 129,
      "outputs": []
    },
    {
      "cell_type": "code",
      "metadata": {
        "id": "yuKsME8CkSsp"
      },
      "source": [
        "# for p in problem:\n",
        "#     print(p, intersection.Distance.iloc[p], intersection.Mileage.iloc[p])"
      ],
      "execution_count": 130,
      "outputs": []
    },
    {
      "cell_type": "code",
      "metadata": {
        "id": "Ty2CgAuqZtEQ"
      },
      "source": [
        "#impute NaN's from merged columns for date, Distance, Time\n",
        "#impute calories from mileage"
      ],
      "execution_count": 131,
      "outputs": []
    },
    {
      "cell_type": "code",
      "metadata": {
        "id": "I0Vxl2bJXCjO"
      },
      "source": [
        "running_merged2 = running_merged[running_merged.Date.notnull()]"
      ],
      "execution_count": 132,
      "outputs": []
    },
    {
      "cell_type": "code",
      "metadata": {
        "id": "SO32XbIoawZC",
        "outputId": "4681c63e-c55d-4c0e-b6cd-ee69b8431fca",
        "colab": {
          "base_uri": "https://localhost:8080/"
        }
      },
      "source": [
        "def imputing_nans_fx(df, col, col2):\n",
        "    for idx, row in enumerate(df[col]):\n",
        "        try:\n",
        "            if pd.isnull(df[col].iloc[idx]): #math.isnan(row) or \n",
        "                name = df.iloc[idx].name\n",
        "                df.loc[name, col] = df.loc[name, col2]\n",
        "        except:\n",
        "            continue\n",
        "imputing_nans_fx(running_merged2, 'Distance', 'Mileage')\n",
        "imputing_nans_fx(running_merged2, 'Datetime', 'Date')\n",
        "prep_time_converter(running_merged2, 'Time_y', 2)\n",
        "imputing_nans_fx(running_merged2, 'Time_x', 'Time_y')"
      ],
      "execution_count": 133,
      "outputs": [
        {
          "output_type": "stream",
          "text": [
            "/usr/local/lib/python3.6/dist-packages/pandas/core/indexing.py:1765: SettingWithCopyWarning: \n",
            "A value is trying to be set on a copy of a slice from a DataFrame.\n",
            "Try using .loc[row_indexer,col_indexer] = value instead\n",
            "\n",
            "See the caveats in the documentation: https://pandas.pydata.org/pandas-docs/stable/user_guide/indexing.html#returning-a-view-versus-a-copy\n",
            "  isetter(loc, value)\n"
          ],
          "name": "stderr"
        }
      ]
    },
    {
      "cell_type": "code",
      "metadata": {
        "id": "W9OhzA-1fOUT",
        "outputId": "f4abd374-2b69-48fa-e391-93f8b29b1272",
        "colab": {
          "base_uri": "https://localhost:8080/"
        }
      },
      "source": [
        "def imputing_Cal_nans_fx(df, col, col2):\n",
        "    for idx, row in enumerate(df[col]):\n",
        "        try:\n",
        "            if math.isnan(row):\n",
        "                name = df.iloc[idx].name\n",
        "                df.loc[name, col] = df.loc[name, col2] * 129\n",
        "        except:\n",
        "            continue\n",
        "imputing_Cal_nans_fx(running_merged2, 'Calories', 'Distance')"
      ],
      "execution_count": 134,
      "outputs": [
        {
          "output_type": "stream",
          "text": [
            "/usr/local/lib/python3.6/dist-packages/pandas/core/indexing.py:1765: SettingWithCopyWarning: \n",
            "A value is trying to be set on a copy of a slice from a DataFrame.\n",
            "Try using .loc[row_indexer,col_indexer] = value instead\n",
            "\n",
            "See the caveats in the documentation: https://pandas.pydata.org/pandas-docs/stable/user_guide/indexing.html#returning-a-view-versus-a-copy\n",
            "  isetter(loc, value)\n"
          ],
          "name": "stderr"
        }
      ]
    },
    {
      "cell_type": "code",
      "metadata": {
        "id": "siabzhLdnRxG",
        "outputId": "0af56f31-bb71-40a8-97b8-083791841f27",
        "colab": {
          "base_uri": "https://localhost:8080/"
        }
      },
      "source": [
        "def imputing_pace_nans_fx(df, col, col2, col3):\n",
        "    for idx, row in enumerate(df[col]):\n",
        "        try:\n",
        "            if pd.isnull(row):\n",
        "                name = df.iloc[idx].name\n",
        "                if pd.isnull(df.loc[name,col2]):\n",
        "                    continue\n",
        "                else:\n",
        "                    t = convert_to_seconds(df.loc[name,col2])\n",
        "                    pace_sec = t / df.loc[name, col3]\n",
        "                    new_pace = from_seconds_to_time_object(pace_sec)\n",
        "                    df.loc[name, col] = new_pace\n",
        "        except:\n",
        "            continue\n",
        "imputing_pace_nans_fx(running_merged2, 'Avg Pace', 'Time_x', 'Distance')"
      ],
      "execution_count": 135,
      "outputs": [
        {
          "output_type": "stream",
          "text": [
            "/usr/local/lib/python3.6/dist-packages/pandas/core/indexing.py:1765: SettingWithCopyWarning: \n",
            "A value is trying to be set on a copy of a slice from a DataFrame.\n",
            "Try using .loc[row_indexer,col_indexer] = value instead\n",
            "\n",
            "See the caveats in the documentation: https://pandas.pydata.org/pandas-docs/stable/user_guide/indexing.html#returning-a-view-versus-a-copy\n",
            "  isetter(loc, value)\n"
          ],
          "name": "stderr"
        }
      ]
    },
    {
      "cell_type": "code",
      "metadata": {
        "id": "SN1-15xxlUIy",
        "outputId": "bb1b88b7-484f-41ca-d2d9-994bf6947ea0",
        "colab": {
          "base_uri": "https://localhost:8080/"
        }
      },
      "source": [
        "running_merged2['Activity Type'] = running_merged2['Activity Type'].fillna('Running')"
      ],
      "execution_count": 136,
      "outputs": [
        {
          "output_type": "stream",
          "text": [
            "/usr/local/lib/python3.6/dist-packages/ipykernel_launcher.py:1: SettingWithCopyWarning: \n",
            "A value is trying to be set on a copy of a slice from a DataFrame.\n",
            "Try using .loc[row_indexer,col_indexer] = value instead\n",
            "\n",
            "See the caveats in the documentation: https://pandas.pydata.org/pandas-docs/stable/user_guide/indexing.html#returning-a-view-versus-a-copy\n",
            "  \"\"\"Entry point for launching an IPython kernel.\n"
          ],
          "name": "stderr"
        }
      ]
    },
    {
      "cell_type": "code",
      "metadata": {
        "id": "J-kaP0MUpfcA"
      },
      "source": [
        "running_merged3 = running_merged2[running_merged2.Distance != 0]"
      ],
      "execution_count": 137,
      "outputs": []
    },
    {
      "cell_type": "code",
      "metadata": {
        "id": "BJstX_oPjMLR",
        "outputId": "20733e5c-9b35-4913-efd7-bb39b3d84934",
        "colab": {
          "base_uri": "https://localhost:8080/"
        }
      },
      "source": [
        "#removing excess columns\n",
        "running_merged3.loc[:, 'Avg Stride Length'] = running_merged3.loc[:, 'Avg Stride Length'].replace(0,np.nan)\n",
        "running_merged4 = running_merged3[['Activity Type','Datetime', 'Distance', 'Title','Time_x','Avg Pace', \n",
        "                                   'Calories','Elev Gain', 'Elev Loss',\n",
        "                                   'Avg Stride Length', 'Best Lap Time','Best Pace',\n",
        "                                   'Avg Run Cadence','Max Run Cadence','Number of Laps',\n",
        "                                   'raw_note']]"
      ],
      "execution_count": 138,
      "outputs": [
        {
          "output_type": "stream",
          "text": [
            "/usr/local/lib/python3.6/dist-packages/pandas/core/indexing.py:1745: SettingWithCopyWarning: \n",
            "A value is trying to be set on a copy of a slice from a DataFrame.\n",
            "Try using .loc[row_indexer,col_indexer] = value instead\n",
            "\n",
            "See the caveats in the documentation: https://pandas.pydata.org/pandas-docs/stable/user_guide/indexing.html#returning-a-view-versus-a-copy\n",
            "  isetter(ilocs[0], value)\n"
          ],
          "name": "stderr"
        }
      ]
    },
    {
      "cell_type": "code",
      "metadata": {
        "id": "ulaQ-SAzeULv"
      },
      "source": [
        "# check for manual edits to runs and impute pace, time, calories - done\n",
        "# create the workout log, Swimming, Biking Log\n",
        "# function for imputing indoor biking miles / calories\n",
        "# visualizations\n",
        "# totals\n",
        "# app Creation"
      ],
      "execution_count": 139,
      "outputs": []
    },
    {
      "cell_type": "code",
      "metadata": {
        "id": "aVT273-CkW0i"
      },
      "source": [
        "def manual_edits_check_fx(df, dist_col, time_col, pace_col, cal_col):\n",
        "    manual_edit = []\n",
        "    for idx, row in enumerate(df[pace_col]):\n",
        "        \n",
        "        if pd.isnull(row):\n",
        "            continue\n",
        "        else:\n",
        "            name = df.iloc[idx].name\n",
        "            pace_sec = convert_to_seconds(df.loc[name, pace_col])\n",
        "            # print(pace_sec)\n",
        "            time_sec = convert_to_seconds(df.loc[name, time_col])\n",
        "            expected_sec = df.loc[name, dist_col] * pace_sec\n",
        "            diff = abs(time_sec - expected_sec)\n",
        "            # print(diff, time_sec, expected_sec)\n",
        "            if diff > 10:\n",
        "                manual_edit.append(name)\n",
        "    return manual_edit\n",
        "me = manual_edits_check_fx(running_merged4, 'Distance', 'Time_x', 'Avg Pace', 'Calories')\n",
        "# this was to check the pace and mileage and time to make sure they all match and make\n",
        "# sense. All of them did make sense so there was no need to adjust any times. "
      ],
      "execution_count": 140,
      "outputs": []
    },
    {
      "cell_type": "code",
      "metadata": {
        "id": "ChUm0i7PFACS"
      },
      "source": [
        "running_merged4 = running_merged4.rename(columns = {'Time_x': 'Time'})"
      ],
      "execution_count": 141,
      "outputs": []
    },
    {
      "cell_type": "code",
      "metadata": {
        "id": "ocZQqn4Zg0id"
      },
      "source": [
        "running_log = running_merged4.drop(630)\n",
        "running_log.to_csv(\"/content/drive/My Drive/edited_running_log.csv\")"
      ],
      "execution_count": 260,
      "outputs": []
    },
    {
      "cell_type": "markdown",
      "metadata": {
        "id": "fNnEj2oWdQE0"
      },
      "source": [
        "### Biking Log"
      ]
    },
    {
      "cell_type": "code",
      "metadata": {
        "id": "o-e8G5KkS0AC",
        "outputId": "a6eed2a0-6477-426f-a292-a3eefd73460e",
        "colab": {
          "base_uri": "https://localhost:8080/"
        }
      },
      "source": [
        "post_garmin3['Activity Type'].unique()"
      ],
      "execution_count": 143,
      "outputs": [
        {
          "output_type": "execute_result",
          "data": {
            "text/plain": [
              "array(['Running', 'Street Running', 'Cycling', 'Strength Training',\n",
              "       'Pool Swimming', 'Treadmill Running', 'Indoor Cycling',\n",
              "       'Gym & Fitness Equipment', 'Other'], dtype=object)"
            ]
          },
          "metadata": {
            "tags": []
          },
          "execution_count": 143
        }
      ]
    },
    {
      "cell_type": "code",
      "metadata": {
        "id": "CLd8cEp_dx42",
        "outputId": "a9813e98-7c93-48f3-9f9f-7ac5817b7b3d",
        "colab": {
          "base_uri": "https://localhost:8080/"
        }
      },
      "source": [
        "post_garmin_bike = post_garmin3[post_garmin3['Activity Type'].str.contains('Cycling')]\n",
        "post_garmin_bike = post_garmin_bike.drop(['Total Strokes','Avg. Swolf','Avg Stroke Rate'],axis=1)\n",
        "pre_garmin_bike = pre_garmin_edited3[pre_garmin_edited3.Bike_Mileage.notnull()]\n",
        "pre_garmin_bike.info()"
      ],
      "execution_count": 144,
      "outputs": [
        {
          "output_type": "stream",
          "text": [
            "<class 'pandas.core.frame.DataFrame'>\n",
            "Int64Index: 180 entries, 37 to 1983\n",
            "Data columns (total 9 columns):\n",
            " #   Column           Non-Null Count  Dtype         \n",
            "---  ------           --------------  -----         \n",
            " 0   Weekday          124 non-null    object        \n",
            " 1   Date             125 non-null    datetime64[ns]\n",
            " 2   Mileage          180 non-null    float64       \n",
            " 3   Time             1 non-null      object        \n",
            " 4   Workout_type     5 non-null      object        \n",
            " 5   Workout_mins     5 non-null      float64       \n",
            " 6   Swimming_meters  1 non-null      float64       \n",
            " 7   Bike_Mileage     180 non-null    float64       \n",
            " 8   raw_note         180 non-null    object        \n",
            "dtypes: datetime64[ns](1), float64(4), object(4)\n",
            "memory usage: 14.1+ KB\n"
          ],
          "name": "stdout"
        }
      ]
    },
    {
      "cell_type": "code",
      "metadata": {
        "id": "cDR1xRnSklzM"
      },
      "source": [
        "def previous_row(loc, amount):\n",
        "    pre = loc-amount\n",
        "    try:\n",
        "        pre_garmin_bike.loc[loc,'Date'] = pre_garmin_edited3.loc[pre,'Date']\n",
        "    except:\n",
        "        amount += 1\n",
        "        previous_row(loc, amount)\n"
      ],
      "execution_count": 145,
      "outputs": []
    },
    {
      "cell_type": "code",
      "metadata": {
        "id": "xr7ht4U-iFZh",
        "outputId": "917ce88d-fb2b-4a97-8a26-427e2b02f646",
        "colab": {
          "base_uri": "https://localhost:8080/"
        }
      },
      "source": [
        "no_date_index = list(pre_garmin_bike.index[pre_garmin_bike.Date.isnull()])\n",
        "for i in no_date_index:\n",
        "    # pre = i-amount\n",
        "    # pre_garmin_bike.loc[i,'Date'] = pre_garmin_edited3.loc[pre,'Date']\n",
        "    previous_row(i, 1)\n",
        "print(pre_garmin_bike.loc[1013,'Date'])\n",
        "pre_garmin_bike.loc[1098,'Date']\n"
      ],
      "execution_count": 146,
      "outputs": [
        {
          "output_type": "stream",
          "text": [
            "2013-07-21 00:00:00\n"
          ],
          "name": "stdout"
        },
        {
          "output_type": "stream",
          "text": [
            "/usr/local/lib/python3.6/dist-packages/pandas/core/indexing.py:1765: SettingWithCopyWarning: \n",
            "A value is trying to be set on a copy of a slice from a DataFrame.\n",
            "Try using .loc[row_indexer,col_indexer] = value instead\n",
            "\n",
            "See the caveats in the documentation: https://pandas.pydata.org/pandas-docs/stable/user_guide/indexing.html#returning-a-view-versus-a-copy\n",
            "  isetter(loc, value)\n"
          ],
          "name": "stderr"
        },
        {
          "output_type": "execute_result",
          "data": {
            "text/plain": [
              "Timestamp('2013-10-05 00:00:00')"
            ]
          },
          "metadata": {
            "tags": []
          },
          "execution_count": 146
        }
      ]
    },
    {
      "cell_type": "code",
      "metadata": {
        "id": "p5E2RgkTkKb4",
        "outputId": "7217c05c-ea47-4685-93bc-6e6f54617efc",
        "colab": {
          "base_uri": "https://localhost:8080/"
        }
      },
      "source": [
        "bike_merged = post_garmin_bike.merge(pre_garmin_bike, how='outer',left_on='Date', right_on='Date')\n",
        "bike_merged = bike_merged.sort_values(by='Date')\n",
        "bike_merged.info()"
      ],
      "execution_count": 147,
      "outputs": [
        {
          "output_type": "stream",
          "text": [
            "<class 'pandas.core.frame.DataFrame'>\n",
            "Int64Index: 1483 entries, 1303 to 1302\n",
            "Data columns (total 25 columns):\n",
            " #   Column             Non-Null Count  Dtype         \n",
            "---  ------             --------------  -----         \n",
            " 0   Activity Type      1303 non-null   object        \n",
            " 1   Datetime           1303 non-null   datetime64[ns]\n",
            " 2   Title              1303 non-null   object        \n",
            " 3   Distance           1303 non-null   float64       \n",
            " 4   Calories           1297 non-null   float64       \n",
            " 5   Time_x             1303 non-null   object        \n",
            " 6   Avg Run Cadence    3 non-null      float64       \n",
            " 7   Max Run Cadence    3 non-null      float64       \n",
            " 8   Avg Pace           1301 non-null   object        \n",
            " 9   Best Pace          1258 non-null   object        \n",
            " 10  Elev Gain          1195 non-null   float64       \n",
            " 11  Elev Loss          1095 non-null   float64       \n",
            " 12  Avg Stride Length  1303 non-null   float64       \n",
            " 13  Avg Power          7 non-null      float64       \n",
            " 14  Best Lap Time      1303 non-null   object        \n",
            " 15  Number of Laps     1149 non-null   float64       \n",
            " 16  Date               1483 non-null   datetime64[ns]\n",
            " 17  Weekday            124 non-null    object        \n",
            " 18  Mileage            180 non-null    float64       \n",
            " 19  Time_y             1 non-null      object        \n",
            " 20  Workout_type       5 non-null      object        \n",
            " 21  Workout_mins       5 non-null      float64       \n",
            " 22  Swimming_meters    1 non-null      float64       \n",
            " 23  Bike_Mileage       180 non-null    float64       \n",
            " 24  raw_note           180 non-null    object        \n",
            "dtypes: datetime64[ns](2), float64(13), object(10)\n",
            "memory usage: 301.2+ KB\n"
          ],
          "name": "stdout"
        }
      ]
    },
    {
      "cell_type": "code",
      "metadata": {
        "id": "u_ZElU2B2zgu"
      },
      "source": [
        "for idx, d in enumerate(bike_merged.Distance):\n",
        "    if pd.isnull(d):\n",
        "        name = bike_merged.iloc[idx].name\n",
        "        bike_merged.loc[name, 'Distance'] = bike_merged.loc[name, 'Bike_Mileage']\n",
        "        bike_merged.loc[name, 'Datetime'] = bike_merged.loc[name, 'Date']\n",
        "        bike_merged.loc[name, 'Activity Type'] = 'Cycling'\n"
      ],
      "execution_count": 148,
      "outputs": []
    },
    {
      "cell_type": "code",
      "metadata": {
        "id": "wetzEzvJ5OEw",
        "outputId": "845d007a-2d98-4efd-ae3f-aac345655a85",
        "colab": {
          "base_uri": "https://localhost:8080/"
        }
      },
      "source": [
        "bike_merged2 = bike_merged[['Activity Type','Datetime','Title','Distance','Calories','Time_x',\n",
        "                           'Avg Pace','Best Pace','Elev Gain','Elev Loss','Avg Power',\n",
        "                           'Best Lap Time','Number of Laps','raw_note']]\n",
        "bike_merged2.info()"
      ],
      "execution_count": 149,
      "outputs": [
        {
          "output_type": "stream",
          "text": [
            "<class 'pandas.core.frame.DataFrame'>\n",
            "Int64Index: 1483 entries, 1303 to 1302\n",
            "Data columns (total 14 columns):\n",
            " #   Column          Non-Null Count  Dtype         \n",
            "---  ------          --------------  -----         \n",
            " 0   Activity Type   1483 non-null   object        \n",
            " 1   Datetime        1483 non-null   datetime64[ns]\n",
            " 2   Title           1303 non-null   object        \n",
            " 3   Distance        1483 non-null   float64       \n",
            " 4   Calories        1297 non-null   float64       \n",
            " 5   Time_x          1303 non-null   object        \n",
            " 6   Avg Pace        1301 non-null   object        \n",
            " 7   Best Pace       1258 non-null   object        \n",
            " 8   Elev Gain       1195 non-null   float64       \n",
            " 9   Elev Loss       1095 non-null   float64       \n",
            " 10  Avg Power       7 non-null      float64       \n",
            " 11  Best Lap Time   1303 non-null   object        \n",
            " 12  Number of Laps  1149 non-null   float64       \n",
            " 13  raw_note        180 non-null    object        \n",
            "dtypes: datetime64[ns](1), float64(6), object(7)\n",
            "memory usage: 213.8+ KB\n"
          ],
          "name": "stdout"
        }
      ]
    },
    {
      "cell_type": "code",
      "metadata": {
        "id": "1-Qc7KHw6X9v"
      },
      "source": [
        "cal_calc = bike_merged2[bike_merged2.Calories.notnull()]\n",
        "cal_per_mi = cal_calc.Calories.sum() / cal_calc.Distance.sum()"
      ],
      "execution_count": 150,
      "outputs": []
    },
    {
      "cell_type": "code",
      "metadata": {
        "id": "yaMa80RX9wMQ",
        "outputId": "4a94b458-a97a-45ef-8a80-84cd2e09f65b",
        "colab": {
          "base_uri": "https://localhost:8080/"
        }
      },
      "source": [
        "for idx, c in enumerate(bike_merged2.Calories):\n",
        "    if pd.isnull(c):\n",
        "        name = bike_merged2.iloc[idx].name\n",
        "        cals = bike_merged2.loc[name, 'Distance'] * cal_per_mi\n",
        "        bike_merged2.loc[name, 'Calories'] = cals"
      ],
      "execution_count": 151,
      "outputs": [
        {
          "output_type": "stream",
          "text": [
            "/usr/local/lib/python3.6/dist-packages/pandas/core/indexing.py:1765: SettingWithCopyWarning: \n",
            "A value is trying to be set on a copy of a slice from a DataFrame.\n",
            "Try using .loc[row_indexer,col_indexer] = value instead\n",
            "\n",
            "See the caveats in the documentation: https://pandas.pydata.org/pandas-docs/stable/user_guide/indexing.html#returning-a-view-versus-a-copy\n",
            "  isetter(loc, value)\n"
          ],
          "name": "stderr"
        }
      ]
    },
    {
      "cell_type": "code",
      "metadata": {
        "id": "VGaivLtDBLrB",
        "outputId": "ad6cfcb2-02d0-4c4e-f4ce-f723e1884104",
        "colab": {
          "base_uri": "https://localhost:8080/"
        }
      },
      "source": [
        "# impute Indoor Cycling mileage, assume 4:30 pace\n",
        "def indoor_cycling_impute(df):\n",
        "    df_filt = df[df['Activity Type'] == 'Indoor Cycling']\n",
        "    for idx, d in enumerate(df_filt['Distance']):\n",
        "        if d == 0.0:\n",
        "            name = df_filt.iloc[idx].name\n",
        "            if pd.notnull(df_filt.loc[name,'Time_x']):          \n",
        "                df.loc[name, 'Distance'] = convert_to_seconds(df.loc[name, 'Time_x']) / 270\n",
        "                df.loc[name, 'Avg Pace'] = 13.3\n",
        "                df.loc[name, 'Calories'] = df.loc[name, 'Distance'] * cal_per_mi\n",
        "indoor_cycling_impute(bike_merged2)"
      ],
      "execution_count": 152,
      "outputs": [
        {
          "output_type": "stream",
          "text": [
            "/usr/local/lib/python3.6/dist-packages/pandas/core/indexing.py:1765: SettingWithCopyWarning: \n",
            "A value is trying to be set on a copy of a slice from a DataFrame.\n",
            "Try using .loc[row_indexer,col_indexer] = value instead\n",
            "\n",
            "See the caveats in the documentation: https://pandas.pydata.org/pandas-docs/stable/user_guide/indexing.html#returning-a-view-versus-a-copy\n",
            "  isetter(loc, value)\n"
          ],
          "name": "stderr"
        }
      ]
    },
    {
      "cell_type": "code",
      "metadata": {
        "id": "LrDXUUoPV1IO"
      },
      "source": [
        "bike_merged2 = bike_merged2.rename(columns = {'Time_x': 'Time'})"
      ],
      "execution_count": 153,
      "outputs": []
    },
    {
      "cell_type": "code",
      "metadata": {
        "id": "wGmNi1qr_h_i"
      },
      "source": [
        "biking_log = bike_merged2.copy()\n",
        "biking_log.to_csv(\"/content/drive/My Drive/biking_log.csv\")"
      ],
      "execution_count": 154,
      "outputs": []
    },
    {
      "cell_type": "markdown",
      "metadata": {
        "id": "uUJ1ACI5dWHV"
      },
      "source": [
        "### Workout Log"
      ]
    },
    {
      "cell_type": "code",
      "metadata": {
        "id": "nrlttaBxdYMZ",
        "outputId": "01e9a241-11fd-471b-c6e9-93840baa14dd",
        "colab": {
          "base_uri": "https://localhost:8080/"
        }
      },
      "source": [
        "post_garmin3['Activity Type'].unique()"
      ],
      "execution_count": 155,
      "outputs": [
        {
          "output_type": "execute_result",
          "data": {
            "text/plain": [
              "array(['Running', 'Street Running', 'Cycling', 'Strength Training',\n",
              "       'Pool Swimming', 'Treadmill Running', 'Indoor Cycling',\n",
              "       'Gym & Fitness Equipment', 'Other'], dtype=object)"
            ]
          },
          "metadata": {
            "tags": []
          },
          "execution_count": 155
        }
      ]
    },
    {
      "cell_type": "code",
      "metadata": {
        "id": "jWtqGsSJ6ys-",
        "outputId": "3cf1868b-9d38-42e9-9889-bc40a4346448",
        "colab": {
          "base_uri": "https://localhost:8080/"
        }
      },
      "source": [
        "post_garmin_workout = post_garmin3[post_garmin3['Activity Type'].str.contains('Strength Training') | \n",
        "                                   post_garmin3['Activity Type'].str.contains('Gym & Fitness Equipment')]\n",
        "post_garmin_workout = post_garmin_workout[['Activity Type','Datetime','Title', \n",
        "                                           'Calories','Time','Date']]\n",
        "pre_garmin_workout = pre_garmin_edited3[pre_garmin_edited3['Workout_type'].notnull()]\n",
        "pre_garmin_workout = pre_garmin_workout[['Date','Workout_type','Workout_mins','raw_note']]\n",
        "pre_garmin_workout.Workout_mins.unique()"
      ],
      "execution_count": 156,
      "outputs": [
        {
          "output_type": "execute_result",
          "data": {
            "text/plain": [
              "array([ 30.,  45.,  20., 120.,  60.])"
            ]
          },
          "metadata": {
            "tags": []
          },
          "execution_count": 156
        }
      ]
    },
    {
      "cell_type": "code",
      "metadata": {
        "id": "j9BMB7qTNxyB"
      },
      "source": [
        "time_replace_dict = {20: datetime.time(hour = 0, minute = 20, second = 0, microsecond = 0),\n",
        "                     30: datetime.time(hour = 0, minute = 30, second = 0, microsecond = 0),\n",
        "                     45: datetime.time(hour = 0, minute = 45, second = 0, microsecond = 0),\n",
        "                     60: datetime.time(hour = 1, minute = 0, second = 0, microsecond = 0),\n",
        "                     120: datetime.time(hour = 2, minute = 0, second = 0, microsecond = 0)}\n",
        "for idx, row in enumerate(pre_garmin_workout['Workout_mins']):\n",
        "    name = pre_garmin_workout.iloc[idx].name\n",
        "    for key, value in time_replace_dict.items():\n",
        "        if row == key:\n",
        "            pre_garmin_workout.loc[name, 'Workout_mins'] = value"
      ],
      "execution_count": 157,
      "outputs": []
    },
    {
      "cell_type": "code",
      "metadata": {
        "id": "10BX1NP1R5hR"
      },
      "source": [
        "workout_merged = post_garmin_workout.merge(pre_garmin_workout, how='outer',left_on='Date', right_on='Date')\n",
        "workout_merged = workout_merged.sort_values(by='Date')"
      ],
      "execution_count": 158,
      "outputs": []
    },
    {
      "cell_type": "code",
      "metadata": {
        "id": "LWKLNsqJchGv"
      },
      "source": [
        "cal_calc_wo = workout_merged[workout_merged.Calories.notnull()]\n",
        "total = 0\n",
        "for t in cal_calc_wo['Time']:\n",
        "    tot = convert_to_seconds(t)\n",
        "    total = total + tot\n",
        "cal_per_sec = cal_calc_wo.Calories.sum() / total"
      ],
      "execution_count": 159,
      "outputs": []
    },
    {
      "cell_type": "code",
      "metadata": {
        "id": "tFkimJO-VwWK"
      },
      "source": [
        "for idx, row in enumerate(workout_merged['Activity Type']):\n",
        "    name = workout_merged.iloc[idx].name\n",
        "    if pd.isnull(row):\n",
        "        workout_merged.loc[name, 'Activity Type'] = 'Strength Training'\n",
        "        workout_merged.loc[name, 'Datetime'] = workout_merged.loc[name, 'Date']\n",
        "        workout_merged.loc[name, 'Title'] = workout_merged.loc[name, 'Workout_type']\n",
        "        workout_merged.loc[name, 'Time'] = workout_merged.loc[name, 'Workout_mins']\n",
        "        workout_merged.loc[name, 'Calories'] = convert_to_seconds(workout_merged.loc[name, 'Time']) * cal_per_sec\n"
      ],
      "execution_count": 160,
      "outputs": []
    },
    {
      "cell_type": "code",
      "metadata": {
        "id": "EueVi-1DfBUr"
      },
      "source": [
        "workout_log = workout_merged[['Activity Type', 'Datetime', 'Title', 'Calories', \n",
        "                              'Time', 'raw_note']]"
      ],
      "execution_count": 161,
      "outputs": []
    },
    {
      "cell_type": "code",
      "metadata": {
        "id": "oD4gHucpfR-K"
      },
      "source": [
        "workout_log.to_csv(\"/content/drive/My Drive/workout_log.csv\")"
      ],
      "execution_count": 162,
      "outputs": []
    },
    {
      "cell_type": "markdown",
      "metadata": {
        "id": "_PhtIZ3adYlR"
      },
      "source": [
        "### Swimming Log"
      ]
    },
    {
      "cell_type": "code",
      "metadata": {
        "id": "z-c8Y5vndcPz"
      },
      "source": [
        "post_garmin_swimming = post_garmin3[post_garmin3['Activity Type'] == 'Pool Swimming']\n",
        "post_garmin_swimming = post_garmin_swimming.drop(['Avg Run Cadence','Max Run Cadence',\n",
        "                                                  'Elev Gain','Elev Loss','Avg Power',\n",
        "                                                  'Avg Stride Length'], \n",
        "                                                 axis = 1)\n",
        "pre_garmin_swimming = pre_garmin_edited3[pre_garmin_edited3['Swimming_meters'].notnull()]\n",
        "pre_garmin_swimming = pre_garmin_swimming[['Date','Swimming_meters','raw_note']]\n"
      ],
      "execution_count": 163,
      "outputs": []
    },
    {
      "cell_type": "code",
      "metadata": {
        "id": "qwgxwkVxyhXp"
      },
      "source": [
        "swimming_merged = post_garmin_swimming.merge(pre_garmin_swimming, how='outer',left_on='Date', right_on='Date')\n",
        "swimming_merged = swimming_merged.sort_values(by='Date')"
      ],
      "execution_count": 164,
      "outputs": []
    },
    {
      "cell_type": "code",
      "metadata": {
        "id": "9MBpEKt1EzNT"
      },
      "source": [
        "cal_calc_swim = swimming_merged[swimming_merged.Calories.notnull()]\n",
        "cal_per_m = cal_calc_swim.Calories.sum() / cal_calc_swim.Distance.sum()"
      ],
      "execution_count": 165,
      "outputs": []
    },
    {
      "cell_type": "code",
      "metadata": {
        "id": "qI7pWjUDy5l8"
      },
      "source": [
        "for idx, row in enumerate(swimming_merged['Activity Type']):\n",
        "    name = swimming_merged.iloc[idx].name\n",
        "    if pd.isnull(row):\n",
        "        swimming_merged.loc[name, 'Activity Type'] = 'Pool Swimming'\n",
        "        swimming_merged.loc[name, 'Datetime'] = swimming_merged.loc[name, 'Date']\n",
        "        swimming_merged.loc[name, 'Distance'] = swimming_merged.loc[name, 'Swimming_meters']\n",
        "        swimming_merged.loc[name, 'Calories'] = swimming_merged.loc[name, 'Distance'] * cal_per_m"
      ],
      "execution_count": 166,
      "outputs": []
    },
    {
      "cell_type": "code",
      "metadata": {
        "id": "KpIJywvQeGV-"
      },
      "source": [
        "swimming_log = swimming_merged.drop(['Date','Swimming_meters'],axis=1)"
      ],
      "execution_count": 167,
      "outputs": []
    },
    {
      "cell_type": "code",
      "metadata": {
        "id": "x-MqGQ8NegxT"
      },
      "source": [
        "swimming_log.to_csv(\"/content/drive/My Drive/swimming_log.csv\")"
      ],
      "execution_count": 168,
      "outputs": []
    },
    {
      "cell_type": "markdown",
      "metadata": {
        "id": "t9TyCG0QdiyZ"
      },
      "source": [
        "# Totals"
      ]
    },
    {
      "cell_type": "code",
      "metadata": {
        "id": "1IZmWlnckw02"
      },
      "source": [
        "logs_list = [running_log, biking_log, workout_log, swimming_log]\n",
        "pre_activity_log = pd.merge(running_log, biking_log, how='outer',on=['Activity Type',\n",
        "                            'Datetime','Distance','Title','Time', 'Avg Pace',\n",
        "                            'Best Pace', 'Calories','Elev Gain','Elev Loss',\n",
        "                            'Best Lap Time','Number of Laps','raw_note'])\n",
        "pre_activity_log2 = pd.merge(pre_activity_log, workout_log, how='outer',\n",
        "                             on = ['Activity Type','Datetime','Title','Calories',\n",
        "                                   'raw_note','Time'])\n",
        "activity_log = pd.merge(pre_activity_log2, swimming_log, how='outer',\n",
        "                        on=['Activity Type','Datetime','Title','Calories',\n",
        "                            'Avg Pace','Best Pace','Number of Laps','raw_note',\n",
        "                            'Best Lap Time','Time'])\n",
        "activity_log = activity_log.sort_values('Datetime')\n",
        "activity_log = activity_log.rename(columns={'Distance_y': 'Distance(m)', 'Distance_x': 'Distance(mi)'})\n",
        "activity_log_cols = list(activity_log.columns)\n",
        "activity_log2 = activity_log[['Activity Type', 'Title','Datetime','Distance(mi)',\n",
        "                              'Distance(m)','Time','Avg Pace','Calories','Elev Gain',\n",
        "                              'Elev Loss','Avg Stride Length','Best Lap Time',\n",
        "                              'Best Pace', 'Avg Run Cadence', 'Max Run Cadence',\n",
        "                              'Number of Laps','Avg Power','Total Strokes','Avg. Swolf',\n",
        "                              'Avg Stroke Rate','raw_note']]"
      ],
      "execution_count": 169,
      "outputs": []
    },
    {
      "cell_type": "code",
      "metadata": {
        "id": "u5wGFyysLgyT"
      },
      "source": [
        "def time_totaling_fx(df, time_col,days=False):\n",
        "    total = 0\n",
        "    for t in df[time_col]:\n",
        "        try:\n",
        "            if math.isnan(t):\n",
        "                continue\n",
        "        except:\n",
        "            sec = convert_to_seconds(t)\n",
        "            total = sec + total\n",
        "    new_time = from_seconds_to_time_object(total, days=days)\n",
        "    return(total, new_time)"
      ],
      "execution_count": 170,
      "outputs": []
    },
    {
      "cell_type": "markdown",
      "metadata": {
        "id": "-vU-AKXbg0FS"
      },
      "source": [
        "### Activity Totals"
      ]
    },
    {
      "cell_type": "code",
      "metadata": {
        "id": "69g4_5CYg2xL",
        "outputId": "ea9dcf16-8970-4b5f-d4c7-580f9f06c7e7",
        "colab": {
          "base_uri": "https://localhost:8080/"
        }
      },
      "source": [
        "total_mileage = activity_log2['Distance(mi)'].sum()\n",
        "total_calories = activity_log2['Calories'].sum()\n",
        "total_elev_gain = activity_log2['Elev Gain'].sum()\n",
        "total_elev_loss = activity_log2['Elev Loss'].sum()\n",
        "print('Total Mileage Overall: ', total_mileage)\n",
        "print('Total Calories Overall: ', total_calories)\n",
        "print('Total Elevation Gain Overall: ', total_elev_gain)\n",
        "print('Total Elevation Loss Overall: ', total_elev_loss)\n",
        "tot_sec, activity_t_total = time_totaling_fx(activity_log2, 'Time',days=True)\n",
        "print('Total Active Time: ', activity_t_total)"
      ],
      "execution_count": 171,
      "outputs": [
        {
          "output_type": "stream",
          "text": [
            "Total Mileage Overall:  37460.41018518519\n",
            "Total Calories Overall:  3528004.4674767293\n",
            "Total Elevation Gain Overall:  574573.0\n",
            "Total Elevation Loss Overall:  572037.0\n",
            "Day:  124\n",
            "Total Active Time:  04:08:33.698117\n"
          ],
          "name": "stdout"
        }
      ]
    },
    {
      "cell_type": "markdown",
      "metadata": {
        "id": "LRFGS7GuYQsJ"
      },
      "source": [
        "### Running Totals"
      ]
    },
    {
      "cell_type": "code",
      "metadata": {
        "id": "HqcQq1zQkY0h",
        "outputId": "d79c1787-6b62-4f45-a139-7bfe2e14e6c7",
        "colab": {
          "base_uri": "https://localhost:8080/"
        }
      },
      "source": [
        "running_total = running_log.Distance.sum()\n",
        "running_cal_total = running_log.Calories.sum()\n",
        "running_el_gain = running_log['Elev Gain'].sum()\n",
        "running_el_loss = running_log['Elev Loss'].sum()\n",
        "running_max_cadence = running_log['Max Run Cadence'].max()\n",
        "# running_av_str_length = running_log['Avg Stride Length'].mean()\n",
        "# running_av_run_cadence = running_log['Avg Run Cadence'].mean()\n",
        "print('Running Total Mileage: ', running_total)\n",
        "tot_sec_running, running_t_total = time_totaling_fx(running_log, 'Time',days=True)\n",
        "print('Running Total Time: ', running_t_total)\n",
        "av_sec_pace = tot_sec_running / running_total\n",
        "running_av_pace = from_seconds_to_time_object(av_sec_pace)\n",
        "print('Running Average Pace: ', running_av_pace)\n",
        "print('Running Total Calories: ', running_cal_total)\n",
        "print('Running Elevation Gain Total: ', running_el_gain)\n",
        "print('Running Elevation Loss Total: ', running_el_loss)\n",
        "# - I can't do these two because an average of Averages isn't the correct answer\n",
        "# print('Running Average Stride Length: ', running_av_str_length)\n",
        "# print('Running Average Run Cadence: ', running_av_run_cadence)\n",
        "print('Running Max Run Cadence: ', running_max_cadence)"
      ],
      "execution_count": 172,
      "outputs": [
        {
          "output_type": "stream",
          "text": [
            "Running Total Mileage:  19868.39\n",
            "Day:  73\n",
            "Running Total Time:  15:31:30.398787\n",
            "Running Average Pace:  00:05:20.262004\n",
            "Running Total Calories:  2498733.42\n",
            "Running Elevation Gain Total:  291770.0\n",
            "Running Elevation Loss Total:  293199.0\n",
            "Running Max Run Cadence:  352.0\n"
          ],
          "name": "stdout"
        }
      ]
    },
    {
      "cell_type": "markdown",
      "metadata": {
        "id": "IJmKFfc5YTKb"
      },
      "source": [
        "### Biking Totals"
      ]
    },
    {
      "cell_type": "code",
      "metadata": {
        "id": "jgmlh9S_YPiO",
        "outputId": "f04dbd49-da78-41bd-93d7-f71ecbd31bb7",
        "colab": {
          "base_uri": "https://localhost:8080/"
        }
      },
      "source": [
        "biking_total = biking_log.Distance.sum()\n",
        "biking_cal_total = biking_log.Calories.sum()\n",
        "biking_el_gain = biking_log['Elev Gain'].sum()\n",
        "biking_el_loss = biking_log['Elev Loss'].sum()\n",
        "print('Biking Total Mileage: ', biking_total)\n",
        "tot_sec_bike, biking_t_total = time_totaling_fx(biking_log, 'Time',days=True)\n",
        "print('Biking Total Time: ', biking_t_total)\n",
        "print('Biking Total Calories: ', biking_cal_total)\n",
        "biking_av_pace = from_seconds_to_time_object(tot_sec_bike / biking_total)\n",
        "print('Biking Average Pace (min/mi): ', biking_av_pace)\n",
        "print('Biking Elevation Gain: ', biking_el_gain)\n",
        "print('Biking Elevation Loss: ', biking_el_loss)"
      ],
      "execution_count": 173,
      "outputs": [
        {
          "output_type": "stream",
          "text": [
            "Biking Total Mileage:  17592.020185185185\n",
            "Day:  42\n",
            "Biking Total Time:  16:36:49.599361\n",
            "Biking Total Calories:  946222.547046867\n",
            "Biking Average Pace (min/mi):  00:03:29.675157\n",
            "Biking Elevation Gain:  282803.0\n",
            "Biking Elevation Loss:  278838.0\n"
          ],
          "name": "stdout"
        }
      ]
    },
    {
      "cell_type": "markdown",
      "metadata": {
        "id": "TfJP0j4yYVOB"
      },
      "source": [
        "### Swimming Totals"
      ]
    },
    {
      "cell_type": "code",
      "metadata": {
        "id": "LB6QVUgzYNPY",
        "outputId": "f7004c93-9c7e-4208-b6a2-10be91ed0558",
        "colab": {
          "base_uri": "https://localhost:8080/"
        }
      },
      "source": [
        "swimming_total = swimming_log.Distance.sum()\n",
        "swimming_cal_total = swimming_log.Calories.sum()\n",
        "swimming_tot_strokes = swimming_log['Total Strokes'].sum()\n",
        "print('Swimming Total Distance: ', swimming_total)\n",
        "tot_sec_swim, swimming_t_total = time_totaling_fx(swimming_log, 'Time',days=True)\n",
        "print('Swimming Total Time: ', swimming_t_total)\n",
        "print('Swimming Total Calories: ', swimming_cal_total)\n",
        "print('Swimming Total Strokes: ', swimming_tot_strokes)"
      ],
      "execution_count": 174,
      "outputs": [
        {
          "output_type": "stream",
          "text": [
            "Swimming Total Distance:  83653.0\n",
            "Day:  0\n",
            "Swimming Total Time:  04:50:47.699995\n",
            "Swimming Total Calories:  13099.559874185577\n",
            "Swimming Total Strokes:  5642.0\n"
          ],
          "name": "stdout"
        }
      ]
    },
    {
      "cell_type": "markdown",
      "metadata": {
        "id": "h75gfzNHYaOi"
      },
      "source": [
        "### Workout Totals"
      ]
    },
    {
      "cell_type": "code",
      "metadata": {
        "id": "wxbtbZ-eYKzN",
        "outputId": "6232a6c0-9851-4a71-d81e-7184f70ca217",
        "colab": {
          "base_uri": "https://localhost:8080/"
        }
      },
      "source": [
        "workout_cal_total = workout_log.Calories.sum()\n",
        "tot_sec_wo, workout_t_total = time_totaling_fx(workout_log, 'Time',days=True)\n",
        "print('Workout Total Time: ', workout_t_total)\n",
        "print('Workout Total Calories: ', workout_cal_total)"
      ],
      "execution_count": 175,
      "outputs": [
        {
          "output_type": "stream",
          "text": [
            "Day:  7\n",
            "Workout Total Time:  15:09:25.999972\n",
            "Workout Total Calories:  69948.94055567666\n"
          ],
          "name": "stdout"
        }
      ]
    },
    {
      "cell_type": "markdown",
      "metadata": {
        "id": "HQv4ol_TEoDv"
      },
      "source": [
        "# Streaks"
      ]
    },
    {
      "cell_type": "markdown",
      "metadata": {
        "id": "5-pNBBvfE6YI"
      },
      "source": [
        "I will be looking for the longest consecutive streaks that I have on each activity\n",
        "\n",
        "- possibly what would be really cool is if I can search for patterns and the longest streak of those patterns as well\n",
        "\n",
        "- this could also be useful to find injury data as well"
      ]
    },
    {
      "cell_type": "markdown",
      "metadata": {
        "id": "H0U4HtbFEvfu"
      },
      "source": [
        "## Running"
      ]
    },
    {
      "cell_type": "code",
      "metadata": {
        "id": "1D_faGdfQZbs",
        "outputId": "0309aec2-d952-4cb9-a3a1-11cd005d0f13",
        "colab": {
          "base_uri": "https://localhost:8080/",
          "height": 391
        }
      },
      "source": [
        "running_log[running_log.Datetime > '2017-09-29']"
      ],
      "execution_count": 181,
      "outputs": [
        {
          "output_type": "execute_result",
          "data": {
            "text/html": [
              "<div>\n",
              "<style scoped>\n",
              "    .dataframe tbody tr th:only-of-type {\n",
              "        vertical-align: middle;\n",
              "    }\n",
              "\n",
              "    .dataframe tbody tr th {\n",
              "        vertical-align: top;\n",
              "    }\n",
              "\n",
              "    .dataframe thead th {\n",
              "        text-align: right;\n",
              "    }\n",
              "</style>\n",
              "<table border=\"1\" class=\"dataframe\">\n",
              "  <thead>\n",
              "    <tr style=\"text-align: right;\">\n",
              "      <th></th>\n",
              "      <th>Activity Type</th>\n",
              "      <th>Datetime</th>\n",
              "      <th>Distance</th>\n",
              "      <th>Title</th>\n",
              "      <th>Time</th>\n",
              "      <th>Avg Pace</th>\n",
              "      <th>Calories</th>\n",
              "      <th>Elev Gain</th>\n",
              "      <th>Elev Loss</th>\n",
              "      <th>Avg Stride Length</th>\n",
              "      <th>Best Lap Time</th>\n",
              "      <th>Best Pace</th>\n",
              "      <th>Avg Run Cadence</th>\n",
              "      <th>Max Run Cadence</th>\n",
              "      <th>Number of Laps</th>\n",
              "      <th>raw_note</th>\n",
              "    </tr>\n",
              "  </thead>\n",
              "  <tbody>\n",
              "    <tr>\n",
              "      <th>878</th>\n",
              "      <td>Running</td>\n",
              "      <td>2017-09-29 05:48:00</td>\n",
              "      <td>7.22</td>\n",
              "      <td>Lubbock Running</td>\n",
              "      <td>00:53:08.999999</td>\n",
              "      <td>00:07:20.999999</td>\n",
              "      <td>884.0</td>\n",
              "      <td>29.0</td>\n",
              "      <td>28.0</td>\n",
              "      <td>1.25</td>\n",
              "      <td>00:00:00</td>\n",
              "      <td>00:05:51</td>\n",
              "      <td>175.0</td>\n",
              "      <td>194.0</td>\n",
              "      <td>NaN</td>\n",
              "      <td>NaN</td>\n",
              "    </tr>\n",
              "    <tr>\n",
              "      <th>879</th>\n",
              "      <td>Running</td>\n",
              "      <td>2017-09-30 05:42:00</td>\n",
              "      <td>3.17</td>\n",
              "      <td>Lubbock Running</td>\n",
              "      <td>00:24:22.999999</td>\n",
              "      <td>00:07:41</td>\n",
              "      <td>387.0</td>\n",
              "      <td>22.0</td>\n",
              "      <td>14.0</td>\n",
              "      <td>1.21</td>\n",
              "      <td>00:00:00</td>\n",
              "      <td>00:07:13</td>\n",
              "      <td>173.0</td>\n",
              "      <td>182.0</td>\n",
              "      <td>NaN</td>\n",
              "      <td>NaN</td>\n",
              "    </tr>\n",
              "    <tr>\n",
              "      <th>880</th>\n",
              "      <td>Running</td>\n",
              "      <td>2017-10-01 05:40:00</td>\n",
              "      <td>15.25</td>\n",
              "      <td>Lubbock Running</td>\n",
              "      <td>01:53:45.999999</td>\n",
              "      <td>00:07:28</td>\n",
              "      <td>1865.0</td>\n",
              "      <td>84.0</td>\n",
              "      <td>77.0</td>\n",
              "      <td>1.22</td>\n",
              "      <td>00:00:00</td>\n",
              "      <td>00:06:44</td>\n",
              "      <td>176.0</td>\n",
              "      <td>191.0</td>\n",
              "      <td>NaN</td>\n",
              "      <td>NaN</td>\n",
              "    </tr>\n",
              "    <tr>\n",
              "      <th>881</th>\n",
              "      <td>Running</td>\n",
              "      <td>2017-10-02 05:42:00</td>\n",
              "      <td>3.22</td>\n",
              "      <td>Lubbock Running</td>\n",
              "      <td>00:25:04</td>\n",
              "      <td>00:07:46</td>\n",
              "      <td>388.0</td>\n",
              "      <td>29.0</td>\n",
              "      <td>26.0</td>\n",
              "      <td>1.20</td>\n",
              "      <td>00:00:00</td>\n",
              "      <td>00:06:37</td>\n",
              "      <td>173.0</td>\n",
              "      <td>184.0</td>\n",
              "      <td>NaN</td>\n",
              "      <td>NaN</td>\n",
              "    </tr>\n",
              "    <tr>\n",
              "      <th>882</th>\n",
              "      <td>Running</td>\n",
              "      <td>2017-10-03 05:41:00</td>\n",
              "      <td>8.13</td>\n",
              "      <td>Lubbock Running</td>\n",
              "      <td>01:00:26</td>\n",
              "      <td>00:07:26</td>\n",
              "      <td>984.0</td>\n",
              "      <td>44.0</td>\n",
              "      <td>32.0</td>\n",
              "      <td>1.23</td>\n",
              "      <td>00:00:00</td>\n",
              "      <td>00:05:39.999999</td>\n",
              "      <td>176.0</td>\n",
              "      <td>191.0</td>\n",
              "      <td>NaN</td>\n",
              "      <td>NaN</td>\n",
              "    </tr>\n",
              "    <tr>\n",
              "      <th>...</th>\n",
              "      <td>...</td>\n",
              "      <td>...</td>\n",
              "      <td>...</td>\n",
              "      <td>...</td>\n",
              "      <td>...</td>\n",
              "      <td>...</td>\n",
              "      <td>...</td>\n",
              "      <td>...</td>\n",
              "      <td>...</td>\n",
              "      <td>...</td>\n",
              "      <td>...</td>\n",
              "      <td>...</td>\n",
              "      <td>...</td>\n",
              "      <td>...</td>\n",
              "      <td>...</td>\n",
              "      <td>...</td>\n",
              "    </tr>\n",
              "    <tr>\n",
              "      <th>2069</th>\n",
              "      <td>Running</td>\n",
              "      <td>2020-07-10 05:30:00</td>\n",
              "      <td>9.40</td>\n",
              "      <td>Zebulon Running</td>\n",
              "      <td>01:10:40</td>\n",
              "      <td>00:07:30.999999</td>\n",
              "      <td>1191.0</td>\n",
              "      <td>203.0</td>\n",
              "      <td>213.0</td>\n",
              "      <td>1.24</td>\n",
              "      <td>00:02:50.800000</td>\n",
              "      <td>00:05:37.999999</td>\n",
              "      <td>172.0</td>\n",
              "      <td>178.0</td>\n",
              "      <td>10.0</td>\n",
              "      <td>NaN</td>\n",
              "    </tr>\n",
              "    <tr>\n",
              "      <th>2070</th>\n",
              "      <td>Running</td>\n",
              "      <td>2020-07-11 05:30:00</td>\n",
              "      <td>11.16</td>\n",
              "      <td>Zebulon Running</td>\n",
              "      <td>01:24:14</td>\n",
              "      <td>00:07:32.999999</td>\n",
              "      <td>1415.0</td>\n",
              "      <td>164.0</td>\n",
              "      <td>173.0</td>\n",
              "      <td>1.24</td>\n",
              "      <td>00:01:11.400000</td>\n",
              "      <td>00:05:11</td>\n",
              "      <td>172.0</td>\n",
              "      <td>178.0</td>\n",
              "      <td>12.0</td>\n",
              "      <td>NaN</td>\n",
              "    </tr>\n",
              "    <tr>\n",
              "      <th>2071</th>\n",
              "      <td>Running</td>\n",
              "      <td>2020-07-12 05:16:00</td>\n",
              "      <td>1.01</td>\n",
              "      <td>Zebulon Running</td>\n",
              "      <td>00:08:40.399999</td>\n",
              "      <td>00:08:33.999999</td>\n",
              "      <td>124.0</td>\n",
              "      <td>46.0</td>\n",
              "      <td>NaN</td>\n",
              "      <td>1.12</td>\n",
              "      <td>00:00:05.700000</td>\n",
              "      <td>00:07:26.999999</td>\n",
              "      <td>168.0</td>\n",
              "      <td>174.0</td>\n",
              "      <td>2.0</td>\n",
              "      <td>NaN</td>\n",
              "    </tr>\n",
              "    <tr>\n",
              "      <th>2072</th>\n",
              "      <td>Running</td>\n",
              "      <td>2020-07-13 06:56:00</td>\n",
              "      <td>10.35</td>\n",
              "      <td>Zebulon Running</td>\n",
              "      <td>01:16:12</td>\n",
              "      <td>00:07:21.999999</td>\n",
              "      <td>1307.0</td>\n",
              "      <td>163.0</td>\n",
              "      <td>172.0</td>\n",
              "      <td>1.27</td>\n",
              "      <td>00:00:37.500000</td>\n",
              "      <td>00:05:10</td>\n",
              "      <td>173.0</td>\n",
              "      <td>184.0</td>\n",
              "      <td>12.0</td>\n",
              "      <td>NaN</td>\n",
              "    </tr>\n",
              "    <tr>\n",
              "      <th>2073</th>\n",
              "      <td>Running</td>\n",
              "      <td>2020-07-14 05:17:00</td>\n",
              "      <td>10.02</td>\n",
              "      <td>Zebulon Running</td>\n",
              "      <td>01:16:55</td>\n",
              "      <td>00:07:41</td>\n",
              "      <td>1272.0</td>\n",
              "      <td>196.0</td>\n",
              "      <td>209.0</td>\n",
              "      <td>1.22</td>\n",
              "      <td>00:00:07</td>\n",
              "      <td>00:05:25</td>\n",
              "      <td>172.0</td>\n",
              "      <td>180.0</td>\n",
              "      <td>11.0</td>\n",
              "      <td>NaN</td>\n",
              "    </tr>\n",
              "  </tbody>\n",
              "</table>\n",
              "<p>1196 rows × 16 columns</p>\n",
              "</div>"
            ],
            "text/plain": [
              "     Activity Type            Datetime  ...  Number of Laps raw_note\n",
              "878        Running 2017-09-29 05:48:00  ...             NaN      NaN\n",
              "879        Running 2017-09-30 05:42:00  ...             NaN      NaN\n",
              "880        Running 2017-10-01 05:40:00  ...             NaN      NaN\n",
              "881        Running 2017-10-02 05:42:00  ...             NaN      NaN\n",
              "882        Running 2017-10-03 05:41:00  ...             NaN      NaN\n",
              "...            ...                 ...  ...             ...      ...\n",
              "2069       Running 2020-07-10 05:30:00  ...            10.0      NaN\n",
              "2070       Running 2020-07-11 05:30:00  ...            12.0      NaN\n",
              "2071       Running 2020-07-12 05:16:00  ...             2.0      NaN\n",
              "2072       Running 2020-07-13 06:56:00  ...            12.0      NaN\n",
              "2073       Running 2020-07-14 05:17:00  ...            11.0      NaN\n",
              "\n",
              "[1196 rows x 16 columns]"
            ]
          },
          "metadata": {
            "tags": []
          },
          "execution_count": 181
        }
      ]
    },
    {
      "cell_type": "code",
      "metadata": {
        "id": "fv2UWZj3QTHI",
        "outputId": "763033d7-5217-4eb3-be93-7140d8e0f4d3",
        "colab": {
          "base_uri": "https://localhost:8080/",
          "height": 191
        }
      },
      "source": [
        "running_log.tail()"
      ],
      "execution_count": 182,
      "outputs": [
        {
          "output_type": "execute_result",
          "data": {
            "text/html": [
              "<div>\n",
              "<style scoped>\n",
              "    .dataframe tbody tr th:only-of-type {\n",
              "        vertical-align: middle;\n",
              "    }\n",
              "\n",
              "    .dataframe tbody tr th {\n",
              "        vertical-align: top;\n",
              "    }\n",
              "\n",
              "    .dataframe thead th {\n",
              "        text-align: right;\n",
              "    }\n",
              "</style>\n",
              "<table border=\"1\" class=\"dataframe\">\n",
              "  <thead>\n",
              "    <tr style=\"text-align: right;\">\n",
              "      <th></th>\n",
              "      <th>Activity Type</th>\n",
              "      <th>Datetime</th>\n",
              "      <th>Distance</th>\n",
              "      <th>Title</th>\n",
              "      <th>Time</th>\n",
              "      <th>Avg Pace</th>\n",
              "      <th>Calories</th>\n",
              "      <th>Elev Gain</th>\n",
              "      <th>Elev Loss</th>\n",
              "      <th>Avg Stride Length</th>\n",
              "      <th>Best Lap Time</th>\n",
              "      <th>Best Pace</th>\n",
              "      <th>Avg Run Cadence</th>\n",
              "      <th>Max Run Cadence</th>\n",
              "      <th>Number of Laps</th>\n",
              "      <th>raw_note</th>\n",
              "    </tr>\n",
              "  </thead>\n",
              "  <tbody>\n",
              "    <tr>\n",
              "      <th>2069</th>\n",
              "      <td>Running</td>\n",
              "      <td>2020-07-10 05:30:00</td>\n",
              "      <td>9.40</td>\n",
              "      <td>Zebulon Running</td>\n",
              "      <td>01:10:40</td>\n",
              "      <td>00:07:30.999999</td>\n",
              "      <td>1191.0</td>\n",
              "      <td>203.0</td>\n",
              "      <td>213.0</td>\n",
              "      <td>1.24</td>\n",
              "      <td>00:02:50.800000</td>\n",
              "      <td>00:05:37.999999</td>\n",
              "      <td>172.0</td>\n",
              "      <td>178.0</td>\n",
              "      <td>10.0</td>\n",
              "      <td>NaN</td>\n",
              "    </tr>\n",
              "    <tr>\n",
              "      <th>2070</th>\n",
              "      <td>Running</td>\n",
              "      <td>2020-07-11 05:30:00</td>\n",
              "      <td>11.16</td>\n",
              "      <td>Zebulon Running</td>\n",
              "      <td>01:24:14</td>\n",
              "      <td>00:07:32.999999</td>\n",
              "      <td>1415.0</td>\n",
              "      <td>164.0</td>\n",
              "      <td>173.0</td>\n",
              "      <td>1.24</td>\n",
              "      <td>00:01:11.400000</td>\n",
              "      <td>00:05:11</td>\n",
              "      <td>172.0</td>\n",
              "      <td>178.0</td>\n",
              "      <td>12.0</td>\n",
              "      <td>NaN</td>\n",
              "    </tr>\n",
              "    <tr>\n",
              "      <th>2071</th>\n",
              "      <td>Running</td>\n",
              "      <td>2020-07-12 05:16:00</td>\n",
              "      <td>1.01</td>\n",
              "      <td>Zebulon Running</td>\n",
              "      <td>00:08:40.399999</td>\n",
              "      <td>00:08:33.999999</td>\n",
              "      <td>124.0</td>\n",
              "      <td>46.0</td>\n",
              "      <td>NaN</td>\n",
              "      <td>1.12</td>\n",
              "      <td>00:00:05.700000</td>\n",
              "      <td>00:07:26.999999</td>\n",
              "      <td>168.0</td>\n",
              "      <td>174.0</td>\n",
              "      <td>2.0</td>\n",
              "      <td>NaN</td>\n",
              "    </tr>\n",
              "    <tr>\n",
              "      <th>2072</th>\n",
              "      <td>Running</td>\n",
              "      <td>2020-07-13 06:56:00</td>\n",
              "      <td>10.35</td>\n",
              "      <td>Zebulon Running</td>\n",
              "      <td>01:16:12</td>\n",
              "      <td>00:07:21.999999</td>\n",
              "      <td>1307.0</td>\n",
              "      <td>163.0</td>\n",
              "      <td>172.0</td>\n",
              "      <td>1.27</td>\n",
              "      <td>00:00:37.500000</td>\n",
              "      <td>00:05:10</td>\n",
              "      <td>173.0</td>\n",
              "      <td>184.0</td>\n",
              "      <td>12.0</td>\n",
              "      <td>NaN</td>\n",
              "    </tr>\n",
              "    <tr>\n",
              "      <th>2073</th>\n",
              "      <td>Running</td>\n",
              "      <td>2020-07-14 05:17:00</td>\n",
              "      <td>10.02</td>\n",
              "      <td>Zebulon Running</td>\n",
              "      <td>01:16:55</td>\n",
              "      <td>00:07:41</td>\n",
              "      <td>1272.0</td>\n",
              "      <td>196.0</td>\n",
              "      <td>209.0</td>\n",
              "      <td>1.22</td>\n",
              "      <td>00:00:07</td>\n",
              "      <td>00:05:25</td>\n",
              "      <td>172.0</td>\n",
              "      <td>180.0</td>\n",
              "      <td>11.0</td>\n",
              "      <td>NaN</td>\n",
              "    </tr>\n",
              "  </tbody>\n",
              "</table>\n",
              "</div>"
            ],
            "text/plain": [
              "     Activity Type            Datetime  ...  Number of Laps raw_note\n",
              "2069       Running 2020-07-10 05:30:00  ...            10.0      NaN\n",
              "2070       Running 2020-07-11 05:30:00  ...            12.0      NaN\n",
              "2071       Running 2020-07-12 05:16:00  ...             2.0      NaN\n",
              "2072       Running 2020-07-13 06:56:00  ...            12.0      NaN\n",
              "2073       Running 2020-07-14 05:17:00  ...            11.0      NaN\n",
              "\n",
              "[5 rows x 16 columns]"
            ]
          },
          "metadata": {
            "tags": []
          },
          "execution_count": 182
        }
      ]
    },
    {
      "cell_type": "code",
      "metadata": {
        "id": "xmcTBPCcEq4w"
      },
      "source": [
        "def streak_finder_fx(df, col):\n",
        "    streak = 0\n",
        "    streak_count = []\n",
        "    gap_length = []\n",
        "    check = []\n",
        "    largest_streak = 0\n",
        "    for idx, date in enumerate(df[col]):\n",
        "        if idx > 0:\n",
        "            diff = date - df[col].iloc[idx-1]\n",
        "            if diff.days >= 2 and diff.total_seconds() >= 172800:\n",
        "                gap_length.append(diff.days)\n",
        "                streak_count.append(streak)\n",
        "                if streak > largest_streak:\n",
        "                    largest_streak = streak\n",
        "                    larg_streak_end = date\n",
        "                    larg_streak_begin = df[col].iloc[idx - streak]\n",
        "                streak = 0\n",
        "            elif diff.days < 2 and diff.total_seconds() > 129600:\n",
        "                check.append(idx)\n",
        "            elif idx == (len(df[col])-1):\n",
        "                if streak > largest_streak:\n",
        "                    largest_streak = streak\n",
        "                    larg_streak_end = date\n",
        "                    larg_streak_begin = df[col].iloc[idx - streak]\n",
        "            elif diff.days == 1:\n",
        "                streak += 1\n",
        "    larg_streak_info = [largest_streak, larg_streak_begin, larg_streak_end]\n",
        "    return (larg_streak_info, streak_count, gap_length, check)    \n"
      ],
      "execution_count": 287,
      "outputs": []
    },
    {
      "cell_type": "code",
      "metadata": {
        "id": "Ex_DDmjfw6N9",
        "outputId": "6ba70ad5-c56d-4679-bca2-bc50693201c5",
        "colab": {
          "base_uri": "https://localhost:8080/"
        }
      },
      "source": [
        "cols = list(running_log.columns)\n",
        "cols"
      ],
      "execution_count": 195,
      "outputs": [
        {
          "output_type": "execute_result",
          "data": {
            "text/plain": [
              "['Activity Type',\n",
              " 'Datetime',\n",
              " 'Distance',\n",
              " 'Title',\n",
              " 'Time',\n",
              " 'Avg Pace',\n",
              " 'Calories',\n",
              " 'Elev Gain',\n",
              " 'Elev Loss',\n",
              " 'Avg Stride Length',\n",
              " 'Best Lap Time',\n",
              " 'Best Pace',\n",
              " 'Avg Run Cadence',\n",
              " 'Max Run Cadence',\n",
              " 'Number of Laps',\n",
              " 'raw_note']"
            ]
          },
          "metadata": {
            "tags": []
          },
          "execution_count": 195
        }
      ]
    },
    {
      "cell_type": "code",
      "metadata": {
        "id": "rAhDzGZiHGSm",
        "outputId": "63f2ff14-87d9-4864-9bae-d81e4f00fed3",
        "colab": {
          "base_uri": "https://localhost:8080/"
        }
      },
      "source": [
        "129*6"
      ],
      "execution_count": 259,
      "outputs": [
        {
          "output_type": "execute_result",
          "data": {
            "text/plain": [
              "774"
            ]
          },
          "metadata": {
            "tags": []
          },
          "execution_count": 259
        }
      ]
    },
    {
      "cell_type": "code",
      "metadata": {
        "id": "pApwmR3tvp-W",
        "outputId": "db452bd4-1ce3-485d-9b15-a0d3d8952323",
        "colab": {
          "base_uri": "https://localhost:8080/",
          "height": 35
        }
      },
      "source": [
        "str(datetime.datetime(2018,1,14,5,42,0))"
      ],
      "execution_count": 243,
      "outputs": [
        {
          "output_type": "execute_result",
          "data": {
            "application/vnd.google.colaboratory.intrinsic+json": {
              "type": "string"
            },
            "text/plain": [
              "'2018-01-14 05:42:00'"
            ]
          },
          "metadata": {
            "tags": []
          },
          "execution_count": 243
        }
      ]
    },
    {
      "cell_type": "code",
      "metadata": {
        "id": "JGp4BoSegfZK"
      },
      "source": [
        "manual_activities = {\n",
        "    'Activity Type': ['Running','Running','Running','Running','Running','Running'], \n",
        "    'Datetime': [datetime.datetime(2019,11,2,5,41,0),datetime.datetime(2019,11,28,7,43,0),\n",
        "    datetime.datetime(2018,1,15,5,42,0),datetime.datetime(2018,1,16,5,42,0),\n",
        "    datetime.datetime(2018,1,17,5,42,0),datetime.datetime(2018,1,18,5,42,0)],\n",
        "    'Distance': [1.78,8.05, 3,8,6,6],\n",
        "    'Title': ['Raleigh Running','Raleigh Running', 'Cruise running','Cruise running',\n",
        "              'Cruise running','Cruise running'],\n",
        "    'Time': [datetime.time(hour = 0, minute = 14, second = 16, microsecond = 0),\n",
        "             datetime.time(hour = 1, minute = 2, second = 29, microsecond = 0),\n",
        "             datetime.time(hour = 0, minute = 22, second = 30, microsecond = 0),\n",
        "             datetime.time(hour = 1, minute = 0, second = 0, microsecond = 0),\n",
        "             datetime.time(hour = 0, minute = 45, second = 0, microsecond = 0),\n",
        "             datetime.time(hour = 0, minute = 45, second = 0, microsecond = 0)],\n",
        "    'Avg Pace': [datetime.time(hour = 0, minute = 7, second = 59, microsecond = 0),\n",
        "                 datetime.time(hour = 0, minute = 7, second = 45, microsecond = 0),\n",
        "                 datetime.time(hour = 0, minute = 7, second = 30, microsecond = 0),\n",
        "                 datetime.time(hour = 0, minute = 7, second = 30, microsecond = 0),\n",
        "                 datetime.time(hour = 0, minute = 7, second = 30, microsecond = 0),\n",
        "                 datetime.time(hour = 0, minute = 7, second = 30, microsecond = 0)],\n",
        "    'Calories': [263,1182,1806,1032,774,774],\n",
        "    'Elev Gain': [64,132,np.nan,np.nan,np.nan,np.nan],\n",
        "    'Elev Loss': [64,142,np.nan,np.nan,np.nan,np.nan],\n",
        "    'Avg Stride Length': [np.nan,np.nan,np.nan,np.nan,np.nan,np.nan],\n",
        "    'Best Lap Time': [datetime.time(hour = 0, minute = 7, second = 21, microsecond = 0),\n",
        "                      datetime.time(hour = 0, minute = 7, second = 24, microsecond = 0),\n",
        "                      np.nan,np.nan,np.nan,np.nan],\n",
        "    'Best Pace': [datetime.time(hour = 0, minute = 0, second = 0, microsecond = 0),\n",
        "                  datetime.time(hour = 0, minute = 7, second = 24, microsecond = 0),\n",
        "                  np.nan,np.nan,np.nan,np.nan],\n",
        "    'Avg Run Cadence': [np.nan,np.nan,np.nan,np.nan,np.nan,np.nan],\n",
        "    'Max Run Cadence': [np.nan,np.nan,np.nan,np.nan,np.nan,np.nan],    \n",
        "    'Number of Laps': [2,8,3,8,6,6],\n",
        "    'raw_note': [np.nan,np.nan,'on a cruise!','on a cruise!','on a cruise!','on a cruise!']\n",
        "}"
      ],
      "execution_count": 270,
      "outputs": []
    },
    {
      "cell_type": "code",
      "metadata": {
        "id": "QXI2VrCS1gFv"
      },
      "source": [
        "man_act = pd.DataFrame.from_dict(manual_activities)"
      ],
      "execution_count": 272,
      "outputs": []
    },
    {
      "cell_type": "code",
      "metadata": {
        "id": "aV71lH_qOvEM"
      },
      "source": [
        "running_log = running_log.append(man_act,ignore_index=True)"
      ],
      "execution_count": 273,
      "outputs": []
    },
    {
      "cell_type": "code",
      "metadata": {
        "id": "Vk7R5wO07Me9",
        "outputId": "be21b5dc-ca45-4ce5-b49c-254b5f086df3",
        "colab": {
          "base_uri": "https://localhost:8080/",
          "height": 391
        }
      },
      "source": [
        "running_log"
      ],
      "execution_count": 274,
      "outputs": [
        {
          "output_type": "execute_result",
          "data": {
            "text/html": [
              "<div>\n",
              "<style scoped>\n",
              "    .dataframe tbody tr th:only-of-type {\n",
              "        vertical-align: middle;\n",
              "    }\n",
              "\n",
              "    .dataframe tbody tr th {\n",
              "        vertical-align: top;\n",
              "    }\n",
              "\n",
              "    .dataframe thead th {\n",
              "        text-align: right;\n",
              "    }\n",
              "</style>\n",
              "<table border=\"1\" class=\"dataframe\">\n",
              "  <thead>\n",
              "    <tr style=\"text-align: right;\">\n",
              "      <th></th>\n",
              "      <th>Activity Type</th>\n",
              "      <th>Datetime</th>\n",
              "      <th>Distance</th>\n",
              "      <th>Title</th>\n",
              "      <th>Time</th>\n",
              "      <th>Avg Pace</th>\n",
              "      <th>Calories</th>\n",
              "      <th>Elev Gain</th>\n",
              "      <th>Elev Loss</th>\n",
              "      <th>Avg Stride Length</th>\n",
              "      <th>Best Lap Time</th>\n",
              "      <th>Best Pace</th>\n",
              "      <th>Avg Run Cadence</th>\n",
              "      <th>Max Run Cadence</th>\n",
              "      <th>Number of Laps</th>\n",
              "      <th>raw_note</th>\n",
              "    </tr>\n",
              "  </thead>\n",
              "  <tbody>\n",
              "    <tr>\n",
              "      <th>0</th>\n",
              "      <td>Running</td>\n",
              "      <td>2010-05-29 00:00:00</td>\n",
              "      <td>3.80</td>\n",
              "      <td>NaN</td>\n",
              "      <td>00:27:18.999999</td>\n",
              "      <td>00:07:11.315789</td>\n",
              "      <td>490.2</td>\n",
              "      <td>NaN</td>\n",
              "      <td>NaN</td>\n",
              "      <td>NaN</td>\n",
              "      <td>NaN</td>\n",
              "      <td>NaN</td>\n",
              "      <td>NaN</td>\n",
              "      <td>NaN</td>\n",
              "      <td>NaN</td>\n",
              "      <td>Saturday 5/29/10 4 miles 27:19 it was a little...</td>\n",
              "    </tr>\n",
              "    <tr>\n",
              "      <th>1</th>\n",
              "      <td>Running</td>\n",
              "      <td>2010-06-21 00:00:00</td>\n",
              "      <td>4.00</td>\n",
              "      <td>NaN</td>\n",
              "      <td>NaN</td>\n",
              "      <td>NaN</td>\n",
              "      <td>516.0</td>\n",
              "      <td>NaN</td>\n",
              "      <td>NaN</td>\n",
              "      <td>NaN</td>\n",
              "      <td>NaN</td>\n",
              "      <td>NaN</td>\n",
              "      <td>NaN</td>\n",
              "      <td>NaN</td>\n",
              "      <td>NaN</td>\n",
              "      <td>Monday 6/21/10_ 4 miles</td>\n",
              "    </tr>\n",
              "    <tr>\n",
              "      <th>2</th>\n",
              "      <td>Running</td>\n",
              "      <td>2010-06-22 00:00:00</td>\n",
              "      <td>4.00</td>\n",
              "      <td>NaN</td>\n",
              "      <td>NaN</td>\n",
              "      <td>NaN</td>\n",
              "      <td>516.0</td>\n",
              "      <td>NaN</td>\n",
              "      <td>NaN</td>\n",
              "      <td>NaN</td>\n",
              "      <td>NaN</td>\n",
              "      <td>NaN</td>\n",
              "      <td>NaN</td>\n",
              "      <td>NaN</td>\n",
              "      <td>NaN</td>\n",
              "      <td>Tuesday 6/22/10_ 4 miles_Swimming_ 10 laps of ...</td>\n",
              "    </tr>\n",
              "    <tr>\n",
              "      <th>3</th>\n",
              "      <td>Running</td>\n",
              "      <td>2010-06-23 00:00:00</td>\n",
              "      <td>4.50</td>\n",
              "      <td>NaN</td>\n",
              "      <td>NaN</td>\n",
              "      <td>NaN</td>\n",
              "      <td>580.5</td>\n",
              "      <td>NaN</td>\n",
              "      <td>NaN</td>\n",
              "      <td>NaN</td>\n",
              "      <td>NaN</td>\n",
              "      <td>NaN</td>\n",
              "      <td>NaN</td>\n",
              "      <td>NaN</td>\n",
              "      <td>NaN</td>\n",
              "      <td>Wednesday 6/23/10_ 4.5 miles_35 minutes</td>\n",
              "    </tr>\n",
              "    <tr>\n",
              "      <th>4</th>\n",
              "      <td>Running</td>\n",
              "      <td>2010-06-24 00:00:00</td>\n",
              "      <td>5.00</td>\n",
              "      <td>NaN</td>\n",
              "      <td>NaN</td>\n",
              "      <td>NaN</td>\n",
              "      <td>645.0</td>\n",
              "      <td>NaN</td>\n",
              "      <td>NaN</td>\n",
              "      <td>NaN</td>\n",
              "      <td>NaN</td>\n",
              "      <td>NaN</td>\n",
              "      <td>NaN</td>\n",
              "      <td>NaN</td>\n",
              "      <td>NaN</td>\n",
              "      <td>Thursday 6/25/10_ 5</td>\n",
              "    </tr>\n",
              "    <tr>\n",
              "      <th>...</th>\n",
              "      <td>...</td>\n",
              "      <td>...</td>\n",
              "      <td>...</td>\n",
              "      <td>...</td>\n",
              "      <td>...</td>\n",
              "      <td>...</td>\n",
              "      <td>...</td>\n",
              "      <td>...</td>\n",
              "      <td>...</td>\n",
              "      <td>...</td>\n",
              "      <td>...</td>\n",
              "      <td>...</td>\n",
              "      <td>...</td>\n",
              "      <td>...</td>\n",
              "      <td>...</td>\n",
              "      <td>...</td>\n",
              "    </tr>\n",
              "    <tr>\n",
              "      <th>3019</th>\n",
              "      <td>Running</td>\n",
              "      <td>2019-11-28 07:43:00</td>\n",
              "      <td>8.05</td>\n",
              "      <td>Raleigh Running</td>\n",
              "      <td>01:02:29</td>\n",
              "      <td>00:07:45</td>\n",
              "      <td>1182.0</td>\n",
              "      <td>132.0</td>\n",
              "      <td>142.0</td>\n",
              "      <td>NaN</td>\n",
              "      <td>00:07:24</td>\n",
              "      <td>00:07:24</td>\n",
              "      <td>NaN</td>\n",
              "      <td>NaN</td>\n",
              "      <td>8.0</td>\n",
              "      <td>NaN</td>\n",
              "    </tr>\n",
              "    <tr>\n",
              "      <th>3020</th>\n",
              "      <td>Running</td>\n",
              "      <td>2018-01-15 05:42:00</td>\n",
              "      <td>3.00</td>\n",
              "      <td>Cruise running</td>\n",
              "      <td>00:22:30</td>\n",
              "      <td>00:07:30</td>\n",
              "      <td>1806.0</td>\n",
              "      <td>NaN</td>\n",
              "      <td>NaN</td>\n",
              "      <td>NaN</td>\n",
              "      <td>NaN</td>\n",
              "      <td>NaN</td>\n",
              "      <td>NaN</td>\n",
              "      <td>NaN</td>\n",
              "      <td>3.0</td>\n",
              "      <td>on a cruise!</td>\n",
              "    </tr>\n",
              "    <tr>\n",
              "      <th>3021</th>\n",
              "      <td>Running</td>\n",
              "      <td>2018-01-16 05:42:00</td>\n",
              "      <td>8.00</td>\n",
              "      <td>Cruise running</td>\n",
              "      <td>01:00:00</td>\n",
              "      <td>00:07:30</td>\n",
              "      <td>1032.0</td>\n",
              "      <td>NaN</td>\n",
              "      <td>NaN</td>\n",
              "      <td>NaN</td>\n",
              "      <td>NaN</td>\n",
              "      <td>NaN</td>\n",
              "      <td>NaN</td>\n",
              "      <td>NaN</td>\n",
              "      <td>8.0</td>\n",
              "      <td>on a cruise!</td>\n",
              "    </tr>\n",
              "    <tr>\n",
              "      <th>3022</th>\n",
              "      <td>Running</td>\n",
              "      <td>2018-01-17 05:42:00</td>\n",
              "      <td>6.00</td>\n",
              "      <td>Cruise running</td>\n",
              "      <td>00:45:00</td>\n",
              "      <td>00:07:30</td>\n",
              "      <td>774.0</td>\n",
              "      <td>NaN</td>\n",
              "      <td>NaN</td>\n",
              "      <td>NaN</td>\n",
              "      <td>NaN</td>\n",
              "      <td>NaN</td>\n",
              "      <td>NaN</td>\n",
              "      <td>NaN</td>\n",
              "      <td>6.0</td>\n",
              "      <td>on a cruise!</td>\n",
              "    </tr>\n",
              "    <tr>\n",
              "      <th>3023</th>\n",
              "      <td>Running</td>\n",
              "      <td>2018-01-18 05:42:00</td>\n",
              "      <td>6.00</td>\n",
              "      <td>Cruise running</td>\n",
              "      <td>00:45:00</td>\n",
              "      <td>00:07:30</td>\n",
              "      <td>774.0</td>\n",
              "      <td>NaN</td>\n",
              "      <td>NaN</td>\n",
              "      <td>NaN</td>\n",
              "      <td>NaN</td>\n",
              "      <td>NaN</td>\n",
              "      <td>NaN</td>\n",
              "      <td>NaN</td>\n",
              "      <td>6.0</td>\n",
              "      <td>on a cruise!</td>\n",
              "    </tr>\n",
              "  </tbody>\n",
              "</table>\n",
              "<p>3024 rows × 16 columns</p>\n",
              "</div>"
            ],
            "text/plain": [
              "     Activity Type  ...                                           raw_note\n",
              "0          Running  ...  Saturday 5/29/10 4 miles 27:19 it was a little...\n",
              "1          Running  ...                            Monday 6/21/10_ 4 miles\n",
              "2          Running  ...  Tuesday 6/22/10_ 4 miles_Swimming_ 10 laps of ...\n",
              "3          Running  ...            Wednesday 6/23/10_ 4.5 miles_35 minutes\n",
              "4          Running  ...                               Thursday 6/25/10_ 5 \n",
              "...            ...  ...                                                ...\n",
              "3019       Running  ...                                                NaN\n",
              "3020       Running  ...                                       on a cruise!\n",
              "3021       Running  ...                                       on a cruise!\n",
              "3022       Running  ...                                       on a cruise!\n",
              "3023       Running  ...                                       on a cruise!\n",
              "\n",
              "[3024 rows x 16 columns]"
            ]
          },
          "metadata": {
            "tags": []
          },
          "execution_count": 274
        }
      ]
    },
    {
      "cell_type": "code",
      "metadata": {
        "id": "pxoRZHqg-4XP"
      },
      "source": [
        "# 1820 - beginning\n",
        "# 1950 -endish"
      ],
      "execution_count": null,
      "outputs": []
    },
    {
      "cell_type": "code",
      "metadata": {
        "id": "thDOu1BBGanP",
        "outputId": "1932ebf8-08d2-4a6f-f085-b398a7a967d2",
        "colab": {
          "base_uri": "https://localhost:8080/",
          "height": 766
        }
      },
      "source": [
        "running_log.loc[1800:1824]"
      ],
      "execution_count": 286,
      "outputs": [
        {
          "output_type": "execute_result",
          "data": {
            "text/html": [
              "<div>\n",
              "<style scoped>\n",
              "    .dataframe tbody tr th:only-of-type {\n",
              "        vertical-align: middle;\n",
              "    }\n",
              "\n",
              "    .dataframe tbody tr th {\n",
              "        vertical-align: top;\n",
              "    }\n",
              "\n",
              "    .dataframe thead th {\n",
              "        text-align: right;\n",
              "    }\n",
              "</style>\n",
              "<table border=\"1\" class=\"dataframe\">\n",
              "  <thead>\n",
              "    <tr style=\"text-align: right;\">\n",
              "      <th></th>\n",
              "      <th>Activity Type</th>\n",
              "      <th>Datetime</th>\n",
              "      <th>Distance</th>\n",
              "      <th>Title</th>\n",
              "      <th>Time</th>\n",
              "      <th>Avg Pace</th>\n",
              "      <th>Calories</th>\n",
              "      <th>Elev Gain</th>\n",
              "      <th>Elev Loss</th>\n",
              "      <th>Avg Stride Length</th>\n",
              "      <th>Best Lap Time</th>\n",
              "      <th>Best Pace</th>\n",
              "      <th>Avg Run Cadence</th>\n",
              "      <th>Max Run Cadence</th>\n",
              "      <th>Number of Laps</th>\n",
              "      <th>raw_note</th>\n",
              "    </tr>\n",
              "  </thead>\n",
              "  <tbody>\n",
              "    <tr>\n",
              "      <th>1800</th>\n",
              "      <td>Running</td>\n",
              "      <td>2017-09-07 05:41:00</td>\n",
              "      <td>8.61</td>\n",
              "      <td>Lubbock Running</td>\n",
              "      <td>01:06:09</td>\n",
              "      <td>00:07:41</td>\n",
              "      <td>992.0</td>\n",
              "      <td>42.0</td>\n",
              "      <td>39.0</td>\n",
              "      <td>1.22</td>\n",
              "      <td>00:00:00</td>\n",
              "      <td>00:06:08</td>\n",
              "      <td>171.0</td>\n",
              "      <td>182.0</td>\n",
              "      <td>NaN</td>\n",
              "      <td>NaN</td>\n",
              "    </tr>\n",
              "    <tr>\n",
              "      <th>1801</th>\n",
              "      <td>Running</td>\n",
              "      <td>2017-09-07 09:00:00</td>\n",
              "      <td>3.00</td>\n",
              "      <td>Late to class</td>\n",
              "      <td>00:24:00</td>\n",
              "      <td>00:08:00</td>\n",
              "      <td>387.0</td>\n",
              "      <td>NaN</td>\n",
              "      <td>NaN</td>\n",
              "      <td>NaN</td>\n",
              "      <td>00:00:00</td>\n",
              "      <td>NaN</td>\n",
              "      <td>NaN</td>\n",
              "      <td>NaN</td>\n",
              "      <td>NaN</td>\n",
              "      <td>NaN</td>\n",
              "    </tr>\n",
              "    <tr>\n",
              "      <th>1802</th>\n",
              "      <td>Running</td>\n",
              "      <td>2017-09-08 05:36:00</td>\n",
              "      <td>6.74</td>\n",
              "      <td>Lubbock Running</td>\n",
              "      <td>00:53:42.999999</td>\n",
              "      <td>00:07:58</td>\n",
              "      <td>813.0</td>\n",
              "      <td>29.0</td>\n",
              "      <td>23.0</td>\n",
              "      <td>1.17</td>\n",
              "      <td>00:00:00</td>\n",
              "      <td>00:07:15.999999</td>\n",
              "      <td>172.0</td>\n",
              "      <td>180.0</td>\n",
              "      <td>NaN</td>\n",
              "      <td>NaN</td>\n",
              "    </tr>\n",
              "    <tr>\n",
              "      <th>1803</th>\n",
              "      <td>Running</td>\n",
              "      <td>2017-09-09 05:53:00</td>\n",
              "      <td>3.24</td>\n",
              "      <td>Lubbock Running</td>\n",
              "      <td>00:25:11.999999</td>\n",
              "      <td>00:07:46.999999</td>\n",
              "      <td>396.0</td>\n",
              "      <td>34.0</td>\n",
              "      <td>32.0</td>\n",
              "      <td>1.20</td>\n",
              "      <td>00:00:00</td>\n",
              "      <td>00:07:18.999999</td>\n",
              "      <td>172.0</td>\n",
              "      <td>180.0</td>\n",
              "      <td>NaN</td>\n",
              "      <td>NaN</td>\n",
              "    </tr>\n",
              "    <tr>\n",
              "      <th>1804</th>\n",
              "      <td>Running</td>\n",
              "      <td>2017-09-11 05:37:00</td>\n",
              "      <td>3.18</td>\n",
              "      <td>Lubbock Running</td>\n",
              "      <td>00:24:53.999999</td>\n",
              "      <td>00:07:50</td>\n",
              "      <td>389.0</td>\n",
              "      <td>26.0</td>\n",
              "      <td>17.0</td>\n",
              "      <td>1.20</td>\n",
              "      <td>00:00:00</td>\n",
              "      <td>00:07:23</td>\n",
              "      <td>171.0</td>\n",
              "      <td>178.0</td>\n",
              "      <td>NaN</td>\n",
              "      <td>NaN</td>\n",
              "    </tr>\n",
              "    <tr>\n",
              "      <th>1805</th>\n",
              "      <td>Running</td>\n",
              "      <td>2017-09-12 05:37:00</td>\n",
              "      <td>7.48</td>\n",
              "      <td>Lubbock Running</td>\n",
              "      <td>00:56:28</td>\n",
              "      <td>00:07:32.999999</td>\n",
              "      <td>910.0</td>\n",
              "      <td>48.0</td>\n",
              "      <td>43.0</td>\n",
              "      <td>1.22</td>\n",
              "      <td>00:00:00</td>\n",
              "      <td>00:05:01.999999</td>\n",
              "      <td>174.0</td>\n",
              "      <td>196.0</td>\n",
              "      <td>NaN</td>\n",
              "      <td>NaN</td>\n",
              "    </tr>\n",
              "    <tr>\n",
              "      <th>1806</th>\n",
              "      <td>Running</td>\n",
              "      <td>2017-09-13 05:42:00</td>\n",
              "      <td>6.04</td>\n",
              "      <td>Lubbock Running</td>\n",
              "      <td>00:45:16.999999</td>\n",
              "      <td>00:07:30</td>\n",
              "      <td>737.0</td>\n",
              "      <td>22.0</td>\n",
              "      <td>20.0</td>\n",
              "      <td>1.22</td>\n",
              "      <td>00:00:00</td>\n",
              "      <td>00:06:00.999999</td>\n",
              "      <td>175.0</td>\n",
              "      <td>188.0</td>\n",
              "      <td>NaN</td>\n",
              "      <td>NaN</td>\n",
              "    </tr>\n",
              "    <tr>\n",
              "      <th>1807</th>\n",
              "      <td>Running</td>\n",
              "      <td>2017-09-14 05:45:00</td>\n",
              "      <td>8.17</td>\n",
              "      <td>Lubbock Running</td>\n",
              "      <td>00:59:35.999999</td>\n",
              "      <td>00:07:18</td>\n",
              "      <td>995.0</td>\n",
              "      <td>54.0</td>\n",
              "      <td>41.0</td>\n",
              "      <td>1.25</td>\n",
              "      <td>00:00:00</td>\n",
              "      <td>00:06:14</td>\n",
              "      <td>177.0</td>\n",
              "      <td>190.0</td>\n",
              "      <td>NaN</td>\n",
              "      <td>NaN</td>\n",
              "    </tr>\n",
              "    <tr>\n",
              "      <th>1808</th>\n",
              "      <td>Running</td>\n",
              "      <td>2017-09-15 05:39:00</td>\n",
              "      <td>7.06</td>\n",
              "      <td>Lubbock Running</td>\n",
              "      <td>00:54:26</td>\n",
              "      <td>00:07:43</td>\n",
              "      <td>859.0</td>\n",
              "      <td>25.0</td>\n",
              "      <td>23.0</td>\n",
              "      <td>1.20</td>\n",
              "      <td>00:00:00</td>\n",
              "      <td>00:07:01.999999</td>\n",
              "      <td>174.0</td>\n",
              "      <td>182.0</td>\n",
              "      <td>NaN</td>\n",
              "      <td>NaN</td>\n",
              "    </tr>\n",
              "    <tr>\n",
              "      <th>1809</th>\n",
              "      <td>Running</td>\n",
              "      <td>2017-09-16 05:46:00</td>\n",
              "      <td>3.24</td>\n",
              "      <td>Lubbock Running</td>\n",
              "      <td>00:25:27</td>\n",
              "      <td>00:07:52</td>\n",
              "      <td>392.0</td>\n",
              "      <td>20.0</td>\n",
              "      <td>21.0</td>\n",
              "      <td>1.18</td>\n",
              "      <td>00:00:00</td>\n",
              "      <td>00:07:00</td>\n",
              "      <td>173.0</td>\n",
              "      <td>182.0</td>\n",
              "      <td>NaN</td>\n",
              "      <td>NaN</td>\n",
              "    </tr>\n",
              "    <tr>\n",
              "      <th>1810</th>\n",
              "      <td>Running</td>\n",
              "      <td>2017-09-17 05:52:00</td>\n",
              "      <td>14.54</td>\n",
              "      <td>Lubbock Running</td>\n",
              "      <td>01:52:14</td>\n",
              "      <td>00:07:43</td>\n",
              "      <td>1784.0</td>\n",
              "      <td>68.0</td>\n",
              "      <td>62.0</td>\n",
              "      <td>1.21</td>\n",
              "      <td>00:00:00</td>\n",
              "      <td>00:05:27</td>\n",
              "      <td>172.0</td>\n",
              "      <td>190.0</td>\n",
              "      <td>NaN</td>\n",
              "      <td>NaN</td>\n",
              "    </tr>\n",
              "    <tr>\n",
              "      <th>1811</th>\n",
              "      <td>Running</td>\n",
              "      <td>2017-09-18 05:38:00</td>\n",
              "      <td>3.17</td>\n",
              "      <td>Lubbock Running</td>\n",
              "      <td>00:26:15</td>\n",
              "      <td>00:08:15.999999</td>\n",
              "      <td>385.0</td>\n",
              "      <td>26.0</td>\n",
              "      <td>17.0</td>\n",
              "      <td>1.14</td>\n",
              "      <td>00:00:00</td>\n",
              "      <td>00:05:36</td>\n",
              "      <td>170.0</td>\n",
              "      <td>198.0</td>\n",
              "      <td>NaN</td>\n",
              "      <td>NaN</td>\n",
              "    </tr>\n",
              "    <tr>\n",
              "      <th>1812</th>\n",
              "      <td>Running</td>\n",
              "      <td>2017-09-19 05:41:00</td>\n",
              "      <td>7.11</td>\n",
              "      <td>Lubbock Running</td>\n",
              "      <td>00:55:43</td>\n",
              "      <td>00:07:50</td>\n",
              "      <td>870.0</td>\n",
              "      <td>20.0</td>\n",
              "      <td>20.0</td>\n",
              "      <td>1.19</td>\n",
              "      <td>00:00:00</td>\n",
              "      <td>00:06:00</td>\n",
              "      <td>172.0</td>\n",
              "      <td>233.0</td>\n",
              "      <td>NaN</td>\n",
              "      <td>NaN</td>\n",
              "    </tr>\n",
              "    <tr>\n",
              "      <th>1813</th>\n",
              "      <td>Running</td>\n",
              "      <td>2017-09-20 05:50:00</td>\n",
              "      <td>6.21</td>\n",
              "      <td>Lubbock Running</td>\n",
              "      <td>00:47:05</td>\n",
              "      <td>00:07:34.999999</td>\n",
              "      <td>757.0</td>\n",
              "      <td>31.0</td>\n",
              "      <td>28.0</td>\n",
              "      <td>1.22</td>\n",
              "      <td>00:00:00</td>\n",
              "      <td>00:06:53</td>\n",
              "      <td>174.0</td>\n",
              "      <td>184.0</td>\n",
              "      <td>NaN</td>\n",
              "      <td>NaN</td>\n",
              "    </tr>\n",
              "    <tr>\n",
              "      <th>1814</th>\n",
              "      <td>Running</td>\n",
              "      <td>2017-09-21 05:48:00</td>\n",
              "      <td>6.04</td>\n",
              "      <td>Lubbock Running</td>\n",
              "      <td>00:47:01.999999</td>\n",
              "      <td>00:07:48</td>\n",
              "      <td>736.0</td>\n",
              "      <td>23.0</td>\n",
              "      <td>20.0</td>\n",
              "      <td>1.20</td>\n",
              "      <td>00:00:00</td>\n",
              "      <td>00:07:05.999999</td>\n",
              "      <td>172.0</td>\n",
              "      <td>179.0</td>\n",
              "      <td>NaN</td>\n",
              "      <td>NaN</td>\n",
              "    </tr>\n",
              "    <tr>\n",
              "      <th>1815</th>\n",
              "      <td>Running</td>\n",
              "      <td>2017-09-22 05:40:00</td>\n",
              "      <td>8.24</td>\n",
              "      <td>Lubbock Running</td>\n",
              "      <td>01:05:50</td>\n",
              "      <td>00:07:59</td>\n",
              "      <td>1004.0</td>\n",
              "      <td>48.0</td>\n",
              "      <td>46.0</td>\n",
              "      <td>1.17</td>\n",
              "      <td>00:00:00</td>\n",
              "      <td>00:05:23.999999</td>\n",
              "      <td>172.0</td>\n",
              "      <td>180.0</td>\n",
              "      <td>NaN</td>\n",
              "      <td>NaN</td>\n",
              "    </tr>\n",
              "    <tr>\n",
              "      <th>1816</th>\n",
              "      <td>Running</td>\n",
              "      <td>2017-09-23 05:45:00</td>\n",
              "      <td>3.18</td>\n",
              "      <td>Lubbock Running</td>\n",
              "      <td>00:25:37.999999</td>\n",
              "      <td>00:08:03.999999</td>\n",
              "      <td>385.0</td>\n",
              "      <td>26.0</td>\n",
              "      <td>17.0</td>\n",
              "      <td>1.17</td>\n",
              "      <td>00:00:00</td>\n",
              "      <td>00:07:18</td>\n",
              "      <td>171.0</td>\n",
              "      <td>182.0</td>\n",
              "      <td>NaN</td>\n",
              "      <td>NaN</td>\n",
              "    </tr>\n",
              "    <tr>\n",
              "      <th>1817</th>\n",
              "      <td>Running</td>\n",
              "      <td>2017-09-24 05:46:00</td>\n",
              "      <td>10.20</td>\n",
              "      <td>Lubbock Running</td>\n",
              "      <td>01:21:12.999999</td>\n",
              "      <td>00:07:58</td>\n",
              "      <td>1244.0</td>\n",
              "      <td>91.0</td>\n",
              "      <td>88.0</td>\n",
              "      <td>1.17</td>\n",
              "      <td>00:00:00</td>\n",
              "      <td>00:06:28</td>\n",
              "      <td>172.0</td>\n",
              "      <td>188.0</td>\n",
              "      <td>NaN</td>\n",
              "      <td>NaN</td>\n",
              "    </tr>\n",
              "    <tr>\n",
              "      <th>1818</th>\n",
              "      <td>Running</td>\n",
              "      <td>2017-09-25 05:55:00</td>\n",
              "      <td>3.22</td>\n",
              "      <td>Lubbock Running</td>\n",
              "      <td>00:25:11</td>\n",
              "      <td>00:07:48.999999</td>\n",
              "      <td>393.0</td>\n",
              "      <td>32.0</td>\n",
              "      <td>30.0</td>\n",
              "      <td>1.20</td>\n",
              "      <td>00:00:00</td>\n",
              "      <td>00:07:18.999999</td>\n",
              "      <td>172.0</td>\n",
              "      <td>178.0</td>\n",
              "      <td>NaN</td>\n",
              "      <td>NaN</td>\n",
              "    </tr>\n",
              "    <tr>\n",
              "      <th>1819</th>\n",
              "      <td>Running</td>\n",
              "      <td>2017-09-26 05:39:00</td>\n",
              "      <td>8.25</td>\n",
              "      <td>Lubbock Running</td>\n",
              "      <td>01:01:40.999999</td>\n",
              "      <td>00:07:28</td>\n",
              "      <td>1008.0</td>\n",
              "      <td>26.0</td>\n",
              "      <td>27.0</td>\n",
              "      <td>1.23</td>\n",
              "      <td>00:00:00</td>\n",
              "      <td>00:05:37.999999</td>\n",
              "      <td>176.0</td>\n",
              "      <td>188.0</td>\n",
              "      <td>NaN</td>\n",
              "      <td>NaN</td>\n",
              "    </tr>\n",
              "    <tr>\n",
              "      <th>1820</th>\n",
              "      <td>Running</td>\n",
              "      <td>2017-09-27 05:54:00</td>\n",
              "      <td>7.12</td>\n",
              "      <td>Lubbock Running</td>\n",
              "      <td>00:53:27</td>\n",
              "      <td>00:07:30</td>\n",
              "      <td>868.0</td>\n",
              "      <td>35.0</td>\n",
              "      <td>30.0</td>\n",
              "      <td>1.22</td>\n",
              "      <td>00:00:00</td>\n",
              "      <td>00:06:28</td>\n",
              "      <td>175.0</td>\n",
              "      <td>229.0</td>\n",
              "      <td>NaN</td>\n",
              "      <td>NaN</td>\n",
              "    </tr>\n",
              "    <tr>\n",
              "      <th>1821</th>\n",
              "      <td>Running</td>\n",
              "      <td>2017-09-28 05:55:00</td>\n",
              "      <td>8.07</td>\n",
              "      <td>Lubbock Running</td>\n",
              "      <td>01:00:17.999999</td>\n",
              "      <td>00:07:28</td>\n",
              "      <td>982.0</td>\n",
              "      <td>31.0</td>\n",
              "      <td>26.0</td>\n",
              "      <td>1.23</td>\n",
              "      <td>00:00:00</td>\n",
              "      <td>00:05:28</td>\n",
              "      <td>174.0</td>\n",
              "      <td>186.0</td>\n",
              "      <td>NaN</td>\n",
              "      <td>NaN</td>\n",
              "    </tr>\n",
              "    <tr>\n",
              "      <th>1822</th>\n",
              "      <td>Running</td>\n",
              "      <td>2017-09-29 05:48:00</td>\n",
              "      <td>7.22</td>\n",
              "      <td>Lubbock Running</td>\n",
              "      <td>00:53:08.999999</td>\n",
              "      <td>00:07:20.999999</td>\n",
              "      <td>884.0</td>\n",
              "      <td>29.0</td>\n",
              "      <td>28.0</td>\n",
              "      <td>1.25</td>\n",
              "      <td>00:00:00</td>\n",
              "      <td>00:05:51</td>\n",
              "      <td>175.0</td>\n",
              "      <td>194.0</td>\n",
              "      <td>NaN</td>\n",
              "      <td>NaN</td>\n",
              "    </tr>\n",
              "    <tr>\n",
              "      <th>1823</th>\n",
              "      <td>Running</td>\n",
              "      <td>2017-09-30 05:42:00</td>\n",
              "      <td>3.17</td>\n",
              "      <td>Lubbock Running</td>\n",
              "      <td>00:24:22.999999</td>\n",
              "      <td>00:07:41</td>\n",
              "      <td>387.0</td>\n",
              "      <td>22.0</td>\n",
              "      <td>14.0</td>\n",
              "      <td>1.21</td>\n",
              "      <td>00:00:00</td>\n",
              "      <td>00:07:13</td>\n",
              "      <td>173.0</td>\n",
              "      <td>182.0</td>\n",
              "      <td>NaN</td>\n",
              "      <td>NaN</td>\n",
              "    </tr>\n",
              "    <tr>\n",
              "      <th>1824</th>\n",
              "      <td>Running</td>\n",
              "      <td>2017-10-01 05:40:00</td>\n",
              "      <td>15.25</td>\n",
              "      <td>Lubbock Running</td>\n",
              "      <td>01:53:45.999999</td>\n",
              "      <td>00:07:28</td>\n",
              "      <td>1865.0</td>\n",
              "      <td>84.0</td>\n",
              "      <td>77.0</td>\n",
              "      <td>1.22</td>\n",
              "      <td>00:00:00</td>\n",
              "      <td>00:06:44</td>\n",
              "      <td>176.0</td>\n",
              "      <td>191.0</td>\n",
              "      <td>NaN</td>\n",
              "      <td>NaN</td>\n",
              "    </tr>\n",
              "  </tbody>\n",
              "</table>\n",
              "</div>"
            ],
            "text/plain": [
              "     Activity Type            Datetime  ...  Number of Laps raw_note\n",
              "1800       Running 2017-09-07 05:41:00  ...             NaN      NaN\n",
              "1801       Running 2017-09-07 09:00:00  ...             NaN      NaN\n",
              "1802       Running 2017-09-08 05:36:00  ...             NaN      NaN\n",
              "1803       Running 2017-09-09 05:53:00  ...             NaN      NaN\n",
              "1804       Running 2017-09-11 05:37:00  ...             NaN      NaN\n",
              "1805       Running 2017-09-12 05:37:00  ...             NaN      NaN\n",
              "1806       Running 2017-09-13 05:42:00  ...             NaN      NaN\n",
              "1807       Running 2017-09-14 05:45:00  ...             NaN      NaN\n",
              "1808       Running 2017-09-15 05:39:00  ...             NaN      NaN\n",
              "1809       Running 2017-09-16 05:46:00  ...             NaN      NaN\n",
              "1810       Running 2017-09-17 05:52:00  ...             NaN      NaN\n",
              "1811       Running 2017-09-18 05:38:00  ...             NaN      NaN\n",
              "1812       Running 2017-09-19 05:41:00  ...             NaN      NaN\n",
              "1813       Running 2017-09-20 05:50:00  ...             NaN      NaN\n",
              "1814       Running 2017-09-21 05:48:00  ...             NaN      NaN\n",
              "1815       Running 2017-09-22 05:40:00  ...             NaN      NaN\n",
              "1816       Running 2017-09-23 05:45:00  ...             NaN      NaN\n",
              "1817       Running 2017-09-24 05:46:00  ...             NaN      NaN\n",
              "1818       Running 2017-09-25 05:55:00  ...             NaN      NaN\n",
              "1819       Running 2017-09-26 05:39:00  ...             NaN      NaN\n",
              "1820       Running 2017-09-27 05:54:00  ...             NaN      NaN\n",
              "1821       Running 2017-09-28 05:55:00  ...             NaN      NaN\n",
              "1822       Running 2017-09-29 05:48:00  ...             NaN      NaN\n",
              "1823       Running 2017-09-30 05:42:00  ...             NaN      NaN\n",
              "1824       Running 2017-10-01 05:40:00  ...             NaN      NaN\n",
              "\n",
              "[25 rows x 16 columns]"
            ]
          },
          "metadata": {
            "tags": []
          },
          "execution_count": 286
        }
      ]
    },
    {
      "cell_type": "code",
      "metadata": {
        "id": "GJS03kHmSbVC",
        "outputId": "a4bb8735-c242-44d6-9cdf-5ca192e456f0",
        "colab": {
          "base_uri": "https://localhost:8080/"
        }
      },
      "source": [
        "# running_log[running_log.Datetime == '2018-01-28 06:59:00']\n",
        "running_log.iloc[-1,1] - running_log.loc[1822,'Datetime']\n"
      ],
      "execution_count": 283,
      "outputs": [
        {
          "output_type": "execute_result",
          "data": {
            "text/plain": [
              "Timedelta('1018 days 23:29:00')"
            ]
          },
          "metadata": {
            "tags": []
          },
          "execution_count": 283
        }
      ]
    },
    {
      "cell_type": "code",
      "metadata": {
        "id": "237An39J7zca",
        "outputId": "db983fa8-a7fd-4151-ec38-7a66fbc9a56b",
        "colab": {
          "base_uri": "https://localhost:8080/"
        }
      },
      "source": [
        "running_log.loc[1939,'Datetime']"
      ],
      "execution_count": 244,
      "outputs": [
        {
          "output_type": "execute_result",
          "data": {
            "text/plain": [
              "Timestamp('2018-01-14 05:42:00')"
            ]
          },
          "metadata": {
            "tags": []
          },
          "execution_count": 244
        }
      ]
    },
    {
      "cell_type": "code",
      "metadata": {
        "id": "US9il9-giPEc"
      },
      "source": [
        "running_log= running_log.sort_values(by='Datetime')"
      ],
      "execution_count": 275,
      "outputs": []
    },
    {
      "cell_type": "code",
      "metadata": {
        "id": "qv7sVkQSPDgb"
      },
      "source": [
        "# need to check to make sure I am not missing any more days, I need to figure out how to know if an entire day has passed. and go back to the day that may be the problem. "
      ],
      "execution_count": null,
      "outputs": []
    },
    {
      "cell_type": "code",
      "metadata": {
        "id": "JmbqFbClOMIv",
        "outputId": "84054369-d85c-4c07-b06b-81f14084f20a",
        "colab": {
          "base_uri": "https://localhost:8080/"
        }
      },
      "source": [
        "largest, streaks, gaps, check = streak_finder_fx(running_log, 'Datetime')\n",
        "largest"
      ],
      "execution_count": 288,
      "outputs": [
        {
          "output_type": "execute_result",
          "data": {
            "text/plain": [
              "[480, Timestamp('2019-05-28 04:34:00'), Timestamp('2020-07-14 05:17:00')]"
            ]
          },
          "metadata": {
            "tags": []
          },
          "execution_count": 288
        }
      ]
    },
    {
      "cell_type": "code",
      "metadata": {
        "id": "kJ6aBzvfjQR1",
        "outputId": "7ea3291f-c6e0-4118-bc19-b56d6273b88a",
        "colab": {
          "base_uri": "https://localhost:8080/"
        }
      },
      "source": [
        "streaks"
      ],
      "execution_count": 277,
      "outputs": [
        {
          "output_type": "execute_result",
          "data": {
            "text/plain": [
              "[0,\n",
              " 5,\n",
              " 5,\n",
              " 5,\n",
              " 4,\n",
              " 0,\n",
              " 6,\n",
              " 5,\n",
              " 5,\n",
              " 5,\n",
              " 5,\n",
              " 4,\n",
              " 5,\n",
              " 5,\n",
              " 3,\n",
              " 0,\n",
              " 5,\n",
              " 11,\n",
              " 4,\n",
              " 5,\n",
              " 4,\n",
              " 3,\n",
              " 2,\n",
              " 4,\n",
              " 4,\n",
              " 2,\n",
              " 0,\n",
              " 3,\n",
              " 0,\n",
              " 0,\n",
              " 4,\n",
              " 0,\n",
              " 4,\n",
              " 4,\n",
              " 2,\n",
              " 2,\n",
              " 0,\n",
              " 4,\n",
              " 1,\n",
              " 1,\n",
              " 2,\n",
              " 0,\n",
              " 3,\n",
              " 0,\n",
              " 3,\n",
              " 2,\n",
              " 2,\n",
              " 4,\n",
              " 1,\n",
              " 0,\n",
              " 4,\n",
              " 0,\n",
              " 5,\n",
              " 0,\n",
              " 1,\n",
              " 0,\n",
              " 4,\n",
              " 2,\n",
              " 2,\n",
              " 0,\n",
              " 5,\n",
              " 3,\n",
              " 2,\n",
              " 0,\n",
              " 0,\n",
              " 5,\n",
              " 0,\n",
              " 3,\n",
              " 6,\n",
              " 5,\n",
              " 4,\n",
              " 6,\n",
              " 4,\n",
              " 5,\n",
              " 3,\n",
              " 0,\n",
              " 3,\n",
              " 0,\n",
              " 12,\n",
              " 4,\n",
              " 5,\n",
              " 5,\n",
              " 5,\n",
              " 1,\n",
              " 2,\n",
              " 5,\n",
              " 5,\n",
              " 4,\n",
              " 4,\n",
              " 5,\n",
              " 5,\n",
              " 5,\n",
              " 5,\n",
              " 5,\n",
              " 5,\n",
              " 1,\n",
              " 3,\n",
              " 7,\n",
              " 4,\n",
              " 5,\n",
              " 3,\n",
              " 6,\n",
              " 5,\n",
              " 2,\n",
              " 7,\n",
              " 5,\n",
              " 5,\n",
              " 2,\n",
              " 4,\n",
              " 1,\n",
              " 7,\n",
              " 0,\n",
              " 5,\n",
              " 5,\n",
              " 5,\n",
              " 5,\n",
              " 1,\n",
              " 0,\n",
              " 5,\n",
              " 5,\n",
              " 5,\n",
              " 5,\n",
              " 12,\n",
              " 5,\n",
              " 5,\n",
              " 5,\n",
              " 5,\n",
              " 5,\n",
              " 12,\n",
              " 5,\n",
              " 6,\n",
              " 5,\n",
              " 3,\n",
              " 0,\n",
              " 5,\n",
              " 5,\n",
              " 0,\n",
              " 1,\n",
              " 5,\n",
              " 5,\n",
              " 5,\n",
              " 3,\n",
              " 3,\n",
              " 0,\n",
              " 5,\n",
              " 0,\n",
              " 3,\n",
              " 5,\n",
              " 5,\n",
              " 2,\n",
              " 7,\n",
              " 5,\n",
              " 5,\n",
              " 4,\n",
              " 5,\n",
              " 5,\n",
              " 5,\n",
              " 5,\n",
              " 5,\n",
              " 6,\n",
              " 6,\n",
              " 5,\n",
              " 5,\n",
              " 4,\n",
              " 5,\n",
              " 12,\n",
              " 5,\n",
              " 5,\n",
              " 5,\n",
              " 5,\n",
              " 5,\n",
              " 5,\n",
              " 6,\n",
              " 4,\n",
              " 6,\n",
              " 3,\n",
              " 6,\n",
              " 4,\n",
              " 5,\n",
              " 7,\n",
              " 1,\n",
              " 4,\n",
              " 6,\n",
              " 4,\n",
              " 5,\n",
              " 12,\n",
              " 21,\n",
              " 3,\n",
              " 2,\n",
              " 16,\n",
              " 3,\n",
              " 6,\n",
              " 28,\n",
              " 11,\n",
              " 8,\n",
              " 9,\n",
              " 7,\n",
              " 9,\n",
              " 12,\n",
              " 2,\n",
              " 14,\n",
              " 13,\n",
              " 2,\n",
              " 8,\n",
              " 19,\n",
              " 2,\n",
              " 11,\n",
              " 4,\n",
              " 10,\n",
              " 14,\n",
              " 10,\n",
              " 4,\n",
              " 7,\n",
              " 5,\n",
              " 2,\n",
              " 4,\n",
              " 10,\n",
              " 2,\n",
              " 7,\n",
              " 11,\n",
              " 37,\n",
              " 5,\n",
              " 4,\n",
              " 5,\n",
              " 7,\n",
              " 4,\n",
              " 11,\n",
              " 18,\n",
              " 10,\n",
              " 3,\n",
              " 9,\n",
              " 0,\n",
              " 3,\n",
              " 0,\n",
              " 2,\n",
              " 6,\n",
              " 8,\n",
              " 10,\n",
              " 3,\n",
              " 9,\n",
              " 0,\n",
              " 0,\n",
              " 0,\n",
              " 0,\n",
              " 14,\n",
              " 1,\n",
              " 0,\n",
              " 0,\n",
              " 0,\n",
              " 0,\n",
              " 0,\n",
              " 16,\n",
              " 23,\n",
              " 2,\n",
              " 22,\n",
              " 5,\n",
              " 11,\n",
              " 3,\n",
              " 5,\n",
              " 7,\n",
              " 5,\n",
              " 5,\n",
              " 10,\n",
              " 15,\n",
              " 1,\n",
              " 0,\n",
              " 2,\n",
              " 2,\n",
              " 1,\n",
              " 0,\n",
              " 5,\n",
              " 6,\n",
              " 5,\n",
              " 7,\n",
              " 8,\n",
              " 5,\n",
              " 4,\n",
              " 5,\n",
              " 4,\n",
              " 5,\n",
              " 5,\n",
              " 5,\n",
              " 21,\n",
              " 5]"
            ]
          },
          "metadata": {
            "tags": []
          },
          "execution_count": 277
        }
      ]
    },
    {
      "cell_type": "code",
      "metadata": {
        "id": "KVGjuFk8PqpR",
        "outputId": "dc7aa056-2328-485e-b70f-fdf675fe744f",
        "colab": {
          "base_uri": "https://localhost:8080/",
          "height": 1000
        }
      },
      "source": [
        "gaps"
      ],
      "execution_count": null,
      "outputs": [
        {
          "output_type": "execute_result",
          "data": {
            "text/plain": [
              "[23,\n",
              " 2,\n",
              " 2,\n",
              " 2,\n",
              " 6,\n",
              " 3,\n",
              " 2,\n",
              " 2,\n",
              " 2,\n",
              " 2,\n",
              " 2,\n",
              " 3,\n",
              " 2,\n",
              " 2,\n",
              " 2,\n",
              " 2,\n",
              " 2,\n",
              " 3,\n",
              " 3,\n",
              " 2,\n",
              " 11,\n",
              " 3,\n",
              " 5,\n",
              " 3,\n",
              " 3,\n",
              " 2,\n",
              " 3,\n",
              " 5,\n",
              " 4,\n",
              " 2,\n",
              " 3,\n",
              " 7,\n",
              " 3,\n",
              " 5,\n",
              " 3,\n",
              " 2,\n",
              " 3,\n",
              " 3,\n",
              " 2,\n",
              " 3,\n",
              " 3,\n",
              " 2,\n",
              " 4,\n",
              " 14,\n",
              " 4,\n",
              " 13,\n",
              " 4,\n",
              " 3,\n",
              " 2,\n",
              " 3,\n",
              " 2,\n",
              " 2,\n",
              " 2,\n",
              " 2,\n",
              " 2,\n",
              " 3,\n",
              " 3,\n",
              " 4,\n",
              " 3,\n",
              " 2,\n",
              " 2,\n",
              " 4,\n",
              " 2,\n",
              " 3,\n",
              " 13,\n",
              " 2,\n",
              " 2,\n",
              " 2,\n",
              " 2,\n",
              " 2,\n",
              " 2,\n",
              " 3,\n",
              " 2,\n",
              " 2,\n",
              " 2,\n",
              " 2,\n",
              " 2,\n",
              " 2,\n",
              " 2,\n",
              " 3,\n",
              " 2,\n",
              " 9,\n",
              " 2,\n",
              " 2,\n",
              " 2,\n",
              " 2,\n",
              " 2,\n",
              " 3,\n",
              " 3,\n",
              " 2,\n",
              " 2,\n",
              " 2,\n",
              " 2,\n",
              " 2,\n",
              " 6,\n",
              " 2,\n",
              " 2,\n",
              " 2,\n",
              " 3,\n",
              " 2,\n",
              " 2,\n",
              " 3,\n",
              " 3,\n",
              " 2,\n",
              " 2,\n",
              " 2,\n",
              " 10,\n",
              " 4,\n",
              " 3,\n",
              " 4,\n",
              " 2,\n",
              " 7,\n",
              " 2,\n",
              " 2,\n",
              " 2,\n",
              " 2,\n",
              " 10,\n",
              " 3,\n",
              " 2,\n",
              " 2,\n",
              " 2,\n",
              " 2,\n",
              " 2,\n",
              " 2,\n",
              " 2,\n",
              " 2,\n",
              " 2,\n",
              " 2,\n",
              " 2,\n",
              " 2,\n",
              " 8,\n",
              " 2,\n",
              " 4,\n",
              " 7,\n",
              " 2,\n",
              " 2,\n",
              " 4,\n",
              " 2,\n",
              " 2,\n",
              " 2,\n",
              " 2,\n",
              " 5,\n",
              " 4,\n",
              " 6,\n",
              " 2,\n",
              " 2,\n",
              " 2,\n",
              " 2,\n",
              " 2,\n",
              " 2,\n",
              " 3,\n",
              " 2,\n",
              " 2,\n",
              " 3,\n",
              " 2,\n",
              " 2,\n",
              " 2,\n",
              " 2,\n",
              " 2,\n",
              " 21,\n",
              " 2,\n",
              " 2,\n",
              " 2,\n",
              " 3,\n",
              " 2,\n",
              " 2,\n",
              " 2,\n",
              " 2,\n",
              " 2,\n",
              " 2,\n",
              " 2,\n",
              " 2,\n",
              " 2,\n",
              " 2,\n",
              " 3,\n",
              " 2,\n",
              " 2,\n",
              " 2,\n",
              " 2,\n",
              " 12,\n",
              " 2,\n",
              " 2,\n",
              " 2,\n",
              " 2,\n",
              " 2,\n",
              " 2,\n",
              " 3,\n",
              " 7,\n",
              " 2,\n",
              " 2,\n",
              " 2,\n",
              " 14,\n",
              " 2,\n",
              " 2,\n",
              " 2,\n",
              " 2,\n",
              " 2,\n",
              " 2,\n",
              " 2,\n",
              " 2,\n",
              " 2,\n",
              " 2,\n",
              " 2,\n",
              " 2,\n",
              " 2,\n",
              " 2,\n",
              " 14,\n",
              " 3,\n",
              " 2,\n",
              " 2,\n",
              " 2,\n",
              " 2,\n",
              " 2,\n",
              " 2,\n",
              " 2,\n",
              " 2,\n",
              " 2,\n",
              " 3,\n",
              " 3,\n",
              " 41,\n",
              " 2,\n",
              " 2,\n",
              " 2,\n",
              " 2,\n",
              " 2,\n",
              " 3,\n",
              " 2,\n",
              " 2,\n",
              " 2,\n",
              " 2,\n",
              " 3,\n",
              " 2,\n",
              " 2,\n",
              " 2,\n",
              " 2,\n",
              " 2,\n",
              " 2,\n",
              " 3,\n",
              " 3,\n",
              " 4,\n",
              " 157,\n",
              " 3,\n",
              " 2,\n",
              " 2,\n",
              " 3,\n",
              " 2,\n",
              " 23,\n",
              " 2,\n",
              " 2,\n",
              " 3,\n",
              " 2,\n",
              " 2,\n",
              " 2,\n",
              " 2,\n",
              " 2,\n",
              " 2,\n",
              " 2,\n",
              " 3,\n",
              " 2,\n",
              " 3,\n",
              " 2,\n",
              " 2,\n",
              " 2,\n",
              " 2,\n",
              " 2,\n",
              " 2,\n",
              " 2,\n",
              " 2,\n",
              " 2,\n",
              " 3,\n",
              " 14,\n",
              " 2,\n",
              " 2,\n",
              " 2,\n",
              " 2,\n",
              " 2,\n",
              " 2,\n",
              " 2,\n",
              " 2,\n",
              " 2,\n",
              " 2,\n",
              " 2,\n",
              " 6,\n",
              " 2,\n",
              " 4,\n",
              " 2,\n",
              " 2]"
            ]
          },
          "metadata": {
            "tags": []
          },
          "execution_count": 186
        }
      ]
    },
    {
      "cell_type": "markdown",
      "metadata": {
        "id": "FGvjA0qTEx4B"
      },
      "source": [
        "## Biking"
      ]
    },
    {
      "cell_type": "code",
      "metadata": {
        "id": "1gSC_FM9Ez1V",
        "outputId": "9332a883-6cbc-448f-eb24-a0a8820cdebf",
        "colab": {
          "base_uri": "https://localhost:8080/",
          "height": 35
        }
      },
      "source": [
        "155+812+24+72"
      ],
      "execution_count": null,
      "outputs": [
        {
          "output_type": "execute_result",
          "data": {
            "text/plain": [
              "1063"
            ]
          },
          "metadata": {
            "tags": []
          },
          "execution_count": 209
        }
      ]
    },
    {
      "cell_type": "markdown",
      "metadata": {
        "id": "ziqygj1PEzPr"
      },
      "source": [
        "## "
      ]
    },
    {
      "cell_type": "markdown",
      "metadata": {
        "id": "zD4-7MLVdezO"
      },
      "source": [
        "## Visualizations"
      ]
    },
    {
      "cell_type": "code",
      "metadata": {
        "id": "uK0ytVdhpnfO"
      },
      "source": [
        "activity_log2 = activity_log2.set_index('Datetime')"
      ],
      "execution_count": null,
      "outputs": []
    },
    {
      "cell_type": "code",
      "metadata": {
        "id": "nQGVzrfDdloG",
        "outputId": "69b8263b-d597-4709-bd1a-5a3eab716634",
        "colab": {
          "base_uri": "https://localhost:8080/",
          "height": 1000
        }
      },
      "source": [
        "monthavg = []\n",
        "monthsem = []\n",
        "monthstd = []\n",
        "for i in range(1,13):\n",
        "    monthavg.append(np.mean(activity_log2['Distance(mi)'][activity_log2.index.month == i]))\n",
        "    monthsem.append(stats.sem(activity_log2['Distance(mi)'][activity_log2.index.month == i]))\n",
        "    monthstd.append(np.std(activity_log2['Distance(mi)'][activity_log2.index.month == i]))\n",
        "    \n",
        "fig, ax = plt.subplots()\n",
        "ax.bar(activity_log2.index.month.unique(), monthavg, yerr = monthsem, alpha=0.5, ecolor='black', capsize=10)\n",
        "ax.set_title('Average Daily Running Mileage Monthly from 2010 to 2020')\n",
        "ax.set_xlabel('Month')\n",
        "ax.set_ylabel('Distance (mi)')\n",
        "plt.tight_layout()\n",
        "plt.show()"
      ],
      "execution_count": null,
      "outputs": [
        {
          "output_type": "display_data",
          "data": {
            "image/png": "[encoded data removed]",
            "text/plain": [
              "<Figure size 1440x1440 with 1 Axes>"
            ]
          },
          "metadata": {
            "tags": [],
            "needs_background": "light"
          }
        }
      ]
    },
    {
      "cell_type": "code",
      "metadata": {
        "id": "TcZmU77vrVrh",
        "outputId": "d039a666-836b-4282-de24-4f8c1f24bed9",
        "colab": {
          "base_uri": "https://localhost:8080/",
          "height": 1000
        }
      },
      "source": [
        "monthavg = []\n",
        "monthsem = []\n",
        "monthstd = []\n",
        "for i in range(1,13):\n",
        "    monthavg.append(np.sum(activity_log2['Distance(mi)'][activity_log2.index.month == i]))\n",
        "    monthsem.append(stats.sem(activity_log2['Distance(mi)'][activity_log2.index.month == i]))\n",
        "    monthstd.append(np.std(activity_log2['Distance(mi)'][activity_log2.index.month == i]))\n",
        "fig, ax = plt.subplots()\n",
        "ax.bar(activity_log2.index.month.unique(), monthavg, yerr = monthsem, alpha=0.8, ecolor='black', capsize=45)\n",
        "ax.set_title('Total Running Mileage per Month from 2010 to 2020')\n",
        "ax.set_xlabel('Month')\n",
        "ax.set_ylabel('Distance (mi)')\n",
        "plt.tight_layout()\n",
        "plt.show()"
      ],
      "execution_count": null,
      "outputs": [
        {
          "output_type": "stream",
          "text": [
            "[3194.288, 2920.146, 2982.8599999999997, 2281.23, 3501.339, 3512.1859999999997, 2900.6361851851852, 3492.5310000000004, 3249.775, 3569.9640000000004, 2443.517, 3411.938]\n"
          ],
          "name": "stdout"
        },
        {
          "output_type": "display_data",
          "data": {
            "image/png": "[encoded data removed]",
            "text/plain": [
              "<Figure size 1440x1440 with 1 Axes>"
            ]
          },
          "metadata": {
            "tags": [],
            "needs_background": "light"
          }
        }
      ]
    },
    {
      "cell_type": "code",
      "metadata": {
        "id": "Z5t4ZMosuPkI"
      },
      "source": [
        "activity_yearavg = activity_log2.resample('Y').sum()"
      ],
      "execution_count": null,
      "outputs": []
    },
    {
      "cell_type": "code",
      "metadata": {
        "id": "aho4hQ_XuEHG",
        "outputId": "1d45d46a-0ac9-4408-e32a-b941148d5898",
        "colab": {
          "base_uri": "https://localhost:8080/",
          "height": 676
        }
      },
      "source": [
        "def yearlyavgfigs(df, loc, **keyword_parameters):\n",
        "    ''' this function takes in a dataframe and a location (column) and displays the average yearly rainfall \n",
        "    for each location. Only can take up to 2 locations\n",
        "    '''\n",
        "    plt.figure(figsize = (400/50, 400/50),dpi=96)\n",
        "    if len(loc) == 1:\n",
        "        if ('color' in keyword_parameters):\n",
        "            plt.plot(df.index.year, df[loc[0]], keyword_parameters['color'], marker='o')\n",
        "        else:\n",
        "            plt.plot(df.index.year, df[loc[0]], marker='o')\n",
        "        plt.title('Total Distance per year')\n",
        "    else:\n",
        "        plt.plot(df.index.year, df[loc[0]])\n",
        "        plt.plot(df.index.year, df[loc[1]])\n",
        "        plt.title(\"\\n\".join(wrap('Average Yearly Rainfall in ' + loc[0] + '-' + loc[1] + ' from 1980 to 2019', \n",
        "                                 60)))\n",
        "    plt.xlabel('Year')\n",
        "    plt.ylabel('Distance (mi)')\n",
        "    plt.show()\n",
        "yearlyavgfigs(activity_yearavg, ['Distance(mi)'])"
      ],
      "execution_count": null,
      "outputs": [
        {
          "output_type": "display_data",
          "data": {
            "image/png": "[encoded data removed]",
            "text/plain": [
              "<Figure size 768x768 with 1 Axes>"
            ]
          },
          "metadata": {
            "tags": [],
            "needs_background": "light"
          }
        }
      ]
    },
    {
      "cell_type": "code",
      "metadata": {
        "id": "s-FCBliix6Uv"
      },
      "source": [
        "activity_month_avg = activity_log2.resample('M').sum()\n",
        "plt.plot(activity_month_avg.index.month, activity_month_avg['Distance(mi)'],marker='o')\n",
        "plt.title('Monthly Distance (mi)')\n",
        "plt.xlabel('Month')\n",
        "plt.ylabel('Distance (mi)')\n",
        "plt.show()"
      ],
      "execution_count": null,
      "outputs": []
    },
    {
      "cell_type": "markdown",
      "metadata": {
        "id": "QJm5VWDkrjrH"
      },
      "source": [
        "# Future Garmin Data Web Scraping"
      ]
    },
    {
      "cell_type": "code",
      "metadata": {
        "id": "88vIYTX3LnEM",
        "outputId": "e6af5adf-aefb-4d42-a644-3fbaed9ff373",
        "colab": {
          "base_uri": "https://localhost:8080/",
          "height": 108
        }
      },
      "source": [
        "!pip install requests"
      ],
      "execution_count": null,
      "outputs": [
        {
          "output_type": "stream",
          "text": [
            "Requirement already satisfied: requests in /usr/local/lib/python3.6/dist-packages (2.23.0)\n",
            "Requirement already satisfied: chardet<4,>=3.0.2 in /usr/local/lib/python3.6/dist-packages (from requests) (3.0.4)\n",
            "Requirement already satisfied: idna<3,>=2.5 in /usr/local/lib/python3.6/dist-packages (from requests) (2.9)\n",
            "Requirement already satisfied: urllib3!=1.25.0,!=1.25.1,<1.26,>=1.21.1 in /usr/local/lib/python3.6/dist-packages (from requests) (1.24.3)\n",
            "Requirement already satisfied: certifi>=2017.4.17 in /usr/local/lib/python3.6/dist-packages (from requests) (2020.4.5.1)\n"
          ],
          "name": "stdout"
        }
      ]
    },
    {
      "cell_type": "code",
      "metadata": {
        "id": "uVLheGv2LnER",
        "outputId": "29e56a9e-2341-4105-89c6-da4d3273b94a",
        "colab": {
          "base_uri": "https://localhost:8080/",
          "height": 35
        }
      },
      "source": [
        "!pip install beautifulsoup4"
      ],
      "execution_count": null,
      "outputs": [
        {
          "output_type": "stream",
          "text": [
            "Requirement already satisfied: beautifulsoup4 in /usr/local/lib/python3.6/dist-packages (4.6.3)\n"
          ],
          "name": "stdout"
        }
      ]
    },
    {
      "cell_type": "code",
      "metadata": {
        "id": "MNd4cMCqLnEU"
      },
      "source": [
        "import numpy as np\n",
        "import pandas as pd\n",
        "import requests\n",
        "import bs4\n",
        "import lxml.etree as xml"
      ],
      "execution_count": null,
      "outputs": []
    },
    {
      "cell_type": "code",
      "metadata": {
        "id": "UB9DyMyjEzje",
        "outputId": "9df59836-b2b5-4016-e794-99a4ce2d6f6f",
        "colab": {
          "base_uri": "https://localhost:8080/",
          "height": 35
        }
      },
      "source": [
        "URL = \"https://connect.garmin.com/modern/activities\"\n",
        "\n",
        "requests.get(URL)"
      ],
      "execution_count": null,
      "outputs": [
        {
          "output_type": "execute_result",
          "data": {
            "text/plain": [
              "<Response [200]>"
            ]
          },
          "metadata": {
            "tags": []
          },
          "execution_count": 2
        }
      ]
    },
    {
      "cell_type": "code",
      "metadata": {
        "id": "0zkLfMkhW0J4"
      },
      "source": [
        "requests.get(URL, {}).text"
      ],
      "execution_count": null,
      "outputs": []
    },
    {
      "cell_type": "code",
      "metadata": {
        "id": "gBlzUqJyXJa8"
      },
      "source": [
        "web_page = bs4.BeautifulSoup(requests.get(URL, {}).text, \"lxml\")"
      ],
      "execution_count": null,
      "outputs": []
    },
    {
      "cell_type": "code",
      "metadata": {
        "id": "Ada8DmbgXPeP"
      },
      "source": [
        "web_page"
      ],
      "execution_count": null,
      "outputs": []
    },
    {
      "cell_type": "code",
      "metadata": {
        "id": "T6XFqcZTXRrA",
        "outputId": "231f09c5-7639-445a-b3f6-74e2f4828a6e",
        "colab": {
          "base_uri": "https://localhost:8080/",
          "height": 35
        }
      },
      "source": [
        "web_page.head.title"
      ],
      "execution_count": null,
      "outputs": [
        {
          "output_type": "execute_result",
          "data": {
            "text/plain": [
              "<title data-react-helmet=\"true\">Garmin Connect | </title>"
            ]
          },
          "metadata": {
            "tags": []
          },
          "execution_count": 6
        }
      ]
    },
    {
      "cell_type": "code",
      "metadata": {
        "id": "jhi2GbPtXru8",
        "outputId": "ae12b364-2943-4ea2-a9fe-46366de544e8",
        "colab": {
          "base_uri": "https://localhost:8080/",
          "height": 55
        }
      },
      "source": [
        "web_page.body"
      ],
      "execution_count": null,
      "outputs": [
        {
          "output_type": "execute_result",
          "data": {
            "text/plain": [
              "<body><noscript id=\"gatsby-noscript\">This app works best with JavaScript enabled.</noscript><div id=\"___gatsby\"><div role=\"group\" style=\"outline:none\" tabindex=\"-1\"><div><header class=\"c017\"><h1 class=\"c0116 c0118\"><a class=\"c018\" href=\"/\" title=\"Connect\"></a></h1><div class=\"c0114\"></div></header><main class=\"c014 c016\"><div class=\"c013\"><div class=\"c011\"><div class=\"c012\" id=\"gauth-widget\"><noscript>To sign in to your Garmin account, please enable JavaScript in your web browser.</noscript></div></div><div id=\"loginGauth\"></div></div></main><footer class=\"c0123\"><div></div><div class=\"c0132\"><span class=\"c0129 c0133\"><a href=\"https://www.instagram.com/garminfitness/\" title=\"Instagram\"></a></span><span class=\"c0130 c0134\"><a href=\"https://www.facebook.com/garminfit\" title=\"Facebook\"></a></span><span class=\"c0131 c0135\"><a href=\"https://twitter.com/garminfitness\" title=\"Twitter\"></a></span></div><div id=\"consent\"></div></footer></div></div></div><script id=\"gatsby-script-loader\">/*<![CDATA[*/window.page={\"componentChunkName\":\"component---src-pages-signin-js\",\"jsonName\":\"signin-59f\",\"path\":\"/signin/\"};window.dataPath=\"731/path---signin-59-f-ae5-0SUcWyAf8ecbYDsMhQkEfPzV8\";/*]]>*/</script><script id=\"gatsby-chunk-mapping\">/*<![CDATA[*/window.___chunkMapping={\"app\":[\"/app-f70ac04d1f56b78f3931.js\"],\"component---src-pages-404-js\":[\"/component---src-pages-404-js-841e84ff797503ac048a.js\"],\"component---src-pages-features-coach-js\":[\"/component---src-pages-features-coach-js-29876275865a0a2c7c1a.js\"],\"component---src-pages-features-index-js\":[\"/component---src-pages-features-index-js-4d4a82516cad02ced3d8.js\"],\"component---src-pages-features-menstrual-cycle-tracking-js\":[\"/component---src-pages-features-menstrual-cycle-tracking-js-f82b6a996c090a06f4e6.js\"],\"component---src-pages-index-js\":[\"/component---src-pages-index-js-63d08c00a3a5730e5622.js\"],\"component---src-pages-signin-js\":[\"/component---src-pages-signin-js-2cbe8560a833724ca935.js\"],\"component---src-pages-start-index-scale-express-js\":[\"/component---src-pages-start-index-scale-express-js-4191a33b757912674795.js\"],\"component---src-pages-start-index-scale-help-js\":[\"/component---src-pages-start-index-scale-help-js-fa0de611ea120d0cf195.js\"],\"component---src-pages-start-index-scale-index-js\":[\"/component---src-pages-start-index-scale-index-js-7ac8a52212a94db2fab4.js\"],\"component---src-pages-start-index-scale-mobile-js\":[\"/component---src-pages-start-index-scale-mobile-js-825c52b5de34c7e3fc6b.js\"],\"component---src-pages-start-index-scale-wps-js\":[\"/component---src-pages-start-index-scale-wps-js-bd933d60ca0bc42292a4.js\"],\"component---src-pages-start-index-js\":[\"/component---src-pages-start-index-js-d3a69576ea9d5117784e.js\"],\"component---src-pages-start-quickdraw-legal-js\":[\"/component---src-pages-start-quickdraw-legal-js-cf2da0e15e8af7e20d6c.js\"],\"component---src-pages-start-quickdraw-js\":[\"/component---src-pages-start-quickdraw-js-b1a8e022d6e90bebe5c0.js\"],\"component---src-pages-start-vivoki-js\":[\"/component---src-pages-start-vivoki-js-2fee9b53b1a7130bc857.js\"],\"component---src-pages-status-js\":[\"/component---src-pages-status-js-77f076abb7dc3adf65b2.js\"],\"component---src-pages-support-js\":[\"/component---src-pages-support-js-28338b5a6bf95bb7f96d.js\"],\"pages-manifest\":[\"/pages-manifest-30001a9f1ccc5a08342f.js\"]};/*]]>*/</script><script async=\"\" src=\"/webpack-runtime-726429aeeebf792fa865.js\"></script><script async=\"\" src=\"/styles-7f4ad17eaa2f84285347.js\"></script><script async=\"\" src=\"/app-f70ac04d1f56b78f3931.js\"></script><script async=\"\" src=\"/0-1b57d2d469aaeb0d9220.js\"></script><script async=\"\" src=\"/1-ce2bc733156e4b92652d.js\"></script><script async=\"\" src=\"/component---src-pages-signin-js-2cbe8560a833724ca935.js\"></script></body>"
            ]
          },
          "metadata": {
            "tags": []
          },
          "execution_count": 7
        }
      ]
    },
    {
      "cell_type": "code",
      "metadata": {
        "id": "fgd5ierMX5ID"
      },
      "source": [
        "sub_webpage = web_page.find_all(name=\"li\") #, attrs={'class': 'list-item animated row-fluid'}"
      ],
      "execution_count": null,
      "outputs": []
    },
    {
      "cell_type": "code",
      "metadata": {
        "id": "_ZiJDnk9xbfC",
        "outputId": "b92dceb8-db5c-4b00-f1fc-87323b4cbe17",
        "colab": {
          "base_uri": "https://localhost:8080/",
          "height": 35
        }
      },
      "source": [
        "sub_webpage"
      ],
      "execution_count": null,
      "outputs": [
        {
          "output_type": "execute_result",
          "data": {
            "text/plain": [
              "[]"
            ]
          },
          "metadata": {
            "tags": []
          },
          "execution_count": 11
        }
      ]
    },
    {
      "cell_type": "markdown",
      "metadata": {
        "id": "B42OoWzC98-V"
      },
      "source": [
        "I would like to make searchable notes that I could go through with links to exercises for injuries and such. It would be really useful to be able to have the types of injuries that I have gone through before and be able to just immediately have the stretches and such that worked. Then I can the next time find out how that went and then adjust based upon the previous injury timeline and see what works best for recovery for me. "
      ]
    },
    {
      "cell_type": "code",
      "metadata": {
        "id": "zhUm-3OMyHDX"
      },
      "source": [
        ""
      ],
      "execution_count": null,
      "outputs": []
    }
  ]
}